{
 "cells": [
  {
   "cell_type": "code",
   "execution_count": null,
   "metadata": {},
   "outputs": [],
   "source": [
    "!pip install lxml"
   ]
  },
  {
   "cell_type": "code",
   "execution_count": null,
   "metadata": {},
   "outputs": [],
   "source": [
    "!pip install bs4"
   ]
  },
  {
   "cell_type": "code",
   "execution_count": 1,
   "metadata": {},
   "outputs": [],
   "source": [
    "from scrapy.spiders import SitemapSpider"
   ]
  },
  {
   "cell_type": "code",
   "execution_count": 3,
   "metadata": {},
   "outputs": [],
   "source": [
    "from scrapy.spiders import CrawlSpider\n",
    "import scrapy\n",
    "from scrapy.spiders import CrawlSpider, Rule\n",
    "from scrapy.linkextractors import LinkExtractor\n",
    "import gc"
   ]
  },
  {
   "cell_type": "code",
   "execution_count": 4,
   "metadata": {},
   "outputs": [
    {
     "data": {
      "text/plain": [
       "9"
      ]
     },
     "execution_count": 4,
     "metadata": {},
     "output_type": "execute_result"
    }
   ],
   "source": [
    "gc.collect()"
   ]
  },
  {
   "cell_type": "code",
   "execution_count": 5,
   "metadata": {},
   "outputs": [
    {
     "name": "stderr",
     "output_type": "stream",
     "text": [
      "[nltk_data] Downloading package stopwords to /home/alex/nltk_data...\n",
      "[nltk_data]   Package stopwords is already up-to-date!\n",
      "[nltk_data] Downloading package wordnet to /home/alex/nltk_data...\n",
      "[nltk_data]   Package wordnet is already up-to-date!\n",
      "[nltk_data] Downloading package averaged_perceptron_tagger to\n",
      "[nltk_data]     /home/alex/nltk_data...\n",
      "[nltk_data]   Package averaged_perceptron_tagger is already up-to-\n",
      "[nltk_data]       date!\n",
      "[nltk_data] Downloading package maxent_ne_chunker to\n",
      "[nltk_data]     /home/alex/nltk_data...\n",
      "[nltk_data]   Package maxent_ne_chunker is already up-to-date!\n",
      "[nltk_data] Downloading package words to /home/alex/nltk_data...\n",
      "[nltk_data]   Package words is already up-to-date!\n"
     ]
    }
   ],
   "source": [
    "import nltk\n",
    "import re\n",
    "from nltk.tokenize import RegexpTokenizer\n",
    "from nltk.stem import WordNetLemmatizer\n",
    "from nltk.corpus import stopwords\n",
    "import numpy as np\n",
    "import math \n",
    "from nltk.corpus import wordnet\n",
    "import urllib.request\n",
    "from bs4 import BeautifulSoup\n",
    "from bs4.element import Comment\n",
    "import urllib.request\n",
    "import re\n",
    "import requests as req\n",
    "import pandas as pd\n",
    "import numpy as np\n",
    "\n",
    "import pymorphy2\n",
    "nltk.download('stopwords');\n",
    "english_stopwords = stopwords.words(\"english\");\n",
    "nltk.download('wordnet');\n",
    "nltk.download('averaged_perceptron_tagger');\n",
    "nltk.download('maxent_ne_chunker');\n",
    "nltk.download('words');\n",
    "lemmatizer = WordNetLemmatizer()\n",
    "tokenizer = RegexpTokenizer(r'\\w+')"
   ]
  },
  {
   "cell_type": "code",
   "execution_count": 6,
   "metadata": {},
   "outputs": [],
   "source": [
    "import pandas as pd\n",
    "import re\n",
    "df_help = pd.read_excel(\"help_title.xlsx\")\n",
    "df_help = df_help[[\"Раздел\", \"url_1\", \"Подраздел\", \"url_2\", \"Статья\", \"url_3\", \"Абзац\", \"url_4\"]]\n",
    "df_help.head();"
   ]
  },
  {
   "cell_type": "code",
   "execution_count": 7,
   "metadata": {},
   "outputs": [],
   "source": [
    "d_all_data = {}\n",
    "d1 = df_help.set_index(\"url_4\")[\"Абзац\"].to_dict()\n",
    "d2 = df_help.set_index(\"url_3\")[\"Статья\"].to_dict()\n",
    "d3 = df_help.set_index(\"url_2\")[\"Подраздел\"].to_dict()\n",
    "d4 = df_help.set_index(\"url_1\")[\"Раздел\"].to_dict()\n",
    "d_all_data = {**d1,**d2,**d3,**d4}"
   ]
  },
  {
   "cell_type": "code",
   "execution_count": 8,
   "metadata": {},
   "outputs": [
    {
     "data": {
      "text/plain": [
       "{'https://help.wrike.com/hc/en-us/articles/209603709-Tasks#create': 'Create a Task',\n",
       " 'https://help.wrike.com/hc/en-us/articles/209603709-Tasks#assign': 'Assign a Task',\n",
       " 'https://help.wrike.com/hc/en-us/articles/209603709-Tasks#schedule': 'Schedule a Task',\n",
       " 'https://help.wrike.com/hc/en-us/articles/209603709-Tasks#tag': 'Tag a Task (Organize Tasks into Folders)',\n",
       " 'https://help.wrike.com/hc/en-us/articles/209603709-Tasks#follow': 'Follow a Task',\n",
       " 'https://help.wrike.com/hc/en-us/articles/209603709-Tasks#unfollow': 'Unfollow a Task',\n",
       " 'https://help.wrike.com/hc/en-us/articles/209603709-Tasks#print': 'Print a Task',\n",
       " 'https://help.wrike.com/hc/en-us/articles/209603709-Tasks#depend': 'Add Dependencies to a Task',\n",
       " 'https://help.wrike.com/hc/en-us/articles/209603709-Tasks#viewing': 'Viewing Tasks',\n",
       " 'https://help.wrike.com/hc/en-us/articles/210323225-Task-View#overview': 'Overview',\n",
       " 'https://help.wrike.com/hc/en-us/articles/210323225-Task-View#navigate': 'Navigate the Task View',\n",
       " 'https://help.wrike.com/hc/en-us/articles/210323245-Subtasks#overview': 'Overview',\n",
       " 'https://help.wrike.com/hc/en-us/articles/210323245-Subtasks#important': 'Important Information',\n",
       " 'https://help.wrike.com/hc/en-us/articles/210323245-Subtasks#create': 'Create a\\xa0Subtask',\n",
       " 'https://help.wrike.com/hc/en-us/articles/210323245-Subtasks#view': \"View a Task's Subtasks\",\n",
       " 'https://help.wrike.com/hc/en-us/articles/210323245-Subtasks#edit': 'Edit Subtasks',\n",
       " 'https://help.wrike.com/hc/en-us/articles/210323245-Subtasks#convert': 'Convert a Task into a Subtask',\n",
       " 'https://help.wrike.com/hc/en-us/articles/210323245-Subtasks#convertsubtask': 'Convert a Subtask into a Task',\n",
       " 'https://help.wrike.com/hc/en-us/articles/210323245-Subtasks#multiple': 'Add a Subtask to Multiple Parent Tasks',\n",
       " 'https://help.wrike.com/hc/en-us/articles/210323245-Subtasks#change': 'Reorder Subtasks on the List View',\n",
       " 'https://help.wrike.com/hc/en-us/articles/115005055469-Subtask-Alignment-#overview': 'Important Information',\n",
       " 'https://help.wrike.com/hc/en-us/articles/115005055469-Subtask-Alignment-#expanding': 'Expanding Parent Task Dates',\n",
       " 'https://help.wrike.com/hc/en-us/articles/115005055469-Subtask-Alignment-#shifting': 'Shifting Task Dates',\n",
       " 'https://help.wrike.com/hc/en-us/articles/115005055469-Subtask-Alignment-#exceptions': 'Exceptions',\n",
       " 'https://help.wrike.com/hc/en-us/articles/115005055469-Subtask-Alignment-#disable': 'Disable Alignment Pop-Up',\n",
       " 'https://help.wrike.com/hc/en-us/articles/209603309-Attachments#overview': 'Overview',\n",
       " 'https://help.wrike.com/hc/en-us/articles/209603309-Attachments#attachfile': 'Attach a File',\n",
       " 'https://help.wrike.com/hc/en-us/articles/209603309-Attachments#edit': 'Edit Attached Files',\n",
       " 'https://help.wrike.com/hc/en-us/articles/209603309-Attachments#create': 'Create a Google Drive File From Wrike',\n",
       " 'https://help.wrike.com/hc/en-us/articles/209603309-Attachments#download': 'Download Attachments',\n",
       " 'https://help.wrike.com/hc/en-us/articles/209603309-Attachments#delete': 'Delete Attachments',\n",
       " 'https://help.wrike.com/hc/en-us/articles/209603309-Attachments#more': 'More Info',\n",
       " 'https://help.wrike.com/hc/en-us/articles/209603689-Milestones#overviewmilestones': 'Overview',\n",
       " 'https://help.wrike.com/hc/en-us/articles/209603689-Milestones#importantmilestones': 'Important Information',\n",
       " 'https://help.wrike.com/hc/en-us/articles/209603689-Milestones#create': 'Create a Milestone Task',\n",
       " 'https://help.wrike.com/hc/en-us/articles/209603689-Milestones#gantt': 'Milestones on the Gantt Chart',\n",
       " 'not found': 'Set Up OneLogin Integration',\n",
       " 'https://help.wrike.com/hc/en-us/articles/210323325-List-View-Sorting-and-Prioritizing-Tasks#overview': 'Overview',\n",
       " 'https://help.wrike.com/hc/en-us/articles/210323325-List-View-Sorting-and-Prioritizing-Tasks#important': 'Important Information',\n",
       " 'https://help.wrike.com/hc/en-us/articles/210323325-List-View-Sorting-and-Prioritizing-Tasks#sorting': 'Sorting Options',\n",
       " 'https://help.wrike.com/hc/en-us/articles/210323325-List-View-Sorting-and-Prioritizing-Tasks#change': 'Change How Tasks are Sorted',\n",
       " 'https://help.wrike.com/hc/en-us/articles/209603889-Mass-Editing#overview': 'Overview',\n",
       " 'https://help.wrike.com/hc/en-us/articles/209603889-Mass-Editing#important': 'Important Information',\n",
       " 'https://help.wrike.com/hc/en-us/articles/209603889-Mass-Editing#mass': 'Mass Edit Tasks',\n",
       " 'https://help.wrike.com/hc/en-us/articles/209603889-Mass-Editing#available': 'Available Mass Editing Options',\n",
       " 'https://help.wrike.com/hc/en-us/articles/209603849-Sharing-Tasks#overview': 'Overview',\n",
       " 'https://help.wrike.com/hc/en-us/articles/209603849-Sharing-Tasks#important': 'Important Information',\n",
       " 'https://help.wrike.com/hc/en-us/articles/209603849-Sharing-Tasks#share': 'Share a Task',\n",
       " 'https://help.wrike.com/hc/en-us/articles/209603849-Sharing-Tasks#unshare': 'Unshare a Task',\n",
       " 'https://help.wrike.com/hc/en-us/articles/209603849-Sharing-Tasks#view': 'View Who a Task is Shared With',\n",
       " 'https://help.wrike.com/hc/en-us/articles/209603869-Duplicate-Tasks-and-Subtasks#overview': 'Overview',\n",
       " 'https://help.wrike.com/hc/en-us/articles/209603869-Duplicate-Tasks-and-Subtasks#important': 'Important Information',\n",
       " 'https://help.wrike.com/hc/en-us/articles/209603869-Duplicate-Tasks-and-Subtasks#duplicate': 'What Information is\\xa0Copied When You\\xa0Duplicate Tasks',\n",
       " 'https://help.wrike.com/hc/en-us/articles/115005179609-Star-a-Task#overview': 'Overview',\n",
       " 'https://help.wrike.com/hc/en-us/articles/115005179609-Star-a-Task#important': 'Important Information',\n",
       " 'https://help.wrike.com/hc/en-us/articles/115005179609-Star-a-Task#star': 'Star a Task',\n",
       " 'https://help.wrike.com/hc/en-us/articles/209603829-Importance#overview': 'Overview',\n",
       " 'https://help.wrike.com/hc/en-us/articles/209603829-Importance#set': 'Set Task Importance',\n",
       " 'https://help.wrike.com/hc/en-us/articles/209603789-Task-Status#overview': 'Overview',\n",
       " 'https://help.wrike.com/hc/en-us/articles/209603789-Task-Status#important': 'Available Task Statuses',\n",
       " 'https://help.wrike.com/hc/en-us/articles/209603789-Task-Status#change': \"Change a Task's Status\",\n",
       " 'https://help.wrike.com/hc/en-us/articles/209603729-Request-a-Status-Update#overview': 'Overview',\n",
       " 'https://help.wrike.com/hc/en-us/articles/209603729-Request-a-Status-Update#request': 'Request a Status Update',\n",
       " 'https://help.wrike.com/hc/en-us/articles/209603769-Make-a-Task-Recurrent#overview': 'Overview',\n",
       " 'https://help.wrike.com/hc/en-us/articles/209603769-Make-a-Task-Recurrent#important': 'Important Information',\n",
       " 'https://help.wrike.com/hc/en-us/articles/209603769-Make-a-Task-Recurrent#make': 'Make a Task Recurrent',\n",
       " 'https://help.wrike.com/hc/en-us/articles/209603769-Make-a-Task-Recurrent#edit': 'Edit a Recurrence',\n",
       " 'https://help.wrike.com/hc/en-us/articles/209603769-Make-a-Task-Recurrent#resume': 'Resume a Recurrence',\n",
       " 'https://help.wrike.com/hc/en-us/articles/209603769-Make-a-Task-Recurrent#delete': 'Delete a Recurrence',\n",
       " 'https://help.wrike.com/hc/en-us/articles/209603769-Make-a-Task-Recurrent#more': 'More Resources',\n",
       " 'https://help.wrike.com/hc/en-us/articles/210323305-Delete-Tasks#delete': 'Delete a Task',\n",
       " 'https://help.wrike.com/hc/en-us/articles/210323305-Delete-Tasks#deletetask': 'Deleting a Task with Subtasks',\n",
       " 'https://help.wrike.com/hc/en-us/articles/210323305-Delete-Tasks#restore': 'Restore a Deleted Task',\n",
       " 'https://help.wrike.com/hc/en-us/articles/210323305-Delete-Tasks#permanently': 'Permanently Delete a Task',\n",
       " 'https://help.wrike.com/hc/en-us/articles/209603749-Print-Tasks#overview': 'Overview',\n",
       " 'https://help.wrike.com/hc/en-us/articles/209603749-Print-Tasks#printtask': 'Print a Task',\n",
       " 'https://help.wrike.com/hc/en-us/articles/209603749-Print-Tasks#print': 'Print a Task List',\n",
       " 'https://help.wrike.com/hc/en-us/articles/209603609-Create-Color-Code-and-Edit-Folders-and-Projects#overview': 'Overview',\n",
       " 'https://help.wrike.com/hc/en-us/articles/209603609-Create-Color-Code-and-Edit-Folders-and-Projects#create-folder': 'Create a Folder',\n",
       " 'https://help.wrike.com/hc/en-us/articles/209603609-Create-Color-Code-and-Edit-Folders-and-Projects#color': 'Change Folder Color',\n",
       " 'https://help.wrike.com/hc/en-us/articles/209603609-Create-Color-Code-and-Edit-Folders-and-Projects#edit': 'Edit a Folder',\n",
       " 'https://help.wrike.com/hc/en-us/articles/209603389-Folder-and-Project-Info-Panels#open': 'Open a Folder or Project’s Info Panel',\n",
       " 'https://help.wrike.com/hc/en-us/articles/209603389-Folder-and-Project-Info-Panels#navigate': 'Navigate Info Panels',\n",
       " 'https://help.wrike.com/hc/en-us/articles/209603489-Projects#overview': 'Overview',\n",
       " 'https://help.wrike.com/hc/en-us/articles/209603489-Projects#vs': 'Projects vs. Folders',\n",
       " 'https://help.wrike.com/hc/en-us/articles/209603489-Projects#attributes': 'Project Attributes',\n",
       " 'https://help.wrike.com/hc/en-us/articles/209603489-Projects#rollup': 'Roll Up Project Dates',\n",
       " 'https://help.wrike.com/hc/en-us/articles/209603489-Projects#timespent': 'Roll Up Time Spent on a Project',\n",
       " 'https://help.wrike.com/hc/en-us/articles/209603489-Projects#timeline': 'Projects on the Gantt Chart',\n",
       " 'https://help.wrike.com/hc/en-us/articles/209603489-Projects#more': 'More Info',\n",
       " 'https://help.wrike.com/hc/en-us/articles/115001778165-Project-Wizard-and-Default-View-Picker#overview': 'Overview',\n",
       " 'https://help.wrike.com/hc/en-us/articles/115001778165-Project-Wizard-and-Default-View-Picker#use': 'Use the Wizard',\n",
       " 'https://help.wrike.com/hc/en-us/articles/115001778165-Project-Wizard-and-Default-View-Picker#change': 'Change the Default View',\n",
       " 'https://help.wrike.com/hc/en-us/articles/209603649-Subfolders-and-Subprojects#overview': 'Overview',\n",
       " 'https://help.wrike.com/hc/en-us/articles/209603649-Subfolders-and-Subprojects#important': 'Important Information',\n",
       " 'https://help.wrike.com/hc/en-us/articles/209603649-Subfolders-and-Subprojects#create': 'Create a Subfolder or Subproject',\n",
       " 'https://help.wrike.com/hc/en-us/articles/209603649-Subfolders-and-Subprojects#convert': 'Convert Existing Folders and Projects',\n",
       " 'https://help.wrike.com/hc/en-us/articles/209603669-Sharing-Folders-and-Projects#overview': 'Overview',\n",
       " 'https://help.wrike.com/hc/en-us/articles/209603669-Sharing-Folders-and-Projects#share': 'Share a Folder or Project',\n",
       " 'https://help.wrike.com/hc/en-us/articles/209603669-Sharing-Folders-and-Projects#unshare': 'Unshare a Folder or Project',\n",
       " 'https://help.wrike.com/hc/en-us/articles/209603669-Sharing-Folders-and-Projects#view': 'View Who a Folder or Project is Shared With',\n",
       " 'https://help.wrike.com/hc/en-us/articles/209603589-Access-Roles#overview': 'Overview',\n",
       " 'https://help.wrike.com/hc/en-us/articles/209603589-Access-Roles#important': 'Important Information',\n",
       " 'https://help.wrike.com/hc/en-us/articles/209603589-Access-Roles#permissions': 'Access Roles Permissions',\n",
       " 'https://help.wrike.com/hc/en-us/articles/209603589-Access-Roles#create': 'Customize Access Roles',\n",
       " 'https://help.wrike.com/hc/en-us/articles/209603589-Access-Roles#delete': 'Delete an Access Role',\n",
       " 'https://help.wrike.com/hc/en-us/articles/209603589-Access-Roles#change': \"Change a User or Group's Access Role\",\n",
       " 'https://help.wrike.com/hc/en-us/articles/209603589-Access-Roles#inherited': 'Inherited Access Roles',\n",
       " 'https://help.wrike.com/hc/en-us/articles/209603589-Access-Roles#groups': 'Access Roles and User Groups',\n",
       " 'https://help.wrike.com/hc/en-us/articles/210323005-Duplicate-a-Folder-or-Project#overview': 'Overview',\n",
       " 'https://help.wrike.com/hc/en-us/articles/210323005-Duplicate-a-Folder-or-Project#important': 'Important Information',\n",
       " 'https://help.wrike.com/hc/en-us/articles/210323005-Duplicate-a-Folder-or-Project#duplicate': 'Duplicate a Folder or Project',\n",
       " 'https://help.wrike.com/hc/en-us/articles/210322965-Delete-a-Folder-or-Project#overview': 'Overview',\n",
       " 'https://help.wrike.com/hc/en-us/articles/210322965-Delete-a-Folder-or-Project#delete': 'Delete a Folder or Project',\n",
       " 'https://help.wrike.com/hc/en-us/articles/210322965-Delete-a-Folder-or-Project#permanently': 'Restore Deleted Folders and Projects',\n",
       " 'https://help.wrike.com/hc/en-us/articles/360010428113-Project-Progress#overview': 'Overview',\n",
       " 'https://help.wrike.com/hc/en-us/articles/360010428113-Project-Progress#important': 'Important Information',\n",
       " 'https://help.wrike.com/hc/en-us/articles/360010428113-Project-Progress#enable': 'Enable/Disable Project Progress',\n",
       " 'https://help.wrike.com/hc/en-us/articles/360010428113-Project-Progress#progress': 'Access Progress Panel',\n",
       " 'https://help.wrike.com/hc/en-us/articles/360010428113-Project-Progress#metrics': nan,\n",
       " 'https://help.wrike.com/hc/en-us/articles/360010428113-Project-Progress#enable_metrics': 'Enable/Disable Progress Metrics',\n",
       " 'https://help.wrike.com/hc/en-us/articles/360010428113-Project-Progress#color': 'Project Health Color-Coding',\n",
       " 'https://help.wrike.com/hc/en-us/articles/360020311174-Spaces-Overview#overview': 'Overview',\n",
       " 'https://help.wrike.com/hc/en-us/articles/360020311174-Spaces-Overview#important': 'Important Information',\n",
       " 'https://help.wrike.com/hc/en-us/articles/360020311174-Spaces-Overview#types': 'Types of Spaces',\n",
       " 'https://help.wrike.com/hc/en-us/articles/360020311174-Spaces-Overview#create': 'Create a Space',\n",
       " 'https://help.wrike.com/hc/en-us/articles/360020311174-Spaces-Overview#join': 'Join a Public Space',\n",
       " 'https://help.wrike.com/hc/en-us/articles/360020311174-Spaces-Overview#work': 'Work in Spaces',\n",
       " 'https://help.wrike.com/hc/en-us/articles/360020311174-Spaces-Overview#add': 'Add Folders and Projects to a Space',\n",
       " 'https://help.wrike.com/hc/en-us/articles/360020311174-Spaces-Overview#leave': 'Leave a Space',\n",
       " 'https://help.wrike.com/hc/en-us/articles/360034765174-Personal-Space#overview': 'Overview',\n",
       " 'https://help.wrike.com/hc/en-us/articles/360034765174-Personal-Space#todo': '“My To-Do” in Personal Space',\n",
       " 'https://help.wrike.com/hc/en-us/articles/360034765174-Personal-Space#created': '“Created by Me” in Personal Space',\n",
       " 'https://help.wrike.com/hc/en-us/articles/360017905033-Manage-Spaces-for-Space-Admins-#overview': 'Overview',\n",
       " 'https://help.wrike.com/hc/en-us/articles/360017905033-Manage-Spaces-for-Space-Admins-#important': 'Important Information',\n",
       " 'https://help.wrike.com/hc/en-us/articles/360017905033-Manage-Spaces-for-Space-Admins-#assign': 'Assign Space Admin Role',\n",
       " 'https://help.wrike.com/hc/en-us/articles/360017905033-Manage-Spaces-for-Space-Admins-#edit_settings': 'Edit Space Settings',\n",
       " 'https://help.wrike.com/hc/en-us/articles/360017905033-Manage-Spaces-for-Space-Admins-#set': 'Set Default and Recommended Workflows',\n",
       " 'https://help.wrike.com/hc/en-us/articles/360017905033-Manage-Spaces-for-Space-Admins-#invite': 'Invite Users to a Space',\n",
       " 'https://help.wrike.com/hc/en-us/articles/360017905033-Manage-Spaces-for-Space-Admins-#remove': 'Remove Members from a Space',\n",
       " 'https://help.wrike.com/hc/en-us/articles/360017905033-Manage-Spaces-for-Space-Admins-#create': 'Create Request Forms in Spaces',\n",
       " 'https://help.wrike.com/hc/en-us/articles/360017905033-Manage-Spaces-for-Space-Admins-#manage': 'Manage Request Forms in Spaces',\n",
       " 'https://help.wrike.com/hc/en-us/articles/360017905033-Manage-Spaces-for-Space-Admins-#edit_info': 'Edit Space Info',\n",
       " 'https://help.wrike.com/hc/en-us/articles/360017905033-Manage-Spaces-for-Space-Admins-#archive': 'Archive a Space',\n",
       " 'https://help.wrike.com/hc/en-us/articles/360017905033-Manage-Spaces-for-Space-Admins-#delete': 'Delete a Space',\n",
       " 'https://help.wrike.com/hc/en-us/articles/360021667233-Bookmarks#overview': 'Overview',\n",
       " 'https://help.wrike.com/hc/en-us/articles/360021667233-Bookmarks#types': 'Bookmark Types',\n",
       " 'https://help.wrike.com/hc/en-us/articles/360021667233-Bookmarks#add': 'Add a Bookmark',\n",
       " 'https://help.wrike.com/hc/en-us/articles/360021667233-Bookmarks#delete': 'Delete a Bookmark',\n",
       " 'https://help.wrike.com/hc/en-us/articles/360021667233-Bookmarks#create': 'Create a Section',\n",
       " 'https://help.wrike.com/hc/en-us/articles/360021667233-Bookmarks#rename': 'Rename a Section',\n",
       " 'https://help.wrike.com/hc/en-us/articles/360021667233-Bookmarks#rearrange': 'Rearrange Sections',\n",
       " 'https://help.wrike.com/hc/en-us/articles/360021667233-Bookmarks#section': 'Delete a Section',\n",
       " 'https://help.wrike.com/hc/en-us/articles/360021667233-Bookmarks#move': 'Move Objects Between Sections',\n",
       " 'https://help.wrike.com/hc/en-us/articles/360045949974-Wrike-Proof-for-HTML#overview': 'Overview',\n",
       " 'https://help.wrike.com/hc/en-us/articles/360045949974-Wrike-Proof-for-HTML#important': 'Important Information',\n",
       " 'https://help.wrike.com/hc/en-us/articles/360045949974-Wrike-Proof-for-HTML#add': 'Add Links in Proofing',\n",
       " 'https://help.wrike.com/hc/en-us/articles/360045949974-Wrike-Proof-for-HTML#open': 'Open Links in Proofing',\n",
       " 'https://help.wrike.com/hc/en-us/articles/360023006313-Approvals#overview': 'Overview',\n",
       " 'https://help.wrike.com/hc/en-us/articles/360023006313-Approvals#important': 'Important Information',\n",
       " 'https://help.wrike.com/hc/en-us/articles/360023006313-Approvals#add': 'Add Approvals in Tasks, Folders and Projects',\n",
       " 'https://help.wrike.com/hc/en-us/articles/360023006313-Approvals#approve': 'Approve a Task, Folder or a Project',\n",
       " 'https://help.wrike.com/hc/en-us/articles/360023006313-Approvals#workflow': 'Add Approvals to Your Workflow',\n",
       " 'https://help.wrike.com/hc/en-us/articles/360023006313-Approvals#forms': 'Approvals in Request Forms',\n",
       " 'https://help.wrike.com/hc/en-us/articles/360023006313-Approvals#details': 'See Details of Finished Approvals',\n",
       " 'https://help.wrike.com/hc/en-us/articles/210322845-Proofing#overview': 'Overview',\n",
       " 'https://help.wrike.com/hc/en-us/articles/210322845-Proofing#compatible': 'Compatible File Types',\n",
       " 'https://help.wrike.com/hc/en-us/articles/210322845-Proofing#proofing': 'Proofing in Wrike',\n",
       " 'https://help.wrike.com/hc/en-us/articles/210322845-Proofing#export': 'Wrike Proof Comment Export',\n",
       " 'https://help.wrike.com/hc/en-us/articles/210322845-Proofing#video': 'Video Proofing',\n",
       " 'https://help.wrike.com/hc/en-us/articles/210322845-Proofing#comparison': 'Comparison Mode',\n",
       " 'https://help.wrike.com/hc/en-us/articles/210325065-File-Approvals#overview': 'Overview',\n",
       " 'https://help.wrike.com/hc/en-us/articles/210325065-File-Approvals#compatible': 'Add Files to Approvals',\n",
       " 'https://help.wrike.com/hc/en-us/articles/210325065-File-Approvals#review': 'Remove a File From the Approval Process',\n",
       " 'https://help.wrike.com/hc/en-us/articles/360009639733-Guest-Reviews#overview': 'Overview',\n",
       " 'https://help.wrike.com/hc/en-us/articles/360009639733-Guest-Reviews#important': 'Important Information',\n",
       " 'https://help.wrike.com/hc/en-us/articles/360009639733-Guest-Reviews#compatible': 'Compatible File Types',\n",
       " 'https://help.wrike.com/hc/en-us/articles/360009639733-Guest-Reviews#invite': 'Invite Guest Users to Review Files',\n",
       " 'https://help.wrike.com/hc/en-us/articles/360009639733-Guest-Reviews#edit': 'Edit Guest Users Settings',\n",
       " 'https://help.wrike.com/hc/en-us/articles/360009639733-Guest-Reviews#revoke': 'Revoke Access to Files',\n",
       " 'https://help.wrike.com/hc/en-us/articles/360009639733-Guest-Reviews#settings': 'Guest Review Security Settings',\n",
       " 'https://help.wrike.com/hc/en-us/articles/360009639733-Guest-Reviews#more': 'More Info',\n",
       " 'https://help.wrike.com/hc/en-us/articles/360009722693-Review-and-Approve-Files-for-Guest-Users-#overview': 'Overview',\n",
       " 'https://help.wrike.com/hc/en-us/articles/360009722693-Review-and-Approve-Files-for-Guest-Users-#review': 'Review Work Assigned to You (for Guest Users)',\n",
       " 'https://help.wrike.com/hc/en-us/articles/360009722693-Review-and-Approve-Files-for-Guest-Users-#email': 'Email Notifications to Guest Users',\n",
       " 'https://help.wrike.com/hc/en-us/articles/360009722693-Review-and-Approve-Files-for-Guest-Users-#create': 'Overview',\n",
       " 'https://help.wrike.com/hc/en-us/articles/360010504274-Wrike-Publish-MediaValet-Integration#important': 'Important Information',\n",
       " 'https://help.wrike.com/hc/en-us/articles/360010504274-Wrike-Publish-MediaValet-Integration#enable': 'Enable the MediaValet Integration',\n",
       " 'https://help.wrike.com/hc/en-us/articles/360010504274-Wrike-Publish-MediaValet-Integration#publish': 'Publish Files to MediaValet',\n",
       " 'https://help.wrike.com/hc/en-us/articles/360010504274-Wrike-Publish-MediaValet-Integration#attach': 'Attach Files from MediaValet',\n",
       " 'https://help.wrike.com/hc/en-us/articles/360010504274-Wrike-Publish-MediaValet-Integration#map': 'Map Custom Fields to MediaValet Attributes',\n",
       " 'https://help.wrike.com/hc/en-us/articles/360024472793-Wrike-Publish-Bynder-Integration#overview': 'Overview',\n",
       " 'https://help.wrike.com/hc/en-us/articles/360024472793-Wrike-Publish-Bynder-Integration#important': 'Important Information',\n",
       " 'https://help.wrike.com/hc/en-us/articles/360024472793-Wrike-Publish-Bynder-Integration#enable': 'Enable the Bynder Integration',\n",
       " 'https://help.wrike.com/hc/en-us/articles/360024472793-Wrike-Publish-Bynder-Integration#publish': 'Publish Files to Bynder',\n",
       " 'https://help.wrike.com/hc/en-us/articles/360024472793-Wrike-Publish-Bynder-Integration#attach': 'Map Custom Fields to Bynder Metaproperties',\n",
       " 'https://help.wrike.com/hc/en-us/articles/360008551493-Description-Field#overview': 'Text Editing and Formatting Tools',\n",
       " 'https://help.wrike.com/hc/en-us/articles/360008551493-Description-Field#images': 'Images in the Description Field',\n",
       " 'https://help.wrike.com/hc/en-us/articles/360008551493-Description-Field#tables': 'Tables in the Description Field',\n",
       " 'https://help.wrike.com/hc/en-us/articles/360008551493-Description-Field#description': 'Description Updates in the Activity Stream',\n",
       " 'https://help.wrike.com/hc/en-us/articles/360008551493-Description-Field#track': 'Track Changes in the Description Field',\n",
       " 'https://help.wrike.com/hc/en-us/articles/210322865-Document-Editor#overview': 'Overview',\n",
       " 'https://help.wrike.com/hc/en-us/articles/210322865-Document-Editor#edit': 'Edit a File with the Document Editor',\n",
       " 'https://help.wrike.com/hc/en-us/articles/210322865-Document-Editor#install': 'Configure your browser (if necessary)',\n",
       " 'https://help.wrike.com/hc/en-us/articles/209603269--mentions#overview': 'Overview',\n",
       " 'https://help.wrike.com/hc/en-us/articles/209603269--mentions#important': 'Important Information',\n",
       " 'https://help.wrike.com/hc/en-us/articles/209603269--mentions#mentionrights': 'Mention Rights',\n",
       " 'https://help.wrike.com/hc/en-us/articles/209603269--mentions#mention': 'Mention Teammates Individually',\n",
       " 'https://help.wrike.com/hc/en-us/articles/209603269--mentions#others': 'Mention Segments of People',\n",
       " 'https://help.wrike.com/hc/en-us/articles/209603269--mentions#more': 'More Info',\n",
       " 'https://help.wrike.com/hc/en-us/articles/210322825-Comments#overview': 'Overview',\n",
       " 'https://help.wrike.com/hc/en-us/articles/210322825-Comments#add': 'Format Comment',\n",
       " 'https://help.wrike.com/hc/en-us/articles/210322825-Comments#use': 'Use Comment Reactions',\n",
       " 'https://help.wrike.com/hc/en-us/articles/210322825-Comments#reply': 'Reply to a Comment or Update',\n",
       " 'https://help.wrike.com/hc/en-us/articles/210322825-Comments#view': 'View Comments',\n",
       " 'https://help.wrike.com/hc/en-us/articles/210322825-Comments#edit': 'Edit Comments',\n",
       " 'https://help.wrike.com/hc/en-us/articles/210322825-Comments#quote': 'Quote Text in a Comment',\n",
       " 'https://help.wrike.com/hc/en-us/articles/210322825-Comments#delete': 'Delete a Comment',\n",
       " 'https://help.wrike.com/hc/en-us/articles/210322825-Comments#shortcut': 'Choose a Shortcut for Adding a Comment',\n",
       " 'https://help.wrike.com/hc/en-us/articles/210322825-Comments#more': 'More Info',\n",
       " 'https://help.wrike.com/hc/en-us/articles/210322805-Permalink#overview': 'Overview',\n",
       " 'https://help.wrike.com/hc/en-us/articles/210322805-Permalink#important': 'Important Information',\n",
       " 'https://help.wrike.com/hc/en-us/articles/210322805-Permalink#cross-link': 'Find Permalinks',\n",
       " 'https://help.wrike.com/hc/en-us/articles/209602969-Sharing#overview': 'Overview',\n",
       " 'https://help.wrike.com/hc/en-us/articles/209602969-Sharing#important': 'What Sharing\\xa0Entails',\n",
       " 'https://help.wrike.com/hc/en-us/articles/209602969-Sharing#private': 'Private Tasks, Folders, and Projects',\n",
       " 'https://help.wrike.com/hc/en-us/articles/209602969-Sharing#inherited': 'Inherited Sharing',\n",
       " 'https://help.wrike.com/hc/en-us/articles/209602969-Sharing#about': 'How to Turn On Selective Sharing for a Folder or Project',\n",
       " 'https://help.wrike.com/hc/en-us/articles/209602969-Sharing#more': 'More Info',\n",
       " 'https://help.wrike.com/hc/en-us/articles/360008063354-Share-Tasks-Folders-and-Projects-Free-and-Professional-#overview': 'Overview',\n",
       " 'https://help.wrike.com/hc/en-us/articles/360008063354-Share-Tasks-Folders-and-Projects-Free-and-Professional-#important': 'Important Information',\n",
       " 'https://help.wrike.com/hc/en-us/articles/360008063354-Share-Tasks-Folders-and-Projects-Free-and-Professional-#share-folder': 'Share a Folder or Project',\n",
       " 'https://help.wrike.com/hc/en-us/articles/360008063354-Share-Tasks-Folders-and-Projects-Free-and-Professional-#unshare-folder': 'Unshare a Folder or Project',\n",
       " 'https://help.wrike.com/hc/en-us/articles/360008063354-Share-Tasks-Folders-and-Projects-Free-and-Professional-#share-task': 'Share a Task',\n",
       " 'https://help.wrike.com/hc/en-us/articles/360008063354-Share-Tasks-Folders-and-Projects-Free-and-Professional-#unshare-task': 'Unshare a Task',\n",
       " 'https://help.wrike.com/hc/en-us/articles/360008063354-Share-Tasks-Folders-and-Projects-Free-and-Professional-#cant-unsharer': 'Items You Can’t Unshare',\n",
       " 'https://help.wrike.com/hc/en-us/articles/360008063354-Share-Tasks-Folders-and-Projects-Free-and-Professional-#more': 'More Info',\n",
       " 'https://help.wrike.com/hc/en-us/articles/360012344933-Share-Tasks-Folders-and-Projects-Business-and-Enterprise-#overview': 'Overview',\n",
       " 'https://help.wrike.com/hc/en-us/articles/360012344933-Share-Tasks-Folders-and-Projects-Business-and-Enterprise-#important': 'Important Information',\n",
       " 'https://help.wrike.com/hc/en-us/articles/360012344933-Share-Tasks-Folders-and-Projects-Business-and-Enterprise-#share-folder': 'Share a Folder or Project',\n",
       " 'https://help.wrike.com/hc/en-us/articles/360012344933-Share-Tasks-Folders-and-Projects-Business-and-Enterprise-#unshare-folder': 'Unshare a Folder or Project',\n",
       " 'https://help.wrike.com/hc/en-us/articles/360012344933-Share-Tasks-Folders-and-Projects-Business-and-Enterprise-#selective': 'Selective Sharing',\n",
       " 'https://help.wrike.com/hc/en-us/articles/360012344933-Share-Tasks-Folders-and-Projects-Business-and-Enterprise-#share-task': 'Share a Task',\n",
       " 'https://help.wrike.com/hc/en-us/articles/360012344933-Share-Tasks-Folders-and-Projects-Business-and-Enterprise-#unshare-task': 'Unshare a Task',\n",
       " 'https://help.wrike.com/hc/en-us/articles/360012344933-Share-Tasks-Folders-and-Projects-Business-and-Enterprise-#items': 'Items You Can’t Unshare',\n",
       " 'https://help.wrike.com/hc/en-us/articles/360012344933-Share-Tasks-Folders-and-Projects-Business-and-Enterprise-#more': 'More Info',\n",
       " 'https://help.wrike.com/hc/en-us/articles/209602929-Following#overview': 'Overview',\n",
       " 'https://help.wrike.com/hc/en-us/articles/209602929-Following#important': 'Important Information',\n",
       " 'https://help.wrike.com/hc/en-us/articles/209602929-Following#follow': 'Follow a Folder or Project',\n",
       " 'https://help.wrike.com/hc/en-us/articles/209602929-Following#add': 'Remove Others from\\xa0Following a Folder or Project',\n",
       " 'https://help.wrike.com/hc/en-us/articles/360036858954-Calculated-Custom-Fields#overview': 'Overview',\n",
       " 'https://help.wrike.com/hc/en-us/articles/360036858954-Calculated-Custom-Fields#important': 'Important Information',\n",
       " 'https://help.wrike.com/hc/en-us/articles/360036858954-Calculated-Custom-Fields#create': 'Create a Calculated Custom Field',\n",
       " 'https://help.wrike.com/hc/en-us/articles/360036858954-Calculated-Custom-Fields#write': 'Possible Formulas\\xa0& Resulting Data Types',\n",
       " 'https://help.wrike.com/hc/en-us/articles/360036858954-Calculated-Custom-Fields#color': 'Color-Code Calculation Results',\n",
       " 'https://help.wrike.com/hc/en-us/articles/360013445394-Blueprints#overview': 'Overview',\n",
       " 'https://help.wrike.com/hc/en-us/articles/360013445394-Blueprints#important': 'Important Information',\n",
       " 'https://help.wrike.com/hc/en-us/articles/360013445394-Blueprints#create': 'Create a Blueprint',\n",
       " 'https://help.wrike.com/hc/en-us/articles/360013445394-Blueprints#use': 'Use a Blueprint',\n",
       " 'https://help.wrike.com/hc/en-us/articles/360013445394-Blueprints#requests': 'Request Forms and Blueprints',\n",
       " 'https://help.wrike.com/hc/en-us/articles/360013445394-Blueprints#more': 'More Info',\n",
       " 'https://help.wrike.com/hc/en-us/articles/210322725-Keyboard-Shortcuts#overview': 'Overview',\n",
       " 'https://help.wrike.com/hc/en-us/articles/210322725-Keyboard-Shortcuts#available': 'Available Shortcuts',\n",
       " 'https://help.wrike.com/hc/en-us/articles/210322725-Keyboard-Shortcuts#gantt': 'Gantt Chart Shortcuts',\n",
       " 'https://help.wrike.com/hc/en-us/articles/209603049-Custom-Fields#overview': 'Overview',\n",
       " 'https://help.wrike.com/hc/en-us/articles/209603049-Custom-Fields#important': 'Important Information',\n",
       " 'https://help.wrike.com/hc/en-us/articles/209603049-Custom-Fields#create': 'Create, Add, and View Custom Fields',\n",
       " 'https://help.wrike.com/hc/en-us/articles/209603049-Custom-Fields#customize': 'Field Properties',\n",
       " 'https://help.wrike.com/hc/en-us/articles/209603049-Custom-Fields#share': 'Share Custom Fields',\n",
       " 'https://help.wrike.com/hc/en-us/articles/209603049-Custom-Fields#edit': 'Edit Custom Fields',\n",
       " 'https://help.wrike.com/hc/en-us/articles/209603049-Custom-Fields#history': 'Custom Field History',\n",
       " 'https://help.wrike.com/hc/en-us/articles/209603049-Custom-Fields#roll': 'Roll Up Custom Fields',\n",
       " 'https://help.wrike.com/hc/en-us/articles/209603049-Custom-Fields#rollup': 'Aggregate and Sort Custom Field Data',\n",
       " 'https://help.wrike.com/hc/en-us/articles/209603049-Custom-Fields#vs': 'Custom Field Data Rollup vs. Data Aggregation',\n",
       " 'https://help.wrike.com/hc/en-us/articles/209603049-Custom-Fields#viewing': 'Arrange Custom Fields on the Table View',\n",
       " 'https://help.wrike.com/hc/en-us/articles/209603049-Custom-Fields#hide': 'Hide Custom Fields',\n",
       " 'https://help.wrike.com/hc/en-us/articles/209603049-Custom-Fields#advanced': 'Usage Tips',\n",
       " 'https://help.wrike.com/hc/en-us/articles/360010049154-Custom-Field-Management#overview': 'Overview',\n",
       " 'https://help.wrike.com/hc/en-us/articles/360010049154-Custom-Field-Management#open': 'Open Custom Field Management',\n",
       " 'https://help.wrike.com/hc/en-us/articles/360010049154-Custom-Field-Management#create-add': 'Create and Add Custom Fields',\n",
       " 'https://help.wrike.com/hc/en-us/articles/360010049154-Custom-Field-Management#edit': 'Edit a Custom Field',\n",
       " 'https://help.wrike.com/hc/en-us/articles/360010049154-Custom-Field-Management#remove': 'Remove a Custom Field',\n",
       " 'https://help.wrike.com/hc/en-us/articles/360003549734-Onboarding-Templates#overview': 'Important Information',\n",
       " 'https://help.wrike.com/hc/en-us/articles/360003549734-Onboarding-Templates#available': 'Available Guides & When to Use Them',\n",
       " 'https://help.wrike.com/hc/en-us/articles/360003549734-Onboarding-Templates#add': 'Use a Template',\n",
       " 'https://help.wrike.com/hc/en-us/articles/210322785-Custom-Statuses-and-Workflows#default': 'Overview',\n",
       " 'https://help.wrike.com/hc/en-us/articles/210322785-Custom-Statuses-and-Workflows#important': 'Important Information',\n",
       " 'https://help.wrike.com/hc/en-us/articles/210322785-Custom-Statuses-and-Workflows#edit': 'Create a Custom\\xa0Workflow',\n",
       " 'https://help.wrike.com/hc/en-us/articles/210322785-Custom-Statuses-and-Workflows#apply': 'Apply a Custom Workflow',\n",
       " 'https://help.wrike.com/hc/en-us/articles/210322785-Custom-Statuses-and-Workflows#editcustom': 'Edit a Custom Workflow',\n",
       " 'https://help.wrike.com/hc/en-us/articles/210322785-Custom-Statuses-and-Workflows#duplicate': 'Duplicate a Workflow',\n",
       " 'https://help.wrike.com/hc/en-us/articles/210322785-Custom-Statuses-and-Workflows#delete': 'Delete a Custom Workflow',\n",
       " 'https://help.wrike.com/hc/en-us/articles/210322785-Custom-Statuses-and-Workflows#more': 'Important Information',\n",
       " 'https://help.wrike.com/hc/en-us/articles/115005876769-Advanced-Custom-Workflows#auto': 'Auto-Assign Based on Status',\n",
       " 'https://help.wrike.com/hc/en-us/articles/115005876769-Advanced-Custom-Workflows#how': 'Fixed and Flexible Workflows',\n",
       " 'https://help.wrike.com/hc/en-us/articles/115005876769-Advanced-Custom-Workflows#setup': 'Set up Transitions for Fixed or Flexible Workflows',\n",
       " 'https://help.wrike.com/hc/en-us/articles/115005876769-Advanced-Custom-Workflows#more': 'More Info',\n",
       " 'https://help.wrike.com/hc/en-us/articles/115005886469-Workflow-Report#overview': 'Overview',\n",
       " 'https://help.wrike.com/hc/en-us/articles/115005886469-Workflow-Report#enable': 'Enable Workflow Reports from Labs',\n",
       " 'https://help.wrike.com/hc/en-us/articles/115005886469-Workflow-Report#create': 'What the Report Shows',\n",
       " 'https://help.wrike.com/hc/en-us/articles/360023288413-Manage-Request-Forms-for-Admins-#overview': 'Overview',\n",
       " 'https://help.wrike.com/hc/en-us/articles/360023288413-Manage-Request-Forms-for-Admins-#navigate': 'Navigate the Request Forms Builder',\n",
       " 'https://help.wrike.com/hc/en-us/articles/360023288413-Manage-Request-Forms-for-Admins-#edit': 'Edit Existing Request Forms',\n",
       " 'https://help.wrike.com/hc/en-us/articles/360023288413-Manage-Request-Forms-for-Admins-#duplicate': 'Duplicate a Request Form',\n",
       " 'https://help.wrike.com/hc/en-us/articles/360023288413-Manage-Request-Forms-for-Admins-#delete': 'Delete a Request Form',\n",
       " 'https://help.wrike.com/hc/en-us/articles/360023288413-Manage-Request-Forms-for-Admins-#more': 'More Info',\n",
       " 'https://help.wrike.com/hc/en-us/articles/115004740045-Create-a-Request-Form-for-Admins-#overview': 'Overview',\n",
       " 'https://help.wrike.com/hc/en-us/articles/115004740045-Create-a-Request-Form-for-Admins-#create': 'Create a Request Form',\n",
       " 'https://help.wrike.com/hc/en-us/articles/115004740045-Create-a-Request-Form-for-Admins-#map': 'Multipage Request Forms',\n",
       " 'https://help.wrike.com/hc/en-us/articles/115004740045-Create-a-Request-Form-for-Admins-#launch': 'Duplicate Existing Tasks, Projects, or Blueprints from a Request',\n",
       " 'https://help.wrike.com/hc/en-us/articles/115004740045-Create-a-Request-Form-for-Admins-#response': 'Form Builder: Response Mapping Options',\n",
       " 'https://help.wrike.com/hc/en-us/articles/115004740045-Create-a-Request-Form-for-Admins-#available': 'Form Builder: Available Question Types',\n",
       " 'https://help.wrike.com/hc/en-us/articles/115004740045-Create-a-Request-Form-for-Admins-#more': 'More Info',\n",
       " 'https://help.wrike.com/hc/en-us/articles/209603169-Request-Forms-Submit-a-Form-#overview': 'Overview',\n",
       " 'https://help.wrike.com/hc/en-us/articles/209603169-Request-Forms-Submit-a-Form-#important': 'Important Information',\n",
       " 'https://help.wrike.com/hc/en-us/articles/209603169-Request-Forms-Submit-a-Form-#use': 'Submit a\\xa0Request Form',\n",
       " 'https://help.wrike.com/hc/en-us/articles/115004742769-External-Request-Forms#overview': 'Overview',\n",
       " 'https://help.wrike.com/hc/en-us/articles/115004742769-External-Request-Forms#important': 'Important Information',\n",
       " 'https://help.wrike.com/hc/en-us/articles/115004742769-External-Request-Forms#make': 'Find a Request Form Link\\xa0and iFrame HTML-Code',\n",
       " 'https://help.wrike.com/hc/en-us/articles/115004742769-External-Request-Forms#customize': 'Customize an Email Confirmation',\n",
       " 'https://help.wrike.com/hc/en-us/articles/115004742769-External-Request-Forms#invalidate': 'Invalidate a Request Form Link',\n",
       " 'https://help.wrike.com/hc/en-us/articles/115004742769-External-Request-Forms#more': 'More Info',\n",
       " 'https://help.wrike.com/hc/en-us/articles/115003404345-Dynamic-Request-Forms#overview': 'Overview',\n",
       " 'https://help.wrike.com/hc/en-us/articles/115003404345-Dynamic-Request-Forms#conditional': 'Conditional Follow-Up Questions',\n",
       " 'https://help.wrike.com/hc/en-us/articles/115003404345-Dynamic-Request-Forms#assignees': 'Conditional Assignees',\n",
       " 'https://help.wrike.com/hc/en-us/articles/115003404345-Dynamic-Request-Forms#owners': 'Conditional Project Owners',\n",
       " 'https://help.wrike.com/hc/en-us/articles/115003404345-Dynamic-Request-Forms#parent': 'Conditional Parent Folders',\n",
       " 'https://help.wrike.com/hc/en-us/articles/115003404345-Dynamic-Request-Forms#subtasks': 'Conditional Subtasks',\n",
       " 'https://help.wrike.com/hc/en-us/articles/115003404345-Dynamic-Request-Forms#subprojects': 'Conditional Subprojects',\n",
       " 'https://help.wrike.com/hc/en-us/articles/115003404345-Dynamic-Request-Forms#tasks': 'Conditional Launch of Tasks',\n",
       " 'https://help.wrike.com/hc/en-us/articles/115003404345-Dynamic-Request-Forms#project': 'Conditional Launch of Projects',\n",
       " 'https://help.wrike.com/hc/en-us/articles/115003404345-Dynamic-Request-Forms#status': 'Conditional Status Change',\n",
       " 'https://help.wrike.com/hc/en-us/articles/115003404345-Dynamic-Request-Forms#approvals': 'Conditional Approvals',\n",
       " 'https://help.wrike.com/hc/en-us/articles/209603149-Templates#overview': 'Create a Folder or Project\\xa0Template',\n",
       " 'https://help.wrike.com/hc/en-us/articles/209603149-Templates#use': 'Use a Folder or Project Template',\n",
       " 'https://help.wrike.com/hc/en-us/articles/209603149-Templates#task': 'Create a Task Template',\n",
       " 'https://help.wrike.com/hc/en-us/articles/209603149-Templates#advanced': 'Advanced Tips',\n",
       " 'https://help.wrike.com/hc/en-us/articles/209603149-Templates#more': 'More Info',\n",
       " 'https://help.wrike.com/hc/en-us/articles/209603089-Time-Tracking#overview': 'Overview',\n",
       " 'https://help.wrike.com/hc/en-us/articles/209603089-Time-Tracking#important': 'Important Information',\n",
       " 'https://help.wrike.com/hc/en-us/articles/209603089-Time-Tracking#track': 'Track Time Spent on a Task',\n",
       " 'https://help.wrike.com/hc/en-us/articles/209603069-Filters#overview': 'Overview',\n",
       " 'https://help.wrike.com/hc/en-us/articles/209603069-Filters#important': 'Available Task Filters',\n",
       " 'https://help.wrike.com/hc/en-us/articles/209603069-Filters#filter': 'Filter Tasks by Assignee',\n",
       " 'https://help.wrike.com/hc/en-us/articles/209603069-Filters#presets': 'Filter Presets',\n",
       " 'https://help.wrike.com/hc/en-us/articles/209603069-Filters#filter_projects': 'Filter Tasks in Activity Streams',\n",
       " 'https://help.wrike.com/hc/en-us/articles/209603069-Filters#comment': 'Filter Comment Streams',\n",
       " 'https://help.wrike.com/hc/en-us/articles/209603069-Filters#remove': 'Remove Filters',\n",
       " 'https://help.wrike.com/hc/en-us/articles/210322945-Recycle-Bin#overview': 'Overview',\n",
       " 'https://help.wrike.com/hc/en-us/articles/210322945-Recycle-Bin#important': 'Important Information',\n",
       " 'https://help.wrike.com/hc/en-us/articles/210322945-Recycle-Bin#empty': 'Empty the Recycle Bin',\n",
       " 'https://help.wrike.com/hc/en-us/articles/209603349-Starred-Folders-and-Projects#overview': 'Overview',\n",
       " 'https://help.wrike.com/hc/en-us/articles/209603349-Starred-Folders-and-Projects#important': 'Important Information',\n",
       " 'https://help.wrike.com/hc/en-us/articles/209603349-Starred-Folders-and-Projects#star': 'Star (Favorite) a Folder or Project',\n",
       " 'https://help.wrike.com/hc/en-us/articles/210322925-Move-Tasks-Folders-and-Projects#overview': 'Overview',\n",
       " 'https://help.wrike.com/hc/en-us/articles/210322925-Move-Tasks-Folders-and-Projects#important': 'Important Information',\n",
       " 'https://help.wrike.com/hc/en-us/articles/210322925-Move-Tasks-Folders-and-Projects#move': 'Move a Task',\n",
       " 'https://help.wrike.com/hc/en-us/articles/210322925-Move-Tasks-Folders-and-Projects#movefolder': 'Move a Folder or Project',\n",
       " 'https://help.wrike.com/hc/en-us/articles/209603329-Job-Numbers#overview': 'Overview',\n",
       " 'https://help.wrike.com/hc/en-us/articles/209603329-Job-Numbers#enable': 'Enable Job Numbers',\n",
       " 'https://help.wrike.com/hc/en-us/articles/209603329-Job-Numbers#view': 'View Job Numbers',\n",
       " 'https://help.wrike.com/hc/en-us/articles/209603329-Job-Numbers#search': 'Search by Job Number',\n",
       " 'https://help.wrike.com/hc/en-us/articles/210322885-Archive#overview': 'Overview',\n",
       " 'https://help.wrike.com/hc/en-us/articles/210322885-Archive#create': 'Create an Archive',\n",
       " 'https://help.wrike.com/hc/en-us/articles/209602909-Search#filter': 'Filter (Search) Folders and Projects',\n",
       " 'https://help.wrike.com/hc/en-us/articles/209602909-Search#recent': 'Recent Tasks',\n",
       " 'https://help.wrike.com/hc/en-us/articles/210322705-Building-Blocks-Tasks-Folders-Projects-and-Spaces#overview': 'Overview',\n",
       " 'https://help.wrike.com/hc/en-us/articles/210322705-Building-Blocks-Tasks-Folders-Projects-and-Spaces#tasks': 'Tasks',\n",
       " 'https://help.wrike.com/hc/en-us/articles/210322705-Building-Blocks-Tasks-Folders-Projects-and-Spaces#folders': 'Folders',\n",
       " 'https://help.wrike.com/hc/en-us/articles/210322705-Building-Blocks-Tasks-Folders-Projects-and-Spaces#projects': 'Projects',\n",
       " 'https://help.wrike.com/hc/en-us/articles/210322705-Building-Blocks-Tasks-Folders-Projects-and-Spaces#spaces': 'Spaces',\n",
       " 'https://help.wrike.com/hc/en-us/articles/360035863834-Wrike-for-Professional-Services#overview': 'Overview',\n",
       " 'does not match the title': 'Wrike for Professional Services Basic Features',\n",
       " 'https://help.wrike.com/hc/en-us/articles/360035863834-Wrike-for-Professional-Services#performance': 'Wrike for Professional Services Performance',\n",
       " 'https://help.wrike.com/hc/en-us/articles/210412605-Wrike-for-Marketers#overview': 'Overview',\n",
       " 'https://help.wrike.com/hc/en-us/articles/210412605-Wrike-for-Marketers#how': 'How Wrike Works with a Marketing Workflow',\n",
       " 'https://help.wrike.com/hc/en-us/articles/210412605-Wrike-for-Marketers#features': 'Features',\n",
       " 'https://help.wrike.com/hc/en-us/articles/209603969-Enterprise#overview': 'Overview',\n",
       " 'https://help.wrike.com/hc/en-us/articles/209603969-Enterprise#features': 'Features',\n",
       " 'https://help.wrike.com/hc/en-us/articles/209603949-Business#overview': 'Overview',\n",
       " 'https://help.wrike.com/hc/en-us/articles/209603949-Business#features': 'Custom Workflows',\n",
       " 'https://help.wrike.com/hc/en-us/articles/209603929-Professional#overview': 'Overview',\n",
       " 'https://help.wrike.com/hc/en-us/articles/209603929-Professional#features': 'Features',\n",
       " 'https://help.wrike.com/hc/en-us/articles/209603909-Student-Program#overview': 'Register for a Student Account',\n",
       " 'https://help.wrike.com/hc/en-us/articles/209603909-Student-Program#use': 'Use Wrike for School',\n",
       " 'https://help.wrike.com/hc/en-us/articles/209603989-Types-of-Licenses#about': 'Overview',\n",
       " 'https://help.wrike.com/hc/en-us/articles/209603989-Types-of-Licenses#important': 'Important Information',\n",
       " 'https://help.wrike.com/hc/en-us/articles/209603989-Types-of-Licenses#rights': 'Rights by License Type',\n",
       " 'https://help.wrike.com/hc/en-us/articles/209603989-Types-of-Licenses#access': 'License Types and Access Roles',\n",
       " 'https://help.wrike.com/hc/en-us/articles/209603989-Types-of-Licenses#edit': 'Change License Types',\n",
       " 'https://help.wrike.com/hc/en-us/articles/210323405-Collaborators#about': 'Overview',\n",
       " 'https://help.wrike.com/hc/en-us/articles/210323405-Collaborators#rights': 'Collaborator Rights',\n",
       " 'https://help.wrike.com/hc/en-us/articles/210323405-Collaborators#more': 'Learn More',\n",
       " 'https://help.wrike.com/hc/en-us/articles/210323585-Gantt-Chart-Overview-#overview': 'Overview',\n",
       " 'https://help.wrike.com/hc/en-us/articles/210323585-Gantt-Chart-Overview-#important': 'Important Information',\n",
       " 'https://help.wrike.com/hc/en-us/articles/210323585-Gantt-Chart-Overview-#navigate': 'Navigate the Chart',\n",
       " 'https://help.wrike.com/hc/en-us/articles/210323585-Gantt-Chart-Overview-#hide': 'Hide Empty Folders',\n",
       " 'https://help.wrike.com/hc/en-us/articles/210323585-Gantt-Chart-Overview-#add': 'Add or Remove Columns from the Table',\n",
       " 'https://help.wrike.com/hc/en-us/articles/210323585-Gantt-Chart-Overview-#custom': 'Custom Fields on the Table',\n",
       " 'https://help.wrike.com/hc/en-us/articles/210323585-Gantt-Chart-Overview-#expand': 'Expand and Collapse Items on the Gantt Chart',\n",
       " 'https://help.wrike.com/hc/en-us/articles/210323585-Gantt-Chart-Overview-#open': 'Open a Task from the Gantt Chart',\n",
       " 'https://help.wrike.com/hc/en-us/articles/210323585-Gantt-Chart-Overview-#weekends': 'Weekends on the Gantt Chart',\n",
       " 'https://help.wrike.com/hc/en-us/articles/210323585-Gantt-Chart-Overview-#undo': 'Undo Your Actions',\n",
       " 'https://help.wrike.com/hc/en-us/articles/210323585-Gantt-Chart-Overview-#more': 'More Info',\n",
       " 'https://help.wrike.com/hc/en-us/articles/209604209-Tasks-on-the-Gantt-Chart#overview': 'Overview',\n",
       " 'https://help.wrike.com/hc/en-us/articles/209604209-Tasks-on-the-Gantt-Chart#create': 'Create a Task from the Gantt Chart',\n",
       " 'https://help.wrike.com/hc/en-us/articles/209604209-Tasks-on-the-Gantt-Chart#reschedule': 'Schedule Backlogged Tasks on the Gantt Chart',\n",
       " 'https://help.wrike.com/hc/en-us/articles/209604209-Tasks-on-the-Gantt-Chart#edit': \"Change a Task's Duration from the Gantt Chart\",\n",
       " 'https://help.wrike.com/hc/en-us/articles/209604209-Tasks-on-the-Gantt-Chart#edittasks': 'Change Task Hierarchy on the Gantt Chart',\n",
       " 'https://help.wrike.com/hc/en-us/articles/209604209-Tasks-on-the-Gantt-Chart#delete': 'Delete Tasks on the Gantt Chart',\n",
       " 'https://help.wrike.com/hc/en-us/articles/209604229-Dependencies-on-the-Gantt-Chart-#overview': 'Overview',\n",
       " 'https://help.wrike.com/hc/en-us/articles/209604229-Dependencies-on-the-Gantt-Chart-#important': 'Important Information',\n",
       " 'https://help.wrike.com/hc/en-us/articles/209604229-Dependencies-on-the-Gantt-Chart-#types': 'Types of Dependencies',\n",
       " 'https://help.wrike.com/hc/en-us/articles/209604229-Dependencies-on-the-Gantt-Chart-#create': 'Create a Dependency',\n",
       " 'https://help.wrike.com/hc/en-us/articles/209604229-Dependencies-on-the-Gantt-Chart-#shift': 'Shift a Dependency Chain',\n",
       " 'https://help.wrike.com/hc/en-us/articles/209604229-Dependencies-on-the-Gantt-Chart-#remove': 'Remove a Dependency',\n",
       " 'https://help.wrike.com/hc/en-us/articles/209604229-Dependencies-on-the-Gantt-Chart-#edit': 'Edit a Dependency',\n",
       " 'https://help.wrike.com/hc/en-us/articles/209604229-Dependencies-on-the-Gantt-Chart-#lag': 'Lead and Lag Time',\n",
       " 'https://help.wrike.com/hc/en-us/articles/115005814269-Sort-and-Reorder-Items-on-the-Gantt-Chart#overview': 'Overview',\n",
       " 'https://help.wrike.com/hc/en-us/articles/115005814269-Sort-and-Reorder-Items-on-the-Gantt-Chart#cascade': 'Sorting on the Gantt Chart',\n",
       " 'https://help.wrike.com/hc/en-us/articles/115005814269-Sort-and-Reorder-Items-on-the-Gantt-Chart#change': 'Change Sorting Order',\n",
       " 'https://help.wrike.com/hc/en-us/articles/115005814269-Sort-and-Reorder-Items-on-the-Gantt-Chart#manually': 'Manually Reorder Tasks on the Gantt Chart',\n",
       " 'https://help.wrike.com/hc/en-us/articles/360000328245-Gantt-Chart-Print-Timeline#overview': 'Important Information',\n",
       " 'https://help.wrike.com/hc/en-us/articles/360000328245-Gantt-Chart-Print-Timeline#print': 'Print Timeline',\n",
       " 'https://help.wrike.com/hc/en-us/articles/210323605-Zoom-In-or-Out-on-the-Gantt-Chart-#overview': 'Adjust the Date Range on the\\xa0Gantt Chart',\n",
       " 'https://help.wrike.com/hc/en-us/articles/360009420853-Roll-Up-Dates-on-the-Gantt-Chart-#overview': 'Roll Up Dates',\n",
       " 'https://help.wrike.com/hc/en-us/articles/209604249-Date-Constraints-on-the-Gantt-Chart#overviewdate': 'Overview',\n",
       " 'https://help.wrike.com/hc/en-us/articles/209604249-Date-Constraints-on-the-Gantt-Chart#importantdate': 'Important Information',\n",
       " 'https://help.wrike.com/hc/en-us/articles/209604249-Date-Constraints-on-the-Gantt-Chart#table': 'Date Constraints on the Table',\n",
       " 'https://help.wrike.com/hc/en-us/articles/209604249-Date-Constraints-on-the-Gantt-Chart#timeline': 'Date Constraints on the Timeline',\n",
       " 'https://help.wrike.com/hc/en-us/articles/210323545-Gantt-Chart-Snapshot#overview': 'Overview',\n",
       " 'https://help.wrike.com/hc/en-us/articles/210323545-Gantt-Chart-Snapshot#important': 'Important Information',\n",
       " 'https://help.wrike.com/hc/en-us/articles/210323545-Gantt-Chart-Snapshot#create': 'Create a Gantt Chart Snapshot',\n",
       " 'https://help.wrike.com/hc/en-us/articles/210323545-Gantt-Chart-Snapshot#view': 'View Snapshots',\n",
       " 'https://help.wrike.com/hc/en-us/articles/210323545-Gantt-Chart-Snapshot#edit': 'Copy a Snapshot Link',\n",
       " 'https://help.wrike.com/hc/en-us/articles/210323545-Gantt-Chart-Snapshot#delete': 'Delete a Snapshot',\n",
       " 'https://help.wrike.com/hc/en-us/articles/210323545-Gantt-Chart-Snapshot#more': 'More Info',\n",
       " 'https://help.wrike.com/hc/en-us/articles/209604189-Critical-Path#overview': 'Overview',\n",
       " 'https://help.wrike.com/hc/en-us/articles/209604189-Critical-Path#view': 'View Critical Paths',\n",
       " 'https://help.wrike.com/hc/en-us/articles/209604189-Critical-Path#examples': 'Examples',\n",
       " 'https://help.wrike.com/hc/en-us/articles/360005778794-Table-View#overview': 'Overview',\n",
       " 'https://help.wrike.com/hc/en-us/articles/360005778794-Table-View#whats': 'Navigate the View',\n",
       " 'https://help.wrike.com/hc/en-us/articles/360005778794-Table-View#sorting': 'Sorting in Table View',\n",
       " 'https://help.wrike.com/hc/en-us/articles/360005778794-Table-View#aggregate': 'Aggregate Data in Table View',\n",
       " 'https://help.wrike.com/hc/en-us/articles/360005778794-Table-View#edit': 'Edit Data from Table View',\n",
       " 'https://help.wrike.com/hc/en-us/articles/360005778794-Table-View#addfolders': 'Folders and Projects in Table View',\n",
       " 'https://help.wrike.com/hc/en-us/articles/360005778794-Table-View#projects': 'Projects in Table View',\n",
       " 'https://help.wrike.com/hc/en-us/articles/360005778794-Table-View#tasks': 'Tasks in Table View',\n",
       " 'https://help.wrike.com/hc/en-us/articles/360005778794-Table-View#filter': 'Filter Tasks and Projects',\n",
       " 'https://help.wrike.com/hc/en-us/articles/360005778794-Table-View#more': 'More Info',\n",
       " 'https://help.wrike.com/hc/en-us/articles/210323505-Timelog-View#overview': 'Overview',\n",
       " 'https://help.wrike.com/hc/en-us/articles/210323505-Timelog-View#view': 'Navigate the View',\n",
       " 'https://help.wrike.com/hc/en-us/articles/210323505-Timelog-View#manage': 'Edit and Delete Timelog Entries',\n",
       " 'https://help.wrike.com/hc/en-us/articles/210323505-Timelog-View#person': \"View a User's Timelog Entries\",\n",
       " 'https://help.wrike.com/hc/en-us/articles/210323505-Timelog-View#period': 'Filter the Timelog',\n",
       " 'https://help.wrike.com/hc/en-us/articles/210323505-Timelog-View#custom': 'Customize the Timelog View',\n",
       " 'https://help.wrike.com/hc/en-us/articles/210323505-Timelog-View#export': 'Export to Excel',\n",
       " 'https://help.wrike.com/hc/en-us/articles/210323505-Timelog-View#more': 'More Info',\n",
       " 'https://help.wrike.com/hc/en-us/articles/115005858769-Categories-for-Time-Tracking#overview': 'Overview',\n",
       " 'https://help.wrike.com/hc/en-us/articles/115005858769-Categories-for-Time-Tracking#add': 'Add a Time Tracking Category',\n",
       " 'https://help.wrike.com/hc/en-us/articles/115005858769-Categories-for-Time-Tracking#view': 'View and Apply Timelog Categories',\n",
       " 'https://help.wrike.com/hc/en-us/articles/360007544313-Files-View#overview': 'Overview',\n",
       " 'https://help.wrike.com/hc/en-us/articles/360007544313-Files-View#important': 'Important Information',\n",
       " 'https://help.wrike.com/hc/en-us/articles/360007544313-Files-View#when': 'When to Use the Files View',\n",
       " 'https://help.wrike.com/hc/en-us/articles/360007544313-Files-View#navigate': 'Navigate the View',\n",
       " 'https://help.wrike.com/hc/en-us/articles/360007544313-Files-View#download': 'Download a File',\n",
       " 'https://help.wrike.com/hc/en-us/articles/360007544313-Files-View#delete': 'Delete a File',\n",
       " 'https://help.wrike.com/hc/en-us/articles/360007544313-Files-View#mass': 'Mass Actions for Files',\n",
       " 'https://help.wrike.com/hc/en-us/articles/360007544313-Files-View#more': 'More Info',\n",
       " 'https://help.wrike.com/hc/en-us/articles/115000193205-Board-View#overview': 'Overview',\n",
       " 'https://help.wrike.com/hc/en-us/articles/115000193205-Board-View#important': 'Important Information',\n",
       " 'https://help.wrike.com/hc/en-us/articles/115000193205-Board-View#how': 'How the Board View Works',\n",
       " 'https://help.wrike.com/hc/en-us/articles/115000193205-Board-View#sorting': 'Sorting and Filtering on the Board View',\n",
       " 'https://help.wrike.com/hc/en-us/articles/115000193205-Board-View#drag': 'Drag and Drop Tasks',\n",
       " 'https://help.wrike.com/hc/en-us/articles/115000193205-Board-View#workflow': 'Change Default Workflow',\n",
       " 'https://help.wrike.com/hc/en-us/articles/115000193205-Board-View#delete': 'Delete Tasks',\n",
       " 'https://help.wrike.com/hc/en-us/articles/115000193205-Board-View#more': 'More Info',\n",
       " 'https://help.wrike.com/hc/en-us/articles/209604049-Analytics-View#about': 'Overview',\n",
       " 'https://help.wrike.com/hc/en-us/articles/209604049-Analytics-View#overview': 'Performance Analytics Overview Statistics',\n",
       " 'https://help.wrike.com/hc/en-us/articles/209604049-Analytics-View#performancechart': 'Performance Chart',\n",
       " 'https://help.wrike.com/hc/en-us/articles/209604049-Analytics-View#baseline': 'Baseline Chart',\n",
       " 'https://help.wrike.com/hc/en-us/articles/209604049-Analytics-View#progress': 'Work Progress Chart',\n",
       " 'https://help.wrike.com/hc/en-us/articles/209604049-Analytics-View#tasks': 'Tasks by Users',\n",
       " 'https://help.wrike.com/hc/en-us/articles/209604049-Analytics-View#reports': 'Create a New Chart',\n",
       " 'https://help.wrike.com/hc/en-us/articles/209604049-Analytics-View#delete': 'Delete a Chart',\n",
       " 'https://help.wrike.com/hc/en-us/articles/209604049-Analytics-View#organize': 'Organize Charts',\n",
       " 'https://help.wrike.com/hc/en-us/articles/209604049-Analytics-View#more': 'More Info',\n",
       " 'https://help.wrike.com/hc/en-us/articles/360036508894-Wrike-Analyze#overview': 'Overview',\n",
       " 'https://help.wrike.com/hc/en-us/articles/360036508894-Wrike-Analyze#important': 'Important Information',\n",
       " 'https://help.wrike.com/hc/en-us/articles/360036508894-Wrike-Analyze#data': 'Available Data',\n",
       " 'https://help.wrike.com/hc/en-us/articles/360036508894-Wrike-Analyze#widgets': 'Available Analytics Widgets',\n",
       " 'https://help.wrike.com/hc/en-us/articles/360036508894-Wrike-Analyze#template': 'Create an Analytics Board from a Template',\n",
       " 'https://help.wrike.com/hc/en-us/articles/360036508894-Wrike-Analyze#custom': 'Create a Custom Analytics Board',\n",
       " 'https://help.wrike.com/hc/en-us/articles/360036508894-Wrike-Analyze#gallery': 'Creating Widgets From the Gallery',\n",
       " 'https://help.wrike.com/hc/en-us/articles/360036508894-Wrike-Analyze#add': 'Adding Widgets to an Analytics Board',\n",
       " 'https://help.wrike.com/hc/en-us/articles/360036508894-Wrike-Analyze#text': 'Adding Static Text to an Analytics Board',\n",
       " 'https://help.wrike.com/hc/en-us/articles/360036508894-Wrike-Analyze#filter': 'Share an Analytics Board',\n",
       " 'https://help.wrike.com/hc/en-us/articles/360036508894-Wrike-Analyze#export': 'Export an Analytics Board',\n",
       " 'https://help.wrike.com/hc/en-us/articles/360036508894-Wrike-Analyze#duplicate': 'Duplicate an Analytics Board',\n",
       " 'https://help.wrike.com/hc/en-us/articles/360036508894-Wrike-Analyze#delete': 'Delete an Analytics Board',\n",
       " 'https://help.wrike.com/hc/en-us/articles/360037746233-Wrike-Analyze-Formulas#overview': 'Overview',\n",
       " 'https://help.wrike.com/hc/en-us/articles/360037746233-Wrike-Analyze-Formulas#widgets': 'Using Formulas in Widgets',\n",
       " 'https://help.wrike.com/hc/en-us/articles/360037746233-Wrike-Analyze-Formulas#filters': 'Creating Formulas Based on Criteria and Conditions (Filters)',\n",
       " 'https://help.wrike.com/hc/en-us/articles/360037746233-Wrike-Analyze-Formulas#reference': 'Using Formulas to Reference Custom Fields',\n",
       " 'https://help.wrike.com/hc/en-us/articles/360038191973-Wrike-Analyze-Available-Data#overview': 'Overview',\n",
       " 'https://help.wrike.com/hc/en-us/articles/360038191973-Wrike-Analyze-Available-Data#data': 'Available Data',\n",
       " 'https://help.wrike.com/hc/en-us/articles/360037749333-Wrike-Analyze-Sample-Widgets#overview': 'Overview',\n",
       " 'https://help.wrike.com/hc/en-us/articles/360037749333-Wrike-Analyze-Sample-Widgets#trend': 'Total of Project Custom Fields Widget (e.g., Budget)',\n",
       " 'https://help.wrike.com/hc/en-us/articles/360037749333-Wrike-Analyze-Sample-Widgets#piechart': 'Adding Project Custom Field Values to Pivot Widget',\n",
       " 'https://help.wrike.com/hc/en-us/articles/360037749333-Wrike-Analyze-Sample-Widgets#number': 'Adding Custom Field Number Values to Pivot',\n",
       " 'https://help.wrike.com/hc/en-us/articles/360043781934-Wrike-Analyze-Utilization-and-Performance-Report#overview': 'Overview',\n",
       " 'https://help.wrike.com/hc/en-us/articles/360043781934-Wrike-Analyze-Utilization-and-Performance-Report#create': 'Creating the Utilization and Performance Report',\n",
       " 'https://help.wrike.com/hc/en-us/articles/360043781934-Wrike-Analyze-Utilization-and-Performance-Report#data': 'Get Started with Wrike Resource',\n",
       " 'https://help.wrike.com/hc/en-us/articles/360010835433-Workload-Charts#overview': 'Overview',\n",
       " 'https://help.wrike.com/hc/en-us/articles/360010835433-Workload-Charts#important': 'Important Information',\n",
       " 'https://help.wrike.com/hc/en-us/articles/360010835433-Workload-Charts#how': 'How to Use Workload Charts',\n",
       " 'https://help.wrike.com/hc/en-us/articles/360010835433-Workload-Charts#create': 'Create a Workload Chart',\n",
       " 'https://help.wrike.com/hc/en-us/articles/360010835433-Workload-Charts#navigate': 'Navigate Workload Charts',\n",
       " 'https://help.wrike.com/hc/en-us/articles/360010835433-Workload-Charts#customize': 'Customize Workload Charts',\n",
       " 'https://help.wrike.com/hc/en-us/articles/360010835433-Workload-Charts#share': 'Share Workload Charts',\n",
       " 'https://help.wrike.com/hc/en-us/articles/360010835433-Workload-Charts#edit': 'Edit Workload Charts',\n",
       " 'https://help.wrike.com/hc/en-us/articles/360010835433-Workload-Charts#delete': 'Delete Workload Charts',\n",
       " 'https://help.wrike.com/hc/en-us/articles/360045977633-Manage-Tasks-on-Workload-Charts#overview': 'Create Task',\n",
       " 'https://help.wrike.com/hc/en-us/articles/360045977633-Manage-Tasks-on-Workload-Charts#change_duration': 'Change Task Duration',\n",
       " 'https://help.wrike.com/hc/en-us/articles/360045977633-Manage-Tasks-on-Workload-Charts#reschedule': 'Reschedule Tasks',\n",
       " 'https://help.wrike.com/hc/en-us/articles/360045977633-Manage-Tasks-on-Workload-Charts#reassign': 'Reassign Tasks',\n",
       " 'https://help.wrike.com/hc/en-us/articles/360045977633-Manage-Tasks-on-Workload-Charts#add': 'Add Additional Assignee',\n",
       " 'https://help.wrike.com/hc/en-us/articles/360045977633-Manage-Tasks-on-Workload-Charts#enable': 'Enable and Edit Task Effort',\n",
       " 'https://help.wrike.com/hc/en-us/articles/360045420254-Backlog-Box#overview': 'Overview',\n",
       " 'https://help.wrike.com/hc/en-us/articles/360045420254-Backlog-Box#important': 'Important Information',\n",
       " 'https://help.wrike.com/hc/en-us/articles/360045420254-Backlog-Box#configure': 'Configure Backlog Box',\n",
       " 'https://help.wrike.com/hc/en-us/articles/360045420254-Backlog-Box#display': 'Backlog Box Display Options',\n",
       " 'https://help.wrike.com/hc/en-us/articles/360045420254-Backlog-Box#edit': 'Edit Backlog Box Settings',\n",
       " 'https://help.wrike.com/hc/en-us/articles/360045420254-Backlog-Box#create': 'Create New Tasks in Backlog Box',\n",
       " 'https://help.wrike.com/hc/en-us/articles/360045420254-Backlog-Box#move': 'Move Tasks From Backlog Box to Workload Chart',\n",
       " 'https://help.wrike.com/hc/en-us/articles/360045420254-Backlog-Box#move_to_backlog': 'Move Tasks to Backlog Box',\n",
       " 'https://help.wrike.com/hc/en-us/articles/360010852973-Task-Effort#overview': 'Overview',\n",
       " 'https://help.wrike.com/hc/en-us/articles/360010852973-Task-Effort#important': 'Tasks without Effort',\n",
       " 'https://help.wrike.com/hc/en-us/articles/360010852973-Task-Effort#types': 'Effort Types',\n",
       " 'https://help.wrike.com/hc/en-us/articles/360010852973-Task-Effort#specify': 'Specify Task Effort',\n",
       " 'https://help.wrike.com/hc/en-us/articles/360010852973-Task-Effort#disable': 'Disable Effort for a Task',\n",
       " 'https://help.wrike.com/hc/en-us/articles/360046883294-Custom-Capacity-Allocation-in-Workload-Charts#overview': 'Overview',\n",
       " 'https://help.wrike.com/hc/en-us/articles/360046883294-Custom-Capacity-Allocation-in-Workload-Charts#Important': 'Configure Custom Capacity Allocation',\n",
       " 'https://help.wrike.com/hc/en-us/articles/360035989794-Job-Roles#overview': 'Overview',\n",
       " 'https://help.wrike.com/hc/en-us/articles/360035989794-Job-Roles#important': 'Important Information',\n",
       " 'https://help.wrike.com/hc/en-us/articles/360035989794-Job-Roles#how': 'How to Use Job Roles',\n",
       " 'https://help.wrike.com/hc/en-us/articles/360035989794-Job-Roles#create': 'Create a Job Role',\n",
       " 'https://help.wrike.com/hc/en-us/articles/360035989794-Job-Roles#allocate_roles': 'Allocate Job Roles to Users',\n",
       " 'https://help.wrike.com/hc/en-us/articles/360035989794-Job-Roles#assign_tasks': 'Assign and Unassign Tasks From Job Roles',\n",
       " 'https://help.wrike.com/hc/en-us/articles/360035989794-Job-Roles#edit': 'Edit and Delete Job Roles',\n",
       " 'https://help.wrike.com/hc/en-us/articles/360035989834-Billable-Time#overview': 'Overview',\n",
       " 'https://help.wrike.com/hc/en-us/articles/360035989834-Billable-Time#important': 'Set Up Billing Type for Projects',\n",
       " 'https://help.wrike.com/hc/en-us/articles/360035989834-Billable-Time#change': 'Change Billing Type of Projects and Tasks',\n",
       " 'https://help.wrike.com/hc/en-us/articles/360035989834-Billable-Time#track': 'Track Billable Hours',\n",
       " 'https://help.wrike.com/hc/en-us/articles/360035989834-Billable-Time#manage': 'Manage Billable Time',\n",
       " 'https://help.wrike.com/hc/en-us/articles/360035989834-Billable-Time#lock': 'Lock Time Entries',\n",
       " 'https://help.wrike.com/hc/en-us/articles/360014673593-Timesheets#overview': 'Important Information',\n",
       " 'https://help.wrike.com/hc/en-us/articles/360014673593-Timesheets#navigate': 'Navigate Timesheets',\n",
       " 'https://help.wrike.com/hc/en-us/articles/360014673593-Timesheets#view': 'View Timesheets of Other Users',\n",
       " 'https://help.wrike.com/hc/en-us/articles/360014673593-Timesheets#customize': 'Customize Timesheets',\n",
       " 'https://help.wrike.com/hc/en-us/articles/360014673593-Timesheets#use': 'Use Timesheets',\n",
       " 'https://help.wrike.com/hc/en-us/articles/360001737133-Calendars#overview': 'Classic vs. Smart Calendar Layers',\n",
       " 'https://help.wrike.com/hc/en-us/articles/360001737133-Calendars#createlayer': 'Create a Calendar Layer',\n",
       " 'https://help.wrike.com/hc/en-us/articles/360001737133-Calendars#navigate': 'Navigate Calendars',\n",
       " 'https://help.wrike.com/hc/en-us/articles/360001737133-Calendars#customize': 'Customize Calendar View',\n",
       " 'https://help.wrike.com/hc/en-us/articles/360001737133-Calendars#edit': 'Edit Calendars and Layers',\n",
       " 'https://help.wrike.com/hc/en-us/articles/360001737133-Calendars#delete': 'Delete Calendars or Layers',\n",
       " 'https://help.wrike.com/hc/en-us/articles/360001737133-Calendars#change': 'Change Calendar Layer Color',\n",
       " 'https://help.wrike.com/hc/en-us/articles/360001737133-Calendars#fiscal': 'Choose the First Month of a Fiscal Year',\n",
       " 'https://help.wrike.com/hc/en-us/articles/360001737133-Calendars#print': 'Print Calendars',\n",
       " 'https://help.wrike.com/hc/en-us/articles/360001737133-Calendars#more': 'More Info',\n",
       " 'https://help.wrike.com/hc/en-us/articles/360002555733-Share-Calendars#overview': 'Overview',\n",
       " 'https://help.wrike.com/hc/en-us/articles/360002555733-Share-Calendars#important': 'Share Calendars with Non-Wrike Users',\n",
       " 'https://help.wrike.com/hc/en-us/articles/360002555733-Share-Calendars#share-ext': 'Disable Option to Create Public Links',\n",
       " 'https://help.wrike.com/hc/en-us/articles/360002555733-Share-Calendars#remove': 'Delete a Shared Calendar or Layer',\n",
       " 'https://help.wrike.com/hc/en-us/articles/360002555733-Share-Calendars#more': 'More Info',\n",
       " 'https://help.wrike.com/hc/en-us/articles/360002559193-Tasks-and-Projects-on-Calendars#overview': 'Overview',\n",
       " 'https://help.wrike.com/hc/en-us/articles/360002559193-Tasks-and-Projects-on-Calendars#create': 'Create a Task from Calendars',\n",
       " 'https://help.wrike.com/hc/en-us/articles/360002559193-Tasks-and-Projects-on-Calendars#reschedule': 'Add Existing Tasks to a Calendar',\n",
       " 'https://help.wrike.com/hc/en-us/articles/209604449-Reports-Overview#overview': 'Overview',\n",
       " 'https://help.wrike.com/hc/en-us/articles/209604449-Reports-Overview#benefits': 'Benefits of Wrike Reports',\n",
       " 'https://help.wrike.com/hc/en-us/articles/209604449-Reports-Overview#create': 'Create a Wrike Report',\n",
       " 'https://help.wrike.com/hc/en-us/articles/209604449-Reports-Overview#builder': 'Wrike’s Report Builder',\n",
       " 'https://help.wrike.com/hc/en-us/articles/209604449-Reports-Overview#saved': 'Open a Saved Wrike Report',\n",
       " 'https://help.wrike.com/hc/en-us/articles/209604449-Reports-Overview#edit': 'Edit a Saved Wrike Report',\n",
       " 'https://help.wrike.com/hc/en-us/articles/209604449-Reports-Overview#delete': 'Export Table Charts to Excel',\n",
       " 'https://help.wrike.com/hc/en-us/articles/209604449-Reports-Overview#more': 'More Info',\n",
       " 'https://help.wrike.com/hc/en-us/articles/209604309-Report-Table-Charts#overview': 'Overview',\n",
       " 'https://help.wrike.com/hc/en-us/articles/209604309-Report-Table-Charts#best': 'Best Practices',\n",
       " 'https://help.wrike.com/hc/en-us/articles/209604309-Report-Table-Charts#groupings': 'Display Options: Structured (Hierarchical) or Custom Grouping',\n",
       " 'https://help.wrike.com/hc/en-us/articles/209604309-Report-Table-Charts#edit': 'Edit and Adjust Table Charts',\n",
       " 'https://help.wrike.com/hc/en-us/articles/209604309-Report-Table-Charts#text': 'Text Wrapping',\n",
       " 'https://help.wrike.com/hc/en-us/articles/209604309-Report-Table-Charts#undefined': 'Undefined Data',\n",
       " 'https://help.wrike.com/hc/en-us/articles/209604309-Report-Table-Charts#more': 'More Info',\n",
       " 'https://help.wrike.com/hc/en-us/articles/210323645-Report-Column-Charts#overview': 'Overview',\n",
       " 'https://help.wrike.com/hc/en-us/articles/210323645-Report-Column-Charts#best': 'Best Practices',\n",
       " 'https://help.wrike.com/hc/en-us/articles/210323645-Report-Column-Charts#undefined': 'Undefined Columns',\n",
       " 'https://help.wrike.com/hc/en-us/articles/210323645-Report-Column-Charts#edit': 'Groupings on Column Charts',\n",
       " 'https://help.wrike.com/hc/en-us/articles/210323645-Report-Column-Charts#more': 'More Info',\n",
       " 'https://help.wrike.com/hc/en-us/articles/212729565-Share-a-Report#overview': 'Overview',\n",
       " 'https://help.wrike.com/hc/en-us/articles/212729565-Share-a-Report#important': 'Who Reports Can be Shared With',\n",
       " 'https://help.wrike.com/hc/en-us/articles/212729565-Share-a-Report#how': 'How to Share a Report',\n",
       " 'https://help.wrike.com/hc/en-us/articles/212729565-Share-a-Report#what': 'What Happens When you Share a Report',\n",
       " 'https://help.wrike.com/hc/en-us/articles/212729565-Share-a-Report#more': 'More Info',\n",
       " 'https://help.wrike.com/hc/en-us/articles/214612765-Report-Templates#overview': 'Overview',\n",
       " 'https://help.wrike.com/hc/en-us/articles/214612765-Report-Templates#use': 'Use a Template',\n",
       " 'https://help.wrike.com/hc/en-us/articles/214612765-Report-Templates#available': 'Available Templates',\n",
       " 'https://help.wrike.com/hc/en-us/articles/210323665-Report-Snapshots#overview': 'Overview',\n",
       " 'https://help.wrike.com/hc/en-us/articles/210323665-Report-Snapshots#important': 'Important Information',\n",
       " 'https://help.wrike.com/hc/en-us/articles/210323665-Report-Snapshots#create': 'Create a Report Snapshot',\n",
       " 'https://help.wrike.com/hc/en-us/articles/210323665-Report-Snapshots#view': 'View Report Snapshots',\n",
       " 'https://help.wrike.com/hc/en-us/articles/210323665-Report-Snapshots#email': 'Email a Report Snapshot',\n",
       " 'https://help.wrike.com/hc/en-us/articles/210323665-Report-Snapshots#delete': 'Delete a Report Snapshot',\n",
       " 'https://help.wrike.com/hc/en-us/articles/210323665-Report-Snapshots#more': 'Overview',\n",
       " 'https://help.wrike.com/hc/en-us/articles/360003497114-Calculations-on-Reports#important': 'Write a Formula',\n",
       " 'https://help.wrike.com/hc/en-us/articles/360003497114-Calculations-on-Reports#possible': 'Add an Existing Calculated Field',\n",
       " 'https://help.wrike.com/hc/en-us/articles/360003497114-Calculations-on-Reports#edit': 'Edit a Calculated Field',\n",
       " 'https://help.wrike.com/hc/en-us/articles/360003497114-Calculations-on-Reports#delete': 'Delete a Calculated Field',\n",
       " 'https://help.wrike.com/hc/en-us/articles/360003497114-Calculations-on-Reports#more': 'More Resources',\n",
       " 'https://help.wrike.com/hc/en-us/articles/213930929-Scheduled-Report-Reminders#overview': 'Overview',\n",
       " 'https://help.wrike.com/hc/en-us/articles/213930929-Scheduled-Report-Reminders#important': 'Important Information',\n",
       " 'https://help.wrike.com/hc/en-us/articles/213930929-Scheduled-Report-Reminders#schedule': 'Schedule a Report Reminder',\n",
       " 'https://help.wrike.com/hc/en-us/articles/213930929-Scheduled-Report-Reminders#unsubscribe': 'Unsubscribe from a Report',\n",
       " 'https://help.wrike.com/hc/en-us/articles/209604469-Dashboards#overview': 'Overview',\n",
       " 'https://help.wrike.com/hc/en-us/articles/209604469-Dashboards#important': 'Important Information',\n",
       " 'https://help.wrike.com/hc/en-us/articles/209604469-Dashboards#navigate': 'Navigate the Dashboard View',\n",
       " 'https://help.wrike.com/hc/en-us/articles/209604469-Dashboards#create': 'Create, Delete, and Duplicate Dashboards',\n",
       " 'https://help.wrike.com/hc/en-us/articles/209604469-Dashboards#rearrange': 'Rearrange Dashboards',\n",
       " 'https://help.wrike.com/hc/en-us/articles/209604469-Dashboards#shareable': 'Create a\\xa0Task from a\\xa0Dashboard',\n",
       " 'https://help.wrike.com/hc/en-us/articles/209604469-Dashboards#more': 'More Info',\n",
       " 'https://help.wrike.com/hc/en-us/articles/115004120265-Dashboard-Widgets#overview': 'Create Widgets From Templates',\n",
       " 'https://help.wrike.com/hc/en-us/articles/115004120265-Dashboard-Widgets#available': 'Available Widget Templates',\n",
       " 'https://help.wrike.com/hc/en-us/articles/115004120265-Dashboard-Widgets#createdashboard': 'Create Custom Widgets',\n",
       " 'https://help.wrike.com/hc/en-us/articles/115004120265-Dashboard-Widgets#filters': 'Filters',\n",
       " 'https://help.wrike.com/hc/en-us/articles/115004120265-Dashboard-Widgets#createlist': 'Create Custom Widgets From List View',\n",
       " 'https://help.wrike.com/hc/en-us/articles/115004120265-Dashboard-Widgets#edit': 'Edit Widgets',\n",
       " 'https://help.wrike.com/hc/en-us/articles/115004120265-Dashboard-Widgets#resize': 'Resize Widgets',\n",
       " 'https://help.wrike.com/hc/en-us/articles/115004120265-Dashboard-Widgets#add': 'Copy Existing Widgets to Other Dashboards',\n",
       " 'https://help.wrike.com/hc/en-us/articles/115004120265-Dashboard-Widgets#delete': 'Delete Widgets',\n",
       " 'https://help.wrike.com/hc/en-us/articles/115004120265-Dashboard-Widgets#customize': 'Arrange Widgets on Dashboards',\n",
       " 'https://help.wrike.com/hc/en-us/articles/115004120265-Dashboard-Widgets#settings': 'Widget Settings',\n",
       " 'https://help.wrike.com/hc/en-us/articles/115004120265-Dashboard-Widgets#tag': 'More Info',\n",
       " 'https://help.wrike.com/hc/en-us/articles/210323705-Inbox#overview': 'Overview',\n",
       " 'https://help.wrike.com/hc/en-us/articles/210323705-Inbox#important': 'Important Information',\n",
       " 'https://help.wrike.com/hc/en-us/articles/210323705-Inbox#navigate': 'Navigate Inbox',\n",
       " 'https://help.wrike.com/hc/en-us/articles/210323705-Inbox#disable': 'Disable Optional Notifications',\n",
       " 'https://help.wrike.com/hc/en-us/articles/115002985469-Snooze-Inbox-Notifications#overview': 'Overview',\n",
       " 'https://help.wrike.com/hc/en-us/articles/115002985469-Snooze-Inbox-Notifications#snooze': 'Change\\xa0Snooze Notification Time',\n",
       " 'https://help.wrike.com/hc/en-us/articles/115002985469-Snooze-Inbox-Notifications#remove': 'Remove Snooze',\n",
       " 'https://help.wrike.com/hc/en-us/articles/209604489-Stream#overview': 'Overview',\n",
       " 'https://help.wrike.com/hc/en-us/articles/209604489-Stream#important': 'Important Information',\n",
       " 'https://help.wrike.com/hc/en-us/articles/209604489-Stream#navigate': 'Navigate the Activity Stream',\n",
       " 'https://help.wrike.com/hc/en-us/articles/209604489-Stream#post': 'Add a Comment from an\\xa0Activity Stream',\n",
       " 'https://help.wrike.com/hc/en-us/articles/360049296653-Project-Risk-Report#Overview': 'Overview',\n",
       " 'https://help.wrike.com/hc/en-us/articles/360049296653-Project-Risk-Report#Important': 'Important Information',\n",
       " 'https://help.wrike.com/hc/en-us/articles/360049296653-Project-Risk-Report#Enable': 'Enable Project Risk Report From Labs',\n",
       " 'https://help.wrike.com/hc/en-us/articles/360021542373-Wrike-Integrate#overview': 'Overview',\n",
       " 'https://help.wrike.com/hc/en-us/articles/360021542373-Wrike-Integrate#important': 'Important Information',\n",
       " 'https://help.wrike.com/hc/en-us/articles/360021542373-Wrike-Integrate#works': 'How It Works',\n",
       " 'https://help.wrike.com/hc/en-us/articles/360021542373-Wrike-Integrate#setup': 'How to Set Up Integrations in Wrike',\n",
       " 'https://help.wrike.com/hc/en-us/articles/360021542373-Wrike-Integrate#navigate': 'Navigate the Integration Recipes',\n",
       " 'https://help.wrike.com/hc/en-us/articles/360021542373-Wrike-Integrate#collaborating': 'Collaborating on Recipes',\n",
       " 'https://help.wrike.com/hc/en-us/articles/115005857485-Install-Wrike-for-Outlook-#overview': 'Overview',\n",
       " 'https://help.wrike.com/hc/en-us/articles/115005857485-Install-Wrike-for-Outlook-#compatibility': 'Compatibility',\n",
       " 'https://help.wrike.com/hc/en-us/articles/115005857485-Install-Wrike-for-Outlook-#before': 'Before you Install',\n",
       " 'https://help.wrike.com/hc/en-us/articles/115005857485-Install-Wrike-for-Outlook-#which': 'Install for On-Premise or Hosted Exchange Server',\n",
       " 'https://help.wrike.com/hc/en-us/articles/115005857485-Install-Wrike-for-Outlook-#mobile': 'Install on a Mobile Device',\n",
       " 'https://help.wrike.com/hc/en-us/articles/115005396349-Wrike-for-Gmail-Gmail-Add-On-#overview': 'Overview',\n",
       " 'https://help.wrike.com/hc/en-us/articles/115005396349-Wrike-for-Gmail-Gmail-Add-On-#compatibility': 'Install the Add-On (Just for You)',\n",
       " 'https://help.wrike.com/hc/en-us/articles/115005396349-Wrike-for-Gmail-Gmail-Add-On-#installeveryone': 'Install the Add-On (for everyone)',\n",
       " 'https://help.wrike.com/hc/en-us/articles/115005396349-Wrike-for-Gmail-Gmail-Add-On-#create': 'Create a Task',\n",
       " 'https://help.wrike.com/hc/en-us/articles/115005396349-Wrike-for-Gmail-Gmail-Add-On-#modify': 'Modify a Task',\n",
       " 'https://help.wrike.com/hc/en-us/articles/115005396349-Wrike-for-Gmail-Gmail-Add-On-#view': 'Add an Email as a Comment',\n",
       " 'https://help.wrike.com/hc/en-us/articles/115005396349-Wrike-for-Gmail-Gmail-Add-On-#uninstall': 'Uninstall the Add-On',\n",
       " 'https://help.wrike.com/hc/en-us/articles/115003869085-Wrike-for-Outlook#overview': 'Overview',\n",
       " 'https://help.wrike.com/hc/en-us/articles/115003869085-Wrike-for-Outlook#compatibility': 'Compatibility',\n",
       " 'https://help.wrike.com/hc/en-us/articles/115003869085-Wrike-for-Outlook#create': 'Create a Task',\n",
       " 'https://help.wrike.com/hc/en-us/articles/115003869085-Wrike-for-Outlook#edit': 'Edit a Task',\n",
       " 'https://help.wrike.com/hc/en-us/articles/115003869085-Wrike-for-Outlook#add': 'Add an Email as a Comment',\n",
       " 'https://help.wrike.com/hc/en-us/articles/115003869085-Wrike-for-Outlook#select': 'Select an Account',\n",
       " 'https://help.wrike.com/hc/en-us/articles/115003869085-Wrike-for-Outlook#uninstall': 'Uninstall the Add-in',\n",
       " 'https://help.wrike.com/hc/en-us/articles/115003433025-Outlook-Actionable-Messages#overview': 'Overview',\n",
       " 'https://help.wrike.com/hc/en-us/articles/115003433025-Outlook-Actionable-Messages#important': 'Functionality',\n",
       " 'https://help.wrike.com/hc/en-us/articles/210385865-Gmail-Gadget#overview': 'Overview',\n",
       " 'https://help.wrike.com/hc/en-us/articles/210385865-Gmail-Gadget#important': 'Important Information',\n",
       " 'https://help.wrike.com/hc/en-us/articles/210385865-Gmail-Gadget#create': \"Create Tasks from Wrike's Gmail Gadget\",\n",
       " 'https://help.wrike.com/hc/en-us/articles/210385865-Gmail-Gadget#disable': \"Disable Wrike's Gmail Gadget\",\n",
       " 'https://help.wrike.com/hc/en-us/articles/210385865-Gmail-Gadget#enable': 'Enable\\xa0the Gmail Gadget',\n",
       " 'https://help.wrike.com/hc/en-us/articles/210324185-Email-Integration#overview': 'Overview',\n",
       " 'https://help.wrike.com/hc/en-us/articles/210324185-Email-Integration#important': 'Settings (Before you Start)',\n",
       " 'https://help.wrike.com/hc/en-us/articles/210324185-Email-Integration#createtask': 'Create a Task via Email',\n",
       " 'https://help.wrike.com/hc/en-us/articles/210324185-Email-Integration#addtask': 'Add a Task to a Folder via Email',\n",
       " 'https://help.wrike.com/hc/en-us/articles/210324185-Email-Integration#edittask': 'Edit Task Details via Email',\n",
       " 'https://help.wrike.com/hc/en-us/articles/210324185-Email-Integration#email': 'Email a Comment to an Existing Task',\n",
       " 'https://help.wrike.com/hc/en-us/articles/210324185-Email-Integration#advanced': 'Advanced Features',\n",
       " 'https://help.wrike.com/hc/en-us/articles/360040085934-Wrike-For-Salesforce#overview': 'Benefits of Salesforce-to-Wrike Integration',\n",
       " 'https://help.wrike.com/hc/en-us/articles/360040085934-Wrike-For-Salesforce#migrate': 'Migrating Your Data to the New Wrike for Salesforce Version',\n",
       " 'https://help.wrike.com/hc/en-us/articles/360040085934-Wrike-For-Salesforce#widget': 'Wrike’s Salesforce Widget',\n",
       " 'https://help.wrike.com/hc/en-us/articles/360040085934-Wrike-For-Salesforce#integrate': 'Setting Up the Integration',\n",
       " 'https://help.wrike.com/hc/en-us/articles/360040085934-Wrike-For-Salesforce#add': 'Adding the Wrike Widget to Page Layout',\n",
       " 'https://help.wrike.com/hc/en-us/articles/360040085934-Wrike-For-Salesforce#update': 'Updating and Uninstalling',\n",
       " 'https://help.wrike.com/hc/en-us/articles/360040085934-Wrike-For-Salesforce#automate': 'Automating the Wrike-Salesforce Binding',\n",
       " 'https://help.wrike.com/hc/en-us/articles/209604509-Wrike-for-Office-Documents-Office-Add-in-#overview': 'Overview',\n",
       " 'https://help.wrike.com/hc/en-us/articles/209604509-Wrike-for-Office-Documents-Office-Add-in-#compatibility': 'Compatibility',\n",
       " 'https://help.wrike.com/hc/en-us/articles/209604509-Wrike-for-Office-Documents-Office-Add-in-#install': 'Install the Add-in',\n",
       " 'https://help.wrike.com/hc/en-us/articles/209604509-Wrike-for-Office-Documents-Office-Add-in-#open': 'Open the Add-in',\n",
       " 'https://help.wrike.com/hc/en-us/articles/209604509-Wrike-for-Office-Documents-Office-Add-in-#create': 'Create a Task from the Add-in',\n",
       " 'https://help.wrike.com/hc/en-us/articles/209604509-Wrike-for-Office-Documents-Office-Add-in-#attach': 'Remove\\xa0the Add-in',\n",
       " 'https://help.wrike.com/hc/en-us/articles/210323725-Wrike-Extension-for-Adobe-Creative-Cloud#overview': 'Overview',\n",
       " 'https://help.wrike.com/hc/en-us/articles/210323725-Wrike-Extension-for-Adobe-Creative-Cloud#compatibility': 'Install Wrike’s Extension for Adobe Creative Cloud',\n",
       " 'https://help.wrike.com/hc/en-us/articles/210323725-Wrike-Extension-for-Adobe-Creative-Cloud#enable': 'Proofing and Approvals in Adobe Extension',\n",
       " 'https://help.wrike.com/hc/en-us/articles/210323725-Wrike-Extension-for-Adobe-Creative-Cloud#link': 'Link Adobe\\xa0Files with Wrike Tasks',\n",
       " 'https://help.wrike.com/hc/en-us/articles/210323725-Wrike-Extension-for-Adobe-Creative-Cloud#update': 'Update a Linked Image',\n",
       " 'https://help.wrike.com/hc/en-us/articles/115005892225-Wrike-ToDo-Extension#overview': 'Important Information',\n",
       " 'https://help.wrike.com/hc/en-us/articles/115005892225-Wrike-ToDo-Extension#install': 'Install the Extension',\n",
       " 'https://help.wrike.com/hc/en-us/articles/115005892225-Wrike-ToDo-Extension#when': 'When You Install the Extension',\n",
       " 'https://help.wrike.com/hc/en-us/articles/115005892225-Wrike-ToDo-Extension#create': 'Create a Task',\n",
       " 'https://help.wrike.com/hc/en-us/articles/115005892225-Wrike-ToDo-Extension#notifications': 'Notifications in Wrike ToDo',\n",
       " 'https://help.wrike.com/hc/en-us/articles/115005892225-Wrike-ToDo-Extension#change': \"Change Wrike ToDo's Theme\",\n",
       " 'https://help.wrike.com/hc/en-us/articles/115005892225-Wrike-ToDo-Extension#remove': 'Remove the Extension',\n",
       " 'https://help.wrike.com/hc/en-us/articles/360037345013-Export-Data-to-Excel#overview': 'Overview',\n",
       " 'https://help.wrike.com/hc/en-us/articles/360037345013-Export-Data-to-Excel#important': 'Important Information',\n",
       " 'https://help.wrike.com/hc/en-us/articles/360037345013-Export-Data-to-Excel#export': 'Export Tasks from a Specific Folder, Project or Space',\n",
       " 'https://help.wrike.com/hc/en-us/articles/210324125-Import-Data-From-Excel#overview': 'Overview',\n",
       " 'https://help.wrike.com/hc/en-us/articles/210324125-Import-Data-From-Excel#important': 'Important Information',\n",
       " 'https://help.wrike.com/hc/en-us/articles/210324125-Import-Data-From-Excel#import': 'Import XLS Files to Wrike',\n",
       " 'https://help.wrike.com/hc/en-us/articles/210324125-Import-Data-From-Excel#format': 'Format XLS Files for Import to Wrike',\n",
       " 'https://help.wrike.com/hc/en-us/articles/210324125-Import-Data-From-Excel#add': 'Add Data to XLS Files',\n",
       " 'https://help.wrike.com/hc/en-us/articles/360019094414-BI-Export#h_db0da36d-bea3-446f-aace-426ea0f4c7e1': 'Overview',\n",
       " 'https://help.wrike.com/hc/en-us/articles/360019094414-BI-Export#h_1ce69f4a-034a-4786-abc0-cb20cec20806': 'Important Information',\n",
       " 'https://help.wrike.com/hc/en-us/articles/360019094414-BI-Export#h_93b62fbb-ac99-457a-8e99-5a155be23a26': 'Export BI Data',\n",
       " 'https://help.wrike.com/hc/en-us/articles/209605149-Import-MS-Project-Files#overview': 'Overview',\n",
       " 'https://help.wrike.com/hc/en-us/articles/209605149-Import-MS-Project-Files#important': 'Import from Microsoft Project',\n",
       " 'https://help.wrike.com/hc/en-us/articles/209605149-Import-MS-Project-Files#lead': 'Lead and Lag Times',\n",
       " 'https://help.wrike.com/hc/en-us/articles/210324145-Importing-Outlook-Tasks#export': 'Export Tasks from Outlook',\n",
       " 'https://help.wrike.com/hc/en-us/articles/210324145-Importing-Outlook-Tasks#add': 'Import Tasks to Wrike',\n",
       " 'https://help.wrike.com/hc/en-us/articles/360044211853-Project-Syncs-Add-On#overview': 'Overview',\n",
       " 'https://help.wrike.com/hc/en-us/articles/360044211853-Project-Syncs-Add-On#important': 'Important Information',\n",
       " 'https://help.wrike.com/hc/en-us/articles/360044211853-Project-Syncs-Add-On#how': 'How It Works',\n",
       " 'https://help.wrike.com/hc/en-us/articles/360044211853-Project-Syncs-Add-On#enable': 'Navigate Project Syncs',\n",
       " 'https://help.wrike.com/hc/en-us/articles/115005782549-Wrike-and-Bitbucket-Sync-Overview#overview': 'Overview',\n",
       " 'https://help.wrike.com/hc/en-us/articles/115005782549-Wrike-and-Bitbucket-Sync-Overview#important': 'Important Information',\n",
       " 'https://help.wrike.com/hc/en-us/articles/115005782549-Wrike-and-Bitbucket-Sync-Overview#use': 'Use Cases',\n",
       " 'https://help.wrike.com/hc/en-us/articles/115005782549-Wrike-and-Bitbucket-Sync-Overview#ongoing': 'Ongoing Sync: Update Time and Synced Actions',\n",
       " 'https://help.wrike.com/hc/en-us/articles/115005782549-Wrike-and-Bitbucket-Sync-Overview#Create': 'Create Bitbucket Issues from Wrike',\n",
       " 'https://help.wrike.com/hc/en-us/articles/115005782549-Wrike-and-Bitbucket-Sync-Overview#subtasks': 'Subtasks and the Bitbucket Integration',\n",
       " 'https://help.wrike.com/hc/en-us/articles/115005782549-Wrike-and-Bitbucket-Sync-Overview#mapped': 'Mapped and Unmapped Fields',\n",
       " 'https://help.wrike.com/hc/en-us/articles/115005782509-Wrike-and-Bitbucket-Sync-Setup-Guide#overview': 'Important Information',\n",
       " 'https://help.wrike.com/hc/en-us/articles/115005782509-Wrike-and-Bitbucket-Sync-Setup-Guide#setup': 'Set Up the Sync',\n",
       " 'https://help.wrike.com/hc/en-us/articles/115005782509-Wrike-and-Bitbucket-Sync-Setup-Guide#edit': 'Edit Existing Syncs',\n",
       " 'https://help.wrike.com/hc/en-us/articles/115005782369-Wrike-and-GitLab-Sync-Overview#overview': 'Overview',\n",
       " 'https://help.wrike.com/hc/en-us/articles/115005782369-Wrike-and-GitLab-Sync-Overview#important': 'Important Information',\n",
       " 'https://help.wrike.com/hc/en-us/articles/115005782369-Wrike-and-GitLab-Sync-Overview#use': 'Use Cases',\n",
       " 'https://help.wrike.com/hc/en-us/articles/115005782369-Wrike-and-GitLab-Sync-Overview#ongoing': 'Ongoing Sync: Update Time and Synced Actions',\n",
       " 'https://help.wrike.com/hc/en-us/articles/115005782369-Wrike-and-GitLab-Sync-Overview#create': 'Create GitLab Issues from Wrike',\n",
       " 'https://help.wrike.com/hc/en-us/articles/115005782369-Wrike-and-GitLab-Sync-Overview#subtasks': 'Subtasks and the GitLab Integration',\n",
       " 'https://help.wrike.com/hc/en-us/articles/115005782369-Wrike-and-GitLab-Sync-Overview#mapped': 'Mapped and Unmapped Fields',\n",
       " 'https://help.wrike.com/hc/en-us/articles/115005784145-Wrike-and-GitLab-Sync-Setup-Guide#overview': 'Overview',\n",
       " 'https://help.wrike.com/hc/en-us/articles/115005784145-Wrike-and-GitLab-Sync-Setup-Guide#important': 'Important Information',\n",
       " 'https://help.wrike.com/hc/en-us/articles/115005784145-Wrike-and-GitLab-Sync-Setup-Guide#setup': 'Set Up the Sync',\n",
       " 'https://help.wrike.com/hc/en-us/articles/115005784145-Wrike-and-GitLab-Sync-Setup-Guide#edit': 'Edit Existing Syncs',\n",
       " 'https://help.wrike.com/hc/en-us/articles/212889465-Wrike-and-GitHub-Sync-Overview#overview': 'Overview',\n",
       " 'https://help.wrike.com/hc/en-us/articles/212889465-Wrike-and-GitHub-Sync-Overview#important': 'Important Information',\n",
       " 'https://help.wrike.com/hc/en-us/articles/212889465-Wrike-and-GitHub-Sync-Overview#use': 'Use Cases',\n",
       " 'https://help.wrike.com/hc/en-us/articles/212889465-Wrike-and-GitHub-Sync-Overview#ongoing': 'Ongoing Sync: Update Time and Synced Actions',\n",
       " 'https://help.wrike.com/hc/en-us/articles/212889465-Wrike-and-GitHub-Sync-Overview#create': 'Create GitHub Issues from Wrike',\n",
       " 'https://help.wrike.com/hc/en-us/articles/212889465-Wrike-and-GitHub-Sync-Overview#subtasks': 'Subtasks and the GitHub Integration',\n",
       " 'https://help.wrike.com/hc/en-us/articles/212889465-Wrike-and-GitHub-Sync-Overview#mapped': 'Mapped and Unmapped Fields',\n",
       " 'https://help.wrike.com/hc/en-us/articles/212888505-Wrike-and-GitHub-Sync-Setup-Guide#overview': 'Overview',\n",
       " 'https://help.wrike.com/hc/en-us/articles/212888505-Wrike-and-GitHub-Sync-Setup-Guide#important': 'Important Information',\n",
       " 'https://help.wrike.com/hc/en-us/articles/212888505-Wrike-and-GitHub-Sync-Setup-Guide#setup': 'Set Up the Sync',\n",
       " 'https://help.wrike.com/hc/en-us/articles/212888505-Wrike-and-GitHub-Sync-Setup-Guide#edit': 'Edit Existing Syncs',\n",
       " 'https://help.wrike.com/hc/en-us/articles/209605349-Wrike-and-JIRA-Sync-Overview#overview': 'Overview',\n",
       " 'https://help.wrike.com/hc/en-us/articles/209605349-Wrike-and-JIRA-Sync-Overview#important': 'Important Information',\n",
       " 'https://help.wrike.com/hc/en-us/articles/209605349-Wrike-and-JIRA-Sync-Overview#use': 'Use Cases',\n",
       " 'https://help.wrike.com/hc/en-us/articles/209605349-Wrike-and-JIRA-Sync-Overview#ongoing': 'Ongoing Sync: Update Time and Synced Actions',\n",
       " 'https://help.wrike.com/hc/en-us/articles/209605349-Wrike-and-JIRA-Sync-Overview#create': 'Create JIRA Issues from Wrike',\n",
       " 'https://help.wrike.com/hc/en-us/articles/209605349-Wrike-and-JIRA-Sync-Overview#subtasks': 'Subtasks and the JIRA Integration',\n",
       " 'https://help.wrike.com/hc/en-us/articles/209605349-Wrike-and-JIRA-Sync-Overview#mapped': 'Mapped and Unmapped Fields',\n",
       " 'https://help.wrike.com/hc/en-us/articles/209605189-Wrike-and-JIRA-Sync-Setup-Guide#overview': 'Overview',\n",
       " 'https://help.wrike.com/hc/en-us/articles/209605189-Wrike-and-JIRA-Sync-Setup-Guide#important': 'Important Information',\n",
       " 'https://help.wrike.com/hc/en-us/articles/209605189-Wrike-and-JIRA-Sync-Setup-Guide#setup': 'Set Up the Sync',\n",
       " 'https://help.wrike.com/hc/en-us/articles/209605189-Wrike-and-JIRA-Sync-Setup-Guide#edit': 'Edit Existing Syncs',\n",
       " 'https://help.wrike.com/hc/en-us/articles/360016043273-Connect-Tableau-and-Wrike#overview': 'Overview',\n",
       " 'https://help.wrike.com/hc/en-us/articles/360016043273-Connect-Tableau-and-Wrike#important': 'Important Information',\n",
       " 'https://help.wrike.com/hc/en-us/articles/360016043273-Connect-Tableau-and-Wrike#connect': 'Connect Tableau Desktop to Wrike',\n",
       " 'https://help.wrike.com/hc/en-us/articles/360016043273-Connect-Tableau-and-Wrike#whitelist': 'Whitelist Wrike Connector on Tableau Server',\n",
       " 'https://help.wrike.com/hc/en-us/articles/360016043273-Connect-Tableau-and-Wrike#publish': 'Publish Wrike Data to the Tableau Server or Tableau Online',\n",
       " 'https://help.wrike.com/hc/en-us/articles/360016043273-Connect-Tableau-and-Wrike#refresh': 'Configure Automatic Refresh of Wrike Data',\n",
       " 'https://help.wrike.com/hc/en-us/articles/115001825869-Microsoft-Teams#overview': 'Overview',\n",
       " 'https://help.wrike.com/hc/en-us/articles/115001825869-Microsoft-Teams#important': 'Important Information',\n",
       " 'https://help.wrike.com/hc/en-us/articles/115001825869-Microsoft-Teams#how': 'How Wrike Works in Microsoft Teams',\n",
       " 'https://help.wrike.com/hc/en-us/articles/115001825869-Microsoft-Teams#create': 'Creating a New Wrike Account',\n",
       " 'https://help.wrike.com/hc/en-us/articles/115001825869-Microsoft-Teams#link': 'Linking an Existing Wrike Account',\n",
       " 'https://help.wrike.com/hc/en-us/articles/115001825869-Microsoft-Teams#invite': 'Invite Teammates to Account',\n",
       " 'https://help.wrike.com/hc/en-us/articles/115001825869-Microsoft-Teams#addpersonal': \"Adding a Folder/Project to Any Team's Channel\",\n",
       " 'https://help.wrike.com/hc/en-us/articles/115001825869-Microsoft-Teams#messaging': 'Messaging App',\n",
       " 'https://help.wrike.com/hc/en-us/articles/115001825869-Microsoft-Teams#personal': 'Personal App',\n",
       " 'https://help.wrike.com/hc/en-us/articles/211587165-Slack#overview': 'Overview',\n",
       " 'https://help.wrike.com/hc/en-us/articles/211587165-Slack#important': 'Important Information',\n",
       " 'https://help.wrike.com/hc/en-us/articles/211587165-Slack#enable': \"Enable Wrike's Slack Integration\",\n",
       " 'https://help.wrike.com/hc/en-us/articles/211587165-Slack#wrike': 'Wrike Notifications in Slack',\n",
       " 'https://help.wrike.com/hc/en-us/articles/211587165-Slack#disable': 'Disable Wrike Notifications in Slack',\n",
       " 'https://help.wrike.com/hc/en-us/articles/211587165-Slack#create': 'Create a Task from Slack',\n",
       " 'https://help.wrike.com/hc/en-us/articles/211587165-Slack#wrikeslack': 'More Slash Commands',\n",
       " 'https://help.wrike.com/hc/en-us/articles/211587165-Slack#disableintegration': 'Disable the Integration',\n",
       " 'https://help.wrike.com/hc/en-us/articles/210409445-Developer-Portal#overview': 'Overview',\n",
       " 'https://help.wrike.com/hc/en-us/articles/210409445-Developer-Portal#create': 'Create an App',\n",
       " 'https://help.wrike.com/hc/en-us/articles/210409445-Developer-Portal#tokens': 'Tokens',\n",
       " 'https://help.wrike.com/hc/en-us/articles/210409445-Developer-Portal#configure': 'Configure Existing Apps',\n",
       " 'https://help.wrike.com/hc/en-us/articles/209605169-Zapier#overview': 'Overview',\n",
       " 'https://help.wrike.com/hc/en-us/articles/209605169-Zapier#popular': 'Popular Wrike Zaps',\n",
       " 'https://help.wrike.com/hc/en-us/articles/209605169-Zapier#set': 'Set up a Zap',\n",
       " 'https://help.wrike.com/hc/en-us/articles/209605169-Zapier#wufoo': 'Integrate an online form into Wrike with Wufoo and Zapier integration',\n",
       " 'https://help.wrike.com/hc/en-us/articles/210324205-G-Suite#overview': 'Benefits of Linking Wrike with\\xa0G Suite',\n",
       " 'https://help.wrike.com/hc/en-us/articles/210324205-G-Suite#create': 'Create a User Account via G Suite',\n",
       " 'https://help.wrike.com/hc/en-us/articles/210324205-G-Suite#login': 'Login Using Google Credentials',\n",
       " 'https://help.wrike.com/hc/en-us/articles/209605089-G-Suite-Implementation-Guide#overview': 'Overview',\n",
       " 'https://help.wrike.com/hc/en-us/articles/209605089-G-Suite-Implementation-Guide#benefits': \"Install Wrike's App from the G Suite Marketplace\",\n",
       " 'https://help.wrike.com/hc/en-us/articles/209605089-G-Suite-Implementation-Guide#create': 'Create a Wrike Subscription via G Suite',\n",
       " 'https://help.wrike.com/hc/en-us/articles/209605089-G-Suite-Implementation-Guide#link': 'Link an Existing Wrike Subscription with G Suite',\n",
       " 'https://help.wrike.com/hc/en-us/articles/214413365-Google-Calendar-Integration#overview': 'Overview',\n",
       " 'https://help.wrike.com/hc/en-us/articles/214413365-Google-Calendar-Integration#important': 'Important Information',\n",
       " 'https://help.wrike.com/hc/en-us/articles/214413365-Google-Calendar-Integration#enable': 'Enable the Google Calendar Integration',\n",
       " 'https://help.wrike.com/hc/en-us/articles/214413365-Google-Calendar-Integration#schedule': 'Schedule a Task',\n",
       " 'https://help.wrike.com/hc/en-us/articles/214413365-Google-Calendar-Integration#edit': 'Edit an Event',\n",
       " 'https://help.wrike.com/hc/en-us/articles/214413365-Google-Calendar-Integration#delete': 'Delete an Event',\n",
       " 'https://help.wrike.com/hc/en-us/articles/210324105-Integrated-Cloud-Storage-Apps#overview': nan,\n",
       " 'https://help.wrike.com/hc/en-us/articles/360023074273-I-Sent-an-Email-to-Wrike-but-It-Didn-t-Create-or-Update-a-Task-Tasks-Aren-t-Created-out-of-Emails#situation': 'Situation',\n",
       " 'https://help.wrike.com/hc/en-us/articles/360023074273-I-Sent-an-Email-to-Wrike-but-It-Didn-t-Create-or-Update-a-Task-Tasks-Aren-t-Created-out-of-Emails#solutions': 'Possible Solutions',\n",
       " 'https://help.wrike.com/hc/en-us/articles/360023074273-I-Sent-an-Email-to-Wrike-but-It-Didn-t-Create-or-Update-a-Task-Tasks-Aren-t-Created-out-of-Emails#support': 'Contact Support',\n",
       " 'https://help.wrike.com/hc/en-us/articles/360023074273-I-Sent-an-Email-to-Wrike-but-It-Didn-t-Create-or-Update-a-Task-Tasks-Aren-t-Created-out-of-Emails#more': 'More Info',\n",
       " 'https://help.wrike.com/hc/en-us/articles/360021787894-Finding-a-Task-Folder-or-Project#situation': 'Situation',\n",
       " 'https://help.wrike.com/hc/en-us/articles/360021787894-Finding-a-Task-Folder-or-Project#solutions': 'Possible Solutions',\n",
       " 'https://help.wrike.com/hc/en-us/articles/360021787894-Finding-a-Task-Folder-or-Project#support': 'Contact Support',\n",
       " 'https://help.wrike.com/hc/en-us/articles/360021729294-Email-Notifications-Arrive-With-Delay-or-Don-t-Arrive-at-All#situation': 'Things to check:',\n",
       " 'https://help.wrike.com/hc/en-us/articles/360021729294-Email-Notifications-Arrive-With-Delay-or-Don-t-Arrive-at-All#support': 'Contact Support',\n",
       " 'https://help.wrike.com/hc/en-us/articles/360021729294-Email-Notifications-Arrive-With-Delay-or-Don-t-Arrive-at-All#more': 'More Info',\n",
       " 'https://help.wrike.com/hc/en-us/articles/360021923993-My-Wrike-Is-Taking-an-Unusually-Long-Time-to-Load#situation': 'Situation',\n",
       " 'https://help.wrike.com/hc/en-us/articles/360021923993-My-Wrike-Is-Taking-an-Unusually-Long-Time-to-Load#cause': 'Cause',\n",
       " 'https://help.wrike.com/hc/en-us/articles/360021923993-My-Wrike-Is-Taking-an-Unusually-Long-Time-to-Load#solution': 'Solution',\n",
       " 'https://help.wrike.com/hc/en-us/articles/360021923993-My-Wrike-Is-Taking-an-Unusually-Long-Time-to-Load#support': 'Contact Support',\n",
       " 'https://help.wrike.com/hc/en-us/articles/360021181373-Expired-Trials#situation': 'Situation',\n",
       " 'https://help.wrike.com/hc/en-us/articles/360021181373-Expired-Trials#cause': 'Cause',\n",
       " 'https://help.wrike.com/hc/en-us/articles/360021181373-Expired-Trials#solution': 'Solution',\n",
       " 'https://help.wrike.com/hc/en-us/articles/360021181373-Expired-Trials#support': 'Contact Support',\n",
       " 'https://help.wrike.com/hc/en-us/articles/360021181373-Expired-Trials#more': 'More Info',\n",
       " 'https://help.wrike.com/hc/en-us/articles/360020036614-Issues-With-Uploading-Downloading-Attachments#situation': 'Situation',\n",
       " 'https://help.wrike.com/hc/en-us/articles/360020036614-Issues-With-Uploading-Downloading-Attachments#cause': 'Cause',\n",
       " 'https://help.wrike.com/hc/en-us/articles/360020036614-Issues-With-Uploading-Downloading-Attachments#solutions': 'Possible Solutions',\n",
       " 'https://help.wrike.com/hc/en-us/articles/360020036614-Issues-With-Uploading-Downloading-Attachments#support': 'Contact Support',\n",
       " 'https://help.wrike.com/hc/en-us/articles/360020109473-Task-Descriptions-Not-Loading#situation': 'Situation',\n",
       " 'https://help.wrike.com/hc/en-us/articles/360020109473-Task-Descriptions-Not-Loading#cause': 'Cause',\n",
       " 'https://help.wrike.com/hc/en-us/articles/360020109473-Task-Descriptions-Not-Loading#solutions': 'Solutions',\n",
       " 'https://help.wrike.com/hc/en-us/articles/360020109473-Task-Descriptions-Not-Loading#support': 'Contact Support',\n",
       " 'https://help.wrike.com/hc/en-us/articles/360020103693-My-Wrike-Workspace-Is-Unresponsive-or-Not-Loading#situation': 'Situation',\n",
       " 'https://help.wrike.com/hc/en-us/articles/360020103693-My-Wrike-Workspace-Is-Unresponsive-or-Not-Loading#cause': 'Cause',\n",
       " 'https://help.wrike.com/hc/en-us/articles/360020103693-My-Wrike-Workspace-Is-Unresponsive-or-Not-Loading#solutions': 'Solutions',\n",
       " 'https://help.wrike.com/hc/en-us/articles/360020103693-My-Wrike-Workspace-Is-Unresponsive-or-Not-Loading#support': 'Contact Support',\n",
       " 'https://help.wrike.com/hc/en-us/articles/360004299773-Troubleshooting-Websockets#overview': 'Websocket Requirements',\n",
       " 'https://help.wrike.com/hc/en-us/articles/360004299773-Troubleshooting-Websockets#check': 'Check that WebSockets are Working',\n",
       " 'https://help.wrike.com/hc/en-us/articles/360004299773-Troubleshooting-Websockets#troubleshooting': 'Troubleshooting Websockets',\n",
       " 'https://help.wrike.com/hc/en-us/articles/360039201553-Account-Owner-Change#overview': 'Overview',\n",
       " 'https://help.wrike.com/hc/en-us/articles/360039201553-Account-Owner-Change#important': 'Important Information',\n",
       " 'https://help.wrike.com/hc/en-us/articles/360039201553-Account-Owner-Change#change': 'Overview',\n",
       " 'https://help.wrike.com/hc/en-us/articles/360006843194-Work-Schedules-for-Admins#overview': 'Important Information',\n",
       " 'https://help.wrike.com/hc/en-us/articles/360006843194-Work-Schedules-for-Admins#edit': 'Assign a Work Schedule (Business and Enterprise)',\n",
       " 'https://help.wrike.com/hc/en-us/articles/360006843194-Work-Schedules-for-Admins#reschedule': 'Automatic Task Rescheduling',\n",
       " 'https://help.wrike.com/hc/en-us/articles/360002004534-Access-Reports#overview': 'Overview',\n",
       " 'https://help.wrike.com/hc/en-us/articles/360002004534-Access-Reports#important': 'Important Information',\n",
       " 'https://help.wrike.com/hc/en-us/articles/360002004534-Access-Reports#navigate': 'Navigate Access Reports',\n",
       " 'https://help.wrike.com/hc/en-us/articles/360002004534-Access-Reports#run': 'Ensure Data is Shared With the Right People',\n",
       " 'https://help.wrike.com/hc/en-us/articles/360002004534-Access-Reports#see': 'See What a Person/Group Has Access To',\n",
       " 'https://help.wrike.com/hc/en-us/articles/360002004534-Access-Reports#guest': 'Run a Guest Reviewers Report',\n",
       " 'https://help.wrike.com/hc/en-us/articles/360002004534-Access-Reports#calendars': 'Run Calendars Access Report',\n",
       " 'https://help.wrike.com/hc/en-us/articles/360002004534-Access-Reports#export': 'Export to CSV',\n",
       " 'https://help.wrike.com/hc/en-us/articles/209603009-My-Team-Group#overview': 'Overview',\n",
       " 'https://help.wrike.com/hc/en-us/articles/209603009-My-Team-Group#important': 'Tag the My Team Group in a Comment',\n",
       " 'https://help.wrike.com/hc/en-us/articles/209603009-My-Team-Group#sharefolder': 'Share a Folder or Project with the My Team Group',\n",
       " 'https://help.wrike.com/hc/en-us/articles/209603009-My-Team-Group#sharetask': 'Share a Task with the My Team Group',\n",
       " 'https://help.wrike.com/hc/en-us/articles/209602989-User-Groups#overview': 'Overview',\n",
       " 'https://help.wrike.com/hc/en-us/articles/209602989-User-Groups#important': 'Important Information',\n",
       " 'https://help.wrike.com/hc/en-us/articles/209602989-User-Groups#create': 'Create a User Group',\n",
       " 'https://help.wrike.com/hc/en-us/articles/209602989-User-Groups#add': 'Add Users to a User Group',\n",
       " 'https://help.wrike.com/hc/en-us/articles/209602989-User-Groups#move': 'Move Users between User Groups',\n",
       " 'https://help.wrike.com/hc/en-us/articles/209602989-User-Groups#remove': 'Remove Users from a User Group',\n",
       " 'https://help.wrike.com/hc/en-us/articles/209602989-User-Groups#createsubgroup': 'Create a Subgroup',\n",
       " 'https://help.wrike.com/hc/en-us/articles/209602989-User-Groups#rename': 'Rename a User Group',\n",
       " 'https://help.wrike.com/hc/en-us/articles/209602989-User-Groups#edit': \"Edit a Group's Avatar\",\n",
       " 'https://help.wrike.com/hc/en-us/articles/209602989-User-Groups#delete': 'Delete a User Group',\n",
       " 'https://help.wrike.com/hc/en-us/articles/360001871874-User-Management-Chart-Business-and-Enterprise-#overview': 'Overview',\n",
       " 'https://help.wrike.com/hc/en-us/articles/360001871874-User-Management-Chart-Business-and-Enterprise-#access': 'Access the User Management Chart',\n",
       " 'https://help.wrike.com/hc/en-us/articles/360001871874-User-Management-Chart-Business-and-Enterprise-#navigate': 'Navigate the User Management Chart',\n",
       " 'https://help.wrike.com/hc/en-us/articles/360001871874-User-Management-Chart-Business-and-Enterprise-#edit': \"Edit Users' Names and Emails\",\n",
       " 'https://help.wrike.com/hc/en-us/articles/360001871874-User-Management-Chart-Business-and-Enterprise-#change': \"Change a User's License Type\",\n",
       " 'https://help.wrike.com/hc/en-us/articles/360001871874-User-Management-Chart-Business-and-Enterprise-#export': 'Export a List of Users',\n",
       " 'https://help.wrike.com/hc/en-us/articles/360001871874-User-Management-Chart-Business-and-Enterprise-#mass': 'Mass Actions on a User Management Chart',\n",
       " 'https://help.wrike.com/hc/en-us/articles/115005069169-Group-Admin#more': 'More Info',\n",
       " 'https://help.wrike.com/hc/en-us/articles/115004551205-Log-In-as-Another-User#overview': 'Important Information',\n",
       " 'https://help.wrike.com/hc/en-us/articles/115004551205-Log-In-as-Another-User#who': 'How to Log In as a User',\n",
       " 'https://help.wrike.com/hc/en-us/articles/115003289725-Supported-Browsers#important': 'Important Information',\n",
       " 'https://help.wrike.com/hc/en-us/articles/115003289725-Supported-Browsers#supported': 'Supported Browsers',\n",
       " 'https://help.wrike.com/hc/en-us/articles/115003289725-Supported-Browsers#TLS': 'What Is TLS',\n",
       " 'https://help.wrike.com/hc/en-us/articles/115003289725-Supported-Browsers#more': 'More Resources',\n",
       " 'https://help.wrike.com/hc/en-us/articles/209606309-Activity-Reports#overview': 'Overview',\n",
       " 'https://help.wrike.com/hc/en-us/articles/209606309-Activity-Reports#available': 'Available Activity Report Parameters',\n",
       " 'https://help.wrike.com/hc/en-us/articles/209606309-Activity-Reports#create': 'Create an Activity Report',\n",
       " 'https://help.wrike.com/hc/en-us/articles/209605469-User-Management-Chart-Free-and-Professional-#about': 'Overview',\n",
       " 'https://help.wrike.com/hc/en-us/articles/209605469-User-Management-Chart-Free-and-Professional-#access': 'Navigate the User Management Chart',\n",
       " 'https://help.wrike.com/hc/en-us/articles/209605469-User-Management-Chart-Free-and-Professional-#change': \"Change a User's License Type\",\n",
       " 'https://help.wrike.com/hc/en-us/articles/210324345-Add-Users-#overview': 'Overview',\n",
       " 'https://help.wrike.com/hc/en-us/articles/210324345-Add-Users-#important': 'Restrict Invitations by Domain (for Admins)',\n",
       " 'https://help.wrike.com/hc/en-us/articles/210324325-Controlled-Admin-Permissions#h_17aa6a20-32ea-4c77-9087-93a455d6ec45': 'Overview',\n",
       " 'https://help.wrike.com/hc/en-us/articles/210324325-Controlled-Admin-Permissions#owners': 'Enterprise\\xa0Admin Permissions',\n",
       " 'https://help.wrike.com/hc/en-us/articles/210324325-Controlled-Admin-Permissions#control': 'Edit Admin Permissions',\n",
       " 'https://help.wrike.com/hc/en-us/articles/210324325-Controlled-Admin-Permissions#grant': 'Grant Admin Rights',\n",
       " 'https://help.wrike.com/hc/en-us/articles/209605449-Admin-Permissions#about': 'Overview',\n",
       " 'https://help.wrike.com/hc/en-us/articles/209605449-Admin-Permissions#important': 'Admin\\xa0Permissions',\n",
       " 'https://help.wrike.com/hc/en-us/articles/209605449-Admin-Permissions#owner': 'Account Owner Permissions',\n",
       " 'https://help.wrike.com/hc/en-us/articles/209605449-Admin-Permissions#grant': 'Make a User an Admin',\n",
       " 'https://help.wrike.com/hc/en-us/articles/209605449-Admin-Permissions#more': 'More Info',\n",
       " 'https://help.wrike.com/hc/en-us/articles/209605429-Change-Account-Name#about': 'Overview',\n",
       " 'https://help.wrike.com/hc/en-us/articles/209605389-Branded-Workspace-and-Email-Notifications#overview': 'Overview',\n",
       " 'https://help.wrike.com/hc/en-us/articles/209605389-Branded-Workspace-and-Email-Notifications#logo': 'Upload a Company Logo for a Branded Workspace',\n",
       " 'https://help.wrike.com/hc/en-us/articles/209605389-Branded-Workspace-and-Email-Notifications#email': nan,\n",
       " 'https://help.wrike.com/hc/en-us/articles/209605369-Delete-a-User#about': 'Overview',\n",
       " 'https://help.wrike.com/hc/en-us/articles/209605369-Delete-a-User#remove': 'Deleting a User',\n",
       " 'https://help.wrike.com/hc/en-us/articles/209605369-Delete-a-User#transfer': 'Transfer Data to Another User in the Account',\n",
       " 'https://help.wrike.com/hc/en-us/articles/212813185-Close-an-Account#free': 'Important Information',\n",
       " 'https://help.wrike.com/hc/en-us/articles/360002263254-Wrike-OneLogin-User-Provisioning#set': 'Set Up Wrike with OneLogin SCIM',\n",
       " 'https://help.wrike.com/hc/en-us/articles/360002263254-Wrike-OneLogin-User-Provisioning#synced': 'Synced Attributes',\n",
       " 'https://help.wrike.com/hc/en-us/articles/360002263254-Wrike-OneLogin-User-Provisioning#troubleshooting': 'Troubleshooting',\n",
       " 'https://help.wrike.com/hc/en-us/articles/360000254229-Wrike-Okta-User-Provisioning#overview': 'Important Information',\n",
       " 'https://help.wrike.com/hc/en-us/articles/360000254229-Wrike-Okta-User-Provisioning#set': 'Step 4: Finalize the Setup from Okta',\n",
       " 'https://help.wrike.com/hc/en-us/articles/360000254229-Wrike-Okta-User-Provisioning#synced': 'Troubleshooting',\n",
       " 'https://help.wrike.com/hc/en-us/articles/360046791773-Wrike-and-Azure-Active-Directory-User-Provisioning#overview': 'Overview',\n",
       " 'https://help.wrike.com/hc/en-us/articles/360046791773-Wrike-and-Azure-Active-Directory-User-Provisioning#Important': 'Important Information',\n",
       " 'https://help.wrike.com/hc/en-us/articles/360046791773-Wrike-and-Azure-Active-Directory-User-Provisioning#Set': 'Set Up Wrike With Azure AD SCIM',\n",
       " 'https://help.wrike.com/hc/en-us/articles/360046791773-Wrike-and-Azure-Active-Directory-User-Provisioning#Attributes': 'Synced Attributes',\n",
       " 'https://help.wrike.com/hc/en-us/articles/360046791773-Wrike-and-Azure-Active-Directory-User-Provisioning#Troubleshooting': 'Troubleshooting',\n",
       " 'https://help.wrike.com/hc/en-us/articles/360008652293-Workweek-Settings#about': 'Overview',\n",
       " 'https://help.wrike.com/hc/en-us/articles/360008652293-Workweek-Settings#changefirst': 'Change the First Day of the Week',\n",
       " 'https://help.wrike.com/hc/en-us/articles/360008652093-Language-Settings#about': 'Overview',\n",
       " 'https://help.wrike.com/hc/en-us/articles/360008652093-Language-Settings#changelanguage': 'Change Language Settings',\n",
       " 'https://help.wrike.com/hc/en-us/articles/360008254873-Workspace-Themes#overview': 'Overview',\n",
       " 'https://help.wrike.com/hc/en-us/articles/360008254873-Workspace-Themes#change': 'Create a Calendar Exception',\n",
       " 'https://help.wrike.com/hc/en-us/articles/360006918953-Work-Schedules-for-Users#delete': 'Delete a Calendar Exception',\n",
       " 'https://help.wrike.com/hc/en-us/articles/360006918953-Work-Schedules-for-Users#reschedule': 'Automatic Task Rescheduling',\n",
       " 'https://help.wrike.com/hc/en-us/articles/210324405-Email-Notifications#overview': 'Overview',\n",
       " 'https://help.wrike.com/hc/en-us/articles/210324405-Email-Notifications#customization': 'Email Notification Options',\n",
       " 'https://help.wrike.com/hc/en-us/articles/210324405-Email-Notifications#edit': 'Edit Email Notification Settings',\n",
       " 'https://help.wrike.com/hc/en-us/articles/209605589-Daily-To-Do-Emails#overview': 'Overview',\n",
       " 'https://help.wrike.com/hc/en-us/articles/209605589-Daily-To-Do-Emails#navigate': 'Navigate the Daily To-Do Email',\n",
       " 'https://help.wrike.com/hc/en-us/articles/209605589-Daily-To-Do-Emails#interact': 'Interact with Tasks on\\xa0To-Do Emails',\n",
       " 'https://help.wrike.com/hc/en-us/articles/209605569-Add-or-Delete-an-Email#overview': 'Overview',\n",
       " 'https://help.wrike.com/hc/en-us/articles/209605569-Add-or-Delete-an-Email#add': 'Add an Email',\n",
       " 'https://help.wrike.com/hc/en-us/articles/209605569-Add-or-Delete-an-Email#primary': 'Set an Email as Primary',\n",
       " 'https://help.wrike.com/hc/en-us/articles/209605569-Add-or-Delete-an-Email#delete': 'Delete an Email',\n",
       " 'https://help.wrike.com/hc/en-us/articles/210324385-Upload-an-Avatar#overview': 'Change your\\xa0Profile Picture',\n",
       " 'https://help.wrike.com/hc/en-us/articles/209605549-Passwords#overview': 'Overview',\n",
       " 'https://help.wrike.com/hc/en-us/articles/209605549-Passwords#change': 'Change Password',\n",
       " 'https://help.wrike.com/hc/en-us/articles/209605549-Passwords#reset': 'Reset Password',\n",
       " 'https://help.wrike.com/hc/en-us/articles/209605549-Passwords#supported': 'Supported Characters and Symbols',\n",
       " 'https://help.wrike.com/hc/en-us/articles/210324365-Personal-Profile#overview': 'Overview',\n",
       " 'https://help.wrike.com/hc/en-us/articles/210324365-Personal-Profile#edit': 'Edit your Personal Profile',\n",
       " 'https://help.wrike.com/hc/en-us/articles/209605529-Time-and-Date-Settings#about': 'Overview',\n",
       " 'https://help.wrike.com/hc/en-us/articles/209605529-Time-and-Date-Settings#editdate': 'Edit the Date and Time Format',\n",
       " 'https://help.wrike.com/hc/en-us/articles/209605529-Time-and-Date-Settings#changetime': 'Change Time Zone Settings',\n",
       " 'https://help.wrike.com/hc/en-us/articles/209605509-Desktop-Notifications#overview': 'Overview',\n",
       " 'https://help.wrike.com/hc/en-us/articles/209605489-Multiple-Accounts#overview': 'Overview',\n",
       " 'https://help.wrike.com/hc/en-us/articles/209605489-Multiple-Accounts#important': 'Important Information',\n",
       " 'https://help.wrike.com/hc/en-us/articles/209605489-Multiple-Accounts#privacy': 'Privacy',\n",
       " 'https://help.wrike.com/hc/en-us/articles/209605489-Multiple-Accounts#create': 'Create an Additional Account',\n",
       " 'https://help.wrike.com/hc/en-us/articles/209605489-Multiple-Accounts#switch': 'Switching Between Accounts',\n",
       " 'https://help.wrike.com/hc/en-us/articles/209605489-Multiple-Accounts#billing': 'Billing with Multiple Accounts',\n",
       " 'https://help.wrike.com/hc/en-us/articles/209605489-Multiple-Accounts#sharing': 'Remove Billing Information',\n",
       " 'https://help.wrike.com/hc/en-us/articles/209605689-Purchase-a-Subscription#overview': 'Professional\\xa0Accounts',\n",
       " 'https://help.wrike.com/hc/en-us/articles/209605689-Purchase-a-Subscription#business': 'Business Accounts',\n",
       " 'https://help.wrike.com/hc/en-us/articles/209605689-Purchase-a-Subscription#wrike': 'Wrike for Marketers Accounts',\n",
       " 'https://help.wrike.com/hc/en-us/articles/209605689-Purchase-a-Subscription#services': 'Enterprise\\xa0Accounts',\n",
       " 'https://help.wrike.com/hc/en-us/articles/209605669-Manage-Subscriptions#plans': 'Overview',\n",
       " 'https://help.wrike.com/hc/en-us/articles/209605669-Manage-Subscriptions#important': 'Important Information',\n",
       " 'https://help.wrike.com/hc/en-us/articles/209605669-Manage-Subscriptions#advanced': 'Features by Account\\xa0Type',\n",
       " 'https://help.wrike.com/hc/en-us/articles/360034273733-SSO-with-Azure#overview': 'Overview',\n",
       " 'https://help.wrike.com/hc/en-us/articles/360034273733-SSO-with-Azure#Important': 'Important Information',\n",
       " 'https://help.wrike.com/hc/en-us/articles/360034273733-SSO-with-Azure#setup': 'Decide the Scope of Single Sign-on',\n",
       " 'https://help.wrike.com/hc/en-us/articles/209605769-SSO-with-SAML-Implementation-Guide#enabling': 'Before enabling SSO it’s important to confirm that:',\n",
       " 'https://help.wrike.com/hc/en-us/articles/209605769-SSO-with-SAML-Implementation-Guide#add': 'Add Approved Email Domains',\n",
       " 'https://help.wrike.com/hc/en-us/articles/209605769-SSO-with-SAML-Implementation-Guide#allow': 'Allow Users to Join Multiple SAML-Integrated Accounts',\n",
       " 'https://help.wrike.com/hc/en-us/articles/210324565-SSO-with-SAML-User-Guide#overview': 'Accessing Wrike via\\xa0Single Sign-on',\n",
       " 'https://help.wrike.com/hc/en-us/articles/210324565-SSO-with-SAML-User-Guide#onetime': 'Login to Wrike Apps with One-time Passwords',\n",
       " 'https://help.wrike.com/hc/en-us/articles/210324565-SSO-with-SAML-User-Guide#adding': 'Adding New Users',\n",
       " 'https://help.wrike.com/hc/en-us/articles/210324565-SSO-with-SAML-User-Guide#removing': 'Removing Users',\n",
       " 'https://help.wrike.com/hc/en-us/articles/210324565-SSO-with-SAML-User-Guide#signout': 'Single Sign-out',\n",
       " 'https://help.wrike.com/hc/en-us/articles/210324545-SSO-with-Microsoft-Credentials-User-Guide#overview': 'Overview',\n",
       " 'https://help.wrike.com/hc/en-us/articles/210324545-SSO-with-Microsoft-Credentials-User-Guide#benefits': 'Benefits of Linking Wrike with Azure Active Directory',\n",
       " 'https://help.wrike.com/hc/en-us/articles/210324545-SSO-with-Microsoft-Credentials-User-Guide#enable': 'Enable Single Sign-on',\n",
       " 'https://help.wrike.com/hc/en-us/articles/210324545-SSO-with-Microsoft-Credentials-User-Guide#create': 'Create a Wrike User Account via Office 365',\n",
       " 'https://help.wrike.com/hc/en-us/articles/210324545-SSO-with-Microsoft-Credentials-User-Guide#log': 'Log in to Wrike using Microsoft Credentials',\n",
       " 'https://help.wrike.com/hc/en-us/articles/210324525-SSO-with-Microsoft-Credentials-Implementation-Guide#overview': 'Overview',\n",
       " ...}"
      ]
     },
     "execution_count": 8,
     "metadata": {},
     "output_type": "execute_result"
    }
   ],
   "source": [
    "d_all_data"
   ]
  },
  {
   "cell_type": "code",
   "execution_count": 9,
   "metadata": {},
   "outputs": [
    {
     "data": {
      "text/plain": [
       "1391"
      ]
     },
     "execution_count": 9,
     "metadata": {},
     "output_type": "execute_result"
    }
   ],
   "source": [
    "len(d_all_data)"
   ]
  },
  {
   "cell_type": "code",
   "execution_count": 10,
   "metadata": {},
   "outputs": [],
   "source": [
    "import copy \n",
    "\n",
    "def preprocess_text(text_copy, tokenizer=RegexpTokenizer(r'\\w+'), \n",
    "                    lemmatizer=WordNetLemmatizer(), stopwords=stopwords.words(\"english\"), pure = False):\n",
    "    text = copy.deepcopy(text_copy)\n",
    "    tokens = tokenizer.tokenize(text)\n",
    "    \n",
    "    if pure: \n",
    "        tokens = [token.lower() for token in tokens]\n",
    "        tokens = [token for token in tokens if token not in english_stopwords\\\n",
    "                  and token != \" \" \\\n",
    "                  and not token.isdigit()]\n",
    "        lemmas = [lemmatizer.lemmatize(token) for token in tokens]\n",
    "        clean_text = \" \".join(lemmas)\n",
    "    else: \n",
    "        clean_text = \" \".join(tokens)\n",
    "    return clean_text"
   ]
  },
  {
   "cell_type": "code",
   "execution_count": 11,
   "metadata": {},
   "outputs": [],
   "source": [
    "link_ref = ['/hc/en-us/requests/new', 'https://help.wrike.com/hc/en-us/requests/new'\n",
    "            ,'/hc/en-us/search?utf8=✓&query=Gantt+chart', 'https://help.wrike.com/hc/en-us/search?utf8=✓&query=Gantt+chart'\n",
    "            ,'/hc/en-us/search?utf8=✓&query=Creating+tasks', 'https://help.wrike.com/hc/en-us/search?utf8=✓&query=Creating+tasks'\n",
    "            ,'/hc/en-us/search?utf8=✓&query=Sharing+folders', 'https://help.wrike.com/hc/en-us/search?utf8=✓&query=Sharing+folders']\n",
    "\n",
    "\n",
    "data_ref = \"profill_names.csv\"\n",
    "\n",
    "def tag_visible(element):\n",
    "    \n",
    "    tag_ = element.parent.name\n",
    "    tag_p = None\n",
    "    try: \n",
    "        tag_p = element.parent.parent.name\n",
    "    except: \n",
    "        pass\n",
    "#     try: \n",
    "#         print(element.parent.text)\n",
    "#     except: \n",
    "#         return False\n",
    "    if tag_ in ['style', 'script', 'head', 'title', 'meta', '[document]', 'div', 'section', 'footer']:\n",
    "        return False\n",
    "    \n",
    "    if tag_p in ['section', 'div']:\n",
    "        return False\n",
    "    \n",
    "    if tag_p in [\"p\", \"nav\", \"span\"] and tag_ == \"a\":\n",
    "        if element.parent.get_attribute_list(\"href\")[-1] is not None  and \\\n",
    "               (not element.parent.get_attribute_list(\"href\")[-1].startswith(\"/hc/en-us/signin\")) and \\\n",
    "               (not element.parent.get_attribute_list(\"href\")[-1].startswith(\"/hc/en-us/community\")) and \\\n",
    "               (element.parent.get_attribute_list(\"href\")[-1] not in link_ref) and \\\n",
    "               (element.parent.get_attribute_list(\"href\")[-1].startswith(\"/hc/en-us/\") or\\\n",
    "                element.parent.get_attribute_list(\"href\")[-1][0] == \"#\"): \n",
    "            r1 = element.parent.get_attribute_list(\"href\")[-1]\n",
    "            if r1.startswith(\"/hc/en-us/profiles\"):\n",
    "                with open(data_ref, \"a+\") as f: \n",
    "                    f.write(re.sub('/hc/en-us/profiles/(\\d*-)', '\\n', r1))\n",
    "            return True\n",
    "            \n",
    "        return False\n",
    "    \n",
    "    if isinstance(element, Comment):\n",
    "        return False\n",
    "    return True\n",
    "\n",
    "\n",
    "def text_from_html(body):\n",
    "    soup = BeautifulSoup(body, 'lxml')\n",
    "    texts = soup.findAll(text=True)\n",
    "    visible_texts = filter(tag_visible, texts)\n",
    "    text = u\" \".join(t.strip() for t in visible_texts)\n",
    "    x = re.sub('[\\n\\r]', '', text)\n",
    "    x = re.sub(' +', ' ',text)\n",
    "    if len(x) < 100: \n",
    "        return ''\n",
    "    return  x\n",
    "\n",
    "\n",
    "def href_from_html(body):\n",
    "    soup = BeautifulSoup(body, 'lxml')\n",
    "    s = ''\n",
    "    for a in soup.find_all('a', href=True):\n",
    "        site_data = a['href']\n",
    "        if site_data in d_all_data or ('https://help.wrike.com' + site_data in d_all_data):  \n",
    "            s += a['href'] + \",\" \n",
    "    return  s.split(\",\")"
   ]
  },
  {
   "cell_type": "code",
   "execution_count": 12,
   "metadata": {},
   "outputs": [],
   "source": [
    "import scrapy\n",
    "from scrapy.spiders import CrawlSpider, Rule\n",
    "from scrapy.linkextractors import LinkExtractor\n",
    "from scrapy.crawler import CrawlerProcess\n",
    "\n",
    "class TheFriendlyNeighbourhoodSpider(CrawlSpider):\n",
    "    name = 'TheFriendlyNeighbourhoodSpider'\n",
    "    allowed_domains = ['help.wrike.com']\n",
    "    start_urls = ['https://help.wrike.com/hc/en-us/']\n",
    "    custom_settings = {\n",
    "    'CONCURRENT_REQUESTS': 10,\n",
    "    'CONCURRENT_REQUESTS_PER_DOMAIN': 25,\n",
    "    'ROBOTSTXT_OBEY': False,\n",
    "    'CONCURRENT_ITEMS': 100,\n",
    "    'REACTOR_THREADPOOL_MAXSIZE': 400,\n",
    "    # Hides printing item dicts\n",
    "    'LOG_LEVEL': 'INFO',\n",
    "    'RETRY_ENABLED': False,\n",
    "    'REDIRECT_MAX_TIMES': 1,\n",
    "    # Grabs xpath before site finish loading\n",
    "    'DOWNLOAD_FAIL_ON_DATALOSS': False,\n",
    "    'DEPTH_PRIORITY': 1,\n",
    "    'SCHEDULER_DISK_QUEUE' : 'scrapy.squeues.PickleFifoDiskQueue',\n",
    "    'SCHEDULER_MEMORY_QUEUE' :'scrapy.squeues.FifoMemoryQueue'\n",
    "    }\n",
    "    rules = (\n",
    "        Rule(LinkExtractor(), callback='parse_item', follow=True),\n",
    "    )\n",
    "    def parse_item(self, response):\n",
    "        #print('Downloaded... ', response.url)\n",
    "        if (not str(response.url).startswith(\"https://help.wrike.com/hc/en-us/signin\")) and\\\n",
    "        ((str(response.url).startswith(\"https://help.wrike.com/hc/en-us\")) \\\n",
    "                    or (str(response.url).startswith(\"https://www.wrike.com/blog/\"))):\n",
    "            data = response.url.split(\"/\")[-1]\n",
    "            if data == \"\": \n",
    "                data = response.url.split(\"/\")[-2]\n",
    "            filename = '/home/alex/chat_bot_wrike/wrike-bot/help_good_for_wrike/' + data + '.csv'\n",
    "            filename_pure = '/home/alex/chat_bot_wrike/wrike-bot/help_good_for_wrike_pure/' + data + '.csv'\n",
    "            html = urllib.request.urlopen(response.url).read()\n",
    "            f_text_raw = text_from_html(html)\n",
    "            sites_data = href_from_html(html)\n",
    "            intersect_set = set(sites_data) & set(d_all_data.keys())\n",
    "            if str(response.url) in d_all_data or len(intersect_set): \n",
    "                print('Saving as :', filename, intersect_set)\n",
    "                if len(f_text_raw) > 30: \n",
    "                    with open(filename_pure, 'w') as f_pure, open(filename, 'w') as f:\n",
    "                        html = urllib.request.urlopen(response.url).read()\n",
    "                        f_text_raw = text_from_html(html) \n",
    "                        f_text_pure = preprocess_text(f_text_raw, pure = True)\n",
    "                        f_text = preprocess_text(f_text_raw)\n",
    "                        print(filename)\n",
    "                        f.write(str(str(response.url)+\" \\n\"))\n",
    "                        f.write(str({\"intersect_setting\": intersect_set})+\" \\n\")\n",
    "                        f.write(f_text)\n",
    "                        f_pure.write(str(str(response.url)+\" \\n\"))\n",
    "                        f_pure.write(str({\"intersect_setting\": intersect_set})+\" \\n\")\n",
    "                        f_pure.write(f_text_pure)\n",
    "                        \n"
   ]
  },
  {
   "cell_type": "code",
   "execution_count": null,
   "metadata": {},
   "outputs": [
    {
     "name": "stderr",
     "output_type": "stream",
     "text": [
      "2020-09-13 03:04:18 [scrapy.utils.log] INFO: Scrapy 2.3.0 started (bot: scrapybot)\n",
      "2020-09-13 03:04:18 [scrapy.utils.log] INFO: Versions: lxml 4.2.5.0, libxml2 2.9.8, cssselect 1.1.0, parsel 1.6.0, w3lib 1.22.0, Twisted 20.3.0, Python 3.7.1 (default, Dec 14 2018, 19:28:38) - [GCC 7.3.0], pyOpenSSL 18.0.0 (OpenSSL 1.1.1g  21 Apr 2020), cryptography 2.4.2, Platform Linux-5.4.0-45-generic-x86_64-with-debian-buster-sid\n",
      "2020-09-13 03:04:18 [scrapy.utils.log] DEBUG: Using reactor: twisted.internet.epollreactor.EPollReactor\n",
      "2020-09-13 03:04:18 [scrapy.crawler] INFO: Overridden settings:\n",
      "{'CONCURRENT_REQUESTS': 10,\n",
      " 'CONCURRENT_REQUESTS_PER_DOMAIN': 25,\n",
      " 'DEPTH_PRIORITY': 1,\n",
      " 'DOWNLOAD_FAIL_ON_DATALOSS': False,\n",
      " 'LOG_LEVEL': 'INFO',\n",
      " 'REACTOR_THREADPOOL_MAXSIZE': 400,\n",
      " 'REDIRECT_MAX_TIMES': 1,\n",
      " 'RETRY_ENABLED': False,\n",
      " 'SCHEDULER_DISK_QUEUE': 'scrapy.squeues.PickleFifoDiskQueue',\n",
      " 'SCHEDULER_MEMORY_QUEUE': 'scrapy.squeues.FifoMemoryQueue'}\n",
      "2020-09-13 03:04:18 [scrapy.extensions.telnet] INFO: Telnet Password: 79f8125d0492db21\n",
      "2020-09-13 03:04:18 [scrapy.middleware] INFO: Enabled extensions:\n",
      "['scrapy.extensions.corestats.CoreStats',\n",
      " 'scrapy.extensions.telnet.TelnetConsole',\n",
      " 'scrapy.extensions.memusage.MemoryUsage',\n",
      " 'scrapy.extensions.logstats.LogStats']\n",
      "2020-09-13 03:04:18 [scrapy.middleware] INFO: Enabled downloader middlewares:\n",
      "['scrapy.downloadermiddlewares.httpauth.HttpAuthMiddleware',\n",
      " 'scrapy.downloadermiddlewares.downloadtimeout.DownloadTimeoutMiddleware',\n",
      " 'scrapy.downloadermiddlewares.defaultheaders.DefaultHeadersMiddleware',\n",
      " 'scrapy.downloadermiddlewares.useragent.UserAgentMiddleware',\n",
      " 'scrapy.downloadermiddlewares.redirect.MetaRefreshMiddleware',\n",
      " 'scrapy.downloadermiddlewares.httpcompression.HttpCompressionMiddleware',\n",
      " 'scrapy.downloadermiddlewares.redirect.RedirectMiddleware',\n",
      " 'scrapy.downloadermiddlewares.cookies.CookiesMiddleware',\n",
      " 'scrapy.downloadermiddlewares.httpproxy.HttpProxyMiddleware',\n",
      " 'scrapy.downloadermiddlewares.stats.DownloaderStats']\n",
      "2020-09-13 03:04:18 [scrapy.middleware] INFO: Enabled spider middlewares:\n",
      "['scrapy.spidermiddlewares.httperror.HttpErrorMiddleware',\n",
      " 'scrapy.spidermiddlewares.offsite.OffsiteMiddleware',\n",
      " 'scrapy.spidermiddlewares.referer.RefererMiddleware',\n",
      " 'scrapy.spidermiddlewares.urllength.UrlLengthMiddleware',\n",
      " 'scrapy.spidermiddlewares.depth.DepthMiddleware']\n",
      "2020-09-13 03:04:18 [scrapy.middleware] INFO: Enabled item pipelines:\n",
      "[]\n",
      "2020-09-13 03:04:18 [scrapy.core.engine] INFO: Spider opened\n",
      "2020-09-13 03:04:18 [scrapy.extensions.logstats] INFO: Crawled 0 pages (at 0 pages/min), scraped 0 items (at 0 items/min)\n",
      "2020-09-13 03:04:18 [scrapy.extensions.telnet] INFO: Telnet console listening on 127.0.0.1:6023\n"
     ]
    },
    {
     "name": "stdout",
     "output_type": "stream",
     "text": [
      "Saving as : /home/alex/chat_bot_wrike/wrike-bot/help_good_for_wrike/search?utf8=%E2%9C%93&query=Sharing+folders.csv {'https://help.wrike.com/hc/en-us/sections/201834249-Folders-and-Projects', 'https://help.wrike.com/hc/en-us/categories/200942115-Tasks-Folders-Projects-and-Spaces'}\n",
      "/home/alex/chat_bot_wrike/wrike-bot/help_good_for_wrike/search?utf8=%E2%9C%93&query=Sharing+folders.csv\n",
      "Saving as : /home/alex/chat_bot_wrike/wrike-bot/help_good_for_wrike/search?utf8=%E2%9C%93&query=Gantt+chart.csv {'https://help.wrike.com/hc/en-us/categories/200942125-Work-Views', 'https://help.wrike.com/hc/en-us/sections/201893075-Gantt-Chart'}\n",
      "/home/alex/chat_bot_wrike/wrike-bot/help_good_for_wrike/search?utf8=%E2%9C%93&query=Gantt+chart.csv\n",
      "Saving as : /home/alex/chat_bot_wrike/wrike-bot/help_good_for_wrike/200942125-Work-Views.csv set()\n",
      "/home/alex/chat_bot_wrike/wrike-bot/help_good_for_wrike/200942125-Work-Views.csv\n",
      "Saving as : /home/alex/chat_bot_wrike/wrike-bot/help_good_for_wrike/200942175-Security.csv set()\n",
      "/home/alex/chat_bot_wrike/wrike-bot/help_good_for_wrike/200942175-Security.csv\n",
      "Saving as : /home/alex/chat_bot_wrike/wrike-bot/help_good_for_wrike/200942155-Types-of-Accounts-and-Licenses.csv set()\n",
      "/home/alex/chat_bot_wrike/wrike-bot/help_good_for_wrike/200942155-Types-of-Accounts-and-Licenses.csv\n",
      "Saving as : /home/alex/chat_bot_wrike/wrike-bot/help_good_for_wrike/201188645-Getting-Started.csv set()\n",
      "/home/alex/chat_bot_wrike/wrike-bot/help_good_for_wrike/201188645-Getting-Started.csv\n",
      "Saving as : /home/alex/chat_bot_wrike/wrike-bot/help_good_for_wrike/200942115-Tasks-Folders-Projects-and-Spaces.csv set()\n",
      "/home/alex/chat_bot_wrike/wrike-bot/help_good_for_wrike/200942115-Tasks-Folders-Projects-and-Spaces.csv\n",
      "Saving as : /home/alex/chat_bot_wrike/wrike-bot/help_good_for_wrike/200939185-Integrations.csv set()\n",
      "/home/alex/chat_bot_wrike/wrike-bot/help_good_for_wrike/200939185-Integrations.csv\n",
      "Saving as : /home/alex/chat_bot_wrike/wrike-bot/help_good_for_wrike/200913179-Account-Management.csv set()\n",
      "/home/alex/chat_bot_wrike/wrike-bot/help_good_for_wrike/200913179-Account-Management.csv\n",
      "Saving as : /home/alex/chat_bot_wrike/wrike-bot/help_good_for_wrike/200942135-Monitoring-Panel.csv set()\n",
      "/home/alex/chat_bot_wrike/wrike-bot/help_good_for_wrike/200942135-Monitoring-Panel.csv\n",
      "Saving as : /home/alex/chat_bot_wrike/wrike-bot/help_good_for_wrike/200942165-Apps.csv set()\n",
      "/home/alex/chat_bot_wrike/wrike-bot/help_good_for_wrike/200942165-Apps.csv\n",
      "Saving as : /home/alex/chat_bot_wrike/wrike-bot/help_good_for_wrike/search?filter_by=knowledge_base&query=Sharing+folders&utf8=%E2%9C%93.csv {'https://help.wrike.com/hc/en-us/sections/201825379-General-Account-Management', 'https://help.wrike.com/hc/en-us/sections/201834339-Licenses', 'https://help.wrike.com/hc/en-us/sections/201834249-Folders-and-Projects', 'https://help.wrike.com/hc/en-us/categories/200913179-Account-Management', 'https://help.wrike.com/hc/en-us/categories/200942155-Types-of-Accounts-and-Licenses', 'https://help.wrike.com/hc/en-us/categories/200942115-Tasks-Folders-Projects-and-Spaces', 'https://help.wrike.com/hc/en-us/sections/201893055-Communication'}\n",
      "/home/alex/chat_bot_wrike/wrike-bot/help_good_for_wrike/search?filter_by=knowledge_base&query=Sharing+folders&utf8=%E2%9C%93.csv\n",
      "Saving as : /home/alex/chat_bot_wrike/wrike-bot/help_good_for_wrike/201834249-Folders-and-Projects.csv set()\n",
      "/home/alex/chat_bot_wrike/wrike-bot/help_good_for_wrike/201834249-Folders-and-Projects.csv\n",
      "Saving as : /home/alex/chat_bot_wrike/wrike-bot/help_good_for_wrike/search?page=2&query=Sharing+folders&utf8=%E2%9C%93.csv {'https://help.wrike.com/hc/en-us/sections/201893055-Communication', 'https://help.wrike.com/hc/en-us/categories/200942115-Tasks-Folders-Projects-and-Spaces'}\n",
      "/home/alex/chat_bot_wrike/wrike-bot/help_good_for_wrike/search?page=2&query=Sharing+folders&utf8=%E2%9C%93.csv\n",
      "Saving as : /home/alex/chat_bot_wrike/wrike-bot/help_good_for_wrike/search?page=3&query=Sharing+folders&utf8=%E2%9C%93.csv {'https://help.wrike.com/hc/en-us/sections/201893055-Communication', 'https://help.wrike.com/hc/en-us/categories/200942115-Tasks-Folders-Projects-and-Spaces'}\n",
      "/home/alex/chat_bot_wrike/wrike-bot/help_good_for_wrike/search?page=3&query=Sharing+folders&utf8=%E2%9C%93.csv\n",
      "Saving as : /home/alex/chat_bot_wrike/wrike-bot/help_good_for_wrike/search?page=100&query=Sharing+folders&utf8=%E2%9C%93.csv {'https://help.wrike.com/hc/en-us/sections/360005750733-Wrike-Analyze', 'https://help.wrike.com/hc/en-us/categories/200942135-Monitoring-Panel'}\n",
      "/home/alex/chat_bot_wrike/wrike-bot/help_good_for_wrike/search?page=100&query=Sharing+folders&utf8=%E2%9C%93.csv\n",
      "Saving as : /home/alex/chat_bot_wrike/wrike-bot/help_good_for_wrike/search?page=6&query=Sharing+folders&utf8=%E2%9C%93.csv {'https://help.wrike.com/hc/en-us/sections/201825379-General-Account-Management', 'https://help.wrike.com/hc/en-us/categories/200913179-Account-Management', 'https://help.wrike.com/hc/en-us/categories/200942155-Types-of-Accounts-and-Licenses', 'https://help.wrike.com/hc/en-us/sections/201834339-Licenses'}\n"
     ]
    },
    {
     "name": "stderr",
     "output_type": "stream",
     "text": [
      "2020-09-13 03:05:27 [scrapy.extensions.logstats] INFO: Crawled 128 pages (at 128 pages/min), scraped 0 items (at 0 items/min)\n"
     ]
    },
    {
     "name": "stdout",
     "output_type": "stream",
     "text": [
      "/home/alex/chat_bot_wrike/wrike-bot/help_good_for_wrike/search?page=6&query=Sharing+folders&utf8=%E2%9C%93.csv\n",
      "Saving as : /home/alex/chat_bot_wrike/wrike-bot/help_good_for_wrike/search?filter_by=knowledge_base&query=Gantt+chart&utf8=%E2%9C%93.csv {'https://help.wrike.com/hc/en-us/sections/201893035-Tasks', 'https://help.wrike.com/hc/en-us/categories/200942125-Work-Views', 'https://help.wrike.com/hc/en-us/sections/201893075-Gantt-Chart', 'https://help.wrike.com/hc/en-us/categories/200942115-Tasks-Folders-Projects-and-Spaces'}\n",
      "/home/alex/chat_bot_wrike/wrike-bot/help_good_for_wrike/search?filter_by=knowledge_base&query=Gantt+chart&utf8=%E2%9C%93.csv\n",
      "Saving as : /home/alex/chat_bot_wrike/wrike-bot/help_good_for_wrike/201893075-Gantt-Chart.csv set()\n",
      "/home/alex/chat_bot_wrike/wrike-bot/help_good_for_wrike/201893075-Gantt-Chart.csv\n",
      "Saving as : /home/alex/chat_bot_wrike/wrike-bot/help_good_for_wrike/210323545-Gantt-Chart-Snapshot.csv set()\n",
      "/home/alex/chat_bot_wrike/wrike-bot/help_good_for_wrike/210323545-Gantt-Chart-Snapshot.csv\n",
      "Saving as : /home/alex/chat_bot_wrike/wrike-bot/help_good_for_wrike/search?page=2&query=Gantt+chart&utf8=%E2%9C%93.csv {'https://help.wrike.com/hc/en-us/categories/200942125-Work-Views', 'https://help.wrike.com/hc/en-us/sections/201893075-Gantt-Chart'}\n",
      "/home/alex/chat_bot_wrike/wrike-bot/help_good_for_wrike/search?page=2&query=Gantt+chart&utf8=%E2%9C%93.csv\n",
      "Saving as : /home/alex/chat_bot_wrike/wrike-bot/help_good_for_wrike/search?page=3&query=Gantt+chart&utf8=%E2%9C%93.csv {'https://help.wrike.com/hc/en-us/categories/200942125-Work-Views', 'https://help.wrike.com/hc/en-us/sections/201893075-Gantt-Chart'}\n",
      "/home/alex/chat_bot_wrike/wrike-bot/help_good_for_wrike/search?page=3&query=Gantt+chart&utf8=%E2%9C%93.csv\n",
      "Saving as : /home/alex/chat_bot_wrike/wrike-bot/help_good_for_wrike/search?page=6&query=Gantt+chart&utf8=%E2%9C%93.csv {'https://help.wrike.com/hc/en-us/categories/200942125-Work-Views', 'https://help.wrike.com/hc/en-us/sections/201893075-Gantt-Chart'}\n",
      "/home/alex/chat_bot_wrike/wrike-bot/help_good_for_wrike/search?page=6&query=Gantt+chart&utf8=%E2%9C%93.csv\n",
      "Saving as : /home/alex/chat_bot_wrike/wrike-bot/help_good_for_wrike/360000865405-Auto-Follow-control-ability-to-remove-default-when-creating-tasks.csv {'https://help.wrike.com/hc/en-us/articles/209603889-Mass-Editing'}\n",
      "/home/alex/chat_bot_wrike/wrike-bot/help_good_for_wrike/360000865405-Auto-Follow-control-ability-to-remove-default-when-creating-tasks.csv\n",
      "Saving as : /home/alex/chat_bot_wrike/wrike-bot/help_good_for_wrike/search?filter_by=knowledge_base&query=Creating+tasks&utf8=%E2%9C%93.csv {'https://help.wrike.com/hc/en-us/sections/201893035-Tasks', 'https://help.wrike.com/hc/en-us/categories/200942135-Monitoring-Panel', 'https://help.wrike.com/hc/en-us/sections/202423365-Everything-Else', 'https://help.wrike.com/hc/en-us/sections/360003697334-Spaces', 'https://help.wrike.com/hc/en-us/sections/360000935413-Troubleshooting', 'https://help.wrike.com/hc/en-us/sections/115001422569-Email', 'https://help.wrike.com/hc/en-us/sections/360000568453-Calendars', 'https://help.wrike.com/hc/en-us/categories/200942115-Tasks-Folders-Projects-and-Spaces', 'https://help.wrike.com/hc/en-us/categories/200939185-Integrations', 'https://help.wrike.com/hc/en-us/categories/200913179-Account-Management'}\n",
      "/home/alex/chat_bot_wrike/wrike-bot/help_good_for_wrike/search?filter_by=knowledge_base&query=Creating+tasks&utf8=%E2%9C%93.csv\n",
      "Saving as : /home/alex/chat_bot_wrike/wrike-bot/help_good_for_wrike/search?page=6&query=Creating+tasks&utf8=%E2%9C%93.csv {'https://help.wrike.com/hc/en-us/sections/201893035-Tasks', 'https://help.wrike.com/hc/en-us/sections/360000935413-Troubleshooting', 'https://help.wrike.com/hc/en-us/categories/200913179-Account-Management', 'https://help.wrike.com/hc/en-us/categories/200942115-Tasks-Folders-Projects-and-Spaces'}\n",
      "/home/alex/chat_bot_wrike/wrike-bot/help_good_for_wrike/search?page=6&query=Creating+tasks&utf8=%E2%9C%93.csv\n",
      "Saving as : /home/alex/chat_bot_wrike/wrike-bot/help_good_for_wrike/search?page=100&query=Creating+tasks&utf8=%E2%9C%93.csv {'https://help.wrike.com/hc/en-us/sections/201893035-Tasks', 'https://help.wrike.com/hc/en-us/categories/200942115-Tasks-Folders-Projects-and-Spaces'}\n",
      "/home/alex/chat_bot_wrike/wrike-bot/help_good_for_wrike/search?page=100&query=Creating+tasks&utf8=%E2%9C%93.csv\n"
     ]
    },
    {
     "name": "stderr",
     "output_type": "stream",
     "text": [
      "2020-09-13 03:06:24 [scrapy.extensions.logstats] INFO: Crawled 197 pages (at 69 pages/min), scraped 0 items (at 0 items/min)\n"
     ]
    },
    {
     "name": "stdout",
     "output_type": "stream",
     "text": [
      "Saving as : /home/alex/chat_bot_wrike/wrike-bot/help_good_for_wrike/210323585-Gantt-Chart-Overview-.csv {'https://help.wrike.com/hc/en-us/articles/210324405-Email-Notifications', 'https://help.wrike.com/hc/en-us/articles/360020311174-Spaces-Overview', 'https://help.wrike.com/hc/en-us/articles/360009420853-Roll-Up-Dates-on-the-Gantt-Chart-', 'https://help.wrike.com/hc/en-us/articles/210323705-Inbox'}\n",
      "/home/alex/chat_bot_wrike/wrike-bot/help_good_for_wrike/210323585-Gantt-Chart-Overview-.csv\n",
      "Saving as : /home/alex/chat_bot_wrike/wrike-bot/help_good_for_wrike/209604229-Dependencies-on-the-Gantt-Chart-.csv {'https://help.wrike.com/hc/en-us/articles/209603689-Milestones#gantt'}\n",
      "/home/alex/chat_bot_wrike/wrike-bot/help_good_for_wrike/209604229-Dependencies-on-the-Gantt-Chart-.csv\n",
      "Saving as : /home/alex/chat_bot_wrike/wrike-bot/help_good_for_wrike/209604209-Tasks-on-the-Gantt-Chart.csv {'https://help.wrike.com/hc/en-us/articles/210322725-Keyboard-Shortcuts'}\n",
      "/home/alex/chat_bot_wrike/wrike-bot/help_good_for_wrike/209604209-Tasks-on-the-Gantt-Chart.csv\n",
      "Saving as : /home/alex/chat_bot_wrike/wrike-bot/help_good_for_wrike/210323505-Timelog-View.csv {'https://help.wrike.com/hc/en-us/articles/360035989834-Billable-Time#lock', 'https://help.wrike.com/hc/en-us/articles/360035863834-Wrike-for-Professional-Services#performance', 'https://help.wrike.com/hc/en-us/articles/209603589-Access-Roles', 'https://help.wrike.com/hc/en-us/articles/360024767374-Wrike-Resource-Overview'}\n",
      "/home/alex/chat_bot_wrike/wrike-bot/help_good_for_wrike/210323505-Timelog-View.csv\n",
      "Saving as : /home/alex/chat_bot_wrike/wrike-bot/help_good_for_wrike/201834309-Table-View.csv set()\n",
      "/home/alex/chat_bot_wrike/wrike-bot/help_good_for_wrike/201834309-Table-View.csv\n",
      "Saving as : /home/alex/chat_bot_wrike/wrike-bot/help_good_for_wrike/115005814269-Sort-and-Reorder-Items-on-the-Gantt-Chart.csv {'https://help.wrike.com/hc/en-us/articles/115005814269-Sort-and-Reorder-Items-on-the-Gantt-Chart#cascade'}\n",
      "/home/alex/chat_bot_wrike/wrike-bot/help_good_for_wrike/115005814269-Sort-and-Reorder-Items-on-the-Gantt-Chart.csv\n",
      "Saving as : /home/alex/chat_bot_wrike/wrike-bot/help_good_for_wrike/360000328245-Gantt-Chart-Print-Timeline.csv {'https://help.wrike.com/hc/en-us/articles/209603069-Filters'}\n",
      "/home/alex/chat_bot_wrike/wrike-bot/help_good_for_wrike/360000328245-Gantt-Chart-Print-Timeline.csv\n",
      "Saving as : /home/alex/chat_bot_wrike/wrike-bot/help_good_for_wrike/210323605-Zoom-In-or-Out-on-the-Gantt-Chart-.csv set()\n",
      "/home/alex/chat_bot_wrike/wrike-bot/help_good_for_wrike/210323605-Zoom-In-or-Out-on-the-Gantt-Chart-.csv\n",
      "Saving as : /home/alex/chat_bot_wrike/wrike-bot/help_good_for_wrike/201834289-Timelog-View.csv set()\n",
      "/home/alex/chat_bot_wrike/wrike-bot/help_good_for_wrike/201834289-Timelog-View.csv\n",
      "Saving as : /home/alex/chat_bot_wrike/wrike-bot/help_good_for_wrike/360005778794-Table-View.csv {'https://help.wrike.com/hc/en-us/articles/210323405-Collaborators', 'https://help.wrike.com/hc/en-us/articles/209603329-Job-Numbers', 'https://help.wrike.com/hc/en-us/articles/209603049-Custom-Fields#create', 'https://help.wrike.com/hc/en-us/articles/210322945-Recycle-Bin', 'https://help.wrike.com/hc/en-us/articles/209603949-Business', 'https://help.wrike.com/hc/en-us/articles/360010852973-Task-Effort', 'https://help.wrike.com/hc/en-us/articles/360035863834-Wrike-for-Professional-Services', 'https://help.wrike.com/hc/en-us/articles/210323325-List-View-Sorting-and-Prioritizing-Tasks#sorting', 'https://help.wrike.com/hc/en-us/articles/360024767374-Wrike-Resource-Overview', 'https://help.wrike.com/hc/en-us/articles/209603049-Custom-Fields', 'https://help.wrike.com/hc/en-us/articles/209603969-Enterprise'}\n",
      "/home/alex/chat_bot_wrike/wrike-bot/help_good_for_wrike/360005778794-Table-View.csv\n",
      "Saving as : /home/alex/chat_bot_wrike/wrike-bot/help_good_for_wrike/201834319-All-the-Other-Views.csv set()\n",
      "/home/alex/chat_bot_wrike/wrike-bot/help_good_for_wrike/201834319-All-the-Other-Views.csv\n",
      "Saving as : /home/alex/chat_bot_wrike/wrike-bot/help_good_for_wrike/360007544313-Files-View.csv set()\n",
      "/home/alex/chat_bot_wrike/wrike-bot/help_good_for_wrike/360007544313-Files-View.csv\n",
      "Saving as : /home/alex/chat_bot_wrike/wrike-bot/help_good_for_wrike/115000193205-Board-View.csv {'https://help.wrike.com/hc/en-us/articles/209603069-Filters#presets', 'https://help.wrike.com/hc/en-us/articles/115001778165-Project-Wizard-and-Default-View-Picker#change', 'https://help.wrike.com/hc/en-us/articles/209604469-Dashboards'}\n",
      "/home/alex/chat_bot_wrike/wrike-bot/help_good_for_wrike/115000193205-Board-View.csv\n",
      "Saving as : /home/alex/chat_bot_wrike/wrike-bot/help_good_for_wrike/209604049-Analytics-View.csv {'https://help.wrike.com/hc/en-us/articles/209603949-Business', 'https://help.wrike.com/hc/en-us/articles/209603089-Time-Tracking', 'https://help.wrike.com/hc/en-us/articles/209603689-Milestones'}\n",
      "/home/alex/chat_bot_wrike/wrike-bot/help_good_for_wrike/209604049-Analytics-View.csv\n",
      "Saving as : /home/alex/chat_bot_wrike/wrike-bot/help_good_for_wrike/115005858769-Categories-for-Time-Tracking.csv set()\n",
      "/home/alex/chat_bot_wrike/wrike-bot/help_good_for_wrike/115005858769-Categories-for-Time-Tracking.csv\n",
      "Saving as : /home/alex/chat_bot_wrike/wrike-bot/help_good_for_wrike/360034273733-SSO-with-Azure.csv {'https://help.wrike.com/hc/en-us/articles/210324565-SSO-with-SAML-User-Guide', 'https://help.wrike.com/hc/en-us/articles/209605769-SSO-with-SAML-Implementation-Guide#enabling'}\n",
      "/home/alex/chat_bot_wrike/wrike-bot/help_good_for_wrike/360034273733-SSO-with-Azure.csv\n",
      "Saving as : /home/alex/chat_bot_wrike/wrike-bot/help_good_for_wrike/201893105-Single-Sign-On.csv set()\n",
      "/home/alex/chat_bot_wrike/wrike-bot/help_good_for_wrike/201893105-Single-Sign-On.csv\n",
      "Saving as : /home/alex/chat_bot_wrike/wrike-bot/help_good_for_wrike/360033753394-SSO-with-OneLogin.csv {'https://help.wrike.com/hc/en-us/articles/210324565-SSO-with-SAML-User-Guide', 'https://help.wrike.com/hc/en-us/articles/209605769-SSO-with-SAML-Implementation-Guide#enabling'}\n",
      "/home/alex/chat_bot_wrike/wrike-bot/help_good_for_wrike/360033753394-SSO-with-OneLogin.csv\n",
      "Saving as : /home/alex/chat_bot_wrike/wrike-bot/help_good_for_wrike/209605769-SSO-with-SAML-Implementation-Guide.csv {'https://help.wrike.com/hc/en-us/articles/210324565-SSO-with-SAML-User-Guide#adding', 'https://help.wrike.com/hc/en-us/articles/210324465-One-Time-Passwords', 'https://help.wrike.com/hc/en-us/articles/210324205-G-Suite', 'https://help.wrike.com/hc/en-us/articles/209605749-Account-Backup', 'https://help.wrike.com/hc/en-us/articles/210324525-SSO-with-Microsoft-Credentials-Implementation-Guide', 'https://help.wrike.com/hc/en-us/articles/209602989-User-Groups', 'https://help.wrike.com/hc/en-us/articles/209603849-Sharing-Tasks', 'https://help.wrike.com/hc/en-us/articles/210324565-SSO-with-SAML-User-Guide', 'https://help.wrike.com/hc/en-us/articles/210324325-Controlled-Admin-Permissions', 'https://help.wrike.com/hc/en-us/articles/209605769-SSO-with-SAML-Implementation-Guide#add', 'https://help.wrike.com/hc/en-us/articles/210324445-2-Step-Verification', 'https://help.wrike.com/hc/en-us/articles/209605449-Admin-Permissions', 'https://help.wrike.com/hc/en-us/articles/210324505-SSO-with-Okta', 'https://help.wrike.com/hc/en-us/articles/209603969-Enterprise'}\n"
     ]
    },
    {
     "name": "stderr",
     "output_type": "stream",
     "text": [
      "2020-09-13 03:07:22 [scrapy.extensions.logstats] INFO: Crawled 310 pages (at 113 pages/min), scraped 0 items (at 0 items/min)\n"
     ]
    },
    {
     "name": "stdout",
     "output_type": "stream",
     "text": [
      "/home/alex/chat_bot_wrike/wrike-bot/help_good_for_wrike/209605769-SSO-with-SAML-Implementation-Guide.csv\n",
      "Saving as : /home/alex/chat_bot_wrike/wrike-bot/help_good_for_wrike/115004562769-European-Data-Center.csv set()\n",
      "/home/alex/chat_bot_wrike/wrike-bot/help_good_for_wrike/115004562769-European-Data-Center.csv\n",
      "Saving as : /home/alex/chat_bot_wrike/wrike-bot/help_good_for_wrike/210324565-SSO-with-SAML-User-Guide.csv {'https://help.wrike.com/hc/en-us/articles/209603989-Types-of-Licenses', 'https://help.wrike.com/hc/en-us/articles/209605449-Admin-Permissions', 'https://help.wrike.com/hc/en-us/articles/209605769-SSO-with-SAML-Implementation-Guide'}\n",
      "/home/alex/chat_bot_wrike/wrike-bot/help_good_for_wrike/210324565-SSO-with-SAML-User-Guide.csv\n",
      "Saving as : /home/alex/chat_bot_wrike/wrike-bot/help_good_for_wrike/201834349-More-Security-Features.csv set()\n",
      "/home/alex/chat_bot_wrike/wrike-bot/help_good_for_wrike/201834349-More-Security-Features.csv\n",
      "Saving as : /home/alex/chat_bot_wrike/wrike-bot/help_good_for_wrike/210324525-SSO-with-Microsoft-Credentials-Implementation-Guide.csv {'https://help.wrike.com/hc/en-us/articles/210324565-SSO-with-SAML-User-Guide#adding', 'https://help.wrike.com/hc/en-us/articles/210324545-SSO-with-Microsoft-Credentials-User-Guide#create', 'https://help.wrike.com/hc/en-us/articles/209605449-Admin-Permissions', 'https://help.wrike.com/hc/en-us/articles/210324545-SSO-with-Microsoft-Credentials-User-Guide'}\n",
      "/home/alex/chat_bot_wrike/wrike-bot/help_good_for_wrike/210324525-SSO-with-Microsoft-Credentials-Implementation-Guide.csv\n",
      "Saving as : /home/alex/chat_bot_wrike/wrike-bot/help_good_for_wrike/210324545-SSO-with-Microsoft-Credentials-User-Guide.csv {'https://help.wrike.com/hc/en-us/articles/210324525-SSO-with-Microsoft-Credentials-Implementation-Guide', 'https://help.wrike.com/hc/en-us/articles/210324525-SSO-with-Microsoft-Credentials-Implementation-Guide#install'}\n",
      "/home/alex/chat_bot_wrike/wrike-bot/help_good_for_wrike/210324545-SSO-with-Microsoft-Credentials-User-Guide.csv\n",
      "Saving as : /home/alex/chat_bot_wrike/wrike-bot/help_good_for_wrike/115004530005-Deactivate-Users.csv {'https://help.wrike.com/hc/en-us/articles/209603969-Enterprise'}\n",
      "/home/alex/chat_bot_wrike/wrike-bot/help_good_for_wrike/115004530005-Deactivate-Users.csv\n",
      "Saving as : /home/alex/chat_bot_wrike/wrike-bot/help_good_for_wrike/360012347934-Wrike-Lock.csv set()\n",
      "/home/alex/chat_bot_wrike/wrike-bot/help_good_for_wrike/360012347934-Wrike-Lock.csv\n",
      "Saving as : /home/alex/chat_bot_wrike/wrike-bot/help_good_for_wrike/209605749-Account-Backup.csv {'https://help.wrike.com/hc/en-us/articles/209603969-Enterprise', 'https://help.wrike.com/hc/en-us/articles/210324565-SSO-with-SAML-User-Guide', 'https://help.wrike.com/hc/en-us/articles/210324445-2-Step-Verification', 'https://help.wrike.com/hc/en-us/articles/210324465-One-Time-Passwords#generate', 'https://help.wrike.com/hc/en-us/articles/209605449-Admin-Permissions', 'https://help.wrike.com/hc/en-us/articles/210324325-Controlled-Admin-Permissions'}\n",
      "/home/alex/chat_bot_wrike/wrike-bot/help_good_for_wrike/209605749-Account-Backup.csv\n",
      "Saving as : /home/alex/chat_bot_wrike/wrike-bot/help_good_for_wrike/210324485-Advanced-Security-Settings.csv {'https://help.wrike.com/hc/en-us/articles/210324325-Controlled-Admin-Permissions#control', 'https://help.wrike.com/hc/en-us/articles/209603989-Types-of-Licenses', 'https://help.wrike.com/hc/en-us/articles/210324445-2-Step-Verification', 'https://help.wrike.com/hc/en-us/articles/210324325-Controlled-Admin-Permissions'}\n",
      "/home/alex/chat_bot_wrike/wrike-bot/help_good_for_wrike/210324485-Advanced-Security-Settings.csv\n",
      "Saving as : /home/alex/chat_bot_wrike/wrike-bot/help_good_for_wrike/210324465-One-Time-Passwords.csv {'https://help.wrike.com/hc/en-us/articles/210324565-SSO-with-SAML-User-Guide', 'https://help.wrike.com/hc/en-us/articles/210324445-2-Step-Verification', 'https://help.wrike.com/hc/en-us/articles/209605769-SSO-with-SAML-Implementation-Guide'}\n",
      "/home/alex/chat_bot_wrike/wrike-bot/help_good_for_wrike/210324465-One-Time-Passwords.csv\n",
      "Saving as : /home/alex/chat_bot_wrike/wrike-bot/help_good_for_wrike/201834339-Licenses.csv set()\n",
      "/home/alex/chat_bot_wrike/wrike-bot/help_good_for_wrike/201834339-Licenses.csv\n",
      "Saving as : /home/alex/chat_bot_wrike/wrike-bot/help_good_for_wrike/201893095-Accounts.csv set()\n",
      "/home/alex/chat_bot_wrike/wrike-bot/help_good_for_wrike/201893095-Accounts.csv\n",
      "Saving as : /home/alex/chat_bot_wrike/wrike-bot/help_good_for_wrike/209603949-Business.csv {'https://help.wrike.com/hc/en-us/articles/360040085934-Wrike-For-Salesforce', 'https://help.wrike.com/hc/en-us/articles/210324405-Email-Notifications#customization', 'https://help.wrike.com/hc/en-us/articles/360006918953-Work-Schedules-for-Users', 'https://help.wrike.com/hc/en-us/articles/209604449-Reports-Overview', 'https://help.wrike.com/hc/en-us/articles/209602989-User-Groups', 'https://help.wrike.com/hc/en-us/articles/209605389-Branded-Workspace-and-Email-Notifications', 'https://help.wrike.com/hc/en-us/articles/209603049-Custom-Fields', 'https://help.wrike.com/hc/en-us/articles/210322785-Custom-Statuses-and-Workflows', 'https://help.wrike.com/hc/en-us/articles/209603089-Time-Tracking'}\n",
      "/home/alex/chat_bot_wrike/wrike-bot/help_good_for_wrike/209603949-Business.csv\n",
      "Saving as : /home/alex/chat_bot_wrike/wrike-bot/help_good_for_wrike/209603969-Enterprise.csv {'https://help.wrike.com/hc/en-us/articles/210324485-Advanced-Security-Settings#passwordstrength', 'https://help.wrike.com/hc/en-us/articles/210324485-Advanced-Security-Settings#network', 'https://help.wrike.com/hc/en-us/articles/360002004534-Access-Reports', 'https://help.wrike.com/hc/en-us/articles/360019094414-BI-Export', 'https://help.wrike.com/hc/en-us/articles/210323385-Free', 'https://help.wrike.com/hc/en-us/articles/210324485-Advanced-Security-Settings#two', 'https://help.wrike.com/hc/en-us/articles/210324565-SSO-with-SAML-User-Guide', 'https://help.wrike.com/hc/en-us/articles/360016043273-Connect-Tableau-and-Wrike', 'https://help.wrike.com/hc/en-us/articles/209603589-Access-Roles#create', 'https://help.wrike.com/hc/en-us/articles/209603949-Business', 'https://help.wrike.com/hc/en-us/articles/210324485-Advanced-Security-Settings#passwordexpiration', 'https://help.wrike.com/hc/en-us/articles/209602969-Sharing#about', 'https://help.wrike.com/hc/en-us/articles/209603929-Professional', 'https://help.wrike.com/hc/en-us/articles/210324485-Advanced-Security-Settings#passwordhistory', 'https://help.wrike.com/hc/en-us/articles/210324325-Controlled-Admin-Permissions'}\n",
      "/home/alex/chat_bot_wrike/wrike-bot/help_good_for_wrike/209603969-Enterprise.csv\n",
      "Saving as : /home/alex/chat_bot_wrike/wrike-bot/help_good_for_wrike/210323385-Free.csv {'https://help.wrike.com/hc/en-us/articles/209604489-Stream', 'https://help.wrike.com/hc/en-us/articles/209603989-Types-of-Licenses', 'https://help.wrike.com/hc/en-us/articles/210324105-Integrated-Cloud-Storage-Apps', 'https://help.wrike.com/hc/en-us/articles/210323705-Inbox', 'https://help.wrike.com/hc/en-us/articles/210324185-Email-Integration', 'https://help.wrike.com/hc/en-us/articles/209605809-iOS-App', 'https://help.wrike.com/hc/en-us/articles/209603609-Create-Color-Code-and-Edit-Folders-and-Projects', 'https://help.wrike.com/hc/en-us/articles/210322825-Comments', 'https://help.wrike.com/hc/en-us/articles/210324605-Android-App', 'https://help.wrike.com/hc/en-us/articles/209603309-Attachments', 'https://help.wrike.com/hc/en-us/articles/209603889-Mass-Editing', 'https://help.wrike.com/hc/en-us/articles/209603489-Projects'}\n",
      "/home/alex/chat_bot_wrike/wrike-bot/help_good_for_wrike/210323385-Free.csv\n",
      "Saving as : /home/alex/chat_bot_wrike/wrike-bot/help_good_for_wrike/360035863834-Wrike-for-Professional-Services.csv {'https://help.wrike.com/hc/en-us/articles/360036858954-Calculated-Custom-Fields', 'https://help.wrike.com/hc/en-us/articles/115004742769-External-Request-Forms', 'https://help.wrike.com/hc/en-us/articles/209603049-Custom-Fields#rollup', 'https://help.wrike.com/hc/en-us/articles/360010835433-Workload-Charts', 'https://help.wrike.com/hc/en-us/articles/360021542373-Wrike-Integrate', 'https://help.wrike.com/hc/en-us/articles/360036508894-Wrike-Analyze', 'https://help.wrike.com/hc/en-us/articles/210323505-Timelog-View', 'https://help.wrike.com/hc/en-us/articles/360021542373-Wrike-Integrate#navigate', 'https://help.wrike.com/hc/en-us/articles/115003404345-Dynamic-Request-Forms', 'https://help.wrike.com/hc/en-us/articles/210323585-Gantt-Chart-Overview-', 'https://help.wrike.com/hc/en-us/articles/360010428113-Project-Progress', 'https://help.wrike.com/hc/en-us/articles/209603949-Business', 'https://help.wrike.com/hc/en-us/articles/360010852973-Task-Effort', 'https://help.wrike.com/hc/en-us/articles/360035863834-Wrike-for-Professional-Services#performance', 'https://help.wrike.com/hc/en-us/articles/360014673593-Timesheets', 'https://help.wrike.com/hc/en-us/articles/360024767374-Wrike-Resource-Overview', 'https://help.wrike.com/hc/en-us/articles/360036858954-Calculated-Custom-Fields#color', 'https://help.wrike.com/hc/en-us/articles/209603969-Enterprise'}\n"
     ]
    },
    {
     "name": "stdout",
     "output_type": "stream",
     "text": [
      "/home/alex/chat_bot_wrike/wrike-bot/help_good_for_wrike/360035863834-Wrike-for-Professional-Services.csv\n",
      "Saving as : /home/alex/chat_bot_wrike/wrike-bot/help_good_for_wrike/209603929-Professional.csv {'https://help.wrike.com/hc/en-us/articles/210323385-Free', 'https://help.wrike.com/hc/en-us/articles/209605149-Import-MS-Project-Files', 'https://help.wrike.com/hc/en-us/articles/209604469-Dashboards', 'https://help.wrike.com/hc/en-us/articles/209603069-Filters', 'https://help.wrike.com/hc/en-us/articles/209603889-Mass-Editing'}\n",
      "/home/alex/chat_bot_wrike/wrike-bot/help_good_for_wrike/209603929-Professional.csv\n",
      "Saving as : /home/alex/chat_bot_wrike/wrike-bot/help_good_for_wrike/210412605-Wrike-for-Marketers.csv {'https://help.wrike.com/hc/en-us/articles/210322845-Proofing', 'https://help.wrike.com/hc/en-us/articles/360010504274-Wrike-Publish-MediaValet-Integration', 'https://help.wrike.com/hc/en-us/articles/360021542373-Wrike-Integrate', 'https://help.wrike.com/hc/en-us/articles/360036508894-Wrike-Analyze', 'https://help.wrike.com/hc/en-us/articles/360023006313-Approvals', 'https://help.wrike.com/hc/en-us/articles/209604449-Reports-Overview', 'https://help.wrike.com/hc/en-us/articles/360021542373-Wrike-Integrate#navigate', 'https://help.wrike.com/hc/en-us/articles/360024472793-Wrike-Publish-Bynder-Integration', 'https://help.wrike.com/hc/en-us/articles/360009639733-Guest-Reviews', 'https://help.wrike.com/hc/en-us/articles/209603949-Business', 'https://help.wrike.com/hc/en-us/articles/209603969-Enterprise'}\n",
      "/home/alex/chat_bot_wrike/wrike-bot/help_good_for_wrike/210412605-Wrike-for-Marketers.csv\n",
      "Saving as : /home/alex/chat_bot_wrike/wrike-bot/help_good_for_wrike/209603989-Types-of-Licenses.csv {'https://help.wrike.com/hc/en-us/articles/360017905033-Manage-Spaces-for-Space-Admins-', 'https://help.wrike.com/hc/en-us/articles/209603589-Access-Roles', 'https://help.wrike.com/hc/en-us/articles/210324485-Advanced-Security-Settings', 'https://help.wrike.com/hc/en-us/articles/209603009-My-Team-Group', 'https://help.wrike.com/hc/en-us/articles/209605449-Admin-Permissions', 'https://help.wrike.com/hc/en-us/articles/209605669-Manage-Subscriptions', 'https://help.wrike.com/hc/en-us/articles/209603489-Projects'}\n",
      "/home/alex/chat_bot_wrike/wrike-bot/help_good_for_wrike/209603989-Types-of-Licenses.csv\n",
      "Saving as : /home/alex/chat_bot_wrike/wrike-bot/help_good_for_wrike/115000711329-Step-1-Learning-the-Fundamentals.csv {'https://help.wrike.com/hc/en-us/articles/210322705-Building-Blocks-Tasks-Folders-Projects-and-Spaces', 'https://help.wrike.com/hc/en-us/articles/209603069-Filters', 'https://help.wrike.com/hc/en-us/articles/209604469-Dashboards', 'https://help.wrike.com/hc/en-us/categories/200942125-Work-Views', 'https://help.wrike.com/hc/en-us/articles/209603089-Time-Tracking', 'https://help.wrike.com/hc/en-us/articles/210323705-Inbox', 'https://help.wrike.com/hc/en-us/articles/210322705-Building-Blocks-Tasks-Folders-Projects-and-Spaces#folders', 'https://help.wrike.com/hc/en-us/articles/209603069-Filters#presets', 'https://help.wrike.com/hc/en-us/articles/360020311174-Spaces-Overview', 'https://help.wrike.com/hc/en-us/articles/360001737133-Calendars', 'https://help.wrike.com/hc/en-us/articles/209602969-Sharing', 'https://help.wrike.com/hc/en-us/articles/209602929-Following', 'https://help.wrike.com/hc/en-us/articles/209603369-Tags', 'https://help.wrike.com/hc/en-us/articles/209604449-Reports-Overview', 'https://help.wrike.com/hc/en-us/articles/209603709-Tasks#assign', 'https://help.wrike.com/hc/en-us/articles/360005778794-Table-View', 'https://help.wrike.com/hc/en-us/articles/115004740045-Create-a-Request-Form-for-Admins-', 'https://help.wrike.com/hc/en-us/articles/209603049-Custom-Fields', 'https://help.wrike.com/hc/en-us/articles/209603489-Projects'}\n",
      "/home/alex/chat_bot_wrike/wrike-bot/help_good_for_wrike/115000711329-Step-1-Learning-the-Fundamentals.csv\n",
      "Saving as : /home/alex/chat_bot_wrike/wrike-bot/help_good_for_wrike/210323405-Collaborators.csv {'https://help.wrike.com/hc/en-us/articles/209603989-Types-of-Licenses', 'https://help.wrike.com/hc/en-us/articles/360034765174-Personal-Space#todo'}\n",
      "/home/alex/chat_bot_wrike/wrike-bot/help_good_for_wrike/210323405-Collaborators.csv\n",
      "Saving as : /home/alex/chat_bot_wrike/wrike-bot/help_good_for_wrike/210325165-Step-2-Setting-Up-Your-Workspace.csv {'https://help.wrike.com/hc/en-us/articles/209603689-Milestones#gantt', 'https://help.wrike.com/hc/en-us/articles/209603369-Tags', 'https://help.wrike.com/hc/en-us/articles/209603709-Tasks#schedule', 'https://help.wrike.com/hc/en-us/articles/210322885-Archive', 'https://help.wrike.com/hc/en-us/articles/210323585-Gantt-Chart-Overview-', 'https://help.wrike.com/hc/en-us/articles/360010428113-Project-Progress', 'https://help.wrike.com/hc/en-us/articles/360013445394-Blueprints', 'https://help.wrike.com/hc/en-us/articles/209604229-Dependencies-on-the-Gantt-Chart-', 'https://help.wrike.com/hc/en-us/articles/209603889-Mass-Editing'}\n",
      "/home/alex/chat_bot_wrike/wrike-bot/help_good_for_wrike/210325165-Step-2-Setting-Up-Your-Workspace.csv\n",
      "Saving as : /home/alex/chat_bot_wrike/wrike-bot/help_good_for_wrike/210325145-Step-3-Team-Onboarding-and-Collaboration.csv {'https://help.wrike.com/hc/en-us/articles/209603989-Types-of-Licenses', 'https://help.wrike.com/hc/en-us/articles/209603009-My-Team-Group', 'https://help.wrike.com/hc/en-us/categories/201188645-Getting-Started', 'https://help.wrike.com/hc/en-us/articles/209602989-User-Groups', 'https://help.wrike.com/hc/en-us/articles/213924649-Step-1-Getting-Settled', 'https://help.wrike.com/hc/en-us/articles/209605449-Admin-Permissions'}\n",
      "/home/alex/chat_bot_wrike/wrike-bot/help_good_for_wrike/210325145-Step-3-Team-Onboarding-and-Collaboration.csv\n",
      "Saving as : /home/alex/chat_bot_wrike/wrike-bot/help_good_for_wrike/360040979053-Step-4-Monitoring-Work-Progress.csv {'https://help.wrike.com/hc/en-us/articles/209604469-Dashboards', 'https://help.wrike.com/hc/en-us/articles/360024767374-Wrike-Resource-Overview'}\n",
      "/home/alex/chat_bot_wrike/wrike-bot/help_good_for_wrike/360040979053-Step-4-Monitoring-Work-Progress.csv\n",
      "Saving as : /home/alex/chat_bot_wrike/wrike-bot/help_good_for_wrike/360041051853-Step-5-Tailoring-Wrike-to-Your-Team-s-Needs.csv {'https://help.wrike.com/hc/en-us/articles/360036858954-Calculated-Custom-Fields', 'https://help.wrike.com/hc/en-us/articles/360013445394-Blueprints', 'https://help.wrike.com/hc/en-us/articles/209602989-User-Groups', 'https://help.wrike.com/hc/en-us/articles/209603049-Custom-Fields', 'https://help.wrike.com/hc/en-us/articles/210322785-Custom-Statuses-and-Workflows#edit'}\n",
      "/home/alex/chat_bot_wrike/wrike-bot/help_good_for_wrike/360041051853-Step-5-Tailoring-Wrike-to-Your-Team-s-Needs.csv\n",
      "Saving as : /home/alex/chat_bot_wrike/wrike-bot/help_good_for_wrike/360045369314-Step-6-Making-Remote-Work-Productive.csv {'https://help.wrike.com/hc/en-us/articles/115004742769-External-Request-Forms', 'https://help.wrike.com/hc/en-us/articles/209602929-Following', 'https://help.wrike.com/hc/en-us/articles/115004740045-Create-a-Request-Form-for-Admins-', 'https://help.wrike.com/hc/en-us/articles/209603729-Request-a-Status-Update'}\n",
      "/home/alex/chat_bot_wrike/wrike-bot/help_good_for_wrike/360045369314-Step-6-Making-Remote-Work-Productive.csv\n",
      "Saving as : /home/alex/chat_bot_wrike/wrike-bot/help_good_for_wrike/213924649-Step-1-Getting-Settled.csv {'https://help.wrike.com/hc/en-us/articles/209602929-Following', 'https://help.wrike.com/hc/en-us/articles/210322705-Building-Blocks-Tasks-Folders-Projects-and-Spaces', 'https://help.wrike.com/hc/en-us/articles/209603069-Filters', 'https://help.wrike.com/hc/en-us/articles/209603069-Filters#presets', 'https://help.wrike.com/hc/en-us/articles/209602969-Sharing'}\n",
      "/home/alex/chat_bot_wrike/wrike-bot/help_good_for_wrike/213924649-Step-1-Getting-Settled.csv\n",
      "Saving as : /home/alex/chat_bot_wrike/wrike-bot/help_good_for_wrike/213930869-Step-2-Launching-New-Projects.csv {'https://help.wrike.com/hc/en-us/articles/209603689-Milestones#gantt', 'https://help.wrike.com/hc/en-us/articles/209603709-Tasks#schedule', 'https://help.wrike.com/hc/en-us/articles/210323585-Gantt-Chart-Overview-', 'https://help.wrike.com/hc/en-us/articles/360010428113-Project-Progress', 'https://help.wrike.com/hc/en-us/articles/209604229-Dependencies-on-the-Gantt-Chart-', 'https://help.wrike.com/hc/en-us/articles/209603889-Mass-Editing'}\n"
     ]
    },
    {
     "name": "stdout",
     "output_type": "stream",
     "text": [
      "/home/alex/chat_bot_wrike/wrike-bot/help_good_for_wrike/213930869-Step-2-Launching-New-Projects.csv\n",
      "Saving as : /home/alex/chat_bot_wrike/wrike-bot/help_good_for_wrike/214449945-Step-3-Collaborating-in-Wrike.csv {'https://help.wrike.com/hc/en-us/articles/210322845-Proofing', 'https://help.wrike.com/hc/en-us/articles/210323705-Inbox', 'https://help.wrike.com/hc/en-us/articles/360010504274-Wrike-Publish-MediaValet-Integration', 'https://help.wrike.com/hc/en-us/articles/360023006313-Approvals', 'https://help.wrike.com/hc/en-us/articles/360024472793-Wrike-Publish-Bynder-Integration', 'https://help.wrike.com/hc/en-us/articles/210322825-Comments#quote', 'https://help.wrike.com/hc/en-us/articles/360009639733-Guest-Reviews', 'https://help.wrike.com/hc/en-us/articles/209603269--mentions', 'https://help.wrike.com/hc/en-us/articles/360034765174-Personal-Space#todo'}\n",
      "/home/alex/chat_bot_wrike/wrike-bot/help_good_for_wrike/214449945-Step-3-Collaborating-in-Wrike.csv\n",
      "Saving as : /home/alex/chat_bot_wrike/wrike-bot/help_good_for_wrike/360046406233-Step-4-Work-from-Home-Productively.csv {'https://help.wrike.com/hc/en-us/articles/360045369314-Step-6-Making-Remote-Work-Productive', 'https://help.wrike.com/hc/en-us/articles/360034765174-Personal-Space#todo'}\n",
      "/home/alex/chat_bot_wrike/wrike-bot/help_good_for_wrike/360046406233-Step-4-Work-from-Home-Productively.csv\n",
      "Saving as : /home/alex/chat_bot_wrike/wrike-bot/help_good_for_wrike/201893035-Tasks.csv set()\n",
      "/home/alex/chat_bot_wrike/wrike-bot/help_good_for_wrike/201893035-Tasks.csv\n",
      "Saving as : /home/alex/chat_bot_wrike/wrike-bot/help_good_for_wrike/209603709-Tasks.csv {'https://help.wrike.com/hc/en-us/articles/210324405-Email-Notifications', 'https://help.wrike.com/hc/en-us/articles/209604489-Stream', 'https://help.wrike.com/hc/en-us/articles/209603989-Types-of-Licenses', 'https://help.wrike.com/hc/en-us/articles/209605589-Daily-To-Do-Emails', 'https://help.wrike.com/hc/en-us/articles/210322825-Comments', 'https://help.wrike.com/hc/en-us/articles/360035863834-Wrike-for-Professional-Services', 'https://help.wrike.com/hc/en-us/articles/209604229-Dependencies-on-the-Gantt-Chart-', 'https://help.wrike.com/hc/en-us/articles/360024767374-Wrike-Resource-Overview', 'https://help.wrike.com/hc/en-us/articles/209603889-Mass-Editing'}\n",
      "/home/alex/chat_bot_wrike/wrike-bot/help_good_for_wrike/209603709-Tasks.csv\n",
      "Saving as : /home/alex/chat_bot_wrike/wrike-bot/help_good_for_wrike/115005055469-Subtask-Alignment-.csv set()\n",
      "/home/alex/chat_bot_wrike/wrike-bot/help_good_for_wrike/115005055469-Subtask-Alignment-.csv\n",
      "Saving as : /home/alex/chat_bot_wrike/wrike-bot/help_good_for_wrike/209603609-Create-Color-Code-and-Edit-Folders-and-Projects.csv {'https://help.wrike.com/hc/en-us/articles/209603989-Types-of-Licenses', 'https://help.wrike.com/hc/en-us/articles/210324105-Integrated-Cloud-Storage-Apps', 'https://help.wrike.com/hc/en-us/articles/209603649-Subfolders-and-Subprojects', 'https://help.wrike.com/hc/en-us/articles/210322805-Permalink', 'https://help.wrike.com/hc/en-us/articles/209603309-Attachments', 'https://help.wrike.com/hc/en-us/articles/209603489-Projects'}\n",
      "/home/alex/chat_bot_wrike/wrike-bot/help_good_for_wrike/209603609-Create-Color-Code-and-Edit-Folders-and-Projects.csv\n",
      "Saving as : /home/alex/chat_bot_wrike/wrike-bot/help_good_for_wrike/115001778165-Project-Wizard-and-Default-View-Picker.csv {'https://help.wrike.com/hc/en-us/articles/209603609-Create-Color-Code-and-Edit-Folders-and-Projects#create-folder', 'https://help.wrike.com/hc/en-us/articles/209602969-Sharing'}\n",
      "/home/alex/chat_bot_wrike/wrike-bot/help_good_for_wrike/115001778165-Project-Wizard-and-Default-View-Picker.csv\n",
      "Saving as : /home/alex/chat_bot_wrike/wrike-bot/help_good_for_wrike/209603389-Folder-and-Project-Info-Panels.csv {'https://help.wrike.com/hc/en-us/articles/209603049-Custom-Fields', 'https://help.wrike.com/hc/en-us/articles/210322785-Custom-Statuses-and-Workflows', 'https://help.wrike.com/hc/en-us/articles/210323405-Collaborators', 'https://help.wrike.com/hc/en-us/articles/209603369-Tags'}\n",
      "/home/alex/chat_bot_wrike/wrike-bot/help_good_for_wrike/209603389-Folder-and-Project-Info-Panels.csv\n",
      "Saving as : /home/alex/chat_bot_wrike/wrike-bot/help_good_for_wrike/209603649-Subfolders-and-Subprojects.csv {'https://help.wrike.com/hc/en-us/articles/210322925-Move-Tasks-Folders-and-Projects', 'https://help.wrike.com/hc/en-us/articles/209603989-Types-of-Licenses', 'https://help.wrike.com/hc/en-us/articles/209603369-Tags'}\n",
      "/home/alex/chat_bot_wrike/wrike-bot/help_good_for_wrike/209603649-Subfolders-and-Subprojects.csv\n",
      "Saving as : /home/alex/chat_bot_wrike/wrike-bot/help_good_for_wrike/210323225-Task-View.csv set()\n",
      "/home/alex/chat_bot_wrike/wrike-bot/help_good_for_wrike/210323225-Task-View.csv\n",
      "Saving as : /home/alex/chat_bot_wrike/wrike-bot/help_good_for_wrike/210323245-Subtasks.csv {'https://help.wrike.com/hc/en-us/articles/210322805-Permalink', 'https://help.wrike.com/hc/en-us/articles/209603949-Business', 'https://help.wrike.com/hc/en-us/articles/115005055469-Subtask-Alignment-', 'https://help.wrike.com/hc/en-us/articles/209603929-Professional', 'https://help.wrike.com/hc/en-us/articles/209603969-Enterprise'}\n",
      "/home/alex/chat_bot_wrike/wrike-bot/help_good_for_wrike/210323245-Subtasks.csv\n",
      "Saving as : /home/alex/chat_bot_wrike/wrike-bot/help_good_for_wrike/209603689-Milestones.csv {'https://help.wrike.com/hc/en-us/articles/209603989-Types-of-Licenses'}\n",
      "/home/alex/chat_bot_wrike/wrike-bot/help_good_for_wrike/209603689-Milestones.csv\n",
      "Saving as : /home/alex/chat_bot_wrike/wrike-bot/help_good_for_wrike/209603309-Attachments.csv {'https://help.wrike.com/hc/en-us/articles/210322865-Document-Editor', 'https://help.wrike.com/hc/en-us/articles/360045949974-Wrike-Proof-for-HTML', 'https://help.wrike.com/hc/en-us/articles/360010504274-Wrike-Publish-MediaValet-Integration', 'https://help.wrike.com/hc/en-us/articles/209603589-Access-Roles', 'https://help.wrike.com/hc/en-us/articles/360024472793-Wrike-Publish-Bynder-Integration'}\n",
      "/home/alex/chat_bot_wrike/wrike-bot/help_good_for_wrike/209603309-Attachments.csv\n",
      "Saving as : /home/alex/chat_bot_wrike/wrike-bot/help_good_for_wrike/209603489-Projects.csv {'https://help.wrike.com/hc/en-us/articles/209603989-Types-of-Licenses', 'https://help.wrike.com/hc/en-us/articles/210322885-Archive', 'https://help.wrike.com/hc/en-us/articles/209602909-Search#filter', 'https://help.wrike.com/hc/en-us/articles/209603609-Create-Color-Code-and-Edit-Folders-and-Projects', 'https://help.wrike.com/hc/en-us/articles/210322825-Comments', 'https://help.wrike.com/hc/en-us/articles/209603949-Business', 'https://help.wrike.com/hc/en-us/articles/210322785-Custom-Statuses-and-Workflows#default', 'https://help.wrike.com/hc/en-us/articles/209603389-Folder-and-Project-Info-Panels#open', 'https://help.wrike.com/hc/en-us/articles/209603309-Attachments', 'https://help.wrike.com/hc/en-us/articles/210322785-Custom-Statuses-and-Workflows', 'https://help.wrike.com/hc/en-us/articles/360020311174-Spaces-Overview'}\n",
      "/home/alex/chat_bot_wrike/wrike-bot/help_good_for_wrike/209603489-Projects.csv\n",
      "Saving as : /home/alex/chat_bot_wrike/wrike-bot/help_good_for_wrike/202366329-Proofing-and-Approvals.csv set()\n",
      "/home/alex/chat_bot_wrike/wrike-bot/help_good_for_wrike/202366329-Proofing-and-Approvals.csv\n",
      "Saving as : /home/alex/chat_bot_wrike/wrike-bot/help_good_for_wrike/360020311174-Spaces-Overview.csv {'https://help.wrike.com/hc/en-us/articles/209603989-Types-of-Licenses', 'https://help.wrike.com/hc/en-us/articles/360020311174-Spaces-Overview#types', 'https://help.wrike.com/hc/en-us/articles/209603369-Tags', 'https://help.wrike.com/hc/en-us/articles/209603389-Folder-and-Project-Info-Panels', 'https://help.wrike.com/hc/en-us/articles/360034765174-Personal-Space#created', 'https://help.wrike.com/hc/en-us/articles/209603589-Access-Roles', 'https://help.wrike.com/hc/en-us/articles/209602969-Sharing#inherited', 'https://help.wrike.com/hc/en-us/articles/360021667233-Bookmarks', 'https://help.wrike.com/hc/en-us/articles/209603009-My-Team-Group', 'https://help.wrike.com/hc/en-us/articles/360034765174-Personal-Space', 'https://help.wrike.com/hc/en-us/articles/209603589-Access-Roles#create', 'https://help.wrike.com/hc/en-us/articles/210324485-Advanced-Security-Settings#createspace', 'https://help.wrike.com/hc/en-us/articles/209602989-User-Groups', 'https://help.wrike.com/hc/en-us/articles/360034765174-Personal-Space#todo'}\n"
     ]
    },
    {
     "name": "stdout",
     "output_type": "stream",
     "text": [
      "/home/alex/chat_bot_wrike/wrike-bot/help_good_for_wrike/360020311174-Spaces-Overview.csv\n",
      "Saving as : /home/alex/chat_bot_wrike/wrike-bot/help_good_for_wrike/209603669-Sharing-Folders-and-Projects.csv {'https://help.wrike.com/hc/en-us/articles/209603009-My-Team-Group', 'https://help.wrike.com/hc/en-us/articles/209602929-Following', 'https://help.wrike.com/hc/en-us/articles/209603989-Types-of-Licenses', 'https://help.wrike.com/hc/en-us/articles/360008063354-Share-Tasks-Folders-and-Projects-Free-and-Professional-'}\n",
      "/home/alex/chat_bot_wrike/wrike-bot/help_good_for_wrike/209603669-Sharing-Folders-and-Projects.csv\n",
      "Saving as : /home/alex/chat_bot_wrike/wrike-bot/help_good_for_wrike/360023006313-Approvals.csv {'https://help.wrike.com/hc/en-us/articles/210324405-Email-Notifications', 'https://help.wrike.com/hc/en-us/articles/209603069-Filters', 'https://help.wrike.com/hc/en-us/articles/115004740045-Create-a-Request-Form-for-Admins-', 'https://help.wrike.com/hc/en-us/articles/115004120265-Dashboard-Widgets', 'https://help.wrike.com/hc/en-us/articles/210322785-Custom-Statuses-and-Workflows'}\n",
      "/home/alex/chat_bot_wrike/wrike-bot/help_good_for_wrike/360023006313-Approvals.csv\n",
      "Saving as : /home/alex/chat_bot_wrike/wrike-bot/help_good_for_wrike/360003697334-Spaces.csv set()\n",
      "/home/alex/chat_bot_wrike/wrike-bot/help_good_for_wrike/360003697334-Spaces.csv\n",
      "Saving as : /home/alex/chat_bot_wrike/wrike-bot/help_good_for_wrike/210322845-Proofing.csv {'https://help.wrike.com/hc/en-us/articles/360045949974-Wrike-Proof-for-HTML'}\n",
      "/home/alex/chat_bot_wrike/wrike-bot/help_good_for_wrike/210322845-Proofing.csv\n",
      "Saving as : /home/alex/chat_bot_wrike/wrike-bot/help_good_for_wrike/210325065-File-Approvals.csv {'https://help.wrike.com/hc/en-us/articles/210322845-Proofing', 'https://help.wrike.com/hc/en-us/articles/209603989-Types-of-Licenses', 'https://help.wrike.com/hc/en-us/articles/360023006313-Approvals#add'}\n",
      "/home/alex/chat_bot_wrike/wrike-bot/help_good_for_wrike/210325065-File-Approvals.csv\n",
      "Saving as : /home/alex/chat_bot_wrike/wrike-bot/help_good_for_wrike/360009639733-Guest-Reviews.csv {'https://help.wrike.com/hc/en-us/articles/210322845-Proofing', 'https://help.wrike.com/hc/en-us/articles/209603589-Access-Roles#permissions', 'https://help.wrike.com/hc/en-us/articles/210322845-Proofing#proofing'}\n",
      "/home/alex/chat_bot_wrike/wrike-bot/help_good_for_wrike/360009639733-Guest-Reviews.csv\n",
      "Saving as : /home/alex/chat_bot_wrike/wrike-bot/help_good_for_wrike/360009722693-Review-and-Approve-Files-for-Guest-Users-.csv {'https://help.wrike.com/hc/en-us/articles/360009639733-Guest-Reviews#revoke', 'https://help.wrike.com/hc/en-us/articles/209603269--mentions'}\n",
      "/home/alex/chat_bot_wrike/wrike-bot/help_good_for_wrike/360009722693-Review-and-Approve-Files-for-Guest-Users-.csv\n",
      "Saving as : /home/alex/chat_bot_wrike/wrike-bot/help_good_for_wrike/201893055-Communication.csv set()\n",
      "/home/alex/chat_bot_wrike/wrike-bot/help_good_for_wrike/201893055-Communication.csv\n",
      "Saving as : /home/alex/chat_bot_wrike/wrike-bot/help_good_for_wrike/360008551493-Description-Field.csv {'https://help.wrike.com/hc/en-us/articles/209603389-Folder-and-Project-Info-Panels', 'https://help.wrike.com/hc/en-us/articles/209603989-Types-of-Licenses', 'https://help.wrike.com/hc/en-us/articles/210323225-Task-View'}\n",
      "/home/alex/chat_bot_wrike/wrike-bot/help_good_for_wrike/360008551493-Description-Field.csv\n",
      "Saving as : /home/alex/chat_bot_wrike/wrike-bot/help_good_for_wrike/360045949974-Wrike-Proof-for-HTML.csv {'https://help.wrike.com/hc/en-us/articles/210322845-Proofing', 'https://help.wrike.com/hc/en-us/articles/210322845-Proofing#export', 'https://help.wrike.com/hc/en-us/articles/210325065-File-Approvals', 'https://help.wrike.com/hc/en-us/articles/209605669-Manage-Subscriptions#advanced'}\n",
      "/home/alex/chat_bot_wrike/wrike-bot/help_good_for_wrike/360045949974-Wrike-Proof-for-HTML.csv\n",
      "Saving as : /home/alex/chat_bot_wrike/wrike-bot/help_good_for_wrike/360034765174-Personal-Space.csv {'https://help.wrike.com/hc/en-us/articles/360034765174-Personal-Space#created', 'https://help.wrike.com/hc/en-us/articles/209603069-Filters', 'https://help.wrike.com/hc/en-us/articles/210323325-List-View-Sorting-and-Prioritizing-Tasks', 'https://help.wrike.com/hc/en-us/articles/210325065-File-Approvals', 'https://help.wrike.com/hc/en-us/articles/210323325-List-View-Sorting-and-Prioritizing-Tasks#sorting', 'https://help.wrike.com/hc/en-us/articles/209603169-Request-Forms-Submit-a-Form-', 'https://help.wrike.com/hc/en-us/articles/209603889-Mass-Editing', 'https://help.wrike.com/hc/en-us/articles/210322785-Custom-Statuses-and-Workflows', 'https://help.wrike.com/hc/en-us/articles/360034765174-Personal-Space#todo'}\n",
      "/home/alex/chat_bot_wrike/wrike-bot/help_good_for_wrike/360034765174-Personal-Space.csv\n",
      "Saving as : /home/alex/chat_bot_wrike/wrike-bot/help_good_for_wrike/360017905033-Manage-Spaces-for-Space-Admins-.csv {'https://help.wrike.com/hc/en-us/articles/360020311174-Spaces-Overview#create', 'https://help.wrike.com/hc/en-us/articles/360020311174-Spaces-Overview#work', 'https://help.wrike.com/hc/en-us/articles/360020311174-Spaces-Overview#types', 'https://help.wrike.com/hc/en-us/articles/210322945-Recycle-Bin', 'https://help.wrike.com/hc/en-us/articles/209605449-Admin-Permissions', 'https://help.wrike.com/hc/en-us/articles/209603589-Access-Roles', 'https://help.wrike.com/hc/en-us/articles/360021667233-Bookmarks', 'https://help.wrike.com/hc/en-us/articles/360034765174-Personal-Space', 'https://help.wrike.com/hc/en-us/articles/115004740045-Create-a-Request-Form-for-Admins-', 'https://help.wrike.com/hc/en-us/articles/209603169-Request-Forms-Submit-a-Form-', 'https://help.wrike.com/hc/en-us/articles/210322785-Custom-Statuses-and-Workflows#apply', 'https://help.wrike.com/hc/en-us/articles/210322785-Custom-Statuses-and-Workflows', 'https://help.wrike.com/hc/en-us/articles/360020311174-Spaces-Overview'}\n",
      "/home/alex/chat_bot_wrike/wrike-bot/help_good_for_wrike/360017905033-Manage-Spaces-for-Space-Admins-.csv\n",
      "Saving as : /home/alex/chat_bot_wrike/wrike-bot/help_good_for_wrike/360021667233-Bookmarks.csv set()\n",
      "/home/alex/chat_bot_wrike/wrike-bot/help_good_for_wrike/360021667233-Bookmarks.csv\n",
      "Saving as : /home/alex/chat_bot_wrike/wrike-bot/help_good_for_wrike/209603269--mentions.csv {'https://help.wrike.com/hc/en-us/articles/210324405-Email-Notifications', 'https://help.wrike.com/hc/en-us/articles/209603989-Types-of-Licenses', 'https://help.wrike.com/hc/en-us/articles/210323705-Inbox', 'https://help.wrike.com/hc/en-us/articles/210323405-Collaborators', 'https://help.wrike.com/hc/en-us/articles/210324185-Email-Integration', 'https://help.wrike.com/hc/en-us/articles/209603009-My-Team-Group', 'https://help.wrike.com/hc/en-us/articles/209603949-Business', 'https://help.wrike.com/hc/en-us/articles/209602989-User-Groups', 'https://help.wrike.com/hc/en-us/articles/209603969-Enterprise'}\n",
      "/home/alex/chat_bot_wrike/wrike-bot/help_good_for_wrike/209603269--mentions.csv\n",
      "Saving as : /home/alex/chat_bot_wrike/wrike-bot/help_good_for_wrike/210322825-Comments.csv {'https://help.wrike.com/hc/en-us/articles/209604489-Stream', 'https://help.wrike.com/hc/en-us/articles/209604489-Stream#post', 'https://help.wrike.com/hc/en-us/articles/210323405-Collaborators', 'https://help.wrike.com/hc/en-us/articles/209603269--mentions', 'https://help.wrike.com/hc/en-us/articles/209602989-User-Groups'}\n",
      "/home/alex/chat_bot_wrike/wrike-bot/help_good_for_wrike/210322825-Comments.csv\n",
      "Saving as : /home/alex/chat_bot_wrike/wrike-bot/help_good_for_wrike/210322805-Permalink.csv {'https://help.wrike.com/hc/en-us/articles/210323405-Collaborators', 'https://help.wrike.com/hc/en-us/articles/209603329-Job-Numbers', 'https://help.wrike.com/hc/en-us/articles/209603389-Folder-and-Project-Info-Panels', 'https://help.wrike.com/hc/en-us/articles/210323325-List-View-Sorting-and-Prioritizing-Tasks', 'https://help.wrike.com/hc/en-us/articles/210323225-Task-View'}\n",
      "/home/alex/chat_bot_wrike/wrike-bot/help_good_for_wrike/210322805-Permalink.csv\n",
      "Saving as : /home/alex/chat_bot_wrike/wrike-bot/help_good_for_wrike/209602969-Sharing.csv {'https://help.wrike.com/hc/en-us/articles/209602929-Following', 'https://help.wrike.com/hc/en-us/articles/209603989-Types-of-Licenses', 'https://help.wrike.com/hc/en-us/articles/209603649-Subfolders-and-Subprojects', 'https://help.wrike.com/hc/en-us/articles/360012344933-Share-Tasks-Folders-and-Projects-Business-and-Enterprise-', 'https://help.wrike.com/hc/en-us/articles/360008063354-Share-Tasks-Folders-and-Projects-Free-and-Professional-'}\n"
     ]
    },
    {
     "name": "stdout",
     "output_type": "stream",
     "text": [
      "/home/alex/chat_bot_wrike/wrike-bot/help_good_for_wrike/209602969-Sharing.csv\n",
      "Saving as : /home/alex/chat_bot_wrike/wrike-bot/help_good_for_wrike/201834259-Advanced.csv set()\n",
      "/home/alex/chat_bot_wrike/wrike-bot/help_good_for_wrike/201834259-Advanced.csv\n",
      "Saving as : /home/alex/chat_bot_wrike/wrike-bot/help_good_for_wrike/360036858954-Calculated-Custom-Fields.csv {'https://help.wrike.com/hc/en-us/articles/209603049-Custom-Fields#rollup', 'https://help.wrike.com/hc/en-us/articles/209603049-Custom-Fields#share', 'https://help.wrike.com/hc/en-us/articles/209603049-Custom-Fields#create', 'https://help.wrike.com/hc/en-us/articles/209603049-Custom-Fields#customize', 'https://help.wrike.com/hc/en-us/articles/209603049-Custom-Fields#edit', 'https://help.wrike.com/hc/en-us/articles/209603389-Folder-and-Project-Info-Panels#open', 'https://help.wrike.com/hc/en-us/articles/360003497114-Calculations-on-Reports', 'https://help.wrike.com/hc/en-us/articles/360036858954-Calculated-Custom-Fields#color', 'https://help.wrike.com/hc/en-us/articles/360010049154-Custom-Field-Management#open', 'https://help.wrike.com/hc/en-us/articles/360036858954-Calculated-Custom-Fields#write', 'https://help.wrike.com/hc/en-us/articles/209603049-Custom-Fields'}\n",
      "/home/alex/chat_bot_wrike/wrike-bot/help_good_for_wrike/360036858954-Calculated-Custom-Fields.csv\n",
      "Saving as : /home/alex/chat_bot_wrike/wrike-bot/help_good_for_wrike/360013445394-Blueprints.csv {'https://help.wrike.com/hc/en-us/articles/360010835433-Workload-Charts', 'https://help.wrike.com/hc/en-us/articles/210323405-Collaborators'}\n",
      "/home/alex/chat_bot_wrike/wrike-bot/help_good_for_wrike/360013445394-Blueprints.csv\n",
      "Saving as : /home/alex/chat_bot_wrike/wrike-bot/help_good_for_wrike/210322725-Keyboard-Shortcuts.csv set()\n",
      "/home/alex/chat_bot_wrike/wrike-bot/help_good_for_wrike/210322725-Keyboard-Shortcuts.csv\n",
      "Saving as : /home/alex/chat_bot_wrike/wrike-bot/help_good_for_wrike/209603049-Custom-Fields.csv {'https://help.wrike.com/hc/en-us/articles/360036858954-Calculated-Custom-Fields', 'https://help.wrike.com/hc/en-us/articles/209603989-Types-of-Licenses', 'https://help.wrike.com/hc/en-us/articles/209603049-Custom-Fields#create', 'https://help.wrike.com/hc/en-us/articles/209604309-Report-Table-Charts#groupings', 'https://help.wrike.com/hc/en-us/articles/209603069-Filters', 'https://help.wrike.com/hc/en-us/articles/209603949-Business', 'https://help.wrike.com/hc/en-us/articles/209603489-Projects#rollup', 'https://help.wrike.com/hc/en-us/articles/209603389-Folder-and-Project-Info-Panels#open', 'https://help.wrike.com/hc/en-us/articles/209603049-Custom-Fields#edit'}\n",
      "/home/alex/chat_bot_wrike/wrike-bot/help_good_for_wrike/209603049-Custom-Fields.csv\n",
      "Saving as : /home/alex/chat_bot_wrike/wrike-bot/help_good_for_wrike/210322865-Document-Editor.csv {'https://help.wrike.com/hc/en-us/articles/209603309-Attachments', 'https://help.wrike.com/hc/en-us/articles/209603309-Attachments#edit', 'https://help.wrike.com/hc/en-us/articles/210323405-Collaborators'}\n"
     ]
    },
    {
     "name": "stderr",
     "output_type": "stream",
     "text": [
      "2020-09-13 03:08:25 [scrapy.extensions.logstats] INFO: Crawled 384 pages (at 74 pages/min), scraped 0 items (at 0 items/min)\n"
     ]
    },
    {
     "name": "stdout",
     "output_type": "stream",
     "text": [
      "/home/alex/chat_bot_wrike/wrike-bot/help_good_for_wrike/210322865-Document-Editor.csv\n",
      "Saving as : /home/alex/chat_bot_wrike/wrike-bot/help_good_for_wrike/360003549734-Onboarding-Templates.csv {'https://help.wrike.com/hc/en-us/articles/210322785-Custom-Statuses-and-Workflows', 'https://help.wrike.com/hc/en-us/articles/209603169-Request-Forms-Submit-a-Form-', 'https://help.wrike.com/hc/en-us/articles/209604469-Dashboards', 'https://help.wrike.com/hc/en-us/articles/209604449-Reports-Overview'}\n",
      "/home/alex/chat_bot_wrike/wrike-bot/help_good_for_wrike/360003549734-Onboarding-Templates.csv\n",
      "Saving as : /home/alex/chat_bot_wrike/wrike-bot/help_good_for_wrike/210322925-Move-Tasks-Folders-and-Projects.csv {'https://help.wrike.com/hc/en-us/articles/209603989-Types-of-Licenses', 'https://help.wrike.com/hc/en-us/articles/209603369-Tags'}\n",
      "/home/alex/chat_bot_wrike/wrike-bot/help_good_for_wrike/210322925-Move-Tasks-Folders-and-Projects.csv\n",
      "Saving as : /home/alex/chat_bot_wrike/wrike-bot/help_good_for_wrike/360010049154-Custom-Field-Management.csv {'https://help.wrike.com/hc/en-us/articles/209603049-Custom-Fields'}\n",
      "/home/alex/chat_bot_wrike/wrike-bot/help_good_for_wrike/360010049154-Custom-Field-Management.csv\n",
      "Saving as : /home/alex/chat_bot_wrike/wrike-bot/help_good_for_wrike/209603329-Job-Numbers.csv {'https://help.wrike.com/hc/en-us/articles/360037345013-Export-Data-to-Excel', 'https://help.wrike.com/hc/en-us/articles/210323405-Collaborators', 'https://help.wrike.com/hc/en-us/articles/210322805-Permalink'}\n",
      "/home/alex/chat_bot_wrike/wrike-bot/help_good_for_wrike/209603329-Job-Numbers.csv\n",
      "Saving as : /home/alex/chat_bot_wrike/wrike-bot/help_good_for_wrike/209603349-Starred-Folders-and-Projects.csv {'https://help.wrike.com/hc/en-us/articles/210323405-Collaborators'}\n",
      "/home/alex/chat_bot_wrike/wrike-bot/help_good_for_wrike/209603349-Starred-Folders-and-Projects.csv\n",
      "Saving as : /home/alex/chat_bot_wrike/wrike-bot/help_good_for_wrike/210322945-Recycle-Bin.csv {'https://help.wrike.com/hc/en-us/articles/210323305-Delete-Tasks', 'https://help.wrike.com/hc/en-us/articles/209603989-Types-of-Licenses', 'https://help.wrike.com/hc/en-us/articles/209605449-Admin-Permissions', 'https://help.wrike.com/hc/en-us/articles/210322965-Delete-a-Folder-or-Project'}\n",
      "/home/alex/chat_bot_wrike/wrike-bot/help_good_for_wrike/210322945-Recycle-Bin.csv\n",
      "Saving as : /home/alex/chat_bot_wrike/wrike-bot/help_good_for_wrike/209603369-Tags.csv {'https://help.wrike.com/hc/en-us/articles/209603889-Mass-Editing', 'https://help.wrike.com/hc/en-us/articles/209603989-Types-of-Licenses', 'https://help.wrike.com/hc/en-us/articles/209603649-Subfolders-and-Subprojects#convert'}\n",
      "/home/alex/chat_bot_wrike/wrike-bot/help_good_for_wrike/209603369-Tags.csv\n",
      "Saving as : /home/alex/chat_bot_wrike/wrike-bot/help_good_for_wrike/210322885-Archive.csv set()\n",
      "/home/alex/chat_bot_wrike/wrike-bot/help_good_for_wrike/210322885-Archive.csv\n",
      "Saving as : /home/alex/chat_bot_wrike/wrike-bot/help_good_for_wrike/201893045-Organization.csv set()\n",
      "/home/alex/chat_bot_wrike/wrike-bot/help_good_for_wrike/201893045-Organization.csv\n",
      "Saving as : /home/alex/chat_bot_wrike/wrike-bot/help_good_for_wrike/360004055313-Wrike-Integrate.csv set()\n",
      "/home/alex/chat_bot_wrike/wrike-bot/help_good_for_wrike/360004055313-Wrike-Integrate.csv\n",
      "Saving as : /home/alex/chat_bot_wrike/wrike-bot/help_good_for_wrike/115001422569-Email.csv set()\n",
      "/home/alex/chat_bot_wrike/wrike-bot/help_good_for_wrike/115001422569-Email.csv\n",
      "Saving as : /home/alex/chat_bot_wrike/wrike-bot/help_good_for_wrike/360021542373-Wrike-Integrate.csv {'https://help.wrike.com/hc/en-us/articles/210324325-Controlled-Admin-Permissions'}\n",
      "/home/alex/chat_bot_wrike/wrike-bot/help_good_for_wrike/360021542373-Wrike-Integrate.csv\n",
      "Saving as : /home/alex/chat_bot_wrike/wrike-bot/help_good_for_wrike/115003869085-Wrike-for-Outlook.csv {'https://help.wrike.com/hc/en-us/articles/360034765174-Personal-Space#todo'}\n",
      "/home/alex/chat_bot_wrike/wrike-bot/help_good_for_wrike/115003869085-Wrike-for-Outlook.csv\n",
      "Saving as : /home/alex/chat_bot_wrike/wrike-bot/help_good_for_wrike/209604509-Wrike-for-Office-Documents-Office-Add-in-.csv {'https://help.wrike.com/hc/en-us/articles/209603989-Types-of-Licenses'}\n",
      "/home/alex/chat_bot_wrike/wrike-bot/help_good_for_wrike/209604509-Wrike-for-Office-Documents-Office-Add-in-.csv\n",
      "Saving as : /home/alex/chat_bot_wrike/wrike-bot/help_good_for_wrike/210324185-Email-Integration.csv {'https://help.wrike.com/hc/en-us/articles/210324405-Email-Notifications', 'https://help.wrike.com/hc/en-us/articles/210323405-Collaborators', 'https://help.wrike.com/hc/en-us/articles/209605569-Add-or-Delete-an-Email', 'https://help.wrike.com/hc/en-us/articles/210323205-Backlogged-Tasks', 'https://help.wrike.com/hc/en-us/articles/210322785-Custom-Statuses-and-Workflows'}\n",
      "/home/alex/chat_bot_wrike/wrike-bot/help_good_for_wrike/210324185-Email-Integration.csv\n",
      "Saving as : /home/alex/chat_bot_wrike/wrike-bot/help_good_for_wrike/115005857485-Install-Wrike-for-Outlook-.csv set()\n",
      "/home/alex/chat_bot_wrike/wrike-bot/help_good_for_wrike/115005857485-Install-Wrike-for-Outlook-.csv\n",
      "Saving as : /home/alex/chat_bot_wrike/wrike-bot/help_good_for_wrike/115003433025-Outlook-Actionable-Messages.csv {'https://help.wrike.com/hc/en-us/articles/210324185-Email-Integration'}\n",
      "/home/alex/chat_bot_wrike/wrike-bot/help_good_for_wrike/115003433025-Outlook-Actionable-Messages.csv\n",
      "Saving as : /home/alex/chat_bot_wrike/wrike-bot/help_good_for_wrike/115005396349-Wrike-for-Gmail-Gmail-Add-On-.csv set()\n",
      "/home/alex/chat_bot_wrike/wrike-bot/help_good_for_wrike/115005396349-Wrike-for-Gmail-Gmail-Add-On-.csv\n",
      "Saving as : /home/alex/chat_bot_wrike/wrike-bot/help_good_for_wrike/210385865-Gmail-Gadget.csv {'https://help.wrike.com/hc/en-us/articles/115005396349-Wrike-for-Gmail-Gmail-Add-On-'}\n",
      "/home/alex/chat_bot_wrike/wrike-bot/help_good_for_wrike/210385865-Gmail-Gadget.csv\n",
      "Saving as : /home/alex/chat_bot_wrike/wrike-bot/help_good_for_wrike/210323725-Wrike-Extension-for-Adobe-Creative-Cloud.csv {'https://help.wrike.com/hc/en-us/articles/209603949-Business', 'https://help.wrike.com/hc/en-us/articles/209603309-Attachments', 'https://help.wrike.com/hc/en-us/articles/210412605-Wrike-for-Marketers', 'https://help.wrike.com/hc/en-us/articles/360034765174-Personal-Space#todo', 'https://help.wrike.com/hc/en-us/articles/209603969-Enterprise'}\n",
      "/home/alex/chat_bot_wrike/wrike-bot/help_good_for_wrike/210323725-Wrike-Extension-for-Adobe-Creative-Cloud.csv\n",
      "Saving as : /home/alex/chat_bot_wrike/wrike-bot/help_good_for_wrike/360040085934-Wrike-For-Salesforce.csv {'https://help.wrike.com/hc/en-us/articles/360021542373-Wrike-Integrate', 'https://help.wrike.com/hc/en-us/articles/209603949-Business', 'https://help.wrike.com/hc/en-us/articles/209603969-Enterprise'}\n",
      "/home/alex/chat_bot_wrike/wrike-bot/help_good_for_wrike/360040085934-Wrike-For-Salesforce.csv\n",
      "Saving as : /home/alex/chat_bot_wrike/wrike-bot/help_good_for_wrike/202365769-Add-ins-and-Extensions.csv set()\n",
      "/home/alex/chat_bot_wrike/wrike-bot/help_good_for_wrike/202365769-Add-ins-and-Extensions.csv\n",
      "Saving as : /home/alex/chat_bot_wrike/wrike-bot/help_good_for_wrike/360001968634-Import-and-Export.csv set()\n",
      "/home/alex/chat_bot_wrike/wrike-bot/help_good_for_wrike/360001968634-Import-and-Export.csv\n",
      "Saving as : /home/alex/chat_bot_wrike/wrike-bot/help_good_for_wrike/360019094414-BI-Export.csv set()\n",
      "/home/alex/chat_bot_wrike/wrike-bot/help_good_for_wrike/360019094414-BI-Export.csv\n",
      "Saving as : /home/alex/chat_bot_wrike/wrike-bot/help_good_for_wrike/360037345013-Export-Data-to-Excel.csv {'https://help.wrike.com/hc/en-us/articles/209603989-Types-of-Licenses', 'https://help.wrike.com/hc/en-us/articles/209603369-Tags', 'https://help.wrike.com/hc/en-us/articles/210323585-Gantt-Chart-Overview-', 'https://help.wrike.com/hc/en-us/articles/210324125-Import-Data-From-Excel', 'https://help.wrike.com/hc/en-us/articles/210323245-Subtasks'}\n",
      "/home/alex/chat_bot_wrike/wrike-bot/help_good_for_wrike/360037345013-Export-Data-to-Excel.csv\n",
      "Saving as : /home/alex/chat_bot_wrike/wrike-bot/help_good_for_wrike/360044211853-Project-Syncs-Add-On.csv {'https://help.wrike.com/hc/en-us/articles/115005784145-Wrike-and-GitLab-Sync-Setup-Guide', 'https://help.wrike.com/hc/en-us/articles/209605189-Wrike-and-JIRA-Sync-Setup-Guide', 'https://help.wrike.com/hc/en-us/articles/115005782509-Wrike-and-Bitbucket-Sync-Setup-Guide', 'https://help.wrike.com/hc/en-us/articles/212888505-Wrike-and-GitHub-Sync-Setup-Guide'}\n"
     ]
    },
    {
     "name": "stdout",
     "output_type": "stream",
     "text": [
      "/home/alex/chat_bot_wrike/wrike-bot/help_good_for_wrike/360044211853-Project-Syncs-Add-On.csv\n",
      "Saving as : /home/alex/chat_bot_wrike/wrike-bot/help_good_for_wrike/209605149-Import-MS-Project-Files.csv {'https://help.wrike.com/hc/en-us/articles/210324345-Add-Users-'}\n",
      "/home/alex/chat_bot_wrike/wrike-bot/help_good_for_wrike/209605149-Import-MS-Project-Files.csv\n",
      "Saving as : /home/alex/chat_bot_wrike/wrike-bot/help_good_for_wrike/210324125-Import-Data-From-Excel.csv {'https://help.wrike.com/hc/en-us/articles/209603989-Types-of-Licenses', 'https://help.wrike.com/hc/en-us/articles/209603369-Tags', 'https://help.wrike.com/hc/en-us/articles/209603689-Milestones', 'https://help.wrike.com/hc/en-us/articles/209603949-Business', 'https://help.wrike.com/hc/en-us/articles/360010852973-Task-Effort', 'https://help.wrike.com/hc/en-us/articles/360037345013-Export-Data-to-Excel', 'https://help.wrike.com/hc/en-us/articles/360035863834-Wrike-for-Professional-Services', 'https://help.wrike.com/hc/en-us/articles/210322785-Custom-Statuses-and-Workflows', 'https://help.wrike.com/hc/en-us/articles/209603969-Enterprise'}\n",
      "/home/alex/chat_bot_wrike/wrike-bot/help_good_for_wrike/210324125-Import-Data-From-Excel.csv\n",
      "Saving as : /home/alex/chat_bot_wrike/wrike-bot/help_good_for_wrike/210324145-Importing-Outlook-Tasks.csv {'https://help.wrike.com/hc/en-us/articles/209603609-Create-Color-Code-and-Edit-Folders-and-Projects'}\n",
      "/home/alex/chat_bot_wrike/wrike-bot/help_good_for_wrike/210324145-Importing-Outlook-Tasks.csv\n",
      "Saving as : /home/alex/chat_bot_wrike/wrike-bot/help_good_for_wrike/115005782549-Wrike-and-Bitbucket-Sync-Overview.csv {'https://help.wrike.com/hc/en-us/articles/360044211853-Project-Syncs-Add-On', 'https://help.wrike.com/hc/en-us/articles/209603369-Tags'}\n",
      "/home/alex/chat_bot_wrike/wrike-bot/help_good_for_wrike/115005782549-Wrike-and-Bitbucket-Sync-Overview.csv\n",
      "Saving as : /home/alex/chat_bot_wrike/wrike-bot/help_good_for_wrike/202365749-Wrike-GitHub-and-JIRA-Syncs.csv set()\n",
      "/home/alex/chat_bot_wrike/wrike-bot/help_good_for_wrike/202365749-Wrike-GitHub-and-JIRA-Syncs.csv\n",
      "Saving as : /home/alex/chat_bot_wrike/wrike-bot/help_good_for_wrike/115005892225-Wrike-ToDo-Extension.csv {'https://help.wrike.com/hc/en-us/articles/209602969-Sharing#private'}\n",
      "/home/alex/chat_bot_wrike/wrike-bot/help_good_for_wrike/115005892225-Wrike-ToDo-Extension.csv\n",
      "Saving as : /home/alex/chat_bot_wrike/wrike-bot/help_good_for_wrike/115005782509-Wrike-and-Bitbucket-Sync-Setup-Guide.csv {'https://help.wrike.com/hc/en-us/articles/115004562709-Wrike-Bot', 'https://help.wrike.com/hc/en-us/articles/360044211853-Project-Syncs-Add-On', 'https://help.wrike.com/hc/en-us/articles/360044211853-Project-Syncs-Add-On#enable'}\n",
      "/home/alex/chat_bot_wrike/wrike-bot/help_good_for_wrike/115005782509-Wrike-and-Bitbucket-Sync-Setup-Guide.csv\n",
      "Saving as : /home/alex/chat_bot_wrike/wrike-bot/help_good_for_wrike/115005782369-Wrike-and-GitLab-Sync-Overview.csv {'https://help.wrike.com/hc/en-us/articles/360044211853-Project-Syncs-Add-On', 'https://help.wrike.com/hc/en-us/articles/209603369-Tags'}\n",
      "/home/alex/chat_bot_wrike/wrike-bot/help_good_for_wrike/115005782369-Wrike-and-GitLab-Sync-Overview.csv\n",
      "Saving as : /home/alex/chat_bot_wrike/wrike-bot/help_good_for_wrike/115005784145-Wrike-and-GitLab-Sync-Setup-Guide.csv {'https://help.wrike.com/hc/en-us/articles/115004562709-Wrike-Bot', 'https://help.wrike.com/hc/en-us/articles/360044211853-Project-Syncs-Add-On', 'https://help.wrike.com/hc/en-us/articles/360044211853-Project-Syncs-Add-On#enable'}\n",
      "/home/alex/chat_bot_wrike/wrike-bot/help_good_for_wrike/115005784145-Wrike-and-GitLab-Sync-Setup-Guide.csv\n",
      "Saving as : /home/alex/chat_bot_wrike/wrike-bot/help_good_for_wrike/212889465-Wrike-and-GitHub-Sync-Overview.csv {'https://help.wrike.com/hc/en-us/articles/360044211853-Project-Syncs-Add-On', 'https://help.wrike.com/hc/en-us/articles/209603369-Tags', 'https://help.wrike.com/hc/en-us/articles/212888505-Wrike-and-GitHub-Sync-Setup-Guide'}\n",
      "/home/alex/chat_bot_wrike/wrike-bot/help_good_for_wrike/212889465-Wrike-and-GitHub-Sync-Overview.csv\n",
      "Saving as : /home/alex/chat_bot_wrike/wrike-bot/help_good_for_wrike/202423365-Everything-Else.csv set()\n",
      "/home/alex/chat_bot_wrike/wrike-bot/help_good_for_wrike/202423365-Everything-Else.csv\n",
      "Saving as : /home/alex/chat_bot_wrike/wrike-bot/help_good_for_wrike/360016043273-Connect-Tableau-and-Wrike.csv {'https://help.wrike.com/hc/en-us/articles/210324325-Controlled-Admin-Permissions#control', 'https://help.wrike.com/hc/en-us/articles/360010852973-Task-Effort', 'https://help.wrike.com/hc/en-us/articles/360035863834-Wrike-for-Professional-Services'}\n",
      "/home/alex/chat_bot_wrike/wrike-bot/help_good_for_wrike/360016043273-Connect-Tableau-and-Wrike.csv\n",
      "Saving as : /home/alex/chat_bot_wrike/wrike-bot/help_good_for_wrike/115001825869-Microsoft-Teams.csv {'https://help.wrike.com/hc/en-us/articles/209602969-Sharing', 'https://help.wrike.com/hc/en-us/articles/209603269--mentions', 'https://help.wrike.com/hc/en-us/articles/210323405-Collaborators', 'https://help.wrike.com/hc/en-us/articles/210322825-Comments'}\n",
      "/home/alex/chat_bot_wrike/wrike-bot/help_good_for_wrike/115001825869-Microsoft-Teams.csv\n",
      "Saving as : /home/alex/chat_bot_wrike/wrike-bot/help_good_for_wrike/211587165-Slack.csv set()\n",
      "/home/alex/chat_bot_wrike/wrike-bot/help_good_for_wrike/211587165-Slack.csv\n",
      "Saving as : /home/alex/chat_bot_wrike/wrike-bot/help_good_for_wrike/210409445-Developer-Portal.csv set()\n",
      "/home/alex/chat_bot_wrike/wrike-bot/help_good_for_wrike/210409445-Developer-Portal.csv\n",
      "Saving as : /home/alex/chat_bot_wrike/wrike-bot/help_good_for_wrike/209605169-Zapier.csv {'https://help.wrike.com/hc/en-us/articles/210323205-Backlogged-Tasks', 'https://help.wrike.com/hc/en-us/articles/209603609-Create-Color-Code-and-Edit-Folders-and-Projects'}\n",
      "/home/alex/chat_bot_wrike/wrike-bot/help_good_for_wrike/209605169-Zapier.csv\n",
      "Saving as : /home/alex/chat_bot_wrike/wrike-bot/help_good_for_wrike/210324205-G-Suite.csv {'https://help.wrike.com/hc/en-us/articles/210323405-Collaborators', 'https://help.wrike.com/hc/en-us/articles/209605809-iOS-App', 'https://help.wrike.com/hc/en-us/articles/210324605-Android-App', 'https://help.wrike.com/hc/en-us/articles/214413365-Google-Calendar-Integration', 'https://help.wrike.com/hc/en-us/articles/209603309-Attachments'}\n",
      "/home/alex/chat_bot_wrike/wrike-bot/help_good_for_wrike/210324205-G-Suite.csv\n",
      "Saving as : /home/alex/chat_bot_wrike/wrike-bot/help_good_for_wrike/360023074273-I-Sent-an-Email-to-Wrike-but-It-Didn-t-Create-or-Update-a-Task-Tasks-Aren-t-Created-out-of-Emails.csv {'https://help.wrike.com/hc/en-us/articles/115003869085-Wrike-for-Outlook', 'https://help.wrike.com/hc/en-us/articles/210324185-Email-Integration', 'https://help.wrike.com/hc/en-us/articles/115005396349-Wrike-for-Gmail-Gmail-Add-On-'}\n",
      "/home/alex/chat_bot_wrike/wrike-bot/help_good_for_wrike/360023074273-I-Sent-an-Email-to-Wrike-but-It-Didn-t-Create-or-Update-a-Task-Tasks-Aren-t-Created-out-of-Emails.csv\n",
      "Saving as : /home/alex/chat_bot_wrike/wrike-bot/help_good_for_wrike/360000935413-Troubleshooting.csv set()\n",
      "/home/alex/chat_bot_wrike/wrike-bot/help_good_for_wrike/360000935413-Troubleshooting.csv\n",
      "Saving as : /home/alex/chat_bot_wrike/wrike-bot/help_good_for_wrike/360021787894-Finding-a-Task-Folder-or-Project.csv {'https://help.wrike.com/hc/en-us/articles/210322945-Recycle-Bin', 'https://help.wrike.com/hc/en-us/articles/210322805-Permalink#cross-link', 'https://help.wrike.com/hc/en-us/articles/209602909-Search'}\n",
      "/home/alex/chat_bot_wrike/wrike-bot/help_good_for_wrike/360021787894-Finding-a-Task-Folder-or-Project.csv\n",
      "Saving as : /home/alex/chat_bot_wrike/wrike-bot/help_good_for_wrike/360021729294-Email-Notifications-Arrive-With-Delay-or-Don-t-Arrive-at-All.csv {'https://help.wrike.com/hc/en-us/articles/210324405-Email-Notifications', 'https://help.wrike.com/hc/en-us/articles/209605529-Time-and-Date-Settings#changetime', 'https://help.wrike.com/hc/en-us/articles/210324405-Email-Notifications#edit', 'https://help.wrike.com/hc/en-us/articles/209605589-Daily-To-Do-Emails', 'https://help.wrike.com/hc/en-us/articles/210322805-Permalink'}\n",
      "/home/alex/chat_bot_wrike/wrike-bot/help_good_for_wrike/360021729294-Email-Notifications-Arrive-With-Delay-or-Don-t-Arrive-at-All.csv\n"
     ]
    },
    {
     "name": "stdout",
     "output_type": "stream",
     "text": [
      "Saving as : /home/alex/chat_bot_wrike/wrike-bot/help_good_for_wrike/201825379-General-Account-Management.csv set()\n",
      "/home/alex/chat_bot_wrike/wrike-bot/help_good_for_wrike/201825379-General-Account-Management.csv\n",
      "Saving as : /home/alex/chat_bot_wrike/wrike-bot/help_good_for_wrike/360021923993-My-Wrike-Is-Taking-an-Unusually-Long-Time-to-Load.csv {'https://help.wrike.com/hc/en-us/sections/201834329-More-Monitoring-Panel-Views', 'https://help.wrike.com/hc/en-us/articles/115003289725-Supported-Browsers'}\n",
      "/home/alex/chat_bot_wrike/wrike-bot/help_good_for_wrike/360021923993-My-Wrike-Is-Taking-an-Unusually-Long-Time-to-Load.csv\n",
      "Saving as : /home/alex/chat_bot_wrike/wrike-bot/help_good_for_wrike/360002004534-Access-Reports.csv {'https://help.wrike.com/hc/en-us/articles/210322845-Proofing', 'https://help.wrike.com/hc/en-us/articles/209603589-Access-Roles', 'https://help.wrike.com/hc/en-us/articles/360002004534-Access-Reports#calendars', 'https://help.wrike.com/hc/en-us/articles/360009639733-Guest-Reviews', 'https://help.wrike.com/hc/en-us/articles/115005069169-Group-Admin'}\n",
      "/home/alex/chat_bot_wrike/wrike-bot/help_good_for_wrike/360002004534-Access-Reports.csv\n",
      "Saving as : /home/alex/chat_bot_wrike/wrike-bot/help_good_for_wrike/360006843194-Work-Schedules-for-Admins.csv {'https://help.wrike.com/hc/en-us/articles/209603989-Types-of-Licenses', 'https://help.wrike.com/hc/en-us/articles/210324365-Personal-Profile'}\n",
      "/home/alex/chat_bot_wrike/wrike-bot/help_good_for_wrike/360006843194-Work-Schedules-for-Admins.csv\n",
      "Saving as : /home/alex/chat_bot_wrike/wrike-bot/help_good_for_wrike/209603009-My-Team-Group.csv {'https://help.wrike.com/hc/en-us/articles/209603489-Projects'}\n",
      "/home/alex/chat_bot_wrike/wrike-bot/help_good_for_wrike/209603009-My-Team-Group.csv\n",
      "Saving as : /home/alex/chat_bot_wrike/wrike-bot/help_good_for_wrike/360020036614-Issues-With-Uploading-Downloading-Attachments.csv {'https://help.wrike.com/hc/en-us/articles/115003289725-Supported-Browsers'}\n",
      "/home/alex/chat_bot_wrike/wrike-bot/help_good_for_wrike/360020036614-Issues-With-Uploading-Downloading-Attachments.csv\n",
      "Saving as : /home/alex/chat_bot_wrike/wrike-bot/help_good_for_wrike/360001871874-User-Management-Chart-Business-and-Enterprise-.csv {'https://help.wrike.com/hc/en-us/articles/209602989-User-Groups#create', 'https://help.wrike.com/hc/en-us/articles/209603989-Types-of-Licenses', 'https://help.wrike.com/hc/en-us/articles/360035989794-Job-Roles', 'https://help.wrike.com/hc/en-us/articles/209603969-Enterprise', 'https://help.wrike.com/hc/en-us/articles/209602989-User-Groups#add', 'https://help.wrike.com/hc/en-us/articles/209605469-User-Management-Chart-Free-and-Professional-', 'https://help.wrike.com/hc/en-us/articles/209605449-Admin-Permissions#grant', 'https://help.wrike.com/hc/en-us/articles/209602989-User-Groups#remove', 'https://help.wrike.com/hc/en-us/articles/209602989-User-Groups', 'https://help.wrike.com/hc/en-us/articles/209603989-Types-of-Licenses#edit', 'https://help.wrike.com/hc/en-us/articles/115004530005-Deactivate-Users', 'https://help.wrike.com/hc/en-us/articles/360035863834-Wrike-for-Professional-Services', 'https://help.wrike.com/hc/en-us/articles/360024767374-Wrike-Resource-Overview', 'https://help.wrike.com/hc/en-us/articles/115005069169-Group-Admin', 'https://help.wrike.com/hc/en-us/articles/210324325-Controlled-Admin-Permissions'}\n",
      "/home/alex/chat_bot_wrike/wrike-bot/help_good_for_wrike/360001871874-User-Management-Chart-Business-and-Enterprise-.csv\n",
      "Saving as : /home/alex/chat_bot_wrike/wrike-bot/help_good_for_wrike/209602989-User-Groups.csv {'https://help.wrike.com/hc/en-us/articles/115005069169-Group-Admin', 'https://help.wrike.com/hc/en-us/articles/209603949-Business', 'https://help.wrike.com/hc/en-us/articles/209603969-Enterprise', 'https://help.wrike.com/hc/en-us/articles/210324325-Controlled-Admin-Permissions'}\n",
      "/home/alex/chat_bot_wrike/wrike-bot/help_good_for_wrike/209602989-User-Groups.csv\n",
      "Saving as : /home/alex/chat_bot_wrike/wrike-bot/help_good_for_wrike/360039201553-Account-Owner-Change.csv {'https://help.wrike.com/hc/en-us/articles/209603989-Types-of-Licenses#rights', 'https://help.wrike.com/hc/en-us/articles/209605769-SSO-with-SAML-Implementation-Guide'}\n",
      "/home/alex/chat_bot_wrike/wrike-bot/help_good_for_wrike/360039201553-Account-Owner-Change.csv\n",
      "Saving as : /home/alex/chat_bot_wrike/wrike-bot/help_good_for_wrike/360021181373-Expired-Trials.csv {'https://help.wrike.com/hc/en-us/articles/209605669-Manage-Subscriptions#advanced'}\n",
      "/home/alex/chat_bot_wrike/wrike-bot/help_good_for_wrike/360021181373-Expired-Trials.csv\n"
     ]
    },
    {
     "name": "stderr",
     "output_type": "stream",
     "text": [
      "2020-09-13 03:09:20 [scrapy.extensions.logstats] INFO: Crawled 462 pages (at 78 pages/min), scraped 0 items (at 0 items/min)\n"
     ]
    },
    {
     "name": "stdout",
     "output_type": "stream",
     "text": [
      "Saving as : /home/alex/chat_bot_wrike/wrike-bot/help_good_for_wrike/201828169-Personal-User-License.csv set()\n",
      "/home/alex/chat_bot_wrike/wrike-bot/help_good_for_wrike/201828169-Personal-User-License.csv\n",
      "Saving as : /home/alex/chat_bot_wrike/wrike-bot/help_good_for_wrike/360008652293-Workweek-Settings.csv set()\n",
      "/home/alex/chat_bot_wrike/wrike-bot/help_good_for_wrike/360008652293-Workweek-Settings.csv\n",
      "Saving as : /home/alex/chat_bot_wrike/wrike-bot/help_good_for_wrike/360008652093-Language-Settings.csv set()\n",
      "/home/alex/chat_bot_wrike/wrike-bot/help_good_for_wrike/360008652093-Language-Settings.csv\n",
      "Saving as : /home/alex/chat_bot_wrike/wrike-bot/help_good_for_wrike/360008254873-Workspace-Themes.csv {'https://help.wrike.com/hc/en-us/articles/115003289725-Supported-Browsers'}\n",
      "/home/alex/chat_bot_wrike/wrike-bot/help_good_for_wrike/360008254873-Workspace-Themes.csv\n",
      "Saving as : /home/alex/chat_bot_wrike/wrike-bot/help_good_for_wrike/360006918953-Work-Schedules-for-Users.csv {'https://help.wrike.com/hc/en-us/articles/209603989-Types-of-Licenses'}\n",
      "/home/alex/chat_bot_wrike/wrike-bot/help_good_for_wrike/360006918953-Work-Schedules-for-Users.csv\n",
      "Saving as : /home/alex/chat_bot_wrike/wrike-bot/help_good_for_wrike/210324405-Email-Notifications.csv {'https://help.wrike.com/hc/en-us/articles/210322845-Proofing', 'https://help.wrike.com/hc/en-us/articles/209602929-Following', 'https://help.wrike.com/hc/en-us/articles/210324185-Email-Integration', 'https://help.wrike.com/hc/en-us/articles/209603149-Templates', 'https://help.wrike.com/hc/en-us/articles/213930929-Scheduled-Report-Reminders', 'https://help.wrike.com/hc/en-us/articles/209605149-Import-MS-Project-Files', 'https://help.wrike.com/hc/en-us/articles/209605589-Daily-To-Do-Emails', 'https://help.wrike.com/hc/en-us/articles/360023006313-Approvals', 'https://help.wrike.com/hc/en-us/articles/210324125-Import-Data-From-Excel', 'https://help.wrike.com/hc/en-us/articles/209603869-Duplicate-Tasks-and-Subtasks', 'https://help.wrike.com/hc/en-us/articles/209603169-Request-Forms-Submit-a-Form-', 'https://help.wrike.com/hc/en-us/articles/360013445394-Blueprints', 'https://help.wrike.com/hc/en-us/articles/209602989-User-Groups', 'https://help.wrike.com/hc/en-us/articles/209605569-Add-or-Delete-an-Email'}\n",
      "/home/alex/chat_bot_wrike/wrike-bot/help_good_for_wrike/210324405-Email-Notifications.csv\n",
      "Saving as : /home/alex/chat_bot_wrike/wrike-bot/help_good_for_wrike/209605589-Daily-To-Do-Emails.csv {'https://help.wrike.com/hc/en-us/articles/209603389-Folder-and-Project-Info-Panels', 'https://help.wrike.com/hc/en-us/articles/210324405-Email-Notifications#edit', 'https://help.wrike.com/hc/en-us/articles/209603949-Business', 'https://help.wrike.com/hc/en-us/articles/210322785-Custom-Statuses-and-Workflows', 'https://help.wrike.com/hc/en-us/articles/209603969-Enterprise'}\n",
      "/home/alex/chat_bot_wrike/wrike-bot/help_good_for_wrike/209605589-Daily-To-Do-Emails.csv\n",
      "Saving as : /home/alex/chat_bot_wrike/wrike-bot/help_good_for_wrike/201887445-Billing.csv set()\n",
      "/home/alex/chat_bot_wrike/wrike-bot/help_good_for_wrike/201887445-Billing.csv\n",
      "Saving as : /home/alex/chat_bot_wrike/wrike-bot/help_good_for_wrike/115002135505-Add-and-Edit-Billing-Information.csv set()\n",
      "/home/alex/chat_bot_wrike/wrike-bot/help_good_for_wrike/115002135505-Add-and-Edit-Billing-Information.csv\n",
      "Saving as : /home/alex/chat_bot_wrike/wrike-bot/help_good_for_wrike/209605689-Purchase-a-Subscription.csv {'https://help.wrike.com/hc/en-us/articles/209603929-Professional', 'https://help.wrike.com/hc/en-us/articles/209603949-Business', 'https://help.wrike.com/hc/en-us/articles/210323385-Free', 'https://help.wrike.com/hc/en-us/articles/209603969-Enterprise'}\n",
      "/home/alex/chat_bot_wrike/wrike-bot/help_good_for_wrike/209605689-Purchase-a-Subscription.csv\n",
      "Saving as : /home/alex/chat_bot_wrike/wrike-bot/help_good_for_wrike/209605669-Manage-Subscriptions.csv {'https://help.wrike.com/hc/en-us/articles/210324405-Email-Notifications', 'https://help.wrike.com/hc/en-us/articles/115000193205-Board-View', 'https://help.wrike.com/hc/en-us/articles/209605809-iOS-App', 'https://help.wrike.com/hc/en-us/articles/209604469-Dashboards', 'https://help.wrike.com/hc/en-us/articles/209603069-Filters', 'https://help.wrike.com/hc/en-us/articles/210324605-Android-App', 'https://help.wrike.com/hc/en-us/articles/209605689-Purchase-a-Subscription', 'https://help.wrike.com/hc/en-us/articles/209603089-Time-Tracking', 'https://help.wrike.com/hc/en-us/articles/210324325-Controlled-Admin-Permissions', 'https://help.wrike.com/hc/en-us/articles/209603969-Enterprise', 'https://help.wrike.com/hc/en-us/articles/209604489-Stream', 'https://help.wrike.com/hc/en-us/articles/210323705-Inbox', 'https://help.wrike.com/hc/en-us/articles/209605769-SSO-with-SAML-Implementation-Guide', 'https://help.wrike.com/hc/en-us/articles/209605149-Import-MS-Project-Files', 'https://help.wrike.com/hc/en-us/articles/360034765174-Personal-Space#todo', 'https://help.wrike.com/hc/en-us/articles/360001737133-Calendars', 'https://help.wrike.com/hc/en-us/articles/210322845-Proofing', 'https://help.wrike.com/hc/en-us/articles/209603989-Types-of-Licenses', 'https://help.wrike.com/hc/en-us/articles/209604449-Reports-Overview', 'https://help.wrike.com/hc/en-us/articles/209603949-Business', 'https://help.wrike.com/hc/en-us/articles/360024767374-Wrike-Resource-Overview', 'https://help.wrike.com/hc/en-us/articles/209602989-User-Groups', 'https://help.wrike.com/hc/en-us/articles/209603309-Attachments', 'https://help.wrike.com/hc/en-us/articles/209603929-Professional', 'https://help.wrike.com/hc/en-us/articles/209603889-Mass-Editing', 'https://help.wrike.com/hc/en-us/articles/210324445-2-Step-Verification', 'https://help.wrike.com/hc/en-us/articles/210323385-Free', 'https://help.wrike.com/hc/en-us/articles/210324185-Email-Integration', 'https://help.wrike.com/hc/en-us/articles/210322865-Document-Editor', 'https://help.wrike.com/hc/en-us/articles/210324485-Advanced-Security-Settings', 'https://help.wrike.com/hc/en-us/articles/209602909-Search', 'https://help.wrike.com/hc/en-us/articles/209603049-Custom-Fields', 'https://help.wrike.com/hc/en-us/articles/210322785-Custom-Statuses-and-Workflows'}\n",
      "/home/alex/chat_bot_wrike/wrike-bot/help_good_for_wrike/209605669-Manage-Subscriptions.csv\n",
      "Saving as : /home/alex/chat_bot_wrike/wrike-bot/help_good_for_wrike/210324425-Print-an-Invoice.csv {'https://help.wrike.com/hc/en-us/articles/209605449-Admin-Permissions#owner'}\n",
      "/home/alex/chat_bot_wrike/wrike-bot/help_good_for_wrike/210324425-Print-an-Invoice.csv\n",
      "Saving as : /home/alex/chat_bot_wrike/wrike-bot/help_good_for_wrike/360005750733-Wrike-Analyze.csv set()\n",
      "/home/alex/chat_bot_wrike/wrike-bot/help_good_for_wrike/360005750733-Wrike-Analyze.csv\n",
      "Saving as : /home/alex/chat_bot_wrike/wrike-bot/help_good_for_wrike/360036508894-Wrike-Analyze.csv {'https://help.wrike.com/hc/en-us/articles/360038191973-Wrike-Analyze-Available-Data'}\n",
      "/home/alex/chat_bot_wrike/wrike-bot/help_good_for_wrike/360036508894-Wrike-Analyze.csv\n",
      "Saving as : /home/alex/chat_bot_wrike/wrike-bot/help_good_for_wrike/360037746233-Wrike-Analyze-Formulas.csv set()\n",
      "/home/alex/chat_bot_wrike/wrike-bot/help_good_for_wrike/360037746233-Wrike-Analyze-Formulas.csv\n",
      "Saving as : /home/alex/chat_bot_wrike/wrike-bot/help_good_for_wrike/360038191973-Wrike-Analyze-Available-Data.csv {'https://help.wrike.com/hc/en-us/articles/360036508894-Wrike-Analyze'}\n",
      "/home/alex/chat_bot_wrike/wrike-bot/help_good_for_wrike/360038191973-Wrike-Analyze-Available-Data.csv\n",
      "Saving as : /home/alex/chat_bot_wrike/wrike-bot/help_good_for_wrike/360037749333-Wrike-Analyze-Sample-Widgets.csv set()\n",
      "/home/alex/chat_bot_wrike/wrike-bot/help_good_for_wrike/360037749333-Wrike-Analyze-Sample-Widgets.csv\n",
      "Saving as : /home/alex/chat_bot_wrike/wrike-bot/help_good_for_wrike/360043781934-Wrike-Analyze-Utilization-and-Performance-Report.csv {'https://help.wrike.com/hc/en-us/articles/360036508894-Wrike-Analyze#template', 'https://help.wrike.com/hc/en-us/articles/360036508894-Wrike-Analyze', 'https://help.wrike.com/hc/en-us/articles/360035863834-Wrike-for-Professional-Services'}\n",
      "/home/alex/chat_bot_wrike/wrike-bot/help_good_for_wrike/360043781934-Wrike-Analyze-Utilization-and-Performance-Report.csv\n"
     ]
    },
    {
     "name": "stdout",
     "output_type": "stream",
     "text": [
      "Saving as : /home/alex/chat_bot_wrike/wrike-bot/help_good_for_wrike/360004618833-Wrike-Resource.csv set()\n",
      "/home/alex/chat_bot_wrike/wrike-bot/help_good_for_wrike/360004618833-Wrike-Resource.csv\n",
      "Saving as : /home/alex/chat_bot_wrike/wrike-bot/help_good_for_wrike/360024767374-Wrike-Resource-Overview.csv {'https://help.wrike.com/hc/en-us/articles/360010835433-Workload-Charts', 'https://help.wrike.com/hc/en-us/articles/209603589-Access-Roles', 'https://help.wrike.com/hc/en-us/articles/360010852973-Task-Effort', 'https://help.wrike.com/hc/en-us/articles/360014673593-Timesheets', 'https://help.wrike.com/hc/en-us/articles/360010852973-Task-Effort#specify'}\n",
      "/home/alex/chat_bot_wrike/wrike-bot/help_good_for_wrike/360024767374-Wrike-Resource-Overview.csv\n",
      "Saving as : /home/alex/chat_bot_wrike/wrike-bot/help_good_for_wrike/360010835433-Workload-Charts.csv {'https://help.wrike.com/hc/en-us/articles/209603989-Types-of-Licenses', 'https://help.wrike.com/hc/en-us/articles/360035989794-Job-Roles', 'https://help.wrike.com/hc/en-us/articles/360010835433-Workload-Charts#create', 'https://help.wrike.com/hc/en-us/articles/209602989-User-Groups', 'https://help.wrike.com/hc/en-us/articles/209603589-Access-Roles#permissions', 'https://help.wrike.com/hc/en-us/articles/209603589-Access-Roles#create', 'https://help.wrike.com/hc/en-us/articles/360035863834-Wrike-for-Professional-Services', 'https://help.wrike.com/hc/en-us/articles/360006843194-Work-Schedules-for-Admins', 'https://help.wrike.com/hc/en-us/articles/360010852973-Task-Effort#types', 'https://help.wrike.com/hc/en-us/articles/360024767374-Wrike-Resource-Overview', 'https://help.wrike.com/hc/en-us/articles/360045420254-Backlog-Box', 'https://help.wrike.com/hc/en-us/articles/360045420254-Backlog-Box#display', 'https://help.wrike.com/hc/en-us/articles/360045977633-Manage-Tasks-on-Workload-Charts'}\n",
      "/home/alex/chat_bot_wrike/wrike-bot/help_good_for_wrike/360010835433-Workload-Charts.csv\n",
      "Saving as : /home/alex/chat_bot_wrike/wrike-bot/help_good_for_wrike/360045977633-Manage-Tasks-on-Workload-Charts.csv {'https://help.wrike.com/hc/en-us/articles/209603989-Types-of-Licenses', 'https://help.wrike.com/hc/en-us/articles/360010852973-Task-Effort', 'https://help.wrike.com/hc/en-us/articles/360035863834-Wrike-for-Professional-Services', 'https://help.wrike.com/hc/en-us/articles/360010852973-Task-Effort#types', 'https://help.wrike.com/hc/en-us/articles/360024767374-Wrike-Resource-Overview', 'https://help.wrike.com/hc/en-us/articles/360045420254-Backlog-Box', 'https://help.wrike.com/hc/en-us/articles/360045420254-Backlog-Box#display'}\n",
      "/home/alex/chat_bot_wrike/wrike-bot/help_good_for_wrike/360045977633-Manage-Tasks-on-Workload-Charts.csv\n",
      "Saving as : /home/alex/chat_bot_wrike/wrike-bot/help_good_for_wrike/209604449-Reports-Overview.csv {'https://help.wrike.com/hc/en-us/articles/209604449-Reports-Overview#builder', 'https://help.wrike.com/hc/en-us/articles/212729565-Share-a-Report', 'https://help.wrike.com/hc/en-us/articles/210323665-Report-Snapshots', 'https://help.wrike.com/hc/en-us/articles/209604309-Report-Table-Charts', 'https://help.wrike.com/hc/en-us/articles/214612765-Report-Templates', 'https://help.wrike.com/hc/en-us/articles/209603949-Business', 'https://help.wrike.com/hc/en-us/articles/210323645-Report-Column-Charts', 'https://help.wrike.com/hc/en-us/articles/209603049-Custom-Fields', 'https://help.wrike.com/hc/en-us/articles/209603489-Projects'}\n",
      "/home/alex/chat_bot_wrike/wrike-bot/help_good_for_wrike/209604449-Reports-Overview.csv\n",
      "Saving as : /home/alex/chat_bot_wrike/wrike-bot/help_good_for_wrike/360000568453-Calendars.csv set()\n",
      "/home/alex/chat_bot_wrike/wrike-bot/help_good_for_wrike/360000568453-Calendars.csv\n",
      "Saving as : /home/alex/chat_bot_wrike/wrike-bot/help_good_for_wrike/360002559193-Tasks-and-Projects-on-Calendars.csv {'https://help.wrike.com/hc/en-us/articles/360001737133-Calendars'}\n",
      "/home/alex/chat_bot_wrike/wrike-bot/help_good_for_wrike/360002559193-Tasks-and-Projects-on-Calendars.csv\n",
      "Saving as : /home/alex/chat_bot_wrike/wrike-bot/help_good_for_wrike/201893085-Reporting.csv set()\n",
      "/home/alex/chat_bot_wrike/wrike-bot/help_good_for_wrike/201893085-Reporting.csv\n",
      "Saving as : /home/alex/chat_bot_wrike/wrike-bot/help_good_for_wrike/360001737133-Calendars.csv {'https://help.wrike.com/hc/en-us/articles/360002555733-Share-Calendars', 'https://help.wrike.com/hc/en-us/articles/360008652293-Workweek-Settings#changefirst', 'https://help.wrike.com/hc/en-us/articles/360001737133-Calendars#customize', 'https://help.wrike.com/hc/en-us/articles/360001737133-Calendars#createlayer'}\n",
      "/home/alex/chat_bot_wrike/wrike-bot/help_good_for_wrike/360001737133-Calendars.csv\n",
      "Saving as : /home/alex/chat_bot_wrike/wrike-bot/help_good_for_wrike/360046883294-Custom-Capacity-Allocation-in-Workload-Charts.csv {'https://help.wrike.com/hc/en-us/articles/360010835433-Workload-Charts', 'https://help.wrike.com/hc/en-us/articles/360035863834-Wrike-for-Professional-Services', 'https://help.wrike.com/hc/en-us/articles/209603589-Access-Roles', 'https://help.wrike.com/hc/en-us/articles/360024767374-Wrike-Resource-Overview'}\n",
      "/home/alex/chat_bot_wrike/wrike-bot/help_good_for_wrike/360046883294-Custom-Capacity-Allocation-in-Workload-Charts.csv\n",
      "Saving as : /home/alex/chat_bot_wrike/wrike-bot/help_good_for_wrike/360010852973-Task-Effort.csv {'https://help.wrike.com/hc/en-us/articles/209603989-Types-of-Licenses', 'https://help.wrike.com/hc/en-us/articles/360035989794-Job-Roles', 'https://help.wrike.com/hc/en-us/articles/209603689-Milestones', 'https://help.wrike.com/hc/en-us/articles/209603769-Make-a-Task-Recurrent', 'https://help.wrike.com/hc/en-us/articles/360010852973-Task-Effort#types', 'https://help.wrike.com/hc/en-us/articles/360006843194-Work-Schedules-for-Admins'}\n",
      "/home/alex/chat_bot_wrike/wrike-bot/help_good_for_wrike/360010852973-Task-Effort.csv\n",
      "Saving as : /home/alex/chat_bot_wrike/wrike-bot/help_good_for_wrike/209604309-Report-Table-Charts.csv {'https://help.wrike.com/hc/en-us/articles/209604449-Reports-Overview#builder', 'https://help.wrike.com/hc/en-us/articles/209604449-Reports-Overview', 'https://help.wrike.com/hc/en-us/articles/209603949-Business', 'https://help.wrike.com/hc/en-us/articles/209603049-Custom-Fields', 'https://help.wrike.com/hc/en-us/articles/209603489-Projects'}\n",
      "/home/alex/chat_bot_wrike/wrike-bot/help_good_for_wrike/209604309-Report-Table-Charts.csv\n",
      "Saving as : /home/alex/chat_bot_wrike/wrike-bot/help_good_for_wrike/360002555733-Share-Calendars.csv {'https://help.wrike.com/hc/en-us/articles/209603589-Access-Roles#permissions', 'https://help.wrike.com/hc/en-us/articles/209603589-Access-Roles', 'https://help.wrike.com/hc/en-us/articles/360001737133-Calendars', 'https://help.wrike.com/hc/en-us/articles/209603589-Access-Roles#create', 'https://help.wrike.com/hc/en-us/articles/360001737133-Calendars#overview', 'https://help.wrike.com/hc/en-us/articles/210324325-Controlled-Admin-Permissions'}\n",
      "/home/alex/chat_bot_wrike/wrike-bot/help_good_for_wrike/360002555733-Share-Calendars.csv\n",
      "Saving as : /home/alex/chat_bot_wrike/wrike-bot/help_good_for_wrike/360045420254-Backlog-Box.csv {'https://help.wrike.com/hc/en-us/articles/209603989-Types-of-Licenses', 'https://help.wrike.com/hc/en-us/articles/360010835433-Workload-Charts', 'https://help.wrike.com/hc/en-us/articles/209603169-Request-Forms-Submit-a-Form-', 'https://help.wrike.com/hc/en-us/articles/360035863834-Wrike-for-Professional-Services', 'https://help.wrike.com/hc/en-us/articles/360024767374-Wrike-Resource-Overview', 'https://help.wrike.com/hc/en-us/articles/360045420254-Backlog-Box#display'}\n",
      "/home/alex/chat_bot_wrike/wrike-bot/help_good_for_wrike/360045420254-Backlog-Box.csv\n",
      "Saving as : /home/alex/chat_bot_wrike/wrike-bot/help_good_for_wrike/209604489-Stream.csv set()\n",
      "/home/alex/chat_bot_wrike/wrike-bot/help_good_for_wrike/209604489-Stream.csv\n",
      "Saving as : /home/alex/chat_bot_wrike/wrike-bot/help_good_for_wrike/201834329-More-Monitoring-Panel-Views.csv set()\n",
      "/home/alex/chat_bot_wrike/wrike-bot/help_good_for_wrike/201834329-More-Monitoring-Panel-Views.csv\n",
      "Saving as : /home/alex/chat_bot_wrike/wrike-bot/help_good_for_wrike/115004120265-Dashboard-Widgets.csv {'https://help.wrike.com/hc/en-us/articles/209603369-Tags', 'https://help.wrike.com/hc/en-us/articles/209603689-Milestones', 'https://help.wrike.com/hc/en-us/articles/115004120265-Dashboard-Widgets#customize', 'https://help.wrike.com/hc/en-us/articles/209603069-Filters', 'https://help.wrike.com/hc/en-us/articles/115004120265-Dashboard-Widgets#edit', 'https://help.wrike.com/hc/en-us/articles/209604469-Dashboards#shareable', 'https://help.wrike.com/hc/en-us/articles/115004120265-Dashboard-Widgets#resize', 'https://help.wrike.com/hc/en-us/articles/209602909-Search'}\n"
     ]
    },
    {
     "name": "stdout",
     "output_type": "stream",
     "text": [
      "/home/alex/chat_bot_wrike/wrike-bot/help_good_for_wrike/115004120265-Dashboard-Widgets.csv\n",
      "Saving as : /home/alex/chat_bot_wrike/wrike-bot/help_good_for_wrike/210323705-Inbox.csv {'https://help.wrike.com/hc/en-us/articles/210324405-Email-Notifications', 'https://help.wrike.com/hc/en-us/articles/210323705-Inbox'}\n",
      "/home/alex/chat_bot_wrike/wrike-bot/help_good_for_wrike/210323705-Inbox.csv\n",
      "Saving as : /home/alex/chat_bot_wrike/wrike-bot/help_good_for_wrike/212729565-Share-a-Report.csv {'https://help.wrike.com/hc/en-us/articles/209603949-Business'}\n",
      "/home/alex/chat_bot_wrike/wrike-bot/help_good_for_wrike/212729565-Share-a-Report.csv\n",
      "Saving as : /home/alex/chat_bot_wrike/wrike-bot/help_good_for_wrike/214612765-Report-Templates.csv {'https://help.wrike.com/hc/en-us/articles/209603949-Business', 'https://help.wrike.com/hc/en-us/articles/212729565-Share-a-Report', 'https://help.wrike.com/hc/en-us/articles/360024767374-Wrike-Resource-Overview', 'https://help.wrike.com/hc/en-us/articles/209603969-Enterprise'}\n",
      "/home/alex/chat_bot_wrike/wrike-bot/help_good_for_wrike/214612765-Report-Templates.csv\n",
      "Saving as : /home/alex/chat_bot_wrike/wrike-bot/help_good_for_wrike/210323665-Report-Snapshots.csv {'https://help.wrike.com/hc/en-us/articles/209603949-Business'}\n",
      "/home/alex/chat_bot_wrike/wrike-bot/help_good_for_wrike/210323665-Report-Snapshots.csv\n",
      "Saving as : /home/alex/chat_bot_wrike/wrike-bot/help_good_for_wrike/115002985469-Snooze-Inbox-Notifications.csv set()\n",
      "/home/alex/chat_bot_wrike/wrike-bot/help_good_for_wrike/115002985469-Snooze-Inbox-Notifications.csv\n",
      "Saving as : /home/alex/chat_bot_wrike/wrike-bot/help_good_for_wrike/210323645-Report-Column-Charts.csv {'https://help.wrike.com/hc/en-us/articles/209604449-Reports-Overview#builder', 'https://help.wrike.com/hc/en-us/articles/209604449-Reports-Overview', 'https://help.wrike.com/hc/en-us/articles/209603949-Business', 'https://help.wrike.com/hc/en-us/articles/209603049-Custom-Fields', 'https://help.wrike.com/hc/en-us/articles/209603489-Projects'}\n",
      "/home/alex/chat_bot_wrike/wrike-bot/help_good_for_wrike/210323645-Report-Column-Charts.csv\n",
      "Saving as : /home/alex/chat_bot_wrike/wrike-bot/help_good_for_wrike/209604469-Dashboards.csv {'https://help.wrike.com/hc/en-us/articles/115004120265-Dashboard-Widgets#createdashboard', 'https://help.wrike.com/hc/en-us/articles/209603589-Access-Roles#permissions', 'https://help.wrike.com/hc/en-us/articles/209603589-Access-Roles', 'https://help.wrike.com/hc/en-us/articles/209603069-Filters', 'https://help.wrike.com/hc/en-us/articles/209603589-Access-Roles#create', 'https://help.wrike.com/hc/en-us/articles/209603989-Types-of-Licenses#rights'}\n",
      "/home/alex/chat_bot_wrike/wrike-bot/help_good_for_wrike/209604469-Dashboards.csv\n",
      "Saving as : /home/alex/chat_bot_wrike/wrike-bot/help_good_for_wrike/360008733453-Automated-Monitoring.csv set()\n",
      "/home/alex/chat_bot_wrike/wrike-bot/help_good_for_wrike/360008733453-Automated-Monitoring.csv\n",
      "Saving as : /home/alex/chat_bot_wrike/wrike-bot/help_good_for_wrike/360049296653-Project-Risk-Report.csv set()\n",
      "/home/alex/chat_bot_wrike/wrike-bot/help_good_for_wrike/360049296653-Project-Risk-Report.csv\n"
     ]
    },
    {
     "name": "stderr",
     "output_type": "stream",
     "text": [
      "2020-09-13 03:10:19 [scrapy.extensions.logstats] INFO: Crawled 532 pages (at 70 pages/min), scraped 0 items (at 0 items/min)\n",
      "2020-09-13 03:11:22 [scrapy.extensions.logstats] INFO: Crawled 622 pages (at 90 pages/min), scraped 0 items (at 0 items/min)\n"
     ]
    },
    {
     "name": "stdout",
     "output_type": "stream",
     "text": [
      "Saving as : /home/alex/chat_bot_wrike/wrike-bot/help_good_for_wrike/12592462665-Cameron-Korb.csv {'https://help.wrike.com/hc/en-us/categories/200942115-Tasks-Folders-Projects-and-Spaces', 'https://help.wrike.com/hc/en-us/sections/201834259-Advanced', 'https://help.wrike.com/hc/en-us/articles/360010049154-Custom-Field-Management'}\n",
      "/home/alex/chat_bot_wrike/wrike-bot/help_good_for_wrike/12592462665-Cameron-Korb.csv\n",
      "Saving as : /home/alex/chat_bot_wrike/wrike-bot/help_good_for_wrike/115001589365-Desktop.csv set()\n",
      "/home/alex/chat_bot_wrike/wrike-bot/help_good_for_wrike/115001589365-Desktop.csv\n",
      "Saving as : /home/alex/chat_bot_wrike/wrike-bot/help_good_for_wrike/201893115-Mobile.csv set()\n",
      "Saving as : /home/alex/chat_bot_wrike/wrike-bot/help_good_for_wrike/115004231249-Wrike-for-Windows-and-Mac-Desktop-App-.csv {'https://help.wrike.com/hc/en-us/articles/115004231249-Wrike-for-Windows-and-Mac-Desktop-App-#open'}\n",
      "/home/alex/chat_bot_wrike/wrike-bot/help_good_for_wrike/115004231249-Wrike-for-Windows-and-Mac-Desktop-App-.csv\n",
      "Saving as : /home/alex/chat_bot_wrike/wrike-bot/help_good_for_wrike/210324605-Android-App.csv {'https://help.wrike.com/hc/en-us/articles/209604489-Stream', 'https://help.wrike.com/hc/en-us/articles/210323705-Inbox', 'https://help.wrike.com/hc/en-us/articles/210324605-Android-App#offline', 'https://help.wrike.com/hc/en-us/articles/360023006313-Approvals', 'https://help.wrike.com/hc/en-us/articles/360010428113-Project-Progress', 'https://help.wrike.com/hc/en-us/articles/360035989834-Billable-Time', 'https://help.wrike.com/hc/en-us/articles/360035863834-Wrike-for-Professional-Services', 'https://help.wrike.com/hc/en-us/articles/360014673593-Timesheets', 'https://help.wrike.com/hc/en-us/articles/360024767374-Wrike-Resource-Overview', 'https://help.wrike.com/hc/en-us/articles/209603269--mentions', 'https://help.wrike.com/hc/en-us/articles/209605689-Purchase-a-Subscription', 'https://help.wrike.com/hc/en-us/articles/360034765174-Personal-Space#todo'}\n",
      "/home/alex/chat_bot_wrike/wrike-bot/help_good_for_wrike/210324605-Android-App.csv\n",
      "Saving as : /home/alex/chat_bot_wrike/wrike-bot/help_good_for_wrike/209605809-iOS-App.csv {'https://help.wrike.com/hc/en-us/articles/209603269--mentions#others', 'https://help.wrike.com/hc/en-us/articles/209604469-Dashboards', 'https://help.wrike.com/hc/en-us/articles/209604449-Reports-Overview', 'https://help.wrike.com/hc/en-us/articles/360035863834-Wrike-for-Professional-Services', 'https://help.wrike.com/hc/en-us/articles/360014673593-Timesheets', 'https://help.wrike.com/hc/en-us/articles/360024767374-Wrike-Resource-Overview', 'https://help.wrike.com/hc/en-us/articles/360034765174-Personal-Space#todo'}\n",
      "/home/alex/chat_bot_wrike/wrike-bot/help_good_for_wrike/209605809-iOS-App.csv\n"
     ]
    },
    {
     "name": "stderr",
     "output_type": "stream",
     "text": [
      "2020-09-13 03:12:18 [scrapy.extensions.logstats] INFO: Crawled 710 pages (at 88 pages/min), scraped 0 items (at 0 items/min)\n"
     ]
    },
    {
     "name": "stdout",
     "output_type": "stream",
     "text": [
      "Saving as : /home/alex/chat_bot_wrike/wrike-bot/help_good_for_wrike/360049132614-Wrike-Analyze-custom-field-value-sum-and-break-by-not-working.csv {'https://help.wrike.com/hc/en-us/articles/360036508894-Wrike-Analyze#important'}\n",
      "/home/alex/chat_bot_wrike/wrike-bot/help_good_for_wrike/360049132614-Wrike-Analyze-custom-field-value-sum-and-break-by-not-working.csv\n"
     ]
    },
    {
     "name": "stderr",
     "output_type": "stream",
     "text": [
      "2020-09-13 03:13:24 [scrapy.extensions.logstats] INFO: Crawled 829 pages (at 119 pages/min), scraped 0 items (at 0 items/min)\n",
      "2020-09-13 03:14:21 [scrapy.extensions.logstats] INFO: Crawled 935 pages (at 106 pages/min), scraped 0 items (at 0 items/min)\n"
     ]
    },
    {
     "name": "stdout",
     "output_type": "stream",
     "text": [
      "Saving as : /home/alex/chat_bot_wrike/wrike-bot/help_good_for_wrike/search?query=Diagramas+de+Gantt&utf8=%E2%9C%93.csv {'https://help.wrike.com/hc/en-us/categories/200942125-Work-Views', 'https://help.wrike.com/hc/en-us/sections/201893075-Gantt-Chart'}\n",
      "/home/alex/chat_bot_wrike/wrike-bot/help_good_for_wrike/search?query=Diagramas+de+Gantt&utf8=%E2%9C%93.csv\n"
     ]
    },
    {
     "name": "stderr",
     "output_type": "stream",
     "text": [
      "2020-09-13 03:15:18 [scrapy.extensions.logstats] INFO: Crawled 1496 pages (at 561 pages/min), scraped 0 items (at 0 items/min)\n",
      "2020-09-13 03:16:18 [scrapy.extensions.logstats] INFO: Crawled 2456 pages (at 960 pages/min), scraped 0 items (at 0 items/min)\n"
     ]
    },
    {
     "name": "stdout",
     "output_type": "stream",
     "text": [
      "Saving as : /home/alex/chat_bot_wrike/wrike-bot/help_good_for_wrike/search?page=1&query=Sharing+folders&utf8=%E2%9C%93.csv {'https://help.wrike.com/hc/en-us/sections/201834249-Folders-and-Projects', 'https://help.wrike.com/hc/en-us/categories/200942115-Tasks-Folders-Projects-and-Spaces'}\n",
      "/home/alex/chat_bot_wrike/wrike-bot/help_good_for_wrike/search?page=1&query=Sharing+folders&utf8=%E2%9C%93.csv\n",
      "Saving as : /home/alex/chat_bot_wrike/wrike-bot/help_good_for_wrike/search?page=7&query=Sharing+folders&utf8=%E2%9C%93.csv {'https://help.wrike.com/hc/en-us/sections/201834249-Folders-and-Projects', 'https://help.wrike.com/hc/en-us/categories/200942115-Tasks-Folders-Projects-and-Spaces'}\n",
      "/home/alex/chat_bot_wrike/wrike-bot/help_good_for_wrike/search?page=7&query=Sharing+folders&utf8=%E2%9C%93.csv\n",
      "Saving as : /home/alex/chat_bot_wrike/wrike-bot/help_good_for_wrike/search?page=8&query=Sharing+folders&utf8=%E2%9C%93.csv {'https://help.wrike.com/hc/en-us/sections/201825379-General-Account-Management', 'https://help.wrike.com/hc/en-us/sections/201834249-Folders-and-Projects', 'https://help.wrike.com/hc/en-us/categories/200913179-Account-Management', 'https://help.wrike.com/hc/en-us/categories/200942115-Tasks-Folders-Projects-and-Spaces'}\n",
      "/home/alex/chat_bot_wrike/wrike-bot/help_good_for_wrike/search?page=8&query=Sharing+folders&utf8=%E2%9C%93.csv\n",
      "Saving as : /home/alex/chat_bot_wrike/wrike-bot/help_good_for_wrike/search?page=9&query=Sharing+folders&utf8=%E2%9C%93.csv {'https://help.wrike.com/hc/en-us/sections/201893035-Tasks', 'https://help.wrike.com/hc/en-us/sections/360003697334-Spaces', 'https://help.wrike.com/hc/en-us/sections/201834249-Folders-and-Projects', 'https://help.wrike.com/hc/en-us/categories/200942155-Types-of-Accounts-and-Licenses', 'https://help.wrike.com/hc/en-us/sections/201893095-Accounts', 'https://help.wrike.com/hc/en-us/categories/200942115-Tasks-Folders-Projects-and-Spaces'}\n",
      "/home/alex/chat_bot_wrike/wrike-bot/help_good_for_wrike/search?page=9&query=Sharing+folders&utf8=%E2%9C%93.csv\n",
      "Saving as : /home/alex/chat_bot_wrike/wrike-bot/help_good_for_wrike/search?page=99&query=Sharing+folders&utf8=%E2%9C%93.csv {'https://help.wrike.com/hc/en-us/sections/201825379-General-Account-Management', 'https://help.wrike.com/hc/en-us/categories/200913179-Account-Management'}\n",
      "/home/alex/chat_bot_wrike/wrike-bot/help_good_for_wrike/search?page=99&query=Sharing+folders&utf8=%E2%9C%93.csv\n",
      "Saving as : /home/alex/chat_bot_wrike/wrike-bot/help_good_for_wrike/search?page=98&query=Sharing+folders&utf8=%E2%9C%93.csv {'https://help.wrike.com/hc/en-us/sections/202366329-Proofing-and-Approvals', 'https://help.wrike.com/hc/en-us/categories/200942115-Tasks-Folders-Projects-and-Spaces'}\n",
      "/home/alex/chat_bot_wrike/wrike-bot/help_good_for_wrike/search?page=98&query=Sharing+folders&utf8=%E2%9C%93.csv\n"
     ]
    },
    {
     "name": "stderr",
     "output_type": "stream",
     "text": [
      "2020-09-13 03:17:22 [scrapy.extensions.logstats] INFO: Crawled 2998 pages (at 542 pages/min), scraped 0 items (at 0 items/min)\n"
     ]
    },
    {
     "name": "stdout",
     "output_type": "stream",
     "text": [
      "Saving as : /home/alex/chat_bot_wrike/wrike-bot/help_good_for_wrike/search?page=11&query=Sharing+folders&utf8=%E2%9C%93.csv {'https://help.wrike.com/hc/en-us/sections/201834249-Folders-and-Projects', 'https://help.wrike.com/hc/en-us/sections/360000935413-Troubleshooting', 'https://help.wrike.com/hc/en-us/categories/200913179-Account-Management', 'https://help.wrike.com/hc/en-us/categories/200942115-Tasks-Folders-Projects-and-Spaces'}\n",
      "/home/alex/chat_bot_wrike/wrike-bot/help_good_for_wrike/search?page=11&query=Sharing+folders&utf8=%E2%9C%93.csv\n",
      "Saving as : /home/alex/chat_bot_wrike/wrike-bot/help_good_for_wrike/search?category=200942115&filter_by=knowledge_base&query=Gantt+chart&utf8=%E2%9C%93.csv {'https://help.wrike.com/hc/en-us/sections/201893035-Tasks', 'https://help.wrike.com/hc/en-us/sections/202366329-Proofing-and-Approvals', 'https://help.wrike.com/hc/en-us/sections/201834259-Advanced', 'https://help.wrike.com/hc/en-us/sections/201834249-Folders-and-Projects', 'https://help.wrike.com/hc/en-us/sections/201893045-Organization', 'https://help.wrike.com/hc/en-us/categories/200942115-Tasks-Folders-Projects-and-Spaces'}\n",
      "/home/alex/chat_bot_wrike/wrike-bot/help_good_for_wrike/search?category=200942115&filter_by=knowledge_base&query=Gantt+chart&utf8=%E2%9C%93.csv\n",
      "Saving as : /home/alex/chat_bot_wrike/wrike-bot/help_good_for_wrike/search?category=200942135&filter_by=knowledge_base&query=Gantt+chart&utf8=%E2%9C%93.csv {'https://help.wrike.com/hc/en-us/categories/200942135-Monitoring-Panel', 'https://help.wrike.com/hc/en-us/sections/201893085-Reporting', 'https://help.wrike.com/hc/en-us/sections/360004618833-Wrike-Resource'}\n",
      "/home/alex/chat_bot_wrike/wrike-bot/help_good_for_wrike/search?category=200942135&filter_by=knowledge_base&query=Gantt+chart&utf8=%E2%9C%93.csv\n",
      "Saving as : /home/alex/chat_bot_wrike/wrike-bot/help_good_for_wrike/search?category=200942125&filter_by=knowledge_base&query=Gantt+chart&utf8=%E2%9C%93.csv {'https://help.wrike.com/hc/en-us/categories/200942125-Work-Views', 'https://help.wrike.com/hc/en-us/sections/201893075-Gantt-Chart'}\n",
      "/home/alex/chat_bot_wrike/wrike-bot/help_good_for_wrike/search?category=200942125&filter_by=knowledge_base&query=Gantt+chart&utf8=%E2%9C%93.csv\n",
      "Saving as : /home/alex/chat_bot_wrike/wrike-bot/help_good_for_wrike/search?category=200913179&filter_by=knowledge_base&query=Gantt+chart&utf8=%E2%9C%93.csv {'https://help.wrike.com/hc/en-us/sections/201825379-General-Account-Management', 'https://help.wrike.com/hc/en-us/sections/360000935413-Troubleshooting', 'https://help.wrike.com/hc/en-us/categories/200913179-Account-Management', 'https://help.wrike.com/hc/en-us/sections/201887445-Billing'}\n",
      "/home/alex/chat_bot_wrike/wrike-bot/help_good_for_wrike/search?category=200913179&filter_by=knowledge_base&query=Gantt+chart&utf8=%E2%9C%93.csv\n",
      "Saving as : /home/alex/chat_bot_wrike/wrike-bot/help_good_for_wrike/search?category=201188645&filter_by=knowledge_base&query=Gantt+chart&utf8=%E2%9C%93.csv {'https://help.wrike.com/hc/en-us/categories/201188645-Getting-Started'}\n"
     ]
    },
    {
     "name": "stderr",
     "output_type": "stream",
     "text": [
      "2020-09-13 03:18:31 [scrapy.extensions.logstats] INFO: Crawled 3178 pages (at 180 pages/min), scraped 0 items (at 0 items/min)\n"
     ]
    },
    {
     "name": "stdout",
     "output_type": "stream",
     "text": [
      "/home/alex/chat_bot_wrike/wrike-bot/help_good_for_wrike/search?category=201188645&filter_by=knowledge_base&query=Gantt+chart&utf8=%E2%9C%93.csv\n",
      "Saving as : /home/alex/chat_bot_wrike/wrike-bot/help_good_for_wrike/search?category=200942165&filter_by=knowledge_base&query=Gantt+chart&utf8=%E2%9C%93.csv {'https://help.wrike.com/hc/en-us/sections/201893115-Mobile', 'https://help.wrike.com/hc/en-us/categories/200942165-Apps'}\n",
      "/home/alex/chat_bot_wrike/wrike-bot/help_good_for_wrike/search?category=200942165&filter_by=knowledge_base&query=Gantt+chart&utf8=%E2%9C%93.csv\n",
      "Saving as : /home/alex/chat_bot_wrike/wrike-bot/help_good_for_wrike/search?category=200939185&filter_by=knowledge_base&query=Gantt+chart&utf8=%E2%9C%93.csv {'https://help.wrike.com/hc/en-us/categories/200939185-Integrations', 'https://help.wrike.com/hc/en-us/sections/202423365-Everything-Else', 'https://help.wrike.com/hc/en-us/sections/360001968634-Import-and-Export'}\n",
      "/home/alex/chat_bot_wrike/wrike-bot/help_good_for_wrike/search?category=200939185&filter_by=knowledge_base&query=Gantt+chart&utf8=%E2%9C%93.csv\n",
      "Saving as : /home/alex/chat_bot_wrike/wrike-bot/help_good_for_wrike/search?category=200942155&filter_by=knowledge_base&query=Gantt+chart&utf8=%E2%9C%93.csv {'https://help.wrike.com/hc/en-us/sections/201834339-Licenses', 'https://help.wrike.com/hc/en-us/categories/200942155-Types-of-Accounts-and-Licenses', 'https://help.wrike.com/hc/en-us/sections/201893095-Accounts'}\n",
      "/home/alex/chat_bot_wrike/wrike-bot/help_good_for_wrike/search?category=200942155&filter_by=knowledge_base&query=Gantt+chart&utf8=%E2%9C%93.csv\n",
      "Saving as : /home/alex/chat_bot_wrike/wrike-bot/help_good_for_wrike/search?filter_by=knowledge_base&page=2&query=Gantt+chart&utf8=%E2%9C%93.csv {'https://help.wrike.com/hc/en-us/sections/201834259-Advanced', 'https://help.wrike.com/hc/en-us/sections/202423365-Everything-Else', 'https://help.wrike.com/hc/en-us/sections/201834339-Licenses', 'https://help.wrike.com/hc/en-us/sections/201834249-Folders-and-Projects', 'https://help.wrike.com/hc/en-us/categories/200942125-Work-Views', 'https://help.wrike.com/hc/en-us/categories/200942155-Types-of-Accounts-and-Licenses', 'https://help.wrike.com/hc/en-us/sections/201893095-Accounts', 'https://help.wrike.com/hc/en-us/categories/201188645-Getting-Started', 'https://help.wrike.com/hc/en-us/categories/200942115-Tasks-Folders-Projects-and-Spaces', 'https://help.wrike.com/hc/en-us/sections/201893045-Organization', 'https://help.wrike.com/hc/en-us/sections/201893075-Gantt-Chart', 'https://help.wrike.com/hc/en-us/categories/200939185-Integrations'}\n",
      "/home/alex/chat_bot_wrike/wrike-bot/help_good_for_wrike/search?filter_by=knowledge_base&page=2&query=Gantt+chart&utf8=%E2%9C%93.csv\n",
      "Saving as : /home/alex/chat_bot_wrike/wrike-bot/help_good_for_wrike/search?filter_by=knowledge_base&page=5&query=Gantt+chart&utf8=%E2%9C%93.csv {'https://help.wrike.com/hc/en-us/sections/201893035-Tasks', 'https://help.wrike.com/hc/en-us/sections/202366329-Proofing-and-Approvals', 'https://help.wrike.com/hc/en-us/categories/200942135-Monitoring-Panel', 'https://help.wrike.com/hc/en-us/sections/201834259-Advanced', 'https://help.wrike.com/hc/en-us/sections/201834319-All-the-Other-Views', 'https://help.wrike.com/hc/en-us/categories/200942115-Tasks-Folders-Projects-and-Spaces', 'https://help.wrike.com/hc/en-us/sections/201893115-Mobile', 'https://help.wrike.com/hc/en-us/sections/201825379-General-Account-Management', 'https://help.wrike.com/hc/en-us/sections/360004618833-Wrike-Resource', 'https://help.wrike.com/hc/en-us/sections/360001968634-Import-and-Export', 'https://help.wrike.com/hc/en-us/categories/200942125-Work-Views', 'https://help.wrike.com/hc/en-us/categories/200942165-Apps', 'https://help.wrike.com/hc/en-us/categories/200939185-Integrations', 'https://help.wrike.com/hc/en-us/categories/200913179-Account-Management'}\n",
      "/home/alex/chat_bot_wrike/wrike-bot/help_good_for_wrike/search?filter_by=knowledge_base&page=5&query=Gantt+chart&utf8=%E2%9C%93.csv\n",
      "Saving as : /home/alex/chat_bot_wrike/wrike-bot/help_good_for_wrike/search?filter_by=knowledge_base&page=7&query=Gantt+chart&utf8=%E2%9C%93.csv {'https://help.wrike.com/hc/en-us/categories/200942135-Monitoring-Panel', 'https://help.wrike.com/hc/en-us/sections/201834259-Advanced', 'https://help.wrike.com/hc/en-us/sections/201825379-General-Account-Management', 'https://help.wrike.com/hc/en-us/sections/201834249-Folders-and-Projects', 'https://help.wrike.com/hc/en-us/categories/200913179-Account-Management', 'https://help.wrike.com/hc/en-us/categories/201188645-Getting-Started', 'https://help.wrike.com/hc/en-us/categories/200942115-Tasks-Folders-Projects-and-Spaces', 'https://help.wrike.com/hc/en-us/sections/201834329-More-Monitoring-Panel-Views', 'https://help.wrike.com/hc/en-us/sections/201893055-Communication'}\n",
      "/home/alex/chat_bot_wrike/wrike-bot/help_good_for_wrike/search?filter_by=knowledge_base&page=7&query=Gantt+chart&utf8=%E2%9C%93.csv\n",
      "Saving as : /home/alex/chat_bot_wrike/wrike-bot/help_good_for_wrike/search?filter_by=knowledge_base&page=6&query=Gantt+chart&utf8=%E2%9C%93.csv {'https://help.wrike.com/hc/en-us/categories/200942135-Monitoring-Panel', 'https://help.wrike.com/hc/en-us/sections/202423365-Everything-Else', 'https://help.wrike.com/hc/en-us/sections/201893085-Reporting', 'https://help.wrike.com/hc/en-us/sections/201825379-General-Account-Management', 'https://help.wrike.com/hc/en-us/sections/360004618833-Wrike-Resource', 'https://help.wrike.com/hc/en-us/sections/360000935413-Troubleshooting', 'https://help.wrike.com/hc/en-us/categories/200942155-Types-of-Accounts-and-Licenses', 'https://help.wrike.com/hc/en-us/sections/201893095-Accounts', 'https://help.wrike.com/hc/en-us/sections/360005750733-Wrike-Analyze', 'https://help.wrike.com/hc/en-us/categories/200939185-Integrations', 'https://help.wrike.com/hc/en-us/categories/200913179-Account-Management'}\n",
      "/home/alex/chat_bot_wrike/wrike-bot/help_good_for_wrike/search?filter_by=knowledge_base&page=6&query=Gantt+chart&utf8=%E2%9C%93.csv\n",
      "Saving as : /home/alex/chat_bot_wrike/wrike-bot/help_good_for_wrike/search?filter_by=knowledge_base&page=3&query=Gantt+chart&utf8=%E2%9C%93.csv {'https://help.wrike.com/hc/en-us/sections/201893035-Tasks', 'https://help.wrike.com/hc/en-us/sections/202366329-Proofing-and-Approvals', 'https://help.wrike.com/hc/en-us/categories/200942135-Monitoring-Panel', 'https://help.wrike.com/hc/en-us/sections/201834259-Advanced', 'https://help.wrike.com/hc/en-us/sections/360004618833-Wrike-Resource', 'https://help.wrike.com/hc/en-us/sections/360001968634-Import-and-Export', 'https://help.wrike.com/hc/en-us/sections/201887445-Billing', 'https://help.wrike.com/hc/en-us/categories/200942155-Types-of-Accounts-and-Licenses', 'https://help.wrike.com/hc/en-us/sections/201893095-Accounts', 'https://help.wrike.com/hc/en-us/categories/201188645-Getting-Started', 'https://help.wrike.com/hc/en-us/categories/200942115-Tasks-Folders-Projects-and-Spaces', 'https://help.wrike.com/hc/en-us/categories/200939185-Integrations', 'https://help.wrike.com/hc/en-us/categories/200913179-Account-Management'}\n",
      "/home/alex/chat_bot_wrike/wrike-bot/help_good_for_wrike/search?filter_by=knowledge_base&page=3&query=Gantt+chart&utf8=%E2%9C%93.csv\n",
      "Saving as : /home/alex/chat_bot_wrike/wrike-bot/help_good_for_wrike/search?filter_by=knowledge_base&page=4&query=Gantt+chart&utf8=%E2%9C%93.csv {'https://help.wrike.com/hc/en-us/sections/201893085-Reporting', 'https://help.wrike.com/hc/en-us/categories/200942135-Monitoring-Panel', 'https://help.wrike.com/hc/en-us/sections/201834339-Licenses', 'https://help.wrike.com/hc/en-us/sections/201825379-General-Account-Management', 'https://help.wrike.com/hc/en-us/sections/360004618833-Wrike-Resource', 'https://help.wrike.com/hc/en-us/sections/201834249-Folders-and-Projects', 'https://help.wrike.com/hc/en-us/categories/200942155-Types-of-Accounts-and-Licenses', 'https://help.wrike.com/hc/en-us/sections/201893095-Accounts', 'https://help.wrike.com/hc/en-us/categories/201188645-Getting-Started', 'https://help.wrike.com/hc/en-us/categories/200942115-Tasks-Folders-Projects-and-Spaces', 'https://help.wrike.com/hc/en-us/categories/200913179-Account-Management'}\n"
     ]
    },
    {
     "name": "stdout",
     "output_type": "stream",
     "text": [
      "/home/alex/chat_bot_wrike/wrike-bot/help_good_for_wrike/search?filter_by=knowledge_base&page=4&query=Gantt+chart&utf8=%E2%9C%93.csv\n",
      "Saving as : /home/alex/chat_bot_wrike/wrike-bot/help_good_for_wrike/360009420853-Roll-Up-Dates-on-the-Gantt-Chart-.csv set()\n",
      "/home/alex/chat_bot_wrike/wrike-bot/help_good_for_wrike/360009420853-Roll-Up-Dates-on-the-Gantt-Chart-.csv\n",
      "Saving as : /home/alex/chat_bot_wrike/wrike-bot/help_good_for_wrike/209604249-Date-Constraints-on-the-Gantt-Chart.csv set()\n",
      "/home/alex/chat_bot_wrike/wrike-bot/help_good_for_wrike/209604249-Date-Constraints-on-the-Gantt-Chart.csv\n",
      "Saving as : /home/alex/chat_bot_wrike/wrike-bot/help_good_for_wrike/209604189-Critical-Path.csv {'https://help.wrike.com/hc/en-us/articles/209603989-Types-of-Licenses'}\n",
      "/home/alex/chat_bot_wrike/wrike-bot/help_good_for_wrike/209604189-Critical-Path.csv\n"
     ]
    },
    {
     "name": "stderr",
     "output_type": "stream",
     "text": [
      "2020-09-13 03:19:20 [scrapy.extensions.logstats] INFO: Crawled 3220 pages (at 42 pages/min), scraped 0 items (at 0 items/min)\n"
     ]
    },
    {
     "name": "stdout",
     "output_type": "stream",
     "text": [
      "Saving as : /home/alex/chat_bot_wrike/wrike-bot/help_good_for_wrike/search?page=1&query=Gantt+chart&utf8=%E2%9C%93.csv {'https://help.wrike.com/hc/en-us/categories/200942125-Work-Views', 'https://help.wrike.com/hc/en-us/sections/201893075-Gantt-Chart'}\n"
     ]
    },
    {
     "name": "stderr",
     "output_type": "stream",
     "text": [
      "2020-09-13 03:20:31 [scrapy.extensions.logstats] INFO: Crawled 3264 pages (at 44 pages/min), scraped 0 items (at 0 items/min)\n"
     ]
    },
    {
     "name": "stdout",
     "output_type": "stream",
     "text": [
      "/home/alex/chat_bot_wrike/wrike-bot/help_good_for_wrike/search?page=1&query=Gantt+chart&utf8=%E2%9C%93.csv\n"
     ]
    },
    {
     "name": "stderr",
     "output_type": "stream",
     "text": [
      "2020-09-13 03:21:21 [scrapy.extensions.logstats] INFO: Crawled 3307 pages (at 43 pages/min), scraped 0 items (at 0 items/min)\n",
      "2020-09-13 03:22:27 [scrapy.extensions.logstats] INFO: Crawled 3316 pages (at 9 pages/min), scraped 0 items (at 0 items/min)\n"
     ]
    },
    {
     "name": "stdout",
     "output_type": "stream",
     "text": [
      "Saving as : /home/alex/chat_bot_wrike/wrike-bot/help_good_for_wrike/search?page=10&query=Gantt+chart&utf8=%E2%9C%93.csv {'https://help.wrike.com/hc/en-us/sections/201893035-Tasks', 'https://help.wrike.com/hc/en-us/categories/200942155-Types-of-Accounts-and-Licenses', 'https://help.wrike.com/hc/en-us/sections/201893095-Accounts', 'https://help.wrike.com/hc/en-us/categories/201188645-Getting-Started', 'https://help.wrike.com/hc/en-us/categories/200942115-Tasks-Folders-Projects-and-Spaces'}\n"
     ]
    },
    {
     "name": "stderr",
     "output_type": "stream",
     "text": [
      "2020-09-13 03:23:19 [scrapy.extensions.logstats] INFO: Crawled 3327 pages (at 11 pages/min), scraped 0 items (at 0 items/min)\n"
     ]
    },
    {
     "name": "stdout",
     "output_type": "stream",
     "text": [
      "/home/alex/chat_bot_wrike/wrike-bot/help_good_for_wrike/search?page=10&query=Gantt+chart&utf8=%E2%9C%93.csv\n",
      "Saving as : /home/alex/chat_bot_wrike/wrike-bot/help_good_for_wrike/search?query=Diagramme+de+Gantt&utf8=%E2%9C%93.csv {'https://help.wrike.com/hc/en-us/categories/200942125-Work-Views', 'https://help.wrike.com/hc/en-us/sections/201893075-Gantt-Chart'}\n",
      "/home/alex/chat_bot_wrike/wrike-bot/help_good_for_wrike/search?query=Diagramme+de+Gantt&utf8=%E2%9C%93.csv\n"
     ]
    },
    {
     "name": "stderr",
     "output_type": "stream",
     "text": [
      "2020-09-13 03:24:21 [scrapy.extensions.logstats] INFO: Crawled 3364 pages (at 37 pages/min), scraped 0 items (at 0 items/min)\n",
      "2020-09-13 03:25:18 [scrapy.extensions.logstats] INFO: Crawled 3846 pages (at 482 pages/min), scraped 0 items (at 0 items/min)\n",
      "2020-09-13 03:26:18 [scrapy.extensions.logstats] INFO: Crawled 4698 pages (at 852 pages/min), scraped 0 items (at 0 items/min)\n"
     ]
    },
    {
     "name": "stdout",
     "output_type": "stream",
     "text": [
      "Saving as : /home/alex/chat_bot_wrike/wrike-bot/help_good_for_wrike/search?query=Compartilhar+pastas&utf8=%E2%9C%93.csv {'https://help.wrike.com/hc/en-us/sections/201834349-More-Security-Features', 'https://help.wrike.com/hc/en-us/sections/201828169-Personal-User-License', 'https://help.wrike.com/hc/en-us/categories/200913179-Account-Management', 'https://help.wrike.com/hc/en-us/categories/200942175-Security'}\n",
      "/home/alex/chat_bot_wrike/wrike-bot/help_good_for_wrike/search?query=Compartilhar+pastas&utf8=%E2%9C%93.csv\n",
      "Saving as : /home/alex/chat_bot_wrike/wrike-bot/help_good_for_wrike/115004231249-Wrike-Desktop-App.csv {'https://help.wrike.com/hc/en-us/articles/115004231249-Wrike-for-Windows-and-Mac-Desktop-App-#open'}\n",
      "/home/alex/chat_bot_wrike/wrike-bot/help_good_for_wrike/115004231249-Wrike-Desktop-App.csv\n",
      "Saving as : /home/alex/chat_bot_wrike/wrike-bot/help_good_for_wrike/209603149-Templates.csv {'https://help.wrike.com/hc/en-us/articles/209605149-Import-MS-Project-Files', 'https://help.wrike.com/hc/en-us/articles/210323005-Duplicate-a-Folder-or-Project', 'https://help.wrike.com/hc/en-us/articles/209603609-Create-Color-Code-and-Edit-Folders-and-Projects', 'https://help.wrike.com/hc/en-us/articles/210322925-Move-Tasks-Folders-and-Projects', 'https://help.wrike.com/hc/en-us/articles/209603889-Mass-Editing'}\n",
      "/home/alex/chat_bot_wrike/wrike-bot/help_good_for_wrike/209603149-Templates.csv\n"
     ]
    },
    {
     "name": "stderr",
     "output_type": "stream",
     "text": [
      "2020-09-13 03:27:20 [scrapy.extensions.logstats] INFO: Crawled 5984 pages (at 1286 pages/min), scraped 0 items (at 0 items/min)\n"
     ]
    },
    {
     "name": "stdout",
     "output_type": "stream",
     "text": [
      "Saving as : /home/alex/chat_bot_wrike/wrike-bot/help_good_for_wrike/1301931041-Stephanie-Westbrook?filter_by=articles&sort_by=recent_user_activity.csv {'https://help.wrike.com/hc/en-us/sections/201893035-Tasks', 'https://help.wrike.com/hc/en-us/categories/200942115-Tasks-Folders-Projects-and-Spaces', 'https://help.wrike.com/hc/en-us/sections/201834259-Advanced', 'https://help.wrike.com/hc/en-us/categories/200942175-Security', 'https://help.wrike.com/hc/en-us/sections/201825379-General-Account-Management', 'https://help.wrike.com/hc/en-us/sections/115001589365-Desktop', 'https://help.wrike.com/hc/en-us/sections/201893115-Mobile', 'https://help.wrike.com/hc/en-us/sections/201834349-More-Security-Features', 'https://help.wrike.com/hc/en-us/categories/200942155-Types-of-Accounts-and-Licenses', 'https://help.wrike.com/hc/en-us/sections/201893095-Accounts', 'https://help.wrike.com/hc/en-us/categories/201188645-Getting-Started', 'https://help.wrike.com/hc/en-us/categories/200942165-Apps', 'https://help.wrike.com/hc/en-us/categories/200913179-Account-Management'}\n",
      "/home/alex/chat_bot_wrike/wrike-bot/help_good_for_wrike/1301931041-Stephanie-Westbrook?filter_by=articles&sort_by=recent_user_activity.csv\n",
      "Saving as : /home/alex/chat_bot_wrike/wrike-bot/help_good_for_wrike/209603769-Make-a-Task-Recurrent.csv {'https://help.wrike.com/hc/en-us/articles/209603989-Types-of-Licenses'}\n",
      "/home/alex/chat_bot_wrike/wrike-bot/help_good_for_wrike/209603769-Make-a-Task-Recurrent.csv\n",
      "Saving as : /home/alex/chat_bot_wrike/wrike-bot/help_good_for_wrike/360023288413-Manage-Request-Forms-for-Admins-.csv {'https://help.wrike.com/hc/en-us/articles/115004740045-Create-a-Request-Form-for-Admins-', 'https://help.wrike.com/hc/en-us/articles/209603169-Request-Forms-Submit-a-Form-', 'https://help.wrike.com/hc/en-us/articles/115004740045-Create-a-Request-Form-for-Admins-#create', 'https://help.wrike.com/hc/en-us/articles/115003404345-Dynamic-Request-Forms'}\n",
      "/home/alex/chat_bot_wrike/wrike-bot/help_good_for_wrike/360023288413-Manage-Request-Forms-for-Admins-.csv\n",
      "Saving as : /home/alex/chat_bot_wrike/wrike-bot/help_good_for_wrike/209602909-Search.csv {'https://help.wrike.com/hc/en-us/articles/360035989794-Job-Roles', 'https://help.wrike.com/hc/en-us/articles/360020311174-Spaces-Overview#types', 'https://help.wrike.com/hc/en-us/articles/360024767374-Wrike-Resource-Overview', 'https://help.wrike.com/hc/en-us/articles/209603329-Job-Numbers'}\n"
     ]
    },
    {
     "name": "stderr",
     "output_type": "stream",
     "text": [
      "2020-09-13 03:28:19 [scrapy.extensions.logstats] INFO: Crawled 6117 pages (at 133 pages/min), scraped 0 items (at 0 items/min)\n"
     ]
    },
    {
     "name": "stdout",
     "output_type": "stream",
     "text": [
      "/home/alex/chat_bot_wrike/wrike-bot/help_good_for_wrike/209602909-Search.csv\n",
      "Saving as : /home/alex/chat_bot_wrike/wrike-bot/help_good_for_wrike/360046883294.csv {'https://help.wrike.com/hc/en-us/articles/360010835433-Workload-Charts', 'https://help.wrike.com/hc/en-us/articles/360035863834-Wrike-for-Professional-Services', 'https://help.wrike.com/hc/en-us/articles/209603589-Access-Roles', 'https://help.wrike.com/hc/en-us/articles/360024767374-Wrike-Resource-Overview'}\n",
      "/home/alex/chat_bot_wrike/wrike-bot/help_good_for_wrike/360046883294.csv\n",
      "Saving as : /home/alex/chat_bot_wrike/wrike-bot/help_good_for_wrike/210324505-SSO-with-Okta.csv {'https://help.wrike.com/hc/en-us/articles/210324565-SSO-with-SAML-User-Guide'}\n",
      "/home/alex/chat_bot_wrike/wrike-bot/help_good_for_wrike/210324505-SSO-with-Okta.csv\n",
      "Saving as : /home/alex/chat_bot_wrike/wrike-bot/help_good_for_wrike/210324445-2-Step-Verification.csv {'https://help.wrike.com/hc/en-us/articles/210324465-One-Time-Passwords', 'https://help.wrike.com/hc/en-us/articles/209605449-Admin-Permissions'}\n",
      "/home/alex/chat_bot_wrike/wrike-bot/help_good_for_wrike/210324445-2-Step-Verification.csv\n",
      "Saving as : /home/alex/chat_bot_wrike/wrike-bot/help_good_for_wrike/210324325-Controlled-Admin-Permissions.csv {'https://help.wrike.com/hc/en-us/articles/360035989794-Job-Roles', 'https://help.wrike.com/hc/en-us/articles/210324325-Controlled-Admin-Permissions#control', 'https://help.wrike.com/hc/en-us/articles/360035863834-Wrike-for-Professional-Services', 'https://help.wrike.com/hc/en-us/articles/360006843194-Work-Schedules-for-Admins', 'https://help.wrike.com/hc/en-us/articles/360024767374-Wrike-Resource-Overview', 'https://help.wrike.com/hc/en-us/articles/209603969-Enterprise'}\n",
      "/home/alex/chat_bot_wrike/wrike-bot/help_good_for_wrike/210324325-Controlled-Admin-Permissions.csv\n",
      "Saving as : /home/alex/chat_bot_wrike/wrike-bot/help_good_for_wrike/209605449-Admin-Permissions.csv {'https://help.wrike.com/hc/en-us/articles/209603989-Types-of-Licenses', 'https://help.wrike.com/hc/en-us/articles/360035989794-Job-Roles', 'https://help.wrike.com/hc/en-us/articles/210324485-Advanced-Security-Settings', 'https://help.wrike.com/hc/en-us/articles/360035863834-Wrike-for-Professional-Services', 'https://help.wrike.com/hc/en-us/articles/210324325-Controlled-Admin-Permissions', 'https://help.wrike.com/hc/en-us/articles/360024767374-Wrike-Resource-Overview', 'https://help.wrike.com/hc/en-us/articles/360039201553-Account-Owner-Change'}\n",
      "/home/alex/chat_bot_wrike/wrike-bot/help_good_for_wrike/209605449-Admin-Permissions.csv\n",
      "Saving as : /home/alex/chat_bot_wrike/wrike-bot/help_good_for_wrike/209603849-Sharing-Tasks.csv {'https://help.wrike.com/hc/en-us/articles/209603009-My-Team-Group', 'https://help.wrike.com/hc/en-us/articles/209602969-Sharing', 'https://help.wrike.com/hc/en-us/articles/360008063354-Share-Tasks-Folders-and-Projects-Free-and-Professional-'}\n",
      "/home/alex/chat_bot_wrike/wrike-bot/help_good_for_wrike/209603849-Sharing-Tasks.csv\n",
      "Saving as : /home/alex/chat_bot_wrike/wrike-bot/help_good_for_wrike/209603669-Share-Folders-and-Projects.csv {'https://help.wrike.com/hc/en-us/articles/209603009-My-Team-Group', 'https://help.wrike.com/hc/en-us/articles/209602929-Following', 'https://help.wrike.com/hc/en-us/articles/209603989-Types-of-Licenses', 'https://help.wrike.com/hc/en-us/articles/360008063354-Share-Tasks-Folders-and-Projects-Free-and-Professional-'}\n",
      "/home/alex/chat_bot_wrike/wrike-bot/help_good_for_wrike/209603669-Share-Folders-and-Projects.csv\n",
      "Saving as : /home/alex/chat_bot_wrike/wrike-bot/help_good_for_wrike/210324345-Invite-Team-Members.csv {'https://help.wrike.com/hc/en-us/articles/209605449-Admin-Permissions', 'https://help.wrike.com/hc/en-us/articles/210324485-Advanced-Security-Settings#invitation', 'https://help.wrike.com/hc/en-us/articles/209602969-Sharing'}\n",
      "/home/alex/chat_bot_wrike/wrike-bot/help_good_for_wrike/210324345-Invite-Team-Members.csv\n",
      "Saving as : /home/alex/chat_bot_wrike/wrike-bot/help_good_for_wrike/209605369-Remove-a-User.csv {'https://help.wrike.com/hc/en-us/articles/209603889-Mass-Editing', 'https://help.wrike.com/hc/en-us/articles/210323385-Free', 'https://help.wrike.com/hc/en-us/articles/209603949-Business', 'https://help.wrike.com/hc/en-us/articles/210324325-Controlled-Admin-Permissions', 'https://help.wrike.com/hc/en-us/articles/209603769-Make-a-Task-Recurrent', 'https://help.wrike.com/hc/en-us/articles/209603929-Professional', 'https://help.wrike.com/hc/en-us/articles/209603969-Enterprise'}\n",
      "/home/alex/chat_bot_wrike/wrike-bot/help_good_for_wrike/209605369-Remove-a-User.csv\n",
      "Saving as : /home/alex/chat_bot_wrike/wrike-bot/help_good_for_wrike/210324465.csv {'https://help.wrike.com/hc/en-us/articles/210324565-SSO-with-SAML-User-Guide', 'https://help.wrike.com/hc/en-us/articles/210324445-2-Step-Verification', 'https://help.wrike.com/hc/en-us/articles/209605769-SSO-with-SAML-Implementation-Guide'}\n",
      "/home/alex/chat_bot_wrike/wrike-bot/help_good_for_wrike/210324465.csv\n",
      "Saving as : /home/alex/chat_bot_wrike/wrike-bot/help_good_for_wrike/209605749.csv {'https://help.wrike.com/hc/en-us/articles/209603969-Enterprise', 'https://help.wrike.com/hc/en-us/articles/210324565-SSO-with-SAML-User-Guide', 'https://help.wrike.com/hc/en-us/articles/210324445-2-Step-Verification', 'https://help.wrike.com/hc/en-us/articles/210324465-One-Time-Passwords#generate', 'https://help.wrike.com/hc/en-us/articles/209605449-Admin-Permissions', 'https://help.wrike.com/hc/en-us/articles/210324325-Controlled-Admin-Permissions'}\n",
      "/home/alex/chat_bot_wrike/wrike-bot/help_good_for_wrike/209605749.csv\n",
      "Saving as : /home/alex/chat_bot_wrike/wrike-bot/help_good_for_wrike/210323405-Collaborator.csv {'https://help.wrike.com/hc/en-us/articles/209603989-Types-of-Licenses', 'https://help.wrike.com/hc/en-us/articles/360034765174-Personal-Space#todo'}\n",
      "/home/alex/chat_bot_wrike/wrike-bot/help_good_for_wrike/210323405-Collaborator.csv\n",
      "Saving as : /home/alex/chat_bot_wrike/wrike-bot/help_good_for_wrike/209603909-Student-Program.csv {'https://help.wrike.com/hc/en-us/articles/210324185-Email-Integration', 'https://help.wrike.com/hc/en-us/articles/209603689-Milestones', 'https://help.wrike.com/hc/en-us/articles/209605809-iOS-App', 'https://help.wrike.com/hc/en-us/articles/209604469-Dashboards', 'https://help.wrike.com/hc/en-us/articles/210323585-Gantt-Chart-Overview-', 'https://help.wrike.com/hc/en-us/articles/210322825-Comments', 'https://help.wrike.com/hc/en-us/articles/210324605-Android-App', 'https://help.wrike.com/hc/en-us/articles/209603309-Attachments', 'https://help.wrike.com/hc/en-us/articles/209603929-Professional'}\n",
      "/home/alex/chat_bot_wrike/wrike-bot/help_good_for_wrike/209603909-Student-Program.csv\n",
      "Saving as : /home/alex/chat_bot_wrike/wrike-bot/help_good_for_wrike/212813205-Price.csv {'https://help.wrike.com/hc/en-us/articles/210412605-Wrike-for-Marketers', 'https://help.wrike.com/hc/en-us/articles/210323385-Free', 'https://help.wrike.com/hc/en-us/articles/209603949-Business', 'https://help.wrike.com/hc/en-us/articles/209603929-Professional', 'https://help.wrike.com/hc/en-us/articles/209603969-Enterprise'}\n",
      "/home/alex/chat_bot_wrike/wrike-bot/help_good_for_wrike/212813205-Price.csv\n",
      "Saving as : /home/alex/chat_bot_wrike/wrike-bot/help_good_for_wrike/209603169-Requests.csv {'https://help.wrike.com/hc/en-us/articles/209605389-Branded-Workspace-and-Email-Notifications', 'https://help.wrike.com/hc/en-us/articles/115004742769-External-Request-Forms'}\n",
      "/home/alex/chat_bot_wrike/wrike-bot/help_good_for_wrike/209603169-Requests.csv\n",
      "Saving as : /home/alex/chat_bot_wrike/wrike-bot/help_good_for_wrike/210322785-Custom-Statuses-and-Workflows.csv {'https://help.wrike.com/hc/en-us/articles/115005876769-Advanced-Custom-Workflows#how', 'https://help.wrike.com/hc/en-us/articles/209604469-Dashboards', 'https://help.wrike.com/hc/en-us/articles/115005876769-Advanced-Custom-Workflows#auto', 'https://help.wrike.com/hc/en-us/articles/209603949-Business', 'https://help.wrike.com/hc/en-us/articles/209605449-Admin-Permissions', 'https://help.wrike.com/hc/en-us/articles/209603969-Enterprise'}\n",
      "/home/alex/chat_bot_wrike/wrike-bot/help_good_for_wrike/210322785-Custom-Statuses-and-Workflows.csv\n"
     ]
    },
    {
     "name": "stdout",
     "output_type": "stream",
     "text": [
      "Saving as : /home/alex/chat_bot_wrike/wrike-bot/help_good_for_wrike/210323505-Time-Log-View.csv {'https://help.wrike.com/hc/en-us/articles/360035989834-Billable-Time#lock', 'https://help.wrike.com/hc/en-us/articles/360035863834-Wrike-for-Professional-Services#performance', 'https://help.wrike.com/hc/en-us/articles/209603589-Access-Roles', 'https://help.wrike.com/hc/en-us/articles/360024767374-Wrike-Resource-Overview'}\n",
      "/home/alex/chat_bot_wrike/wrike-bot/help_good_for_wrike/210323505-Time-Log-View.csv\n",
      "Saving as : /home/alex/chat_bot_wrike/wrike-bot/help_good_for_wrike/209604049-Progress-and-Performance-Reports.csv {'https://help.wrike.com/hc/en-us/articles/209603949-Business', 'https://help.wrike.com/hc/en-us/articles/209603089-Time-Tracking', 'https://help.wrike.com/hc/en-us/articles/209603689-Milestones'}\n",
      "/home/alex/chat_bot_wrike/wrike-bot/help_good_for_wrike/209604049-Progress-and-Performance-Reports.csv\n",
      "Saving as : /home/alex/chat_bot_wrike/wrike-bot/help_good_for_wrike/209605389-Branded-Workspace-and-Email-Notifications.csv {'https://help.wrike.com/hc/en-us/articles/209603969-Enterprise', 'https://help.wrike.com/hc/en-us/articles/210324405-Email-Notifications#customization', 'https://help.wrike.com/hc/en-us/articles/209603949-Business', 'https://help.wrike.com/hc/en-us/articles/209605449-Admin-Permissions', 'https://help.wrike.com/hc/en-us/articles/210324325-Controlled-Admin-Permissions'}\n",
      "/home/alex/chat_bot_wrike/wrike-bot/help_good_for_wrike/209605389-Branded-Workspace-and-Email-Notifications.csv\n",
      "Saving as : /home/alex/chat_bot_wrike/wrike-bot/help_good_for_wrike/209603589-Folder-and-Project-Permissions.csv {'https://help.wrike.com/hc/en-us/articles/209603949-Business', 'https://help.wrike.com/hc/en-us/articles/360035863834-Wrike-for-Professional-Services', 'https://help.wrike.com/hc/en-us/articles/360024767374-Wrike-Resource-Overview', 'https://help.wrike.com/hc/en-us/articles/209602989-User-Groups', 'https://help.wrike.com/hc/en-us/articles/209602969-Sharing#about'}\n",
      "/home/alex/chat_bot_wrike/wrike-bot/help_good_for_wrike/209603589-Folder-and-Project-Permissions.csv\n",
      "Saving as : /home/alex/chat_bot_wrike/wrike-bot/help_good_for_wrike/209603709-Create-a-Task.csv {'https://help.wrike.com/hc/en-us/articles/210324405-Email-Notifications', 'https://help.wrike.com/hc/en-us/articles/209604489-Stream', 'https://help.wrike.com/hc/en-us/articles/209603989-Types-of-Licenses', 'https://help.wrike.com/hc/en-us/articles/209605589-Daily-To-Do-Emails', 'https://help.wrike.com/hc/en-us/articles/210322825-Comments', 'https://help.wrike.com/hc/en-us/articles/360035863834-Wrike-for-Professional-Services', 'https://help.wrike.com/hc/en-us/articles/209604229-Dependencies-on-the-Gantt-Chart-', 'https://help.wrike.com/hc/en-us/articles/360024767374-Wrike-Resource-Overview', 'https://help.wrike.com/hc/en-us/articles/209603889-Mass-Editing'}\n",
      "/home/alex/chat_bot_wrike/wrike-bot/help_good_for_wrike/209603709-Create-a-Task.csv\n",
      "Saving as : /home/alex/chat_bot_wrike/wrike-bot/help_good_for_wrike/209603269-Tag-Colleagues.csv {'https://help.wrike.com/hc/en-us/articles/210324405-Email-Notifications', 'https://help.wrike.com/hc/en-us/articles/209603989-Types-of-Licenses', 'https://help.wrike.com/hc/en-us/articles/210323705-Inbox', 'https://help.wrike.com/hc/en-us/articles/210323405-Collaborators', 'https://help.wrike.com/hc/en-us/articles/210324185-Email-Integration', 'https://help.wrike.com/hc/en-us/articles/209603009-My-Team-Group', 'https://help.wrike.com/hc/en-us/articles/209603949-Business', 'https://help.wrike.com/hc/en-us/articles/209602989-User-Groups', 'https://help.wrike.com/hc/en-us/articles/209603969-Enterprise'}\n",
      "/home/alex/chat_bot_wrike/wrike-bot/help_good_for_wrike/209603269-Tag-Colleagues.csv\n",
      "Saving as : /home/alex/chat_bot_wrike/wrike-bot/help_good_for_wrike/360014673593-Timesheets.csv set()\n",
      "/home/alex/chat_bot_wrike/wrike-bot/help_good_for_wrike/360014673593-Timesheets.csv\n",
      "Saving as : /home/alex/chat_bot_wrike/wrike-bot/help_good_for_wrike/360035989794.csv {'https://help.wrike.com/hc/en-us/articles/360010835433-Workload-Charts', 'https://help.wrike.com/hc/en-us/articles/209603149-Templates#task', 'https://help.wrike.com/hc/en-us/articles/209603589-Access-Roles', 'https://help.wrike.com/hc/en-us/articles/360001871874-User-Management-Chart-Business-and-Enterprise-', 'https://help.wrike.com/hc/en-us/articles/209603269--mentions', 'https://help.wrike.com/hc/en-us/articles/360013445394-Blueprints', 'https://help.wrike.com/hc/en-us/articles/360024767374-Wrike-Resource-Overview', 'https://help.wrike.com/hc/en-us/articles/209602989-User-Groups', 'https://help.wrike.com/hc/en-us/articles/360010852973-Task-Effort#types', 'https://help.wrike.com/hc/en-us/articles/360010852973-Task-Effort#specify', 'https://help.wrike.com/hc/en-us/articles/210323225-Task-View', 'https://help.wrike.com/hc/en-us/articles/210324325-Controlled-Admin-Permissions'}\n",
      "/home/alex/chat_bot_wrike/wrike-bot/help_good_for_wrike/360035989794.csv\n",
      "Saving as : /home/alex/chat_bot_wrike/wrike-bot/help_good_for_wrike/115003404345-Dynamic-Request-Forms.csv {'https://help.wrike.com/hc/en-us/articles/360013445394-Blueprints#use', 'https://help.wrike.com/hc/en-us/articles/209603489-Projects#attributes', 'https://help.wrike.com/hc/en-us/articles/360023006313-Approvals#forms', 'https://help.wrike.com/hc/en-us/articles/360013445394-Blueprints'}\n",
      "/home/alex/chat_bot_wrike/wrike-bot/help_good_for_wrike/115003404345-Dynamic-Request-Forms.csv\n",
      "Saving as : /home/alex/chat_bot_wrike/wrike-bot/help_good_for_wrike/214612765.csv {'https://help.wrike.com/hc/en-us/articles/209603949-Business', 'https://help.wrike.com/hc/en-us/articles/212729565-Share-a-Report', 'https://help.wrike.com/hc/en-us/articles/360024767374-Wrike-Resource-Overview', 'https://help.wrike.com/hc/en-us/articles/209603969-Enterprise'}\n",
      "/home/alex/chat_bot_wrike/wrike-bot/help_good_for_wrike/214612765.csv\n",
      "Saving as : /home/alex/chat_bot_wrike/wrike-bot/help_good_for_wrike/360043781934.csv {'https://help.wrike.com/hc/en-us/articles/360036508894-Wrike-Analyze#template', 'https://help.wrike.com/hc/en-us/articles/360036508894-Wrike-Analyze', 'https://help.wrike.com/hc/en-us/articles/360035863834-Wrike-for-Professional-Services'}\n",
      "/home/alex/chat_bot_wrike/wrike-bot/help_good_for_wrike/360043781934.csv\n",
      "Saving as : /home/alex/chat_bot_wrike/wrike-bot/help_good_for_wrike/115004742769-External-Request-Forms.csv {'https://help.wrike.com/hc/en-us/articles/360023288413-Manage-Request-Forms-for-Admins-#delete'}\n",
      "/home/alex/chat_bot_wrike/wrike-bot/help_good_for_wrike/115004742769-External-Request-Forms.csv\n",
      "Saving as : /home/alex/chat_bot_wrike/wrike-bot/help_good_for_wrike/360035989834.csv {'https://help.wrike.com/hc/en-us/articles/209603369-Tags', 'https://help.wrike.com/hc/en-us/articles/209605809-iOS-App', 'https://help.wrike.com/hc/en-us/articles/210323505-Timelog-View#manage', 'https://help.wrike.com/hc/en-us/articles/210323505-Timelog-View#person', 'https://help.wrike.com/hc/en-us/articles/209603589-Access-Roles', 'https://help.wrike.com/hc/en-us/articles/210323505-Timelog-View', 'https://help.wrike.com/hc/en-us/articles/209603089-Time-Tracking#track', 'https://help.wrike.com/hc/en-us/articles/210323505-Timelog-View#period', 'https://help.wrike.com/hc/en-us/articles/360014673593-Timesheets', 'https://help.wrike.com/hc/en-us/articles/209603389-Folder-and-Project-Info-Panels#open', 'https://help.wrike.com/hc/en-us/articles/210324605-Android-App', 'https://help.wrike.com/hc/en-us/articles/360024767374-Wrike-Resource-Overview', 'https://help.wrike.com/hc/en-us/articles/210323225-Task-View', 'https://help.wrike.com/hc/en-us/articles/210323505-Timelog-View#export'}\n",
      "/home/alex/chat_bot_wrike/wrike-bot/help_good_for_wrike/360035989834.csv\n",
      "Saving as : /home/alex/chat_bot_wrike/wrike-bot/help_good_for_wrike/210323585-Timeline-Overview.csv {'https://help.wrike.com/hc/en-us/articles/210324405-Email-Notifications', 'https://help.wrike.com/hc/en-us/articles/360020311174-Spaces-Overview', 'https://help.wrike.com/hc/en-us/articles/360009420853-Roll-Up-Dates-on-the-Gantt-Chart-', 'https://help.wrike.com/hc/en-us/articles/210323705-Inbox'}\n",
      "/home/alex/chat_bot_wrike/wrike-bot/help_good_for_wrike/210323585-Timeline-Overview.csv\n"
     ]
    },
    {
     "name": "stdout",
     "output_type": "stream",
     "text": [
      "Saving as : /home/alex/chat_bot_wrike/wrike-bot/help_good_for_wrike/209604229-Dependencies-on-the-Timeline-View.csv {'https://help.wrike.com/hc/en-us/articles/209603689-Milestones#gantt'}\n",
      "/home/alex/chat_bot_wrike/wrike-bot/help_good_for_wrike/209604229-Dependencies-on-the-Timeline-View.csv\n",
      "Saving as : /home/alex/chat_bot_wrike/wrike-bot/help_good_for_wrike/210323245-Subtask.csv {'https://help.wrike.com/hc/en-us/articles/210322805-Permalink', 'https://help.wrike.com/hc/en-us/articles/209603949-Business', 'https://help.wrike.com/hc/en-us/articles/115005055469-Subtask-Alignment-', 'https://help.wrike.com/hc/en-us/articles/209603929-Professional', 'https://help.wrike.com/hc/en-us/articles/209603969-Enterprise'}\n",
      "/home/alex/chat_bot_wrike/wrike-bot/help_good_for_wrike/210323245-Subtask.csv\n",
      "Saving as : /home/alex/chat_bot_wrike/wrike-bot/help_good_for_wrike/210324125-XLS-Export-and-Import.csv {'https://help.wrike.com/hc/en-us/articles/209603989-Types-of-Licenses', 'https://help.wrike.com/hc/en-us/articles/209603369-Tags', 'https://help.wrike.com/hc/en-us/articles/209603689-Milestones', 'https://help.wrike.com/hc/en-us/articles/209603949-Business', 'https://help.wrike.com/hc/en-us/articles/360010852973-Task-Effort', 'https://help.wrike.com/hc/en-us/articles/360037345013-Export-Data-to-Excel', 'https://help.wrike.com/hc/en-us/articles/360035863834-Wrike-for-Professional-Services', 'https://help.wrike.com/hc/en-us/articles/210322785-Custom-Statuses-and-Workflows', 'https://help.wrike.com/hc/en-us/articles/209603969-Enterprise'}\n",
      "/home/alex/chat_bot_wrike/wrike-bot/help_good_for_wrike/210324125-XLS-Export-and-Import.csv\n",
      "Saving as : /home/alex/chat_bot_wrike/wrike-bot/help_good_for_wrike/210325065-Approvals.csv {'https://help.wrike.com/hc/en-us/articles/210322845-Proofing', 'https://help.wrike.com/hc/en-us/articles/209603989-Types-of-Licenses', 'https://help.wrike.com/hc/en-us/articles/360023006313-Approvals#add'}\n",
      "/home/alex/chat_bot_wrike/wrike-bot/help_good_for_wrike/210325065-Approvals.csv\n",
      "Saving as : /home/alex/chat_bot_wrike/wrike-bot/help_good_for_wrike/360010504274-Wrike-Publish-MediaValet-Integration.csv {'https://help.wrike.com/hc/en-us/articles/210322845-Proofing'}\n",
      "/home/alex/chat_bot_wrike/wrike-bot/help_good_for_wrike/360010504274-Wrike-Publish-MediaValet-Integration.csv\n",
      "Saving as : /home/alex/chat_bot_wrike/wrike-bot/help_good_for_wrike/360024472793-Wrike-Publish-Bynder-Integration.csv {'https://help.wrike.com/hc/en-us/articles/210322845-Proofing'}\n",
      "/home/alex/chat_bot_wrike/wrike-bot/help_good_for_wrike/360024472793-Wrike-Publish-Bynder-Integration.csv\n",
      "Saving as : /home/alex/chat_bot_wrike/wrike-bot/help_good_for_wrike/210323325-.csv {'https://help.wrike.com/hc/en-us/articles/210323405-Collaborators', 'https://help.wrike.com/hc/en-us/articles/209603369-Tags', 'https://help.wrike.com/hc/en-us/articles/209603829-Importance', 'https://help.wrike.com/hc/en-us/articles/209603069-Filters', 'https://help.wrike.com/hc/en-us/articles/360023006313-Approvals', 'https://help.wrike.com/hc/en-us/articles/209602969-Sharing', 'https://help.wrike.com/hc/en-us/articles/209603949-Business', 'https://help.wrike.com/hc/en-us/articles/210323205-Backlogged-Tasks', 'https://help.wrike.com/hc/en-us/articles/209603049-Custom-Fields', 'https://help.wrike.com/hc/en-us/articles/210322785-Custom-Statuses-and-Workflows', 'https://help.wrike.com/hc/en-us/articles/209603969-Enterprise'}\n",
      "/home/alex/chat_bot_wrike/wrike-bot/help_good_for_wrike/210323325-.csv\n",
      "Saving as : /home/alex/chat_bot_wrike/wrike-bot/help_good_for_wrike/210323585-.csv {'https://help.wrike.com/hc/en-us/articles/210324405-Email-Notifications', 'https://help.wrike.com/hc/en-us/articles/360020311174-Spaces-Overview', 'https://help.wrike.com/hc/en-us/articles/360009420853-Roll-Up-Dates-on-the-Gantt-Chart-', 'https://help.wrike.com/hc/en-us/articles/210323705-Inbox'}\n",
      "/home/alex/chat_bot_wrike/wrike-bot/help_good_for_wrike/210323585-.csv\n",
      "Saving as : /home/alex/chat_bot_wrike/wrike-bot/help_good_for_wrike/210322705-Building-Blocks-Tasks-Folders-Projects-and-Spaces.csv {'https://help.wrike.com/hc/en-us/articles/209603369-Tags', 'https://help.wrike.com/hc/en-us/articles/360021667233-Bookmarks', 'https://help.wrike.com/hc/en-us/articles/360008551493-Description-Field', 'https://help.wrike.com/hc/en-us/articles/210322825-Comments', 'https://help.wrike.com/hc/en-us/articles/360034765174-Personal-Space', 'https://help.wrike.com/hc/en-us/articles/360020311174-Spaces-Overview', 'https://help.wrike.com/hc/en-us/articles/209603489-Projects'}\n",
      "/home/alex/chat_bot_wrike/wrike-bot/help_good_for_wrike/210322705-Building-Blocks-Tasks-Folders-Projects-and-Spaces.csv\n",
      "Saving as : /home/alex/chat_bot_wrike/wrike-bot/help_good_for_wrike/115000193205-.csv {'https://help.wrike.com/hc/en-us/articles/209603069-Filters#presets', 'https://help.wrike.com/hc/en-us/articles/115001778165-Project-Wizard-and-Default-View-Picker#change', 'https://help.wrike.com/hc/en-us/articles/209604469-Dashboards'}\n",
      "/home/alex/chat_bot_wrike/wrike-bot/help_good_for_wrike/115000193205-.csv\n",
      "Saving as : /home/alex/chat_bot_wrike/wrike-bot/help_good_for_wrike/115004740045-Create-a-Request-Form-for-Admins-.csv {'https://help.wrike.com/hc/en-us/articles/115003404345-Dynamic-Request-Forms#conditional', 'https://help.wrike.com/hc/en-us/articles/115003404345-Dynamic-Request-Forms', 'https://help.wrike.com/hc/en-us/articles/209603489-Projects#attributes', 'https://help.wrike.com/hc/en-us/articles/209603169-Request-Forms-Submit-a-Form-', 'https://help.wrike.com/hc/en-us/articles/209603049-Custom-Fields'}\n",
      "/home/alex/chat_bot_wrike/wrike-bot/help_good_for_wrike/115004740045-Create-a-Request-Form-for-Admins-.csv\n",
      "Saving as : /home/alex/chat_bot_wrike/wrike-bot/help_good_for_wrike/210324345-Add-Users-.csv {'https://help.wrike.com/hc/en-us/articles/209605449-Admin-Permissions', 'https://help.wrike.com/hc/en-us/articles/210324485-Advanced-Security-Settings#invitation', 'https://help.wrike.com/hc/en-us/articles/209602969-Sharing'}\n",
      "/home/alex/chat_bot_wrike/wrike-bot/help_good_for_wrike/210324345-Add-Users-.csv\n"
     ]
    },
    {
     "name": "stderr",
     "output_type": "stream",
     "text": [
      "2020-09-13 03:29:18 [scrapy.extensions.logstats] INFO: Crawled 6245 pages (at 128 pages/min), scraped 0 items (at 0 items/min)\n"
     ]
    },
    {
     "name": "stdout",
     "output_type": "stream",
     "text": [
      "Saving as : /home/alex/chat_bot_wrike/wrike-bot/help_good_for_wrike/209603729-Request-a-Status-Update.csv {'https://help.wrike.com/hc/en-us/articles/209603989-Types-of-Licenses'}\n",
      "/home/alex/chat_bot_wrike/wrike-bot/help_good_for_wrike/209603729-Request-a-Status-Update.csv\n",
      "Saving as : /home/alex/chat_bot_wrike/wrike-bot/help_good_for_wrike/360046406233.csv {'https://help.wrike.com/hc/en-us/articles/360045369314-Step-6-Making-Remote-Work-Productive', 'https://help.wrike.com/hc/en-us/articles/360034765174-Personal-Space#todo'}\n",
      "/home/alex/chat_bot_wrike/wrike-bot/help_good_for_wrike/360046406233.csv\n",
      "Saving as : /home/alex/chat_bot_wrike/wrike-bot/help_good_for_wrike/210325065-Wrike-Proof-Approvals.csv {'https://help.wrike.com/hc/en-us/articles/210322845-Proofing', 'https://help.wrike.com/hc/en-us/articles/209603989-Types-of-Licenses', 'https://help.wrike.com/hc/en-us/articles/360023006313-Approvals#add'}\n",
      "/home/alex/chat_bot_wrike/wrike-bot/help_good_for_wrike/210325065-Wrike-Proof-Approvals.csv\n",
      "Saving as : /home/alex/chat_bot_wrike/wrike-bot/help_good_for_wrike/210323205-Backlogged-Tasks.csv {'https://help.wrike.com/hc/en-us/articles/209603989-Types-of-Licenses', 'https://help.wrike.com/hc/en-us/articles/209604469-Dashboards', 'https://help.wrike.com/hc/en-us/articles/209605589-Daily-To-Do-Emails', 'https://help.wrike.com/hc/en-us/articles/210323585-Gantt-Chart-Overview-'}\n",
      "/home/alex/chat_bot_wrike/wrike-bot/help_good_for_wrike/210323205-Backlogged-Tasks.csv\n",
      "Saving as : /home/alex/chat_bot_wrike/wrike-bot/help_good_for_wrike/210323305-Delete-Tasks.csv {'https://help.wrike.com/hc/en-us/articles/210322945-Recycle-Bin', 'https://help.wrike.com/hc/en-us/articles/209603989-Types-of-Licenses', 'https://help.wrike.com/hc/en-us/articles/209603369-Tags'}\n",
      "/home/alex/chat_bot_wrike/wrike-bot/help_good_for_wrike/210323305-Delete-Tasks.csv\n",
      "Saving as : /home/alex/chat_bot_wrike/wrike-bot/help_good_for_wrike/209603869-Duplicate-Tasks-and-Subtasks.csv {'https://help.wrike.com/hc/en-us/articles/209603149-Templates', 'https://help.wrike.com/hc/en-us/articles/209603989-Types-of-Licenses', 'https://help.wrike.com/hc/en-us/articles/210323005-Duplicate-a-Folder-or-Project', 'https://help.wrike.com/hc/en-us/articles/209603049-Custom-Fields'}\n",
      "/home/alex/chat_bot_wrike/wrike-bot/help_good_for_wrike/209603869-Duplicate-Tasks-and-Subtasks.csv\n",
      "Saving as : /home/alex/chat_bot_wrike/wrike-bot/help_good_for_wrike/209603829-Importance.csv {'https://help.wrike.com/hc/en-us/articles/209603989-Types-of-Licenses'}\n",
      "/home/alex/chat_bot_wrike/wrike-bot/help_good_for_wrike/209603829-Importance.csv\n",
      "Saving as : /home/alex/chat_bot_wrike/wrike-bot/help_good_for_wrike/115005179609-Star-a-Task.csv {'https://help.wrike.com/hc/en-us/articles/210323405-Collaborators', 'https://help.wrike.com/hc/en-us/articles/209603349-Starred-Folders-and-Projects', 'https://help.wrike.com/hc/en-us/articles/210323705-Inbox#navigate'}\n",
      "/home/alex/chat_bot_wrike/wrike-bot/help_good_for_wrike/115005179609-Star-a-Task.csv\n",
      "Saving as : /home/alex/chat_bot_wrike/wrike-bot/help_good_for_wrike/209603749-Print-Tasks.csv {'https://help.wrike.com/hc/en-us/articles/210323405-Collaborators', 'https://help.wrike.com/hc/en-us/articles/209603069-Filters'}\n",
      "/home/alex/chat_bot_wrike/wrike-bot/help_good_for_wrike/209603749-Print-Tasks.csv\n",
      "Saving as : /home/alex/chat_bot_wrike/wrike-bot/help_good_for_wrike/209603789-Task-Status.csv {'https://help.wrike.com/hc/en-us/articles/209604489-Stream', 'https://help.wrike.com/hc/en-us/articles/210323405-Collaborators', 'https://help.wrike.com/hc/en-us/articles/115005876769-Advanced-Custom-Workflows#how', 'https://help.wrike.com/hc/en-us/articles/209605589-Daily-To-Do-Emails', 'https://help.wrike.com/hc/en-us/articles/209603069-Filters', 'https://help.wrike.com/hc/en-us/articles/209604469-Dashboards', 'https://help.wrike.com/hc/en-us/articles/209604449-Reports-Overview', 'https://help.wrike.com/hc/en-us/articles/209603949-Business', 'https://help.wrike.com/hc/en-us/articles/209603889-Mass-Editing', 'https://help.wrike.com/hc/en-us/articles/210322785-Custom-Statuses-and-Workflows', 'https://help.wrike.com/hc/en-us/articles/209603969-Enterprise'}\n",
      "/home/alex/chat_bot_wrike/wrike-bot/help_good_for_wrike/209603789-Task-Status.csv\n",
      "Saving as : /home/alex/chat_bot_wrike/wrike-bot/help_good_for_wrike/209604229-Dependencies-on-the-Timeline-View-.csv {'https://help.wrike.com/hc/en-us/articles/209603689-Milestones#gantt'}\n",
      "/home/alex/chat_bot_wrike/wrike-bot/help_good_for_wrike/209604229-Dependencies-on-the-Timeline-View-.csv\n",
      "Saving as : /home/alex/chat_bot_wrike/wrike-bot/help_good_for_wrike/115001778165.csv {'https://help.wrike.com/hc/en-us/articles/209603609-Create-Color-Code-and-Edit-Folders-and-Projects#create-folder', 'https://help.wrike.com/hc/en-us/articles/209602969-Sharing'}\n",
      "/home/alex/chat_bot_wrike/wrike-bot/help_good_for_wrike/115001778165.csv\n",
      "Saving as : /home/alex/chat_bot_wrike/wrike-bot/help_good_for_wrike/209604209-Tasks-on-the-Timeline-View.csv {'https://help.wrike.com/hc/en-us/articles/210322725-Keyboard-Shortcuts'}\n",
      "/home/alex/chat_bot_wrike/wrike-bot/help_good_for_wrike/209604209-Tasks-on-the-Timeline-View.csv\n",
      "Saving as : /home/alex/chat_bot_wrike/wrike-bot/help_good_for_wrike/210324205.csv {'https://help.wrike.com/hc/en-us/articles/210323405-Collaborators', 'https://help.wrike.com/hc/en-us/articles/209605809-iOS-App', 'https://help.wrike.com/hc/en-us/articles/210324605-Android-App', 'https://help.wrike.com/hc/en-us/articles/214413365-Google-Calendar-Integration', 'https://help.wrike.com/hc/en-us/articles/209603309-Attachments'}\n",
      "/home/alex/chat_bot_wrike/wrike-bot/help_good_for_wrike/210324205.csv\n",
      "Saving as : /home/alex/chat_bot_wrike/wrike-bot/help_good_for_wrike/360005778794-Table-View-Overview.csv {'https://help.wrike.com/hc/en-us/articles/210323405-Collaborators', 'https://help.wrike.com/hc/en-us/articles/209603329-Job-Numbers', 'https://help.wrike.com/hc/en-us/articles/209603049-Custom-Fields#create', 'https://help.wrike.com/hc/en-us/articles/210322945-Recycle-Bin', 'https://help.wrike.com/hc/en-us/articles/209603949-Business', 'https://help.wrike.com/hc/en-us/articles/360010852973-Task-Effort', 'https://help.wrike.com/hc/en-us/articles/360035863834-Wrike-for-Professional-Services', 'https://help.wrike.com/hc/en-us/articles/210323325-List-View-Sorting-and-Prioritizing-Tasks#sorting', 'https://help.wrike.com/hc/en-us/articles/360024767374-Wrike-Resource-Overview', 'https://help.wrike.com/hc/en-us/articles/209603049-Custom-Fields', 'https://help.wrike.com/hc/en-us/articles/209603969-Enterprise'}\n",
      "/home/alex/chat_bot_wrike/wrike-bot/help_good_for_wrike/360005778794-Table-View-Overview.csv\n",
      "Saving as : /home/alex/chat_bot_wrike/wrike-bot/help_good_for_wrike/210322705-Building-Blocks-Tasks-Folders-and-Projects.csv {'https://help.wrike.com/hc/en-us/articles/209603369-Tags', 'https://help.wrike.com/hc/en-us/articles/360021667233-Bookmarks', 'https://help.wrike.com/hc/en-us/articles/360008551493-Description-Field', 'https://help.wrike.com/hc/en-us/articles/210322825-Comments', 'https://help.wrike.com/hc/en-us/articles/360034765174-Personal-Space', 'https://help.wrike.com/hc/en-us/articles/360020311174-Spaces-Overview', 'https://help.wrike.com/hc/en-us/articles/209603489-Projects'}\n",
      "/home/alex/chat_bot_wrike/wrike-bot/help_good_for_wrike/210322705-Building-Blocks-Tasks-Folders-and-Projects.csv\n",
      "Saving as : /home/alex/chat_bot_wrike/wrike-bot/help_good_for_wrike/360017905033-Manage-Spaces.csv {'https://help.wrike.com/hc/en-us/articles/360020311174-Spaces-Overview#create', 'https://help.wrike.com/hc/en-us/articles/360020311174-Spaces-Overview#work', 'https://help.wrike.com/hc/en-us/articles/360020311174-Spaces-Overview#types', 'https://help.wrike.com/hc/en-us/articles/210322945-Recycle-Bin', 'https://help.wrike.com/hc/en-us/articles/209605449-Admin-Permissions', 'https://help.wrike.com/hc/en-us/articles/209603589-Access-Roles', 'https://help.wrike.com/hc/en-us/articles/360021667233-Bookmarks', 'https://help.wrike.com/hc/en-us/articles/360034765174-Personal-Space', 'https://help.wrike.com/hc/en-us/articles/115004740045-Create-a-Request-Form-for-Admins-', 'https://help.wrike.com/hc/en-us/articles/209603169-Request-Forms-Submit-a-Form-', 'https://help.wrike.com/hc/en-us/articles/210322785-Custom-Statuses-and-Workflows#apply', 'https://help.wrike.com/hc/en-us/articles/210322785-Custom-Statuses-and-Workflows', 'https://help.wrike.com/hc/en-us/articles/360020311174-Spaces-Overview'}\n"
     ]
    },
    {
     "name": "stdout",
     "output_type": "stream",
     "text": [
      "/home/alex/chat_bot_wrike/wrike-bot/help_good_for_wrike/360017905033-Manage-Spaces.csv\n",
      "Saving as : /home/alex/chat_bot_wrike/wrike-bot/help_good_for_wrike/360008063354-Share-Tasks-Folders-and-Projects-Free-and-Professional-.csv {'https://help.wrike.com/hc/en-us/articles/209603989-Types-of-Licenses', 'https://help.wrike.com/hc/en-us/articles/209603669-Sharing-Folders-and-Projects', 'https://help.wrike.com/hc/en-us/articles/209603849-Sharing-Tasks'}\n",
      "/home/alex/chat_bot_wrike/wrike-bot/help_good_for_wrike/360008063354-Share-Tasks-Folders-and-Projects-Free-and-Professional-.csv\n",
      "Saving as : /home/alex/chat_bot_wrike/wrike-bot/help_good_for_wrike/115003404345.csv {'https://help.wrike.com/hc/en-us/articles/360013445394-Blueprints#use', 'https://help.wrike.com/hc/en-us/articles/209603489-Projects#attributes', 'https://help.wrike.com/hc/en-us/articles/360023006313-Approvals#forms', 'https://help.wrike.com/hc/en-us/articles/360013445394-Blueprints'}\n",
      "/home/alex/chat_bot_wrike/wrike-bot/help_good_for_wrike/115003404345.csv\n",
      "Saving as : /home/alex/chat_bot_wrike/wrike-bot/help_good_for_wrike/210325065.csv {'https://help.wrike.com/hc/en-us/articles/210322845-Proofing', 'https://help.wrike.com/hc/en-us/articles/209603989-Types-of-Licenses', 'https://help.wrike.com/hc/en-us/articles/360023006313-Approvals#add'}\n",
      "/home/alex/chat_bot_wrike/wrike-bot/help_good_for_wrike/210325065.csv\n",
      "Saving as : /home/alex/chat_bot_wrike/wrike-bot/help_good_for_wrike/360012344933-Share-Tasks-Folders-and-Projects-Business-and-Enterprise-.csv {'https://help.wrike.com/hc/en-us/articles/209603669-Sharing-Folders-and-Projects', 'https://help.wrike.com/hc/en-us/articles/209603849-Sharing-Tasks', 'https://help.wrike.com/hc/en-us/articles/209603589-Access-Roles', 'https://help.wrike.com/hc/en-us/articles/360008063354-Share-Tasks-Folders-and-Projects-Free-and-Professional-'}\n",
      "/home/alex/chat_bot_wrike/wrike-bot/help_good_for_wrike/360012344933-Share-Tasks-Folders-and-Projects-Business-and-Enterprise-.csv\n",
      "Saving as : /home/alex/chat_bot_wrike/wrike-bot/help_good_for_wrike/360008551493.csv {'https://help.wrike.com/hc/en-us/articles/209603389-Folder-and-Project-Info-Panels', 'https://help.wrike.com/hc/en-us/articles/209603989-Types-of-Licenses', 'https://help.wrike.com/hc/en-us/articles/210323225-Task-View'}\n",
      "/home/alex/chat_bot_wrike/wrike-bot/help_good_for_wrike/360008551493.csv\n",
      "Saving as : /home/alex/chat_bot_wrike/wrike-bot/help_good_for_wrike/209603169-Request-Forms-Submit-a-Form-.csv {'https://help.wrike.com/hc/en-us/articles/209605389-Branded-Workspace-and-Email-Notifications', 'https://help.wrike.com/hc/en-us/articles/115004742769-External-Request-Forms'}\n",
      "/home/alex/chat_bot_wrike/wrike-bot/help_good_for_wrike/209603169-Request-Forms-Submit-a-Form-.csv\n",
      "Saving as : /home/alex/chat_bot_wrike/wrike-bot/help_good_for_wrike/115005876769-Advanced-Custom-Workflows.csv {'https://help.wrike.com/hc/en-us/sections/201825379-General-Account-Management', 'https://help.wrike.com/hc/en-us/articles/115005876769-Advanced-Custom-Workflows#auto', 'https://help.wrike.com/hc/en-us/articles/209603889-Mass-Editing'}\n",
      "/home/alex/chat_bot_wrike/wrike-bot/help_good_for_wrike/115005876769-Advanced-Custom-Workflows.csv\n",
      "Saving as : /home/alex/chat_bot_wrike/wrike-bot/help_good_for_wrike/115005886469-Workflow-Report.csv set()\n",
      "/home/alex/chat_bot_wrike/wrike-bot/help_good_for_wrike/115005886469-Workflow-Report.csv\n",
      "Saving as : /home/alex/chat_bot_wrike/wrike-bot/help_good_for_wrike/360003497114-Calculations-on-Reports.csv set()\n",
      "/home/alex/chat_bot_wrike/wrike-bot/help_good_for_wrike/360003497114-Calculations-on-Reports.csv\n",
      "Saving as : /home/alex/chat_bot_wrike/wrike-bot/help_good_for_wrike/360036858954.csv {'https://help.wrike.com/hc/en-us/articles/209603049-Custom-Fields#rollup', 'https://help.wrike.com/hc/en-us/articles/209603049-Custom-Fields#share', 'https://help.wrike.com/hc/en-us/articles/209603049-Custom-Fields#create', 'https://help.wrike.com/hc/en-us/articles/209603049-Custom-Fields#customize', 'https://help.wrike.com/hc/en-us/articles/209603049-Custom-Fields#edit', 'https://help.wrike.com/hc/en-us/articles/209603389-Folder-and-Project-Info-Panels#open', 'https://help.wrike.com/hc/en-us/articles/360003497114-Calculations-on-Reports', 'https://help.wrike.com/hc/en-us/articles/360036858954-Calculated-Custom-Fields#color', 'https://help.wrike.com/hc/en-us/articles/360010049154-Custom-Field-Management#open', 'https://help.wrike.com/hc/en-us/articles/360036858954-Calculated-Custom-Fields#write', 'https://help.wrike.com/hc/en-us/articles/209603049-Custom-Fields'}\n",
      "/home/alex/chat_bot_wrike/wrike-bot/help_good_for_wrike/360036858954.csv\n",
      "Saving as : /home/alex/chat_bot_wrike/wrike-bot/help_good_for_wrike/209603989-.csv {'https://help.wrike.com/hc/en-us/articles/360017905033-Manage-Spaces-for-Space-Admins-', 'https://help.wrike.com/hc/en-us/articles/209603589-Access-Roles', 'https://help.wrike.com/hc/en-us/articles/210324485-Advanced-Security-Settings', 'https://help.wrike.com/hc/en-us/articles/209603009-My-Team-Group', 'https://help.wrike.com/hc/en-us/articles/209605449-Admin-Permissions', 'https://help.wrike.com/hc/en-us/articles/209605669-Manage-Subscriptions', 'https://help.wrike.com/hc/en-us/articles/209603489-Projects'}\n",
      "/home/alex/chat_bot_wrike/wrike-bot/help_good_for_wrike/209603989-.csv\n",
      "Saving as : /home/alex/chat_bot_wrike/wrike-bot/help_good_for_wrike/209602929-.csv {'https://help.wrike.com/hc/en-us/articles/210324405-Email-Notifications'}\n",
      "/home/alex/chat_bot_wrike/wrike-bot/help_good_for_wrike/209602929-.csv\n",
      "Saving as : /home/alex/chat_bot_wrike/wrike-bot/help_good_for_wrike/360012344933-.csv {'https://help.wrike.com/hc/en-us/articles/209603669-Sharing-Folders-and-Projects', 'https://help.wrike.com/hc/en-us/articles/209603849-Sharing-Tasks', 'https://help.wrike.com/hc/en-us/articles/209603589-Access-Roles', 'https://help.wrike.com/hc/en-us/articles/360008063354-Share-Tasks-Folders-and-Projects-Free-and-Professional-'}\n",
      "/home/alex/chat_bot_wrike/wrike-bot/help_good_for_wrike/360012344933-.csv\n",
      "Saving as : /home/alex/chat_bot_wrike/wrike-bot/help_good_for_wrike/209604449-.csv {'https://help.wrike.com/hc/en-us/articles/209604449-Reports-Overview#builder', 'https://help.wrike.com/hc/en-us/articles/212729565-Share-a-Report', 'https://help.wrike.com/hc/en-us/articles/210323665-Report-Snapshots', 'https://help.wrike.com/hc/en-us/articles/209604309-Report-Table-Charts', 'https://help.wrike.com/hc/en-us/articles/214612765-Report-Templates', 'https://help.wrike.com/hc/en-us/articles/209603949-Business', 'https://help.wrike.com/hc/en-us/articles/210323645-Report-Column-Charts', 'https://help.wrike.com/hc/en-us/articles/209603049-Custom-Fields', 'https://help.wrike.com/hc/en-us/articles/209603489-Projects'}\n",
      "/home/alex/chat_bot_wrike/wrike-bot/help_good_for_wrike/209604449-.csv\n",
      "Saving as : /home/alex/chat_bot_wrike/wrike-bot/help_good_for_wrike/360001737133-.csv {'https://help.wrike.com/hc/en-us/articles/360002555733-Share-Calendars', 'https://help.wrike.com/hc/en-us/articles/360008652293-Workweek-Settings#changefirst', 'https://help.wrike.com/hc/en-us/articles/360001737133-Calendars#customize', 'https://help.wrike.com/hc/en-us/articles/360001737133-Calendars#createlayer'}\n",
      "/home/alex/chat_bot_wrike/wrike-bot/help_good_for_wrike/360001737133-.csv\n",
      "Saving as : /home/alex/chat_bot_wrike/wrike-bot/help_good_for_wrike/115004120265-.csv {'https://help.wrike.com/hc/en-us/articles/209603369-Tags', 'https://help.wrike.com/hc/en-us/articles/209603689-Milestones', 'https://help.wrike.com/hc/en-us/articles/115004120265-Dashboard-Widgets#customize', 'https://help.wrike.com/hc/en-us/articles/209603069-Filters', 'https://help.wrike.com/hc/en-us/articles/115004120265-Dashboard-Widgets#edit', 'https://help.wrike.com/hc/en-us/articles/209604469-Dashboards#shareable', 'https://help.wrike.com/hc/en-us/articles/115004120265-Dashboard-Widgets#resize', 'https://help.wrike.com/hc/en-us/articles/209602909-Search'}\n",
      "/home/alex/chat_bot_wrike/wrike-bot/help_good_for_wrike/115004120265-.csv\n",
      "Saving as : /home/alex/chat_bot_wrike/wrike-bot/help_good_for_wrike/115004740045-.csv {'https://help.wrike.com/hc/en-us/articles/115003404345-Dynamic-Request-Forms#conditional', 'https://help.wrike.com/hc/en-us/articles/115003404345-Dynamic-Request-Forms', 'https://help.wrike.com/hc/en-us/articles/209603489-Projects#attributes', 'https://help.wrike.com/hc/en-us/articles/209603169-Request-Forms-Submit-a-Form-', 'https://help.wrike.com/hc/en-us/articles/209603049-Custom-Fields'}\n"
     ]
    },
    {
     "name": "stdout",
     "output_type": "stream",
     "text": [
      "/home/alex/chat_bot_wrike/wrike-bot/help_good_for_wrike/115004740045-.csv\n",
      "Saving as : /home/alex/chat_bot_wrike/wrike-bot/help_good_for_wrike/210322825.csv {'https://help.wrike.com/hc/en-us/articles/209604489-Stream', 'https://help.wrike.com/hc/en-us/articles/209604489-Stream#post', 'https://help.wrike.com/hc/en-us/articles/210323405-Collaborators', 'https://help.wrike.com/hc/en-us/articles/209603269--mentions', 'https://help.wrike.com/hc/en-us/articles/209602989-User-Groups'}\n",
      "/home/alex/chat_bot_wrike/wrike-bot/help_good_for_wrike/210322825.csv\n",
      "Saving as : /home/alex/chat_bot_wrike/wrike-bot/help_good_for_wrike/360005778794-New-Table-View.csv {'https://help.wrike.com/hc/en-us/articles/210323405-Collaborators', 'https://help.wrike.com/hc/en-us/articles/209603329-Job-Numbers', 'https://help.wrike.com/hc/en-us/articles/209603049-Custom-Fields#create', 'https://help.wrike.com/hc/en-us/articles/210322945-Recycle-Bin', 'https://help.wrike.com/hc/en-us/articles/209603949-Business', 'https://help.wrike.com/hc/en-us/articles/360010852973-Task-Effort', 'https://help.wrike.com/hc/en-us/articles/360035863834-Wrike-for-Professional-Services', 'https://help.wrike.com/hc/en-us/articles/210323325-List-View-Sorting-and-Prioritizing-Tasks#sorting', 'https://help.wrike.com/hc/en-us/articles/360024767374-Wrike-Resource-Overview', 'https://help.wrike.com/hc/en-us/articles/209603049-Custom-Fields', 'https://help.wrike.com/hc/en-us/articles/209603969-Enterprise'}\n",
      "/home/alex/chat_bot_wrike/wrike-bot/help_good_for_wrike/360005778794-New-Table-View.csv\n",
      "Saving as : /home/alex/chat_bot_wrike/wrike-bot/help_good_for_wrike/360010049154.csv {'https://help.wrike.com/hc/en-us/articles/209603049-Custom-Fields'}\n",
      "/home/alex/chat_bot_wrike/wrike-bot/help_good_for_wrike/360010049154.csv\n",
      "Saving as : /home/alex/chat_bot_wrike/wrike-bot/help_good_for_wrike/360005778794.csv {'https://help.wrike.com/hc/en-us/articles/210323405-Collaborators', 'https://help.wrike.com/hc/en-us/articles/209603329-Job-Numbers', 'https://help.wrike.com/hc/en-us/articles/209603049-Custom-Fields#create', 'https://help.wrike.com/hc/en-us/articles/210322945-Recycle-Bin', 'https://help.wrike.com/hc/en-us/articles/209603949-Business', 'https://help.wrike.com/hc/en-us/articles/360010852973-Task-Effort', 'https://help.wrike.com/hc/en-us/articles/360035863834-Wrike-for-Professional-Services', 'https://help.wrike.com/hc/en-us/articles/210323325-List-View-Sorting-and-Prioritizing-Tasks#sorting', 'https://help.wrike.com/hc/en-us/articles/360024767374-Wrike-Resource-Overview', 'https://help.wrike.com/hc/en-us/articles/209603049-Custom-Fields', 'https://help.wrike.com/hc/en-us/articles/209603969-Enterprise'}\n",
      "/home/alex/chat_bot_wrike/wrike-bot/help_good_for_wrike/360005778794.csv\n",
      "Saving as : /home/alex/chat_bot_wrike/wrike-bot/help_good_for_wrike/360010049154-Custom-Field-Management?sort_by=created_at.csv {'https://help.wrike.com/hc/en-us/articles/209603049-Custom-Fields'}\n",
      "/home/alex/chat_bot_wrike/wrike-bot/help_good_for_wrike/360010049154-Custom-Field-Management?sort_by=created_at.csv\n",
      "Saving as : /home/alex/chat_bot_wrike/wrike-bot/help_good_for_wrike/360010049154-Custom-Field-Management?sort_by=votes.csv {'https://help.wrike.com/hc/en-us/articles/209603049-Custom-Fields'}\n",
      "/home/alex/chat_bot_wrike/wrike-bot/help_good_for_wrike/360010049154-Custom-Field-Management?sort_by=votes.csv\n",
      "Saving as : /home/alex/chat_bot_wrike/wrike-bot/help_good_for_wrike/360010049154?page=1.csv {'https://help.wrike.com/hc/en-us/articles/209603049-Custom-Fields'}\n",
      "/home/alex/chat_bot_wrike/wrike-bot/help_good_for_wrike/360010049154?page=1.csv\n",
      "Saving as : /home/alex/chat_bot_wrike/wrike-bot/help_good_for_wrike/115005179609.csv {'https://help.wrike.com/hc/en-us/articles/210323405-Collaborators', 'https://help.wrike.com/hc/en-us/articles/209603349-Starred-Folders-and-Projects', 'https://help.wrike.com/hc/en-us/articles/210323705-Inbox#navigate'}\n",
      "/home/alex/chat_bot_wrike/wrike-bot/help_good_for_wrike/115005179609.csv\n"
     ]
    },
    {
     "name": "stderr",
     "output_type": "stream",
     "text": [
      "2020-09-13 03:30:18 [scrapy.extensions.logstats] INFO: Crawled 6425 pages (at 180 pages/min), scraped 0 items (at 0 items/min)\n"
     ]
    },
    {
     "name": "stdout",
     "output_type": "stream",
     "text": [
      "Saving as : /home/alex/chat_bot_wrike/wrike-bot/help_good_for_wrike/209605569-Add-or-Delete-an-Email.csv {'https://help.wrike.com/hc/en-us/articles/210324405-Email-Notifications', 'https://help.wrike.com/hc/en-us/articles/210324185-Email-Integration'}\n",
      "/home/alex/chat_bot_wrike/wrike-bot/help_good_for_wrike/209605569-Add-or-Delete-an-Email.csv\n",
      "Saving as : /home/alex/chat_bot_wrike/wrike-bot/help_good_for_wrike/115003869085.csv {'https://help.wrike.com/hc/en-us/articles/360034765174-Personal-Space#todo'}\n",
      "/home/alex/chat_bot_wrike/wrike-bot/help_good_for_wrike/115003869085.csv\n",
      "Saving as : /home/alex/chat_bot_wrike/wrike-bot/help_good_for_wrike/209605089-Google-Apps-Implementation-Guide.csv {'https://help.wrike.com/hc/en-us/articles/209605449-Admin-Permissions'}\n",
      "/home/alex/chat_bot_wrike/wrike-bot/help_good_for_wrike/209605089-Google-Apps-Implementation-Guide.csv\n",
      "Saving as : /home/alex/chat_bot_wrike/wrike-bot/help_good_for_wrike/212888505-Wrike-and-GitHub-Sync-Setup-Guide.csv {'https://help.wrike.com/hc/en-us/articles/115004562709-Wrike-Bot', 'https://help.wrike.com/hc/en-us/articles/360044211853-Project-Syncs-Add-On', 'https://help.wrike.com/hc/en-us/articles/360044211853-Project-Syncs-Add-On#enable'}\n",
      "/home/alex/chat_bot_wrike/wrike-bot/help_good_for_wrike/212888505-Wrike-and-GitHub-Sync-Setup-Guide.csv\n",
      "Saving as : /home/alex/chat_bot_wrike/wrike-bot/help_good_for_wrike/209605189-Wrike-and-JIRA-Sync-Setup-Guide.csv {'https://help.wrike.com/hc/en-us/articles/115004562709-Wrike-Bot', 'https://help.wrike.com/hc/en-us/articles/360044211853-Project-Syncs-Add-On', 'https://help.wrike.com/hc/en-us/articles/360044211853-Project-Syncs-Add-On#enable'}\n",
      "/home/alex/chat_bot_wrike/wrike-bot/help_good_for_wrike/209605189-Wrike-and-JIRA-Sync-Setup-Guide.csv\n",
      "Saving as : /home/alex/chat_bot_wrike/wrike-bot/help_good_for_wrike/360044211853.csv {'https://help.wrike.com/hc/en-us/articles/115005784145-Wrike-and-GitLab-Sync-Setup-Guide', 'https://help.wrike.com/hc/en-us/articles/209605189-Wrike-and-JIRA-Sync-Setup-Guide', 'https://help.wrike.com/hc/en-us/articles/115005782509-Wrike-and-Bitbucket-Sync-Setup-Guide', 'https://help.wrike.com/hc/en-us/articles/212888505-Wrike-and-GitHub-Sync-Setup-Guide'}\n",
      "/home/alex/chat_bot_wrike/wrike-bot/help_good_for_wrike/360044211853.csv\n",
      "Saving as : /home/alex/chat_bot_wrike/wrike-bot/help_good_for_wrike/209605349-Wrike-and-JIRA-Sync-Overview.csv {'https://help.wrike.com/hc/en-us/articles/360044211853-Project-Syncs-Add-On', 'https://help.wrike.com/hc/en-us/articles/209605189-Wrike-and-JIRA-Sync-Setup-Guide', 'https://help.wrike.com/hc/en-us/articles/209603369-Tags'}\n",
      "/home/alex/chat_bot_wrike/wrike-bot/help_good_for_wrike/209605349-Wrike-and-JIRA-Sync-Overview.csv\n",
      "Saving as : /home/alex/chat_bot_wrike/wrike-bot/help_good_for_wrike/210324125.csv {'https://help.wrike.com/hc/en-us/articles/209603989-Types-of-Licenses', 'https://help.wrike.com/hc/en-us/articles/209603369-Tags', 'https://help.wrike.com/hc/en-us/articles/209603689-Milestones', 'https://help.wrike.com/hc/en-us/articles/209603949-Business', 'https://help.wrike.com/hc/en-us/articles/360010852973-Task-Effort', 'https://help.wrike.com/hc/en-us/articles/360037345013-Export-Data-to-Excel', 'https://help.wrike.com/hc/en-us/articles/360035863834-Wrike-for-Professional-Services', 'https://help.wrike.com/hc/en-us/articles/210322785-Custom-Statuses-and-Workflows', 'https://help.wrike.com/hc/en-us/articles/209603969-Enterprise'}\n",
      "/home/alex/chat_bot_wrike/wrike-bot/help_good_for_wrike/210324125.csv\n",
      "Saving as : /home/alex/chat_bot_wrike/wrike-bot/help_good_for_wrike/115005782509.csv {'https://help.wrike.com/hc/en-us/articles/115004562709-Wrike-Bot', 'https://help.wrike.com/hc/en-us/articles/360044211853-Project-Syncs-Add-On', 'https://help.wrike.com/hc/en-us/articles/360044211853-Project-Syncs-Add-On#enable'}\n",
      "/home/alex/chat_bot_wrike/wrike-bot/help_good_for_wrike/115005782509.csv\n",
      "Saving as : /home/alex/chat_bot_wrike/wrike-bot/help_good_for_wrike/115004562709-Wrike-Bot.csv set()\n",
      "/home/alex/chat_bot_wrike/wrike-bot/help_good_for_wrike/115004562709-Wrike-Bot.csv\n",
      "Saving as : /home/alex/chat_bot_wrike/wrike-bot/help_good_for_wrike/115005784145.csv {'https://help.wrike.com/hc/en-us/articles/115004562709-Wrike-Bot', 'https://help.wrike.com/hc/en-us/articles/360044211853-Project-Syncs-Add-On', 'https://help.wrike.com/hc/en-us/articles/360044211853-Project-Syncs-Add-On#enable'}\n",
      "/home/alex/chat_bot_wrike/wrike-bot/help_good_for_wrike/115005784145.csv\n",
      "Saving as : /home/alex/chat_bot_wrike/wrike-bot/help_good_for_wrike/115005782549.csv {'https://help.wrike.com/hc/en-us/articles/360044211853-Project-Syncs-Add-On', 'https://help.wrike.com/hc/en-us/articles/209603369-Tags'}\n",
      "/home/alex/chat_bot_wrike/wrike-bot/help_good_for_wrike/115005782549.csv\n",
      "Saving as : /home/alex/chat_bot_wrike/wrike-bot/help_good_for_wrike/115005782369.csv {'https://help.wrike.com/hc/en-us/articles/360044211853-Project-Syncs-Add-On', 'https://help.wrike.com/hc/en-us/articles/209603369-Tags'}\n",
      "/home/alex/chat_bot_wrike/wrike-bot/help_good_for_wrike/115005782369.csv\n",
      "Saving as : /home/alex/chat_bot_wrike/wrike-bot/help_good_for_wrike/209605089-G-Suite-Implementation-Guide.csv {'https://help.wrike.com/hc/en-us/articles/209605449-Admin-Permissions'}\n",
      "/home/alex/chat_bot_wrike/wrike-bot/help_good_for_wrike/209605089-G-Suite-Implementation-Guide.csv\n",
      "Saving as : /home/alex/chat_bot_wrike/wrike-bot/help_good_for_wrike/214413365-Google-Calendar-Integration.csv {'https://help.wrike.com/hc/en-us/articles/210324205-G-Suite'}\n",
      "/home/alex/chat_bot_wrike/wrike-bot/help_good_for_wrike/214413365-Google-Calendar-Integration.csv\n",
      "Saving as : /home/alex/chat_bot_wrike/wrike-bot/help_good_for_wrike/209606309-Audit-Log-Reports.csv {'https://help.wrike.com/hc/en-us/articles/115004551205-Log-In-as-Another-User', 'https://help.wrike.com/hc/en-us/articles/360023006313-Approvals', 'https://help.wrike.com/hc/en-us/articles/210324465-One-Time-Passwords#Disable', 'https://help.wrike.com/hc/en-us/articles/360009639733-Guest-Reviews', 'https://help.wrike.com/hc/en-us/articles/210324325-Controlled-Admin-Permissions', 'https://help.wrike.com/hc/en-us/articles/209602969-Sharing'}\n",
      "/home/alex/chat_bot_wrike/wrike-bot/help_good_for_wrike/209606309-Audit-Log-Reports.csv\n",
      "Saving as : /home/alex/chat_bot_wrike/wrike-bot/help_good_for_wrike/209603309.csv {'https://help.wrike.com/hc/en-us/articles/210322865-Document-Editor', 'https://help.wrike.com/hc/en-us/articles/360045949974-Wrike-Proof-for-HTML', 'https://help.wrike.com/hc/en-us/articles/360010504274-Wrike-Publish-MediaValet-Integration', 'https://help.wrike.com/hc/en-us/articles/209603589-Access-Roles', 'https://help.wrike.com/hc/en-us/articles/360024472793-Wrike-Publish-Bynder-Integration'}\n",
      "/home/alex/chat_bot_wrike/wrike-bot/help_good_for_wrike/209603309.csv\n"
     ]
    },
    {
     "name": "stderr",
     "output_type": "stream",
     "text": [
      "2020-09-13 03:31:18 [scrapy.extensions.logstats] INFO: Crawled 6887 pages (at 462 pages/min), scraped 0 items (at 0 items/min)\n"
     ]
    },
    {
     "name": "stdout",
     "output_type": "stream",
     "text": [
      "Saving as : /home/alex/chat_bot_wrike/wrike-bot/help_good_for_wrike/360020103693-My-Wrike-Workspace-Is-Unresponsive-or-Not-Loading.csv {'https://help.wrike.com/hc/en-us/articles/115003289725-Supported-Browsers'}\n",
      "/home/alex/chat_bot_wrike/wrike-bot/help_good_for_wrike/360020103693-My-Wrike-Workspace-Is-Unresponsive-or-Not-Loading.csv\n",
      "Saving as : /home/alex/chat_bot_wrike/wrike-bot/help_good_for_wrike/360020109473-Task-Descriptions-Not-Loading.csv {'https://help.wrike.com/hc/en-us/articles/115003289725-Supported-Browsers', 'https://help.wrike.com/hc/en-us/articles/360004299773-Troubleshooting-Websockets#troubleshooting'}\n",
      "/home/alex/chat_bot_wrike/wrike-bot/help_good_for_wrike/360020109473-Task-Descriptions-Not-Loading.csv\n",
      "Saving as : /home/alex/chat_bot_wrike/wrike-bot/help_good_for_wrike/360004299773-Troubleshooting-Websockets.csv {'https://help.wrike.com/hc/en-us/articles/115003289725-Supported-Browsers'}\n",
      "/home/alex/chat_bot_wrike/wrike-bot/help_good_for_wrike/360004299773-Troubleshooting-Websockets.csv\n",
      "Saving as : /home/alex/chat_bot_wrike/wrike-bot/help_good_for_wrike/209605529-Time-and-Date-Settings.csv set()\n",
      "/home/alex/chat_bot_wrike/wrike-bot/help_good_for_wrike/209605529-Time-and-Date-Settings.csv\n",
      "Saving as : /home/alex/chat_bot_wrike/wrike-bot/help_good_for_wrike/115005069169-Group-Admin.csv {'https://help.wrike.com/hc/en-us/articles/209602989-User-Groups#add', 'https://help.wrike.com/hc/en-us/articles/209602989-User-Groups'}\n",
      "/home/alex/chat_bot_wrike/wrike-bot/help_good_for_wrike/115005069169-Group-Admin.csv\n",
      "Saving as : /home/alex/chat_bot_wrike/wrike-bot/help_good_for_wrike/209606309-Activity-Reports.csv {'https://help.wrike.com/hc/en-us/articles/115004551205-Log-In-as-Another-User', 'https://help.wrike.com/hc/en-us/articles/360023006313-Approvals', 'https://help.wrike.com/hc/en-us/articles/210324465-One-Time-Passwords#Disable', 'https://help.wrike.com/hc/en-us/articles/360009639733-Guest-Reviews', 'https://help.wrike.com/hc/en-us/articles/210324325-Controlled-Admin-Permissions', 'https://help.wrike.com/hc/en-us/articles/209602969-Sharing'}\n",
      "/home/alex/chat_bot_wrike/wrike-bot/help_good_for_wrike/209606309-Activity-Reports.csv\n",
      "Saving as : /home/alex/chat_bot_wrike/wrike-bot/help_good_for_wrike/115004551205-Log-In-as-Another-User.csv {'https://help.wrike.com/hc/en-us/articles/209605489-Multiple-Accounts', 'https://help.wrike.com/hc/en-us/articles/209603969-Enterprise'}\n",
      "/home/alex/chat_bot_wrike/wrike-bot/help_good_for_wrike/115004551205-Log-In-as-Another-User.csv\n",
      "Saving as : /home/alex/chat_bot_wrike/wrike-bot/help_good_for_wrike/360002263254-Wrike-OneLogin-User-Provisioning.csv {'https://help.wrike.com/hc/en-us/articles/209603989-Types-of-Licenses', 'https://help.wrike.com/hc/en-us/articles/209605769-SSO-with-SAML-Implementation-Guide#add', 'https://help.wrike.com/hc/en-us/articles/209605769-SSO-with-SAML-Implementation-Guide'}\n",
      "/home/alex/chat_bot_wrike/wrike-bot/help_good_for_wrike/360002263254-Wrike-OneLogin-User-Provisioning.csv\n",
      "Saving as : /home/alex/chat_bot_wrike/wrike-bot/help_good_for_wrike/360046791773-Wrike-and-Azure-Active-Directory-User-Provisioning.csv {'https://help.wrike.com/hc/en-us/articles/360034273733-SSO-with-Azure', 'https://help.wrike.com/hc/en-us/articles/209603989-Types-of-Licenses', 'https://help.wrike.com/hc/en-us/articles/209605769-SSO-with-SAML-Implementation-Guide#add'}\n",
      "/home/alex/chat_bot_wrike/wrike-bot/help_good_for_wrike/360046791773-Wrike-and-Azure-Active-Directory-User-Provisioning.csv\n",
      "Saving as : /home/alex/chat_bot_wrike/wrike-bot/help_good_for_wrike/212813185-Close-an-Account.csv set()\n",
      "/home/alex/chat_bot_wrike/wrike-bot/help_good_for_wrike/212813185-Close-an-Account.csv\n",
      "Saving as : /home/alex/chat_bot_wrike/wrike-bot/help_good_for_wrike/209605469-User-Management-Chart-Free-and-Professional-.csv {'https://help.wrike.com/hc/en-us/articles/209603989-Types-of-Licenses', 'https://help.wrike.com/hc/en-us/articles/209605449-Admin-Permissions'}\n",
      "/home/alex/chat_bot_wrike/wrike-bot/help_good_for_wrike/209605469-User-Management-Chart-Free-and-Professional-.csv\n",
      "Saving as : /home/alex/chat_bot_wrike/wrike-bot/help_good_for_wrike/360000254229-Wrike-Okta-User-Provisioning.csv {'https://help.wrike.com/hc/en-us/articles/209603989-Types-of-Licenses', 'https://help.wrike.com/hc/en-us/articles/210324505-SSO-with-Okta', 'https://help.wrike.com/hc/en-us/articles/209605769-SSO-with-SAML-Implementation-Guide#add'}\n",
      "/home/alex/chat_bot_wrike/wrike-bot/help_good_for_wrike/360000254229-Wrike-Okta-User-Provisioning.csv\n",
      "Saving as : /home/alex/chat_bot_wrike/wrike-bot/help_good_for_wrike/209605429-Change-Account-Name.csv {'https://help.wrike.com/hc/en-us/articles/210323385-Free', 'https://help.wrike.com/hc/en-us/articles/209603949-Business', 'https://help.wrike.com/hc/en-us/articles/210324325-Controlled-Admin-Permissions', 'https://help.wrike.com/hc/en-us/articles/209603929-Professional', 'https://help.wrike.com/hc/en-us/articles/209603969-Enterprise'}\n",
      "/home/alex/chat_bot_wrike/wrike-bot/help_good_for_wrike/209605429-Change-Account-Name.csv\n",
      "Saving as : /home/alex/chat_bot_wrike/wrike-bot/help_good_for_wrike/209605369-Delete-a-User.csv {'https://help.wrike.com/hc/en-us/articles/209603889-Mass-Editing', 'https://help.wrike.com/hc/en-us/articles/210323385-Free', 'https://help.wrike.com/hc/en-us/articles/209603949-Business', 'https://help.wrike.com/hc/en-us/articles/210324325-Controlled-Admin-Permissions', 'https://help.wrike.com/hc/en-us/articles/209603769-Make-a-Task-Recurrent', 'https://help.wrike.com/hc/en-us/articles/209603929-Professional', 'https://help.wrike.com/hc/en-us/articles/209603969-Enterprise'}\n",
      "/home/alex/chat_bot_wrike/wrike-bot/help_good_for_wrike/209605369-Delete-a-User.csv\n",
      "Saving as : /home/alex/chat_bot_wrike/wrike-bot/help_good_for_wrike/115003289725-Supported-Browsers.csv set()\n",
      "/home/alex/chat_bot_wrike/wrike-bot/help_good_for_wrike/115003289725-Supported-Browsers.csv\n",
      "Saving as : /home/alex/chat_bot_wrike/wrike-bot/help_good_for_wrike/213930869-Step-3-View-All-of-Your-Information-.csv {'https://help.wrike.com/hc/en-us/articles/209603689-Milestones#gantt', 'https://help.wrike.com/hc/en-us/articles/209603709-Tasks#schedule', 'https://help.wrike.com/hc/en-us/articles/210323585-Gantt-Chart-Overview-', 'https://help.wrike.com/hc/en-us/articles/360010428113-Project-Progress', 'https://help.wrike.com/hc/en-us/articles/209604229-Dependencies-on-the-Gantt-Chart-', 'https://help.wrike.com/hc/en-us/articles/209603889-Mass-Editing'}\n",
      "/home/alex/chat_bot_wrike/wrike-bot/help_good_for_wrike/213930869-Step-3-View-All-of-Your-Information-.csv\n",
      "Saving as : /home/alex/chat_bot_wrike/wrike-bot/help_good_for_wrike/360006918953.csv {'https://help.wrike.com/hc/en-us/articles/209603989-Types-of-Licenses'}\n",
      "/home/alex/chat_bot_wrike/wrike-bot/help_good_for_wrike/360006918953.csv\n",
      "Saving as : /home/alex/chat_bot_wrike/wrike-bot/help_good_for_wrike/210324365-Personal-Profile.csv {'https://help.wrike.com/hc/en-us/articles/210324565-SSO-with-SAML-User-Guide'}\n",
      "/home/alex/chat_bot_wrike/wrike-bot/help_good_for_wrike/210324365-Personal-Profile.csv\n",
      "Saving as : /home/alex/chat_bot_wrike/wrike-bot/help_good_for_wrike/360035989794-Job-Roles.csv {'https://help.wrike.com/hc/en-us/articles/360010835433-Workload-Charts', 'https://help.wrike.com/hc/en-us/articles/209603149-Templates#task', 'https://help.wrike.com/hc/en-us/articles/209603589-Access-Roles', 'https://help.wrike.com/hc/en-us/articles/360001871874-User-Management-Chart-Business-and-Enterprise-', 'https://help.wrike.com/hc/en-us/articles/209603269--mentions', 'https://help.wrike.com/hc/en-us/articles/360013445394-Blueprints', 'https://help.wrike.com/hc/en-us/articles/360024767374-Wrike-Resource-Overview', 'https://help.wrike.com/hc/en-us/articles/209602989-User-Groups', 'https://help.wrike.com/hc/en-us/articles/360010852973-Task-Effort#types', 'https://help.wrike.com/hc/en-us/articles/360010852973-Task-Effort#specify', 'https://help.wrike.com/hc/en-us/articles/210323225-Task-View', 'https://help.wrike.com/hc/en-us/articles/210324325-Controlled-Admin-Permissions'}\n",
      "/home/alex/chat_bot_wrike/wrike-bot/help_good_for_wrike/360035989794-Job-Roles.csv\n",
      "Saving as : /home/alex/chat_bot_wrike/wrike-bot/help_good_for_wrike/360006843194.csv {'https://help.wrike.com/hc/en-us/articles/209603989-Types-of-Licenses', 'https://help.wrike.com/hc/en-us/articles/210324365-Personal-Profile'}\n"
     ]
    },
    {
     "name": "stdout",
     "output_type": "stream",
     "text": [
      "/home/alex/chat_bot_wrike/wrike-bot/help_good_for_wrike/360006843194.csv\n",
      "Saving as : /home/alex/chat_bot_wrike/wrike-bot/help_good_for_wrike/209605689-.csv {'https://help.wrike.com/hc/en-us/articles/209603929-Professional', 'https://help.wrike.com/hc/en-us/articles/209603949-Business', 'https://help.wrike.com/hc/en-us/articles/210323385-Free', 'https://help.wrike.com/hc/en-us/articles/209603969-Enterprise'}\n",
      "/home/alex/chat_bot_wrike/wrike-bot/help_good_for_wrike/209605689-.csv\n",
      "Saving as : /home/alex/chat_bot_wrike/wrike-bot/help_good_for_wrike/209605549-Passwords.csv set()\n",
      "/home/alex/chat_bot_wrike/wrike-bot/help_good_for_wrike/209605549-Passwords.csv\n",
      "Saving as : /home/alex/chat_bot_wrike/wrike-bot/help_good_for_wrike/210324385-Upload-an-Avatar.csv set()\n",
      "/home/alex/chat_bot_wrike/wrike-bot/help_good_for_wrike/210324385-Upload-an-Avatar.csv\n",
      "Saving as : /home/alex/chat_bot_wrike/wrike-bot/help_good_for_wrike/209605509-Desktop-Notifications.csv set()\n",
      "/home/alex/chat_bot_wrike/wrike-bot/help_good_for_wrike/209605509-Desktop-Notifications.csv\n",
      "Saving as : /home/alex/chat_bot_wrike/wrike-bot/help_good_for_wrike/209605489-Multiple-Accounts.csv {'https://help.wrike.com/hc/en-us/articles/209603989-Types-of-Licenses', 'https://help.wrike.com/hc/en-us/articles/210323705-Inbox', 'https://help.wrike.com/hc/en-us/articles/209605449-Admin-Permissions#owner', 'https://help.wrike.com/hc/en-us/articles/209603849-Sharing-Tasks', 'https://help.wrike.com/hc/en-us/articles/115004562769-European-Data-Center', 'https://help.wrike.com/hc/en-us/articles/209605689-Purchase-a-Subscription', 'https://help.wrike.com/hc/en-us/articles/209605669-Manage-Subscriptions'}\n",
      "/home/alex/chat_bot_wrike/wrike-bot/help_good_for_wrike/209605489-Multiple-Accounts.csv\n",
      "Saving as : /home/alex/chat_bot_wrike/wrike-bot/help_good_for_wrike/210324405.csv {'https://help.wrike.com/hc/en-us/articles/210322845-Proofing', 'https://help.wrike.com/hc/en-us/articles/209602929-Following', 'https://help.wrike.com/hc/en-us/articles/210324185-Email-Integration', 'https://help.wrike.com/hc/en-us/articles/209603149-Templates', 'https://help.wrike.com/hc/en-us/articles/213930929-Scheduled-Report-Reminders', 'https://help.wrike.com/hc/en-us/articles/209605149-Import-MS-Project-Files', 'https://help.wrike.com/hc/en-us/articles/209605589-Daily-To-Do-Emails', 'https://help.wrike.com/hc/en-us/articles/360023006313-Approvals', 'https://help.wrike.com/hc/en-us/articles/210324125-Import-Data-From-Excel', 'https://help.wrike.com/hc/en-us/articles/209603869-Duplicate-Tasks-and-Subtasks', 'https://help.wrike.com/hc/en-us/articles/209603169-Request-Forms-Submit-a-Form-', 'https://help.wrike.com/hc/en-us/articles/360013445394-Blueprints', 'https://help.wrike.com/hc/en-us/articles/209602989-User-Groups', 'https://help.wrike.com/hc/en-us/articles/209605569-Add-or-Delete-an-Email'}\n",
      "/home/alex/chat_bot_wrike/wrike-bot/help_good_for_wrike/210324405.csv\n",
      "Saving as : /home/alex/chat_bot_wrike/wrike-bot/help_good_for_wrike/213930929-Scheduled-Report-Reminders.csv set()\n",
      "/home/alex/chat_bot_wrike/wrike-bot/help_good_for_wrike/213930929-Scheduled-Report-Reminders.csv\n",
      "Saving as : /home/alex/chat_bot_wrike/wrike-bot/help_good_for_wrike/210323725-Adobe-Extension.csv {'https://help.wrike.com/hc/en-us/articles/209603949-Business', 'https://help.wrike.com/hc/en-us/articles/209603309-Attachments', 'https://help.wrike.com/hc/en-us/articles/210412605-Wrike-for-Marketers', 'https://help.wrike.com/hc/en-us/articles/360034765174-Personal-Space#todo', 'https://help.wrike.com/hc/en-us/articles/209603969-Enterprise'}\n",
      "/home/alex/chat_bot_wrike/wrike-bot/help_good_for_wrike/210323725-Adobe-Extension.csv\n",
      "Saving as : /home/alex/chat_bot_wrike/wrike-bot/help_good_for_wrike/210323325-Sorting-and-Prioritizing-Tasks.csv {'https://help.wrike.com/hc/en-us/articles/210323405-Collaborators', 'https://help.wrike.com/hc/en-us/articles/209603369-Tags', 'https://help.wrike.com/hc/en-us/articles/209603829-Importance', 'https://help.wrike.com/hc/en-us/articles/209603069-Filters', 'https://help.wrike.com/hc/en-us/articles/360023006313-Approvals', 'https://help.wrike.com/hc/en-us/articles/209602969-Sharing', 'https://help.wrike.com/hc/en-us/articles/209603949-Business', 'https://help.wrike.com/hc/en-us/articles/210323205-Backlogged-Tasks', 'https://help.wrike.com/hc/en-us/articles/209603049-Custom-Fields', 'https://help.wrike.com/hc/en-us/articles/210322785-Custom-Statuses-and-Workflows', 'https://help.wrike.com/hc/en-us/articles/209603969-Enterprise'}\n",
      "/home/alex/chat_bot_wrike/wrike-bot/help_good_for_wrike/210323325-Sorting-and-Prioritizing-Tasks.csv\n",
      "Saving as : /home/alex/chat_bot_wrike/wrike-bot/help_good_for_wrike/360036508894.csv {'https://help.wrike.com/hc/en-us/articles/360038191973-Wrike-Analyze-Available-Data'}\n",
      "/home/alex/chat_bot_wrike/wrike-bot/help_good_for_wrike/360036508894.csv\n",
      "Saving as : /home/alex/chat_bot_wrike/wrike-bot/help_good_for_wrike/360010835433-Updated-Workload.csv {'https://help.wrike.com/hc/en-us/articles/209603989-Types-of-Licenses', 'https://help.wrike.com/hc/en-us/articles/360035989794-Job-Roles', 'https://help.wrike.com/hc/en-us/articles/360010835433-Workload-Charts#create', 'https://help.wrike.com/hc/en-us/articles/209602989-User-Groups', 'https://help.wrike.com/hc/en-us/articles/209603589-Access-Roles#permissions', 'https://help.wrike.com/hc/en-us/articles/209603589-Access-Roles#create', 'https://help.wrike.com/hc/en-us/articles/360035863834-Wrike-for-Professional-Services', 'https://help.wrike.com/hc/en-us/articles/360006843194-Work-Schedules-for-Admins', 'https://help.wrike.com/hc/en-us/articles/360010852973-Task-Effort#types', 'https://help.wrike.com/hc/en-us/articles/360024767374-Wrike-Resource-Overview', 'https://help.wrike.com/hc/en-us/articles/360045420254-Backlog-Box', 'https://help.wrike.com/hc/en-us/articles/360045420254-Backlog-Box#display', 'https://help.wrike.com/hc/en-us/articles/360045977633-Manage-Tasks-on-Workload-Charts'}\n",
      "/home/alex/chat_bot_wrike/wrike-bot/help_good_for_wrike/360010835433-Updated-Workload.csv\n",
      "Saving as : /home/alex/chat_bot_wrike/wrike-bot/help_good_for_wrike/360010835433.csv {'https://help.wrike.com/hc/en-us/articles/209603989-Types-of-Licenses', 'https://help.wrike.com/hc/en-us/articles/360035989794-Job-Roles', 'https://help.wrike.com/hc/en-us/articles/360010835433-Workload-Charts#create', 'https://help.wrike.com/hc/en-us/articles/209602989-User-Groups', 'https://help.wrike.com/hc/en-us/articles/209603589-Access-Roles#permissions', 'https://help.wrike.com/hc/en-us/articles/209603589-Access-Roles#create', 'https://help.wrike.com/hc/en-us/articles/360035863834-Wrike-for-Professional-Services', 'https://help.wrike.com/hc/en-us/articles/360006843194-Work-Schedules-for-Admins', 'https://help.wrike.com/hc/en-us/articles/360010852973-Task-Effort#types', 'https://help.wrike.com/hc/en-us/articles/360024767374-Wrike-Resource-Overview', 'https://help.wrike.com/hc/en-us/articles/360045420254-Backlog-Box', 'https://help.wrike.com/hc/en-us/articles/360045420254-Backlog-Box#display', 'https://help.wrike.com/hc/en-us/articles/360045977633-Manage-Tasks-on-Workload-Charts'}\n",
      "/home/alex/chat_bot_wrike/wrike-bot/help_good_for_wrike/360010835433.csv\n",
      "Saving as : /home/alex/chat_bot_wrike/wrike-bot/help_good_for_wrike/360045977633.csv {'https://help.wrike.com/hc/en-us/articles/209603989-Types-of-Licenses', 'https://help.wrike.com/hc/en-us/articles/360010852973-Task-Effort', 'https://help.wrike.com/hc/en-us/articles/360035863834-Wrike-for-Professional-Services', 'https://help.wrike.com/hc/en-us/articles/360010852973-Task-Effort#types', 'https://help.wrike.com/hc/en-us/articles/360024767374-Wrike-Resource-Overview', 'https://help.wrike.com/hc/en-us/articles/360045420254-Backlog-Box', 'https://help.wrike.com/hc/en-us/articles/360045420254-Backlog-Box#display'}\n",
      "/home/alex/chat_bot_wrike/wrike-bot/help_good_for_wrike/360045977633.csv\n",
      "Saving as : /home/alex/chat_bot_wrike/wrike-bot/help_good_for_wrike/360046883294-Custom-Allocation-Limits-in-Workload-Charts.csv {'https://help.wrike.com/hc/en-us/articles/360010835433-Workload-Charts', 'https://help.wrike.com/hc/en-us/articles/360035863834-Wrike-for-Professional-Services', 'https://help.wrike.com/hc/en-us/articles/209603589-Access-Roles', 'https://help.wrike.com/hc/en-us/articles/360024767374-Wrike-Resource-Overview'}\n"
     ]
    },
    {
     "name": "stdout",
     "output_type": "stream",
     "text": [
      "/home/alex/chat_bot_wrike/wrike-bot/help_good_for_wrike/360046883294-Custom-Allocation-Limits-in-Workload-Charts.csv\n",
      "Saving as : /home/alex/chat_bot_wrike/wrike-bot/help_good_for_wrike/360045420254.csv {'https://help.wrike.com/hc/en-us/articles/209603989-Types-of-Licenses', 'https://help.wrike.com/hc/en-us/articles/360010835433-Workload-Charts', 'https://help.wrike.com/hc/en-us/articles/209603169-Request-Forms-Submit-a-Form-', 'https://help.wrike.com/hc/en-us/articles/360035863834-Wrike-for-Professional-Services', 'https://help.wrike.com/hc/en-us/articles/360024767374-Wrike-Resource-Overview', 'https://help.wrike.com/hc/en-us/articles/360045420254-Backlog-Box#display'}\n",
      "/home/alex/chat_bot_wrike/wrike-bot/help_good_for_wrike/360045420254.csv\n",
      "Saving as : /home/alex/chat_bot_wrike/wrike-bot/help_good_for_wrike/115004120265.csv {'https://help.wrike.com/hc/en-us/articles/209603369-Tags', 'https://help.wrike.com/hc/en-us/articles/209603689-Milestones', 'https://help.wrike.com/hc/en-us/articles/115004120265-Dashboard-Widgets#customize', 'https://help.wrike.com/hc/en-us/articles/209603069-Filters', 'https://help.wrike.com/hc/en-us/articles/115004120265-Dashboard-Widgets#edit', 'https://help.wrike.com/hc/en-us/articles/209604469-Dashboards#shareable', 'https://help.wrike.com/hc/en-us/articles/115004120265-Dashboard-Widgets#resize', 'https://help.wrike.com/hc/en-us/articles/209602909-Search'}\n",
      "/home/alex/chat_bot_wrike/wrike-bot/help_good_for_wrike/115004120265.csv\n",
      "Saving as : /home/alex/chat_bot_wrike/wrike-bot/help_good_for_wrike/115004120265.csv {'https://help.wrike.com/hc/en-us/articles/209603369-Tags', 'https://help.wrike.com/hc/en-us/articles/209603689-Milestones', 'https://help.wrike.com/hc/en-us/articles/115004120265-Dashboard-Widgets#customize', 'https://help.wrike.com/hc/en-us/articles/209603069-Filters', 'https://help.wrike.com/hc/en-us/articles/115004120265-Dashboard-Widgets#edit', 'https://help.wrike.com/hc/en-us/articles/209604469-Dashboards#shareable', 'https://help.wrike.com/hc/en-us/articles/115004120265-Dashboard-Widgets#resize', 'https://help.wrike.com/hc/en-us/articles/209602909-Search'}\n",
      "/home/alex/chat_bot_wrike/wrike-bot/help_good_for_wrike/115004120265.csv\n"
     ]
    },
    {
     "name": "stderr",
     "output_type": "stream",
     "text": [
      "2020-09-13 03:32:18 [scrapy.extensions.logstats] INFO: Crawled 7198 pages (at 311 pages/min), scraped 0 items (at 0 items/min)\n"
     ]
    },
    {
     "name": "stdout",
     "output_type": "stream",
     "text": [
      "Saving as : /home/alex/chat_bot_wrike/wrike-bot/help_good_for_wrike/209602969.csv {'https://help.wrike.com/hc/en-us/articles/209602929-Following', 'https://help.wrike.com/hc/en-us/articles/209603989-Types-of-Licenses', 'https://help.wrike.com/hc/en-us/articles/209603649-Subfolders-and-Subprojects', 'https://help.wrike.com/hc/en-us/articles/360012344933-Share-Tasks-Folders-and-Projects-Business-and-Enterprise-', 'https://help.wrike.com/hc/en-us/articles/360008063354-Share-Tasks-Folders-and-Projects-Free-and-Professional-'}\n",
      "/home/alex/chat_bot_wrike/wrike-bot/help_good_for_wrike/209602969.csv\n"
     ]
    },
    {
     "name": "stderr",
     "output_type": "stream",
     "text": [
      "2020-09-13 03:33:19 [scrapy.extensions.logstats] INFO: Crawled 7386 pages (at 188 pages/min), scraped 0 items (at 0 items/min)\n",
      "2020-09-13 03:34:20 [scrapy.extensions.logstats] INFO: Crawled 7601 pages (at 215 pages/min), scraped 0 items (at 0 items/min)\n",
      "2020-09-13 03:35:18 [scrapy.extensions.logstats] INFO: Crawled 7781 pages (at 180 pages/min), scraped 0 items (at 0 items/min)\n",
      "2020-09-13 03:36:19 [scrapy.extensions.logstats] INFO: Crawled 7960 pages (at 179 pages/min), scraped 0 items (at 0 items/min)\n"
     ]
    },
    {
     "name": "stdout",
     "output_type": "stream",
     "text": [
      "Saving as : /home/alex/chat_bot_wrike/wrike-bot/help_good_for_wrike/209603589-Access-Roles?flash_digest=e65b684654591621384b613493d235185daad8b6.csv {'https://help.wrike.com/hc/en-us/articles/209603949-Business', 'https://help.wrike.com/hc/en-us/articles/360035863834-Wrike-for-Professional-Services', 'https://help.wrike.com/hc/en-us/articles/360024767374-Wrike-Resource-Overview', 'https://help.wrike.com/hc/en-us/articles/209602989-User-Groups', 'https://help.wrike.com/hc/en-us/articles/209602969-Sharing#about'}\n",
      "/home/alex/chat_bot_wrike/wrike-bot/help_good_for_wrike/209603589-Access-Roles?flash_digest=e65b684654591621384b613493d235185daad8b6.csv\n"
     ]
    },
    {
     "name": "stderr",
     "output_type": "stream",
     "text": [
      "2020-09-13 03:37:20 [scrapy.extensions.logstats] INFO: Crawled 8154 pages (at 194 pages/min), scraped 0 items (at 0 items/min)\n"
     ]
    },
    {
     "name": "stdout",
     "output_type": "stream",
     "text": [
      "Saving as : /home/alex/chat_bot_wrike/wrike-bot/help_good_for_wrike/360016043273.csv {'https://help.wrike.com/hc/en-us/articles/210324325-Controlled-Admin-Permissions#control', 'https://help.wrike.com/hc/en-us/articles/360010852973-Task-Effort', 'https://help.wrike.com/hc/en-us/articles/360035863834-Wrike-for-Professional-Services'}\n",
      "/home/alex/chat_bot_wrike/wrike-bot/help_good_for_wrike/360016043273.csv\n",
      "Saving as : /home/alex/chat_bot_wrike/wrike-bot/help_good_for_wrike/209603169-Request-Forms.csv {'https://help.wrike.com/hc/en-us/articles/209605389-Branded-Workspace-and-Email-Notifications', 'https://help.wrike.com/hc/en-us/articles/115004742769-External-Request-Forms'}\n",
      "/home/alex/chat_bot_wrike/wrike-bot/help_good_for_wrike/209603169-Request-Forms.csv\n",
      "Saving as : /home/alex/chat_bot_wrike/wrike-bot/help_good_for_wrike/12592462665-Cameron-Korb?filter_by=comments&sort_by=recent_user_activity.csv {'https://help.wrike.com/hc/en-us/categories/200942115-Tasks-Folders-Projects-and-Spaces', 'https://help.wrike.com/hc/en-us/sections/201834259-Advanced', 'https://help.wrike.com/hc/en-us/articles/360010049154-Custom-Field-Management'}\n",
      "/home/alex/chat_bot_wrike/wrike-bot/help_good_for_wrike/12592462665-Cameron-Korb?filter_by=comments&sort_by=recent_user_activity.csv\n",
      "Saving as : /home/alex/chat_bot_wrike/wrike-bot/help_good_for_wrike/115002952109-custom-fields-Display-anywhere-everywhere.csv {'https://help.wrike.com/hc/en-us/articles/360010049154-Custom-Field-Management'}\n",
      "/home/alex/chat_bot_wrike/wrike-bot/help_good_for_wrike/115002952109-custom-fields-Display-anywhere-everywhere.csv\n",
      "Saving as : /home/alex/chat_bot_wrike/wrike-bot/help_good_for_wrike/115002952109-custom-fields-Display-anywhere-everywhere?page=1.csv {'https://help.wrike.com/hc/en-us/articles/360010049154-Custom-Field-Management'}\n"
     ]
    },
    {
     "name": "stderr",
     "output_type": "stream",
     "text": [
      "2020-09-13 03:38:19 [scrapy.extensions.logstats] INFO: Crawled 8319 pages (at 165 pages/min), scraped 0 items (at 0 items/min)\n"
     ]
    },
    {
     "name": "stdout",
     "output_type": "stream",
     "text": [
      "/home/alex/chat_bot_wrike/wrike-bot/help_good_for_wrike/115002952109-custom-fields-Display-anywhere-everywhere?page=1.csv\n"
     ]
    },
    {
     "name": "stderr",
     "output_type": "stream",
     "text": [
      "2020-09-13 03:39:18 [scrapy.extensions.logstats] INFO: Crawled 8594 pages (at 275 pages/min), scraped 0 items (at 0 items/min)\n"
     ]
    },
    {
     "name": "stdout",
     "output_type": "stream",
     "text": [
      "Saving as : /home/alex/chat_bot_wrike/wrike-bot/help_good_for_wrike/360013112694-Is-there-a-way-to-view-the-work-schedules-and-time-off-in-one-calendar.csv {'https://help.wrike.com/hc/en-us/articles/360006843194-Work-Schedules-for-Admins'}\n",
      "/home/alex/chat_bot_wrike/wrike-bot/help_good_for_wrike/360013112694-Is-there-a-way-to-view-the-work-schedules-and-time-off-in-one-calendar.csv\n",
      "Saving as : /home/alex/chat_bot_wrike/wrike-bot/help_good_for_wrike/360013112694-Is-there-a-way-to-view-the-work-schedules-and-time-off-in-one-calendar?page=1.csv {'https://help.wrike.com/hc/en-us/articles/360006843194-Work-Schedules-for-Admins'}\n",
      "/home/alex/chat_bot_wrike/wrike-bot/help_good_for_wrike/360013112694-Is-there-a-way-to-view-the-work-schedules-and-time-off-in-one-calendar?page=1.csv\n",
      "Saving as : /home/alex/chat_bot_wrike/wrike-bot/help_good_for_wrike/115003695025-Delete-custom-fields-.csv {'https://help.wrike.com/hc/en-us/articles/209603049-Custom-Fields'}\n",
      "/home/alex/chat_bot_wrike/wrike-bot/help_good_for_wrike/115003695025-Delete-custom-fields-.csv\n",
      "Saving as : /home/alex/chat_bot_wrike/wrike-bot/help_good_for_wrike/115003695025-Delete-custom-fields-?page=1.csv {'https://help.wrike.com/hc/en-us/articles/209603049-Custom-Fields'}\n",
      "/home/alex/chat_bot_wrike/wrike-bot/help_good_for_wrike/115003695025-Delete-custom-fields-?page=1.csv\n",
      "Saving as : /home/alex/chat_bot_wrike/wrike-bot/help_good_for_wrike/115000164349--Status-Launched-Request-forms-Autopopulate-map-to-custom-fields-on-a-task-folder?page=4.csv {'https://help.wrike.com/hc/en-us/articles/115004740045-Create-a-Request-Form-for-Admins-#response'}\n",
      "/home/alex/chat_bot_wrike/wrike-bot/help_good_for_wrike/115000164349--Status-Launched-Request-forms-Autopopulate-map-to-custom-fields-on-a-task-folder?page=4.csv\n"
     ]
    },
    {
     "name": "stderr",
     "output_type": "stream",
     "text": [
      "2020-09-13 03:40:19 [scrapy.extensions.logstats] INFO: Crawled 8740 pages (at 146 pages/min), scraped 0 items (at 0 items/min)\n",
      "2020-09-13 03:41:18 [scrapy.extensions.logstats] INFO: Crawled 8883 pages (at 143 pages/min), scraped 0 items (at 0 items/min)\n"
     ]
    },
    {
     "name": "stdout",
     "output_type": "stream",
     "text": [
      "Saving as : /home/alex/chat_bot_wrike/wrike-bot/help_good_for_wrike/360040085934.csv {'https://help.wrike.com/hc/en-us/articles/360021542373-Wrike-Integrate', 'https://help.wrike.com/hc/en-us/articles/209603949-Business', 'https://help.wrike.com/hc/en-us/articles/209603969-Enterprise'}\n",
      "/home/alex/chat_bot_wrike/wrike-bot/help_good_for_wrike/360040085934.csv\n",
      "Saving as : /home/alex/chat_bot_wrike/wrike-bot/help_good_for_wrike/360005778794?flash_digest=8b344195a8dfc7553f0d03b30aeb940a44a0c044.csv {'https://help.wrike.com/hc/en-us/articles/210323405-Collaborators', 'https://help.wrike.com/hc/en-us/articles/209603329-Job-Numbers', 'https://help.wrike.com/hc/en-us/articles/209603049-Custom-Fields#create', 'https://help.wrike.com/hc/en-us/articles/210322945-Recycle-Bin', 'https://help.wrike.com/hc/en-us/articles/209603949-Business', 'https://help.wrike.com/hc/en-us/articles/360010852973-Task-Effort', 'https://help.wrike.com/hc/en-us/articles/360035863834-Wrike-for-Professional-Services', 'https://help.wrike.com/hc/en-us/articles/210323325-List-View-Sorting-and-Prioritizing-Tasks#sorting', 'https://help.wrike.com/hc/en-us/articles/360024767374-Wrike-Resource-Overview', 'https://help.wrike.com/hc/en-us/articles/209603049-Custom-Fields', 'https://help.wrike.com/hc/en-us/articles/209603969-Enterprise'}\n",
      "/home/alex/chat_bot_wrike/wrike-bot/help_good_for_wrike/360005778794?flash_digest=8b344195a8dfc7553f0d03b30aeb940a44a0c044.csv\n"
     ]
    },
    {
     "name": "stderr",
     "output_type": "stream",
     "text": [
      "2020-09-13 03:42:19 [scrapy.extensions.logstats] INFO: Crawled 9070 pages (at 187 pages/min), scraped 0 items (at 0 items/min)\n"
     ]
    },
    {
     "name": "stdout",
     "output_type": "stream",
     "text": [
      "Saving as : /home/alex/chat_bot_wrike/wrike-bot/help_good_for_wrike/115003183689-How-do-exponential-fallback-starting-with-1sec-wait-.csv {'https://help.wrike.com/hc/en-us/articles/209603049-Custom-Fields', 'https://help.wrike.com/hc/en-us/articles/210323505-Timelog-View'}\n",
      "/home/alex/chat_bot_wrike/wrike-bot/help_good_for_wrike/115003183689-How-do-exponential-fallback-starting-with-1sec-wait-.csv\n"
     ]
    },
    {
     "name": "stderr",
     "output_type": "stream",
     "text": [
      "2020-09-13 03:43:20 [scrapy.extensions.logstats] INFO: Crawled 9381 pages (at 311 pages/min), scraped 0 items (at 0 items/min)\n",
      "2020-09-13 03:44:19 [scrapy.extensions.logstats] INFO: Crawled 9653 pages (at 272 pages/min), scraped 0 items (at 0 items/min)\n"
     ]
    },
    {
     "name": "stdout",
     "output_type": "stream",
     "text": [
      "Saving as : /home/alex/chat_bot_wrike/wrike-bot/help_good_for_wrike/115001510545-Timeline-change-colours-of-bars.csv {'https://help.wrike.com/hc/en-us/articles/210322805-Permalink'}\n",
      "/home/alex/chat_bot_wrike/wrike-bot/help_good_for_wrike/115001510545-Timeline-change-colours-of-bars.csv\n"
     ]
    },
    {
     "name": "stderr",
     "output_type": "stream",
     "text": [
      "2020-09-13 03:45:20 [scrapy.extensions.logstats] INFO: Crawled 9848 pages (at 195 pages/min), scraped 0 items (at 0 items/min)\n"
     ]
    },
    {
     "name": "stdout",
     "output_type": "stream",
     "text": [
      "Saving as : /home/alex/chat_bot_wrike/wrike-bot/help_good_for_wrike/360049132614-Wrike-Analyze-custom-field-value-sum-and-break-by-not-working?page=1.csv {'https://help.wrike.com/hc/en-us/articles/360036508894-Wrike-Analyze#important'}\n",
      "/home/alex/chat_bot_wrike/wrike-bot/help_good_for_wrike/360049132614-Wrike-Analyze-custom-field-value-sum-and-break-by-not-working?page=1.csv\n"
     ]
    },
    {
     "name": "stderr",
     "output_type": "stream",
     "text": [
      "2020-09-13 03:46:18 [scrapy.extensions.logstats] INFO: Crawled 10064 pages (at 216 pages/min), scraped 0 items (at 0 items/min)\n"
     ]
    },
    {
     "name": "stdout",
     "output_type": "stream",
     "text": [
      "Saving as : /home/alex/chat_bot_wrike/wrike-bot/help_good_for_wrike/208590425-Plotting-out-a-month-worth-of-work-to-6-employees-on-30-projects.csv {'https://help.wrike.com/hc/en-us/articles/360010835433-Workload-Charts'}\n",
      "/home/alex/chat_bot_wrike/wrike-bot/help_good_for_wrike/208590425-Plotting-out-a-month-worth-of-work-to-6-employees-on-30-projects.csv\n",
      "Saving as : /home/alex/chat_bot_wrike/wrike-bot/help_good_for_wrike/207855629-Learned-along-the-way-.csv {'https://help.wrike.com/hc/en-us/articles/209603149-Templates'}\n",
      "/home/alex/chat_bot_wrike/wrike-bot/help_good_for_wrike/207855629-Learned-along-the-way-.csv\n"
     ]
    },
    {
     "name": "stderr",
     "output_type": "stream",
     "text": [
      "2020-09-13 03:47:20 [scrapy.extensions.logstats] INFO: Crawled 10247 pages (at 183 pages/min), scraped 0 items (at 0 items/min)\n",
      "2020-09-13 03:48:19 [scrapy.extensions.logstats] INFO: Crawled 10406 pages (at 159 pages/min), scraped 0 items (at 0 items/min)\n",
      "2020-09-13 03:49:18 [scrapy.extensions.logstats] INFO: Crawled 10559 pages (at 153 pages/min), scraped 0 items (at 0 items/min)\n"
     ]
    },
    {
     "name": "stdout",
     "output_type": "stream",
     "text": [
      "Saving as : /home/alex/chat_bot_wrike/wrike-bot/help_good_for_wrike/208001169-Convert-a-task-to-a-subtask.csv {'https://help.wrike.com/hc/en-us/articles/210323245-Subtasks#convert'}\n",
      "/home/alex/chat_bot_wrike/wrike-bot/help_good_for_wrike/208001169-Convert-a-task-to-a-subtask.csv\n",
      "Saving as : /home/alex/chat_bot_wrike/wrike-bot/help_good_for_wrike/207937429-Quickbooks-integration.csv {'https://help.wrike.com/hc/en-us/articles/209605169-Zapier'}\n",
      "/home/alex/chat_bot_wrike/wrike-bot/help_good_for_wrike/207937429-Quickbooks-integration.csv\n"
     ]
    },
    {
     "name": "stderr",
     "output_type": "stream",
     "text": [
      "2020-09-13 03:50:19 [scrapy.extensions.logstats] INFO: Crawled 10729 pages (at 170 pages/min), scraped 0 items (at 0 items/min)\n",
      "2020-09-13 03:51:21 [scrapy.extensions.logstats] INFO: Crawled 10869 pages (at 140 pages/min), scraped 0 items (at 0 items/min)\n",
      "2020-09-13 03:52:18 [scrapy.extensions.logstats] INFO: Crawled 11342 pages (at 473 pages/min), scraped 0 items (at 0 items/min)\n",
      "2020-09-13 03:53:18 [scrapy.extensions.logstats] INFO: Crawled 11958 pages (at 616 pages/min), scraped 0 items (at 0 items/min)\n"
     ]
    },
    {
     "name": "stdout",
     "output_type": "stream",
     "text": [
      "Saving as : /home/alex/chat_bot_wrike/wrike-bot/help_good_for_wrike/115005876769.csv {'https://help.wrike.com/hc/en-us/sections/201825379-General-Account-Management', 'https://help.wrike.com/hc/en-us/articles/115005876769-Advanced-Custom-Workflows#auto', 'https://help.wrike.com/hc/en-us/articles/209603889-Mass-Editing'}\n",
      "/home/alex/chat_bot_wrike/wrike-bot/help_good_for_wrike/115005876769.csv\n",
      "Saving as : /home/alex/chat_bot_wrike/wrike-bot/help_good_for_wrike/210325145?flash_digest=7fcb1d8358e0764278f98c678f28b5b928b5de7f.csv {'https://help.wrike.com/hc/en-us/articles/209603989-Types-of-Licenses', 'https://help.wrike.com/hc/en-us/articles/209603009-My-Team-Group', 'https://help.wrike.com/hc/en-us/categories/201188645-Getting-Started', 'https://help.wrike.com/hc/en-us/articles/209602989-User-Groups', 'https://help.wrike.com/hc/en-us/articles/213924649-Step-1-Getting-Settled', 'https://help.wrike.com/hc/en-us/articles/209605449-Admin-Permissions'}\n",
      "/home/alex/chat_bot_wrike/wrike-bot/help_good_for_wrike/210325145?flash_digest=7fcb1d8358e0764278f98c678f28b5b928b5de7f.csv\n"
     ]
    },
    {
     "name": "stderr",
     "output_type": "stream",
     "text": [
      "2020-09-13 03:54:18 [scrapy.extensions.logstats] INFO: Crawled 12575 pages (at 617 pages/min), scraped 0 items (at 0 items/min)\n",
      "2020-09-13 03:55:18 [scrapy.extensions.logstats] INFO: Crawled 13118 pages (at 543 pages/min), scraped 0 items (at 0 items/min)\n"
     ]
    },
    {
     "name": "stdout",
     "output_type": "stream",
     "text": [
      "Saving as : /home/alex/chat_bot_wrike/wrike-bot/help_good_for_wrike/209604229.csv {'https://help.wrike.com/hc/en-us/articles/209603689-Milestones#gantt'}\n",
      "/home/alex/chat_bot_wrike/wrike-bot/help_good_for_wrike/209604229.csv\n",
      "Saving as : /home/alex/chat_bot_wrike/wrike-bot/help_good_for_wrike/209605469-User-Management-Chart.csv {'https://help.wrike.com/hc/en-us/articles/209603989-Types-of-Licenses', 'https://help.wrike.com/hc/en-us/articles/209605449-Admin-Permissions'}\n",
      "/home/alex/chat_bot_wrike/wrike-bot/help_good_for_wrike/209605469-User-Management-Chart.csv\n"
     ]
    },
    {
     "name": "stderr",
     "output_type": "stream",
     "text": [
      "2020-09-13 03:56:18 [scrapy.extensions.logstats] INFO: Crawled 13621 pages (at 503 pages/min), scraped 0 items (at 0 items/min)\n"
     ]
    },
    {
     "name": "stdout",
     "output_type": "stream",
     "text": [
      "Saving as : /home/alex/chat_bot_wrike/wrike-bot/help_good_for_wrike/search?filter_by=knowledge_base&query=Diagramas+de+Gantt&utf8=%E2%9C%93.csv {'https://help.wrike.com/hc/en-us/categories/200942125-Work-Views', 'https://help.wrike.com/hc/en-us/sections/201893075-Gantt-Chart'}\n",
      "/home/alex/chat_bot_wrike/wrike-bot/help_good_for_wrike/search?filter_by=knowledge_base&query=Diagramas+de+Gantt&utf8=%E2%9C%93.csv\n",
      "Saving as : /home/alex/chat_bot_wrike/wrike-bot/help_good_for_wrike/115002595645-Time-tracking-for-Professional.csv {'https://help.wrike.com/hc/en-us/articles/209603929-Professional'}\n",
      "/home/alex/chat_bot_wrike/wrike-bot/help_good_for_wrike/115002595645-Time-tracking-for-Professional.csv\n"
     ]
    },
    {
     "name": "stderr",
     "output_type": "stream",
     "text": [
      "2020-09-13 03:57:18 [scrapy.extensions.logstats] INFO: Crawled 15259 pages (at 1638 pages/min), scraped 0 items (at 0 items/min)\n"
     ]
    },
    {
     "name": "stdout",
     "output_type": "stream",
     "text": [
      "Saving as : /home/alex/chat_bot_wrike/wrike-bot/help_good_for_wrike/360023288413.csv {'https://help.wrike.com/hc/en-us/articles/115004740045-Create-a-Request-Form-for-Admins-', 'https://help.wrike.com/hc/en-us/articles/209603169-Request-Forms-Submit-a-Form-', 'https://help.wrike.com/hc/en-us/articles/115004740045-Create-a-Request-Form-for-Admins-#create', 'https://help.wrike.com/hc/en-us/articles/115003404345-Dynamic-Request-Forms'}\n",
      "/home/alex/chat_bot_wrike/wrike-bot/help_good_for_wrike/360023288413.csv\n",
      "Saving as : /home/alex/chat_bot_wrike/wrike-bot/help_good_for_wrike/209603169.csv {'https://help.wrike.com/hc/en-us/articles/209605389-Branded-Workspace-and-Email-Notifications', 'https://help.wrike.com/hc/en-us/articles/115004742769-External-Request-Forms'}\n",
      "/home/alex/chat_bot_wrike/wrike-bot/help_good_for_wrike/209603169.csv\n",
      "Saving as : /home/alex/chat_bot_wrike/wrike-bot/help_good_for_wrike/360013445394.csv {'https://help.wrike.com/hc/en-us/articles/360010835433-Workload-Charts', 'https://help.wrike.com/hc/en-us/articles/210323405-Collaborators'}\n",
      "/home/alex/chat_bot_wrike/wrike-bot/help_good_for_wrike/360013445394.csv\n",
      "Saving as : /home/alex/chat_bot_wrike/wrike-bot/help_good_for_wrike/115004742769.csv {'https://help.wrike.com/hc/en-us/articles/360023288413-Manage-Request-Forms-for-Admins-#delete'}\n",
      "/home/alex/chat_bot_wrike/wrike-bot/help_good_for_wrike/115004742769.csv\n",
      "Saving as : /home/alex/chat_bot_wrike/wrike-bot/help_good_for_wrike/115004740045.csv {'https://help.wrike.com/hc/en-us/articles/115003404345-Dynamic-Request-Forms#conditional', 'https://help.wrike.com/hc/en-us/articles/115003404345-Dynamic-Request-Forms', 'https://help.wrike.com/hc/en-us/articles/209603489-Projects#attributes', 'https://help.wrike.com/hc/en-us/articles/209603169-Request-Forms-Submit-a-Form-', 'https://help.wrike.com/hc/en-us/articles/209603049-Custom-Fields'}\n",
      "/home/alex/chat_bot_wrike/wrike-bot/help_good_for_wrike/115004740045.csv\n"
     ]
    },
    {
     "name": "stderr",
     "output_type": "stream",
     "text": [
      "2020-09-13 03:58:18 [scrapy.extensions.logstats] INFO: Crawled 16258 pages (at 999 pages/min), scraped 0 items (at 0 items/min)\n"
     ]
    },
    {
     "name": "stdout",
     "output_type": "stream",
     "text": [
      "Saving as : /home/alex/chat_bot_wrike/wrike-bot/help_good_for_wrike/search?filter_by=knowledge_base&query=Crea+attivit%C3%A0&utf8=%E2%9C%93.csv {'https://help.wrike.com/hc/en-us/sections/201834259-Advanced', 'https://help.wrike.com/hc/en-us/categories/200942175-Security', 'https://help.wrike.com/hc/en-us/sections/360000935413-Troubleshooting', 'https://help.wrike.com/hc/en-us/sections/201893105-Single-Sign-On', 'https://help.wrike.com/hc/en-us/sections/201834249-Folders-and-Projects', 'https://help.wrike.com/hc/en-us/sections/202365769-Add-ins-and-Extensions', 'https://help.wrike.com/hc/en-us/categories/200942125-Work-Views', 'https://help.wrike.com/hc/en-us/categories/200942115-Tasks-Folders-Projects-and-Spaces', 'https://help.wrike.com/hc/en-us/sections/201893075-Gantt-Chart', 'https://help.wrike.com/hc/en-us/categories/200939185-Integrations', 'https://help.wrike.com/hc/en-us/categories/200913179-Account-Management'}\n",
      "/home/alex/chat_bot_wrike/wrike-bot/help_good_for_wrike/search?filter_by=knowledge_base&query=Crea+attivit%C3%A0&utf8=%E2%9C%93.csv\n",
      "Saving as : /home/alex/chat_bot_wrike/wrike-bot/help_good_for_wrike/search?page=3&query=Crea+attivit%C3%A0&utf8=%E2%9C%93.csv {'https://help.wrike.com/hc/en-us/sections/201834249-Folders-and-Projects', 'https://help.wrike.com/hc/en-us/categories/200942115-Tasks-Folders-Projects-and-Spaces'}\n",
      "/home/alex/chat_bot_wrike/wrike-bot/help_good_for_wrike/search?page=3&query=Crea+attivit%C3%A0&utf8=%E2%9C%93.csv\n"
     ]
    },
    {
     "name": "stderr",
     "output_type": "stream",
     "text": [
      "2020-09-13 03:59:18 [scrapy.extensions.logstats] INFO: Crawled 18012 pages (at 1754 pages/min), scraped 0 items (at 0 items/min)\n"
     ]
    },
    {
     "name": "stdout",
     "output_type": "stream",
     "text": [
      "Saving as : /home/alex/chat_bot_wrike/wrike-bot/help_good_for_wrike/115002372025-Renewal.csv {'https://help.wrike.com/hc/en-us/articles/212813185-Close-an-Account'}\n",
      "/home/alex/chat_bot_wrike/wrike-bot/help_good_for_wrike/115002372025-Renewal.csv\n",
      "Saving as : /home/alex/chat_bot_wrike/wrike-bot/help_good_for_wrike/search?page=12&query=Sharing+folders&utf8=%E2%9C%93.csv {'https://help.wrike.com/hc/en-us/categories/200913179-Account-Management', 'https://help.wrike.com/hc/en-us/sections/201828169-Personal-User-License', 'https://help.wrike.com/hc/en-us/sections/201893045-Organization', 'https://help.wrike.com/hc/en-us/categories/200942115-Tasks-Folders-Projects-and-Spaces'}\n",
      "/home/alex/chat_bot_wrike/wrike-bot/help_good_for_wrike/search?page=12&query=Sharing+folders&utf8=%E2%9C%93.csv\n",
      "Saving as : /home/alex/chat_bot_wrike/wrike-bot/help_good_for_wrike/360014366193-Wrike-Notifications-in-Slack.csv {'https://help.wrike.com/hc/en-us/articles/210324405-Email-Notifications', 'https://help.wrike.com/hc/en-us/articles/211587165-Slack'}\n",
      "/home/alex/chat_bot_wrike/wrike-bot/help_good_for_wrike/360014366193-Wrike-Notifications-in-Slack.csv\n",
      "Saving as : /home/alex/chat_bot_wrike/wrike-bot/help_good_for_wrike/360014366193-Wrike-Notifications-in-Slack?page=1.csv {'https://help.wrike.com/hc/en-us/articles/210324405-Email-Notifications', 'https://help.wrike.com/hc/en-us/articles/211587165-Slack'}\n",
      "/home/alex/chat_bot_wrike/wrike-bot/help_good_for_wrike/360014366193-Wrike-Notifications-in-Slack?page=1.csv\n"
     ]
    },
    {
     "name": "stderr",
     "output_type": "stream",
     "text": [
      "2020-09-13 04:00:18 [scrapy.extensions.logstats] INFO: Crawled 18548 pages (at 536 pages/min), scraped 0 items (at 0 items/min)\n",
      "2020-09-13 04:01:19 [scrapy.extensions.logstats] INFO: Crawled 18846 pages (at 298 pages/min), scraped 0 items (at 0 items/min)\n"
     ]
    },
    {
     "name": "stdout",
     "output_type": "stream",
     "text": [
      "Saving as : /home/alex/chat_bot_wrike/wrike-bot/help_good_for_wrike/search?page=14&query=Sharing+folders&utf8=%E2%9C%93.csv {'https://help.wrike.com/hc/en-us/categories/200942135-Monitoring-Panel', 'https://help.wrike.com/hc/en-us/sections/201893085-Reporting', 'https://help.wrike.com/hc/en-us/sections/201825379-General-Account-Management', 'https://help.wrike.com/hc/en-us/categories/200942155-Types-of-Accounts-and-Licenses', 'https://help.wrike.com/hc/en-us/sections/201893095-Accounts', 'https://help.wrike.com/hc/en-us/sections/201834329-More-Monitoring-Panel-Views', 'https://help.wrike.com/hc/en-us/categories/200913179-Account-Management'}\n",
      "/home/alex/chat_bot_wrike/wrike-bot/help_good_for_wrike/search?page=14&query=Sharing+folders&utf8=%E2%9C%93.csv\n",
      "Saving as : /home/alex/chat_bot_wrike/wrike-bot/help_good_for_wrike/search?page=15&query=Sharing+folders&utf8=%E2%9C%93.csv {'https://help.wrike.com/hc/en-us/sections/201893055-Communication', 'https://help.wrike.com/hc/en-us/categories/200942115-Tasks-Folders-Projects-and-Spaces'}\n",
      "/home/alex/chat_bot_wrike/wrike-bot/help_good_for_wrike/search?page=15&query=Sharing+folders&utf8=%E2%9C%93.csv\n",
      "Saving as : /home/alex/chat_bot_wrike/wrike-bot/help_good_for_wrike/2917063109-Anna-G.csv {'https://help.wrike.com/hc/en-us/sections/202366329-Proofing-and-Approvals', 'https://help.wrike.com/hc/en-us/categories/200942135-Monitoring-Panel', 'https://help.wrike.com/hc/en-us/sections/202423365-Everything-Else', 'https://help.wrike.com/hc/en-us/sections/201834259-Advanced', 'https://help.wrike.com/hc/en-us/categories/200942175-Security', 'https://help.wrike.com/hc/en-us/sections/360004618833-Wrike-Resource', 'https://help.wrike.com/hc/en-us/sections/360001968634-Import-and-Export', 'https://help.wrike.com/hc/en-us/sections/201834349-More-Security-Features', 'https://help.wrike.com/hc/en-us/sections/201834249-Folders-and-Projects', 'https://help.wrike.com/hc/en-us/categories/200942115-Tasks-Folders-Projects-and-Spaces', 'https://help.wrike.com/hc/en-us/categories/200939185-Integrations', 'https://help.wrike.com/hc/en-us/sections/201893055-Communication'}\n",
      "/home/alex/chat_bot_wrike/wrike-bot/help_good_for_wrike/2917063109-Anna-G.csv\n",
      "Saving as : /home/alex/chat_bot_wrike/wrike-bot/help_good_for_wrike/search?page=91&query=Sharing+folders&utf8=%E2%9C%93.csv {'https://help.wrike.com/hc/en-us/categories/201188645-Getting-Started'}\n",
      "/home/alex/chat_bot_wrike/wrike-bot/help_good_for_wrike/search?page=91&query=Sharing+folders&utf8=%E2%9C%93.csv\n"
     ]
    },
    {
     "name": "stderr",
     "output_type": "stream",
     "text": [
      "2020-09-13 04:02:20 [scrapy.extensions.logstats] INFO: Crawled 19023 pages (at 177 pages/min), scraped 0 items (at 0 items/min)\n"
     ]
    },
    {
     "name": "stdout",
     "output_type": "stream",
     "text": [
      "Saving as : /home/alex/chat_bot_wrike/wrike-bot/help_good_for_wrike/115000315265-Release-Notes-December-29.csv {'https://help.wrike.com/hc/en-us/articles/214612765-Report-Templates'}\n",
      "/home/alex/chat_bot_wrike/wrike-bot/help_good_for_wrike/115000315265-Release-Notes-December-29.csv\n",
      "Saving as : /home/alex/chat_bot_wrike/wrike-bot/help_good_for_wrike/search?page=16&query=Sharing+folders&utf8=%E2%9C%93.csv {'https://help.wrike.com/hc/en-us/sections/201834259-Advanced', 'https://help.wrike.com/hc/en-us/sections/201825379-General-Account-Management', 'https://help.wrike.com/hc/en-us/sections/360003697334-Spaces', 'https://help.wrike.com/hc/en-us/sections/360001968634-Import-and-Export', 'https://help.wrike.com/hc/en-us/sections/201893045-Organization', 'https://help.wrike.com/hc/en-us/categories/200942115-Tasks-Folders-Projects-and-Spaces', 'https://help.wrike.com/hc/en-us/categories/200939185-Integrations', 'https://help.wrike.com/hc/en-us/categories/200913179-Account-Management'}\n",
      "/home/alex/chat_bot_wrike/wrike-bot/help_good_for_wrike/search?page=16&query=Sharing+folders&utf8=%E2%9C%93.csv\n"
     ]
    },
    {
     "name": "stderr",
     "output_type": "stream",
     "text": [
      "2020-09-13 04:03:18 [scrapy.extensions.logstats] INFO: Crawled 19358 pages (at 335 pages/min), scraped 0 items (at 0 items/min)\n",
      "2020-09-13 04:04:18 [scrapy.extensions.logstats] INFO: Crawled 20846 pages (at 1488 pages/min), scraped 0 items (at 0 items/min)\n",
      "2020-09-13 04:05:18 [scrapy.extensions.logstats] INFO: Crawled 21583 pages (at 737 pages/min), scraped 0 items (at 0 items/min)\n"
     ]
    },
    {
     "name": "stdout",
     "output_type": "stream",
     "text": [
      "Saving as : /home/alex/chat_bot_wrike/wrike-bot/help_good_for_wrike/360020801333-Time-tracker-for-Collaborators.csv {'https://help.wrike.com/hc/en-us/articles/209603089-Time-Tracking'}\n",
      "/home/alex/chat_bot_wrike/wrike-bot/help_good_for_wrike/360020801333-Time-tracker-for-Collaborators.csv\n",
      "Saving as : /home/alex/chat_bot_wrike/wrike-bot/help_good_for_wrike/360020801333-Time-tracker-for-Collaborators?page=1.csv {'https://help.wrike.com/hc/en-us/articles/209603089-Time-Tracking'}\n",
      "/home/alex/chat_bot_wrike/wrike-bot/help_good_for_wrike/360020801333-Time-tracker-for-Collaborators?page=1.csv\n",
      "Saving as : /home/alex/chat_bot_wrike/wrike-bot/help_good_for_wrike/209603049-.csv {'https://help.wrike.com/hc/en-us/articles/360036858954-Calculated-Custom-Fields', 'https://help.wrike.com/hc/en-us/articles/209603989-Types-of-Licenses', 'https://help.wrike.com/hc/en-us/articles/209603049-Custom-Fields#create', 'https://help.wrike.com/hc/en-us/articles/209604309-Report-Table-Charts#groupings', 'https://help.wrike.com/hc/en-us/articles/209603069-Filters', 'https://help.wrike.com/hc/en-us/articles/209603949-Business', 'https://help.wrike.com/hc/en-us/articles/209603489-Projects#rollup', 'https://help.wrike.com/hc/en-us/articles/209603389-Folder-and-Project-Info-Panels#open', 'https://help.wrike.com/hc/en-us/articles/209603049-Custom-Fields#edit'}\n",
      "/home/alex/chat_bot_wrike/wrike-bot/help_good_for_wrike/209603049-.csv\n"
     ]
    },
    {
     "name": "stderr",
     "output_type": "stream",
     "text": [
      "2020-09-13 04:06:19 [scrapy.extensions.logstats] INFO: Crawled 21775 pages (at 192 pages/min), scraped 0 items (at 0 items/min)\n"
     ]
    },
    {
     "name": "stdout",
     "output_type": "stream",
     "text": [
      "Saving as : /home/alex/chat_bot_wrike/wrike-bot/help_good_for_wrike/360014228973-Navigation.csv {'https://help.wrike.com/hc/en-us/articles/209604049-Analytics-View'}\n",
      "/home/alex/chat_bot_wrike/wrike-bot/help_good_for_wrike/360014228973-Navigation.csv\n"
     ]
    },
    {
     "name": "stderr",
     "output_type": "stream",
     "text": [
      "2020-09-13 04:07:19 [scrapy.extensions.logstats] INFO: Crawled 21953 pages (at 178 pages/min), scraped 0 items (at 0 items/min)\n"
     ]
    },
    {
     "name": "stdout",
     "output_type": "stream",
     "text": [
      "Saving as : /home/alex/chat_bot_wrike/wrike-bot/help_good_for_wrike/search?page=15&query=Gantt+chart&utf8=%E2%9C%93.csv {'https://help.wrike.com/hc/en-us/sections/201834259-Advanced', 'https://help.wrike.com/hc/en-us/categories/200942115-Tasks-Folders-Projects-and-Spaces'}\n",
      "/home/alex/chat_bot_wrike/wrike-bot/help_good_for_wrike/search?page=15&query=Gantt+chart&utf8=%E2%9C%93.csv\n",
      "Saving as : /home/alex/chat_bot_wrike/wrike-bot/help_good_for_wrike/search?filter_by=knowledge_base&query=Diagramme+de+Gantt&utf8=%E2%9C%93.csv {'https://help.wrike.com/hc/en-us/categories/200942125-Work-Views', 'https://help.wrike.com/hc/en-us/sections/201893075-Gantt-Chart'}\n",
      "/home/alex/chat_bot_wrike/wrike-bot/help_good_for_wrike/search?filter_by=knowledge_base&query=Diagramme+de+Gantt&utf8=%E2%9C%93.csv\n"
     ]
    },
    {
     "name": "stderr",
     "output_type": "stream",
     "text": [
      "2020-09-13 04:08:18 [scrapy.extensions.logstats] INFO: Crawled 22190 pages (at 237 pages/min), scraped 0 items (at 0 items/min)\n",
      "2020-09-13 04:09:18 [scrapy.extensions.logstats] INFO: Crawled 24033 pages (at 1843 pages/min), scraped 0 items (at 0 items/min)\n",
      "2020-09-13 04:10:18 [scrapy.extensions.logstats] INFO: Crawled 24917 pages (at 884 pages/min), scraped 0 items (at 0 items/min)\n",
      "2020-09-13 04:11:18 [scrapy.extensions.logstats] INFO: Crawled 25518 pages (at 601 pages/min), scraped 0 items (at 0 items/min)\n",
      "2020-09-13 04:12:18 [scrapy.extensions.logstats] INFO: Crawled 26206 pages (at 688 pages/min), scraped 0 items (at 0 items/min)\n"
     ]
    },
    {
     "name": "stdout",
     "output_type": "stream",
     "text": [
      "Saving as : /home/alex/chat_bot_wrike/wrike-bot/help_good_for_wrike/360025943954-Keyboard-Text-Short-cuts-when-creating-a-task.csv {'https://help.wrike.com/hc/en-us/articles/210324185-Email-Integration#createtask'}\n",
      "/home/alex/chat_bot_wrike/wrike-bot/help_good_for_wrike/360025943954-Keyboard-Text-Short-cuts-when-creating-a-task.csv\n"
     ]
    },
    {
     "name": "stderr",
     "output_type": "stream",
     "text": [
      "2020-09-13 04:13:18 [scrapy.extensions.logstats] INFO: Crawled 27129 pages (at 923 pages/min), scraped 0 items (at 0 items/min)\n",
      "2020-09-13 04:14:20 [scrapy.extensions.logstats] INFO: Crawled 28154 pages (at 1025 pages/min), scraped 0 items (at 0 items/min)\n"
     ]
    },
    {
     "name": "stdout",
     "output_type": "stream",
     "text": [
      "Saving as : /home/alex/chat_bot_wrike/wrike-bot/help_good_for_wrike/search?filter_by=knowledge_base&query=Compartilhar+pastas&utf8=%E2%9C%93.csv {'https://help.wrike.com/hc/en-us/sections/201834349-More-Security-Features', 'https://help.wrike.com/hc/en-us/sections/201828169-Personal-User-License', 'https://help.wrike.com/hc/en-us/categories/200913179-Account-Management', 'https://help.wrike.com/hc/en-us/categories/200942175-Security'}\n",
      "/home/alex/chat_bot_wrike/wrike-bot/help_good_for_wrike/search?filter_by=knowledge_base&query=Compartilhar+pastas&utf8=%E2%9C%93.csv\n"
     ]
    },
    {
     "name": "stderr",
     "output_type": "stream",
     "text": [
      "2020-09-13 04:15:18 [scrapy.extensions.logstats] INFO: Crawled 29686 pages (at 1532 pages/min), scraped 0 items (at 0 items/min)\n",
      "2020-09-13 04:16:18 [scrapy.extensions.logstats] INFO: Crawled 30754 pages (at 1068 pages/min), scraped 0 items (at 0 items/min)\n"
     ]
    },
    {
     "name": "stdout",
     "output_type": "stream",
     "text": [
      "Saving as : /home/alex/chat_bot_wrike/wrike-bot/help_good_for_wrike/210324205-Google-Apps.csv {'https://help.wrike.com/hc/en-us/articles/210323405-Collaborators', 'https://help.wrike.com/hc/en-us/articles/209605809-iOS-App', 'https://help.wrike.com/hc/en-us/articles/210324605-Android-App', 'https://help.wrike.com/hc/en-us/articles/214413365-Google-Calendar-Integration', 'https://help.wrike.com/hc/en-us/articles/209603309-Attachments'}\n",
      "/home/alex/chat_bot_wrike/wrike-bot/help_good_for_wrike/210324205-Google-Apps.csv\n",
      "Saving as : /home/alex/chat_bot_wrike/wrike-bot/help_good_for_wrike/212888505.csv {'https://help.wrike.com/hc/en-us/articles/115004562709-Wrike-Bot', 'https://help.wrike.com/hc/en-us/articles/360044211853-Project-Syncs-Add-On', 'https://help.wrike.com/hc/en-us/articles/360044211853-Project-Syncs-Add-On#enable'}\n",
      "/home/alex/chat_bot_wrike/wrike-bot/help_good_for_wrike/212888505.csv\n",
      "Saving as : /home/alex/chat_bot_wrike/wrike-bot/help_good_for_wrike/212889465.csv {'https://help.wrike.com/hc/en-us/articles/360044211853-Project-Syncs-Add-On', 'https://help.wrike.com/hc/en-us/articles/209603369-Tags', 'https://help.wrike.com/hc/en-us/articles/212888505-Wrike-and-GitHub-Sync-Setup-Guide'}\n",
      "/home/alex/chat_bot_wrike/wrike-bot/help_good_for_wrike/212889465.csv\n",
      "Saving as : /home/alex/chat_bot_wrike/wrike-bot/help_good_for_wrike/209605189.csv {'https://help.wrike.com/hc/en-us/articles/115004562709-Wrike-Bot', 'https://help.wrike.com/hc/en-us/articles/360044211853-Project-Syncs-Add-On', 'https://help.wrike.com/hc/en-us/articles/360044211853-Project-Syncs-Add-On#enable'}\n",
      "/home/alex/chat_bot_wrike/wrike-bot/help_good_for_wrike/209605189.csv\n",
      "Saving as : /home/alex/chat_bot_wrike/wrike-bot/help_good_for_wrike/209605349-Wrike-and-JIRA-Sync-User-Guide.csv {'https://help.wrike.com/hc/en-us/articles/360044211853-Project-Syncs-Add-On', 'https://help.wrike.com/hc/en-us/articles/209605189-Wrike-and-JIRA-Sync-Setup-Guide', 'https://help.wrike.com/hc/en-us/articles/209603369-Tags'}\n",
      "/home/alex/chat_bot_wrike/wrike-bot/help_good_for_wrike/209605349-Wrike-and-JIRA-Sync-User-Guide.csv\n"
     ]
    },
    {
     "name": "stderr",
     "output_type": "stream",
     "text": [
      "2020-09-13 04:17:18 [scrapy.extensions.logstats] INFO: Crawled 31309 pages (at 555 pages/min), scraped 0 items (at 0 items/min)\n",
      "2020-09-13 04:18:18 [scrapy.extensions.logstats] INFO: Crawled 33305 pages (at 1996 pages/min), scraped 0 items (at 0 items/min)\n",
      "2020-09-13 04:19:18 [scrapy.extensions.logstats] INFO: Crawled 33960 pages (at 655 pages/min), scraped 0 items (at 0 items/min)\n",
      "2020-09-13 04:20:18 [scrapy.extensions.logstats] INFO: Crawled 34656 pages (at 696 pages/min), scraped 0 items (at 0 items/min)\n"
     ]
    },
    {
     "name": "stdout",
     "output_type": "stream",
     "text": [
      "Saving as : /home/alex/chat_bot_wrike/wrike-bot/help_good_for_wrike/209606309-Audit-Reports.csv {'https://help.wrike.com/hc/en-us/articles/115004551205-Log-In-as-Another-User', 'https://help.wrike.com/hc/en-us/articles/360023006313-Approvals', 'https://help.wrike.com/hc/en-us/articles/210324465-One-Time-Passwords#Disable', 'https://help.wrike.com/hc/en-us/articles/360009639733-Guest-Reviews', 'https://help.wrike.com/hc/en-us/articles/210324325-Controlled-Admin-Permissions', 'https://help.wrike.com/hc/en-us/articles/209602969-Sharing'}\n",
      "/home/alex/chat_bot_wrike/wrike-bot/help_good_for_wrike/209606309-Audit-Reports.csv\n",
      "Saving as : /home/alex/chat_bot_wrike/wrike-bot/help_good_for_wrike/360046791773.csv {'https://help.wrike.com/hc/en-us/articles/360034273733-SSO-with-Azure', 'https://help.wrike.com/hc/en-us/articles/209603989-Types-of-Licenses', 'https://help.wrike.com/hc/en-us/articles/209605769-SSO-with-SAML-Implementation-Guide#add'}\n",
      "/home/alex/chat_bot_wrike/wrike-bot/help_good_for_wrike/360046791773.csv\n",
      "Saving as : /home/alex/chat_bot_wrike/wrike-bot/help_good_for_wrike/360001871874.csv {'https://help.wrike.com/hc/en-us/articles/209602989-User-Groups#create', 'https://help.wrike.com/hc/en-us/articles/209603989-Types-of-Licenses', 'https://help.wrike.com/hc/en-us/articles/360035989794-Job-Roles', 'https://help.wrike.com/hc/en-us/articles/209603969-Enterprise', 'https://help.wrike.com/hc/en-us/articles/209602989-User-Groups#add', 'https://help.wrike.com/hc/en-us/articles/209605469-User-Management-Chart-Free-and-Professional-', 'https://help.wrike.com/hc/en-us/articles/209605449-Admin-Permissions#grant', 'https://help.wrike.com/hc/en-us/articles/209602989-User-Groups#remove', 'https://help.wrike.com/hc/en-us/articles/209602989-User-Groups', 'https://help.wrike.com/hc/en-us/articles/209603989-Types-of-Licenses#edit', 'https://help.wrike.com/hc/en-us/articles/115004530005-Deactivate-Users', 'https://help.wrike.com/hc/en-us/articles/360035863834-Wrike-for-Professional-Services', 'https://help.wrike.com/hc/en-us/articles/360024767374-Wrike-Resource-Overview', 'https://help.wrike.com/hc/en-us/articles/115005069169-Group-Admin', 'https://help.wrike.com/hc/en-us/articles/210324325-Controlled-Admin-Permissions'}\n",
      "/home/alex/chat_bot_wrike/wrike-bot/help_good_for_wrike/360001871874.csv\n"
     ]
    },
    {
     "name": "stderr",
     "output_type": "stream",
     "text": [
      "2020-09-13 04:21:18 [scrapy.extensions.logstats] INFO: Crawled 35204 pages (at 548 pages/min), scraped 0 items (at 0 items/min)\n",
      "2020-09-13 04:22:18 [scrapy.extensions.logstats] INFO: Crawled 35399 pages (at 195 pages/min), scraped 0 items (at 0 items/min)\n",
      "2020-09-13 04:23:21 [scrapy.extensions.logstats] INFO: Crawled 35520 pages (at 121 pages/min), scraped 0 items (at 0 items/min)\n",
      "2020-09-13 04:24:18 [scrapy.extensions.logstats] INFO: Crawled 35695 pages (at 175 pages/min), scraped 0 items (at 0 items/min)\n",
      "2020-09-13 04:25:18 [scrapy.extensions.logstats] INFO: Crawled 35906 pages (at 211 pages/min), scraped 0 items (at 0 items/min)\n",
      "2020-09-13 04:26:20 [scrapy.extensions.logstats] INFO: Crawled 36091 pages (at 185 pages/min), scraped 0 items (at 0 items/min)\n",
      "2020-09-13 04:27:25 [scrapy.extensions.logstats] INFO: Crawled 36201 pages (at 110 pages/min), scraped 0 items (at 0 items/min)\n"
     ]
    },
    {
     "name": "stdout",
     "output_type": "stream",
     "text": [
      "Saving as : /home/alex/chat_bot_wrike/wrike-bot/help_good_for_wrike/360021542373.csv {'https://help.wrike.com/hc/en-us/articles/210324325-Controlled-Admin-Permissions'}\n",
      "/home/alex/chat_bot_wrike/wrike-bot/help_good_for_wrike/360021542373.csv\n"
     ]
    },
    {
     "name": "stderr",
     "output_type": "stream",
     "text": [
      "2020-09-13 04:28:18 [scrapy.extensions.logstats] INFO: Crawled 36373 pages (at 172 pages/min), scraped 0 items (at 0 items/min)\n"
     ]
    },
    {
     "name": "stdout",
     "output_type": "stream",
     "text": [
      "Saving as : /home/alex/chat_bot_wrike/wrike-bot/help_good_for_wrike/115000266805-Default-view-on-Folders.csv {'https://help.wrike.com/hc/en-us/articles/209604449-Reports-Overview#builder'}\n",
      "/home/alex/chat_bot_wrike/wrike-bot/help_good_for_wrike/115000266805-Default-view-on-Folders.csv\n",
      "Saving as : /home/alex/chat_bot_wrike/wrike-bot/help_good_for_wrike/115000266805-Default-view-on-Folders?page=1.csv {'https://help.wrike.com/hc/en-us/articles/209604449-Reports-Overview#builder'}\n",
      "/home/alex/chat_bot_wrike/wrike-bot/help_good_for_wrike/115000266805-Default-view-on-Folders?page=1.csv\n"
     ]
    },
    {
     "name": "stderr",
     "output_type": "stream",
     "text": [
      "2020-09-13 04:29:18 [scrapy.extensions.logstats] INFO: Crawled 36498 pages (at 125 pages/min), scraped 0 items (at 0 items/min)\n",
      "2020-09-13 04:30:19 [scrapy.extensions.logstats] INFO: Crawled 36748 pages (at 250 pages/min), scraped 0 items (at 0 items/min)\n",
      "2020-09-13 04:31:21 [scrapy.extensions.logstats] INFO: Crawled 36838 pages (at 90 pages/min), scraped 0 items (at 0 items/min)\n"
     ]
    },
    {
     "name": "stdout",
     "output_type": "stream",
     "text": [
      "Saving as : /home/alex/chat_bot_wrike/wrike-bot/help_good_for_wrike/115000170609--Status-Launched-Leads-and-Lags-with-Dependencies?page=4.csv {'https://help.wrike.com/hc/en-us/articles/209604229-Dependencies-on-the-Gantt-Chart-'}\n",
      "/home/alex/chat_bot_wrike/wrike-bot/help_good_for_wrike/115000170609--Status-Launched-Leads-and-Lags-with-Dependencies?page=4.csv\n"
     ]
    },
    {
     "name": "stderr",
     "output_type": "stream",
     "text": [
      "2020-09-13 04:32:18 [scrapy.extensions.logstats] INFO: Crawled 36963 pages (at 125 pages/min), scraped 0 items (at 0 items/min)\n"
     ]
    },
    {
     "name": "stdout",
     "output_type": "stream",
     "text": [
      "Saving as : /home/alex/chat_bot_wrike/wrike-bot/help_good_for_wrike/360014210073-Why-Backup-if-you-can-t-restore-.csv {'https://help.wrike.com/hc/en-us/articles/209605749-Account-Backup'}\n",
      "/home/alex/chat_bot_wrike/wrike-bot/help_good_for_wrike/360014210073-Why-Backup-if-you-can-t-restore-.csv\n",
      "Saving as : /home/alex/chat_bot_wrike/wrike-bot/help_good_for_wrike/360014210073-Why-Backup-if-you-can-t-restore-?page=1.csv {'https://help.wrike.com/hc/en-us/articles/209605749-Account-Backup'}\n",
      "/home/alex/chat_bot_wrike/wrike-bot/help_good_for_wrike/360014210073-Why-Backup-if-you-can-t-restore-?page=1.csv\n"
     ]
    },
    {
     "name": "stderr",
     "output_type": "stream",
     "text": [
      "2020-09-13 04:33:18 [scrapy.extensions.logstats] INFO: Crawled 37240 pages (at 277 pages/min), scraped 0 items (at 0 items/min)\n",
      "2020-09-13 04:34:19 [scrapy.extensions.logstats] INFO: Crawled 37445 pages (at 205 pages/min), scraped 0 items (at 0 items/min)\n"
     ]
    },
    {
     "name": "stdout",
     "output_type": "stream",
     "text": [
      "Saving as : /home/alex/chat_bot_wrike/wrike-bot/help_good_for_wrike/360029513493-Allocate-Effort-to-Milestone.csv {'https://help.wrike.com/hc/en-us/articles/209603689-Milestones'}\n",
      "/home/alex/chat_bot_wrike/wrike-bot/help_good_for_wrike/360029513493-Allocate-Effort-to-Milestone.csv\n"
     ]
    },
    {
     "name": "stderr",
     "output_type": "stream",
     "text": [
      "2020-09-13 04:35:19 [scrapy.extensions.logstats] INFO: Crawled 37613 pages (at 168 pages/min), scraped 0 items (at 0 items/min)\n",
      "2020-09-13 04:36:20 [scrapy.extensions.logstats] INFO: Crawled 37763 pages (at 150 pages/min), scraped 0 items (at 0 items/min)\n",
      "2020-09-13 04:37:19 [scrapy.extensions.logstats] INFO: Crawled 37919 pages (at 156 pages/min), scraped 0 items (at 0 items/min)\n",
      "2020-09-13 04:38:19 [scrapy.extensions.logstats] INFO: Crawled 38104 pages (at 185 pages/min), scraped 0 items (at 0 items/min)\n",
      "2020-09-13 04:39:18 [scrapy.extensions.logstats] INFO: Crawled 38209 pages (at 105 pages/min), scraped 0 items (at 0 items/min)\n",
      "2020-09-13 04:40:18 [scrapy.extensions.logstats] INFO: Crawled 38451 pages (at 242 pages/min), scraped 0 items (at 0 items/min)\n",
      "2020-09-13 04:41:20 [scrapy.extensions.logstats] INFO: Crawled 38742 pages (at 291 pages/min), scraped 0 items (at 0 items/min)\n",
      "2020-09-13 04:42:19 [scrapy.extensions.logstats] INFO: Crawled 38896 pages (at 154 pages/min), scraped 0 items (at 0 items/min)\n",
      "2020-09-13 04:43:19 [scrapy.extensions.logstats] INFO: Crawled 39171 pages (at 275 pages/min), scraped 0 items (at 0 items/min)\n"
     ]
    },
    {
     "name": "stdout",
     "output_type": "stream",
     "text": [
      "Saving as : /home/alex/chat_bot_wrike/wrike-bot/help_good_for_wrike/360010504274.csv {'https://help.wrike.com/hc/en-us/articles/210322845-Proofing'}\n",
      "/home/alex/chat_bot_wrike/wrike-bot/help_good_for_wrike/360010504274.csv\n"
     ]
    },
    {
     "name": "stderr",
     "output_type": "stream",
     "text": [
      "2020-09-13 04:44:18 [scrapy.extensions.logstats] INFO: Crawled 39322 pages (at 151 pages/min), scraped 0 items (at 0 items/min)\n"
     ]
    },
    {
     "name": "stdout",
     "output_type": "stream",
     "text": [
      "Saving as : /home/alex/chat_bot_wrike/wrike-bot/help_good_for_wrike/115000120925-Permissions-Auditing.csv {'https://help.wrike.com/hc/en-us/articles/115004551205-Log-In-as-Another-User'}\n",
      "/home/alex/chat_bot_wrike/wrike-bot/help_good_for_wrike/115000120925-Permissions-Auditing.csv\n"
     ]
    },
    {
     "name": "stderr",
     "output_type": "stream",
     "text": [
      "2020-09-13 04:45:21 [scrapy.extensions.logstats] INFO: Crawled 39541 pages (at 219 pages/min), scraped 0 items (at 0 items/min)\n",
      "2020-09-13 04:46:21 [scrapy.extensions.logstats] INFO: Crawled 39754 pages (at 213 pages/min), scraped 0 items (at 0 items/min)\n",
      "2020-09-13 04:47:20 [scrapy.extensions.logstats] INFO: Crawled 39954 pages (at 200 pages/min), scraped 0 items (at 0 items/min)\n",
      "2020-09-13 04:48:18 [scrapy.extensions.logstats] INFO: Crawled 40137 pages (at 183 pages/min), scraped 0 items (at 0 items/min)\n",
      "2020-09-13 04:49:19 [scrapy.extensions.logstats] INFO: Crawled 40285 pages (at 148 pages/min), scraped 0 items (at 0 items/min)\n",
      "2020-09-13 04:50:19 [scrapy.extensions.logstats] INFO: Crawled 40494 pages (at 209 pages/min), scraped 0 items (at 0 items/min)\n"
     ]
    },
    {
     "name": "stdout",
     "output_type": "stream",
     "text": [
      "Saving as : /home/alex/chat_bot_wrike/wrike-bot/help_good_for_wrike/12592462665-Cameron-Korb?filter_by=activities.csv {'https://help.wrike.com/hc/en-us/categories/200942115-Tasks-Folders-Projects-and-Spaces', 'https://help.wrike.com/hc/en-us/sections/201834259-Advanced', 'https://help.wrike.com/hc/en-us/articles/360010049154-Custom-Field-Management'}\n",
      "/home/alex/chat_bot_wrike/wrike-bot/help_good_for_wrike/12592462665-Cameron-Korb?filter_by=activities.csv\n"
     ]
    },
    {
     "name": "stderr",
     "output_type": "stream",
     "text": [
      "2020-09-13 04:51:18 [scrapy.extensions.logstats] INFO: Crawled 40738 pages (at 244 pages/min), scraped 0 items (at 0 items/min)\n",
      "2020-09-13 04:52:18 [scrapy.extensions.logstats] INFO: Crawled 41197 pages (at 459 pages/min), scraped 0 items (at 0 items/min)\n",
      "2020-09-13 04:53:18 [scrapy.extensions.logstats] INFO: Crawled 41641 pages (at 444 pages/min), scraped 0 items (at 0 items/min)\n",
      "2020-09-13 04:54:18 [scrapy.extensions.logstats] INFO: Crawled 42089 pages (at 448 pages/min), scraped 0 items (at 0 items/min)\n",
      "2020-09-13 04:55:20 [scrapy.extensions.logstats] INFO: Crawled 42363 pages (at 274 pages/min), scraped 0 items (at 0 items/min)\n",
      "2020-09-13 04:56:18 [scrapy.extensions.logstats] INFO: Crawled 42502 pages (at 139 pages/min), scraped 0 items (at 0 items/min)\n"
     ]
    },
    {
     "name": "stdout",
     "output_type": "stream",
     "text": [
      "Saving as : /home/alex/chat_bot_wrike/wrike-bot/help_good_for_wrike/115004507949-Your-Feedback-New-Dashboards.csv {'https://help.wrike.com/hc/en-us/articles/209604449-Reports-Overview'}\n",
      "/home/alex/chat_bot_wrike/wrike-bot/help_good_for_wrike/115004507949-Your-Feedback-New-Dashboards.csv\n",
      "Saving as : /home/alex/chat_bot_wrike/wrike-bot/help_good_for_wrike/115004507949-Your-Feedback-New-Dashboards?page=1.csv {'https://help.wrike.com/hc/en-us/articles/209604449-Reports-Overview'}\n",
      "/home/alex/chat_bot_wrike/wrike-bot/help_good_for_wrike/115004507949-Your-Feedback-New-Dashboards?page=1.csv\n",
      "Saving as : /home/alex/chat_bot_wrike/wrike-bot/help_good_for_wrike/360014089453-Subscribe-Team-to-Report-Reminders.csv {'https://help.wrike.com/hc/en-us/articles/213930929-Scheduled-Report-Reminders'}\n",
      "/home/alex/chat_bot_wrike/wrike-bot/help_good_for_wrike/360014089453-Subscribe-Team-to-Report-Reminders.csv\n",
      "Saving as : /home/alex/chat_bot_wrike/wrike-bot/help_good_for_wrike/360014089453-Subscribe-Team-to-Report-Reminders?page=1.csv {'https://help.wrike.com/hc/en-us/articles/213930929-Scheduled-Report-Reminders'}\n",
      "/home/alex/chat_bot_wrike/wrike-bot/help_good_for_wrike/360014089453-Subscribe-Team-to-Report-Reminders?page=1.csv\n"
     ]
    },
    {
     "name": "stderr",
     "output_type": "stream",
     "text": [
      "2020-09-13 04:57:19 [scrapy.extensions.logstats] INFO: Crawled 42653 pages (at 151 pages/min), scraped 0 items (at 0 items/min)\n"
     ]
    },
    {
     "name": "stdout",
     "output_type": "stream",
     "text": [
      "Saving as : /home/alex/chat_bot_wrike/wrike-bot/help_good_for_wrike/360023518314-I-m-an-administrator-but-I-cannot-edit-remove-other-peoples-comments-?page=1.csv {'https://help.wrike.com/hc/en-us/articles/210322825-Comments#edit'}\n",
      "/home/alex/chat_bot_wrike/wrike-bot/help_good_for_wrike/360023518314-I-m-an-administrator-but-I-cannot-edit-remove-other-peoples-comments-?page=1.csv\n",
      "Saving as : /home/alex/chat_bot_wrike/wrike-bot/help_good_for_wrike/360023518314-I-m-an-administrator-but-I-cannot-edit-remove-other-peoples-comments-.csv {'https://help.wrike.com/hc/en-us/articles/210322825-Comments#edit'}\n",
      "/home/alex/chat_bot_wrike/wrike-bot/help_good_for_wrike/360023518314-I-m-an-administrator-but-I-cannot-edit-remove-other-peoples-comments-.csv\n",
      "Saving as : /home/alex/chat_bot_wrike/wrike-bot/help_good_for_wrike/360010428113-Project-Progress-in-Android-App.csv {'https://help.wrike.com/hc/en-us/articles/210324605-Android-App#progress', 'https://help.wrike.com/hc/en-us/articles/209603589-Access-Roles', 'https://help.wrike.com/hc/en-us/articles/210323585-Gantt-Chart-Overview-', 'https://help.wrike.com/hc/en-us/articles/209603949-Business', 'https://help.wrike.com/hc/en-us/articles/209603389-Folder-and-Project-Info-Panels#open', 'https://help.wrike.com/hc/en-us/articles/360010428113-Project-Progress#progress', 'https://help.wrike.com/hc/en-us/articles/115004231249-Wrike-for-Windows-and-Mac-Desktop-App-', 'https://help.wrike.com/hc/en-us/articles/115004120265-Dashboard-Widgets#available'}\n",
      "/home/alex/chat_bot_wrike/wrike-bot/help_good_for_wrike/360010428113-Project-Progress-in-Android-App.csv\n",
      "Saving as : /home/alex/chat_bot_wrike/wrike-bot/help_good_for_wrike/209606309-Audit-Log-Reports?no-translation-es.csv {'https://help.wrike.com/hc/en-us/articles/115004551205-Log-In-as-Another-User', 'https://help.wrike.com/hc/en-us/articles/360023006313-Approvals', 'https://help.wrike.com/hc/en-us/articles/210324465-One-Time-Passwords#Disable', 'https://help.wrike.com/hc/en-us/articles/360009639733-Guest-Reviews', 'https://help.wrike.com/hc/en-us/articles/210324325-Controlled-Admin-Permissions', 'https://help.wrike.com/hc/en-us/articles/209602969-Sharing'}\n",
      "/home/alex/chat_bot_wrike/wrike-bot/help_good_for_wrike/209606309-Audit-Log-Reports?no-translation-es.csv\n"
     ]
    },
    {
     "name": "stderr",
     "output_type": "stream",
     "text": [
      "2020-09-13 04:58:19 [scrapy.extensions.logstats] INFO: Crawled 42801 pages (at 148 pages/min), scraped 0 items (at 0 items/min)\n",
      "2020-09-13 04:59:19 [scrapy.extensions.logstats] INFO: Crawled 42998 pages (at 197 pages/min), scraped 0 items (at 0 items/min)\n",
      "2020-09-13 05:00:21 [scrapy.extensions.logstats] INFO: Crawled 43153 pages (at 155 pages/min), scraped 0 items (at 0 items/min)\n"
     ]
    },
    {
     "name": "stdout",
     "output_type": "stream",
     "text": [
      "Saving as : /home/alex/chat_bot_wrike/wrike-bot/help_good_for_wrike/115003695025-Delete-custom-fields-?page=2.csv {'https://help.wrike.com/hc/en-us/articles/209603049-Custom-Fields'}\n",
      "/home/alex/chat_bot_wrike/wrike-bot/help_good_for_wrike/115003695025-Delete-custom-fields-?page=2.csv\n"
     ]
    },
    {
     "name": "stderr",
     "output_type": "stream",
     "text": [
      "2020-09-13 05:01:18 [scrapy.extensions.logstats] INFO: Crawled 43339 pages (at 186 pages/min), scraped 0 items (at 0 items/min)\n",
      "2020-09-13 05:02:20 [scrapy.extensions.logstats] INFO: Crawled 43523 pages (at 184 pages/min), scraped 0 items (at 0 items/min)\n"
     ]
    },
    {
     "name": "stdout",
     "output_type": "stream",
     "text": [
      "Saving as : /home/alex/chat_bot_wrike/wrike-bot/help_good_for_wrike/209602989.csv {'https://help.wrike.com/hc/en-us/articles/115005069169-Group-Admin', 'https://help.wrike.com/hc/en-us/articles/209603949-Business', 'https://help.wrike.com/hc/en-us/articles/209603969-Enterprise', 'https://help.wrike.com/hc/en-us/articles/210324325-Controlled-Admin-Permissions'}\n",
      "/home/alex/chat_bot_wrike/wrike-bot/help_good_for_wrike/209602989.csv\n",
      "Saving as : /home/alex/chat_bot_wrike/wrike-bot/help_good_for_wrike/115000233605--Status-Investigating-Assign-User-Groups?page=2.csv {'https://help.wrike.com/hc/en-us/articles/209603849-Sharing-Tasks#share'}\n",
      "/home/alex/chat_bot_wrike/wrike-bot/help_good_for_wrike/115000233605--Status-Investigating-Assign-User-Groups?page=2.csv\n"
     ]
    },
    {
     "name": "stderr",
     "output_type": "stream",
     "text": [
      "2020-09-13 05:03:18 [scrapy.extensions.logstats] INFO: Crawled 43648 pages (at 125 pages/min), scraped 0 items (at 0 items/min)\n",
      "2020-09-13 05:04:18 [scrapy.extensions.logstats] INFO: Crawled 43912 pages (at 264 pages/min), scraped 0 items (at 0 items/min)\n"
     ]
    },
    {
     "name": "stdout",
     "output_type": "stream",
     "text": [
      "Saving as : /home/alex/chat_bot_wrike/wrike-bot/help_good_for_wrike/360009639733.csv {'https://help.wrike.com/hc/en-us/articles/210322845-Proofing', 'https://help.wrike.com/hc/en-us/articles/209603589-Access-Roles#permissions', 'https://help.wrike.com/hc/en-us/articles/210322845-Proofing#proofing'}\n",
      "/home/alex/chat_bot_wrike/wrike-bot/help_good_for_wrike/360009639733.csv\n",
      "Saving as : /home/alex/chat_bot_wrike/wrike-bot/help_good_for_wrike/360010504274-Wrike-Publish.csv {'https://help.wrike.com/hc/en-us/articles/210322845-Proofing'}\n",
      "/home/alex/chat_bot_wrike/wrike-bot/help_good_for_wrike/360010504274-Wrike-Publish.csv\n",
      "Saving as : /home/alex/chat_bot_wrike/wrike-bot/help_good_for_wrike/360008254873.csv {'https://help.wrike.com/hc/en-us/articles/115003289725-Supported-Browsers'}\n",
      "/home/alex/chat_bot_wrike/wrike-bot/help_good_for_wrike/360008254873.csv\n",
      "Saving as : /home/alex/chat_bot_wrike/wrike-bot/help_good_for_wrike/210324125-import-data-from-excel.csv {'https://help.wrike.com/hc/en-us/articles/209603989-Types-of-Licenses', 'https://help.wrike.com/hc/en-us/articles/209603369-Tags', 'https://help.wrike.com/hc/en-us/articles/209603689-Milestones', 'https://help.wrike.com/hc/en-us/articles/209603949-Business', 'https://help.wrike.com/hc/en-us/articles/360010852973-Task-Effort', 'https://help.wrike.com/hc/en-us/articles/360037345013-Export-Data-to-Excel', 'https://help.wrike.com/hc/en-us/articles/360035863834-Wrike-for-Professional-Services', 'https://help.wrike.com/hc/en-us/articles/210322785-Custom-Statuses-and-Workflows', 'https://help.wrike.com/hc/en-us/articles/209603969-Enterprise'}\n",
      "/home/alex/chat_bot_wrike/wrike-bot/help_good_for_wrike/210324125-import-data-from-excel.csv\n",
      "Saving as : /home/alex/chat_bot_wrike/wrike-bot/help_good_for_wrike/360001871874-User-Management-Chart-Enterprise-.csv {'https://help.wrike.com/hc/en-us/articles/209602989-User-Groups#create', 'https://help.wrike.com/hc/en-us/articles/209603989-Types-of-Licenses', 'https://help.wrike.com/hc/en-us/articles/360035989794-Job-Roles', 'https://help.wrike.com/hc/en-us/articles/209603969-Enterprise', 'https://help.wrike.com/hc/en-us/articles/209602989-User-Groups#add', 'https://help.wrike.com/hc/en-us/articles/209605469-User-Management-Chart-Free-and-Professional-', 'https://help.wrike.com/hc/en-us/articles/209605449-Admin-Permissions#grant', 'https://help.wrike.com/hc/en-us/articles/209602989-User-Groups#remove', 'https://help.wrike.com/hc/en-us/articles/209602989-User-Groups', 'https://help.wrike.com/hc/en-us/articles/209603989-Types-of-Licenses#edit', 'https://help.wrike.com/hc/en-us/articles/115004530005-Deactivate-Users', 'https://help.wrike.com/hc/en-us/articles/360035863834-Wrike-for-Professional-Services', 'https://help.wrike.com/hc/en-us/articles/360024767374-Wrike-Resource-Overview', 'https://help.wrike.com/hc/en-us/articles/115005069169-Group-Admin', 'https://help.wrike.com/hc/en-us/articles/210324325-Controlled-Admin-Permissions'}\n",
      "/home/alex/chat_bot_wrike/wrike-bot/help_good_for_wrike/360001871874-User-Management-Chart-Enterprise-.csv\n",
      "Saving as : /home/alex/chat_bot_wrike/wrike-bot/help_good_for_wrike/360000328245-Print-Timeline.csv {'https://help.wrike.com/hc/en-us/articles/209603069-Filters'}\n",
      "/home/alex/chat_bot_wrike/wrike-bot/help_good_for_wrike/360000328245-Print-Timeline.csv\n",
      "Saving as : /home/alex/chat_bot_wrike/wrike-bot/help_good_for_wrike/209604509-Microsoft-Office-Add-in.csv {'https://help.wrike.com/hc/en-us/articles/209603989-Types-of-Licenses'}\n",
      "/home/alex/chat_bot_wrike/wrike-bot/help_good_for_wrike/209604509-Microsoft-Office-Add-in.csv\n"
     ]
    },
    {
     "name": "stderr",
     "output_type": "stream",
     "text": [
      "2020-09-13 05:05:18 [scrapy.extensions.logstats] INFO: Crawled 44178 pages (at 266 pages/min), scraped 0 items (at 0 items/min)\n",
      "2020-09-13 05:06:18 [scrapy.extensions.logstats] INFO: Crawled 44392 pages (at 214 pages/min), scraped 0 items (at 0 items/min)\n"
     ]
    },
    {
     "name": "stdout",
     "output_type": "stream",
     "text": [
      "Saving as : /home/alex/chat_bot_wrike/wrike-bot/help_good_for_wrike/210323725-Wrike-Adobe-Creative-Cloud-Extension.csv {'https://help.wrike.com/hc/en-us/articles/209603949-Business', 'https://help.wrike.com/hc/en-us/articles/209603309-Attachments', 'https://help.wrike.com/hc/en-us/articles/210412605-Wrike-for-Marketers', 'https://help.wrike.com/hc/en-us/articles/360034765174-Personal-Space#todo', 'https://help.wrike.com/hc/en-us/articles/209603969-Enterprise'}\n",
      "/home/alex/chat_bot_wrike/wrike-bot/help_good_for_wrike/210323725-Wrike-Adobe-Creative-Cloud-Extension.csv\n",
      "Saving as : /home/alex/chat_bot_wrike/wrike-bot/help_good_for_wrike/213134749-Release-Notes-November-9.csv {'https://help.wrike.com/hc/en-us/articles/210323205-Backlogged-Tasks', 'https://help.wrike.com/hc/en-us/articles/209603049-Custom-Fields', 'https://help.wrike.com/hc/en-us/articles/210323705-Inbox', 'https://help.wrike.com/hc/en-us/articles/209603829-Importance'}\n",
      "/home/alex/chat_bot_wrike/wrike-bot/help_good_for_wrike/213134749-Release-Notes-November-9.csv\n",
      "Saving as : /home/alex/chat_bot_wrike/wrike-bot/help_good_for_wrike/209603889?flash_digest=ef0f8f9c2b81de197d70ad1f87970660c137da62.csv {'https://help.wrike.com/hc/en-us/articles/115005876769-Advanced-Custom-Workflows#how'}\n"
     ]
    },
    {
     "name": "stderr",
     "output_type": "stream",
     "text": [
      "2020-09-13 05:07:19 [scrapy.extensions.logstats] INFO: Crawled 44647 pages (at 255 pages/min), scraped 0 items (at 0 items/min)\n"
     ]
    },
    {
     "name": "stdout",
     "output_type": "stream",
     "text": [
      "/home/alex/chat_bot_wrike/wrike-bot/help_good_for_wrike/209603889?flash_digest=ef0f8f9c2b81de197d70ad1f87970660c137da62.csv\n",
      "Saving as : /home/alex/chat_bot_wrike/wrike-bot/help_good_for_wrike/212889465-Wrike-and-GitHub-Sync-User-Guide.csv {'https://help.wrike.com/hc/en-us/articles/360044211853-Project-Syncs-Add-On', 'https://help.wrike.com/hc/en-us/articles/209603369-Tags', 'https://help.wrike.com/hc/en-us/articles/212888505-Wrike-and-GitHub-Sync-Setup-Guide'}\n",
      "/home/alex/chat_bot_wrike/wrike-bot/help_good_for_wrike/212889465-Wrike-and-GitHub-Sync-User-Guide.csv\n",
      "Saving as : /home/alex/chat_bot_wrike/wrike-bot/help_good_for_wrike/210323725-Adobe-Extension.csv {'https://help.wrike.com/hc/en-us/articles/209603949-Business', 'https://help.wrike.com/hc/en-us/articles/209603309-Attachments', 'https://help.wrike.com/hc/en-us/articles/210412605-Wrike-for-Marketers', 'https://help.wrike.com/hc/en-us/articles/360034765174-Personal-Space#todo', 'https://help.wrike.com/hc/en-us/articles/209603969-Enterprise'}\n",
      "/home/alex/chat_bot_wrike/wrike-bot/help_good_for_wrike/210323725-Adobe-Extension.csv\n",
      "Saving as : /home/alex/chat_bot_wrike/wrike-bot/help_good_for_wrike/210324485-Advanced-Security-Settings.csv {'https://help.wrike.com/hc/en-us/articles/210324325-Controlled-Admin-Permissions#control', 'https://help.wrike.com/hc/en-us/articles/209603989-Types-of-Licenses', 'https://help.wrike.com/hc/en-us/articles/210324445-2-Step-Verification', 'https://help.wrike.com/hc/en-us/articles/210324325-Controlled-Admin-Permissions'}\n",
      "/home/alex/chat_bot_wrike/wrike-bot/help_good_for_wrike/210324485-Advanced-Security-Settings.csv\n",
      "Saving as : /home/alex/chat_bot_wrike/wrike-bot/help_good_for_wrike/115003433025.csv {'https://help.wrike.com/hc/en-us/articles/210324185-Email-Integration'}\n",
      "/home/alex/chat_bot_wrike/wrike-bot/help_good_for_wrike/115003433025.csv\n",
      "Saving as : /home/alex/chat_bot_wrike/wrike-bot/help_good_for_wrike/209604449.csv {'https://help.wrike.com/hc/en-us/articles/209604449-Reports-Overview#builder', 'https://help.wrike.com/hc/en-us/articles/212729565-Share-a-Report', 'https://help.wrike.com/hc/en-us/articles/210323665-Report-Snapshots', 'https://help.wrike.com/hc/en-us/articles/209604309-Report-Table-Charts', 'https://help.wrike.com/hc/en-us/articles/214612765-Report-Templates', 'https://help.wrike.com/hc/en-us/articles/209603949-Business', 'https://help.wrike.com/hc/en-us/articles/210323645-Report-Column-Charts', 'https://help.wrike.com/hc/en-us/articles/209603049-Custom-Fields', 'https://help.wrike.com/hc/en-us/articles/209603489-Projects'}\n",
      "/home/alex/chat_bot_wrike/wrike-bot/help_good_for_wrike/209604449.csv\n",
      "Saving as : /home/alex/chat_bot_wrike/wrike-bot/help_good_for_wrike/115004551205.csv {'https://help.wrike.com/hc/en-us/articles/209605489-Multiple-Accounts', 'https://help.wrike.com/hc/en-us/articles/209603969-Enterprise'}\n",
      "/home/alex/chat_bot_wrike/wrike-bot/help_good_for_wrike/115004551205.csv\n",
      "Saving as : /home/alex/chat_bot_wrike/wrike-bot/help_good_for_wrike/210322845-.csv {'https://help.wrike.com/hc/en-us/articles/360045949974-Wrike-Proof-for-HTML'}\n",
      "/home/alex/chat_bot_wrike/wrike-bot/help_good_for_wrike/210322845-.csv\n",
      "Saving as : /home/alex/chat_bot_wrike/wrike-bot/help_good_for_wrike/209605389-.csv {'https://help.wrike.com/hc/en-us/articles/209603969-Enterprise', 'https://help.wrike.com/hc/en-us/articles/210324405-Email-Notifications#customization', 'https://help.wrike.com/hc/en-us/articles/209603949-Business', 'https://help.wrike.com/hc/en-us/articles/209605449-Admin-Permissions', 'https://help.wrike.com/hc/en-us/articles/210324325-Controlled-Admin-Permissions'}\n",
      "/home/alex/chat_bot_wrike/wrike-bot/help_good_for_wrike/209605389-.csv\n"
     ]
    },
    {
     "name": "stderr",
     "output_type": "stream",
     "text": [
      "2020-09-13 05:08:18 [scrapy.extensions.logstats] INFO: Crawled 45118 pages (at 471 pages/min), scraped 0 items (at 0 items/min)\n"
     ]
    },
    {
     "name": "stdout",
     "output_type": "stream",
     "text": [
      "Saving as : /home/alex/chat_bot_wrike/wrike-bot/help_good_for_wrike/360006918953-Work-Schedules-Users.csv {'https://help.wrike.com/hc/en-us/articles/209603989-Types-of-Licenses'}\n",
      "/home/alex/chat_bot_wrike/wrike-bot/help_good_for_wrike/360006918953-Work-Schedules-Users.csv\n",
      "Saving as : /home/alex/chat_bot_wrike/wrike-bot/help_good_for_wrike/360005778794-Updated-Table-View.csv {'https://help.wrike.com/hc/en-us/articles/210323405-Collaborators', 'https://help.wrike.com/hc/en-us/articles/209603329-Job-Numbers', 'https://help.wrike.com/hc/en-us/articles/209603049-Custom-Fields#create', 'https://help.wrike.com/hc/en-us/articles/210322945-Recycle-Bin', 'https://help.wrike.com/hc/en-us/articles/209603949-Business', 'https://help.wrike.com/hc/en-us/articles/360010852973-Task-Effort', 'https://help.wrike.com/hc/en-us/articles/360035863834-Wrike-for-Professional-Services', 'https://help.wrike.com/hc/en-us/articles/210323325-List-View-Sorting-and-Prioritizing-Tasks#sorting', 'https://help.wrike.com/hc/en-us/articles/360024767374-Wrike-Resource-Overview', 'https://help.wrike.com/hc/en-us/articles/209603049-Custom-Fields', 'https://help.wrike.com/hc/en-us/articles/209603969-Enterprise'}\n",
      "/home/alex/chat_bot_wrike/wrike-bot/help_good_for_wrike/360005778794-Updated-Table-View.csv\n",
      "Saving as : /home/alex/chat_bot_wrike/wrike-bot/help_good_for_wrike/210322785.csv {'https://help.wrike.com/hc/en-us/articles/115005876769-Advanced-Custom-Workflows#how', 'https://help.wrike.com/hc/en-us/articles/209604469-Dashboards', 'https://help.wrike.com/hc/en-us/articles/115005876769-Advanced-Custom-Workflows#auto', 'https://help.wrike.com/hc/en-us/articles/209603949-Business', 'https://help.wrike.com/hc/en-us/articles/209605449-Admin-Permissions', 'https://help.wrike.com/hc/en-us/articles/209603969-Enterprise'}\n",
      "/home/alex/chat_bot_wrike/wrike-bot/help_good_for_wrike/210322785.csv\n",
      "Saving as : /home/alex/chat_bot_wrike/wrike-bot/help_good_for_wrike/209602909.csv {'https://help.wrike.com/hc/en-us/articles/360035989794-Job-Roles', 'https://help.wrike.com/hc/en-us/articles/360020311174-Spaces-Overview#types', 'https://help.wrike.com/hc/en-us/articles/360024767374-Wrike-Resource-Overview', 'https://help.wrike.com/hc/en-us/articles/209603329-Job-Numbers'}\n",
      "/home/alex/chat_bot_wrike/wrike-bot/help_good_for_wrike/209602909.csv\n"
     ]
    },
    {
     "name": "stderr",
     "output_type": "stream",
     "text": [
      "2020-09-13 05:09:18 [scrapy.extensions.logstats] INFO: Crawled 45694 pages (at 576 pages/min), scraped 0 items (at 0 items/min)\n",
      "2020-09-13 05:10:18 [scrapy.extensions.logstats] INFO: Crawled 46514 pages (at 820 pages/min), scraped 0 items (at 0 items/min)\n",
      "2020-09-13 05:11:18 [scrapy.extensions.logstats] INFO: Crawled 47046 pages (at 532 pages/min), scraped 0 items (at 0 items/min)\n",
      "2020-09-13 05:12:19 [scrapy.extensions.logstats] INFO: Crawled 47504 pages (at 458 pages/min), scraped 0 items (at 0 items/min)\n"
     ]
    },
    {
     "name": "stdout",
     "output_type": "stream",
     "text": [
      "Saving as : /home/alex/chat_bot_wrike/wrike-bot/help_good_for_wrike/search?utf8=%E2%9C%93&query=create+a+folder.csv {'https://help.wrike.com/hc/en-us/sections/201834249-Folders-and-Projects', 'https://help.wrike.com/hc/en-us/sections/201834259-Advanced', 'https://help.wrike.com/hc/en-us/categories/200942115-Tasks-Folders-Projects-and-Spaces'}\n",
      "/home/alex/chat_bot_wrike/wrike-bot/help_good_for_wrike/search?utf8=%E2%9C%93&query=create+a+folder.csv\n",
      "Saving as : /home/alex/chat_bot_wrike/wrike-bot/help_good_for_wrike/115003183689-How-do-exponential-fallback-starting-with-1sec-wait-?page=1.csv {'https://help.wrike.com/hc/en-us/articles/209603049-Custom-Fields', 'https://help.wrike.com/hc/en-us/articles/210323505-Timelog-View'}\n",
      "/home/alex/chat_bot_wrike/wrike-bot/help_good_for_wrike/115003183689-How-do-exponential-fallback-starting-with-1sec-wait-?page=1.csv\n",
      "Saving as : /home/alex/chat_bot_wrike/wrike-bot/help_good_for_wrike/115004471689-When-modifying-contacts-via-API-gets-Operation-is-not-allowd-.csv {'https://help.wrike.com/hc/en-us/articles/209603949-Business'}\n",
      "/home/alex/chat_bot_wrike/wrike-bot/help_good_for_wrike/115004471689-When-modifying-contacts-via-API-gets-Operation-is-not-allowd-.csv\n"
     ]
    },
    {
     "name": "stderr",
     "output_type": "stream",
     "text": [
      "2020-09-13 05:13:21 [scrapy.extensions.logstats] INFO: Crawled 47658 pages (at 154 pages/min), scraped 0 items (at 0 items/min)\n",
      "2020-09-13 05:14:19 [scrapy.extensions.logstats] INFO: Crawled 48157 pages (at 499 pages/min), scraped 0 items (at 0 items/min)\n",
      "2020-09-13 05:15:18 [scrapy.extensions.logstats] INFO: Crawled 48633 pages (at 476 pages/min), scraped 0 items (at 0 items/min)\n",
      "2020-09-13 05:16:18 [scrapy.extensions.logstats] INFO: Crawled 48945 pages (at 312 pages/min), scraped 0 items (at 0 items/min)\n",
      "2020-09-13 05:17:22 [scrapy.extensions.logstats] INFO: Crawled 49243 pages (at 298 pages/min), scraped 0 items (at 0 items/min)\n",
      "2020-09-13 05:18:18 [scrapy.extensions.logstats] INFO: Crawled 49682 pages (at 439 pages/min), scraped 0 items (at 0 items/min)\n",
      "2020-09-13 05:19:18 [scrapy.extensions.logstats] INFO: Crawled 49872 pages (at 190 pages/min), scraped 0 items (at 0 items/min)\n",
      "2020-09-13 05:20:19 [scrapy.extensions.logstats] INFO: Crawled 50026 pages (at 154 pages/min), scraped 0 items (at 0 items/min)\n"
     ]
    },
    {
     "name": "stdout",
     "output_type": "stream",
     "text": [
      "Saving as : /home/alex/chat_bot_wrike/wrike-bot/help_good_for_wrike/115000536485-Assign-a-task-based-on-its-folder-project-default-task-owner-.csv {'https://help.wrike.com/hc/en-us/articles/115005876769-Advanced-Custom-Workflows#auto'}\n",
      "/home/alex/chat_bot_wrike/wrike-bot/help_good_for_wrike/115000536485-Assign-a-task-based-on-its-folder-project-default-task-owner-.csv\n",
      "Saving as : /home/alex/chat_bot_wrike/wrike-bot/help_good_for_wrike/115000120925-Permissions-Auditing?page=1.csv {'https://help.wrike.com/hc/en-us/articles/115004551205-Log-In-as-Another-User'}\n",
      "/home/alex/chat_bot_wrike/wrike-bot/help_good_for_wrike/115000120925-Permissions-Auditing?page=1.csv\n",
      "Saving as : /home/alex/chat_bot_wrike/wrike-bot/help_good_for_wrike/115001510545-Timeline-change-colours-of-bars?page=1.csv {'https://help.wrike.com/hc/en-us/articles/210322805-Permalink'}\n",
      "/home/alex/chat_bot_wrike/wrike-bot/help_good_for_wrike/115001510545-Timeline-change-colours-of-bars?page=1.csv\n"
     ]
    },
    {
     "name": "stderr",
     "output_type": "stream",
     "text": [
      "2020-09-13 05:21:18 [scrapy.extensions.logstats] INFO: Crawled 50158 pages (at 132 pages/min), scraped 0 items (at 0 items/min)\n"
     ]
    },
    {
     "name": "stdout",
     "output_type": "stream",
     "text": [
      "Saving as : /home/alex/chat_bot_wrike/wrike-bot/help_good_for_wrike/115004231249-Wrike-for-Windows-and-Mac-Desktop-App-?flash_digest=46bacd536ab4b6fde6a76bcc3a2533b11d07c193.csv {'https://help.wrike.com/hc/en-us/articles/115004231249-Wrike-for-Windows-and-Mac-Desktop-App-#open'}\n",
      "/home/alex/chat_bot_wrike/wrike-bot/help_good_for_wrike/115004231249-Wrike-for-Windows-and-Mac-Desktop-App-?flash_digest=46bacd536ab4b6fde6a76bcc3a2533b11d07c193.csv\n",
      "Saving as : /home/alex/chat_bot_wrike/wrike-bot/help_good_for_wrike/211671189-Include-subtasks-in-task-export-.csv {'https://help.wrike.com/hc/en-us/articles/210323665-Report-Snapshots', 'https://help.wrike.com/hc/en-us/articles/212729565-Share-a-Report', 'https://help.wrike.com/hc/en-us/articles/210323405-Collaborators'}\n",
      "/home/alex/chat_bot_wrike/wrike-bot/help_good_for_wrike/211671189-Include-subtasks-in-task-export-.csv\n",
      "Saving as : /home/alex/chat_bot_wrike/wrike-bot/help_good_for_wrike/360010497373-Is-there-a-way-to-limit-user-access-on-task-level-.csv {'https://help.wrike.com/hc/en-us/articles/209603849-Sharing-Tasks'}\n",
      "/home/alex/chat_bot_wrike/wrike-bot/help_good_for_wrike/360010497373-Is-there-a-way-to-limit-user-access-on-task-level-.csv\n"
     ]
    },
    {
     "name": "stderr",
     "output_type": "stream",
     "text": [
      "2020-09-13 05:22:23 [scrapy.extensions.logstats] INFO: Crawled 50293 pages (at 135 pages/min), scraped 0 items (at 0 items/min)\n",
      "2020-09-13 05:23:19 [scrapy.extensions.logstats] INFO: Crawled 50431 pages (at 138 pages/min), scraped 0 items (at 0 items/min)\n",
      "2020-09-13 05:24:19 [scrapy.extensions.logstats] INFO: Crawled 50581 pages (at 150 pages/min), scraped 0 items (at 0 items/min)\n",
      "2020-09-13 05:25:21 [scrapy.extensions.logstats] INFO: Crawled 50742 pages (at 161 pages/min), scraped 0 items (at 0 items/min)\n"
     ]
    },
    {
     "name": "stdout",
     "output_type": "stream",
     "text": [
      "Saving as : /home/alex/chat_bot_wrike/wrike-bot/help_good_for_wrike/360010347033-Open-App-with-previously-open-tabs.csv {'https://help.wrike.com/hc/en-us/articles/115004231249-Wrike-for-Windows-and-Mac-Desktop-App-'}\n",
      "/home/alex/chat_bot_wrike/wrike-bot/help_good_for_wrike/360010347033-Open-App-with-previously-open-tabs.csv\n",
      "Saving as : /home/alex/chat_bot_wrike/wrike-bot/help_good_for_wrike/360009602094-Transferring-Attachments-Across-Tasks.csv {'https://help.wrike.com/hc/en-us/articles/209603309-Attachments'}\n",
      "/home/alex/chat_bot_wrike/wrike-bot/help_good_for_wrike/360009602094-Transferring-Attachments-Across-Tasks.csv\n",
      "Saving as : /home/alex/chat_bot_wrike/wrike-bot/help_good_for_wrike/360014145253-How-to-Copy-Custom-Reports.csv {'https://help.wrike.com/hc/en-us/articles/212729565-Share-a-Report'}\n",
      "/home/alex/chat_bot_wrike/wrike-bot/help_good_for_wrike/360014145253-How-to-Copy-Custom-Reports.csv\n"
     ]
    },
    {
     "name": "stderr",
     "output_type": "stream",
     "text": [
      "2020-09-13 05:26:21 [scrapy.extensions.logstats] INFO: Crawled 50878 pages (at 136 pages/min), scraped 0 items (at 0 items/min)\n",
      "2020-09-13 05:27:21 [scrapy.extensions.logstats] INFO: Crawled 51257 pages (at 379 pages/min), scraped 0 items (at 0 items/min)\n",
      "2020-09-13 05:28:19 [scrapy.extensions.logstats] INFO: Crawled 51505 pages (at 248 pages/min), scraped 0 items (at 0 items/min)\n"
     ]
    },
    {
     "name": "stdout",
     "output_type": "stream",
     "text": [
      "Saving as : /home/alex/chat_bot_wrike/wrike-bot/help_good_for_wrike/115004455889-Anyone-have-any-best-practices-around-the-Project-Panel-.csv {'https://help.wrike.com/hc/en-us/articles/209603049-Custom-Fields'}\n",
      "/home/alex/chat_bot_wrike/wrike-bot/help_good_for_wrike/115004455889-Anyone-have-any-best-practices-around-the-Project-Panel-.csv\n",
      "Saving as : /home/alex/chat_bot_wrike/wrike-bot/help_good_for_wrike/115002413765-Project-Overview.csv {'https://help.wrike.com/hc/en-us/articles/115000193205-Board-View'}\n",
      "/home/alex/chat_bot_wrike/wrike-bot/help_good_for_wrike/115002413765-Project-Overview.csv\n"
     ]
    },
    {
     "name": "stderr",
     "output_type": "stream",
     "text": [
      "2020-09-13 05:29:19 [scrapy.extensions.logstats] INFO: Crawled 51758 pages (at 253 pages/min), scraped 0 items (at 0 items/min)\n"
     ]
    },
    {
     "name": "stdout",
     "output_type": "stream",
     "text": [
      "Saving as : /home/alex/chat_bot_wrike/wrike-bot/help_good_for_wrike/210325145-Create-a-Folder-Structure.csv {'https://help.wrike.com/hc/en-us/articles/209603989-Types-of-Licenses', 'https://help.wrike.com/hc/en-us/articles/209603009-My-Team-Group', 'https://help.wrike.com/hc/en-us/categories/201188645-Getting-Started', 'https://help.wrike.com/hc/en-us/articles/209602989-User-Groups', 'https://help.wrike.com/hc/en-us/articles/213924649-Step-1-Getting-Settled', 'https://help.wrike.com/hc/en-us/articles/209605449-Admin-Permissions'}\n",
      "/home/alex/chat_bot_wrike/wrike-bot/help_good_for_wrike/210325145-Create-a-Folder-Structure.csv\n"
     ]
    },
    {
     "name": "stderr",
     "output_type": "stream",
     "text": [
      "2020-09-13 05:30:18 [scrapy.extensions.logstats] INFO: Crawled 52120 pages (at 362 pages/min), scraped 0 items (at 0 items/min)\n"
     ]
    },
    {
     "name": "stdout",
     "output_type": "stream",
     "text": [
      "Saving as : /home/alex/chat_bot_wrike/wrike-bot/help_good_for_wrike/115004518309-What-is-List-View-.csv {'https://help.wrike.com/hc/en-us/articles/209603769-Make-a-Task-Recurrent'}\n",
      "/home/alex/chat_bot_wrike/wrike-bot/help_good_for_wrike/115004518309-What-is-List-View-.csv\n",
      "Saving as : /home/alex/chat_bot_wrike/wrike-bot/help_good_for_wrike/208590425-Plotting-out-a-month-worth-of-work-to-6-employees-on-30-projects?page=1.csv {'https://help.wrike.com/hc/en-us/articles/360010835433-Workload-Charts'}\n",
      "/home/alex/chat_bot_wrike/wrike-bot/help_good_for_wrike/208590425-Plotting-out-a-month-worth-of-work-to-6-employees-on-30-projects?page=1.csv\n",
      "Saving as : /home/alex/chat_bot_wrike/wrike-bot/help_good_for_wrike/207855629-Learned-along-the-way-?page=1.csv {'https://help.wrike.com/hc/en-us/articles/209603149-Templates'}\n",
      "/home/alex/chat_bot_wrike/wrike-bot/help_good_for_wrike/207855629-Learned-along-the-way-?page=1.csv\n",
      "Saving as : /home/alex/chat_bot_wrike/wrike-bot/help_good_for_wrike/115003380809-wrike-wrike-com-and-subject-line-repeat.csv {'https://help.wrike.com/hc/en-us/articles/209603169-Request-Forms-Submit-a-Form-'}\n",
      "/home/alex/chat_bot_wrike/wrike-bot/help_good_for_wrike/115003380809-wrike-wrike-com-and-subject-line-repeat.csv\n"
     ]
    },
    {
     "name": "stderr",
     "output_type": "stream",
     "text": [
      "2020-09-13 05:31:18 [scrapy.extensions.logstats] INFO: Crawled 52448 pages (at 328 pages/min), scraped 0 items (at 0 items/min)\n"
     ]
    },
    {
     "name": "stdout",
     "output_type": "stream",
     "text": [
      "Saving as : /home/alex/chat_bot_wrike/wrike-bot/help_good_for_wrike/360014228973-Navigation?page=1.csv {'https://help.wrike.com/hc/en-us/articles/209604049-Analytics-View'}\n",
      "/home/alex/chat_bot_wrike/wrike-bot/help_good_for_wrike/360014228973-Navigation?page=1.csv\n",
      "Saving as : /home/alex/chat_bot_wrike/wrike-bot/help_good_for_wrike/115003695025-Delete-custom-fields.csv {'https://help.wrike.com/hc/en-us/articles/209603049-Custom-Fields'}\n",
      "/home/alex/chat_bot_wrike/wrike-bot/help_good_for_wrike/115003695025-Delete-custom-fields.csv\n",
      "Saving as : /home/alex/chat_bot_wrike/wrike-bot/help_good_for_wrike/360008254873-.csv {'https://help.wrike.com/hc/en-us/articles/115003289725-Supported-Browsers'}\n",
      "/home/alex/chat_bot_wrike/wrike-bot/help_good_for_wrike/360008254873-.csv\n"
     ]
    },
    {
     "name": "stderr",
     "output_type": "stream",
     "text": [
      "2020-09-13 05:32:18 [scrapy.extensions.logstats] INFO: Crawled 52801 pages (at 353 pages/min), scraped 0 items (at 0 items/min)\n",
      "2020-09-13 05:33:18 [scrapy.extensions.logstats] INFO: Crawled 53055 pages (at 254 pages/min), scraped 0 items (at 0 items/min)\n",
      "2020-09-13 05:34:18 [scrapy.extensions.logstats] INFO: Crawled 53344 pages (at 289 pages/min), scraped 0 items (at 0 items/min)\n"
     ]
    },
    {
     "name": "stdout",
     "output_type": "stream",
     "text": [
      "Saving as : /home/alex/chat_bot_wrike/wrike-bot/help_good_for_wrike/360014665293-Deleted-Users-Task-Assignments-should-remain-Visible-in-Filters-Reports-Exports.csv {'https://help.wrike.com/hc/en-us/articles/209603889-Mass-Editing'}\n",
      "/home/alex/chat_bot_wrike/wrike-bot/help_good_for_wrike/360014665293-Deleted-Users-Task-Assignments-should-remain-Visible-in-Filters-Reports-Exports.csv\n",
      "Saving as : /home/alex/chat_bot_wrike/wrike-bot/help_good_for_wrike/360014665293-Deleted-Users-Task-Assignments-should-remain-Visible-in-Filters-Reports-Exports?page=1.csv {'https://help.wrike.com/hc/en-us/articles/209603889-Mass-Editing'}\n",
      "/home/alex/chat_bot_wrike/wrike-bot/help_good_for_wrike/360014665293-Deleted-Users-Task-Assignments-should-remain-Visible-in-Filters-Reports-Exports?page=1.csv\n"
     ]
    },
    {
     "name": "stderr",
     "output_type": "stream",
     "text": [
      "2020-09-13 05:35:19 [scrapy.extensions.logstats] INFO: Crawled 53544 pages (at 200 pages/min), scraped 0 items (at 0 items/min)\n",
      "2020-09-13 05:36:18 [scrapy.extensions.logstats] INFO: Crawled 53852 pages (at 308 pages/min), scraped 0 items (at 0 items/min)\n",
      "2020-09-13 05:37:18 [scrapy.extensions.logstats] INFO: Crawled 54141 pages (at 289 pages/min), scraped 0 items (at 0 items/min)\n"
     ]
    },
    {
     "name": "stdout",
     "output_type": "stream",
     "text": [
      "Saving as : /home/alex/chat_bot_wrike/wrike-bot/help_good_for_wrike/115000274229-More-control-with-dependencies-.csv {'https://help.wrike.com/hc/en-us/articles/115000193205-Board-View'}\n",
      "/home/alex/chat_bot_wrike/wrike-bot/help_good_for_wrike/115000274229-More-control-with-dependencies-.csv\n"
     ]
    },
    {
     "name": "stderr",
     "output_type": "stream",
     "text": [
      "2020-09-13 05:38:19 [scrapy.extensions.logstats] INFO: Crawled 54394 pages (at 253 pages/min), scraped 0 items (at 0 items/min)\n"
     ]
    },
    {
     "name": "stdout",
     "output_type": "stream",
     "text": [
      "Saving as : /home/alex/chat_bot_wrike/wrike-bot/help_good_for_wrike/214413365-Google-Calendar-Integration%20.csv {'https://help.wrike.com/hc/en-us/articles/210324205-G-Suite'}\n",
      "/home/alex/chat_bot_wrike/wrike-bot/help_good_for_wrike/214413365-Google-Calendar-Integration%20.csv\n"
     ]
    },
    {
     "name": "stderr",
     "output_type": "stream",
     "text": [
      "2020-09-13 05:39:18 [scrapy.extensions.logstats] INFO: Crawled 54595 pages (at 201 pages/min), scraped 0 items (at 0 items/min)\n"
     ]
    },
    {
     "name": "stdout",
     "output_type": "stream",
     "text": [
      "Saving as : /home/alex/chat_bot_wrike/wrike-bot/help_good_for_wrike/208001169-Convert-a-task-to-a-subtask?page=1.csv {'https://help.wrike.com/hc/en-us/articles/210323245-Subtasks#convert'}\n",
      "/home/alex/chat_bot_wrike/wrike-bot/help_good_for_wrike/208001169-Convert-a-task-to-a-subtask?page=1.csv\n",
      "Saving as : /home/alex/chat_bot_wrike/wrike-bot/help_good_for_wrike/207937429-Quickbooks-integration?page=1.csv {'https://help.wrike.com/hc/en-us/articles/209605169-Zapier'}\n",
      "/home/alex/chat_bot_wrike/wrike-bot/help_good_for_wrike/207937429-Quickbooks-integration?page=1.csv\n"
     ]
    },
    {
     "name": "stderr",
     "output_type": "stream",
     "text": [
      "2020-09-13 05:40:21 [scrapy.extensions.logstats] INFO: Crawled 54840 pages (at 245 pages/min), scraped 0 items (at 0 items/min)\n",
      "2020-09-13 05:41:19 [scrapy.extensions.logstats] INFO: Crawled 55076 pages (at 236 pages/min), scraped 0 items (at 0 items/min)\n",
      "2020-09-13 05:42:18 [scrapy.extensions.logstats] INFO: Crawled 55347 pages (at 271 pages/min), scraped 0 items (at 0 items/min)\n",
      "2020-09-13 05:43:18 [scrapy.extensions.logstats] INFO: Crawled 55560 pages (at 213 pages/min), scraped 0 items (at 0 items/min)\n",
      "2020-09-13 05:44:18 [scrapy.extensions.logstats] INFO: Crawled 55824 pages (at 264 pages/min), scraped 0 items (at 0 items/min)\n",
      "2020-09-13 05:45:18 [scrapy.extensions.logstats] INFO: Crawled 56121 pages (at 297 pages/min), scraped 0 items (at 0 items/min)\n",
      "2020-09-13 05:46:18 [scrapy.extensions.logstats] INFO: Crawled 56828 pages (at 707 pages/min), scraped 0 items (at 0 items/min)\n",
      "2020-09-13 05:47:18 [scrapy.extensions.logstats] INFO: Crawled 57297 pages (at 469 pages/min), scraped 0 items (at 0 items/min)\n",
      "2020-09-13 05:48:18 [scrapy.extensions.logstats] INFO: Crawled 57869 pages (at 572 pages/min), scraped 0 items (at 0 items/min)\n",
      "2020-09-13 05:49:18 [scrapy.extensions.logstats] INFO: Crawled 58380 pages (at 511 pages/min), scraped 0 items (at 0 items/min)\n",
      "2020-09-13 05:50:18 [scrapy.extensions.logstats] INFO: Crawled 59015 pages (at 635 pages/min), scraped 0 items (at 0 items/min)\n",
      "2020-09-13 05:51:18 [scrapy.extensions.logstats] INFO: Crawled 59579 pages (at 564 pages/min), scraped 0 items (at 0 items/min)\n",
      "2020-09-13 05:52:18 [scrapy.extensions.logstats] INFO: Crawled 60268 pages (at 689 pages/min), scraped 0 items (at 0 items/min)\n",
      "2020-09-13 05:53:18 [scrapy.extensions.logstats] INFO: Crawled 60994 pages (at 726 pages/min), scraped 0 items (at 0 items/min)\n",
      "2020-09-13 05:54:18 [scrapy.extensions.logstats] INFO: Crawled 61599 pages (at 605 pages/min), scraped 0 items (at 0 items/min)\n",
      "2020-09-13 05:55:18 [scrapy.extensions.logstats] INFO: Crawled 62232 pages (at 633 pages/min), scraped 0 items (at 0 items/min)\n",
      "2020-09-13 05:56:18 [scrapy.extensions.logstats] INFO: Crawled 62849 pages (at 617 pages/min), scraped 0 items (at 0 items/min)\n",
      "2020-09-13 05:57:18 [scrapy.extensions.logstats] INFO: Crawled 63406 pages (at 557 pages/min), scraped 0 items (at 0 items/min)\n",
      "2020-09-13 05:58:18 [scrapy.extensions.logstats] INFO: Crawled 64009 pages (at 603 pages/min), scraped 0 items (at 0 items/min)\n",
      "2020-09-13 05:59:19 [scrapy.extensions.logstats] INFO: Crawled 64600 pages (at 591 pages/min), scraped 0 items (at 0 items/min)\n",
      "2020-09-13 06:00:18 [scrapy.extensions.logstats] INFO: Crawled 65200 pages (at 600 pages/min), scraped 0 items (at 0 items/min)\n",
      "2020-09-13 06:01:18 [scrapy.extensions.logstats] INFO: Crawled 65826 pages (at 626 pages/min), scraped 0 items (at 0 items/min)\n",
      "2020-09-13 06:02:18 [scrapy.extensions.logstats] INFO: Crawled 66290 pages (at 464 pages/min), scraped 0 items (at 0 items/min)\n",
      "2020-09-13 06:03:18 [scrapy.extensions.logstats] INFO: Crawled 66990 pages (at 700 pages/min), scraped 0 items (at 0 items/min)\n",
      "2020-09-13 06:04:18 [scrapy.extensions.logstats] INFO: Crawled 67740 pages (at 750 pages/min), scraped 0 items (at 0 items/min)\n",
      "2020-09-13 06:05:18 [scrapy.extensions.logstats] INFO: Crawled 68300 pages (at 560 pages/min), scraped 0 items (at 0 items/min)\n",
      "2020-09-13 06:06:18 [scrapy.extensions.logstats] INFO: Crawled 70205 pages (at 1905 pages/min), scraped 0 items (at 0 items/min)\n",
      "2020-09-13 06:07:18 [scrapy.extensions.logstats] INFO: Crawled 70892 pages (at 687 pages/min), scraped 0 items (at 0 items/min)\n",
      "2020-09-13 06:08:18 [scrapy.extensions.logstats] INFO: Crawled 72623 pages (at 1731 pages/min), scraped 0 items (at 0 items/min)\n"
     ]
    },
    {
     "name": "stdout",
     "output_type": "stream",
     "text": [
      "Saving as : /home/alex/chat_bot_wrike/wrike-bot/help_good_for_wrike/115002372025-Renewal?page=1.csv {'https://help.wrike.com/hc/en-us/articles/212813185-Close-an-Account'}\n",
      "/home/alex/chat_bot_wrike/wrike-bot/help_good_for_wrike/115002372025-Renewal?page=1.csv\n",
      "Saving as : /home/alex/chat_bot_wrike/wrike-bot/help_good_for_wrike/search?page=17&query=Sharing+folders&utf8=%E2%9C%93.csv {'https://help.wrike.com/hc/en-us/categories/200942155-Types-of-Accounts-and-Licenses', 'https://help.wrike.com/hc/en-us/sections/201893095-Accounts', 'https://help.wrike.com/hc/en-us/sections/115001422569-Email', 'https://help.wrike.com/hc/en-us/categories/200939185-Integrations'}\n",
      "/home/alex/chat_bot_wrike/wrike-bot/help_good_for_wrike/search?page=17&query=Sharing+folders&utf8=%E2%9C%93.csv\n"
     ]
    },
    {
     "name": "stderr",
     "output_type": "stream",
     "text": [
      "2020-09-13 06:09:20 [scrapy.extensions.logstats] INFO: Crawled 73135 pages (at 512 pages/min), scraped 0 items (at 0 items/min)\n",
      "2020-09-13 06:10:18 [scrapy.extensions.logstats] INFO: Crawled 73729 pages (at 594 pages/min), scraped 0 items (at 0 items/min)\n",
      "2020-09-13 06:11:18 [scrapy.extensions.logstats] INFO: Crawled 74281 pages (at 552 pages/min), scraped 0 items (at 0 items/min)\n"
     ]
    },
    {
     "name": "stdout",
     "output_type": "stream",
     "text": [
      "Saving as : /home/alex/chat_bot_wrike/wrike-bot/help_good_for_wrike/360012159714-How-to-create-templates-with-assignees-and-not-notify-the-assignee.csv {'https://help.wrike.com/hc/en-us/articles/210323005-Duplicate-a-Folder-or-Project'}\n",
      "/home/alex/chat_bot_wrike/wrike-bot/help_good_for_wrike/360012159714-How-to-create-templates-with-assignees-and-not-notify-the-assignee.csv\n",
      "Saving as : /home/alex/chat_bot_wrike/wrike-bot/help_good_for_wrike/search?page=18&query=Sharing+folders&utf8=%E2%9C%93.csv {'https://help.wrike.com/hc/en-us/sections/201834259-Advanced', 'https://help.wrike.com/hc/en-us/categories/200942115-Tasks-Folders-Projects-and-Spaces'}\n",
      "/home/alex/chat_bot_wrike/wrike-bot/help_good_for_wrike/search?page=18&query=Sharing+folders&utf8=%E2%9C%93.csv\n"
     ]
    },
    {
     "name": "stderr",
     "output_type": "stream",
     "text": [
      "2020-09-13 06:12:18 [scrapy.extensions.logstats] INFO: Crawled 74666 pages (at 385 pages/min), scraped 0 items (at 0 items/min)\n"
     ]
    },
    {
     "name": "stdout",
     "output_type": "stream",
     "text": [
      "Saving as : /home/alex/chat_bot_wrike/wrike-bot/help_good_for_wrike/search?page=19&query=Sharing+folders&utf8=%E2%9C%93.csv {'https://help.wrike.com/hc/en-us/sections/201893035-Tasks', 'https://help.wrike.com/hc/en-us/categories/200942135-Monitoring-Panel', 'https://help.wrike.com/hc/en-us/sections/201893115-Mobile', 'https://help.wrike.com/hc/en-us/sections/360004618833-Wrike-Resource', 'https://help.wrike.com/hc/en-us/categories/200942165-Apps', 'https://help.wrike.com/hc/en-us/categories/200942115-Tasks-Folders-Projects-and-Spaces', 'https://help.wrike.com/hc/en-us/sections/360005750733-Wrike-Analyze'}\n",
      "/home/alex/chat_bot_wrike/wrike-bot/help_good_for_wrike/search?page=19&query=Sharing+folders&utf8=%E2%9C%93.csv\n",
      "Saving as : /home/alex/chat_bot_wrike/wrike-bot/help_good_for_wrike/115001303769-Release-Notes-February-15.csv {'https://help.wrike.com/hc/en-us/articles/210324205-G-Suite', 'https://help.wrike.com/hc/en-us/articles/209604469-Dashboards', 'https://help.wrike.com/hc/en-us/articles/115000193205-Board-View'}\n",
      "/home/alex/chat_bot_wrike/wrike-bot/help_good_for_wrike/115001303769-Release-Notes-February-15.csv\n",
      "Saving as : /home/alex/chat_bot_wrike/wrike-bot/help_good_for_wrike/search?page=20&query=Sharing+folders&utf8=%E2%9C%93.csv {'https://help.wrike.com/hc/en-us/sections/201834339-Licenses', 'https://help.wrike.com/hc/en-us/sections/202365769-Add-ins-and-Extensions', 'https://help.wrike.com/hc/en-us/categories/200942125-Work-Views', 'https://help.wrike.com/hc/en-us/categories/200942155-Types-of-Accounts-and-Licenses', 'https://help.wrike.com/hc/en-us/categories/201188645-Getting-Started', 'https://help.wrike.com/hc/en-us/sections/201893075-Gantt-Chart', 'https://help.wrike.com/hc/en-us/categories/200939185-Integrations'}\n",
      "/home/alex/chat_bot_wrike/wrike-bot/help_good_for_wrike/search?page=20&query=Sharing+folders&utf8=%E2%9C%93.csv\n"
     ]
    },
    {
     "name": "stderr",
     "output_type": "stream",
     "text": [
      "2020-09-13 06:13:18 [scrapy.extensions.logstats] INFO: Crawled 75075 pages (at 409 pages/min), scraped 0 items (at 0 items/min)\n"
     ]
    },
    {
     "name": "stdout",
     "output_type": "stream",
     "text": [
      "Saving as : /home/alex/chat_bot_wrike/wrike-bot/help_good_for_wrike/360012344933.csv {'https://help.wrike.com/hc/en-us/articles/209603669-Sharing-Folders-and-Projects', 'https://help.wrike.com/hc/en-us/articles/209603849-Sharing-Tasks', 'https://help.wrike.com/hc/en-us/articles/209603589-Access-Roles', 'https://help.wrike.com/hc/en-us/articles/360008063354-Share-Tasks-Folders-and-Projects-Free-and-Professional-'}\n",
      "/home/alex/chat_bot_wrike/wrike-bot/help_good_for_wrike/360012344933.csv\n",
      "Saving as : /home/alex/chat_bot_wrike/wrike-bot/help_good_for_wrike/360010852973.csv {'https://help.wrike.com/hc/en-us/articles/209603989-Types-of-Licenses', 'https://help.wrike.com/hc/en-us/articles/360035989794-Job-Roles', 'https://help.wrike.com/hc/en-us/articles/209603689-Milestones', 'https://help.wrike.com/hc/en-us/articles/209603769-Make-a-Task-Recurrent', 'https://help.wrike.com/hc/en-us/articles/360010852973-Task-Effort#types', 'https://help.wrike.com/hc/en-us/articles/360006843194-Work-Schedules-for-Admins'}\n",
      "/home/alex/chat_bot_wrike/wrike-bot/help_good_for_wrike/360010852973.csv\n",
      "Saving as : /home/alex/chat_bot_wrike/wrike-bot/help_good_for_wrike/2917063109-Anna-G?filter_by=articles&sort_by=recent_user_activity.csv {'https://help.wrike.com/hc/en-us/sections/202366329-Proofing-and-Approvals', 'https://help.wrike.com/hc/en-us/categories/200942135-Monitoring-Panel', 'https://help.wrike.com/hc/en-us/sections/201834259-Advanced', 'https://help.wrike.com/hc/en-us/sections/201828169-Personal-User-License', 'https://help.wrike.com/hc/en-us/categories/200942115-Tasks-Folders-Projects-and-Spaces', 'https://help.wrike.com/hc/en-us/sections/201825379-General-Account-Management', 'https://help.wrike.com/hc/en-us/sections/360004618833-Wrike-Resource', 'https://help.wrike.com/hc/en-us/sections/201834309-Table-View', 'https://help.wrike.com/hc/en-us/categories/200942125-Work-Views', 'https://help.wrike.com/hc/en-us/sections/201834289-Timelog-View', 'https://help.wrike.com/hc/en-us/categories/200913179-Account-Management'}\n",
      "/home/alex/chat_bot_wrike/wrike-bot/help_good_for_wrike/2917063109-Anna-G?filter_by=articles&sort_by=recent_user_activity.csv\n"
     ]
    },
    {
     "name": "stderr",
     "output_type": "stream",
     "text": [
      "2020-09-13 06:14:18 [scrapy.extensions.logstats] INFO: Crawled 75499 pages (at 424 pages/min), scraped 0 items (at 0 items/min)\n"
     ]
    },
    {
     "name": "stdout",
     "output_type": "stream",
     "text": [
      "Saving as : /home/alex/chat_bot_wrike/wrike-bot/help_good_for_wrike/search?page=88&query=Sharing+folders&utf8=%E2%9C%93.csv {'https://help.wrike.com/hc/en-us/sections/201834259-Advanced', 'https://help.wrike.com/hc/en-us/categories/200942115-Tasks-Folders-Projects-and-Spaces'}\n",
      "/home/alex/chat_bot_wrike/wrike-bot/help_good_for_wrike/search?page=88&query=Sharing+folders&utf8=%E2%9C%93.csv\n"
     ]
    },
    {
     "name": "stderr",
     "output_type": "stream",
     "text": [
      "2020-09-13 06:15:18 [scrapy.extensions.logstats] INFO: Crawled 75816 pages (at 317 pages/min), scraped 0 items (at 0 items/min)\n"
     ]
    },
    {
     "name": "stdout",
     "output_type": "stream",
     "text": [
      "Saving as : /home/alex/chat_bot_wrike/wrike-bot/help_good_for_wrike/115000322449-More-keyboard-shortcuts?page=2.csv {'https://help.wrike.com/hc/en-us/articles/210322725-Keyboard-Shortcuts'}\n",
      "/home/alex/chat_bot_wrike/wrike-bot/help_good_for_wrike/115000322449-More-keyboard-shortcuts?page=2.csv\n"
     ]
    },
    {
     "name": "stderr",
     "output_type": "stream",
     "text": [
      "2020-09-13 06:16:19 [scrapy.extensions.logstats] INFO: Crawled 76282 pages (at 466 pages/min), scraped 0 items (at 0 items/min)\n",
      "2020-09-13 06:17:18 [scrapy.extensions.logstats] INFO: Crawled 76787 pages (at 505 pages/min), scraped 0 items (at 0 items/min)\n"
     ]
    },
    {
     "name": "stdout",
     "output_type": "stream",
     "text": [
      "Saving as : /home/alex/chat_bot_wrike/wrike-bot/help_good_for_wrike/115003663105-Release-Notes-June-7.csv {'https://help.wrike.com/hc/en-us/articles/210322845-Proofing', 'https://help.wrike.com/hc/en-us/articles/210323705-Inbox', 'https://help.wrike.com/hc/en-us/articles/115000193205-Board-View', 'https://help.wrike.com/hc/en-us/articles/115003404345-Dynamic-Request-Forms'}\n",
      "/home/alex/chat_bot_wrike/wrike-bot/help_good_for_wrike/115003663105-Release-Notes-June-7.csv\n",
      "Saving as : /home/alex/chat_bot_wrike/wrike-bot/help_good_for_wrike/115003980029-Release-Notes-June-28.csv {'https://help.wrike.com/hc/en-us/articles/209603309-Attachments', 'https://help.wrike.com/hc/en-us/articles/210323705-Inbox', 'https://help.wrike.com/hc/en-us/articles/115000193205-Board-View', 'https://help.wrike.com/hc/en-us/articles/209602989-User-Groups'}\n",
      "/home/alex/chat_bot_wrike/wrike-bot/help_good_for_wrike/115003980029-Release-Notes-June-28.csv\n",
      "Saving as : /home/alex/chat_bot_wrike/wrike-bot/help_good_for_wrike/213922469-Release-Notes-December-7.csv {'https://help.wrike.com/hc/en-us/articles/214413365-Google-Calendar-Integration'}\n",
      "/home/alex/chat_bot_wrike/wrike-bot/help_good_for_wrike/213922469-Release-Notes-December-7.csv\n",
      "Saving as : /home/alex/chat_bot_wrike/wrike-bot/help_good_for_wrike/115000161645-Release-Notes-December-21.csv {'https://help.wrike.com/hc/en-us/articles/210323705-Inbox'}\n",
      "/home/alex/chat_bot_wrike/wrike-bot/help_good_for_wrike/115000161645-Release-Notes-December-21.csv\n",
      "Saving as : /home/alex/chat_bot_wrike/wrike-bot/help_good_for_wrike/214612365-Release-Notes-December-14.csv {'https://help.wrike.com/hc/en-us/articles/213930929-Scheduled-Report-Reminders', 'https://help.wrike.com/hc/en-us/articles/210323705-Inbox'}\n",
      "/home/alex/chat_bot_wrike/wrike-bot/help_good_for_wrike/214612365-Release-Notes-December-14.csv\n",
      "Saving as : /home/alex/chat_bot_wrike/wrike-bot/help_good_for_wrike/213821169-Release-Notes-November-30.csv {'https://help.wrike.com/hc/en-us/articles/209604489-Stream', 'https://help.wrike.com/hc/en-us/articles/209603049-Custom-Fields', 'https://help.wrike.com/hc/en-us/articles/209604449-Reports-Overview'}\n",
      "/home/alex/chat_bot_wrike/wrike-bot/help_good_for_wrike/213821169-Release-Notes-November-30.csv\n",
      "Saving as : /home/alex/chat_bot_wrike/wrike-bot/help_good_for_wrike/213599609-Release-Notes-November-23.csv {'https://help.wrike.com/hc/en-us/articles/210323665-Report-Snapshots', 'https://help.wrike.com/hc/en-us/articles/209604449-Reports-Overview'}\n",
      "/home/alex/chat_bot_wrike/wrike-bot/help_good_for_wrike/213599609-Release-Notes-November-23.csv\n",
      "Saving as : /home/alex/chat_bot_wrike/wrike-bot/help_good_for_wrike/213427749-Release-Notes-November-16.csv {'https://help.wrike.com/hc/en-us/articles/210323665-Report-Snapshots', 'https://help.wrike.com/hc/en-us/articles/212729565-Share-a-Report'}\n",
      "/home/alex/chat_bot_wrike/wrike-bot/help_good_for_wrike/213427749-Release-Notes-November-16.csv\n",
      "Saving as : /home/alex/chat_bot_wrike/wrike-bot/help_good_for_wrike/213528365-Release-Notes-November-2.csv {'https://help.wrike.com/hc/en-us/articles/209604489-Stream', 'https://help.wrike.com/hc/en-us/articles/209603049-Custom-Fields', 'https://help.wrike.com/hc/en-us/articles/209604449-Reports-Overview', 'https://help.wrike.com/hc/en-us/articles/209605769-SSO-with-SAML-Implementation-Guide'}\n",
      "/home/alex/chat_bot_wrike/wrike-bot/help_good_for_wrike/213528365-Release-Notes-November-2.csv\n",
      "Saving as : /home/alex/chat_bot_wrike/wrike-bot/help_good_for_wrike/212560649-Release-Notes-October-19.csv {'https://help.wrike.com/hc/en-us/articles/209605189-Wrike-and-JIRA-Sync-Setup-Guide', 'https://help.wrike.com/hc/en-us/articles/209604449-Reports-Overview'}\n",
      "/home/alex/chat_bot_wrike/wrike-bot/help_good_for_wrike/212560649-Release-Notes-October-19.csv\n",
      "Saving as : /home/alex/chat_bot_wrike/wrike-bot/help_good_for_wrike/212887785-Release-Notes-October-12.csv {'https://help.wrike.com/hc/en-us/articles/212729565-Share-a-Report', 'https://help.wrike.com/hc/en-us/articles/209603989-Types-of-Licenses'}\n",
      "/home/alex/chat_bot_wrike/wrike-bot/help_good_for_wrike/212887785-Release-Notes-October-12.csv\n",
      "Saving as : /home/alex/chat_bot_wrike/wrike-bot/help_good_for_wrike/212657765-Release-Notes-October-5.csv {'https://help.wrike.com/hc/en-us/articles/209604449-Reports-Overview'}\n",
      "/home/alex/chat_bot_wrike/wrike-bot/help_good_for_wrike/212657765-Release-Notes-October-5.csv\n",
      "Saving as : /home/alex/chat_bot_wrike/wrike-bot/help_good_for_wrike/211932709-Release-Notes-September-28.csv {'https://help.wrike.com/hc/en-us/articles/210322845-Proofing', 'https://help.wrike.com/hc/en-us/articles/209604309-Report-Table-Charts', 'https://help.wrike.com/hc/en-us/articles/209604469-Dashboards', 'https://help.wrike.com/hc/en-us/articles/209603329-Job-Numbers'}\n",
      "/home/alex/chat_bot_wrike/wrike-bot/help_good_for_wrike/211932709-Release-Notes-September-28.csv\n",
      "Saving as : /home/alex/chat_bot_wrike/wrike-bot/help_good_for_wrike/212338885-Release-Notes-September-21.csv {'https://help.wrike.com/hc/en-us/articles/210323705-Inbox', 'https://help.wrike.com/hc/en-us/articles/209604469-Dashboards'}\n",
      "/home/alex/chat_bot_wrike/wrike-bot/help_good_for_wrike/212338885-Release-Notes-September-21.csv\n",
      "Saving as : /home/alex/chat_bot_wrike/wrike-bot/help_good_for_wrike/212229905-Release-Notes-September-14.csv {'https://help.wrike.com/hc/en-us/articles/209603309-Attachments', 'https://help.wrike.com/hc/en-us/articles/209603049-Custom-Fields'}\n",
      "/home/alex/chat_bot_wrike/wrike-bot/help_good_for_wrike/212229905-Release-Notes-September-14.csv\n",
      "Saving as : /home/alex/chat_bot_wrike/wrike-bot/help_good_for_wrike/211483289-Release-Notes-September-7.csv {'https://help.wrike.com/hc/en-us/articles/210322845-Proofing', 'https://help.wrike.com/hc/en-us/articles/209604309-Report-Table-Charts'}\n",
      "/home/alex/chat_bot_wrike/wrike-bot/help_good_for_wrike/211483289-Release-Notes-September-7.csv\n",
      "Saving as : /home/alex/chat_bot_wrike/wrike-bot/help_good_for_wrike/211993345-Release-Notes-August-31.csv {'https://help.wrike.com/hc/en-us/articles/209604489-Stream', 'https://help.wrike.com/hc/en-us/articles/210323705-Inbox', 'https://help.wrike.com/hc/en-us/articles/209604449-Reports-Overview'}\n",
      "/home/alex/chat_bot_wrike/wrike-bot/help_good_for_wrike/211993345-Release-Notes-August-31.csv\n",
      "Saving as : /home/alex/chat_bot_wrike/wrike-bot/help_good_for_wrike/211299969-Release-Notes-August-22.csv {'https://help.wrike.com/hc/en-us/articles/209605389-Branded-Workspace-and-Email-Notifications'}\n",
      "/home/alex/chat_bot_wrike/wrike-bot/help_good_for_wrike/211299969-Release-Notes-August-22.csv\n",
      "Saving as : /home/alex/chat_bot_wrike/wrike-bot/help_good_for_wrike/210388885-Release-Notes-August-15.csv {'https://help.wrike.com/hc/en-us/articles/209603049-Custom-Fields'}\n",
      "/home/alex/chat_bot_wrike/wrike-bot/help_good_for_wrike/210388885-Release-Notes-August-15.csv\n",
      "Saving as : /home/alex/chat_bot_wrike/wrike-bot/help_good_for_wrike/210388845-Release-Notes-August-8.csv {'https://help.wrike.com/hc/en-us/articles/210322845-Proofing', 'https://help.wrike.com/hc/en-us/articles/209602989-User-Groups'}\n",
      "/home/alex/chat_bot_wrike/wrike-bot/help_good_for_wrike/210388845-Release-Notes-August-8.csv\n",
      "Saving as : /home/alex/chat_bot_wrike/wrike-bot/help_good_for_wrike/213404925-Release-Notes-October-26.csv {'https://help.wrike.com/hc/en-us/articles/210323705-Inbox'}\n",
      "/home/alex/chat_bot_wrike/wrike-bot/help_good_for_wrike/213404925-Release-Notes-October-26.csv\n",
      "Saving as : /home/alex/chat_bot_wrike/wrike-bot/help_good_for_wrike/115002446185-Release-Notes-April-5.csv {'https://help.wrike.com/hc/en-us/articles/115001778165-Project-Wizard-and-Default-View-Picker'}\n",
      "/home/alex/chat_bot_wrike/wrike-bot/help_good_for_wrike/115002446185-Release-Notes-April-5.csv\n",
      "Saving as : /home/alex/chat_bot_wrike/wrike-bot/help_good_for_wrike/search?page=21&query=Sharing+folders&utf8=%E2%9C%93.csv {'https://help.wrike.com/hc/en-us/categories/200942115-Tasks-Folders-Projects-and-Spaces', 'https://help.wrike.com/hc/en-us/sections/201834259-Advanced', 'https://help.wrike.com/hc/en-us/sections/202423365-Everything-Else', 'https://help.wrike.com/hc/en-us/categories/200942135-Monitoring-Panel', 'https://help.wrike.com/hc/en-us/categories/200942175-Security', 'https://help.wrike.com/hc/en-us/sections/201825379-General-Account-Management', 'https://help.wrike.com/hc/en-us/sections/201893115-Mobile', 'https://help.wrike.com/hc/en-us/sections/201834349-More-Security-Features', 'https://help.wrike.com/hc/en-us/categories/200942155-Types-of-Accounts-and-Licenses', 'https://help.wrike.com/hc/en-us/sections/201893095-Accounts', 'https://help.wrike.com/hc/en-us/categories/200942165-Apps', 'https://help.wrike.com/hc/en-us/sections/201834329-More-Monitoring-Panel-Views', 'https://help.wrike.com/hc/en-us/categories/200939185-Integrations', 'https://help.wrike.com/hc/en-us/categories/200913179-Account-Management'}\n"
     ]
    },
    {
     "name": "stdout",
     "output_type": "stream",
     "text": [
      "/home/alex/chat_bot_wrike/wrike-bot/help_good_for_wrike/search?page=21&query=Sharing+folders&utf8=%E2%9C%93.csv\n"
     ]
    },
    {
     "name": "stderr",
     "output_type": "stream",
     "text": [
      "2020-09-13 06:18:18 [scrapy.extensions.logstats] INFO: Crawled 77189 pages (at 402 pages/min), scraped 0 items (at 0 items/min)\n",
      "2020-09-13 06:19:18 [scrapy.extensions.logstats] INFO: Crawled 77878 pages (at 689 pages/min), scraped 0 items (at 0 items/min)\n",
      "2020-09-13 06:20:18 [scrapy.extensions.logstats] INFO: Crawled 78444 pages (at 566 pages/min), scraped 0 items (at 0 items/min)\n",
      "2020-09-13 06:21:18 [scrapy.extensions.logstats] INFO: Crawled 79117 pages (at 673 pages/min), scraped 0 items (at 0 items/min)\n",
      "2020-09-13 06:22:19 [scrapy.extensions.logstats] INFO: Crawled 79590 pages (at 473 pages/min), scraped 0 items (at 0 items/min)\n",
      "2020-09-13 06:23:18 [scrapy.extensions.logstats] INFO: Crawled 79972 pages (at 382 pages/min), scraped 0 items (at 0 items/min)\n"
     ]
    },
    {
     "name": "stdout",
     "output_type": "stream",
     "text": [
      "Saving as : /home/alex/chat_bot_wrike/wrike-bot/help_good_for_wrike/210323005-.csv {'https://help.wrike.com/hc/en-us/articles/209603989-Types-of-Licenses', 'https://help.wrike.com/hc/en-us/articles/209603149-Templates', 'https://help.wrike.com/hc/en-us/articles/209603869-Duplicate-Tasks-and-Subtasks', 'https://help.wrike.com/hc/en-us/articles/209603049-Custom-Fields', 'https://help.wrike.com/hc/en-us/articles/210322785-Custom-Statuses-and-Workflows', 'https://help.wrike.com/hc/en-us/articles/209603489-Projects'}\n",
      "/home/alex/chat_bot_wrike/wrike-bot/help_good_for_wrike/210323005-.csv\n"
     ]
    },
    {
     "name": "stderr",
     "output_type": "stream",
     "text": [
      "2020-09-13 06:24:18 [scrapy.extensions.logstats] INFO: Crawled 80337 pages (at 365 pages/min), scraped 0 items (at 0 items/min)\n",
      "2020-09-13 06:25:18 [scrapy.extensions.logstats] INFO: Crawled 80655 pages (at 318 pages/min), scraped 0 items (at 0 items/min)\n",
      "2020-09-13 06:26:18 [scrapy.extensions.logstats] INFO: Crawled 80921 pages (at 266 pages/min), scraped 0 items (at 0 items/min)\n",
      "2020-09-13 06:27:19 [scrapy.extensions.logstats] INFO: Crawled 81108 pages (at 187 pages/min), scraped 0 items (at 0 items/min)\n",
      "2020-09-13 06:28:18 [scrapy.extensions.logstats] INFO: Crawled 81503 pages (at 395 pages/min), scraped 0 items (at 0 items/min)\n"
     ]
    },
    {
     "name": "stdout",
     "output_type": "stream",
     "text": [
      "Saving as : /home/alex/chat_bot_wrike/wrike-bot/help_good_for_wrike/search?page=19&query=Gantt+chart&utf8=%E2%9C%93.csv {'https://help.wrike.com/hc/en-us/sections/201834339-Licenses', 'https://help.wrike.com/hc/en-us/sections/201834249-Folders-and-Projects', 'https://help.wrike.com/hc/en-us/categories/200942125-Work-Views', 'https://help.wrike.com/hc/en-us/categories/200942155-Types-of-Accounts-and-Licenses', 'https://help.wrike.com/hc/en-us/categories/200942115-Tasks-Folders-Projects-and-Spaces', 'https://help.wrike.com/hc/en-us/sections/201893075-Gantt-Chart'}\n",
      "/home/alex/chat_bot_wrike/wrike-bot/help_good_for_wrike/search?page=19&query=Gantt+chart&utf8=%E2%9C%93.csv\n"
     ]
    },
    {
     "name": "stderr",
     "output_type": "stream",
     "text": [
      "2020-09-13 06:29:18 [scrapy.extensions.logstats] INFO: Crawled 81903 pages (at 400 pages/min), scraped 0 items (at 0 items/min)\n"
     ]
    },
    {
     "name": "stdout",
     "output_type": "stream",
     "text": [
      "Saving as : /home/alex/chat_bot_wrike/wrike-bot/help_good_for_wrike/search?page=20&query=Gantt+chart&utf8=%E2%9C%93.csv {'https://help.wrike.com/hc/en-us/categories/201188645-Getting-Started', 'https://help.wrike.com/hc/en-us/sections/201893045-Organization', 'https://help.wrike.com/hc/en-us/categories/200942115-Tasks-Folders-Projects-and-Spaces'}\n",
      "/home/alex/chat_bot_wrike/wrike-bot/help_good_for_wrike/search?page=20&query=Gantt+chart&utf8=%E2%9C%93.csv\n",
      "Saving as : /home/alex/chat_bot_wrike/wrike-bot/help_good_for_wrike/115005814269-Sort-and-Reorder-Items-on-the-Gantt-Chart?flash_digest=09392fdbb87837ee3e5220fac4a4a9bf1972c8a1.csv {'https://help.wrike.com/hc/en-us/articles/115005814269-Sort-and-Reorder-Items-on-the-Gantt-Chart#cascade'}\n",
      "/home/alex/chat_bot_wrike/wrike-bot/help_good_for_wrike/115005814269-Sort-and-Reorder-Items-on-the-Gantt-Chart?flash_digest=09392fdbb87837ee3e5220fac4a4a9bf1972c8a1.csv\n"
     ]
    },
    {
     "name": "stderr",
     "output_type": "stream",
     "text": [
      "2020-09-13 06:30:19 [scrapy.extensions.logstats] INFO: Crawled 82281 pages (at 378 pages/min), scraped 0 items (at 0 items/min)\n"
     ]
    },
    {
     "name": "stdout",
     "output_type": "stream",
     "text": [
      "Saving as : /home/alex/chat_bot_wrike/wrike-bot/help_good_for_wrike/search?category=200942125&filter_by=knowledge_base&query=Diagramme+de+Gantt&utf8=%E2%9C%93.csv {'https://help.wrike.com/hc/en-us/categories/200942125-Work-Views', 'https://help.wrike.com/hc/en-us/sections/201893075-Gantt-Chart'}\n",
      "/home/alex/chat_bot_wrike/wrike-bot/help_good_for_wrike/search?category=200942125&filter_by=knowledge_base&query=Diagramme+de+Gantt&utf8=%E2%9C%93.csv\n"
     ]
    },
    {
     "name": "stderr",
     "output_type": "stream",
     "text": [
      "2020-09-13 06:31:18 [scrapy.extensions.logstats] INFO: Crawled 82603 pages (at 322 pages/min), scraped 0 items (at 0 items/min)\n",
      "2020-09-13 06:32:18 [scrapy.extensions.logstats] INFO: Crawled 84379 pages (at 1776 pages/min), scraped 0 items (at 0 items/min)\n",
      "2020-09-13 06:33:18 [scrapy.extensions.logstats] INFO: Crawled 85130 pages (at 751 pages/min), scraped 0 items (at 0 items/min)\n",
      "2020-09-13 06:34:18 [scrapy.extensions.logstats] INFO: Crawled 85703 pages (at 573 pages/min), scraped 0 items (at 0 items/min)\n",
      "2020-09-13 06:35:18 [scrapy.extensions.logstats] INFO: Crawled 86402 pages (at 699 pages/min), scraped 0 items (at 0 items/min)\n",
      "2020-09-13 06:36:18 [scrapy.extensions.logstats] INFO: Crawled 87000 pages (at 598 pages/min), scraped 0 items (at 0 items/min)\n",
      "2020-09-13 06:37:18 [scrapy.extensions.logstats] INFO: Crawled 87584 pages (at 584 pages/min), scraped 0 items (at 0 items/min)\n",
      "2020-09-13 06:38:18 [scrapy.extensions.logstats] INFO: Crawled 88208 pages (at 624 pages/min), scraped 0 items (at 0 items/min)\n",
      "2020-09-13 06:39:18 [scrapy.extensions.logstats] INFO: Crawled 88805 pages (at 597 pages/min), scraped 0 items (at 0 items/min)\n",
      "2020-09-13 06:40:18 [scrapy.extensions.logstats] INFO: Crawled 89439 pages (at 634 pages/min), scraped 0 items (at 0 items/min)\n",
      "2020-09-13 06:41:18 [scrapy.extensions.logstats] INFO: Crawled 90191 pages (at 752 pages/min), scraped 0 items (at 0 items/min)\n",
      "2020-09-13 06:42:18 [scrapy.extensions.logstats] INFO: Crawled 90821 pages (at 630 pages/min), scraped 0 items (at 0 items/min)\n",
      "2020-09-13 06:43:18 [scrapy.extensions.logstats] INFO: Crawled 91552 pages (at 731 pages/min), scraped 0 items (at 0 items/min)\n"
     ]
    },
    {
     "name": "stdout",
     "output_type": "stream",
     "text": [
      "Saving as : /home/alex/chat_bot_wrike/wrike-bot/help_good_for_wrike/360009932414-Allow-to-create-the-task-from-slack-based-on-request-forms.csv {'https://help.wrike.com/hc/en-us/articles/115004742769-External-Request-Forms'}\n",
      "/home/alex/chat_bot_wrike/wrike-bot/help_good_for_wrike/360009932414-Allow-to-create-the-task-from-slack-based-on-request-forms.csv\n",
      "Saving as : /home/alex/chat_bot_wrike/wrike-bot/help_good_for_wrike/360002559193-Tasks-on-Calendars%C2%A0.csv {'https://help.wrike.com/hc/en-us/articles/360001737133-Calendars'}\n",
      "/home/alex/chat_bot_wrike/wrike-bot/help_good_for_wrike/360002559193-Tasks-on-Calendars%C2%A0.csv\n"
     ]
    },
    {
     "name": "stderr",
     "output_type": "stream",
     "text": [
      "2020-09-13 06:44:18 [scrapy.extensions.logstats] INFO: Crawled 92100 pages (at 548 pages/min), scraped 0 items (at 0 items/min)\n",
      "2020-09-13 06:45:18 [scrapy.extensions.logstats] INFO: Crawled 93647 pages (at 1547 pages/min), scraped 0 items (at 0 items/min)\n",
      "2020-09-13 06:46:18 [scrapy.extensions.logstats] INFO: Crawled 94728 pages (at 1081 pages/min), scraped 0 items (at 0 items/min)\n",
      "2020-09-13 06:47:18 [scrapy.extensions.logstats] INFO: Crawled 95426 pages (at 698 pages/min), scraped 0 items (at 0 items/min)\n",
      "2020-09-13 06:48:20 [scrapy.extensions.logstats] INFO: Crawled 96054 pages (at 628 pages/min), scraped 0 items (at 0 items/min)\n",
      "2020-09-13 06:49:18 [scrapy.extensions.logstats] INFO: Crawled 97403 pages (at 1349 pages/min), scraped 0 items (at 0 items/min)\n",
      "2020-09-13 06:50:18 [scrapy.extensions.logstats] INFO: Crawled 98676 pages (at 1273 pages/min), scraped 0 items (at 0 items/min)\n",
      "2020-09-13 06:51:18 [scrapy.extensions.logstats] INFO: Crawled 99390 pages (at 714 pages/min), scraped 0 items (at 0 items/min)\n",
      "2020-09-13 06:52:18 [scrapy.extensions.logstats] INFO: Crawled 100853 pages (at 1463 pages/min), scraped 0 items (at 0 items/min)\n",
      "2020-09-13 06:53:18 [scrapy.extensions.logstats] INFO: Crawled 101505 pages (at 652 pages/min), scraped 0 items (at 0 items/min)\n",
      "2020-09-13 06:54:18 [scrapy.extensions.logstats] INFO: Crawled 102100 pages (at 595 pages/min), scraped 0 items (at 0 items/min)\n",
      "2020-09-13 06:55:18 [scrapy.extensions.logstats] INFO: Crawled 102707 pages (at 607 pages/min), scraped 0 items (at 0 items/min)\n",
      "2020-09-13 06:56:18 [scrapy.extensions.logstats] INFO: Crawled 103264 pages (at 557 pages/min), scraped 0 items (at 0 items/min)\n",
      "2020-09-13 06:57:18 [scrapy.extensions.logstats] INFO: Crawled 103878 pages (at 614 pages/min), scraped 0 items (at 0 items/min)\n",
      "2020-09-13 06:58:18 [scrapy.extensions.logstats] INFO: Crawled 104596 pages (at 718 pages/min), scraped 0 items (at 0 items/min)\n",
      "2020-09-13 06:59:18 [scrapy.extensions.logstats] INFO: Crawled 105347 pages (at 751 pages/min), scraped 0 items (at 0 items/min)\n",
      "2020-09-13 07:00:18 [scrapy.extensions.logstats] INFO: Crawled 106033 pages (at 686 pages/min), scraped 0 items (at 0 items/min)\n",
      "2020-09-13 07:01:18 [scrapy.extensions.logstats] INFO: Crawled 106824 pages (at 791 pages/min), scraped 0 items (at 0 items/min)\n",
      "2020-09-13 07:02:18 [scrapy.extensions.logstats] INFO: Crawled 107597 pages (at 773 pages/min), scraped 0 items (at 0 items/min)\n",
      "2020-09-13 07:03:18 [scrapy.extensions.logstats] INFO: Crawled 107905 pages (at 308 pages/min), scraped 0 items (at 0 items/min)\n"
     ]
    },
    {
     "name": "stdout",
     "output_type": "stream",
     "text": [
      "Saving as : /home/alex/chat_bot_wrike/wrike-bot/help_good_for_wrike/115000274229.csv {'https://help.wrike.com/hc/en-us/articles/115000193205-Board-View'}\n",
      "/home/alex/chat_bot_wrike/wrike-bot/help_good_for_wrike/115000274229.csv\n"
     ]
    },
    {
     "name": "stderr",
     "output_type": "stream",
     "text": [
      "2020-09-13 07:04:18 [scrapy.extensions.logstats] INFO: Crawled 108270 pages (at 365 pages/min), scraped 0 items (at 0 items/min)\n",
      "2020-09-13 07:05:20 [scrapy.extensions.logstats] INFO: Crawled 108580 pages (at 310 pages/min), scraped 0 items (at 0 items/min)\n",
      "2020-09-13 07:06:18 [scrapy.extensions.logstats] INFO: Crawled 108897 pages (at 317 pages/min), scraped 0 items (at 0 items/min)\n",
      "2020-09-13 07:07:18 [scrapy.extensions.logstats] INFO: Crawled 109210 pages (at 313 pages/min), scraped 0 items (at 0 items/min)\n",
      "2020-09-13 07:08:18 [scrapy.extensions.logstats] INFO: Crawled 109575 pages (at 365 pages/min), scraped 0 items (at 0 items/min)\n",
      "2020-09-13 07:09:18 [scrapy.extensions.logstats] INFO: Crawled 109947 pages (at 372 pages/min), scraped 0 items (at 0 items/min)\n",
      "2020-09-13 07:10:19 [scrapy.extensions.logstats] INFO: Crawled 110290 pages (at 343 pages/min), scraped 0 items (at 0 items/min)\n"
     ]
    },
    {
     "name": "stdout",
     "output_type": "stream",
     "text": [
      "Saving as : /home/alex/chat_bot_wrike/wrike-bot/help_good_for_wrike/360014000854-Need-to-capability-to-create-report-templates-for-our-account.csv {'https://help.wrike.com/hc/en-us/articles/214612765-Report-Templates'}\n",
      "/home/alex/chat_bot_wrike/wrike-bot/help_good_for_wrike/360014000854-Need-to-capability-to-create-report-templates-for-our-account.csv\n",
      "Saving as : /home/alex/chat_bot_wrike/wrike-bot/help_good_for_wrike/360014089333-Scheduled-Report-Reminder-Monthly.csv {'https://help.wrike.com/hc/en-us/articles/213930929-Scheduled-Report-Reminders'}\n",
      "/home/alex/chat_bot_wrike/wrike-bot/help_good_for_wrike/360014089333-Scheduled-Report-Reminder-Monthly.csv\n"
     ]
    },
    {
     "name": "stderr",
     "output_type": "stream",
     "text": [
      "2020-09-13 07:11:18 [scrapy.extensions.logstats] INFO: Crawled 110515 pages (at 225 pages/min), scraped 0 items (at 0 items/min)\n",
      "2020-09-13 07:12:21 [scrapy.extensions.logstats] INFO: Crawled 110815 pages (at 300 pages/min), scraped 0 items (at 0 items/min)\n",
      "2020-09-13 07:13:18 [scrapy.extensions.logstats] INFO: Crawled 111349 pages (at 534 pages/min), scraped 0 items (at 0 items/min)\n",
      "2020-09-13 07:14:18 [scrapy.extensions.logstats] INFO: Crawled 111663 pages (at 314 pages/min), scraped 0 items (at 0 items/min)\n",
      "2020-09-13 07:15:18 [scrapy.extensions.logstats] INFO: Crawled 112049 pages (at 386 pages/min), scraped 0 items (at 0 items/min)\n",
      "2020-09-13 07:16:19 [scrapy.extensions.logstats] INFO: Crawled 112343 pages (at 294 pages/min), scraped 0 items (at 0 items/min)\n",
      "2020-09-13 07:17:18 [scrapy.extensions.logstats] INFO: Crawled 112644 pages (at 301 pages/min), scraped 0 items (at 0 items/min)\n",
      "2020-09-13 07:18:20 [scrapy.extensions.logstats] INFO: Crawled 112835 pages (at 191 pages/min), scraped 0 items (at 0 items/min)\n",
      "2020-09-13 07:19:19 [scrapy.extensions.logstats] INFO: Crawled 113110 pages (at 275 pages/min), scraped 0 items (at 0 items/min)\n",
      "2020-09-13 07:20:18 [scrapy.extensions.logstats] INFO: Crawled 113532 pages (at 422 pages/min), scraped 0 items (at 0 items/min)\n",
      "2020-09-13 07:21:19 [scrapy.extensions.logstats] INFO: Crawled 113910 pages (at 378 pages/min), scraped 0 items (at 0 items/min)\n",
      "2020-09-13 07:22:18 [scrapy.extensions.logstats] INFO: Crawled 114182 pages (at 272 pages/min), scraped 0 items (at 0 items/min)\n",
      "2020-09-13 07:23:19 [scrapy.extensions.logstats] INFO: Crawled 114526 pages (at 344 pages/min), scraped 0 items (at 0 items/min)\n",
      "2020-09-13 07:24:18 [scrapy.extensions.logstats] INFO: Crawled 115000 pages (at 474 pages/min), scraped 0 items (at 0 items/min)\n",
      "2020-09-13 07:25:19 [scrapy.extensions.logstats] INFO: Crawled 115432 pages (at 432 pages/min), scraped 0 items (at 0 items/min)\n",
      "2020-09-13 07:26:19 [scrapy.extensions.logstats] INFO: Crawled 115766 pages (at 334 pages/min), scraped 0 items (at 0 items/min)\n",
      "2020-09-13 07:27:18 [scrapy.extensions.logstats] INFO: Crawled 115999 pages (at 233 pages/min), scraped 0 items (at 0 items/min)\n",
      "2020-09-13 07:28:19 [scrapy.extensions.logstats] INFO: Crawled 116129 pages (at 130 pages/min), scraped 0 items (at 0 items/min)\n"
     ]
    },
    {
     "name": "stdout",
     "output_type": "stream",
     "text": [
      "Saving as : /home/alex/chat_bot_wrike/wrike-bot/help_good_for_wrike/360010497373-Is-there-a-way-to-limit-user-access-on-task-level-?page=1.csv {'https://help.wrike.com/hc/en-us/articles/209603849-Sharing-Tasks'}\n",
      "/home/alex/chat_bot_wrike/wrike-bot/help_good_for_wrike/360010497373-Is-there-a-way-to-limit-user-access-on-task-level-?page=1.csv\n"
     ]
    },
    {
     "name": "stderr",
     "output_type": "stream",
     "text": [
      "2020-09-13 07:29:19 [scrapy.extensions.logstats] INFO: Crawled 116315 pages (at 186 pages/min), scraped 0 items (at 0 items/min)\n",
      "2020-09-13 07:30:20 [scrapy.extensions.logstats] INFO: Crawled 116589 pages (at 274 pages/min), scraped 0 items (at 0 items/min)\n",
      "2020-09-13 07:31:19 [scrapy.extensions.logstats] INFO: Crawled 116839 pages (at 250 pages/min), scraped 0 items (at 0 items/min)\n",
      "2020-09-13 07:32:18 [scrapy.extensions.logstats] INFO: Crawled 117244 pages (at 405 pages/min), scraped 0 items (at 0 items/min)\n",
      "2020-09-13 07:33:18 [scrapy.extensions.logstats] INFO: Crawled 117808 pages (at 564 pages/min), scraped 0 items (at 0 items/min)\n",
      "2020-09-13 07:34:18 [scrapy.extensions.logstats] INFO: Crawled 118297 pages (at 489 pages/min), scraped 0 items (at 0 items/min)\n",
      "2020-09-13 07:35:18 [scrapy.extensions.logstats] INFO: Crawled 118758 pages (at 461 pages/min), scraped 0 items (at 0 items/min)\n"
     ]
    },
    {
     "name": "stdout",
     "output_type": "stream",
     "text": [
      "Saving as : /home/alex/chat_bot_wrike/wrike-bot/help_good_for_wrike/210323705-Inbox%C2%A0.csv {'https://help.wrike.com/hc/en-us/articles/210324405-Email-Notifications', 'https://help.wrike.com/hc/en-us/articles/210323705-Inbox'}\n",
      "/home/alex/chat_bot_wrike/wrike-bot/help_good_for_wrike/210323705-Inbox%C2%A0.csv\n"
     ]
    },
    {
     "name": "stderr",
     "output_type": "stream",
     "text": [
      "2020-09-13 07:36:18 [scrapy.extensions.logstats] INFO: Crawled 119064 pages (at 306 pages/min), scraped 0 items (at 0 items/min)\n"
     ]
    },
    {
     "name": "stdout",
     "output_type": "stream",
     "text": [
      "Saving as : /home/alex/chat_bot_wrike/wrike-bot/help_good_for_wrike/210324125-XLS-Export-and-Import%C2%A0.csv {'https://help.wrike.com/hc/en-us/articles/209603989-Types-of-Licenses', 'https://help.wrike.com/hc/en-us/articles/209603369-Tags', 'https://help.wrike.com/hc/en-us/articles/209603689-Milestones', 'https://help.wrike.com/hc/en-us/articles/209603949-Business', 'https://help.wrike.com/hc/en-us/articles/360010852973-Task-Effort', 'https://help.wrike.com/hc/en-us/articles/360037345013-Export-Data-to-Excel', 'https://help.wrike.com/hc/en-us/articles/360035863834-Wrike-for-Professional-Services', 'https://help.wrike.com/hc/en-us/articles/210322785-Custom-Statuses-and-Workflows', 'https://help.wrike.com/hc/en-us/articles/209603969-Enterprise'}\n",
      "/home/alex/chat_bot_wrike/wrike-bot/help_good_for_wrike/210324125-XLS-Export-and-Import%C2%A0.csv\n"
     ]
    },
    {
     "name": "stderr",
     "output_type": "stream",
     "text": [
      "2020-09-13 07:37:18 [scrapy.extensions.logstats] INFO: Crawled 119423 pages (at 359 pages/min), scraped 0 items (at 0 items/min)\n",
      "2020-09-13 07:38:21 [scrapy.extensions.logstats] INFO: Crawled 119752 pages (at 329 pages/min), scraped 0 items (at 0 items/min)\n"
     ]
    },
    {
     "name": "stdout",
     "output_type": "stream",
     "text": [
      "Saving as : /home/alex/chat_bot_wrike/wrike-bot/help_good_for_wrike/360029513493-Allocate-Effort-to-Milestone?page=1.csv {'https://help.wrike.com/hc/en-us/articles/209603689-Milestones'}\n",
      "/home/alex/chat_bot_wrike/wrike-bot/help_good_for_wrike/360029513493-Allocate-Effort-to-Milestone?page=1.csv\n"
     ]
    },
    {
     "name": "stderr",
     "output_type": "stream",
     "text": [
      "2020-09-13 07:39:18 [scrapy.extensions.logstats] INFO: Crawled 120066 pages (at 314 pages/min), scraped 0 items (at 0 items/min)\n",
      "2020-09-13 07:40:18 [scrapy.extensions.logstats] INFO: Crawled 120310 pages (at 244 pages/min), scraped 0 items (at 0 items/min)\n",
      "2020-09-13 07:41:18 [scrapy.extensions.logstats] INFO: Crawled 120621 pages (at 311 pages/min), scraped 0 items (at 0 items/min)\n",
      "2020-09-13 07:42:19 [scrapy.extensions.logstats] INFO: Crawled 120867 pages (at 246 pages/min), scraped 0 items (at 0 items/min)\n",
      "2020-09-13 07:43:18 [scrapy.extensions.logstats] INFO: Crawled 121231 pages (at 364 pages/min), scraped 0 items (at 0 items/min)\n",
      "2020-09-13 07:44:21 [scrapy.extensions.logstats] INFO: Crawled 121550 pages (at 319 pages/min), scraped 0 items (at 0 items/min)\n",
      "2020-09-13 07:45:18 [scrapy.extensions.logstats] INFO: Crawled 121974 pages (at 424 pages/min), scraped 0 items (at 0 items/min)\n",
      "2020-09-13 07:46:21 [scrapy.extensions.logstats] INFO: Crawled 122328 pages (at 354 pages/min), scraped 0 items (at 0 items/min)\n",
      "2020-09-13 07:47:18 [scrapy.extensions.logstats] INFO: Crawled 122623 pages (at 295 pages/min), scraped 0 items (at 0 items/min)\n"
     ]
    },
    {
     "name": "stdout",
     "output_type": "stream",
     "text": [
      "Saving as : /home/alex/chat_bot_wrike/wrike-bot/help_good_for_wrike/115000525129-Notify-reviewers-by-email-when-a-file-has-been-posted-or-updated-for-review-.csv {'https://help.wrike.com/hc/en-us/articles/210324405-Email-Notifications'}\n",
      "/home/alex/chat_bot_wrike/wrike-bot/help_good_for_wrike/115000525129-Notify-reviewers-by-email-when-a-file-has-been-posted-or-updated-for-review-.csv\n",
      "Saving as : /home/alex/chat_bot_wrike/wrike-bot/help_good_for_wrike/115000525129-Notify-reviewers-by-email-when-a-file-has-been-posted-or-updated-for-review-?page=1.csv {'https://help.wrike.com/hc/en-us/articles/210324405-Email-Notifications'}\n",
      "/home/alex/chat_bot_wrike/wrike-bot/help_good_for_wrike/115000525129-Notify-reviewers-by-email-when-a-file-has-been-posted-or-updated-for-review-?page=1.csv\n"
     ]
    },
    {
     "name": "stderr",
     "output_type": "stream",
     "text": [
      "2020-09-13 07:48:19 [scrapy.extensions.logstats] INFO: Crawled 122818 pages (at 195 pages/min), scraped 0 items (at 0 items/min)\n",
      "2020-09-13 07:49:22 [scrapy.extensions.logstats] INFO: Crawled 123001 pages (at 183 pages/min), scraped 0 items (at 0 items/min)\n",
      "2020-09-13 07:50:19 [scrapy.extensions.logstats] INFO: Crawled 123187 pages (at 186 pages/min), scraped 0 items (at 0 items/min)\n",
      "2020-09-13 07:51:18 [scrapy.extensions.logstats] INFO: Crawled 123533 pages (at 346 pages/min), scraped 0 items (at 0 items/min)\n",
      "2020-09-13 07:52:18 [scrapy.extensions.logstats] INFO: Crawled 123948 pages (at 415 pages/min), scraped 0 items (at 0 items/min)\n",
      "2020-09-13 07:53:19 [scrapy.extensions.logstats] INFO: Crawled 124235 pages (at 287 pages/min), scraped 0 items (at 0 items/min)\n",
      "2020-09-13 07:54:19 [scrapy.extensions.logstats] INFO: Crawled 124700 pages (at 465 pages/min), scraped 0 items (at 0 items/min)\n",
      "2020-09-13 07:55:18 [scrapy.extensions.logstats] INFO: Crawled 125174 pages (at 474 pages/min), scraped 0 items (at 0 items/min)\n",
      "2020-09-13 07:56:19 [scrapy.extensions.logstats] INFO: Crawled 125556 pages (at 382 pages/min), scraped 0 items (at 0 items/min)\n",
      "2020-09-13 07:57:19 [scrapy.extensions.logstats] INFO: Crawled 125847 pages (at 291 pages/min), scraped 0 items (at 0 items/min)\n",
      "2020-09-13 07:58:18 [scrapy.extensions.logstats] INFO: Crawled 126152 pages (at 305 pages/min), scraped 0 items (at 0 items/min)\n",
      "2020-09-13 07:59:18 [scrapy.extensions.logstats] INFO: Crawled 126504 pages (at 352 pages/min), scraped 0 items (at 0 items/min)\n",
      "2020-09-13 08:00:18 [scrapy.extensions.logstats] INFO: Crawled 127074 pages (at 570 pages/min), scraped 0 items (at 0 items/min)\n",
      "2020-09-13 08:01:18 [scrapy.extensions.logstats] INFO: Crawled 127557 pages (at 483 pages/min), scraped 0 items (at 0 items/min)\n",
      "2020-09-13 08:02:18 [scrapy.extensions.logstats] INFO: Crawled 127822 pages (at 265 pages/min), scraped 0 items (at 0 items/min)\n",
      "2020-09-13 08:03:18 [scrapy.extensions.logstats] INFO: Crawled 128120 pages (at 298 pages/min), scraped 0 items (at 0 items/min)\n"
     ]
    },
    {
     "name": "stdout",
     "output_type": "stream",
     "text": [
      "Saving as : /home/alex/chat_bot_wrike/wrike-bot/help_good_for_wrike/360014517014-What-are-the-advantages-to-Wrike-Desktop-Version-?page=1.csv {'https://help.wrike.com/hc/en-us/articles/210322725-Keyboard-Shortcuts'}\n",
      "/home/alex/chat_bot_wrike/wrike-bot/help_good_for_wrike/360014517014-What-are-the-advantages-to-Wrike-Desktop-Version-?page=1.csv\n",
      "Saving as : /home/alex/chat_bot_wrike/wrike-bot/help_good_for_wrike/360014517014-What-are-the-advantages-to-Wrike-Desktop-Version-.csv {'https://help.wrike.com/hc/en-us/articles/210322725-Keyboard-Shortcuts'}\n",
      "/home/alex/chat_bot_wrike/wrike-bot/help_good_for_wrike/360014517014-What-are-the-advantages-to-Wrike-Desktop-Version-.csv\n"
     ]
    },
    {
     "name": "stderr",
     "output_type": "stream",
     "text": [
      "2020-09-13 08:04:21 [scrapy.extensions.logstats] INFO: Crawled 128445 pages (at 325 pages/min), scraped 0 items (at 0 items/min)\n",
      "2020-09-13 08:05:19 [scrapy.extensions.logstats] INFO: Crawled 128925 pages (at 480 pages/min), scraped 0 items (at 0 items/min)\n",
      "2020-09-13 08:06:19 [scrapy.extensions.logstats] INFO: Crawled 129288 pages (at 363 pages/min), scraped 0 items (at 0 items/min)\n",
      "2020-09-13 08:07:18 [scrapy.extensions.logstats] INFO: Crawled 129628 pages (at 340 pages/min), scraped 0 items (at 0 items/min)\n"
     ]
    },
    {
     "name": "stdout",
     "output_type": "stream",
     "text": [
      "Saving as : /home/alex/chat_bot_wrike/wrike-bot/help_good_for_wrike/search?filter_by=knowledge_base&query=time+report&utf8=%E2%9C%93.csv {'https://help.wrike.com/hc/en-us/categories/200942115-Tasks-Folders-Projects-and-Spaces', 'https://help.wrike.com/hc/en-us/sections/201893085-Reporting', 'https://help.wrike.com/hc/en-us/categories/200942135-Monitoring-Panel', 'https://help.wrike.com/hc/en-us/sections/201834259-Advanced', 'https://help.wrike.com/hc/en-us/sections/201825379-General-Account-Management', 'https://help.wrike.com/hc/en-us/sections/360004618833-Wrike-Resource', 'https://help.wrike.com/hc/en-us/categories/200942125-Work-Views', 'https://help.wrike.com/hc/en-us/sections/201834289-Timelog-View', 'https://help.wrike.com/hc/en-us/categories/200913179-Account-Management'}\n",
      "/home/alex/chat_bot_wrike/wrike-bot/help_good_for_wrike/search?filter_by=knowledge_base&query=time+report&utf8=%E2%9C%93.csv\n",
      "Saving as : /home/alex/chat_bot_wrike/wrike-bot/help_good_for_wrike/search?page=5&query=time+report&utf8=%E2%9C%93.csv {'https://help.wrike.com/hc/en-us/sections/201825379-General-Account-Management', 'https://help.wrike.com/hc/en-us/categories/200942135-Monitoring-Panel', 'https://help.wrike.com/hc/en-us/sections/201893085-Reporting', 'https://help.wrike.com/hc/en-us/categories/200913179-Account-Management'}\n",
      "/home/alex/chat_bot_wrike/wrike-bot/help_good_for_wrike/search?page=5&query=time+report&utf8=%E2%9C%93.csv\n",
      "Saving as : /home/alex/chat_bot_wrike/wrike-bot/help_good_for_wrike/search?page=4&query=time+report&utf8=%E2%9C%93.csv {'https://help.wrike.com/hc/en-us/sections/201893085-Reporting', 'https://help.wrike.com/hc/en-us/categories/200942135-Monitoring-Panel', 'https://help.wrike.com/hc/en-us/sections/201834259-Advanced', 'https://help.wrike.com/hc/en-us/categories/200942115-Tasks-Folders-Projects-and-Spaces'}\n",
      "/home/alex/chat_bot_wrike/wrike-bot/help_good_for_wrike/search?page=4&query=time+report&utf8=%E2%9C%93.csv\n"
     ]
    },
    {
     "name": "stderr",
     "output_type": "stream",
     "text": [
      "2020-09-13 08:08:29 [scrapy.extensions.logstats] INFO: Crawled 129967 pages (at 339 pages/min), scraped 0 items (at 0 items/min)\n",
      "2020-09-13 08:09:22 [scrapy.extensions.logstats] INFO: Crawled 130275 pages (at 308 pages/min), scraped 0 items (at 0 items/min)\n",
      "2020-09-13 08:10:18 [scrapy.extensions.logstats] INFO: Crawled 130531 pages (at 256 pages/min), scraped 0 items (at 0 items/min)\n",
      "2020-09-13 08:11:18 [scrapy.extensions.logstats] INFO: Crawled 130924 pages (at 393 pages/min), scraped 0 items (at 0 items/min)\n",
      "2020-09-13 08:12:18 [scrapy.extensions.logstats] INFO: Crawled 131158 pages (at 234 pages/min), scraped 0 items (at 0 items/min)\n",
      "2020-09-13 08:13:18 [scrapy.extensions.logstats] INFO: Crawled 131531 pages (at 373 pages/min), scraped 0 items (at 0 items/min)\n",
      "2020-09-13 08:14:21 [scrapy.extensions.logstats] INFO: Crawled 131868 pages (at 337 pages/min), scraped 0 items (at 0 items/min)\n",
      "2020-09-13 08:15:19 [scrapy.extensions.logstats] INFO: Crawled 132150 pages (at 282 pages/min), scraped 0 items (at 0 items/min)\n",
      "2020-09-13 08:16:19 [scrapy.extensions.logstats] INFO: Crawled 132557 pages (at 407 pages/min), scraped 0 items (at 0 items/min)\n"
     ]
    },
    {
     "name": "stdout",
     "output_type": "stream",
     "text": [
      "Saving as : /home/alex/chat_bot_wrike/wrike-bot/help_good_for_wrike/360014256914-Task.csv {'https://help.wrike.com/hc/en-us/articles/210323305-Delete-Tasks'}\n",
      "/home/alex/chat_bot_wrike/wrike-bot/help_good_for_wrike/360014256914-Task.csv\n",
      "Saving as : /home/alex/chat_bot_wrike/wrike-bot/help_good_for_wrike/360014256914-Task?page=1.csv {'https://help.wrike.com/hc/en-us/articles/210323305-Delete-Tasks'}\n",
      "/home/alex/chat_bot_wrike/wrike-bot/help_good_for_wrike/360014256914-Task?page=1.csv\n",
      "Saving as : /home/alex/chat_bot_wrike/wrike-bot/help_good_for_wrike/360014960514-Auto-Assign-Folder-by-Workflow-Status.csv {'https://help.wrike.com/hc/en-us/articles/210322785-Custom-Statuses-and-Workflows'}\n",
      "/home/alex/chat_bot_wrike/wrike-bot/help_good_for_wrike/360014960514-Auto-Assign-Folder-by-Workflow-Status.csv\n",
      "Saving as : /home/alex/chat_bot_wrike/wrike-bot/help_good_for_wrike/360014960514-Auto-Assign-Folder-by-Workflow-Status?page=1.csv {'https://help.wrike.com/hc/en-us/articles/210322785-Custom-Statuses-and-Workflows'}\n",
      "/home/alex/chat_bot_wrike/wrike-bot/help_good_for_wrike/360014960514-Auto-Assign-Folder-by-Workflow-Status?page=1.csv\n"
     ]
    },
    {
     "name": "stderr",
     "output_type": "stream",
     "text": [
      "2020-09-13 08:17:18 [scrapy.extensions.logstats] INFO: Crawled 132798 pages (at 241 pages/min), scraped 0 items (at 0 items/min)\n",
      "2020-09-13 08:18:18 [scrapy.extensions.logstats] INFO: Crawled 133090 pages (at 292 pages/min), scraped 0 items (at 0 items/min)\n",
      "2020-09-13 08:19:18 [scrapy.extensions.logstats] INFO: Crawled 133450 pages (at 360 pages/min), scraped 0 items (at 0 items/min)\n"
     ]
    },
    {
     "name": "stdout",
     "output_type": "stream",
     "text": [
      "Saving as : /home/alex/chat_bot_wrike/wrike-bot/help_good_for_wrike/209603589-.csv {'https://help.wrike.com/hc/en-us/articles/209603949-Business', 'https://help.wrike.com/hc/en-us/articles/360035863834-Wrike-for-Professional-Services', 'https://help.wrike.com/hc/en-us/articles/360024767374-Wrike-Resource-Overview', 'https://help.wrike.com/hc/en-us/articles/209602989-User-Groups', 'https://help.wrike.com/hc/en-us/articles/209602969-Sharing#about'}\n",
      "/home/alex/chat_bot_wrike/wrike-bot/help_good_for_wrike/209603589-.csv\n"
     ]
    },
    {
     "name": "stderr",
     "output_type": "stream",
     "text": [
      "2020-09-13 08:20:20 [scrapy.extensions.logstats] INFO: Crawled 133832 pages (at 382 pages/min), scraped 0 items (at 0 items/min)\n",
      "2020-09-13 08:21:19 [scrapy.extensions.logstats] INFO: Crawled 134152 pages (at 320 pages/min), scraped 0 items (at 0 items/min)\n"
     ]
    },
    {
     "name": "stdout",
     "output_type": "stream",
     "text": [
      "Saving as : /home/alex/chat_bot_wrike/wrike-bot/help_good_for_wrike/12592462665-Cameron-Korb?filter_by=comments&page=1&sort_by=recent_user_activity.csv {'https://help.wrike.com/hc/en-us/categories/200942115-Tasks-Folders-Projects-and-Spaces', 'https://help.wrike.com/hc/en-us/sections/201834259-Advanced', 'https://help.wrike.com/hc/en-us/articles/360010049154-Custom-Field-Management'}\n",
      "/home/alex/chat_bot_wrike/wrike-bot/help_good_for_wrike/12592462665-Cameron-Korb?filter_by=comments&page=1&sort_by=recent_user_activity.csv\n",
      "Saving as : /home/alex/chat_bot_wrike/wrike-bot/help_good_for_wrike/12592462665-Cameron-Korb?filter_by=comments&page=2&sort_by=votes.csv {'https://help.wrike.com/hc/en-us/categories/200942115-Tasks-Folders-Projects-and-Spaces', 'https://help.wrike.com/hc/en-us/sections/201834259-Advanced', 'https://help.wrike.com/hc/en-us/articles/360010049154-Custom-Field-Management'}\n"
     ]
    },
    {
     "name": "stderr",
     "output_type": "stream",
     "text": [
      "2020-09-13 08:22:20 [scrapy.extensions.logstats] INFO: Crawled 134500 pages (at 348 pages/min), scraped 0 items (at 0 items/min)\n"
     ]
    },
    {
     "name": "stdout",
     "output_type": "stream",
     "text": [
      "/home/alex/chat_bot_wrike/wrike-bot/help_good_for_wrike/12592462665-Cameron-Korb?filter_by=comments&page=2&sort_by=votes.csv\n",
      "Saving as : /home/alex/chat_bot_wrike/wrike-bot/help_good_for_wrike/360010062173-Import-from-MS-project-?page=1.csv {'https://help.wrike.com/hc/en-us/articles/209605149-Import-MS-Project-Files'}\n",
      "/home/alex/chat_bot_wrike/wrike-bot/help_good_for_wrike/360010062173-Import-from-MS-project-?page=1.csv\n",
      "Saving as : /home/alex/chat_bot_wrike/wrike-bot/help_good_for_wrike/360010062173-Import-from-MS-project-.csv {'https://help.wrike.com/hc/en-us/articles/209605149-Import-MS-Project-Files'}\n",
      "/home/alex/chat_bot_wrike/wrike-bot/help_good_for_wrike/360010062173-Import-from-MS-project-.csv\n"
     ]
    },
    {
     "name": "stderr",
     "output_type": "stream",
     "text": [
      "2020-09-13 08:23:19 [scrapy.extensions.logstats] INFO: Crawled 134755 pages (at 255 pages/min), scraped 0 items (at 0 items/min)\n",
      "2020-09-13 08:24:19 [scrapy.extensions.logstats] INFO: Crawled 135027 pages (at 272 pages/min), scraped 0 items (at 0 items/min)\n"
     ]
    },
    {
     "name": "stdout",
     "output_type": "stream",
     "text": [
      "Saving as : /home/alex/chat_bot_wrike/wrike-bot/help_good_for_wrike/115004472209--Status-Launched-Proofing-Guest-User-Proofer-Option-outside-Wrike-Ecosystem.csv {'https://help.wrike.com/hc/en-us/articles/360009639733-Guest-Reviews'}\n",
      "/home/alex/chat_bot_wrike/wrike-bot/help_good_for_wrike/115004472209--Status-Launched-Proofing-Guest-User-Proofer-Option-outside-Wrike-Ecosystem.csv\n"
     ]
    },
    {
     "name": "stderr",
     "output_type": "stream",
     "text": [
      "2020-09-13 08:25:19 [scrapy.extensions.logstats] INFO: Crawled 135560 pages (at 533 pages/min), scraped 0 items (at 0 items/min)\n",
      "2020-09-13 08:26:18 [scrapy.extensions.logstats] INFO: Crawled 136117 pages (at 557 pages/min), scraped 0 items (at 0 items/min)\n",
      "2020-09-13 08:27:18 [scrapy.extensions.logstats] INFO: Crawled 136678 pages (at 561 pages/min), scraped 0 items (at 0 items/min)\n",
      "2020-09-13 08:28:18 [scrapy.extensions.logstats] INFO: Crawled 137183 pages (at 505 pages/min), scraped 0 items (at 0 items/min)\n",
      "2020-09-13 08:29:18 [scrapy.extensions.logstats] INFO: Crawled 137758 pages (at 575 pages/min), scraped 0 items (at 0 items/min)\n",
      "2020-09-13 08:30:18 [scrapy.extensions.logstats] INFO: Crawled 138275 pages (at 517 pages/min), scraped 0 items (at 0 items/min)\n",
      "2020-09-13 08:31:18 [scrapy.extensions.logstats] INFO: Crawled 138862 pages (at 587 pages/min), scraped 0 items (at 0 items/min)\n",
      "2020-09-13 08:32:18 [scrapy.extensions.logstats] INFO: Crawled 139446 pages (at 584 pages/min), scraped 0 items (at 0 items/min)\n",
      "2020-09-13 08:33:18 [scrapy.extensions.logstats] INFO: Crawled 140018 pages (at 572 pages/min), scraped 0 items (at 0 items/min)\n",
      "2020-09-13 08:34:18 [scrapy.extensions.logstats] INFO: Crawled 140540 pages (at 522 pages/min), scraped 0 items (at 0 items/min)\n",
      "2020-09-13 08:35:18 [scrapy.extensions.logstats] INFO: Crawled 141102 pages (at 562 pages/min), scraped 0 items (at 0 items/min)\n",
      "2020-09-13 08:36:18 [scrapy.extensions.logstats] INFO: Crawled 141650 pages (at 548 pages/min), scraped 0 items (at 0 items/min)\n",
      "2020-09-13 08:37:18 [scrapy.extensions.logstats] INFO: Crawled 142217 pages (at 567 pages/min), scraped 0 items (at 0 items/min)\n",
      "2020-09-13 08:38:18 [scrapy.extensions.logstats] INFO: Crawled 142747 pages (at 530 pages/min), scraped 0 items (at 0 items/min)\n",
      "2020-09-13 08:39:18 [scrapy.extensions.logstats] INFO: Crawled 143314 pages (at 567 pages/min), scraped 0 items (at 0 items/min)\n"
     ]
    },
    {
     "name": "stdout",
     "output_type": "stream",
     "text": [
      "Saving as : /home/alex/chat_bot_wrike/wrike-bot/help_good_for_wrike/210324345-Add-Users.csv {'https://help.wrike.com/hc/en-us/articles/209605449-Admin-Permissions', 'https://help.wrike.com/hc/en-us/articles/210324485-Advanced-Security-Settings#invitation', 'https://help.wrike.com/hc/en-us/articles/209602969-Sharing'}\n",
      "/home/alex/chat_bot_wrike/wrike-bot/help_good_for_wrike/210324345-Add-Users.csv\n"
     ]
    },
    {
     "name": "stderr",
     "output_type": "stream",
     "text": [
      "2020-09-13 08:40:18 [scrapy.extensions.logstats] INFO: Crawled 143544 pages (at 230 pages/min), scraped 0 items (at 0 items/min)\n",
      "2020-09-13 08:41:18 [scrapy.extensions.logstats] INFO: Crawled 143825 pages (at 281 pages/min), scraped 0 items (at 0 items/min)\n",
      "2020-09-13 08:42:18 [scrapy.extensions.logstats] INFO: Crawled 144282 pages (at 457 pages/min), scraped 0 items (at 0 items/min)\n"
     ]
    },
    {
     "name": "stdout",
     "output_type": "stream",
     "text": [
      "Saving as : /home/alex/chat_bot_wrike/wrike-bot/help_good_for_wrike/115003241569-custom-fields-.csv {'https://help.wrike.com/hc/en-us/articles/209603049-Custom-Fields'}\n",
      "/home/alex/chat_bot_wrike/wrike-bot/help_good_for_wrike/115003241569-custom-fields-.csv\n",
      "Saving as : /home/alex/chat_bot_wrike/wrike-bot/help_good_for_wrike/115003241569-custom-fields-?page=1.csv {'https://help.wrike.com/hc/en-us/articles/209603049-Custom-Fields'}\n",
      "/home/alex/chat_bot_wrike/wrike-bot/help_good_for_wrike/115003241569-custom-fields-?page=1.csv\n"
     ]
    },
    {
     "name": "stderr",
     "output_type": "stream",
     "text": [
      "2020-09-13 08:43:19 [scrapy.extensions.logstats] INFO: Crawled 144626 pages (at 344 pages/min), scraped 0 items (at 0 items/min)\n",
      "2020-09-13 08:44:18 [scrapy.extensions.logstats] INFO: Crawled 144802 pages (at 176 pages/min), scraped 0 items (at 0 items/min)\n"
     ]
    },
    {
     "name": "stdout",
     "output_type": "stream",
     "text": [
      "Saving as : /home/alex/chat_bot_wrike/wrike-bot/help_good_for_wrike/360013445394?flash_digest=eccb7d0c6d6d609a62adeb0eb15bfc7b2cf3d38f.csv {'https://help.wrike.com/hc/en-us/articles/360010835433-Workload-Charts', 'https://help.wrike.com/hc/en-us/articles/210323405-Collaborators'}\n",
      "/home/alex/chat_bot_wrike/wrike-bot/help_good_for_wrike/360013445394?flash_digest=eccb7d0c6d6d609a62adeb0eb15bfc7b2cf3d38f.csv\n"
     ]
    },
    {
     "name": "stderr",
     "output_type": "stream",
     "text": [
      "2020-09-13 08:45:18 [scrapy.extensions.logstats] INFO: Crawled 145056 pages (at 254 pages/min), scraped 0 items (at 0 items/min)\n",
      "2020-09-13 08:46:18 [scrapy.extensions.logstats] INFO: Crawled 145322 pages (at 266 pages/min), scraped 0 items (at 0 items/min)\n"
     ]
    },
    {
     "name": "stdout",
     "output_type": "stream",
     "text": [
      "Saving as : /home/alex/chat_bot_wrike/wrike-bot/help_good_for_wrike/115002886889--View-As-Feature.csv {'https://help.wrike.com/hc/en-us/articles/115004551205-Log-In-as-Another-User'}\n",
      "/home/alex/chat_bot_wrike/wrike-bot/help_good_for_wrike/115002886889--View-As-Feature.csv\n",
      "Saving as : /home/alex/chat_bot_wrike/wrike-bot/help_good_for_wrike/115002886889--View-As-Feature?page=1.csv {'https://help.wrike.com/hc/en-us/articles/115004551205-Log-In-as-Another-User'}\n",
      "/home/alex/chat_bot_wrike/wrike-bot/help_good_for_wrike/115002886889--View-As-Feature?page=1.csv\n"
     ]
    },
    {
     "name": "stderr",
     "output_type": "stream",
     "text": [
      "2020-09-13 08:47:18 [scrapy.extensions.logstats] INFO: Crawled 145510 pages (at 188 pages/min), scraped 0 items (at 0 items/min)\n",
      "2020-09-13 08:48:18 [scrapy.extensions.logstats] INFO: Crawled 145777 pages (at 267 pages/min), scraped 0 items (at 0 items/min)\n"
     ]
    },
    {
     "name": "stdout",
     "output_type": "stream",
     "text": [
      "Saving as : /home/alex/chat_bot_wrike/wrike-bot/help_good_for_wrike/360018621913-Can-I-resend-a-Tasks-for-Today-email-?page=1.csv {'https://help.wrike.com/hc/en-us/articles/210324405-Email-Notifications#edit'}\n",
      "/home/alex/chat_bot_wrike/wrike-bot/help_good_for_wrike/360018621913-Can-I-resend-a-Tasks-for-Today-email-?page=1.csv\n",
      "Saving as : /home/alex/chat_bot_wrike/wrike-bot/help_good_for_wrike/360018621913-Can-I-resend-a-Tasks-for-Today-email-.csv {'https://help.wrike.com/hc/en-us/articles/210324405-Email-Notifications#edit'}\n",
      "/home/alex/chat_bot_wrike/wrike-bot/help_good_for_wrike/360018621913-Can-I-resend-a-Tasks-for-Today-email-.csv\n",
      "Saving as : /home/alex/chat_bot_wrike/wrike-bot/help_good_for_wrike/360018047013-Get-thing-done-with-Wrike-.csv {'https://help.wrike.com/hc/en-us/articles/115004551205-Log-In-as-Another-User'}\n",
      "/home/alex/chat_bot_wrike/wrike-bot/help_good_for_wrike/360018047013-Get-thing-done-with-Wrike-.csv\n",
      "Saving as : /home/alex/chat_bot_wrike/wrike-bot/help_good_for_wrike/360018047013-Get-thing-done-with-Wrike-?page=1.csv {'https://help.wrike.com/hc/en-us/articles/115004551205-Log-In-as-Another-User'}\n",
      "/home/alex/chat_bot_wrike/wrike-bot/help_good_for_wrike/360018047013-Get-thing-done-with-Wrike-?page=1.csv\n"
     ]
    },
    {
     "name": "stderr",
     "output_type": "stream",
     "text": [
      "2020-09-13 08:49:18 [scrapy.extensions.logstats] INFO: Crawled 146086 pages (at 309 pages/min), scraped 0 items (at 0 items/min)\n",
      "2020-09-13 08:50:19 [scrapy.extensions.logstats] INFO: Crawled 146402 pages (at 316 pages/min), scraped 0 items (at 0 items/min)\n",
      "2020-09-13 08:51:20 [scrapy.extensions.logstats] INFO: Crawled 146618 pages (at 216 pages/min), scraped 0 items (at 0 items/min)\n"
     ]
    },
    {
     "name": "stdout",
     "output_type": "stream",
     "text": [
      "Saving as : /home/alex/chat_bot_wrike/wrike-bot/help_good_for_wrike/209605369-.csv {'https://help.wrike.com/hc/en-us/articles/209603889-Mass-Editing', 'https://help.wrike.com/hc/en-us/articles/210323385-Free', 'https://help.wrike.com/hc/en-us/articles/209603949-Business', 'https://help.wrike.com/hc/en-us/articles/210324325-Controlled-Admin-Permissions', 'https://help.wrike.com/hc/en-us/articles/209603769-Make-a-Task-Recurrent', 'https://help.wrike.com/hc/en-us/articles/209603929-Professional', 'https://help.wrike.com/hc/en-us/articles/209603969-Enterprise'}\n",
      "/home/alex/chat_bot_wrike/wrike-bot/help_good_for_wrike/209605369-.csv\n"
     ]
    },
    {
     "name": "stderr",
     "output_type": "stream",
     "text": [
      "2020-09-13 08:52:18 [scrapy.extensions.logstats] INFO: Crawled 146889 pages (at 271 pages/min), scraped 0 items (at 0 items/min)\n",
      "2020-09-13 08:53:18 [scrapy.extensions.logstats] INFO: Crawled 147121 pages (at 232 pages/min), scraped 0 items (at 0 items/min)\n",
      "2020-09-13 08:54:18 [scrapy.extensions.logstats] INFO: Crawled 147392 pages (at 271 pages/min), scraped 0 items (at 0 items/min)\n"
     ]
    },
    {
     "name": "stdout",
     "output_type": "stream",
     "text": [
      "Saving as : /home/alex/chat_bot_wrike/wrike-bot/help_good_for_wrike/115004472209--Status-Launched-Proofing-Guest-User-Proofer-Option-outside-Wrike-Ecosystem?page=1.csv {'https://help.wrike.com/hc/en-us/articles/360009639733-Guest-Reviews'}\n",
      "/home/alex/chat_bot_wrike/wrike-bot/help_good_for_wrike/115004472209--Status-Launched-Proofing-Guest-User-Proofer-Option-outside-Wrike-Ecosystem?page=1.csv\n",
      "Saving as : /home/alex/chat_bot_wrike/wrike-bot/help_good_for_wrike/360011997854-Checking-all-the-tracking-hours-of-the-day.csv {'https://help.wrike.com/hc/en-us/articles/209603089-Time-Tracking'}\n",
      "/home/alex/chat_bot_wrike/wrike-bot/help_good_for_wrike/360011997854-Checking-all-the-tracking-hours-of-the-day.csv\n",
      "Saving as : /home/alex/chat_bot_wrike/wrike-bot/help_good_for_wrike/360011997854-Checking-all-the-tracking-hours-of-the-day?page=1.csv {'https://help.wrike.com/hc/en-us/articles/209603089-Time-Tracking'}\n",
      "/home/alex/chat_bot_wrike/wrike-bot/help_good_for_wrike/360011997854-Checking-all-the-tracking-hours-of-the-day?page=1.csv\n"
     ]
    },
    {
     "name": "stderr",
     "output_type": "stream",
     "text": [
      "2020-09-13 08:55:19 [scrapy.extensions.logstats] INFO: Crawled 147682 pages (at 290 pages/min), scraped 0 items (at 0 items/min)\n",
      "2020-09-13 08:56:20 [scrapy.extensions.logstats] INFO: Crawled 147957 pages (at 275 pages/min), scraped 0 items (at 0 items/min)\n",
      "2020-09-13 08:57:18 [scrapy.extensions.logstats] INFO: Crawled 148233 pages (at 276 pages/min), scraped 0 items (at 0 items/min)\n",
      "2020-09-13 08:58:18 [scrapy.extensions.logstats] INFO: Crawled 148563 pages (at 330 pages/min), scraped 0 items (at 0 items/min)\n",
      "2020-09-13 09:00:31 [scrapy.core.scraper] ERROR: Spider error processing <GET https://help.wrike.com/hc/en-us/community/posts/360009152373-Survey-in-Tasks> (referer: https://help.wrike.com/hc/en-us/profiles/17452335505-Maurice-Stucke)\n",
      "Traceback (most recent call last):\n",
      "  File \"/home/alex/anaconda3/lib/python3.7/site-packages/scrapy/utils/defer.py\", line 120, in iter_errback\n",
      "    yield next(it)\n",
      "  File \"/home/alex/anaconda3/lib/python3.7/site-packages/scrapy/utils/python.py\", line 347, in __next__\n",
      "    return next(self.data)\n",
      "  File \"/home/alex/anaconda3/lib/python3.7/site-packages/scrapy/utils/python.py\", line 347, in __next__\n",
      "    return next(self.data)\n",
      "  File \"/home/alex/anaconda3/lib/python3.7/site-packages/scrapy/core/spidermw.py\", line 64, in _evaluate_iterable\n",
      "    for r in iterable:\n",
      "  File \"/home/alex/anaconda3/lib/python3.7/site-packages/scrapy/spidermiddlewares/offsite.py\", line 29, in process_spider_output\n",
      "    for x in result:\n",
      "  File \"/home/alex/anaconda3/lib/python3.7/site-packages/scrapy/core/spidermw.py\", line 64, in _evaluate_iterable\n",
      "    for r in iterable:\n",
      "  File \"/home/alex/anaconda3/lib/python3.7/site-packages/scrapy/spidermiddlewares/referer.py\", line 340, in <genexpr>\n",
      "    return (_set_referer(r) for r in result or ())\n",
      "  File \"/home/alex/anaconda3/lib/python3.7/site-packages/scrapy/core/spidermw.py\", line 64, in _evaluate_iterable\n",
      "    for r in iterable:\n",
      "  File \"/home/alex/anaconda3/lib/python3.7/site-packages/scrapy/spidermiddlewares/urllength.py\", line 37, in <genexpr>\n",
      "    return (r for r in result or () if _filter(r))\n",
      "  File \"/home/alex/anaconda3/lib/python3.7/site-packages/scrapy/core/spidermw.py\", line 64, in _evaluate_iterable\n",
      "    for r in iterable:\n",
      "  File \"/home/alex/anaconda3/lib/python3.7/site-packages/scrapy/spidermiddlewares/depth.py\", line 58, in <genexpr>\n",
      "    return (r for r in result or () if _filter(r))\n",
      "  File \"/home/alex/anaconda3/lib/python3.7/site-packages/scrapy/core/spidermw.py\", line 64, in _evaluate_iterable\n",
      "    for r in iterable:\n",
      "  File \"/home/alex/anaconda3/lib/python3.7/site-packages/scrapy/spiders/crawl.py\", line 125, in _parse_response\n",
      "    cb_res = callback(response, **cb_kwargs) or ()\n",
      "  File \"<ipython-input-12-448d7b4b2073>\", line 39, in parse_item\n",
      "    html = urllib.request.urlopen(response.url).read()\n",
      "  File \"/home/alex/anaconda3/lib/python3.7/urllib/request.py\", line 222, in urlopen\n",
      "    return opener.open(url, data, timeout)\n",
      "  File \"/home/alex/anaconda3/lib/python3.7/urllib/request.py\", line 531, in open\n",
      "    response = meth(req, response)\n",
      "  File \"/home/alex/anaconda3/lib/python3.7/urllib/request.py\", line 641, in http_response\n",
      "    'http', request, response, code, msg, hdrs)\n",
      "  File \"/home/alex/anaconda3/lib/python3.7/urllib/request.py\", line 569, in error\n",
      "    return self._call_chain(*args)\n",
      "  File \"/home/alex/anaconda3/lib/python3.7/urllib/request.py\", line 503, in _call_chain\n",
      "    result = func(*args)\n",
      "  File \"/home/alex/anaconda3/lib/python3.7/urllib/request.py\", line 649, in http_error_default\n",
      "    raise HTTPError(req.full_url, code, msg, hdrs, fp)\n",
      "urllib.error.HTTPError: HTTP Error 524: Origin Time-out\n",
      "2020-09-13 09:00:31 [scrapy.extensions.logstats] INFO: Crawled 148606 pages (at 43 pages/min), scraped 0 items (at 0 items/min)\n",
      "2020-09-13 09:01:18 [scrapy.extensions.logstats] INFO: Crawled 148792 pages (at 186 pages/min), scraped 0 items (at 0 items/min)\n",
      "2020-09-13 09:02:18 [scrapy.extensions.logstats] INFO: Crawled 149007 pages (at 215 pages/min), scraped 0 items (at 0 items/min)\n"
     ]
    },
    {
     "name": "stdout",
     "output_type": "stream",
     "text": [
      "Saving as : /home/alex/chat_bot_wrike/wrike-bot/help_good_for_wrike/115000536485-Assign-a-task-based-on-its-folder-project-default-task-owner-?page=1.csv {'https://help.wrike.com/hc/en-us/articles/115005876769-Advanced-Custom-Workflows#auto'}\n",
      "/home/alex/chat_bot_wrike/wrike-bot/help_good_for_wrike/115000536485-Assign-a-task-based-on-its-folder-project-default-task-owner-?page=1.csv\n"
     ]
    },
    {
     "name": "stderr",
     "output_type": "stream",
     "text": [
      "2020-09-13 09:03:18 [scrapy.extensions.logstats] INFO: Crawled 149299 pages (at 292 pages/min), scraped 0 items (at 0 items/min)\n",
      "2020-09-13 09:04:19 [scrapy.extensions.logstats] INFO: Crawled 149779 pages (at 480 pages/min), scraped 0 items (at 0 items/min)\n",
      "2020-09-13 09:05:18 [scrapy.extensions.logstats] INFO: Crawled 150323 pages (at 544 pages/min), scraped 0 items (at 0 items/min)\n",
      "2020-09-13 09:06:19 [scrapy.extensions.logstats] INFO: Crawled 150656 pages (at 333 pages/min), scraped 0 items (at 0 items/min)\n",
      "2020-09-13 09:07:18 [scrapy.extensions.logstats] INFO: Crawled 151039 pages (at 383 pages/min), scraped 0 items (at 0 items/min)\n",
      "2020-09-13 09:08:18 [scrapy.extensions.logstats] INFO: Crawled 151379 pages (at 340 pages/min), scraped 0 items (at 0 items/min)\n",
      "2020-09-13 09:09:18 [scrapy.extensions.logstats] INFO: Crawled 151876 pages (at 497 pages/min), scraped 0 items (at 0 items/min)\n",
      "2020-09-13 09:10:18 [scrapy.extensions.logstats] INFO: Crawled 152206 pages (at 330 pages/min), scraped 0 items (at 0 items/min)\n"
     ]
    },
    {
     "name": "stdout",
     "output_type": "stream",
     "text": [
      "Saving as : /home/alex/chat_bot_wrike/wrike-bot/help_good_for_wrike/360005778794-Table-View?flash_digest=8b344195a8dfc7553f0d03b30aeb940a44a0c044.csv {'https://help.wrike.com/hc/en-us/articles/210323405-Collaborators', 'https://help.wrike.com/hc/en-us/articles/209603329-Job-Numbers', 'https://help.wrike.com/hc/en-us/articles/209603049-Custom-Fields#create', 'https://help.wrike.com/hc/en-us/articles/210322945-Recycle-Bin', 'https://help.wrike.com/hc/en-us/articles/209603949-Business', 'https://help.wrike.com/hc/en-us/articles/360010852973-Task-Effort', 'https://help.wrike.com/hc/en-us/articles/360035863834-Wrike-for-Professional-Services', 'https://help.wrike.com/hc/en-us/articles/210323325-List-View-Sorting-and-Prioritizing-Tasks#sorting', 'https://help.wrike.com/hc/en-us/articles/360024767374-Wrike-Resource-Overview', 'https://help.wrike.com/hc/en-us/articles/209603049-Custom-Fields', 'https://help.wrike.com/hc/en-us/articles/209603969-Enterprise'}\n",
      "/home/alex/chat_bot_wrike/wrike-bot/help_good_for_wrike/360005778794-Table-View?flash_digest=8b344195a8dfc7553f0d03b30aeb940a44a0c044.csv\n"
     ]
    },
    {
     "name": "stderr",
     "output_type": "stream",
     "text": [
      "2020-09-13 09:11:19 [scrapy.extensions.logstats] INFO: Crawled 152640 pages (at 434 pages/min), scraped 0 items (at 0 items/min)\n",
      "2020-09-13 09:12:18 [scrapy.extensions.logstats] INFO: Crawled 152856 pages (at 216 pages/min), scraped 0 items (at 0 items/min)\n",
      "2020-09-13 09:13:18 [scrapy.extensions.logstats] INFO: Crawled 153103 pages (at 247 pages/min), scraped 0 items (at 0 items/min)\n",
      "2020-09-13 09:14:18 [scrapy.extensions.logstats] INFO: Crawled 153531 pages (at 428 pages/min), scraped 0 items (at 0 items/min)\n",
      "2020-09-13 09:15:18 [scrapy.extensions.logstats] INFO: Crawled 154173 pages (at 642 pages/min), scraped 0 items (at 0 items/min)\n",
      "2020-09-13 09:16:18 [scrapy.extensions.logstats] INFO: Crawled 154621 pages (at 448 pages/min), scraped 0 items (at 0 items/min)\n",
      "2020-09-13 09:17:18 [scrapy.extensions.logstats] INFO: Crawled 155364 pages (at 743 pages/min), scraped 0 items (at 0 items/min)\n",
      "2020-09-13 09:18:18 [scrapy.extensions.logstats] INFO: Crawled 155925 pages (at 561 pages/min), scraped 0 items (at 0 items/min)\n",
      "2020-09-13 09:19:18 [scrapy.extensions.logstats] INFO: Crawled 156499 pages (at 574 pages/min), scraped 0 items (at 0 items/min)\n",
      "2020-09-13 09:20:18 [scrapy.extensions.logstats] INFO: Crawled 157176 pages (at 677 pages/min), scraped 0 items (at 0 items/min)\n",
      "2020-09-13 09:21:18 [scrapy.extensions.logstats] INFO: Crawled 157882 pages (at 706 pages/min), scraped 0 items (at 0 items/min)\n",
      "2020-09-13 09:22:18 [scrapy.extensions.logstats] INFO: Crawled 158504 pages (at 622 pages/min), scraped 0 items (at 0 items/min)\n",
      "2020-09-13 09:23:18 [scrapy.extensions.logstats] INFO: Crawled 159213 pages (at 709 pages/min), scraped 0 items (at 0 items/min)\n",
      "2020-09-13 09:24:18 [scrapy.extensions.logstats] INFO: Crawled 159925 pages (at 712 pages/min), scraped 0 items (at 0 items/min)\n",
      "2020-09-13 09:25:18 [scrapy.extensions.logstats] INFO: Crawled 160690 pages (at 765 pages/min), scraped 0 items (at 0 items/min)\n",
      "2020-09-13 09:26:18 [scrapy.extensions.logstats] INFO: Crawled 161451 pages (at 761 pages/min), scraped 0 items (at 0 items/min)\n",
      "2020-09-13 09:27:18 [scrapy.extensions.logstats] INFO: Crawled 162124 pages (at 673 pages/min), scraped 0 items (at 0 items/min)\n",
      "2020-09-13 09:28:18 [scrapy.extensions.logstats] INFO: Crawled 162956 pages (at 832 pages/min), scraped 0 items (at 0 items/min)\n",
      "2020-09-13 09:29:19 [scrapy.extensions.logstats] INFO: Crawled 163527 pages (at 571 pages/min), scraped 0 items (at 0 items/min)\n",
      "2020-09-13 09:30:18 [scrapy.extensions.logstats] INFO: Crawled 164030 pages (at 503 pages/min), scraped 0 items (at 0 items/min)\n",
      "2020-09-13 09:31:19 [scrapy.extensions.logstats] INFO: Crawled 164750 pages (at 720 pages/min), scraped 0 items (at 0 items/min)\n",
      "2020-09-13 09:32:18 [scrapy.extensions.logstats] INFO: Crawled 165325 pages (at 575 pages/min), scraped 0 items (at 0 items/min)\n",
      "2020-09-13 09:33:18 [scrapy.extensions.logstats] INFO: Crawled 165785 pages (at 460 pages/min), scraped 0 items (at 0 items/min)\n"
     ]
    },
    {
     "name": "stdout",
     "output_type": "stream",
     "text": [
      "Saving as : /home/alex/chat_bot_wrike/wrike-bot/help_good_for_wrike/search?filter_by=knowledge_base&query=create+a+folder&utf8=%E2%9C%93.csv {'https://help.wrike.com/hc/en-us/sections/201834259-Advanced', 'https://help.wrike.com/hc/en-us/sections/202423365-Everything-Else', 'https://help.wrike.com/hc/en-us/sections/360000935413-Troubleshooting', 'https://help.wrike.com/hc/en-us/sections/115001422569-Email', 'https://help.wrike.com/hc/en-us/sections/360001968634-Import-and-Export', 'https://help.wrike.com/hc/en-us/sections/201834249-Folders-and-Projects', 'https://help.wrike.com/hc/en-us/sections/201893045-Organization', 'https://help.wrike.com/hc/en-us/categories/200942115-Tasks-Folders-Projects-and-Spaces', 'https://help.wrike.com/hc/en-us/categories/200939185-Integrations', 'https://help.wrike.com/hc/en-us/categories/200913179-Account-Management'}\n",
      "/home/alex/chat_bot_wrike/wrike-bot/help_good_for_wrike/search?filter_by=knowledge_base&query=create+a+folder&utf8=%E2%9C%93.csv\n",
      "Saving as : /home/alex/chat_bot_wrike/wrike-bot/help_good_for_wrike/search?page=2&query=create+a+folder&utf8=%E2%9C%93.csv {'https://help.wrike.com/hc/en-us/sections/202423365-Everything-Else', 'https://help.wrike.com/hc/en-us/sections/201834249-Folders-and-Projects', 'https://help.wrike.com/hc/en-us/sections/201893045-Organization', 'https://help.wrike.com/hc/en-us/categories/200942115-Tasks-Folders-Projects-and-Spaces', 'https://help.wrike.com/hc/en-us/categories/200939185-Integrations'}\n",
      "/home/alex/chat_bot_wrike/wrike-bot/help_good_for_wrike/search?page=2&query=create+a+folder&utf8=%E2%9C%93.csv\n",
      "Saving as : /home/alex/chat_bot_wrike/wrike-bot/help_good_for_wrike/search?page=4&query=create+a+folder&utf8=%E2%9C%93.csv {'https://help.wrike.com/hc/en-us/sections/201834259-Advanced', 'https://help.wrike.com/hc/en-us/categories/200942115-Tasks-Folders-Projects-and-Spaces'}\n",
      "/home/alex/chat_bot_wrike/wrike-bot/help_good_for_wrike/search?page=4&query=create+a+folder&utf8=%E2%9C%93.csv\n",
      "Saving as : /home/alex/chat_bot_wrike/wrike-bot/help_good_for_wrike/search?page=5&query=create+a+folder&utf8=%E2%9C%93.csv {'https://help.wrike.com/hc/en-us/categories/200939185-Integrations', 'https://help.wrike.com/hc/en-us/sections/115001422569-Email', 'https://help.wrike.com/hc/en-us/sections/201893045-Organization', 'https://help.wrike.com/hc/en-us/categories/200942115-Tasks-Folders-Projects-and-Spaces'}\n",
      "/home/alex/chat_bot_wrike/wrike-bot/help_good_for_wrike/search?page=5&query=create+a+folder&utf8=%E2%9C%93.csv\n",
      "Saving as : /home/alex/chat_bot_wrike/wrike-bot/help_good_for_wrike/search?page=6&query=create+a+folder&utf8=%E2%9C%93.csv {'https://help.wrike.com/hc/en-us/sections/360000935413-Troubleshooting', 'https://help.wrike.com/hc/en-us/sections/360001968634-Import-and-Export', 'https://help.wrike.com/hc/en-us/categories/200913179-Account-Management', 'https://help.wrike.com/hc/en-us/categories/200942115-Tasks-Folders-Projects-and-Spaces', 'https://help.wrike.com/hc/en-us/categories/200939185-Integrations', 'https://help.wrike.com/hc/en-us/sections/201893055-Communication'}\n"
     ]
    },
    {
     "name": "stderr",
     "output_type": "stream",
     "text": [
      "2020-09-13 09:34:21 [scrapy.extensions.logstats] INFO: Crawled 165974 pages (at 189 pages/min), scraped 0 items (at 0 items/min)\n"
     ]
    },
    {
     "name": "stdout",
     "output_type": "stream",
     "text": [
      "/home/alex/chat_bot_wrike/wrike-bot/help_good_for_wrike/search?page=6&query=create+a+folder&utf8=%E2%9C%93.csv\n"
     ]
    },
    {
     "name": "stderr",
     "output_type": "stream",
     "text": [
      "2020-09-13 09:35:18 [scrapy.extensions.logstats] INFO: Crawled 166232 pages (at 258 pages/min), scraped 0 items (at 0 items/min)\n"
     ]
    },
    {
     "name": "stdout",
     "output_type": "stream",
     "text": [
      "Saving as : /home/alex/chat_bot_wrike/wrike-bot/help_good_for_wrike/115003869085-Outlook-Add-In.csv {'https://help.wrike.com/hc/en-us/articles/360034765174-Personal-Space#todo'}\n",
      "/home/alex/chat_bot_wrike/wrike-bot/help_good_for_wrike/115003869085-Outlook-Add-In.csv\n"
     ]
    },
    {
     "name": "stderr",
     "output_type": "stream",
     "text": [
      "2020-09-13 09:36:18 [scrapy.extensions.logstats] INFO: Crawled 166673 pages (at 441 pages/min), scraped 0 items (at 0 items/min)\n",
      "2020-09-13 09:37:18 [scrapy.extensions.logstats] INFO: Crawled 167386 pages (at 713 pages/min), scraped 0 items (at 0 items/min)\n",
      "2020-09-13 09:38:18 [scrapy.extensions.logstats] INFO: Crawled 168203 pages (at 817 pages/min), scraped 0 items (at 0 items/min)\n",
      "2020-09-13 09:39:18 [scrapy.extensions.logstats] INFO: Crawled 168591 pages (at 388 pages/min), scraped 0 items (at 0 items/min)\n",
      "2020-09-13 09:40:18 [scrapy.extensions.logstats] INFO: Crawled 169177 pages (at 586 pages/min), scraped 0 items (at 0 items/min)\n",
      "2020-09-13 09:41:18 [scrapy.extensions.logstats] INFO: Crawled 169889 pages (at 712 pages/min), scraped 0 items (at 0 items/min)\n",
      "2020-09-13 09:42:18 [scrapy.extensions.logstats] INFO: Crawled 170638 pages (at 749 pages/min), scraped 0 items (at 0 items/min)\n",
      "2020-09-13 09:43:18 [scrapy.extensions.logstats] INFO: Crawled 171199 pages (at 561 pages/min), scraped 0 items (at 0 items/min)\n",
      "2020-09-13 09:44:19 [scrapy.extensions.logstats] INFO: Crawled 171583 pages (at 384 pages/min), scraped 0 items (at 0 items/min)\n",
      "2020-09-13 09:45:18 [scrapy.extensions.logstats] INFO: Crawled 171968 pages (at 385 pages/min), scraped 0 items (at 0 items/min)\n"
     ]
    },
    {
     "name": "stdout",
     "output_type": "stream",
     "text": [
      "Saving as : /home/alex/chat_bot_wrike/wrike-bot/help_good_for_wrike/115004471689-When-modifying-contacts-via-API-gets-Operation-is-not-allowd-?page=1.csv {'https://help.wrike.com/hc/en-us/articles/209603949-Business'}\n",
      "/home/alex/chat_bot_wrike/wrike-bot/help_good_for_wrike/115004471689-When-modifying-contacts-via-API-gets-Operation-is-not-allowd-?page=1.csv\n"
     ]
    },
    {
     "name": "stderr",
     "output_type": "stream",
     "text": [
      "2020-09-13 09:46:19 [scrapy.extensions.logstats] INFO: Crawled 172397 pages (at 429 pages/min), scraped 0 items (at 0 items/min)\n",
      "2020-09-13 09:47:18 [scrapy.extensions.logstats] INFO: Crawled 172875 pages (at 478 pages/min), scraped 0 items (at 0 items/min)\n",
      "2020-09-13 09:48:18 [scrapy.extensions.logstats] INFO: Crawled 173414 pages (at 539 pages/min), scraped 0 items (at 0 items/min)\n",
      "2020-09-13 09:49:18 [scrapy.extensions.logstats] INFO: Crawled 174088 pages (at 674 pages/min), scraped 0 items (at 0 items/min)\n",
      "2020-09-13 09:50:18 [scrapy.extensions.logstats] INFO: Crawled 174731 pages (at 643 pages/min), scraped 0 items (at 0 items/min)\n",
      "2020-09-13 09:51:18 [scrapy.extensions.logstats] INFO: Crawled 175187 pages (at 456 pages/min), scraped 0 items (at 0 items/min)\n",
      "2020-09-13 09:52:19 [scrapy.extensions.logstats] INFO: Crawled 175446 pages (at 259 pages/min), scraped 0 items (at 0 items/min)\n",
      "2020-09-13 09:53:18 [scrapy.extensions.logstats] INFO: Crawled 175712 pages (at 266 pages/min), scraped 0 items (at 0 items/min)\n",
      "2020-09-13 09:54:18 [scrapy.extensions.logstats] INFO: Crawled 176160 pages (at 448 pages/min), scraped 0 items (at 0 items/min)\n",
      "2020-09-13 09:55:18 [scrapy.extensions.logstats] INFO: Crawled 176607 pages (at 447 pages/min), scraped 0 items (at 0 items/min)\n",
      "2020-09-13 09:56:18 [scrapy.extensions.logstats] INFO: Crawled 177019 pages (at 412 pages/min), scraped 0 items (at 0 items/min)\n",
      "2020-09-13 09:57:18 [scrapy.extensions.logstats] INFO: Crawled 177379 pages (at 360 pages/min), scraped 0 items (at 0 items/min)\n",
      "2020-09-13 09:58:18 [scrapy.extensions.logstats] INFO: Crawled 177863 pages (at 484 pages/min), scraped 0 items (at 0 items/min)\n",
      "2020-09-13 09:59:18 [scrapy.extensions.logstats] INFO: Crawled 178224 pages (at 361 pages/min), scraped 0 items (at 0 items/min)\n"
     ]
    },
    {
     "name": "stdout",
     "output_type": "stream",
     "text": [
      "Saving as : /home/alex/chat_bot_wrike/wrike-bot/help_good_for_wrike/360014514314-Error-with-Microsoft-Teams-app.csv {'https://help.wrike.com/hc/en-us/articles/115001825869-Microsoft-Teams'}\n",
      "/home/alex/chat_bot_wrike/wrike-bot/help_good_for_wrike/360014514314-Error-with-Microsoft-Teams-app.csv\n",
      "Saving as : /home/alex/chat_bot_wrike/wrike-bot/help_good_for_wrike/360014514314-Error-with-Microsoft-Teams-app?page=1.csv {'https://help.wrike.com/hc/en-us/articles/115001825869-Microsoft-Teams'}\n",
      "/home/alex/chat_bot_wrike/wrike-bot/help_good_for_wrike/360014514314-Error-with-Microsoft-Teams-app?page=1.csv\n",
      "Saving as : /home/alex/chat_bot_wrike/wrike-bot/help_good_for_wrike/115005190349-Release-Notes-September-27.csv {'https://help.wrike.com/hc/en-us/articles/210323705-Inbox#overview', 'https://help.wrike.com/hc/en-us/articles/210323705-Inbox#navigate', 'https://help.wrike.com/hc/en-us/articles/115004740045-Create-a-Request-Form-for-Admins-#response', 'https://help.wrike.com/hc/en-us/articles/210324605-Android-App'}\n",
      "/home/alex/chat_bot_wrike/wrike-bot/help_good_for_wrike/115005190349-Release-Notes-September-27.csv\n",
      "Saving as : /home/alex/chat_bot_wrike/wrike-bot/help_good_for_wrike/115005058709-Release-Notes-September-13.csv {'https://help.wrike.com/hc/en-us/articles/209603169-Request-Forms-Submit-a-Form-', 'https://help.wrike.com/hc/en-us/articles/209602989-User-Groups'}\n",
      "/home/alex/chat_bot_wrike/wrike-bot/help_good_for_wrike/115005058709-Release-Notes-September-13.csv\n",
      "Saving as : /home/alex/chat_bot_wrike/wrike-bot/help_good_for_wrike/115005126089-Release-Notes-September-20.csv {'https://help.wrike.com/hc/en-us/articles/209603309-Attachments'}\n",
      "/home/alex/chat_bot_wrike/wrike-bot/help_good_for_wrike/115005126089-Release-Notes-September-20.csv\n",
      "Saving as : /home/alex/chat_bot_wrike/wrike-bot/help_good_for_wrike/115004681229-Release-Notes-August-22.csv {'https://help.wrike.com/hc/en-us/articles/209605809-iOS-App#offline'}\n",
      "/home/alex/chat_bot_wrike/wrike-bot/help_good_for_wrike/115004681229-Release-Notes-August-22.csv\n",
      "Saving as : /home/alex/chat_bot_wrike/wrike-bot/help_good_for_wrike/115004480365-Release-Notes-August-8.csv {'https://help.wrike.com/hc/en-us/articles/210323705-Inbox', 'https://help.wrike.com/hc/en-us/articles/210323405-Collaborators', 'https://help.wrike.com/hc/en-us/articles/209604469-Dashboards', 'https://help.wrike.com/hc/en-us/articles/210322725-Keyboard-Shortcuts', 'https://help.wrike.com/hc/en-us/articles/209603049-Custom-Fields'}\n",
      "/home/alex/chat_bot_wrike/wrike-bot/help_good_for_wrike/115004480365-Release-Notes-August-8.csv\n",
      "Saving as : /home/alex/chat_bot_wrike/wrike-bot/help_good_for_wrike/115004540385-Release-Notes-August-16.csv {'https://help.wrike.com/hc/en-us/articles/115004530005-Deactivate-Users'}\n",
      "/home/alex/chat_bot_wrike/wrike-bot/help_good_for_wrike/115004540385-Release-Notes-August-16.csv\n"
     ]
    },
    {
     "name": "stderr",
     "output_type": "stream",
     "text": [
      "2020-09-13 10:00:19 [scrapy.extensions.logstats] INFO: Crawled 178446 pages (at 222 pages/min), scraped 0 items (at 0 items/min)\n",
      "2020-09-13 10:01:18 [scrapy.extensions.logstats] INFO: Crawled 178694 pages (at 248 pages/min), scraped 0 items (at 0 items/min)\n",
      "2020-09-13 10:02:18 [scrapy.extensions.logstats] INFO: Crawled 179012 pages (at 318 pages/min), scraped 0 items (at 0 items/min)\n",
      "2020-09-13 10:03:20 [scrapy.extensions.logstats] INFO: Crawled 179264 pages (at 252 pages/min), scraped 0 items (at 0 items/min)\n"
     ]
    },
    {
     "name": "stdout",
     "output_type": "stream",
     "text": [
      "Saving as : /home/alex/chat_bot_wrike/wrike-bot/help_good_for_wrike/211671189-Include-subtasks-in-task-export-?page=1.csv {'https://help.wrike.com/hc/en-us/articles/210323665-Report-Snapshots', 'https://help.wrike.com/hc/en-us/articles/212729565-Share-a-Report', 'https://help.wrike.com/hc/en-us/articles/210323405-Collaborators'}\n",
      "/home/alex/chat_bot_wrike/wrike-bot/help_good_for_wrike/211671189-Include-subtasks-in-task-export-?page=1.csv\n"
     ]
    },
    {
     "name": "stderr",
     "output_type": "stream",
     "text": [
      "2020-09-13 10:04:19 [scrapy.extensions.logstats] INFO: Crawled 179504 pages (at 240 pages/min), scraped 0 items (at 0 items/min)\n"
     ]
    },
    {
     "name": "stdout",
     "output_type": "stream",
     "text": [
      "Saving as : /home/alex/chat_bot_wrike/wrike-bot/help_good_for_wrike/209603889-.csv {'https://help.wrike.com/hc/en-us/articles/115005876769-Advanced-Custom-Workflows#how'}\n",
      "/home/alex/chat_bot_wrike/wrike-bot/help_good_for_wrike/209603889-.csv\n",
      "Saving as : /home/alex/chat_bot_wrike/wrike-bot/help_good_for_wrike/209603369-.csv {'https://help.wrike.com/hc/en-us/articles/209603889-Mass-Editing', 'https://help.wrike.com/hc/en-us/articles/209603989-Types-of-Licenses', 'https://help.wrike.com/hc/en-us/articles/209603649-Subfolders-and-Subprojects#convert'}\n",
      "/home/alex/chat_bot_wrike/wrike-bot/help_good_for_wrike/209603369-.csv\n"
     ]
    },
    {
     "name": "stderr",
     "output_type": "stream",
     "text": [
      "2020-09-13 10:05:19 [scrapy.extensions.logstats] INFO: Crawled 179704 pages (at 200 pages/min), scraped 0 items (at 0 items/min)\n",
      "2020-09-13 10:06:19 [scrapy.extensions.logstats] INFO: Crawled 179907 pages (at 203 pages/min), scraped 0 items (at 0 items/min)\n"
     ]
    },
    {
     "name": "stdout",
     "output_type": "stream",
     "text": [
      "Saving as : /home/alex/chat_bot_wrike/wrike-bot/help_good_for_wrike/360014532213-widget-in-dashboard-with-only-urgent-tasks.csv {'https://help.wrike.com/hc/en-us/articles/209603829-Importance'}\n",
      "/home/alex/chat_bot_wrike/wrike-bot/help_good_for_wrike/360014532213-widget-in-dashboard-with-only-urgent-tasks.csv\n",
      "Saving as : /home/alex/chat_bot_wrike/wrike-bot/help_good_for_wrike/360012261513-Changing-destination-folder-in-request-forms.csv {'https://help.wrike.com/hc/en-us/articles/115004740045-Create-a-Request-Form-for-Admins-'}\n",
      "/home/alex/chat_bot_wrike/wrike-bot/help_good_for_wrike/360012261513-Changing-destination-folder-in-request-forms.csv\n",
      "Saving as : /home/alex/chat_bot_wrike/wrike-bot/help_good_for_wrike/360013766274-how-do-i-add-dependency-to-a-task-i-na-different-project-.csv {'https://help.wrike.com/hc/en-us/articles/209604229-Dependencies-on-the-Gantt-Chart-#types'}\n",
      "/home/alex/chat_bot_wrike/wrike-bot/help_good_for_wrike/360013766274-how-do-i-add-dependency-to-a-task-i-na-different-project-.csv\n"
     ]
    },
    {
     "name": "stderr",
     "output_type": "stream",
     "text": [
      "2020-09-13 10:07:19 [scrapy.extensions.logstats] INFO: Crawled 180139 pages (at 232 pages/min), scraped 0 items (at 0 items/min)\n",
      "2020-09-13 10:08:19 [scrapy.extensions.logstats] INFO: Crawled 180298 pages (at 159 pages/min), scraped 0 items (at 0 items/min)\n",
      "2020-09-13 10:09:18 [scrapy.extensions.logstats] INFO: Crawled 180561 pages (at 263 pages/min), scraped 0 items (at 0 items/min)\n"
     ]
    },
    {
     "name": "stdout",
     "output_type": "stream",
     "text": [
      "Saving as : /home/alex/chat_bot_wrike/wrike-bot/help_good_for_wrike/115002205649-Tracking-Time-in-Tasks-Assigned-to-Multiple-Projects.csv {'https://help.wrike.com/hc/en-us/articles/209603369-Tags'}\n",
      "/home/alex/chat_bot_wrike/wrike-bot/help_good_for_wrike/115002205649-Tracking-Time-in-Tasks-Assigned-to-Multiple-Projects.csv\n"
     ]
    },
    {
     "name": "stderr",
     "output_type": "stream",
     "text": [
      "2020-09-13 10:10:19 [scrapy.extensions.logstats] INFO: Crawled 180879 pages (at 318 pages/min), scraped 0 items (at 0 items/min)\n",
      "2020-09-13 10:11:18 [scrapy.extensions.logstats] INFO: Crawled 181109 pages (at 230 pages/min), scraped 0 items (at 0 items/min)\n",
      "2020-09-13 10:12:19 [scrapy.extensions.logstats] INFO: Crawled 181327 pages (at 218 pages/min), scraped 0 items (at 0 items/min)\n",
      "2020-09-13 10:13:18 [scrapy.extensions.logstats] INFO: Crawled 181591 pages (at 264 pages/min), scraped 0 items (at 0 items/min)\n"
     ]
    },
    {
     "name": "stdout",
     "output_type": "stream",
     "text": [
      "Saving as : /home/alex/chat_bot_wrike/wrike-bot/help_good_for_wrike/115001913225-Not-all-assigned-tasks-showing-under-my-work-.csv {'https://help.wrike.com/hc/en-us/articles/209603889-Mass-Editing'}\n",
      "/home/alex/chat_bot_wrike/wrike-bot/help_good_for_wrike/115001913225-Not-all-assigned-tasks-showing-under-my-work-.csv\n"
     ]
    },
    {
     "name": "stderr",
     "output_type": "stream",
     "text": [
      "2020-09-13 10:14:19 [scrapy.extensions.logstats] INFO: Crawled 181878 pages (at 287 pages/min), scraped 0 items (at 0 items/min)\n"
     ]
    },
    {
     "name": "stdout",
     "output_type": "stream",
     "text": [
      "Saving as : /home/alex/chat_bot_wrike/wrike-bot/help_good_for_wrike/360015893413-How-do-you-turn-Desktop-Notifications-off-.csv {'https://help.wrike.com/hc/en-us/articles/209605509-Desktop-Notifications'}\n",
      "/home/alex/chat_bot_wrike/wrike-bot/help_good_for_wrike/360015893413-How-do-you-turn-Desktop-Notifications-off-.csv\n",
      "Saving as : /home/alex/chat_bot_wrike/wrike-bot/help_good_for_wrike/360014626593-Tasks-on-Shared-Google-Calendars-.csv {'https://help.wrike.com/hc/en-us/articles/214413365-Google-Calendar-Integration'}\n",
      "/home/alex/chat_bot_wrike/wrike-bot/help_good_for_wrike/360014626593-Tasks-on-Shared-Google-Calendars-.csv\n",
      "Saving as : /home/alex/chat_bot_wrike/wrike-bot/help_good_for_wrike/360012112833-Timelog-Categories.csv {'https://help.wrike.com/hc/en-us/articles/115005858769-Categories-for-Time-Tracking#add'}\n",
      "/home/alex/chat_bot_wrike/wrike-bot/help_good_for_wrike/360012112833-Timelog-Categories.csv\n",
      "Saving as : /home/alex/chat_bot_wrike/wrike-bot/help_good_for_wrike/360012571873-task-time-tracking-on-time-duration.csv {'https://help.wrike.com/hc/en-us/articles/209603089-Time-Tracking'}\n",
      "/home/alex/chat_bot_wrike/wrike-bot/help_good_for_wrike/360012571873-task-time-tracking-on-time-duration.csv\n",
      "Saving as : /home/alex/chat_bot_wrike/wrike-bot/help_good_for_wrike/360011025954-Files-from-cloud-storage-apps.csv {'https://help.wrike.com/hc/en-us/articles/210324105-Integrated-Cloud-Storage-Apps'}\n",
      "/home/alex/chat_bot_wrike/wrike-bot/help_good_for_wrike/360011025954-Files-from-cloud-storage-apps.csv\n"
     ]
    },
    {
     "name": "stderr",
     "output_type": "stream",
     "text": [
      "2020-09-13 10:15:19 [scrapy.extensions.logstats] INFO: Crawled 182055 pages (at 177 pages/min), scraped 0 items (at 0 items/min)\n"
     ]
    },
    {
     "name": "stdout",
     "output_type": "stream",
     "text": [
      "Saving as : /home/alex/chat_bot_wrike/wrike-bot/help_good_for_wrike/360010347033-Open-App-with-previously-open-tabs?page=1.csv {'https://help.wrike.com/hc/en-us/articles/115004231249-Wrike-for-Windows-and-Mac-Desktop-App-'}\n",
      "/home/alex/chat_bot_wrike/wrike-bot/help_good_for_wrike/360010347033-Open-App-with-previously-open-tabs?page=1.csv\n",
      "Saving as : /home/alex/chat_bot_wrike/wrike-bot/help_good_for_wrike/360009602094-Transferring-Attachments-Across-Tasks?page=1.csv {'https://help.wrike.com/hc/en-us/articles/209603309-Attachments'}\n",
      "/home/alex/chat_bot_wrike/wrike-bot/help_good_for_wrike/360009602094-Transferring-Attachments-Across-Tasks?page=1.csv\n",
      "Saving as : /home/alex/chat_bot_wrike/wrike-bot/help_good_for_wrike/360014145253-How-to-Copy-Custom-Reports?page=1.csv {'https://help.wrike.com/hc/en-us/articles/212729565-Share-a-Report'}\n",
      "/home/alex/chat_bot_wrike/wrike-bot/help_good_for_wrike/360014145253-How-to-Copy-Custom-Reports?page=1.csv\n"
     ]
    },
    {
     "name": "stderr",
     "output_type": "stream",
     "text": [
      "2020-09-13 10:16:18 [scrapy.extensions.logstats] INFO: Crawled 182296 pages (at 241 pages/min), scraped 0 items (at 0 items/min)\n",
      "2020-09-13 10:17:18 [scrapy.extensions.logstats] INFO: Crawled 182593 pages (at 297 pages/min), scraped 0 items (at 0 items/min)\n",
      "2020-09-13 10:18:18 [scrapy.extensions.logstats] INFO: Crawled 182950 pages (at 357 pages/min), scraped 0 items (at 0 items/min)\n",
      "2020-09-13 10:19:18 [scrapy.extensions.logstats] INFO: Crawled 183428 pages (at 478 pages/min), scraped 0 items (at 0 items/min)\n",
      "2020-09-13 10:20:18 [scrapy.extensions.logstats] INFO: Crawled 184056 pages (at 628 pages/min), scraped 0 items (at 0 items/min)\n",
      "2020-09-13 10:21:19 [scrapy.extensions.logstats] INFO: Crawled 184478 pages (at 422 pages/min), scraped 0 items (at 0 items/min)\n",
      "2020-09-13 10:22:18 [scrapy.extensions.logstats] INFO: Crawled 184960 pages (at 482 pages/min), scraped 0 items (at 0 items/min)\n",
      "2020-09-13 10:23:18 [scrapy.extensions.logstats] INFO: Crawled 185243 pages (at 283 pages/min), scraped 0 items (at 0 items/min)\n",
      "2020-09-13 10:24:18 [scrapy.extensions.logstats] INFO: Crawled 185597 pages (at 354 pages/min), scraped 0 items (at 0 items/min)\n",
      "2020-09-13 10:25:18 [scrapy.extensions.logstats] INFO: Crawled 185976 pages (at 379 pages/min), scraped 0 items (at 0 items/min)\n"
     ]
    },
    {
     "name": "stdout",
     "output_type": "stream",
     "text": [
      "Saving as : /home/alex/chat_bot_wrike/wrike-bot/help_good_for_wrike/115004455889-Anyone-have-any-best-practices-around-the-Project-Panel-?page=1.csv {'https://help.wrike.com/hc/en-us/articles/209603049-Custom-Fields'}\n",
      "/home/alex/chat_bot_wrike/wrike-bot/help_good_for_wrike/115004455889-Anyone-have-any-best-practices-around-the-Project-Panel-?page=1.csv\n",
      "Saving as : /home/alex/chat_bot_wrike/wrike-bot/help_good_for_wrike/209603349-Starring-Folders-and-Projects.csv {'https://help.wrike.com/hc/en-us/articles/210323405-Collaborators'}\n",
      "/home/alex/chat_bot_wrike/wrike-bot/help_good_for_wrike/209603349-Starring-Folders-and-Projects.csv\n"
     ]
    },
    {
     "name": "stderr",
     "output_type": "stream",
     "text": [
      "2020-09-13 10:26:19 [scrapy.extensions.logstats] INFO: Crawled 186286 pages (at 310 pages/min), scraped 0 items (at 0 items/min)\n"
     ]
    },
    {
     "name": "stdout",
     "output_type": "stream",
     "text": [
      "Saving as : /home/alex/chat_bot_wrike/wrike-bot/help_good_for_wrike/115002413765-Project-Overview?page=1.csv {'https://help.wrike.com/hc/en-us/articles/115000193205-Board-View'}\n",
      "/home/alex/chat_bot_wrike/wrike-bot/help_good_for_wrike/115002413765-Project-Overview?page=1.csv\n"
     ]
    },
    {
     "name": "stderr",
     "output_type": "stream",
     "text": [
      "2020-09-13 10:27:18 [scrapy.extensions.logstats] INFO: Crawled 186732 pages (at 446 pages/min), scraped 0 items (at 0 items/min)\n",
      "2020-09-13 10:28:18 [scrapy.extensions.logstats] INFO: Crawled 187129 pages (at 397 pages/min), scraped 0 items (at 0 items/min)\n",
      "2020-09-13 10:29:19 [scrapy.extensions.logstats] INFO: Crawled 187584 pages (at 455 pages/min), scraped 0 items (at 0 items/min)\n",
      "2020-09-13 10:30:18 [scrapy.extensions.logstats] INFO: Crawled 188266 pages (at 682 pages/min), scraped 0 items (at 0 items/min)\n"
     ]
    },
    {
     "name": "stdout",
     "output_type": "stream",
     "text": [
      "Saving as : /home/alex/chat_bot_wrike/wrike-bot/help_good_for_wrike/115004518309-What-is-List-View-?page=1.csv {'https://help.wrike.com/hc/en-us/articles/209603769-Make-a-Task-Recurrent'}\n",
      "/home/alex/chat_bot_wrike/wrike-bot/help_good_for_wrike/115004518309-What-is-List-View-?page=1.csv\n",
      "Saving as : /home/alex/chat_bot_wrike/wrike-bot/help_good_for_wrike/115003380809-wrike-wrike-com-and-subject-line-repeat?page=1.csv {'https://help.wrike.com/hc/en-us/articles/209603169-Request-Forms-Submit-a-Form-'}\n"
     ]
    },
    {
     "name": "stderr",
     "output_type": "stream",
     "text": [
      "2020-09-13 10:31:19 [scrapy.extensions.logstats] INFO: Crawled 188831 pages (at 565 pages/min), scraped 0 items (at 0 items/min)\n"
     ]
    },
    {
     "name": "stdout",
     "output_type": "stream",
     "text": [
      "/home/alex/chat_bot_wrike/wrike-bot/help_good_for_wrike/115003380809-wrike-wrike-com-and-subject-line-repeat?page=1.csv\n"
     ]
    },
    {
     "name": "stderr",
     "output_type": "stream",
     "text": [
      "2020-09-13 10:32:18 [scrapy.extensions.logstats] INFO: Crawled 189244 pages (at 413 pages/min), scraped 0 items (at 0 items/min)\n",
      "2020-09-13 10:33:18 [scrapy.extensions.logstats] INFO: Crawled 189768 pages (at 524 pages/min), scraped 0 items (at 0 items/min)\n",
      "2020-09-13 10:34:18 [scrapy.extensions.logstats] INFO: Crawled 190359 pages (at 591 pages/min), scraped 0 items (at 0 items/min)\n",
      "2020-09-13 10:35:18 [scrapy.extensions.logstats] INFO: Crawled 190937 pages (at 578 pages/min), scraped 0 items (at 0 items/min)\n"
     ]
    },
    {
     "name": "stdout",
     "output_type": "stream",
     "text": [
      "Saving as : /home/alex/chat_bot_wrike/wrike-bot/help_good_for_wrike/209602909-.csv {'https://help.wrike.com/hc/en-us/articles/360035989794-Job-Roles', 'https://help.wrike.com/hc/en-us/articles/360020311174-Spaces-Overview#types', 'https://help.wrike.com/hc/en-us/articles/360024767374-Wrike-Resource-Overview', 'https://help.wrike.com/hc/en-us/articles/209603329-Job-Numbers'}\n",
      "/home/alex/chat_bot_wrike/wrike-bot/help_good_for_wrike/209602909-.csv\n",
      "Saving as : /home/alex/chat_bot_wrike/wrike-bot/help_good_for_wrike/360010835433-.csv {'https://help.wrike.com/hc/en-us/articles/209603989-Types-of-Licenses', 'https://help.wrike.com/hc/en-us/articles/360035989794-Job-Roles', 'https://help.wrike.com/hc/en-us/articles/360010835433-Workload-Charts#create', 'https://help.wrike.com/hc/en-us/articles/209602989-User-Groups', 'https://help.wrike.com/hc/en-us/articles/209603589-Access-Roles#permissions', 'https://help.wrike.com/hc/en-us/articles/209603589-Access-Roles#create', 'https://help.wrike.com/hc/en-us/articles/360035863834-Wrike-for-Professional-Services', 'https://help.wrike.com/hc/en-us/articles/360006843194-Work-Schedules-for-Admins', 'https://help.wrike.com/hc/en-us/articles/360010852973-Task-Effort#types', 'https://help.wrike.com/hc/en-us/articles/360024767374-Wrike-Resource-Overview', 'https://help.wrike.com/hc/en-us/articles/360045420254-Backlog-Box', 'https://help.wrike.com/hc/en-us/articles/360045420254-Backlog-Box#display', 'https://help.wrike.com/hc/en-us/articles/360045977633-Manage-Tasks-on-Workload-Charts'}\n",
      "/home/alex/chat_bot_wrike/wrike-bot/help_good_for_wrike/360010835433-.csv\n",
      "Saving as : /home/alex/chat_bot_wrike/wrike-bot/help_good_for_wrike/360002004534-.csv {'https://help.wrike.com/hc/en-us/articles/210322845-Proofing', 'https://help.wrike.com/hc/en-us/articles/209603589-Access-Roles', 'https://help.wrike.com/hc/en-us/articles/360002004534-Access-Reports#calendars', 'https://help.wrike.com/hc/en-us/articles/360009639733-Guest-Reviews', 'https://help.wrike.com/hc/en-us/articles/115005069169-Group-Admin'}\n",
      "/home/alex/chat_bot_wrike/wrike-bot/help_good_for_wrike/360002004534-.csv\n"
     ]
    },
    {
     "name": "stderr",
     "output_type": "stream",
     "text": [
      "2020-09-13 10:36:18 [scrapy.extensions.logstats] INFO: Crawled 191339 pages (at 402 pages/min), scraped 0 items (at 0 items/min)\n",
      "2020-09-13 10:37:18 [scrapy.extensions.logstats] INFO: Crawled 191557 pages (at 218 pages/min), scraped 0 items (at 0 items/min)\n",
      "2020-09-13 10:38:19 [scrapy.extensions.logstats] INFO: Crawled 191931 pages (at 374 pages/min), scraped 0 items (at 0 items/min)\n",
      "2020-09-13 10:39:18 [scrapy.extensions.logstats] INFO: Crawled 192419 pages (at 488 pages/min), scraped 0 items (at 0 items/min)\n",
      "2020-09-13 10:40:18 [scrapy.extensions.logstats] INFO: Crawled 192928 pages (at 509 pages/min), scraped 0 items (at 0 items/min)\n",
      "2020-09-13 10:41:18 [scrapy.extensions.logstats] INFO: Crawled 193345 pages (at 417 pages/min), scraped 0 items (at 0 items/min)\n",
      "2020-09-13 10:42:18 [scrapy.extensions.logstats] INFO: Crawled 193643 pages (at 298 pages/min), scraped 0 items (at 0 items/min)\n",
      "2020-09-13 10:43:21 [scrapy.extensions.logstats] INFO: Crawled 193999 pages (at 356 pages/min), scraped 0 items (at 0 items/min)\n",
      "2020-09-13 10:44:18 [scrapy.extensions.logstats] INFO: Crawled 194328 pages (at 329 pages/min), scraped 0 items (at 0 items/min)\n",
      "2020-09-13 10:45:18 [scrapy.extensions.logstats] INFO: Crawled 194771 pages (at 443 pages/min), scraped 0 items (at 0 items/min)\n",
      "2020-09-13 10:46:18 [scrapy.extensions.logstats] INFO: Crawled 195225 pages (at 454 pages/min), scraped 0 items (at 0 items/min)\n",
      "2020-09-13 10:47:18 [scrapy.extensions.logstats] INFO: Crawled 195683 pages (at 458 pages/min), scraped 0 items (at 0 items/min)\n",
      "2020-09-13 10:48:18 [scrapy.extensions.logstats] INFO: Crawled 196102 pages (at 419 pages/min), scraped 0 items (at 0 items/min)\n",
      "2020-09-13 10:49:18 [scrapy.extensions.logstats] INFO: Crawled 196529 pages (at 427 pages/min), scraped 0 items (at 0 items/min)\n"
     ]
    },
    {
     "name": "stdout",
     "output_type": "stream",
     "text": [
      "Saving as : /home/alex/chat_bot_wrike/wrike-bot/help_good_for_wrike/115000274229-More-control-with-dependencies-?page=1.csv {'https://help.wrike.com/hc/en-us/articles/115000193205-Board-View'}\n",
      "/home/alex/chat_bot_wrike/wrike-bot/help_good_for_wrike/115000274229-More-control-with-dependencies-?page=1.csv\n"
     ]
    },
    {
     "name": "stderr",
     "output_type": "stream",
     "text": [
      "2020-09-13 10:50:18 [scrapy.extensions.logstats] INFO: Crawled 196828 pages (at 299 pages/min), scraped 0 items (at 0 items/min)\n",
      "2020-09-13 10:51:18 [scrapy.extensions.logstats] INFO: Crawled 197135 pages (at 307 pages/min), scraped 0 items (at 0 items/min)\n",
      "2020-09-13 10:52:18 [scrapy.extensions.logstats] INFO: Crawled 197525 pages (at 390 pages/min), scraped 0 items (at 0 items/min)\n",
      "2020-09-13 10:53:18 [scrapy.extensions.logstats] INFO: Crawled 197873 pages (at 348 pages/min), scraped 0 items (at 0 items/min)\n"
     ]
    },
    {
     "name": "stdout",
     "output_type": "stream",
     "text": [
      "Saving as : /home/alex/chat_bot_wrike/wrike-bot/help_good_for_wrike/360023006313-Task-Approvals.csv {'https://help.wrike.com/hc/en-us/articles/210324405-Email-Notifications', 'https://help.wrike.com/hc/en-us/articles/209603069-Filters', 'https://help.wrike.com/hc/en-us/articles/115004740045-Create-a-Request-Form-for-Admins-', 'https://help.wrike.com/hc/en-us/articles/115004120265-Dashboard-Widgets', 'https://help.wrike.com/hc/en-us/articles/210322785-Custom-Statuses-and-Workflows'}\n",
      "/home/alex/chat_bot_wrike/wrike-bot/help_good_for_wrike/360023006313-Task-Approvals.csv\n"
     ]
    },
    {
     "name": "stderr",
     "output_type": "stream",
     "text": [
      "2020-09-13 10:54:18 [scrapy.extensions.logstats] INFO: Crawled 198163 pages (at 290 pages/min), scraped 0 items (at 0 items/min)\n",
      "2020-09-13 10:55:18 [scrapy.extensions.logstats] INFO: Crawled 198480 pages (at 317 pages/min), scraped 0 items (at 0 items/min)\n",
      "2020-09-13 10:56:19 [scrapy.extensions.logstats] INFO: Crawled 198891 pages (at 411 pages/min), scraped 0 items (at 0 items/min)\n",
      "2020-09-13 10:57:18 [scrapy.extensions.logstats] INFO: Crawled 199241 pages (at 350 pages/min), scraped 0 items (at 0 items/min)\n",
      "2020-09-13 10:58:19 [scrapy.extensions.logstats] INFO: Crawled 199718 pages (at 477 pages/min), scraped 0 items (at 0 items/min)\n",
      "2020-09-13 10:59:20 [scrapy.extensions.logstats] INFO: Crawled 199946 pages (at 228 pages/min), scraped 0 items (at 0 items/min)\n",
      "2020-09-13 11:00:18 [scrapy.extensions.logstats] INFO: Crawled 200423 pages (at 477 pages/min), scraped 0 items (at 0 items/min)\n"
     ]
    },
    {
     "name": "stdout",
     "output_type": "stream",
     "text": [
      "Saving as : /home/alex/chat_bot_wrike/wrike-bot/help_good_for_wrike/360024833614-Define-allowed-external-file-repositories-in-Business-Edition-Box-Dropbox-Google-Drive-Local-Storage-computers-YouTube-and-or-OneDrive-.csv {'https://help.wrike.com/hc/en-us/articles/210324485-Advanced-Security-Settings#file'}\n",
      "/home/alex/chat_bot_wrike/wrike-bot/help_good_for_wrike/360024833614-Define-allowed-external-file-repositories-in-Business-Edition-Box-Dropbox-Google-Drive-Local-Storage-computers-YouTube-and-or-OneDrive-.csv\n"
     ]
    },
    {
     "name": "stderr",
     "output_type": "stream",
     "text": [
      "2020-09-13 11:01:18 [scrapy.extensions.logstats] INFO: Crawled 200788 pages (at 365 pages/min), scraped 0 items (at 0 items/min)\n",
      "2020-09-13 11:02:24 [scrapy.extensions.logstats] INFO: Crawled 201233 pages (at 445 pages/min), scraped 0 items (at 0 items/min)\n",
      "2020-09-13 11:03:18 [scrapy.extensions.logstats] INFO: Crawled 201582 pages (at 349 pages/min), scraped 0 items (at 0 items/min)\n",
      "2020-09-13 11:04:20 [scrapy.extensions.logstats] INFO: Crawled 201980 pages (at 398 pages/min), scraped 0 items (at 0 items/min)\n",
      "2020-09-13 11:05:18 [scrapy.extensions.logstats] INFO: Crawled 202685 pages (at 705 pages/min), scraped 0 items (at 0 items/min)\n",
      "2020-09-13 11:06:18 [scrapy.extensions.logstats] INFO: Crawled 203434 pages (at 749 pages/min), scraped 0 items (at 0 items/min)\n",
      "2020-09-13 11:07:18 [scrapy.extensions.logstats] INFO: Crawled 204091 pages (at 657 pages/min), scraped 0 items (at 0 items/min)\n",
      "2020-09-13 11:08:18 [scrapy.extensions.logstats] INFO: Crawled 204645 pages (at 554 pages/min), scraped 0 items (at 0 items/min)\n",
      "2020-09-13 11:09:18 [scrapy.extensions.logstats] INFO: Crawled 205169 pages (at 524 pages/min), scraped 0 items (at 0 items/min)\n",
      "2020-09-13 11:10:18 [scrapy.extensions.logstats] INFO: Crawled 205620 pages (at 451 pages/min), scraped 0 items (at 0 items/min)\n",
      "2020-09-13 11:11:18 [scrapy.extensions.logstats] INFO: Crawled 206176 pages (at 556 pages/min), scraped 0 items (at 0 items/min)\n",
      "2020-09-13 11:12:18 [scrapy.extensions.logstats] INFO: Crawled 206698 pages (at 522 pages/min), scraped 0 items (at 0 items/min)\n",
      "2020-09-13 11:13:18 [scrapy.extensions.logstats] INFO: Crawled 207251 pages (at 553 pages/min), scraped 0 items (at 0 items/min)\n",
      "2020-09-13 11:14:18 [scrapy.extensions.logstats] INFO: Crawled 207844 pages (at 593 pages/min), scraped 0 items (at 0 items/min)\n",
      "2020-09-13 11:15:18 [scrapy.extensions.logstats] INFO: Crawled 208341 pages (at 497 pages/min), scraped 0 items (at 0 items/min)\n",
      "2020-09-13 11:16:18 [scrapy.extensions.logstats] INFO: Crawled 208934 pages (at 593 pages/min), scraped 0 items (at 0 items/min)\n",
      "2020-09-13 11:17:18 [scrapy.extensions.logstats] INFO: Crawled 209567 pages (at 633 pages/min), scraped 0 items (at 0 items/min)\n",
      "2020-09-13 11:18:18 [scrapy.extensions.logstats] INFO: Crawled 210168 pages (at 601 pages/min), scraped 0 items (at 0 items/min)\n",
      "2020-09-13 11:19:18 [scrapy.extensions.logstats] INFO: Crawled 210646 pages (at 478 pages/min), scraped 0 items (at 0 items/min)\n",
      "2020-09-13 11:20:18 [scrapy.extensions.logstats] INFO: Crawled 211159 pages (at 513 pages/min), scraped 0 items (at 0 items/min)\n",
      "2020-09-13 11:21:18 [scrapy.extensions.logstats] INFO: Crawled 211724 pages (at 565 pages/min), scraped 0 items (at 0 items/min)\n",
      "2020-09-13 11:22:18 [scrapy.extensions.logstats] INFO: Crawled 212284 pages (at 560 pages/min), scraped 0 items (at 0 items/min)\n",
      "2020-09-13 11:23:18 [scrapy.extensions.logstats] INFO: Crawled 212874 pages (at 590 pages/min), scraped 0 items (at 0 items/min)\n",
      "2020-09-13 11:24:18 [scrapy.extensions.logstats] INFO: Crawled 213435 pages (at 561 pages/min), scraped 0 items (at 0 items/min)\n",
      "2020-09-13 11:25:18 [scrapy.extensions.logstats] INFO: Crawled 214212 pages (at 777 pages/min), scraped 0 items (at 0 items/min)\n",
      "2020-09-13 11:26:18 [scrapy.extensions.logstats] INFO: Crawled 214816 pages (at 604 pages/min), scraped 0 items (at 0 items/min)\n",
      "2020-09-13 11:27:18 [scrapy.extensions.logstats] INFO: Crawled 215415 pages (at 599 pages/min), scraped 0 items (at 0 items/min)\n",
      "2020-09-13 11:28:18 [scrapy.extensions.logstats] INFO: Crawled 215991 pages (at 576 pages/min), scraped 0 items (at 0 items/min)\n",
      "2020-09-13 11:29:18 [scrapy.extensions.logstats] INFO: Crawled 216755 pages (at 764 pages/min), scraped 0 items (at 0 items/min)\n",
      "2020-09-13 11:30:18 [scrapy.extensions.logstats] INFO: Crawled 217462 pages (at 707 pages/min), scraped 0 items (at 0 items/min)\n",
      "2020-09-13 11:31:18 [scrapy.extensions.logstats] INFO: Crawled 218226 pages (at 764 pages/min), scraped 0 items (at 0 items/min)\n",
      "2020-09-13 11:32:18 [scrapy.extensions.logstats] INFO: Crawled 218960 pages (at 734 pages/min), scraped 0 items (at 0 items/min)\n"
     ]
    },
    {
     "name": "stdout",
     "output_type": "stream",
     "text": [
      "Saving as : /home/alex/chat_bot_wrike/wrike-bot/help_good_for_wrike/210325145-Step-3-Team-Onboarding-and-Collaboration?flash_digest=7fcb1d8358e0764278f98c678f28b5b928b5de7f.csv {'https://help.wrike.com/hc/en-us/articles/209603989-Types-of-Licenses', 'https://help.wrike.com/hc/en-us/articles/209603009-My-Team-Group', 'https://help.wrike.com/hc/en-us/categories/201188645-Getting-Started', 'https://help.wrike.com/hc/en-us/articles/209602989-User-Groups', 'https://help.wrike.com/hc/en-us/articles/213924649-Step-1-Getting-Settled', 'https://help.wrike.com/hc/en-us/articles/209605449-Admin-Permissions'}\n",
      "/home/alex/chat_bot_wrike/wrike-bot/help_good_for_wrike/210325145-Step-3-Team-Onboarding-and-Collaboration?flash_digest=7fcb1d8358e0764278f98c678f28b5b928b5de7f.csv\n"
     ]
    },
    {
     "name": "stderr",
     "output_type": "stream",
     "text": [
      "2020-09-13 11:33:18 [scrapy.extensions.logstats] INFO: Crawled 219775 pages (at 815 pages/min), scraped 0 items (at 0 items/min)\n",
      "2020-09-13 11:34:18 [scrapy.extensions.logstats] INFO: Crawled 220487 pages (at 712 pages/min), scraped 0 items (at 0 items/min)\n",
      "2020-09-13 11:35:18 [scrapy.extensions.logstats] INFO: Crawled 221193 pages (at 706 pages/min), scraped 0 items (at 0 items/min)\n",
      "2020-09-13 11:36:18 [scrapy.extensions.logstats] INFO: Crawled 221874 pages (at 681 pages/min), scraped 0 items (at 0 items/min)\n",
      "2020-09-13 11:37:18 [scrapy.extensions.logstats] INFO: Crawled 222498 pages (at 624 pages/min), scraped 0 items (at 0 items/min)\n",
      "2020-09-13 11:38:18 [scrapy.extensions.logstats] INFO: Crawled 223093 pages (at 595 pages/min), scraped 0 items (at 0 items/min)\n",
      "2020-09-13 11:39:18 [scrapy.extensions.logstats] INFO: Crawled 223781 pages (at 688 pages/min), scraped 0 items (at 0 items/min)\n",
      "2020-09-13 11:40:18 [scrapy.extensions.logstats] INFO: Crawled 224451 pages (at 670 pages/min), scraped 0 items (at 0 items/min)\n",
      "2020-09-13 11:41:18 [scrapy.extensions.logstats] INFO: Crawled 225155 pages (at 704 pages/min), scraped 0 items (at 0 items/min)\n",
      "2020-09-13 11:42:18 [scrapy.extensions.logstats] INFO: Crawled 225858 pages (at 703 pages/min), scraped 0 items (at 0 items/min)\n",
      "2020-09-13 11:43:18 [scrapy.extensions.logstats] INFO: Crawled 226560 pages (at 702 pages/min), scraped 0 items (at 0 items/min)\n",
      "2020-09-13 11:44:18 [scrapy.extensions.logstats] INFO: Crawled 227298 pages (at 738 pages/min), scraped 0 items (at 0 items/min)\n",
      "2020-09-13 11:45:18 [scrapy.extensions.logstats] INFO: Crawled 228073 pages (at 775 pages/min), scraped 0 items (at 0 items/min)\n",
      "2020-09-13 11:46:18 [scrapy.extensions.logstats] INFO: Crawled 228682 pages (at 609 pages/min), scraped 0 items (at 0 items/min)\n",
      "2020-09-13 11:47:18 [scrapy.extensions.logstats] INFO: Crawled 229390 pages (at 708 pages/min), scraped 0 items (at 0 items/min)\n",
      "2020-09-13 11:48:18 [scrapy.extensions.logstats] INFO: Crawled 230107 pages (at 717 pages/min), scraped 0 items (at 0 items/min)\n",
      "2020-09-13 11:49:18 [scrapy.extensions.logstats] INFO: Crawled 230760 pages (at 653 pages/min), scraped 0 items (at 0 items/min)\n",
      "2020-09-13 11:50:18 [scrapy.extensions.logstats] INFO: Crawled 231405 pages (at 645 pages/min), scraped 0 items (at 0 items/min)\n",
      "2020-09-13 11:51:18 [scrapy.extensions.logstats] INFO: Crawled 232036 pages (at 631 pages/min), scraped 0 items (at 0 items/min)\n",
      "2020-09-13 11:52:18 [scrapy.extensions.logstats] INFO: Crawled 232734 pages (at 698 pages/min), scraped 0 items (at 0 items/min)\n",
      "2020-09-13 11:53:18 [scrapy.extensions.logstats] INFO: Crawled 233388 pages (at 654 pages/min), scraped 0 items (at 0 items/min)\n",
      "2020-09-13 11:54:18 [scrapy.extensions.logstats] INFO: Crawled 234085 pages (at 697 pages/min), scraped 0 items (at 0 items/min)\n",
      "2020-09-13 11:55:18 [scrapy.extensions.logstats] INFO: Crawled 234783 pages (at 698 pages/min), scraped 0 items (at 0 items/min)\n",
      "2020-09-13 11:56:18 [scrapy.extensions.logstats] INFO: Crawled 235415 pages (at 632 pages/min), scraped 0 items (at 0 items/min)\n",
      "2020-09-13 11:57:18 [scrapy.extensions.logstats] INFO: Crawled 236140 pages (at 725 pages/min), scraped 0 items (at 0 items/min)\n",
      "2020-09-13 11:58:18 [scrapy.extensions.logstats] INFO: Crawled 236794 pages (at 654 pages/min), scraped 0 items (at 0 items/min)\n",
      "2020-09-13 11:59:18 [scrapy.extensions.logstats] INFO: Crawled 237488 pages (at 694 pages/min), scraped 0 items (at 0 items/min)\n",
      "2020-09-13 12:00:18 [scrapy.extensions.logstats] INFO: Crawled 238021 pages (at 533 pages/min), scraped 0 items (at 0 items/min)\n",
      "2020-09-13 12:01:18 [scrapy.extensions.logstats] INFO: Crawled 238641 pages (at 620 pages/min), scraped 0 items (at 0 items/min)\n",
      "2020-09-13 12:02:18 [scrapy.extensions.logstats] INFO: Crawled 239366 pages (at 725 pages/min), scraped 0 items (at 0 items/min)\n",
      "2020-09-13 12:03:18 [scrapy.extensions.logstats] INFO: Crawled 240042 pages (at 676 pages/min), scraped 0 items (at 0 items/min)\n",
      "2020-09-13 12:04:18 [scrapy.extensions.logstats] INFO: Crawled 240661 pages (at 619 pages/min), scraped 0 items (at 0 items/min)\n",
      "2020-09-13 12:05:18 [scrapy.extensions.logstats] INFO: Crawled 241205 pages (at 544 pages/min), scraped 0 items (at 0 items/min)\n",
      "2020-09-13 12:06:18 [scrapy.extensions.logstats] INFO: Crawled 241711 pages (at 506 pages/min), scraped 0 items (at 0 items/min)\n"
     ]
    },
    {
     "name": "stdout",
     "output_type": "stream",
     "text": [
      "Saving as : /home/alex/chat_bot_wrike/wrike-bot/help_good_for_wrike/213427749-November-16.csv {'https://help.wrike.com/hc/en-us/articles/210323665-Report-Snapshots', 'https://help.wrike.com/hc/en-us/articles/212729565-Share-a-Report'}\n",
      "/home/alex/chat_bot_wrike/wrike-bot/help_good_for_wrike/213427749-November-16.csv\n"
     ]
    },
    {
     "name": "stderr",
     "output_type": "stream",
     "text": [
      "2020-09-13 12:07:18 [scrapy.extensions.logstats] INFO: Crawled 242183 pages (at 472 pages/min), scraped 0 items (at 0 items/min)\n",
      "2020-09-13 12:08:18 [scrapy.extensions.logstats] INFO: Crawled 242700 pages (at 517 pages/min), scraped 0 items (at 0 items/min)\n",
      "2020-09-13 12:09:18 [scrapy.extensions.logstats] INFO: Crawled 243490 pages (at 790 pages/min), scraped 0 items (at 0 items/min)\n",
      "2020-09-13 12:10:18 [scrapy.extensions.logstats] INFO: Crawled 244189 pages (at 699 pages/min), scraped 0 items (at 0 items/min)\n",
      "2020-09-13 12:11:18 [scrapy.extensions.logstats] INFO: Crawled 244928 pages (at 739 pages/min), scraped 0 items (at 0 items/min)\n",
      "2020-09-13 12:12:18 [scrapy.extensions.logstats] INFO: Crawled 245785 pages (at 857 pages/min), scraped 0 items (at 0 items/min)\n",
      "2020-09-13 12:13:18 [scrapy.extensions.logstats] INFO: Crawled 246584 pages (at 799 pages/min), scraped 0 items (at 0 items/min)\n",
      "2020-09-13 12:14:18 [scrapy.extensions.logstats] INFO: Crawled 247295 pages (at 711 pages/min), scraped 0 items (at 0 items/min)\n",
      "2020-09-13 12:15:18 [scrapy.extensions.logstats] INFO: Crawled 247964 pages (at 669 pages/min), scraped 0 items (at 0 items/min)\n",
      "2020-09-13 12:16:18 [scrapy.extensions.logstats] INFO: Crawled 248814 pages (at 850 pages/min), scraped 0 items (at 0 items/min)\n",
      "2020-09-13 12:17:18 [scrapy.extensions.logstats] INFO: Crawled 249419 pages (at 605 pages/min), scraped 0 items (at 0 items/min)\n",
      "2020-09-13 12:18:18 [scrapy.extensions.logstats] INFO: Crawled 249977 pages (at 558 pages/min), scraped 0 items (at 0 items/min)\n",
      "2020-09-13 12:19:18 [scrapy.extensions.logstats] INFO: Crawled 250496 pages (at 519 pages/min), scraped 0 items (at 0 items/min)\n",
      "2020-09-13 12:20:18 [scrapy.extensions.logstats] INFO: Crawled 250931 pages (at 435 pages/min), scraped 0 items (at 0 items/min)\n",
      "2020-09-13 12:21:18 [scrapy.extensions.logstats] INFO: Crawled 251888 pages (at 957 pages/min), scraped 0 items (at 0 items/min)\n",
      "2020-09-13 12:22:18 [scrapy.extensions.logstats] INFO: Crawled 252428 pages (at 540 pages/min), scraped 0 items (at 0 items/min)\n"
     ]
    },
    {
     "name": "stdout",
     "output_type": "stream",
     "text": [
      "Saving as : /home/alex/chat_bot_wrike/wrike-bot/help_good_for_wrike/search?page=22&query=Sharing+folders&utf8=%E2%9C%93.csv {'https://help.wrike.com/hc/en-us/sections/201828169-Personal-User-License', 'https://help.wrike.com/hc/en-us/categories/200913179-Account-Management'}\n",
      "/home/alex/chat_bot_wrike/wrike-bot/help_good_for_wrike/search?page=22&query=Sharing+folders&utf8=%E2%9C%93.csv\n"
     ]
    },
    {
     "name": "stderr",
     "output_type": "stream",
     "text": [
      "2020-09-13 12:23:19 [scrapy.extensions.logstats] INFO: Crawled 252696 pages (at 268 pages/min), scraped 0 items (at 0 items/min)\n",
      "2020-09-13 12:24:18 [scrapy.extensions.logstats] INFO: Crawled 253262 pages (at 566 pages/min), scraped 0 items (at 0 items/min)\n",
      "2020-09-13 12:25:18 [scrapy.extensions.logstats] INFO: Crawled 254048 pages (at 786 pages/min), scraped 0 items (at 0 items/min)\n",
      "2020-09-13 12:26:18 [scrapy.extensions.logstats] INFO: Crawled 254737 pages (at 689 pages/min), scraped 0 items (at 0 items/min)\n",
      "2020-09-13 12:27:18 [scrapy.extensions.logstats] INFO: Crawled 255448 pages (at 711 pages/min), scraped 0 items (at 0 items/min)\n",
      "2020-09-13 12:28:18 [scrapy.extensions.logstats] INFO: Crawled 255928 pages (at 480 pages/min), scraped 0 items (at 0 items/min)\n",
      "2020-09-13 12:29:18 [scrapy.extensions.logstats] INFO: Crawled 256469 pages (at 541 pages/min), scraped 0 items (at 0 items/min)\n"
     ]
    },
    {
     "name": "stdout",
     "output_type": "stream",
     "text": [
      "Saving as : /home/alex/chat_bot_wrike/wrike-bot/help_good_for_wrike/360012159714-How-to-create-templates-with-assignees-and-not-notify-the-assignee?page=1.csv {'https://help.wrike.com/hc/en-us/articles/210323005-Duplicate-a-Folder-or-Project'}\n",
      "/home/alex/chat_bot_wrike/wrike-bot/help_good_for_wrike/360012159714-How-to-create-templates-with-assignees-and-not-notify-the-assignee?page=1.csv\n",
      "Saving as : /home/alex/chat_bot_wrike/wrike-bot/help_good_for_wrike/search?page=23&query=Sharing+folders&utf8=%E2%9C%93.csv {'https://help.wrike.com/hc/en-us/sections/201893105-Single-Sign-On', 'https://help.wrike.com/hc/en-us/categories/200942175-Security'}\n",
      "/home/alex/chat_bot_wrike/wrike-bot/help_good_for_wrike/search?page=23&query=Sharing+folders&utf8=%E2%9C%93.csv\n"
     ]
    },
    {
     "name": "stderr",
     "output_type": "stream",
     "text": [
      "2020-09-13 12:30:18 [scrapy.extensions.logstats] INFO: Crawled 257025 pages (at 556 pages/min), scraped 0 items (at 0 items/min)\n",
      "2020-09-13 12:31:20 [scrapy.extensions.logstats] INFO: Crawled 257418 pages (at 393 pages/min), scraped 0 items (at 0 items/min)\n",
      "2020-09-13 12:32:18 [scrapy.extensions.logstats] INFO: Crawled 257809 pages (at 391 pages/min), scraped 0 items (at 0 items/min)\n",
      "2020-09-13 12:33:18 [scrapy.extensions.logstats] INFO: Crawled 258197 pages (at 388 pages/min), scraped 0 items (at 0 items/min)\n",
      "2020-09-13 12:34:18 [scrapy.extensions.logstats] INFO: Crawled 258688 pages (at 491 pages/min), scraped 0 items (at 0 items/min)\n"
     ]
    },
    {
     "name": "stdout",
     "output_type": "stream",
     "text": [
      "Saving as : /home/alex/chat_bot_wrike/wrike-bot/help_good_for_wrike/search?page=24&query=Sharing+folders&utf8=%E2%9C%93.csv {'https://help.wrike.com/hc/en-us/sections/201825379-General-Account-Management', 'https://help.wrike.com/hc/en-us/categories/200913179-Account-Management', 'https://help.wrike.com/hc/en-us/sections/201893045-Organization', 'https://help.wrike.com/hc/en-us/categories/200942115-Tasks-Folders-Projects-and-Spaces'}\n",
      "/home/alex/chat_bot_wrike/wrike-bot/help_good_for_wrike/search?page=24&query=Sharing+folders&utf8=%E2%9C%93.csv\n",
      "Saving as : /home/alex/chat_bot_wrike/wrike-bot/help_good_for_wrike/115004440065-Release-Notes-August-4.csv {'https://help.wrike.com/hc/en-us/articles/209605389-Branded-Workspace-and-Email-Notifications', 'https://help.wrike.com/hc/en-us/articles/210323705-Inbox'}\n",
      "/home/alex/chat_bot_wrike/wrike-bot/help_good_for_wrike/115004440065-Release-Notes-August-4.csv\n",
      "Saving as : /home/alex/chat_bot_wrike/wrike-bot/help_good_for_wrike/115004194489-Release-Notes-July-13.csv {'https://help.wrike.com/hc/en-us/articles/115004120265-Dashboard-Widgets#createdashboard', 'https://help.wrike.com/hc/en-us/articles/210323405-Collaborators', 'https://help.wrike.com/hc/en-us/articles/209604449-Reports-Overview'}\n",
      "/home/alex/chat_bot_wrike/wrike-bot/help_good_for_wrike/115004194489-Release-Notes-July-13.csv\n",
      "Saving as : /home/alex/chat_bot_wrike/wrike-bot/help_good_for_wrike/115004253345-Release-Notes-July-20.csv {'https://help.wrike.com/hc/en-us/articles/210324405-Email-Notifications', 'https://help.wrike.com/hc/en-us/articles/209605589-Daily-To-Do-Emails'}\n",
      "/home/alex/chat_bot_wrike/wrike-bot/help_good_for_wrike/115004253345-Release-Notes-July-20.csv\n"
     ]
    },
    {
     "name": "stderr",
     "output_type": "stream",
     "text": [
      "2020-09-13 12:35:18 [scrapy.extensions.logstats] INFO: Crawled 259185 pages (at 497 pages/min), scraped 0 items (at 0 items/min)\n",
      "2020-09-13 12:36:18 [scrapy.extensions.logstats] INFO: Crawled 259717 pages (at 532 pages/min), scraped 0 items (at 0 items/min)\n",
      "2020-09-13 12:37:19 [scrapy.extensions.logstats] INFO: Crawled 260131 pages (at 414 pages/min), scraped 0 items (at 0 items/min)\n"
     ]
    },
    {
     "name": "stdout",
     "output_type": "stream",
     "text": [
      "Saving as : /home/alex/chat_bot_wrike/wrike-bot/help_good_for_wrike/115005069169.csv {'https://help.wrike.com/hc/en-us/articles/209602989-User-Groups#add', 'https://help.wrike.com/hc/en-us/articles/209602989-User-Groups'}\n",
      "/home/alex/chat_bot_wrike/wrike-bot/help_good_for_wrike/115005069169.csv\n",
      "Saving as : /home/alex/chat_bot_wrike/wrike-bot/help_good_for_wrike/2917063109-Anna-G?filter_by=activities.csv {'https://help.wrike.com/hc/en-us/sections/202366329-Proofing-and-Approvals', 'https://help.wrike.com/hc/en-us/categories/200942135-Monitoring-Panel', 'https://help.wrike.com/hc/en-us/sections/202423365-Everything-Else', 'https://help.wrike.com/hc/en-us/sections/201834259-Advanced', 'https://help.wrike.com/hc/en-us/categories/200942175-Security', 'https://help.wrike.com/hc/en-us/sections/360004618833-Wrike-Resource', 'https://help.wrike.com/hc/en-us/sections/360001968634-Import-and-Export', 'https://help.wrike.com/hc/en-us/sections/201834349-More-Security-Features', 'https://help.wrike.com/hc/en-us/sections/201834249-Folders-and-Projects', 'https://help.wrike.com/hc/en-us/categories/200942115-Tasks-Folders-Projects-and-Spaces', 'https://help.wrike.com/hc/en-us/categories/200939185-Integrations', 'https://help.wrike.com/hc/en-us/sections/201893055-Communication'}\n",
      "/home/alex/chat_bot_wrike/wrike-bot/help_good_for_wrike/2917063109-Anna-G?filter_by=activities.csv\n",
      "Saving as : /home/alex/chat_bot_wrike/wrike-bot/help_good_for_wrike/2917063109-Anna-G?filter_by=articles&page=2&sort_by=recent_user_activity.csv {'https://help.wrike.com/hc/en-us/sections/202366329-Proofing-and-Approvals', 'https://help.wrike.com/hc/en-us/sections/201834259-Advanced', 'https://help.wrike.com/hc/en-us/sections/202423365-Everything-Else', 'https://help.wrike.com/hc/en-us/categories/200942175-Security', 'https://help.wrike.com/hc/en-us/sections/360001968634-Import-and-Export', 'https://help.wrike.com/hc/en-us/sections/201834349-More-Security-Features', 'https://help.wrike.com/hc/en-us/sections/201834249-Folders-and-Projects', 'https://help.wrike.com/hc/en-us/categories/200942125-Work-Views', 'https://help.wrike.com/hc/en-us/categories/200942115-Tasks-Folders-Projects-and-Spaces', 'https://help.wrike.com/hc/en-us/sections/201893075-Gantt-Chart', 'https://help.wrike.com/hc/en-us/categories/200939185-Integrations', 'https://help.wrike.com/hc/en-us/sections/201893055-Communication'}\n",
      "/home/alex/chat_bot_wrike/wrike-bot/help_good_for_wrike/2917063109-Anna-G?filter_by=articles&page=2&sort_by=recent_user_activity.csv\n",
      "Saving as : /home/alex/chat_bot_wrike/wrike-bot/help_good_for_wrike/2917063109-Anna-G?filter_by=articles&sort_by=votes.csv {'https://help.wrike.com/hc/en-us/sections/202366329-Proofing-and-Approvals', 'https://help.wrike.com/hc/en-us/sections/201834259-Advanced', 'https://help.wrike.com/hc/en-us/categories/200942135-Monitoring-Panel', 'https://help.wrike.com/hc/en-us/categories/200942175-Security', 'https://help.wrike.com/hc/en-us/sections/360004618833-Wrike-Resource', 'https://help.wrike.com/hc/en-us/sections/360001968634-Import-and-Export', 'https://help.wrike.com/hc/en-us/sections/201834349-More-Security-Features', 'https://help.wrike.com/hc/en-us/sections/201834249-Folders-and-Projects', 'https://help.wrike.com/hc/en-us/categories/200942115-Tasks-Folders-Projects-and-Spaces', 'https://help.wrike.com/hc/en-us/categories/200939185-Integrations', 'https://help.wrike.com/hc/en-us/sections/201893055-Communication'}\n",
      "/home/alex/chat_bot_wrike/wrike-bot/help_good_for_wrike/2917063109-Anna-G?filter_by=articles&sort_by=votes.csv\n"
     ]
    },
    {
     "name": "stderr",
     "output_type": "stream",
     "text": [
      "2020-09-13 12:38:18 [scrapy.extensions.logstats] INFO: Crawled 260485 pages (at 354 pages/min), scraped 0 items (at 0 items/min)\n",
      "2020-09-13 12:39:18 [scrapy.extensions.logstats] INFO: Crawled 260981 pages (at 496 pages/min), scraped 0 items (at 0 items/min)\n",
      "2020-09-13 12:40:18 [scrapy.extensions.logstats] INFO: Crawled 261533 pages (at 552 pages/min), scraped 0 items (at 0 items/min)\n"
     ]
    },
    {
     "name": "stdout",
     "output_type": "stream",
     "text": [
      "Saving as : /home/alex/chat_bot_wrike/wrike-bot/help_good_for_wrike/search?page=82&query=Sharing+folders&utf8=%E2%9C%93.csv {'https://help.wrike.com/hc/en-us/sections/201834259-Advanced', 'https://help.wrike.com/hc/en-us/categories/200942115-Tasks-Folders-Projects-and-Spaces'}\n"
     ]
    },
    {
     "name": "stderr",
     "output_type": "stream",
     "text": [
      "2020-09-13 12:41:19 [scrapy.extensions.logstats] INFO: Crawled 262001 pages (at 468 pages/min), scraped 0 items (at 0 items/min)\n"
     ]
    },
    {
     "name": "stdout",
     "output_type": "stream",
     "text": [
      "/home/alex/chat_bot_wrike/wrike-bot/help_good_for_wrike/search?page=82&query=Sharing+folders&utf8=%E2%9C%93.csv\n",
      "Saving as : /home/alex/chat_bot_wrike/wrike-bot/help_good_for_wrike/search?page=83&query=Sharing+folders&utf8=%E2%9C%93.csv {'https://help.wrike.com/hc/en-us/categories/200942125-Work-Views', 'https://help.wrike.com/hc/en-us/sections/201893055-Communication', 'https://help.wrike.com/hc/en-us/sections/201834309-Table-View', 'https://help.wrike.com/hc/en-us/categories/200942115-Tasks-Folders-Projects-and-Spaces'}\n",
      "/home/alex/chat_bot_wrike/wrike-bot/help_good_for_wrike/search?page=83&query=Sharing+folders&utf8=%E2%9C%93.csv\n",
      "Saving as : /home/alex/chat_bot_wrike/wrike-bot/help_good_for_wrike/search?page=81&query=Sharing+folders&utf8=%E2%9C%93.csv {'https://help.wrike.com/hc/en-us/categories/200942125-Work-Views', 'https://help.wrike.com/hc/en-us/sections/201893075-Gantt-Chart', 'https://help.wrike.com/hc/en-us/sections/201893045-Organization', 'https://help.wrike.com/hc/en-us/categories/200942115-Tasks-Folders-Projects-and-Spaces'}\n",
      "/home/alex/chat_bot_wrike/wrike-bot/help_good_for_wrike/search?page=81&query=Sharing+folders&utf8=%E2%9C%93.csv\n"
     ]
    },
    {
     "name": "stderr",
     "output_type": "stream",
     "text": [
      "2020-09-13 12:42:18 [scrapy.extensions.logstats] INFO: Crawled 262304 pages (at 303 pages/min), scraped 0 items (at 0 items/min)\n",
      "2020-09-13 12:43:19 [scrapy.extensions.logstats] INFO: Crawled 262790 pages (at 486 pages/min), scraped 0 items (at 0 items/min)\n",
      "2020-09-13 12:44:18 [scrapy.extensions.logstats] INFO: Crawled 263167 pages (at 377 pages/min), scraped 0 items (at 0 items/min)\n",
      "2020-09-13 12:45:18 [scrapy.extensions.logstats] INFO: Crawled 263859 pages (at 692 pages/min), scraped 0 items (at 0 items/min)\n",
      "2020-09-13 12:46:18 [scrapy.extensions.logstats] INFO: Crawled 264447 pages (at 588 pages/min), scraped 0 items (at 0 items/min)\n",
      "2020-09-13 12:47:18 [scrapy.extensions.logstats] INFO: Crawled 264828 pages (at 381 pages/min), scraped 0 items (at 0 items/min)\n"
     ]
    },
    {
     "name": "stdout",
     "output_type": "stream",
     "text": [
      "Saving as : /home/alex/chat_bot_wrike/wrike-bot/help_good_for_wrike/115002324989-Before-deleting-an-account-finding-the-Tasks-Folders-and-Projects-a-user-account-had-sole-access-to.csv {'https://help.wrike.com/hc/en-us/articles/115004551205-Log-In-as-Another-User'}\n",
      "/home/alex/chat_bot_wrike/wrike-bot/help_good_for_wrike/115002324989-Before-deleting-an-account-finding-the-Tasks-Folders-and-Projects-a-user-account-had-sole-access-to.csv\n"
     ]
    },
    {
     "name": "stderr",
     "output_type": "stream",
     "text": [
      "2020-09-13 12:48:18 [scrapy.extensions.logstats] INFO: Crawled 265230 pages (at 402 pages/min), scraped 0 items (at 0 items/min)\n"
     ]
    },
    {
     "name": "stdout",
     "output_type": "stream",
     "text": [
      "Saving as : /home/alex/chat_bot_wrike/wrike-bot/help_good_for_wrike/115004471709-Define-custom-columns-in-the-board-view.csv {'https://help.wrike.com/hc/en-us/articles/210322785-Custom-Statuses-and-Workflows'}\n",
      "/home/alex/chat_bot_wrike/wrike-bot/help_good_for_wrike/115004471709-Define-custom-columns-in-the-board-view.csv\n",
      "Saving as : /home/alex/chat_bot_wrike/wrike-bot/help_good_for_wrike/115004471709-Define-custom-columns-in-the-board-view?page=1.csv {'https://help.wrike.com/hc/en-us/articles/210322785-Custom-Statuses-and-Workflows'}\n",
      "/home/alex/chat_bot_wrike/wrike-bot/help_good_for_wrike/115004471709-Define-custom-columns-in-the-board-view?page=1.csv\n"
     ]
    },
    {
     "name": "stderr",
     "output_type": "stream",
     "text": [
      "2020-09-13 12:49:18 [scrapy.extensions.logstats] INFO: Crawled 265862 pages (at 632 pages/min), scraped 0 items (at 0 items/min)\n",
      "2020-09-13 12:50:18 [scrapy.extensions.logstats] INFO: Crawled 266487 pages (at 625 pages/min), scraped 0 items (at 0 items/min)\n"
     ]
    },
    {
     "name": "stdout",
     "output_type": "stream",
     "text": [
      "Saving as : /home/alex/chat_bot_wrike/wrike-bot/help_good_for_wrike/search?page=26&query=Sharing+folders&utf8=%E2%9C%93.csv {'https://help.wrike.com/hc/en-us/sections/201893055-Communication', 'https://help.wrike.com/hc/en-us/categories/200942135-Monitoring-Panel', 'https://help.wrike.com/hc/en-us/sections/360000568453-Calendars', 'https://help.wrike.com/hc/en-us/categories/200942115-Tasks-Folders-Projects-and-Spaces'}\n",
      "/home/alex/chat_bot_wrike/wrike-bot/help_good_for_wrike/search?page=26&query=Sharing+folders&utf8=%E2%9C%93.csv\n"
     ]
    },
    {
     "name": "stderr",
     "output_type": "stream",
     "text": [
      "2020-09-13 12:51:18 [scrapy.extensions.logstats] INFO: Crawled 267108 pages (at 621 pages/min), scraped 0 items (at 0 items/min)\n",
      "2020-09-13 12:52:18 [scrapy.extensions.logstats] INFO: Crawled 267716 pages (at 608 pages/min), scraped 0 items (at 0 items/min)\n",
      "2020-09-13 12:53:18 [scrapy.extensions.logstats] INFO: Crawled 268363 pages (at 647 pages/min), scraped 0 items (at 0 items/min)\n",
      "2020-09-13 12:54:18 [scrapy.extensions.logstats] INFO: Crawled 269090 pages (at 727 pages/min), scraped 0 items (at 0 items/min)\n",
      "2020-09-13 12:55:18 [scrapy.extensions.logstats] INFO: Crawled 269699 pages (at 609 pages/min), scraped 0 items (at 0 items/min)\n",
      "2020-09-13 12:56:18 [scrapy.extensions.logstats] INFO: Crawled 270393 pages (at 694 pages/min), scraped 0 items (at 0 items/min)\n",
      "2020-09-13 12:57:18 [scrapy.extensions.logstats] INFO: Crawled 271004 pages (at 611 pages/min), scraped 0 items (at 0 items/min)\n",
      "2020-09-13 12:58:18 [scrapy.extensions.logstats] INFO: Crawled 271596 pages (at 592 pages/min), scraped 0 items (at 0 items/min)\n",
      "2020-09-13 12:59:18 [scrapy.extensions.logstats] INFO: Crawled 272297 pages (at 701 pages/min), scraped 0 items (at 0 items/min)\n",
      "2020-09-13 13:00:18 [scrapy.extensions.logstats] INFO: Crawled 272996 pages (at 699 pages/min), scraped 0 items (at 0 items/min)\n",
      "2020-09-13 13:01:18 [scrapy.extensions.logstats] INFO: Crawled 273731 pages (at 735 pages/min), scraped 0 items (at 0 items/min)\n",
      "2020-09-13 13:02:18 [scrapy.extensions.logstats] INFO: Crawled 274431 pages (at 700 pages/min), scraped 0 items (at 0 items/min)\n",
      "2020-09-13 13:03:18 [scrapy.extensions.logstats] INFO: Crawled 274937 pages (at 506 pages/min), scraped 0 items (at 0 items/min)\n",
      "2020-09-13 13:04:18 [scrapy.extensions.logstats] INFO: Crawled 275696 pages (at 759 pages/min), scraped 0 items (at 0 items/min)\n",
      "2020-09-13 13:05:18 [scrapy.extensions.logstats] INFO: Crawled 276370 pages (at 674 pages/min), scraped 0 items (at 0 items/min)\n",
      "2020-09-13 13:06:18 [scrapy.extensions.logstats] INFO: Crawled 276867 pages (at 497 pages/min), scraped 0 items (at 0 items/min)\n",
      "2020-09-13 13:07:18 [scrapy.extensions.logstats] INFO: Crawled 277364 pages (at 497 pages/min), scraped 0 items (at 0 items/min)\n",
      "2020-09-13 13:08:18 [scrapy.extensions.logstats] INFO: Crawled 277857 pages (at 493 pages/min), scraped 0 items (at 0 items/min)\n",
      "2020-09-13 13:09:18 [scrapy.extensions.logstats] INFO: Crawled 278433 pages (at 576 pages/min), scraped 0 items (at 0 items/min)\n"
     ]
    },
    {
     "name": "stdout",
     "output_type": "stream",
     "text": [
      "Saving as : /home/alex/chat_bot_wrike/wrike-bot/help_good_for_wrike/search?page=23&query=Gantt+chart&utf8=%E2%9C%93.csv {'https://help.wrike.com/hc/en-us/sections/201834259-Advanced', 'https://help.wrike.com/hc/en-us/sections/202423365-Everything-Else', 'https://help.wrike.com/hc/en-us/categories/200939185-Integrations', 'https://help.wrike.com/hc/en-us/categories/200942115-Tasks-Folders-Projects-and-Spaces'}\n",
      "/home/alex/chat_bot_wrike/wrike-bot/help_good_for_wrike/search?page=23&query=Gantt+chart&utf8=%E2%9C%93.csv\n"
     ]
    },
    {
     "name": "stderr",
     "output_type": "stream",
     "text": [
      "2020-09-13 13:10:18 [scrapy.extensions.logstats] INFO: Crawled 279002 pages (at 569 pages/min), scraped 0 items (at 0 items/min)\n",
      "2020-09-13 13:11:18 [scrapy.extensions.logstats] INFO: Crawled 279547 pages (at 545 pages/min), scraped 0 items (at 0 items/min)\n",
      "2020-09-13 13:12:19 [scrapy.extensions.logstats] INFO: Crawled 280041 pages (at 494 pages/min), scraped 0 items (at 0 items/min)\n",
      "2020-09-13 13:13:20 [scrapy.extensions.logstats] INFO: Crawled 280439 pages (at 398 pages/min), scraped 0 items (at 0 items/min)\n",
      "2020-09-13 13:14:19 [scrapy.extensions.logstats] INFO: Crawled 280887 pages (at 448 pages/min), scraped 0 items (at 0 items/min)\n",
      "2020-09-13 13:15:18 [scrapy.extensions.logstats] INFO: Crawled 281348 pages (at 461 pages/min), scraped 0 items (at 0 items/min)\n",
      "2020-09-13 13:16:18 [scrapy.extensions.logstats] INFO: Crawled 281760 pages (at 412 pages/min), scraped 0 items (at 0 items/min)\n",
      "2020-09-13 13:17:18 [scrapy.extensions.logstats] INFO: Crawled 282184 pages (at 424 pages/min), scraped 0 items (at 0 items/min)\n",
      "2020-09-13 13:18:18 [scrapy.extensions.logstats] INFO: Crawled 282686 pages (at 502 pages/min), scraped 0 items (at 0 items/min)\n",
      "2020-09-13 13:19:18 [scrapy.extensions.logstats] INFO: Crawled 283362 pages (at 676 pages/min), scraped 0 items (at 0 items/min)\n"
     ]
    },
    {
     "name": "stdout",
     "output_type": "stream",
     "text": [
      "Saving as : /home/alex/chat_bot_wrike/wrike-bot/help_good_for_wrike/search?page=24&query=Gantt+chart&utf8=%E2%9C%93.csv {'https://help.wrike.com/hc/en-us/sections/201893035-Tasks', 'https://help.wrike.com/hc/en-us/categories/200942135-Monitoring-Panel', 'https://help.wrike.com/hc/en-us/sections/360004618833-Wrike-Resource', 'https://help.wrike.com/hc/en-us/sections/201893095-Accounts', 'https://help.wrike.com/hc/en-us/categories/200942155-Types-of-Accounts-and-Licenses', 'https://help.wrike.com/hc/en-us/categories/201188645-Getting-Started', 'https://help.wrike.com/hc/en-us/categories/200942115-Tasks-Folders-Projects-and-Spaces'}\n",
      "/home/alex/chat_bot_wrike/wrike-bot/help_good_for_wrike/search?page=24&query=Gantt+chart&utf8=%E2%9C%93.csv\n"
     ]
    },
    {
     "name": "stderr",
     "output_type": "stream",
     "text": [
      "2020-09-13 13:20:18 [scrapy.extensions.logstats] INFO: Crawled 284000 pages (at 638 pages/min), scraped 0 items (at 0 items/min)\n",
      "2020-09-13 13:21:18 [scrapy.extensions.logstats] INFO: Crawled 284665 pages (at 665 pages/min), scraped 0 items (at 0 items/min)\n"
     ]
    },
    {
     "name": "stdout",
     "output_type": "stream",
     "text": [
      "Saving as : /home/alex/chat_bot_wrike/wrike-bot/help_good_for_wrike/search?page=25&query=Gantt+chart&utf8=%E2%9C%93.csv {'https://help.wrike.com/hc/en-us/sections/201893035-Tasks', 'https://help.wrike.com/hc/en-us/sections/360001968634-Import-and-Export', 'https://help.wrike.com/hc/en-us/sections/201887445-Billing', 'https://help.wrike.com/hc/en-us/categories/200942115-Tasks-Folders-Projects-and-Spaces', 'https://help.wrike.com/hc/en-us/categories/200939185-Integrations', 'https://help.wrike.com/hc/en-us/categories/200913179-Account-Management'}\n",
      "/home/alex/chat_bot_wrike/wrike-bot/help_good_for_wrike/search?page=25&query=Gantt+chart&utf8=%E2%9C%93.csv\n"
     ]
    },
    {
     "name": "stderr",
     "output_type": "stream",
     "text": [
      "2020-09-13 13:22:18 [scrapy.extensions.logstats] INFO: Crawled 285088 pages (at 423 pages/min), scraped 0 items (at 0 items/min)\n"
     ]
    },
    {
     "name": "stdout",
     "output_type": "stream",
     "text": [
      "Saving as : /home/alex/chat_bot_wrike/wrike-bot/help_good_for_wrike/search?page=26&query=Gantt+chart&utf8=%E2%9C%93.csv {'https://help.wrike.com/hc/en-us/sections/202366329-Proofing-and-Approvals', 'https://help.wrike.com/hc/en-us/categories/200942135-Monitoring-Panel', 'https://help.wrike.com/hc/en-us/sections/201834339-Licenses', 'https://help.wrike.com/hc/en-us/sections/360004618833-Wrike-Resource', 'https://help.wrike.com/hc/en-us/categories/200942155-Types-of-Accounts-and-Licenses', 'https://help.wrike.com/hc/en-us/categories/200942115-Tasks-Folders-Projects-and-Spaces'}\n",
      "/home/alex/chat_bot_wrike/wrike-bot/help_good_for_wrike/search?page=26&query=Gantt+chart&utf8=%E2%9C%93.csv\n"
     ]
    },
    {
     "name": "stderr",
     "output_type": "stream",
     "text": [
      "2020-09-13 13:23:18 [scrapy.extensions.logstats] INFO: Crawled 285677 pages (at 589 pages/min), scraped 0 items (at 0 items/min)\n",
      "2020-09-13 13:24:18 [scrapy.extensions.logstats] INFO: Crawled 286167 pages (at 490 pages/min), scraped 0 items (at 0 items/min)\n",
      "2020-09-13 13:25:18 [scrapy.extensions.logstats] INFO: Crawled 286660 pages (at 493 pages/min), scraped 0 items (at 0 items/min)\n",
      "2020-09-13 13:26:18 [scrapy.extensions.logstats] INFO: Crawled 287083 pages (at 423 pages/min), scraped 0 items (at 0 items/min)\n",
      "2020-09-13 13:27:18 [scrapy.extensions.logstats] INFO: Crawled 287392 pages (at 309 pages/min), scraped 0 items (at 0 items/min)\n",
      "2020-09-13 13:28:18 [scrapy.extensions.logstats] INFO: Crawled 287778 pages (at 386 pages/min), scraped 0 items (at 0 items/min)\n",
      "2020-09-13 13:29:18 [scrapy.extensions.logstats] INFO: Crawled 288066 pages (at 288 pages/min), scraped 0 items (at 0 items/min)\n",
      "2020-09-13 13:30:18 [scrapy.extensions.logstats] INFO: Crawled 288425 pages (at 359 pages/min), scraped 0 items (at 0 items/min)\n",
      "2020-09-13 13:31:18 [scrapy.extensions.logstats] INFO: Crawled 288737 pages (at 312 pages/min), scraped 0 items (at 0 items/min)\n",
      "2020-09-13 13:32:18 [scrapy.extensions.logstats] INFO: Crawled 289197 pages (at 460 pages/min), scraped 0 items (at 0 items/min)\n",
      "2020-09-13 13:33:18 [scrapy.extensions.logstats] INFO: Crawled 289581 pages (at 384 pages/min), scraped 0 items (at 0 items/min)\n",
      "2020-09-13 13:34:18 [scrapy.extensions.logstats] INFO: Crawled 290037 pages (at 456 pages/min), scraped 0 items (at 0 items/min)\n",
      "2020-09-13 13:35:18 [scrapy.extensions.logstats] INFO: Crawled 290544 pages (at 507 pages/min), scraped 0 items (at 0 items/min)\n",
      "2020-09-13 13:36:18 [scrapy.extensions.logstats] INFO: Crawled 290844 pages (at 300 pages/min), scraped 0 items (at 0 items/min)\n",
      "2020-09-13 13:37:18 [scrapy.extensions.logstats] INFO: Crawled 291175 pages (at 331 pages/min), scraped 0 items (at 0 items/min)\n",
      "2020-09-13 13:38:18 [scrapy.extensions.logstats] INFO: Crawled 291455 pages (at 280 pages/min), scraped 0 items (at 0 items/min)\n",
      "2020-09-13 13:39:18 [scrapy.extensions.logstats] INFO: Crawled 291749 pages (at 294 pages/min), scraped 0 items (at 0 items/min)\n",
      "2020-09-13 13:40:18 [scrapy.extensions.logstats] INFO: Crawled 292091 pages (at 342 pages/min), scraped 0 items (at 0 items/min)\n",
      "2020-09-13 13:41:18 [scrapy.extensions.logstats] INFO: Crawled 292376 pages (at 285 pages/min), scraped 0 items (at 0 items/min)\n",
      "2020-09-13 13:42:18 [scrapy.extensions.logstats] INFO: Crawled 292742 pages (at 366 pages/min), scraped 0 items (at 0 items/min)\n",
      "2020-09-13 13:43:18 [scrapy.extensions.logstats] INFO: Crawled 293160 pages (at 418 pages/min), scraped 0 items (at 0 items/min)\n",
      "2020-09-13 13:44:18 [scrapy.extensions.logstats] INFO: Crawled 293526 pages (at 366 pages/min), scraped 0 items (at 0 items/min)\n",
      "2020-09-13 13:45:18 [scrapy.extensions.logstats] INFO: Crawled 293989 pages (at 463 pages/min), scraped 0 items (at 0 items/min)\n",
      "2020-09-13 13:46:18 [scrapy.extensions.logstats] INFO: Crawled 294655 pages (at 666 pages/min), scraped 0 items (at 0 items/min)\n",
      "2020-09-13 13:47:18 [scrapy.extensions.logstats] INFO: Crawled 295318 pages (at 663 pages/min), scraped 0 items (at 0 items/min)\n",
      "2020-09-13 13:48:18 [scrapy.extensions.logstats] INFO: Crawled 295812 pages (at 494 pages/min), scraped 0 items (at 0 items/min)\n",
      "2020-09-13 13:49:18 [scrapy.extensions.logstats] INFO: Crawled 296317 pages (at 505 pages/min), scraped 0 items (at 0 items/min)\n",
      "2020-09-13 13:50:23 [scrapy.extensions.logstats] INFO: Crawled 296780 pages (at 463 pages/min), scraped 0 items (at 0 items/min)\n",
      "2020-09-13 13:51:18 [scrapy.extensions.logstats] INFO: Crawled 297257 pages (at 477 pages/min), scraped 0 items (at 0 items/min)\n",
      "2020-09-13 13:52:18 [scrapy.extensions.logstats] INFO: Crawled 297726 pages (at 469 pages/min), scraped 0 items (at 0 items/min)\n",
      "2020-09-13 13:53:18 [scrapy.extensions.logstats] INFO: Crawled 298239 pages (at 513 pages/min), scraped 0 items (at 0 items/min)\n",
      "2020-09-13 13:54:18 [scrapy.extensions.logstats] INFO: Crawled 298766 pages (at 527 pages/min), scraped 0 items (at 0 items/min)\n",
      "2020-09-13 13:55:18 [scrapy.extensions.logstats] INFO: Crawled 299357 pages (at 591 pages/min), scraped 0 items (at 0 items/min)\n",
      "2020-09-13 13:56:18 [scrapy.extensions.logstats] INFO: Crawled 299940 pages (at 583 pages/min), scraped 0 items (at 0 items/min)\n",
      "2020-09-13 13:57:18 [scrapy.extensions.logstats] INFO: Crawled 300293 pages (at 353 pages/min), scraped 0 items (at 0 items/min)\n",
      "2020-09-13 13:58:18 [scrapy.extensions.logstats] INFO: Crawled 300870 pages (at 577 pages/min), scraped 0 items (at 0 items/min)\n",
      "2020-09-13 13:59:18 [scrapy.extensions.logstats] INFO: Crawled 301460 pages (at 590 pages/min), scraped 0 items (at 0 items/min)\n",
      "2020-09-13 14:00:18 [scrapy.extensions.logstats] INFO: Crawled 302112 pages (at 652 pages/min), scraped 0 items (at 0 items/min)\n",
      "2020-09-13 14:01:18 [scrapy.extensions.logstats] INFO: Crawled 302744 pages (at 632 pages/min), scraped 0 items (at 0 items/min)\n",
      "2020-09-13 14:02:18 [scrapy.extensions.logstats] INFO: Crawled 303426 pages (at 682 pages/min), scraped 0 items (at 0 items/min)\n",
      "2020-09-13 14:03:18 [scrapy.extensions.logstats] INFO: Crawled 304106 pages (at 680 pages/min), scraped 0 items (at 0 items/min)\n",
      "2020-09-13 14:04:18 [scrapy.extensions.logstats] INFO: Crawled 304776 pages (at 670 pages/min), scraped 0 items (at 0 items/min)\n",
      "2020-09-13 14:05:18 [scrapy.extensions.logstats] INFO: Crawled 305356 pages (at 580 pages/min), scraped 0 items (at 0 items/min)\n",
      "2020-09-13 14:06:18 [scrapy.extensions.logstats] INFO: Crawled 306092 pages (at 736 pages/min), scraped 0 items (at 0 items/min)\n",
      "2020-09-13 14:07:18 [scrapy.extensions.logstats] INFO: Crawled 306700 pages (at 608 pages/min), scraped 0 items (at 0 items/min)\n",
      "2020-09-13 14:08:18 [scrapy.extensions.logstats] INFO: Crawled 307315 pages (at 615 pages/min), scraped 0 items (at 0 items/min)\n",
      "2020-09-13 14:09:18 [scrapy.extensions.logstats] INFO: Crawled 308000 pages (at 685 pages/min), scraped 0 items (at 0 items/min)\n",
      "2020-09-13 14:10:18 [scrapy.extensions.logstats] INFO: Crawled 308724 pages (at 724 pages/min), scraped 0 items (at 0 items/min)\n",
      "2020-09-13 14:11:18 [scrapy.extensions.logstats] INFO: Crawled 309387 pages (at 663 pages/min), scraped 0 items (at 0 items/min)\n",
      "2020-09-13 14:12:18 [scrapy.extensions.logstats] INFO: Crawled 310191 pages (at 804 pages/min), scraped 0 items (at 0 items/min)\n",
      "2020-09-13 14:13:18 [scrapy.extensions.logstats] INFO: Crawled 310891 pages (at 700 pages/min), scraped 0 items (at 0 items/min)\n",
      "2020-09-13 14:14:18 [scrapy.extensions.logstats] INFO: Crawled 311574 pages (at 683 pages/min), scraped 0 items (at 0 items/min)\n",
      "2020-09-13 14:15:18 [scrapy.extensions.logstats] INFO: Crawled 312223 pages (at 649 pages/min), scraped 0 items (at 0 items/min)\n",
      "2020-09-13 14:16:18 [scrapy.extensions.logstats] INFO: Crawled 312903 pages (at 680 pages/min), scraped 0 items (at 0 items/min)\n",
      "2020-09-13 14:17:22 [scrapy.extensions.logstats] INFO: Crawled 313517 pages (at 614 pages/min), scraped 0 items (at 0 items/min)\n",
      "2020-09-13 14:18:18 [scrapy.extensions.logstats] INFO: Crawled 314142 pages (at 625 pages/min), scraped 0 items (at 0 items/min)\n",
      "2020-09-13 14:19:18 [scrapy.extensions.logstats] INFO: Crawled 315416 pages (at 1274 pages/min), scraped 0 items (at 0 items/min)\n",
      "2020-09-13 14:20:18 [scrapy.extensions.logstats] INFO: Crawled 316082 pages (at 666 pages/min), scraped 0 items (at 0 items/min)\n",
      "2020-09-13 14:21:18 [scrapy.extensions.logstats] INFO: Crawled 316691 pages (at 609 pages/min), scraped 0 items (at 0 items/min)\n",
      "2020-09-13 14:22:18 [scrapy.extensions.logstats] INFO: Crawled 317349 pages (at 658 pages/min), scraped 0 items (at 0 items/min)\n"
     ]
    },
    {
     "name": "stdout",
     "output_type": "stream",
     "text": [
      "Saving as : /home/alex/chat_bot_wrike/wrike-bot/help_good_for_wrike/115000233605-User-Groups?page=2.csv {'https://help.wrike.com/hc/en-us/articles/209603849-Sharing-Tasks#share'}\n",
      "/home/alex/chat_bot_wrike/wrike-bot/help_good_for_wrike/115000233605-User-Groups?page=2.csv\n"
     ]
    },
    {
     "name": "stderr",
     "output_type": "stream",
     "text": [
      "2020-09-13 14:23:18 [scrapy.extensions.logstats] INFO: Crawled 317835 pages (at 486 pages/min), scraped 0 items (at 0 items/min)\n",
      "2020-09-13 14:24:18 [scrapy.extensions.logstats] INFO: Crawled 319408 pages (at 1573 pages/min), scraped 0 items (at 0 items/min)\n",
      "2020-09-13 14:25:18 [scrapy.extensions.logstats] INFO: Crawled 320178 pages (at 770 pages/min), scraped 0 items (at 0 items/min)\n",
      "2020-09-13 14:26:18 [scrapy.extensions.logstats] INFO: Crawled 320820 pages (at 642 pages/min), scraped 0 items (at 0 items/min)\n",
      "2020-09-13 14:27:18 [scrapy.extensions.logstats] INFO: Crawled 321493 pages (at 673 pages/min), scraped 0 items (at 0 items/min)\n",
      "2020-09-13 14:28:18 [scrapy.extensions.logstats] INFO: Crawled 322044 pages (at 551 pages/min), scraped 0 items (at 0 items/min)\n",
      "2020-09-13 14:29:18 [scrapy.extensions.logstats] INFO: Crawled 322718 pages (at 674 pages/min), scraped 0 items (at 0 items/min)\n",
      "2020-09-13 14:30:18 [scrapy.extensions.logstats] INFO: Crawled 323484 pages (at 766 pages/min), scraped 0 items (at 0 items/min)\n",
      "2020-09-13 14:31:19 [scrapy.extensions.logstats] INFO: Crawled 324178 pages (at 694 pages/min), scraped 0 items (at 0 items/min)\n",
      "2020-09-13 14:32:18 [scrapy.extensions.logstats] INFO: Crawled 324780 pages (at 602 pages/min), scraped 0 items (at 0 items/min)\n",
      "2020-09-13 14:33:18 [scrapy.extensions.logstats] INFO: Crawled 325539 pages (at 759 pages/min), scraped 0 items (at 0 items/min)\n",
      "2020-09-13 14:34:18 [scrapy.extensions.logstats] INFO: Crawled 326211 pages (at 672 pages/min), scraped 0 items (at 0 items/min)\n",
      "2020-09-13 14:35:18 [scrapy.extensions.logstats] INFO: Crawled 327006 pages (at 795 pages/min), scraped 0 items (at 0 items/min)\n",
      "2020-09-13 14:36:18 [scrapy.extensions.logstats] INFO: Crawled 327795 pages (at 789 pages/min), scraped 0 items (at 0 items/min)\n",
      "2020-09-13 14:37:18 [scrapy.extensions.logstats] INFO: Crawled 328511 pages (at 716 pages/min), scraped 0 items (at 0 items/min)\n",
      "2020-09-13 14:38:18 [scrapy.extensions.logstats] INFO: Crawled 329210 pages (at 699 pages/min), scraped 0 items (at 0 items/min)\n",
      "2020-09-13 14:39:18 [scrapy.extensions.logstats] INFO: Crawled 329885 pages (at 675 pages/min), scraped 0 items (at 0 items/min)\n",
      "2020-09-13 14:40:18 [scrapy.extensions.logstats] INFO: Crawled 330595 pages (at 710 pages/min), scraped 0 items (at 0 items/min)\n",
      "2020-09-13 14:41:18 [scrapy.extensions.logstats] INFO: Crawled 331286 pages (at 691 pages/min), scraped 0 items (at 0 items/min)\n",
      "2020-09-13 14:42:18 [scrapy.extensions.logstats] INFO: Crawled 331945 pages (at 659 pages/min), scraped 0 items (at 0 items/min)\n",
      "2020-09-13 14:43:18 [scrapy.extensions.logstats] INFO: Crawled 332695 pages (at 750 pages/min), scraped 0 items (at 0 items/min)\n",
      "2020-09-13 14:44:18 [scrapy.extensions.logstats] INFO: Crawled 333281 pages (at 586 pages/min), scraped 0 items (at 0 items/min)\n",
      "2020-09-13 14:45:18 [scrapy.extensions.logstats] INFO: Crawled 334025 pages (at 744 pages/min), scraped 0 items (at 0 items/min)\n",
      "2020-09-13 14:46:18 [scrapy.extensions.logstats] INFO: Crawled 334561 pages (at 536 pages/min), scraped 0 items (at 0 items/min)\n",
      "2020-09-13 14:47:18 [scrapy.extensions.logstats] INFO: Crawled 335211 pages (at 650 pages/min), scraped 0 items (at 0 items/min)\n",
      "2020-09-13 14:48:18 [scrapy.extensions.logstats] INFO: Crawled 335833 pages (at 622 pages/min), scraped 0 items (at 0 items/min)\n",
      "2020-09-13 14:49:18 [scrapy.extensions.logstats] INFO: Crawled 336512 pages (at 679 pages/min), scraped 0 items (at 0 items/min)\n",
      "2020-09-13 14:50:18 [scrapy.extensions.logstats] INFO: Crawled 337244 pages (at 732 pages/min), scraped 0 items (at 0 items/min)\n",
      "2020-09-13 14:51:18 [scrapy.extensions.logstats] INFO: Crawled 337915 pages (at 671 pages/min), scraped 0 items (at 0 items/min)\n",
      "2020-09-13 14:52:26 [scrapy.extensions.logstats] INFO: Crawled 338613 pages (at 698 pages/min), scraped 0 items (at 0 items/min)\n",
      "2020-09-13 14:53:18 [scrapy.extensions.logstats] INFO: Crawled 339134 pages (at 521 pages/min), scraped 0 items (at 0 items/min)\n",
      "2020-09-13 14:54:18 [scrapy.extensions.logstats] INFO: Crawled 339780 pages (at 646 pages/min), scraped 0 items (at 0 items/min)\n",
      "2020-09-13 14:55:18 [scrapy.extensions.logstats] INFO: Crawled 340389 pages (at 609 pages/min), scraped 0 items (at 0 items/min)\n",
      "2020-09-13 14:56:18 [scrapy.extensions.logstats] INFO: Crawled 341120 pages (at 731 pages/min), scraped 0 items (at 0 items/min)\n",
      "2020-09-13 14:57:18 [scrapy.extensions.logstats] INFO: Crawled 341873 pages (at 753 pages/min), scraped 0 items (at 0 items/min)\n",
      "2020-09-13 14:58:18 [scrapy.extensions.logstats] INFO: Crawled 342510 pages (at 637 pages/min), scraped 0 items (at 0 items/min)\n",
      "2020-09-13 14:59:18 [scrapy.extensions.logstats] INFO: Crawled 343160 pages (at 650 pages/min), scraped 0 items (at 0 items/min)\n",
      "2020-09-13 15:00:18 [scrapy.extensions.logstats] INFO: Crawled 343862 pages (at 702 pages/min), scraped 0 items (at 0 items/min)\n",
      "2020-09-13 15:01:18 [scrapy.extensions.logstats] INFO: Crawled 344600 pages (at 738 pages/min), scraped 0 items (at 0 items/min)\n",
      "2020-09-13 15:02:18 [scrapy.extensions.logstats] INFO: Crawled 345428 pages (at 828 pages/min), scraped 0 items (at 0 items/min)\n",
      "2020-09-13 15:03:18 [scrapy.extensions.logstats] INFO: Crawled 346194 pages (at 766 pages/min), scraped 0 items (at 0 items/min)\n",
      "2020-09-13 15:04:18 [scrapy.extensions.logstats] INFO: Crawled 347024 pages (at 830 pages/min), scraped 0 items (at 0 items/min)\n",
      "2020-09-13 15:05:18 [scrapy.extensions.logstats] INFO: Crawled 347686 pages (at 662 pages/min), scraped 0 items (at 0 items/min)\n",
      "2020-09-13 15:06:18 [scrapy.extensions.logstats] INFO: Crawled 348481 pages (at 795 pages/min), scraped 0 items (at 0 items/min)\n",
      "2020-09-13 15:07:18 [scrapy.extensions.logstats] INFO: Crawled 349222 pages (at 741 pages/min), scraped 0 items (at 0 items/min)\n",
      "2020-09-13 15:08:18 [scrapy.extensions.logstats] INFO: Crawled 350021 pages (at 799 pages/min), scraped 0 items (at 0 items/min)\n",
      "2020-09-13 15:09:18 [scrapy.extensions.logstats] INFO: Crawled 350826 pages (at 805 pages/min), scraped 0 items (at 0 items/min)\n",
      "2020-09-13 15:10:18 [scrapy.extensions.logstats] INFO: Crawled 351395 pages (at 569 pages/min), scraped 0 items (at 0 items/min)\n",
      "2020-09-13 15:11:18 [scrapy.extensions.logstats] INFO: Crawled 352192 pages (at 797 pages/min), scraped 0 items (at 0 items/min)\n",
      "2020-09-13 15:12:18 [scrapy.extensions.logstats] INFO: Crawled 352988 pages (at 796 pages/min), scraped 0 items (at 0 items/min)\n",
      "2020-09-13 15:13:18 [scrapy.extensions.logstats] INFO: Crawled 353785 pages (at 797 pages/min), scraped 0 items (at 0 items/min)\n",
      "2020-09-13 15:14:18 [scrapy.extensions.logstats] INFO: Crawled 354546 pages (at 761 pages/min), scraped 0 items (at 0 items/min)\n",
      "2020-09-13 15:15:18 [scrapy.extensions.logstats] INFO: Crawled 354976 pages (at 430 pages/min), scraped 0 items (at 0 items/min)\n",
      "2020-09-13 15:16:19 [scrapy.extensions.logstats] INFO: Crawled 355310 pages (at 334 pages/min), scraped 0 items (at 0 items/min)\n",
      "2020-09-13 15:17:18 [scrapy.extensions.logstats] INFO: Crawled 355911 pages (at 601 pages/min), scraped 0 items (at 0 items/min)\n",
      "2020-09-13 15:18:18 [scrapy.extensions.logstats] INFO: Crawled 356652 pages (at 741 pages/min), scraped 0 items (at 0 items/min)\n",
      "2020-09-13 15:19:18 [scrapy.extensions.logstats] INFO: Crawled 357099 pages (at 447 pages/min), scraped 0 items (at 0 items/min)\n",
      "2020-09-13 15:20:18 [scrapy.extensions.logstats] INFO: Crawled 357504 pages (at 405 pages/min), scraped 0 items (at 0 items/min)\n",
      "2020-09-13 15:21:18 [scrapy.extensions.logstats] INFO: Crawled 357866 pages (at 362 pages/min), scraped 0 items (at 0 items/min)\n",
      "2020-09-13 15:22:18 [scrapy.extensions.logstats] INFO: Crawled 358318 pages (at 452 pages/min), scraped 0 items (at 0 items/min)\n",
      "2020-09-13 15:23:18 [scrapy.extensions.logstats] INFO: Crawled 358671 pages (at 353 pages/min), scraped 0 items (at 0 items/min)\n",
      "2020-09-13 15:24:18 [scrapy.extensions.logstats] INFO: Crawled 359131 pages (at 460 pages/min), scraped 0 items (at 0 items/min)\n",
      "2020-09-13 15:25:18 [scrapy.extensions.logstats] INFO: Crawled 359649 pages (at 518 pages/min), scraped 0 items (at 0 items/min)\n",
      "2020-09-13 15:26:18 [scrapy.extensions.logstats] INFO: Crawled 360136 pages (at 487 pages/min), scraped 0 items (at 0 items/min)\n"
     ]
    },
    {
     "name": "stderr",
     "output_type": "stream",
     "text": [
      "2020-09-13 15:27:18 [scrapy.extensions.logstats] INFO: Crawled 360410 pages (at 274 pages/min), scraped 0 items (at 0 items/min)\n",
      "2020-09-13 15:28:19 [scrapy.extensions.logstats] INFO: Crawled 360865 pages (at 455 pages/min), scraped 0 items (at 0 items/min)\n",
      "2020-09-13 15:29:18 [scrapy.extensions.logstats] INFO: Crawled 361275 pages (at 410 pages/min), scraped 0 items (at 0 items/min)\n",
      "2020-09-13 15:30:20 [scrapy.extensions.logstats] INFO: Crawled 361788 pages (at 513 pages/min), scraped 0 items (at 0 items/min)\n",
      "2020-09-13 15:31:18 [scrapy.extensions.logstats] INFO: Crawled 362200 pages (at 412 pages/min), scraped 0 items (at 0 items/min)\n",
      "2020-09-13 15:32:18 [scrapy.extensions.logstats] INFO: Crawled 362852 pages (at 652 pages/min), scraped 0 items (at 0 items/min)\n",
      "2020-09-13 15:33:26 [scrapy.extensions.logstats] INFO: Crawled 363270 pages (at 418 pages/min), scraped 0 items (at 0 items/min)\n",
      "2020-09-13 15:34:18 [scrapy.extensions.logstats] INFO: Crawled 363807 pages (at 537 pages/min), scraped 0 items (at 0 items/min)\n",
      "2020-09-13 15:35:18 [scrapy.extensions.logstats] INFO: Crawled 364469 pages (at 662 pages/min), scraped 0 items (at 0 items/min)\n",
      "2020-09-13 15:36:18 [scrapy.extensions.logstats] INFO: Crawled 364941 pages (at 472 pages/min), scraped 0 items (at 0 items/min)\n",
      "2020-09-13 15:37:18 [scrapy.extensions.logstats] INFO: Crawled 365301 pages (at 360 pages/min), scraped 0 items (at 0 items/min)\n"
     ]
    },
    {
     "name": "stdout",
     "output_type": "stream",
     "text": [
      "Saving as : /home/alex/chat_bot_wrike/wrike-bot/help_good_for_wrike/360014000854-Need-to-capability-to-create-report-templates-for-our-account?page=1.csv {'https://help.wrike.com/hc/en-us/articles/214612765-Report-Templates'}\n",
      "/home/alex/chat_bot_wrike/wrike-bot/help_good_for_wrike/360014000854-Need-to-capability-to-create-report-templates-for-our-account?page=1.csv\n",
      "Saving as : /home/alex/chat_bot_wrike/wrike-bot/help_good_for_wrike/360014089333-Scheduled-Report-Reminder-Monthly?page=1.csv {'https://help.wrike.com/hc/en-us/articles/213930929-Scheduled-Report-Reminders'}\n",
      "/home/alex/chat_bot_wrike/wrike-bot/help_good_for_wrike/360014089333-Scheduled-Report-Reminder-Monthly?page=1.csv\n"
     ]
    },
    {
     "name": "stderr",
     "output_type": "stream",
     "text": [
      "2020-09-13 15:38:19 [scrapy.extensions.logstats] INFO: Crawled 365647 pages (at 346 pages/min), scraped 0 items (at 0 items/min)\n"
     ]
    },
    {
     "name": "stdout",
     "output_type": "stream",
     "text": [
      "Saving as : /home/alex/chat_bot_wrike/wrike-bot/help_good_for_wrike/360014366113-id-in-subject.csv {'https://help.wrike.com/hc/en-us/articles/209603329-Job-Numbers'}\n",
      "/home/alex/chat_bot_wrike/wrike-bot/help_good_for_wrike/360014366113-id-in-subject.csv\n",
      "Saving as : /home/alex/chat_bot_wrike/wrike-bot/help_good_for_wrike/360014532213-widget-in-dashboard-with-only-urgent-tasks?page=1.csv {'https://help.wrike.com/hc/en-us/articles/209603829-Importance'}\n",
      "/home/alex/chat_bot_wrike/wrike-bot/help_good_for_wrike/360014532213-widget-in-dashboard-with-only-urgent-tasks?page=1.csv\n",
      "Saving as : /home/alex/chat_bot_wrike/wrike-bot/help_good_for_wrike/360014366113-id-in-subject?page=1.csv {'https://help.wrike.com/hc/en-us/articles/209603329-Job-Numbers'}\n",
      "/home/alex/chat_bot_wrike/wrike-bot/help_good_for_wrike/360014366113-id-in-subject?page=1.csv\n"
     ]
    },
    {
     "name": "stderr",
     "output_type": "stream",
     "text": [
      "2020-09-13 15:39:19 [scrapy.extensions.logstats] INFO: Crawled 366092 pages (at 445 pages/min), scraped 0 items (at 0 items/min)\n",
      "2020-09-13 15:40:18 [scrapy.extensions.logstats] INFO: Crawled 366432 pages (at 340 pages/min), scraped 0 items (at 0 items/min)\n",
      "2020-09-13 15:41:18 [scrapy.extensions.logstats] INFO: Crawled 366920 pages (at 488 pages/min), scraped 0 items (at 0 items/min)\n",
      "2020-09-13 15:42:18 [scrapy.extensions.logstats] INFO: Crawled 367378 pages (at 458 pages/min), scraped 0 items (at 0 items/min)\n",
      "2020-09-13 15:43:18 [scrapy.extensions.logstats] INFO: Crawled 368181 pages (at 803 pages/min), scraped 0 items (at 0 items/min)\n",
      "2020-09-13 15:44:18 [scrapy.extensions.logstats] INFO: Crawled 368737 pages (at 556 pages/min), scraped 0 items (at 0 items/min)\n",
      "2020-09-13 15:45:27 [scrapy.extensions.logstats] INFO: Crawled 369372 pages (at 635 pages/min), scraped 0 items (at 0 items/min)\n",
      "2020-09-13 15:46:18 [scrapy.extensions.logstats] INFO: Crawled 369692 pages (at 320 pages/min), scraped 0 items (at 0 items/min)\n",
      "2020-09-13 15:47:18 [scrapy.extensions.logstats] INFO: Crawled 370145 pages (at 453 pages/min), scraped 0 items (at 0 items/min)\n",
      "2020-09-13 15:48:18 [scrapy.extensions.logstats] INFO: Crawled 370748 pages (at 603 pages/min), scraped 0 items (at 0 items/min)\n",
      "2020-09-13 15:49:18 [scrapy.extensions.logstats] INFO: Crawled 371423 pages (at 675 pages/min), scraped 0 items (at 0 items/min)\n",
      "2020-09-13 15:50:18 [scrapy.extensions.logstats] INFO: Crawled 371929 pages (at 506 pages/min), scraped 0 items (at 0 items/min)\n",
      "2020-09-13 15:51:18 [scrapy.extensions.logstats] INFO: Crawled 372436 pages (at 507 pages/min), scraped 0 items (at 0 items/min)\n",
      "2020-09-13 15:52:18 [scrapy.extensions.logstats] INFO: Crawled 372746 pages (at 310 pages/min), scraped 0 items (at 0 items/min)\n"
     ]
    },
    {
     "name": "stdout",
     "output_type": "stream",
     "text": [
      "Saving as : /home/alex/chat_bot_wrike/wrike-bot/help_good_for_wrike/360014447813-Why-do-I-have-to-login-again-when-using-the-app-.csv {'https://help.wrike.com/hc/en-us/articles/115004231249-Wrike-for-Windows-and-Mac-Desktop-App-#automatically'}\n",
      "/home/alex/chat_bot_wrike/wrike-bot/help_good_for_wrike/360014447813-Why-do-I-have-to-login-again-when-using-the-app-.csv\n",
      "Saving as : /home/alex/chat_bot_wrike/wrike-bot/help_good_for_wrike/360014447813-Why-do-I-have-to-login-again-when-using-the-app-?page=1.csv {'https://help.wrike.com/hc/en-us/articles/115004231249-Wrike-for-Windows-and-Mac-Desktop-App-#automatically'}\n",
      "/home/alex/chat_bot_wrike/wrike-bot/help_good_for_wrike/360014447813-Why-do-I-have-to-login-again-when-using-the-app-?page=1.csv\n",
      "Saving as : /home/alex/chat_bot_wrike/wrike-bot/help_good_for_wrike/360014517194-Boolean-search.csv {'https://help.wrike.com/hc/en-us/articles/209602909-Search'}\n",
      "/home/alex/chat_bot_wrike/wrike-bot/help_good_for_wrike/360014517194-Boolean-search.csv\n"
     ]
    },
    {
     "name": "stderr",
     "output_type": "stream",
     "text": [
      "2020-09-13 15:53:18 [scrapy.extensions.logstats] INFO: Crawled 373245 pages (at 499 pages/min), scraped 0 items (at 0 items/min)\n",
      "2020-09-13 15:54:18 [scrapy.extensions.logstats] INFO: Crawled 373753 pages (at 508 pages/min), scraped 0 items (at 0 items/min)\n",
      "2020-09-13 15:55:18 [scrapy.extensions.logstats] INFO: Crawled 374173 pages (at 420 pages/min), scraped 0 items (at 0 items/min)\n",
      "2020-09-13 15:56:18 [scrapy.extensions.logstats] INFO: Crawled 374768 pages (at 595 pages/min), scraped 0 items (at 0 items/min)\n",
      "2020-09-13 15:57:18 [scrapy.extensions.logstats] INFO: Crawled 375090 pages (at 322 pages/min), scraped 0 items (at 0 items/min)\n",
      "2020-09-13 15:58:18 [scrapy.extensions.logstats] INFO: Crawled 375529 pages (at 439 pages/min), scraped 0 items (at 0 items/min)\n",
      "2020-09-13 15:59:20 [scrapy.extensions.logstats] INFO: Crawled 376134 pages (at 605 pages/min), scraped 0 items (at 0 items/min)\n",
      "2020-09-13 16:00:18 [scrapy.extensions.logstats] INFO: Crawled 376521 pages (at 387 pages/min), scraped 0 items (at 0 items/min)\n",
      "2020-09-13 16:01:18 [scrapy.extensions.logstats] INFO: Crawled 377268 pages (at 747 pages/min), scraped 0 items (at 0 items/min)\n",
      "2020-09-13 16:02:18 [scrapy.extensions.logstats] INFO: Crawled 377768 pages (at 500 pages/min), scraped 0 items (at 0 items/min)\n",
      "2020-09-13 16:03:18 [scrapy.extensions.logstats] INFO: Crawled 378295 pages (at 527 pages/min), scraped 0 items (at 0 items/min)\n",
      "2020-09-13 16:04:18 [scrapy.extensions.logstats] INFO: Crawled 378678 pages (at 383 pages/min), scraped 0 items (at 0 items/min)\n",
      "2020-09-13 16:05:18 [scrapy.extensions.logstats] INFO: Crawled 379172 pages (at 494 pages/min), scraped 0 items (at 0 items/min)\n",
      "2020-09-13 16:06:18 [scrapy.extensions.logstats] INFO: Crawled 379817 pages (at 645 pages/min), scraped 0 items (at 0 items/min)\n",
      "2020-09-13 16:07:18 [scrapy.extensions.logstats] INFO: Crawled 380267 pages (at 450 pages/min), scraped 0 items (at 0 items/min)\n",
      "2020-09-13 16:08:18 [scrapy.extensions.logstats] INFO: Crawled 380686 pages (at 419 pages/min), scraped 0 items (at 0 items/min)\n",
      "2020-09-13 16:09:18 [scrapy.extensions.logstats] INFO: Crawled 381209 pages (at 523 pages/min), scraped 0 items (at 0 items/min)\n",
      "2020-09-13 16:10:18 [scrapy.extensions.logstats] INFO: Crawled 381940 pages (at 731 pages/min), scraped 0 items (at 0 items/min)\n",
      "2020-09-13 16:11:18 [scrapy.extensions.logstats] INFO: Crawled 382609 pages (at 669 pages/min), scraped 0 items (at 0 items/min)\n"
     ]
    },
    {
     "name": "stdout",
     "output_type": "stream",
     "text": [
      "Saving as : /home/alex/chat_bot_wrike/wrike-bot/help_good_for_wrike/360014443913-Logging-in-as-other-users.csv {'https://help.wrike.com/hc/en-us/articles/115004551205-Log-In-as-Another-User'}\n",
      "/home/alex/chat_bot_wrike/wrike-bot/help_good_for_wrike/360014443913-Logging-in-as-other-users.csv\n"
     ]
    },
    {
     "name": "stderr",
     "output_type": "stream",
     "text": [
      "2020-09-13 16:12:18 [scrapy.extensions.logstats] INFO: Crawled 383231 pages (at 622 pages/min), scraped 0 items (at 0 items/min)\n",
      "2020-09-13 16:13:18 [scrapy.extensions.logstats] INFO: Crawled 383708 pages (at 477 pages/min), scraped 0 items (at 0 items/min)\n",
      "2020-09-13 16:14:18 [scrapy.extensions.logstats] INFO: Crawled 384254 pages (at 546 pages/min), scraped 0 items (at 0 items/min)\n",
      "2020-09-13 16:15:18 [scrapy.extensions.logstats] INFO: Crawled 384565 pages (at 311 pages/min), scraped 0 items (at 0 items/min)\n",
      "2020-09-13 16:16:18 [scrapy.extensions.logstats] INFO: Crawled 384894 pages (at 329 pages/min), scraped 0 items (at 0 items/min)\n",
      "2020-09-13 16:17:18 [scrapy.extensions.logstats] INFO: Crawled 385463 pages (at 569 pages/min), scraped 0 items (at 0 items/min)\n",
      "2020-09-13 16:18:18 [scrapy.extensions.logstats] INFO: Crawled 385875 pages (at 412 pages/min), scraped 0 items (at 0 items/min)\n",
      "2020-09-13 16:19:18 [scrapy.extensions.logstats] INFO: Crawled 386152 pages (at 277 pages/min), scraped 0 items (at 0 items/min)\n",
      "2020-09-13 16:20:18 [scrapy.extensions.logstats] INFO: Crawled 386463 pages (at 311 pages/min), scraped 0 items (at 0 items/min)\n"
     ]
    },
    {
     "name": "stdout",
     "output_type": "stream",
     "text": [
      "Saving as : /home/alex/chat_bot_wrike/wrike-bot/help_good_for_wrike/115003428365-Release-Notes-May-24.csv {'https://help.wrike.com/hc/en-us/articles/209603789-Task-Status#change', 'https://help.wrike.com/hc/en-us/articles/115003404345-Dynamic-Request-Forms'}\n",
      "/home/alex/chat_bot_wrike/wrike-bot/help_good_for_wrike/115003428365-Release-Notes-May-24.csv\n",
      "Saving as : /home/alex/chat_bot_wrike/wrike-bot/help_good_for_wrike/115003346945-Release-Notes-May-17.csv {'https://help.wrike.com/hc/en-us/articles/210322845-Proofing', 'https://help.wrike.com/hc/en-us/articles/210323665-Report-Snapshots'}\n",
      "/home/alex/chat_bot_wrike/wrike-bot/help_good_for_wrike/115003346945-Release-Notes-May-17.csv\n",
      "Saving as : /home/alex/chat_bot_wrike/wrike-bot/help_good_for_wrike/115004091749-Release-Notes-July-5.csv {'https://help.wrike.com/hc/en-us/articles/209605389-Branded-Workspace-and-Email-Notifications', 'https://help.wrike.com/hc/en-us/articles/210323705-Inbox', 'https://help.wrike.com/hc/en-us/articles/209603309-Attachments'}\n",
      "/home/alex/chat_bot_wrike/wrike-bot/help_good_for_wrike/115004091749-Release-Notes-July-5.csv\n",
      "Saving as : /home/alex/chat_bot_wrike/wrike-bot/help_good_for_wrike/115002887125-Release-Notes-April-26.csv {'https://help.wrike.com/hc/en-us/articles/210322845-Proofing', 'https://help.wrike.com/hc/en-us/articles/209604449-Reports-Overview', 'https://help.wrike.com/hc/en-us/articles/115001825869-Microsoft-Teams', 'https://help.wrike.com/hc/en-us/articles/115000193205-Board-View'}\n",
      "/home/alex/chat_bot_wrike/wrike-bot/help_good_for_wrike/115002887125-Release-Notes-April-26.csv\n",
      "Saving as : /home/alex/chat_bot_wrike/wrike-bot/help_good_for_wrike/115002598865-Release-Notes-April-12.csv {'https://help.wrike.com/hc/en-us/articles/209603829-Importance', 'https://help.wrike.com/hc/en-us/articles/115000193205-Board-View'}\n",
      "/home/alex/chat_bot_wrike/wrike-bot/help_good_for_wrike/115002598865-Release-Notes-April-12.csv\n",
      "Saving as : /home/alex/chat_bot_wrike/wrike-bot/help_good_for_wrike/115002271529-Release-Notes-March-29.csv {'https://help.wrike.com/hc/en-us/articles/210322845-Proofing', 'https://help.wrike.com/hc/en-us/articles/115000193205-Board-View'}\n",
      "/home/alex/chat_bot_wrike/wrike-bot/help_good_for_wrike/115002271529-Release-Notes-March-29.csv\n",
      "Saving as : /home/alex/chat_bot_wrike/wrike-bot/help_good_for_wrike/115002099529-Release-Notes-March-22.csv {'https://help.wrike.com/hc/en-us/articles/210322845-Proofing#video', 'https://help.wrike.com/hc/en-us/articles/209603269--mentions', 'https://help.wrike.com/hc/en-us/articles/115000193205-Board-View'}\n",
      "/home/alex/chat_bot_wrike/wrike-bot/help_good_for_wrike/115002099529-Release-Notes-March-22.csv\n"
     ]
    },
    {
     "name": "stderr",
     "output_type": "stream",
     "text": [
      "2020-09-13 16:21:19 [scrapy.extensions.logstats] INFO: Crawled 386707 pages (at 244 pages/min), scraped 0 items (at 0 items/min)\n"
     ]
    },
    {
     "name": "stdout",
     "output_type": "stream",
     "text": [
      "Saving as : /home/alex/chat_bot_wrike/wrike-bot/help_good_for_wrike/115003083185-Release-Notes-May-3.csv {'https://help.wrike.com/hc/en-us/articles/115001825869-Microsoft-Teams', 'https://help.wrike.com/hc/en-us/articles/209603869-Duplicate-Tasks-and-Subtasks'}\n",
      "/home/alex/chat_bot_wrike/wrike-bot/help_good_for_wrike/115003083185-Release-Notes-May-3.csv\n",
      "Saving as : /home/alex/chat_bot_wrike/wrike-bot/help_good_for_wrike/115001959029-Release-Notes-March-16.csv {'https://help.wrike.com/hc/en-us/articles/115001825869-Microsoft-Teams', 'https://help.wrike.com/hc/en-us/articles/115001778165-Project-Wizard-and-Default-View-Picker'}\n",
      "/home/alex/chat_bot_wrike/wrike-bot/help_good_for_wrike/115001959029-Release-Notes-March-16.csv\n",
      "Saving as : /home/alex/chat_bot_wrike/wrike-bot/help_good_for_wrike/115001642365-Release-Notes-March-1.csv {'https://help.wrike.com/hc/en-us/articles/210322845-Proofing#video', 'https://help.wrike.com/hc/en-us/articles/209604489-Stream'}\n",
      "/home/alex/chat_bot_wrike/wrike-bot/help_good_for_wrike/115001642365-Release-Notes-March-1.csv\n",
      "Saving as : /home/alex/chat_bot_wrike/wrike-bot/help_good_for_wrike/115000972669-Release-Notes-February-1.csv {'https://help.wrike.com/hc/en-us/articles/209602989-User-Groups'}\n",
      "/home/alex/chat_bot_wrike/wrike-bot/help_good_for_wrike/115000972669-Release-Notes-February-1.csv\n",
      "Saving as : /home/alex/chat_bot_wrike/wrike-bot/help_good_for_wrike/115001468385-Release-Notes-February-22.csv {'https://help.wrike.com/hc/en-us/articles/210324405-Email-Notifications', 'https://help.wrike.com/hc/en-us/articles/210412605-Wrike-for-Marketers', 'https://help.wrike.com/hc/en-us/articles/210322845-Proofing#video', 'https://help.wrike.com/hc/en-us/articles/115000193205-Board-View'}\n",
      "/home/alex/chat_bot_wrike/wrike-bot/help_good_for_wrike/115001468385-Release-Notes-February-22.csv\n",
      "Saving as : /home/alex/chat_bot_wrike/wrike-bot/help_good_for_wrike/115001831805-Release-Notes-March-8.csv {'https://help.wrike.com/hc/en-us/articles/210412605-Wrike-for-Marketers'}\n",
      "/home/alex/chat_bot_wrike/wrike-bot/help_good_for_wrike/115001831805-Release-Notes-March-8.csv\n"
     ]
    },
    {
     "name": "stderr",
     "output_type": "stream",
     "text": [
      "2020-09-13 16:22:19 [scrapy.extensions.logstats] INFO: Crawled 387030 pages (at 323 pages/min), scraped 0 items (at 0 items/min)\n"
     ]
    },
    {
     "name": "stdout",
     "output_type": "stream",
     "text": [
      "Saving as : /home/alex/chat_bot_wrike/wrike-bot/help_good_for_wrike/115005814269-Sort-and-Reorder-Items-on-the-Timeline-View.csv {'https://help.wrike.com/hc/en-us/articles/115005814269-Sort-and-Reorder-Items-on-the-Gantt-Chart#cascade'}\n",
      "/home/alex/chat_bot_wrike/wrike-bot/help_good_for_wrike/115005814269-Sort-and-Reorder-Items-on-the-Timeline-View.csv\n"
     ]
    },
    {
     "name": "stderr",
     "output_type": "stream",
     "text": [
      "2020-09-13 16:23:18 [scrapy.extensions.logstats] INFO: Crawled 387485 pages (at 455 pages/min), scraped 0 items (at 0 items/min)\n",
      "2020-09-13 16:24:18 [scrapy.extensions.logstats] INFO: Crawled 387992 pages (at 507 pages/min), scraped 0 items (at 0 items/min)\n",
      "2020-09-13 16:25:18 [scrapy.extensions.logstats] INFO: Crawled 388381 pages (at 389 pages/min), scraped 0 items (at 0 items/min)\n",
      "2020-09-13 16:26:19 [scrapy.extensions.logstats] INFO: Crawled 388841 pages (at 460 pages/min), scraped 0 items (at 0 items/min)\n",
      "2020-09-13 16:27:18 [scrapy.extensions.logstats] INFO: Crawled 389376 pages (at 535 pages/min), scraped 0 items (at 0 items/min)\n",
      "2020-09-13 16:28:18 [scrapy.extensions.logstats] INFO: Crawled 389760 pages (at 384 pages/min), scraped 0 items (at 0 items/min)\n",
      "2020-09-13 16:29:18 [scrapy.extensions.logstats] INFO: Crawled 390453 pages (at 693 pages/min), scraped 0 items (at 0 items/min)\n",
      "2020-09-13 16:30:18 [scrapy.extensions.logstats] INFO: Crawled 391118 pages (at 665 pages/min), scraped 0 items (at 0 items/min)\n",
      "2020-09-13 16:31:18 [scrapy.extensions.logstats] INFO: Crawled 391829 pages (at 711 pages/min), scraped 0 items (at 0 items/min)\n",
      "2020-09-13 16:32:18 [scrapy.extensions.logstats] INFO: Crawled 392492 pages (at 663 pages/min), scraped 0 items (at 0 items/min)\n",
      "2020-09-13 16:33:19 [scrapy.extensions.logstats] INFO: Crawled 393069 pages (at 577 pages/min), scraped 0 items (at 0 items/min)\n",
      "2020-09-13 16:34:18 [scrapy.extensions.logstats] INFO: Crawled 393499 pages (at 430 pages/min), scraped 0 items (at 0 items/min)\n",
      "2020-09-13 16:35:18 [scrapy.extensions.logstats] INFO: Crawled 394194 pages (at 695 pages/min), scraped 0 items (at 0 items/min)\n",
      "2020-09-13 16:36:18 [scrapy.extensions.logstats] INFO: Crawled 394949 pages (at 755 pages/min), scraped 0 items (at 0 items/min)\n",
      "2020-09-13 16:37:18 [scrapy.extensions.logstats] INFO: Crawled 395409 pages (at 460 pages/min), scraped 0 items (at 0 items/min)\n"
     ]
    },
    {
     "name": "stdout",
     "output_type": "stream",
     "text": [
      "Saving as : /home/alex/chat_bot_wrike/wrike-bot/help_good_for_wrike/360012261513-Changing-destination-folder-in-request-forms?page=1.csv {'https://help.wrike.com/hc/en-us/articles/115004740045-Create-a-Request-Form-for-Admins-'}\n",
      "/home/alex/chat_bot_wrike/wrike-bot/help_good_for_wrike/360012261513-Changing-destination-folder-in-request-forms?page=1.csv\n"
     ]
    },
    {
     "name": "stderr",
     "output_type": "stream",
     "text": [
      "2020-09-13 16:38:18 [scrapy.extensions.logstats] INFO: Crawled 395720 pages (at 311 pages/min), scraped 0 items (at 0 items/min)\n",
      "2020-09-13 16:39:18 [scrapy.extensions.logstats] INFO: Crawled 396226 pages (at 506 pages/min), scraped 0 items (at 0 items/min)\n",
      "2020-09-13 16:40:19 [scrapy.extensions.logstats] INFO: Crawled 396709 pages (at 483 pages/min), scraped 0 items (at 0 items/min)\n",
      "2020-09-13 16:41:18 [scrapy.extensions.logstats] INFO: Crawled 397187 pages (at 478 pages/min), scraped 0 items (at 0 items/min)\n"
     ]
    },
    {
     "name": "stdout",
     "output_type": "stream",
     "text": [
      "Saving as : /home/alex/chat_bot_wrike/wrike-bot/help_good_for_wrike/360010778873-Keyboard-shortcuts-no-longer-work-with-new-list-view.csv {'https://help.wrike.com/hc/en-us/articles/210322725-Keyboard-Shortcuts'}\n",
      "/home/alex/chat_bot_wrike/wrike-bot/help_good_for_wrike/360010778873-Keyboard-shortcuts-no-longer-work-with-new-list-view.csv\n"
     ]
    },
    {
     "name": "stderr",
     "output_type": "stream",
     "text": [
      "2020-09-13 16:42:18 [scrapy.extensions.logstats] INFO: Crawled 397707 pages (at 520 pages/min), scraped 0 items (at 0 items/min)\n",
      "2020-09-13 16:43:18 [scrapy.extensions.logstats] INFO: Crawled 398287 pages (at 580 pages/min), scraped 0 items (at 0 items/min)\n",
      "2020-09-13 16:44:18 [scrapy.extensions.logstats] INFO: Crawled 398633 pages (at 346 pages/min), scraped 0 items (at 0 items/min)\n",
      "2020-09-13 16:45:19 [scrapy.extensions.logstats] INFO: Crawled 399209 pages (at 576 pages/min), scraped 0 items (at 0 items/min)\n",
      "2020-09-13 16:46:18 [scrapy.extensions.logstats] INFO: Crawled 399666 pages (at 457 pages/min), scraped 0 items (at 0 items/min)\n"
     ]
    },
    {
     "name": "stdout",
     "output_type": "stream",
     "text": [
      "Saving as : /home/alex/chat_bot_wrike/wrike-bot/help_good_for_wrike/360001308394-Deferred-Tasks-Set-to-Become-Active-At-a-Specified-Date.csv {'https://help.wrike.com/hc/en-us/articles/210322785-Custom-Statuses-and-Workflows'}\n",
      "/home/alex/chat_bot_wrike/wrike-bot/help_good_for_wrike/360001308394-Deferred-Tasks-Set-to-Become-Active-At-a-Specified-Date.csv\n",
      "Saving as : /home/alex/chat_bot_wrike/wrike-bot/help_good_for_wrike/360001308394-Deferred-Tasks-Set-to-Become-Active-At-a-Specified-Date?page=1.csv {'https://help.wrike.com/hc/en-us/articles/210322785-Custom-Statuses-and-Workflows'}\n",
      "/home/alex/chat_bot_wrike/wrike-bot/help_good_for_wrike/360001308394-Deferred-Tasks-Set-to-Become-Active-At-a-Specified-Date?page=1.csv\n"
     ]
    },
    {
     "name": "stderr",
     "output_type": "stream",
     "text": [
      "2020-09-13 16:47:18 [scrapy.extensions.logstats] INFO: Crawled 400168 pages (at 502 pages/min), scraped 0 items (at 0 items/min)\n",
      "2020-09-13 16:48:18 [scrapy.extensions.logstats] INFO: Crawled 400762 pages (at 594 pages/min), scraped 0 items (at 0 items/min)\n",
      "2020-09-13 16:49:18 [scrapy.extensions.logstats] INFO: Crawled 401325 pages (at 563 pages/min), scraped 0 items (at 0 items/min)\n",
      "2020-09-13 16:50:18 [scrapy.extensions.logstats] INFO: Crawled 401952 pages (at 627 pages/min), scraped 0 items (at 0 items/min)\n",
      "2020-09-13 16:51:18 [scrapy.extensions.logstats] INFO: Crawled 402302 pages (at 350 pages/min), scraped 0 items (at 0 items/min)\n",
      "2020-09-13 16:52:18 [scrapy.extensions.logstats] INFO: Crawled 402731 pages (at 429 pages/min), scraped 0 items (at 0 items/min)\n",
      "2020-09-13 16:53:18 [scrapy.extensions.logstats] INFO: Crawled 403240 pages (at 509 pages/min), scraped 0 items (at 0 items/min)\n",
      "2020-09-13 16:54:18 [scrapy.extensions.logstats] INFO: Crawled 403783 pages (at 543 pages/min), scraped 0 items (at 0 items/min)\n",
      "2020-09-13 16:55:18 [scrapy.extensions.logstats] INFO: Crawled 404217 pages (at 434 pages/min), scraped 0 items (at 0 items/min)\n",
      "2020-09-13 16:56:18 [scrapy.extensions.logstats] INFO: Crawled 404790 pages (at 573 pages/min), scraped 0 items (at 0 items/min)\n",
      "2020-09-13 16:57:18 [scrapy.extensions.logstats] INFO: Crawled 405134 pages (at 344 pages/min), scraped 0 items (at 0 items/min)\n",
      "2020-09-13 16:58:18 [scrapy.extensions.logstats] INFO: Crawled 405719 pages (at 585 pages/min), scraped 0 items (at 0 items/min)\n",
      "2020-09-13 16:59:19 [scrapy.extensions.logstats] INFO: Crawled 406262 pages (at 543 pages/min), scraped 0 items (at 0 items/min)\n",
      "2020-09-13 17:00:18 [scrapy.extensions.logstats] INFO: Crawled 406799 pages (at 537 pages/min), scraped 0 items (at 0 items/min)\n",
      "2020-09-13 17:01:18 [scrapy.extensions.logstats] INFO: Crawled 407302 pages (at 503 pages/min), scraped 0 items (at 0 items/min)\n",
      "2020-09-13 17:02:18 [scrapy.extensions.logstats] INFO: Crawled 407792 pages (at 490 pages/min), scraped 0 items (at 0 items/min)\n",
      "2020-09-13 17:03:18 [scrapy.extensions.logstats] INFO: Crawled 408291 pages (at 499 pages/min), scraped 0 items (at 0 items/min)\n",
      "2020-09-13 17:04:18 [scrapy.extensions.logstats] INFO: Crawled 408787 pages (at 496 pages/min), scraped 0 items (at 0 items/min)\n",
      "2020-09-13 17:05:18 [scrapy.extensions.logstats] INFO: Crawled 409233 pages (at 446 pages/min), scraped 0 items (at 0 items/min)\n",
      "2020-09-13 17:06:18 [scrapy.extensions.logstats] INFO: Crawled 409582 pages (at 349 pages/min), scraped 0 items (at 0 items/min)\n",
      "2020-09-13 17:07:18 [scrapy.extensions.logstats] INFO: Crawled 409928 pages (at 346 pages/min), scraped 0 items (at 0 items/min)\n",
      "2020-09-13 17:08:18 [scrapy.extensions.logstats] INFO: Crawled 410370 pages (at 442 pages/min), scraped 0 items (at 0 items/min)\n",
      "2020-09-13 17:09:18 [scrapy.extensions.logstats] INFO: Crawled 410788 pages (at 418 pages/min), scraped 0 items (at 0 items/min)\n",
      "2020-09-13 17:10:18 [scrapy.extensions.logstats] INFO: Crawled 411110 pages (at 322 pages/min), scraped 0 items (at 0 items/min)\n",
      "2020-09-13 17:11:18 [scrapy.extensions.logstats] INFO: Crawled 411472 pages (at 362 pages/min), scraped 0 items (at 0 items/min)\n",
      "2020-09-13 17:12:18 [scrapy.extensions.logstats] INFO: Crawled 411986 pages (at 514 pages/min), scraped 0 items (at 0 items/min)\n",
      "2020-09-13 17:13:19 [scrapy.extensions.logstats] INFO: Crawled 412506 pages (at 520 pages/min), scraped 0 items (at 0 items/min)\n",
      "2020-09-13 17:14:19 [scrapy.extensions.logstats] INFO: Crawled 412762 pages (at 256 pages/min), scraped 0 items (at 0 items/min)\n",
      "2020-09-13 17:15:18 [scrapy.extensions.logstats] INFO: Crawled 413362 pages (at 600 pages/min), scraped 0 items (at 0 items/min)\n",
      "2020-09-13 17:16:18 [scrapy.extensions.logstats] INFO: Crawled 414002 pages (at 640 pages/min), scraped 0 items (at 0 items/min)\n",
      "2020-09-13 17:17:18 [scrapy.extensions.logstats] INFO: Crawled 414495 pages (at 493 pages/min), scraped 0 items (at 0 items/min)\n",
      "2020-09-13 17:18:18 [scrapy.extensions.logstats] INFO: Crawled 414951 pages (at 456 pages/min), scraped 0 items (at 0 items/min)\n",
      "2020-09-13 17:19:18 [scrapy.extensions.logstats] INFO: Crawled 415690 pages (at 739 pages/min), scraped 0 items (at 0 items/min)\n",
      "2020-09-13 17:20:19 [scrapy.extensions.logstats] INFO: Crawled 416386 pages (at 696 pages/min), scraped 0 items (at 0 items/min)\n",
      "2020-09-13 17:21:18 [scrapy.extensions.logstats] INFO: Crawled 416909 pages (at 523 pages/min), scraped 0 items (at 0 items/min)\n",
      "2020-09-13 17:22:18 [scrapy.extensions.logstats] INFO: Crawled 417587 pages (at 678 pages/min), scraped 0 items (at 0 items/min)\n",
      "2020-09-13 17:23:18 [scrapy.extensions.logstats] INFO: Crawled 418350 pages (at 763 pages/min), scraped 0 items (at 0 items/min)\n",
      "2020-09-13 17:24:18 [scrapy.extensions.logstats] INFO: Crawled 418811 pages (at 461 pages/min), scraped 0 items (at 0 items/min)\n",
      "2020-09-13 17:25:19 [scrapy.extensions.logstats] INFO: Crawled 419165 pages (at 354 pages/min), scraped 0 items (at 0 items/min)\n",
      "2020-09-13 17:26:18 [scrapy.extensions.logstats] INFO: Crawled 419558 pages (at 393 pages/min), scraped 0 items (at 0 items/min)\n",
      "2020-09-13 17:27:18 [scrapy.extensions.logstats] INFO: Crawled 420113 pages (at 555 pages/min), scraped 0 items (at 0 items/min)\n",
      "2020-09-13 17:28:18 [scrapy.extensions.logstats] INFO: Crawled 420410 pages (at 297 pages/min), scraped 0 items (at 0 items/min)\n",
      "2020-09-13 17:29:18 [scrapy.extensions.logstats] INFO: Crawled 420990 pages (at 580 pages/min), scraped 0 items (at 0 items/min)\n",
      "2020-09-13 17:30:18 [scrapy.extensions.logstats] INFO: Crawled 421509 pages (at 519 pages/min), scraped 0 items (at 0 items/min)\n",
      "2020-09-13 17:31:18 [scrapy.extensions.logstats] INFO: Crawled 421911 pages (at 402 pages/min), scraped 0 items (at 0 items/min)\n",
      "2020-09-13 17:32:18 [scrapy.extensions.logstats] INFO: Crawled 422503 pages (at 592 pages/min), scraped 0 items (at 0 items/min)\n",
      "2020-09-13 17:33:18 [scrapy.extensions.logstats] INFO: Crawled 423303 pages (at 800 pages/min), scraped 0 items (at 0 items/min)\n",
      "2020-09-13 17:34:18 [scrapy.extensions.logstats] INFO: Crawled 423859 pages (at 556 pages/min), scraped 0 items (at 0 items/min)\n",
      "2020-09-13 17:35:18 [scrapy.extensions.logstats] INFO: Crawled 424585 pages (at 726 pages/min), scraped 0 items (at 0 items/min)\n",
      "2020-09-13 17:36:18 [scrapy.extensions.logstats] INFO: Crawled 425286 pages (at 701 pages/min), scraped 0 items (at 0 items/min)\n",
      "2020-09-13 17:37:28 [scrapy.extensions.logstats] INFO: Crawled 425762 pages (at 476 pages/min), scraped 0 items (at 0 items/min)\n",
      "2020-09-13 17:38:18 [scrapy.extensions.logstats] INFO: Crawled 426041 pages (at 279 pages/min), scraped 0 items (at 0 items/min)\n",
      "2020-09-13 17:39:18 [scrapy.extensions.logstats] INFO: Crawled 426455 pages (at 414 pages/min), scraped 0 items (at 0 items/min)\n",
      "2020-09-13 17:40:18 [scrapy.extensions.logstats] INFO: Crawled 426926 pages (at 471 pages/min), scraped 0 items (at 0 items/min)\n",
      "2020-09-13 17:41:18 [scrapy.extensions.logstats] INFO: Crawled 427446 pages (at 520 pages/min), scraped 0 items (at 0 items/min)\n",
      "2020-09-13 17:42:18 [scrapy.extensions.logstats] INFO: Crawled 427952 pages (at 506 pages/min), scraped 0 items (at 0 items/min)\n",
      "2020-09-13 17:43:21 [scrapy.extensions.logstats] INFO: Crawled 428327 pages (at 375 pages/min), scraped 0 items (at 0 items/min)\n"
     ]
    },
    {
     "name": "stdout",
     "output_type": "stream",
     "text": [
      "Saving as : /home/alex/chat_bot_wrike/wrike-bot/help_good_for_wrike/209603149-Templates?flash_digest=e83956da4534103e47a4d6a1228964c5fe7844da.csv {'https://help.wrike.com/hc/en-us/articles/209605149-Import-MS-Project-Files', 'https://help.wrike.com/hc/en-us/articles/210323005-Duplicate-a-Folder-or-Project', 'https://help.wrike.com/hc/en-us/articles/209603609-Create-Color-Code-and-Edit-Folders-and-Projects', 'https://help.wrike.com/hc/en-us/articles/210322925-Move-Tasks-Folders-and-Projects', 'https://help.wrike.com/hc/en-us/articles/209603889-Mass-Editing'}\n"
     ]
    },
    {
     "name": "stderr",
     "output_type": "stream",
     "text": [
      "2020-09-13 17:44:19 [scrapy.extensions.logstats] INFO: Crawled 428738 pages (at 411 pages/min), scraped 0 items (at 0 items/min)\n"
     ]
    },
    {
     "name": "stdout",
     "output_type": "stream",
     "text": [
      "/home/alex/chat_bot_wrike/wrike-bot/help_good_for_wrike/209603149-Templates?flash_digest=e83956da4534103e47a4d6a1228964c5fe7844da.csv\n"
     ]
    },
    {
     "name": "stderr",
     "output_type": "stream",
     "text": [
      "2020-09-13 17:45:18 [scrapy.extensions.logstats] INFO: Crawled 429413 pages (at 675 pages/min), scraped 0 items (at 0 items/min)\n"
     ]
    },
    {
     "name": "stdout",
     "output_type": "stream",
     "text": [
      "Saving as : /home/alex/chat_bot_wrike/wrike-bot/help_good_for_wrike/360014514114-Can-we-change-the-From-field-on-form-submissions-.csv {'https://help.wrike.com/hc/en-us/articles/115004562709-Wrike-Bot'}\n",
      "/home/alex/chat_bot_wrike/wrike-bot/help_good_for_wrike/360014514114-Can-we-change-the-From-field-on-form-submissions-.csv\n",
      "Saving as : /home/alex/chat_bot_wrike/wrike-bot/help_good_for_wrike/360014514114-Can-we-change-the-From-field-on-form-submissions-?page=1.csv {'https://help.wrike.com/hc/en-us/articles/115004562709-Wrike-Bot'}\n",
      "/home/alex/chat_bot_wrike/wrike-bot/help_good_for_wrike/360014514114-Can-we-change-the-From-field-on-form-submissions-?page=1.csv\n"
     ]
    },
    {
     "name": "stderr",
     "output_type": "stream",
     "text": [
      "2020-09-13 17:46:18 [scrapy.extensions.logstats] INFO: Crawled 430043 pages (at 630 pages/min), scraped 0 items (at 0 items/min)\n",
      "2020-09-13 17:47:19 [scrapy.extensions.logstats] INFO: Crawled 430560 pages (at 517 pages/min), scraped 0 items (at 0 items/min)\n",
      "2020-09-13 17:48:18 [scrapy.extensions.logstats] INFO: Crawled 431168 pages (at 608 pages/min), scraped 0 items (at 0 items/min)\n",
      "2020-09-13 17:49:18 [scrapy.extensions.logstats] INFO: Crawled 431684 pages (at 516 pages/min), scraped 0 items (at 0 items/min)\n",
      "2020-09-13 17:50:18 [scrapy.extensions.logstats] INFO: Crawled 432149 pages (at 465 pages/min), scraped 0 items (at 0 items/min)\n",
      "2020-09-13 17:51:18 [scrapy.extensions.logstats] INFO: Crawled 432613 pages (at 464 pages/min), scraped 0 items (at 0 items/min)\n",
      "2020-09-13 17:52:18 [scrapy.extensions.logstats] INFO: Crawled 433222 pages (at 609 pages/min), scraped 0 items (at 0 items/min)\n",
      "2020-09-13 17:53:18 [scrapy.extensions.logstats] INFO: Crawled 433819 pages (at 597 pages/min), scraped 0 items (at 0 items/min)\n"
     ]
    },
    {
     "name": "stdout",
     "output_type": "stream",
     "text": [
      "Saving as : /home/alex/chat_bot_wrike/wrike-bot/help_good_for_wrike/search?category=200942165&filter_by=knowledge_base&query=time+report&utf8=%E2%9C%93.csv {'https://help.wrike.com/hc/en-us/sections/201893115-Mobile', 'https://help.wrike.com/hc/en-us/categories/200942165-Apps', 'https://help.wrike.com/hc/en-us/sections/115001589365-Desktop'}\n",
      "/home/alex/chat_bot_wrike/wrike-bot/help_good_for_wrike/search?category=200942165&filter_by=knowledge_base&query=time+report&utf8=%E2%9C%93.csv\n",
      "Saving as : /home/alex/chat_bot_wrike/wrike-bot/help_good_for_wrike/search?category=200939185&filter_by=knowledge_base&query=time+report&utf8=%E2%9C%93.csv {'https://help.wrike.com/hc/en-us/sections/202423365-Everything-Else', 'https://help.wrike.com/hc/en-us/categories/200939185-Integrations', 'https://help.wrike.com/hc/en-us/sections/360001968634-Import-and-Export', 'https://help.wrike.com/hc/en-us/sections/202365769-Add-ins-and-Extensions', 'https://help.wrike.com/hc/en-us/sections/202365749-Wrike-GitHub-and-JIRA-Syncs'}\n",
      "/home/alex/chat_bot_wrike/wrike-bot/help_good_for_wrike/search?category=200939185&filter_by=knowledge_base&query=time+report&utf8=%E2%9C%93.csv\n",
      "Saving as : /home/alex/chat_bot_wrike/wrike-bot/help_good_for_wrike/search?category=200913179&filter_by=knowledge_base&query=time+report&utf8=%E2%9C%93.csv {'https://help.wrike.com/hc/en-us/sections/201828169-Personal-User-License', 'https://help.wrike.com/hc/en-us/sections/201825379-General-Account-Management', 'https://help.wrike.com/hc/en-us/sections/360000935413-Troubleshooting', 'https://help.wrike.com/hc/en-us/sections/201887445-Billing', 'https://help.wrike.com/hc/en-us/categories/200913179-Account-Management'}\n",
      "/home/alex/chat_bot_wrike/wrike-bot/help_good_for_wrike/search?category=200913179&filter_by=knowledge_base&query=time+report&utf8=%E2%9C%93.csv\n",
      "Saving as : /home/alex/chat_bot_wrike/wrike-bot/help_good_for_wrike/search?category=200942125&filter_by=knowledge_base&query=time+report&utf8=%E2%9C%93.csv {'https://help.wrike.com/hc/en-us/sections/201834319-All-the-Other-Views', 'https://help.wrike.com/hc/en-us/sections/201834309-Table-View', 'https://help.wrike.com/hc/en-us/categories/200942125-Work-Views', 'https://help.wrike.com/hc/en-us/sections/201834289-Timelog-View', 'https://help.wrike.com/hc/en-us/sections/201893075-Gantt-Chart'}\n",
      "/home/alex/chat_bot_wrike/wrike-bot/help_good_for_wrike/search?category=200942125&filter_by=knowledge_base&query=time+report&utf8=%E2%9C%93.csv\n",
      "Saving as : /home/alex/chat_bot_wrike/wrike-bot/help_good_for_wrike/search?category=200942155&filter_by=knowledge_base&query=time+report&utf8=%E2%9C%93.csv {'https://help.wrike.com/hc/en-us/sections/201834339-Licenses', 'https://help.wrike.com/hc/en-us/categories/200942155-Types-of-Accounts-and-Licenses', 'https://help.wrike.com/hc/en-us/sections/201893095-Accounts'}\n",
      "/home/alex/chat_bot_wrike/wrike-bot/help_good_for_wrike/search?category=200942155&filter_by=knowledge_base&query=time+report&utf8=%E2%9C%93.csv\n",
      "Saving as : /home/alex/chat_bot_wrike/wrike-bot/help_good_for_wrike/search?category=200942175&filter_by=knowledge_base&query=time+report&utf8=%E2%9C%93.csv {'https://help.wrike.com/hc/en-us/categories/200942175-Security', 'https://help.wrike.com/hc/en-us/sections/201893105-Single-Sign-On', 'https://help.wrike.com/hc/en-us/sections/201834349-More-Security-Features'}\n",
      "/home/alex/chat_bot_wrike/wrike-bot/help_good_for_wrike/search?category=200942175&filter_by=knowledge_base&query=time+report&utf8=%E2%9C%93.csv\n",
      "Saving as : /home/alex/chat_bot_wrike/wrike-bot/help_good_for_wrike/search?category=201188645&filter_by=knowledge_base&query=time+report&utf8=%E2%9C%93.csv {'https://help.wrike.com/hc/en-us/categories/201188645-Getting-Started'}\n"
     ]
    },
    {
     "name": "stderr",
     "output_type": "stream",
     "text": [
      "2020-09-13 17:54:37 [scrapy.extensions.logstats] INFO: Crawled 434150 pages (at 331 pages/min), scraped 0 items (at 0 items/min)\n"
     ]
    },
    {
     "name": "stdout",
     "output_type": "stream",
     "text": [
      "/home/alex/chat_bot_wrike/wrike-bot/help_good_for_wrike/search?category=201188645&filter_by=knowledge_base&query=time+report&utf8=%E2%9C%93.csv\n",
      "Saving as : /home/alex/chat_bot_wrike/wrike-bot/help_good_for_wrike/search?filter_by=knowledge_base&page=2&query=time+report&utf8=%E2%9C%93.csv {'https://help.wrike.com/hc/en-us/categories/200942135-Monitoring-Panel', 'https://help.wrike.com/hc/en-us/sections/201834259-Advanced', 'https://help.wrike.com/hc/en-us/sections/201893085-Reporting', 'https://help.wrike.com/hc/en-us/sections/201825379-General-Account-Management', 'https://help.wrike.com/hc/en-us/sections/360008733453-Automated-Monitoring', 'https://help.wrike.com/hc/en-us/sections/360004618833-Wrike-Resource', 'https://help.wrike.com/hc/en-us/sections/201887445-Billing', 'https://help.wrike.com/hc/en-us/categories/200942155-Types-of-Accounts-and-Licenses', 'https://help.wrike.com/hc/en-us/sections/201893095-Accounts', 'https://help.wrike.com/hc/en-us/categories/200942115-Tasks-Folders-Projects-and-Spaces', 'https://help.wrike.com/hc/en-us/sections/360005750733-Wrike-Analyze', 'https://help.wrike.com/hc/en-us/categories/200913179-Account-Management'}\n",
      "/home/alex/chat_bot_wrike/wrike-bot/help_good_for_wrike/search?filter_by=knowledge_base&page=2&query=time+report&utf8=%E2%9C%93.csv\n",
      "Saving as : /home/alex/chat_bot_wrike/wrike-bot/help_good_for_wrike/search?filter_by=knowledge_base&page=3&query=time+report&utf8=%E2%9C%93.csv {'https://help.wrike.com/hc/en-us/categories/200942135-Monitoring-Panel', 'https://help.wrike.com/hc/en-us/sections/201893085-Reporting', 'https://help.wrike.com/hc/en-us/sections/201828169-Personal-User-License', 'https://help.wrike.com/hc/en-us/categories/200942175-Security', 'https://help.wrike.com/hc/en-us/sections/360004618833-Wrike-Resource', 'https://help.wrike.com/hc/en-us/sections/360000935413-Troubleshooting', 'https://help.wrike.com/hc/en-us/sections/201834349-More-Security-Features', 'https://help.wrike.com/hc/en-us/categories/200942125-Work-Views', 'https://help.wrike.com/hc/en-us/categories/200942155-Types-of-Accounts-and-Licenses', 'https://help.wrike.com/hc/en-us/sections/201893095-Accounts', 'https://help.wrike.com/hc/en-us/sections/201834289-Timelog-View', 'https://help.wrike.com/hc/en-us/categories/200913179-Account-Management'}\n",
      "/home/alex/chat_bot_wrike/wrike-bot/help_good_for_wrike/search?filter_by=knowledge_base&page=3&query=time+report&utf8=%E2%9C%93.csv\n",
      "Saving as : /home/alex/chat_bot_wrike/wrike-bot/help_good_for_wrike/search?filter_by=knowledge_base&page=4&query=time+report&utf8=%E2%9C%93.csv {'https://help.wrike.com/hc/en-us/sections/201893115-Mobile', 'https://help.wrike.com/hc/en-us/categories/200942125-Work-Views', 'https://help.wrike.com/hc/en-us/sections/201893075-Gantt-Chart', 'https://help.wrike.com/hc/en-us/categories/200942165-Apps'}\n",
      "/home/alex/chat_bot_wrike/wrike-bot/help_good_for_wrike/search?filter_by=knowledge_base&page=4&query=time+report&utf8=%E2%9C%93.csv\n",
      "Saving as : /home/alex/chat_bot_wrike/wrike-bot/help_good_for_wrike/search?filter_by=knowledge_base&page=5&query=time+report&utf8=%E2%9C%93.csv {'https://help.wrike.com/hc/en-us/sections/201893115-Mobile', 'https://help.wrike.com/hc/en-us/categories/200942155-Types-of-Accounts-and-Licenses', 'https://help.wrike.com/hc/en-us/sections/201893095-Accounts', 'https://help.wrike.com/hc/en-us/categories/200942165-Apps', 'https://help.wrike.com/hc/en-us/categories/200939185-Integrations', 'https://help.wrike.com/hc/en-us/sections/202365749-Wrike-GitHub-and-JIRA-Syncs'}\n",
      "/home/alex/chat_bot_wrike/wrike-bot/help_good_for_wrike/search?filter_by=knowledge_base&page=5&query=time+report&utf8=%E2%9C%93.csv\n",
      "Saving as : /home/alex/chat_bot_wrike/wrike-bot/help_good_for_wrike/search?filter_by=knowledge_base&page=6&query=time+report&utf8=%E2%9C%93.csv {'https://help.wrike.com/hc/en-us/sections/201834259-Advanced', 'https://help.wrike.com/hc/en-us/sections/201834339-Licenses', 'https://help.wrike.com/hc/en-us/sections/360001968634-Import-and-Export', 'https://help.wrike.com/hc/en-us/categories/200942155-Types-of-Accounts-and-Licenses', 'https://help.wrike.com/hc/en-us/categories/201188645-Getting-Started', 'https://help.wrike.com/hc/en-us/categories/200942115-Tasks-Folders-Projects-and-Spaces', 'https://help.wrike.com/hc/en-us/categories/200939185-Integrations'}\n",
      "/home/alex/chat_bot_wrike/wrike-bot/help_good_for_wrike/search?filter_by=knowledge_base&page=6&query=time+report&utf8=%E2%9C%93.csv\n",
      "Saving as : /home/alex/chat_bot_wrike/wrike-bot/help_good_for_wrike/search?filter_by=knowledge_base&page=19&query=time+report&utf8=%E2%9C%93.csv {'https://help.wrike.com/hc/en-us/sections/201825379-General-Account-Management', 'https://help.wrike.com/hc/en-us/sections/201834259-Advanced', 'https://help.wrike.com/hc/en-us/categories/200913179-Account-Management', 'https://help.wrike.com/hc/en-us/categories/200942115-Tasks-Folders-Projects-and-Spaces'}\n",
      "/home/alex/chat_bot_wrike/wrike-bot/help_good_for_wrike/search?filter_by=knowledge_base&page=19&query=time+report&utf8=%E2%9C%93.csv\n",
      "Saving as : /home/alex/chat_bot_wrike/wrike-bot/help_good_for_wrike/search?page=8&query=time+report&utf8=%E2%9C%93.csv {'https://help.wrike.com/hc/en-us/categories/200942135-Monitoring-Panel', 'https://help.wrike.com/hc/en-us/sections/201893085-Reporting'}\n",
      "/home/alex/chat_bot_wrike/wrike-bot/help_good_for_wrike/search?page=8&query=time+report&utf8=%E2%9C%93.csv\n",
      "Saving as : /home/alex/chat_bot_wrike/wrike-bot/help_good_for_wrike/search?page=9&query=time+report&utf8=%E2%9C%93.csv {'https://help.wrike.com/hc/en-us/categories/200942125-Work-Views', 'https://help.wrike.com/hc/en-us/categories/200942135-Monitoring-Panel', 'https://help.wrike.com/hc/en-us/sections/360004618833-Wrike-Resource', 'https://help.wrike.com/hc/en-us/sections/201834289-Timelog-View'}\n",
      "/home/alex/chat_bot_wrike/wrike-bot/help_good_for_wrike/search?page=9&query=time+report&utf8=%E2%9C%93.csv\n",
      "Saving as : /home/alex/chat_bot_wrike/wrike-bot/help_good_for_wrike/search?page=11&query=time+report&utf8=%E2%9C%93.csv {'https://help.wrike.com/hc/en-us/sections/201825379-General-Account-Management', 'https://help.wrike.com/hc/en-us/categories/200942135-Monitoring-Panel', 'https://help.wrike.com/hc/en-us/sections/201893085-Reporting', 'https://help.wrike.com/hc/en-us/categories/200913179-Account-Management'}\n"
     ]
    },
    {
     "name": "stderr",
     "output_type": "stream",
     "text": [
      "2020-09-13 17:55:20 [scrapy.extensions.logstats] INFO: Crawled 434191 pages (at 41 pages/min), scraped 0 items (at 0 items/min)\n"
     ]
    },
    {
     "name": "stdout",
     "output_type": "stream",
     "text": [
      "/home/alex/chat_bot_wrike/wrike-bot/help_good_for_wrike/search?page=11&query=time+report&utf8=%E2%9C%93.csv\n",
      "Saving as : /home/alex/chat_bot_wrike/wrike-bot/help_good_for_wrike/search?page=98&query=time+report&utf8=%E2%9C%93.csv {'https://help.wrike.com/hc/en-us/sections/360003697334-Spaces', 'https://help.wrike.com/hc/en-us/categories/201188645-Getting-Started', 'https://help.wrike.com/hc/en-us/categories/200942115-Tasks-Folders-Projects-and-Spaces'}\n",
      "/home/alex/chat_bot_wrike/wrike-bot/help_good_for_wrike/search?page=98&query=time+report&utf8=%E2%9C%93.csv\n"
     ]
    },
    {
     "name": "stderr",
     "output_type": "stream",
     "text": [
      "2020-09-13 17:56:18 [scrapy.extensions.logstats] INFO: Crawled 434608 pages (at 417 pages/min), scraped 0 items (at 0 items/min)\n",
      "2020-09-13 17:57:18 [scrapy.extensions.logstats] INFO: Crawled 435289 pages (at 681 pages/min), scraped 0 items (at 0 items/min)\n",
      "2020-09-13 17:58:18 [scrapy.extensions.logstats] INFO: Crawled 435683 pages (at 394 pages/min), scraped 0 items (at 0 items/min)\n",
      "2020-09-13 17:59:18 [scrapy.extensions.logstats] INFO: Crawled 436121 pages (at 438 pages/min), scraped 0 items (at 0 items/min)\n",
      "2020-09-13 18:00:18 [scrapy.extensions.logstats] INFO: Crawled 436734 pages (at 613 pages/min), scraped 0 items (at 0 items/min)\n",
      "2020-09-13 18:01:18 [scrapy.extensions.logstats] INFO: Crawled 437330 pages (at 596 pages/min), scraped 0 items (at 0 items/min)\n",
      "2020-09-13 18:02:19 [scrapy.extensions.logstats] INFO: Crawled 437729 pages (at 399 pages/min), scraped 0 items (at 0 items/min)\n",
      "2020-09-13 18:03:18 [scrapy.extensions.logstats] INFO: Crawled 438106 pages (at 377 pages/min), scraped 0 items (at 0 items/min)\n",
      "2020-09-13 18:04:18 [scrapy.extensions.logstats] INFO: Crawled 438588 pages (at 482 pages/min), scraped 0 items (at 0 items/min)\n",
      "2020-09-13 18:05:18 [scrapy.extensions.logstats] INFO: Crawled 439192 pages (at 604 pages/min), scraped 0 items (at 0 items/min)\n",
      "2020-09-13 18:06:18 [scrapy.extensions.logstats] INFO: Crawled 439613 pages (at 421 pages/min), scraped 0 items (at 0 items/min)\n",
      "2020-09-13 18:07:18 [scrapy.extensions.logstats] INFO: Crawled 440154 pages (at 541 pages/min), scraped 0 items (at 0 items/min)\n",
      "2020-09-13 18:08:18 [scrapy.extensions.logstats] INFO: Crawled 440603 pages (at 449 pages/min), scraped 0 items (at 0 items/min)\n",
      "2020-09-13 18:09:18 [scrapy.extensions.logstats] INFO: Crawled 441074 pages (at 471 pages/min), scraped 0 items (at 0 items/min)\n",
      "2020-09-13 18:10:19 [scrapy.extensions.logstats] INFO: Crawled 441519 pages (at 445 pages/min), scraped 0 items (at 0 items/min)\n",
      "2020-09-13 18:11:19 [scrapy.extensions.logstats] INFO: Crawled 441920 pages (at 401 pages/min), scraped 0 items (at 0 items/min)\n",
      "2020-09-13 18:12:18 [scrapy.extensions.logstats] INFO: Crawled 442508 pages (at 588 pages/min), scraped 0 items (at 0 items/min)\n"
     ]
    },
    {
     "name": "stdout",
     "output_type": "stream",
     "text": [
      "Saving as : /home/alex/chat_bot_wrike/wrike-bot/help_good_for_wrike/360014054613-Blank-Milestones.csv {'https://help.wrike.com/hc/en-us/articles/209603689-Milestones'}\n",
      "/home/alex/chat_bot_wrike/wrike-bot/help_good_for_wrike/360014054613-Blank-Milestones.csv\n",
      "Saving as : /home/alex/chat_bot_wrike/wrike-bot/help_good_for_wrike/360014054613-Blank-Milestones?page=1.csv {'https://help.wrike.com/hc/en-us/articles/209603689-Milestones'}\n"
     ]
    },
    {
     "name": "stderr",
     "output_type": "stream",
     "text": [
      "2020-09-13 18:13:19 [scrapy.extensions.logstats] INFO: Crawled 443052 pages (at 544 pages/min), scraped 0 items (at 0 items/min)\n"
     ]
    },
    {
     "name": "stdout",
     "output_type": "stream",
     "text": [
      "/home/alex/chat_bot_wrike/wrike-bot/help_good_for_wrike/360014054613-Blank-Milestones?page=1.csv\n"
     ]
    },
    {
     "name": "stderr",
     "output_type": "stream",
     "text": [
      "2020-09-13 18:14:18 [scrapy.extensions.logstats] INFO: Crawled 443385 pages (at 333 pages/min), scraped 0 items (at 0 items/min)\n",
      "2020-09-13 18:15:19 [scrapy.extensions.logstats] INFO: Crawled 443924 pages (at 539 pages/min), scraped 0 items (at 0 items/min)\n",
      "2020-09-13 18:16:18 [scrapy.extensions.logstats] INFO: Crawled 444353 pages (at 429 pages/min), scraped 0 items (at 0 items/min)\n",
      "2020-09-13 18:17:18 [scrapy.extensions.logstats] INFO: Crawled 444874 pages (at 521 pages/min), scraped 0 items (at 0 items/min)\n",
      "2020-09-13 18:18:18 [scrapy.extensions.logstats] INFO: Crawled 445379 pages (at 505 pages/min), scraped 0 items (at 0 items/min)\n",
      "2020-09-13 18:19:18 [scrapy.extensions.logstats] INFO: Crawled 445916 pages (at 537 pages/min), scraped 0 items (at 0 items/min)\n",
      "2020-09-13 18:20:18 [scrapy.extensions.logstats] INFO: Crawled 446554 pages (at 638 pages/min), scraped 0 items (at 0 items/min)\n",
      "2020-09-13 18:21:18 [scrapy.extensions.logstats] INFO: Crawled 446978 pages (at 424 pages/min), scraped 0 items (at 0 items/min)\n",
      "2020-09-13 18:22:19 [scrapy.extensions.logstats] INFO: Crawled 447482 pages (at 504 pages/min), scraped 0 items (at 0 items/min)\n",
      "2020-09-13 18:23:18 [scrapy.extensions.logstats] INFO: Crawled 447664 pages (at 182 pages/min), scraped 0 items (at 0 items/min)\n",
      "2020-09-13 18:24:18 [scrapy.extensions.logstats] INFO: Crawled 448218 pages (at 554 pages/min), scraped 0 items (at 0 items/min)\n",
      "2020-09-13 18:25:18 [scrapy.extensions.logstats] INFO: Crawled 448509 pages (at 291 pages/min), scraped 0 items (at 0 items/min)\n",
      "2020-09-13 18:26:19 [scrapy.extensions.logstats] INFO: Crawled 449009 pages (at 500 pages/min), scraped 0 items (at 0 items/min)\n",
      "2020-09-13 18:27:18 [scrapy.extensions.logstats] INFO: Crawled 449573 pages (at 564 pages/min), scraped 0 items (at 0 items/min)\n",
      "2020-09-13 18:28:18 [scrapy.extensions.logstats] INFO: Crawled 449973 pages (at 400 pages/min), scraped 0 items (at 0 items/min)\n",
      "2020-09-13 18:29:18 [scrapy.extensions.logstats] INFO: Crawled 450493 pages (at 520 pages/min), scraped 0 items (at 0 items/min)\n"
     ]
    },
    {
     "name": "stdout",
     "output_type": "stream",
     "text": [
      "Saving as : /home/alex/chat_bot_wrike/wrike-bot/help_good_for_wrike/360012459994-Can-you-include-information-in-project-info-panel-in-reports-.csv {'https://help.wrike.com/hc/en-us/articles/209603389-Folder-and-Project-Info-Panels'}\n",
      "/home/alex/chat_bot_wrike/wrike-bot/help_good_for_wrike/360012459994-Can-you-include-information-in-project-info-panel-in-reports-.csv\n",
      "Saving as : /home/alex/chat_bot_wrike/wrike-bot/help_good_for_wrike/360012459994-Can-you-include-information-in-project-info-panel-in-reports-?page=1.csv {'https://help.wrike.com/hc/en-us/articles/209603389-Folder-and-Project-Info-Panels'}\n",
      "/home/alex/chat_bot_wrike/wrike-bot/help_good_for_wrike/360012459994-Can-you-include-information-in-project-info-panel-in-reports-?page=1.csv\n",
      "Saving as : /home/alex/chat_bot_wrike/wrike-bot/help_good_for_wrike/360012586833-If-I-delete-a-task-which-people-have-logged-time-on-what-happens-to-those-time-logs-.csv {'https://help.wrike.com/hc/en-us/articles/210323505-Timelog-View'}\n",
      "/home/alex/chat_bot_wrike/wrike-bot/help_good_for_wrike/360012586833-If-I-delete-a-task-which-people-have-logged-time-on-what-happens-to-those-time-logs-.csv\n",
      "Saving as : /home/alex/chat_bot_wrike/wrike-bot/help_good_for_wrike/360012496274-Building-a-Process-.csv {'https://help.wrike.com/hc/en-us/articles/209603769-Make-a-Task-Recurrent', 'https://help.wrike.com/hc/en-us/articles/360003549734-Onboarding-Templates'}\n",
      "/home/alex/chat_bot_wrike/wrike-bot/help_good_for_wrike/360012496274-Building-a-Process-.csv\n",
      "Saving as : /home/alex/chat_bot_wrike/wrike-bot/help_good_for_wrike/360012586833-If-I-delete-a-task-which-people-have-logged-time-on-what-happens-to-those-time-logs-?page=1.csv {'https://help.wrike.com/hc/en-us/articles/210323505-Timelog-View'}\n",
      "/home/alex/chat_bot_wrike/wrike-bot/help_good_for_wrike/360012586833-If-I-delete-a-task-which-people-have-logged-time-on-what-happens-to-those-time-logs-?page=1.csv\n",
      "Saving as : /home/alex/chat_bot_wrike/wrike-bot/help_good_for_wrike/360012571873-task-time-tracking-on-time-duration?page=1.csv {'https://help.wrike.com/hc/en-us/articles/209603089-Time-Tracking'}\n",
      "/home/alex/chat_bot_wrike/wrike-bot/help_good_for_wrike/360012571873-task-time-tracking-on-time-duration?page=1.csv\n",
      "Saving as : /home/alex/chat_bot_wrike/wrike-bot/help_good_for_wrike/360012496274-Building-a-Process-?page=1.csv {'https://help.wrike.com/hc/en-us/articles/209603769-Make-a-Task-Recurrent', 'https://help.wrike.com/hc/en-us/articles/360003549734-Onboarding-Templates'}\n",
      "/home/alex/chat_bot_wrike/wrike-bot/help_good_for_wrike/360012496274-Building-a-Process-?page=1.csv\n",
      "Saving as : /home/alex/chat_bot_wrike/wrike-bot/help_good_for_wrike/360010761953-dragging-tasks.csv {'https://help.wrike.com/hc/en-us/articles/210323325-List-View-Sorting-and-Prioritizing-Tasks'}\n",
      "/home/alex/chat_bot_wrike/wrike-bot/help_good_for_wrike/360010761953-dragging-tasks.csv\n",
      "Saving as : /home/alex/chat_bot_wrike/wrike-bot/help_good_for_wrike/360010761953-dragging-tasks?page=1.csv {'https://help.wrike.com/hc/en-us/articles/210323325-List-View-Sorting-and-Prioritizing-Tasks'}\n",
      "/home/alex/chat_bot_wrike/wrike-bot/help_good_for_wrike/360010761953-dragging-tasks?page=1.csv\n",
      "Saving as : /home/alex/chat_bot_wrike/wrike-bot/help_good_for_wrike/360009528194-Changing-the-setting-of-daily-reminders-.csv {'https://help.wrike.com/hc/en-us/articles/209605589-Daily-To-Do-Emails'}\n",
      "/home/alex/chat_bot_wrike/wrike-bot/help_good_for_wrike/360009528194-Changing-the-setting-of-daily-reminders-.csv\n",
      "Saving as : /home/alex/chat_bot_wrike/wrike-bot/help_good_for_wrike/360009528194-Changing-the-setting-of-daily-reminders-?page=1.csv {'https://help.wrike.com/hc/en-us/articles/209605589-Daily-To-Do-Emails'}\n",
      "/home/alex/chat_bot_wrike/wrike-bot/help_good_for_wrike/360009528194-Changing-the-setting-of-daily-reminders-?page=1.csv\n"
     ]
    },
    {
     "name": "stderr",
     "output_type": "stream",
     "text": [
      "2020-09-13 18:30:18 [scrapy.extensions.logstats] INFO: Crawled 450843 pages (at 350 pages/min), scraped 0 items (at 0 items/min)\n",
      "2020-09-13 18:31:19 [scrapy.extensions.logstats] INFO: Crawled 451341 pages (at 498 pages/min), scraped 0 items (at 0 items/min)\n",
      "2020-09-13 18:32:19 [scrapy.extensions.logstats] INFO: Crawled 451534 pages (at 193 pages/min), scraped 0 items (at 0 items/min)\n",
      "2020-09-13 18:33:18 [scrapy.extensions.logstats] INFO: Crawled 452056 pages (at 522 pages/min), scraped 0 items (at 0 items/min)\n",
      "2020-09-13 18:34:18 [scrapy.extensions.logstats] INFO: Crawled 452781 pages (at 725 pages/min), scraped 0 items (at 0 items/min)\n",
      "2020-09-13 18:35:18 [scrapy.extensions.logstats] INFO: Crawled 453413 pages (at 632 pages/min), scraped 0 items (at 0 items/min)\n",
      "2020-09-13 18:36:18 [scrapy.extensions.logstats] INFO: Crawled 454175 pages (at 762 pages/min), scraped 0 items (at 0 items/min)\n",
      "2020-09-13 18:37:18 [scrapy.extensions.logstats] INFO: Crawled 454853 pages (at 678 pages/min), scraped 0 items (at 0 items/min)\n",
      "2020-09-13 18:38:18 [scrapy.extensions.logstats] INFO: Crawled 455555 pages (at 702 pages/min), scraped 0 items (at 0 items/min)\n",
      "2020-09-13 18:39:23 [scrapy.extensions.logstats] INFO: Crawled 456219 pages (at 664 pages/min), scraped 0 items (at 0 items/min)\n",
      "2020-09-13 18:40:18 [scrapy.extensions.logstats] INFO: Crawled 456846 pages (at 627 pages/min), scraped 0 items (at 0 items/min)\n",
      "2020-09-13 18:41:18 [scrapy.extensions.logstats] INFO: Crawled 457523 pages (at 677 pages/min), scraped 0 items (at 0 items/min)\n",
      "2020-09-13 18:42:18 [scrapy.extensions.logstats] INFO: Crawled 458174 pages (at 651 pages/min), scraped 0 items (at 0 items/min)\n",
      "2020-09-13 18:43:18 [scrapy.extensions.logstats] INFO: Crawled 458931 pages (at 757 pages/min), scraped 0 items (at 0 items/min)\n",
      "2020-09-13 18:44:18 [scrapy.extensions.logstats] INFO: Crawled 459688 pages (at 757 pages/min), scraped 0 items (at 0 items/min)\n",
      "2020-09-13 18:45:18 [scrapy.extensions.logstats] INFO: Crawled 460456 pages (at 768 pages/min), scraped 0 items (at 0 items/min)\n",
      "2020-09-13 18:46:18 [scrapy.extensions.logstats] INFO: Crawled 461194 pages (at 738 pages/min), scraped 0 items (at 0 items/min)\n",
      "2020-09-13 18:47:27 [scrapy.extensions.logstats] INFO: Crawled 461896 pages (at 702 pages/min), scraped 0 items (at 0 items/min)\n",
      "2020-09-13 18:48:18 [scrapy.extensions.logstats] INFO: Crawled 462494 pages (at 598 pages/min), scraped 0 items (at 0 items/min)\n",
      "2020-09-13 18:49:18 [scrapy.extensions.logstats] INFO: Crawled 463193 pages (at 699 pages/min), scraped 0 items (at 0 items/min)\n",
      "2020-09-13 18:50:18 [scrapy.extensions.logstats] INFO: Crawled 463937 pages (at 744 pages/min), scraped 0 items (at 0 items/min)\n",
      "2020-09-13 18:51:18 [scrapy.extensions.logstats] INFO: Crawled 464646 pages (at 709 pages/min), scraped 0 items (at 0 items/min)\n",
      "2020-09-13 18:52:18 [scrapy.extensions.logstats] INFO: Crawled 465391 pages (at 745 pages/min), scraped 0 items (at 0 items/min)\n",
      "2020-09-13 18:53:18 [scrapy.extensions.logstats] INFO: Crawled 466118 pages (at 727 pages/min), scraped 0 items (at 0 items/min)\n",
      "2020-09-13 18:54:18 [scrapy.extensions.logstats] INFO: Crawled 466833 pages (at 715 pages/min), scraped 0 items (at 0 items/min)\n",
      "2020-09-13 18:55:18 [scrapy.extensions.logstats] INFO: Crawled 467589 pages (at 756 pages/min), scraped 0 items (at 0 items/min)\n",
      "2020-09-13 18:56:18 [scrapy.extensions.logstats] INFO: Crawled 468199 pages (at 610 pages/min), scraped 0 items (at 0 items/min)\n",
      "2020-09-13 18:57:18 [scrapy.extensions.logstats] INFO: Crawled 468859 pages (at 660 pages/min), scraped 0 items (at 0 items/min)\n",
      "2020-09-13 18:58:18 [scrapy.extensions.logstats] INFO: Crawled 469523 pages (at 664 pages/min), scraped 0 items (at 0 items/min)\n",
      "2020-09-13 18:59:18 [scrapy.extensions.logstats] INFO: Crawled 470214 pages (at 691 pages/min), scraped 0 items (at 0 items/min)\n",
      "2020-09-13 19:00:18 [scrapy.extensions.logstats] INFO: Crawled 470893 pages (at 679 pages/min), scraped 0 items (at 0 items/min)\n",
      "2020-09-13 19:01:18 [scrapy.extensions.logstats] INFO: Crawled 471593 pages (at 700 pages/min), scraped 0 items (at 0 items/min)\n",
      "2020-09-13 19:02:18 [scrapy.extensions.logstats] INFO: Crawled 472231 pages (at 638 pages/min), scraped 0 items (at 0 items/min)\n",
      "2020-09-13 19:03:18 [scrapy.extensions.logstats] INFO: Crawled 472833 pages (at 602 pages/min), scraped 0 items (at 0 items/min)\n",
      "2020-09-13 19:04:24 [scrapy.extensions.logstats] INFO: Crawled 473440 pages (at 607 pages/min), scraped 0 items (at 0 items/min)\n",
      "2020-09-13 19:05:18 [scrapy.extensions.logstats] INFO: Crawled 474024 pages (at 584 pages/min), scraped 0 items (at 0 items/min)\n",
      "2020-09-13 19:06:18 [scrapy.extensions.logstats] INFO: Crawled 474704 pages (at 680 pages/min), scraped 0 items (at 0 items/min)\n",
      "2020-09-13 19:07:18 [scrapy.extensions.logstats] INFO: Crawled 475368 pages (at 664 pages/min), scraped 0 items (at 0 items/min)\n",
      "2020-09-13 19:08:18 [scrapy.extensions.logstats] INFO: Crawled 476088 pages (at 720 pages/min), scraped 0 items (at 0 items/min)\n",
      "2020-09-13 19:09:18 [scrapy.extensions.logstats] INFO: Crawled 476728 pages (at 640 pages/min), scraped 0 items (at 0 items/min)\n",
      "2020-09-13 19:10:18 [scrapy.extensions.logstats] INFO: Crawled 477423 pages (at 695 pages/min), scraped 0 items (at 0 items/min)\n",
      "2020-09-13 19:11:18 [scrapy.extensions.logstats] INFO: Crawled 478078 pages (at 655 pages/min), scraped 0 items (at 0 items/min)\n",
      "2020-09-13 19:12:18 [scrapy.extensions.logstats] INFO: Crawled 478748 pages (at 670 pages/min), scraped 0 items (at 0 items/min)\n",
      "2020-09-13 19:13:20 [scrapy.extensions.logstats] INFO: Crawled 479353 pages (at 605 pages/min), scraped 0 items (at 0 items/min)\n",
      "2020-09-13 19:14:18 [scrapy.extensions.logstats] INFO: Crawled 480038 pages (at 685 pages/min), scraped 0 items (at 0 items/min)\n",
      "2020-09-13 19:15:18 [scrapy.extensions.logstats] INFO: Crawled 480720 pages (at 682 pages/min), scraped 0 items (at 0 items/min)\n",
      "2020-09-13 19:16:18 [scrapy.extensions.logstats] INFO: Crawled 481444 pages (at 724 pages/min), scraped 0 items (at 0 items/min)\n",
      "2020-09-13 19:17:18 [scrapy.extensions.logstats] INFO: Crawled 482144 pages (at 700 pages/min), scraped 0 items (at 0 items/min)\n",
      "2020-09-13 19:18:18 [scrapy.extensions.logstats] INFO: Crawled 482869 pages (at 725 pages/min), scraped 0 items (at 0 items/min)\n",
      "2020-09-13 19:19:18 [scrapy.extensions.logstats] INFO: Crawled 483556 pages (at 687 pages/min), scraped 0 items (at 0 items/min)\n",
      "2020-09-13 19:20:18 [scrapy.extensions.logstats] INFO: Crawled 484206 pages (at 650 pages/min), scraped 0 items (at 0 items/min)\n",
      "2020-09-13 19:21:18 [scrapy.extensions.logstats] INFO: Crawled 484879 pages (at 673 pages/min), scraped 0 items (at 0 items/min)\n",
      "2020-09-13 19:22:18 [scrapy.extensions.logstats] INFO: Crawled 485453 pages (at 574 pages/min), scraped 0 items (at 0 items/min)\n",
      "2020-09-13 19:23:18 [scrapy.extensions.logstats] INFO: Crawled 486064 pages (at 611 pages/min), scraped 0 items (at 0 items/min)\n",
      "2020-09-13 19:24:18 [scrapy.extensions.logstats] INFO: Crawled 486746 pages (at 682 pages/min), scraped 0 items (at 0 items/min)\n",
      "2020-09-13 19:25:18 [scrapy.extensions.logstats] INFO: Crawled 487292 pages (at 546 pages/min), scraped 0 items (at 0 items/min)\n"
     ]
    },
    {
     "name": "stdout",
     "output_type": "stream",
     "text": [
      "Saving as : /home/alex/chat_bot_wrike/wrike-bot/help_good_for_wrike/search?utf8=%E2%9C%93&query=mentioning.csv {'https://help.wrike.com/hc/en-us/sections/201893055-Communication', 'https://help.wrike.com/hc/en-us/categories/200942115-Tasks-Folders-Projects-and-Spaces'}\n",
      "/home/alex/chat_bot_wrike/wrike-bot/help_good_for_wrike/search?utf8=%E2%9C%93&query=mentioning.csv\n",
      "Saving as : /home/alex/chat_bot_wrike/wrike-bot/help_good_for_wrike/210323505.csv {'https://help.wrike.com/hc/en-us/articles/360035989834-Billable-Time#lock', 'https://help.wrike.com/hc/en-us/articles/360035863834-Wrike-for-Professional-Services#performance', 'https://help.wrike.com/hc/en-us/articles/209603589-Access-Roles', 'https://help.wrike.com/hc/en-us/articles/360024767374-Wrike-Resource-Overview'}\n",
      "/home/alex/chat_bot_wrike/wrike-bot/help_good_for_wrike/210323505.csv\n",
      "Saving as : /home/alex/chat_bot_wrike/wrike-bot/help_good_for_wrike/209604469.csv {'https://help.wrike.com/hc/en-us/articles/115004120265-Dashboard-Widgets#createdashboard', 'https://help.wrike.com/hc/en-us/articles/209603589-Access-Roles#permissions', 'https://help.wrike.com/hc/en-us/articles/209603589-Access-Roles', 'https://help.wrike.com/hc/en-us/articles/209603069-Filters', 'https://help.wrike.com/hc/en-us/articles/209603589-Access-Roles#create', 'https://help.wrike.com/hc/en-us/articles/209603989-Types-of-Licenses#rights'}\n",
      "/home/alex/chat_bot_wrike/wrike-bot/help_good_for_wrike/209604469.csv\n"
     ]
    },
    {
     "name": "stderr",
     "output_type": "stream",
     "text": [
      "2020-09-13 19:26:18 [scrapy.extensions.logstats] INFO: Crawled 487567 pages (at 275 pages/min), scraped 0 items (at 0 items/min)\n",
      "2020-09-13 19:27:18 [scrapy.extensions.logstats] INFO: Crawled 488056 pages (at 489 pages/min), scraped 0 items (at 0 items/min)\n",
      "2020-09-13 19:28:18 [scrapy.extensions.logstats] INFO: Crawled 488523 pages (at 467 pages/min), scraped 0 items (at 0 items/min)\n",
      "2020-09-13 19:29:26 [scrapy.extensions.logstats] INFO: Crawled 488995 pages (at 472 pages/min), scraped 0 items (at 0 items/min)\n",
      "2020-09-13 19:30:18 [scrapy.extensions.logstats] INFO: Crawled 489494 pages (at 499 pages/min), scraped 0 items (at 0 items/min)\n",
      "2020-09-13 19:31:18 [scrapy.extensions.logstats] INFO: Crawled 490054 pages (at 560 pages/min), scraped 0 items (at 0 items/min)\n",
      "2020-09-13 19:32:20 [scrapy.extensions.logstats] INFO: Crawled 490530 pages (at 476 pages/min), scraped 0 items (at 0 items/min)\n",
      "2020-09-13 19:33:18 [scrapy.extensions.logstats] INFO: Crawled 491062 pages (at 532 pages/min), scraped 0 items (at 0 items/min)\n",
      "2020-09-13 19:34:19 [scrapy.extensions.logstats] INFO: Crawled 491390 pages (at 328 pages/min), scraped 0 items (at 0 items/min)\n",
      "2020-09-13 19:35:18 [scrapy.extensions.logstats] INFO: Crawled 491734 pages (at 344 pages/min), scraped 0 items (at 0 items/min)\n",
      "2020-09-13 19:36:18 [scrapy.extensions.logstats] INFO: Crawled 492026 pages (at 292 pages/min), scraped 0 items (at 0 items/min)\n",
      "2020-09-13 19:37:30 [scrapy.extensions.logstats] INFO: Crawled 492328 pages (at 302 pages/min), scraped 0 items (at 0 items/min)\n",
      "2020-09-13 19:38:18 [scrapy.extensions.logstats] INFO: Crawled 492741 pages (at 413 pages/min), scraped 0 items (at 0 items/min)\n",
      "2020-09-13 19:39:18 [scrapy.extensions.logstats] INFO: Crawled 493187 pages (at 446 pages/min), scraped 0 items (at 0 items/min)\n",
      "2020-09-13 19:40:18 [scrapy.extensions.logstats] INFO: Crawled 493647 pages (at 460 pages/min), scraped 0 items (at 0 items/min)\n",
      "2020-09-13 19:41:18 [scrapy.extensions.logstats] INFO: Crawled 494013 pages (at 366 pages/min), scraped 0 items (at 0 items/min)\n",
      "2020-09-13 19:42:19 [scrapy.extensions.logstats] INFO: Crawled 494373 pages (at 360 pages/min), scraped 0 items (at 0 items/min)\n",
      "2020-09-13 19:43:18 [scrapy.extensions.logstats] INFO: Crawled 494685 pages (at 312 pages/min), scraped 0 items (at 0 items/min)\n",
      "2020-09-13 19:44:18 [scrapy.extensions.logstats] INFO: Crawled 495040 pages (at 355 pages/min), scraped 0 items (at 0 items/min)\n",
      "2020-09-13 19:45:18 [scrapy.extensions.logstats] INFO: Crawled 495519 pages (at 479 pages/min), scraped 0 items (at 0 items/min)\n",
      "2020-09-13 19:46:18 [scrapy.extensions.logstats] INFO: Crawled 496077 pages (at 558 pages/min), scraped 0 items (at 0 items/min)\n",
      "2020-09-13 19:47:18 [scrapy.extensions.logstats] INFO: Crawled 496534 pages (at 457 pages/min), scraped 0 items (at 0 items/min)\n",
      "2020-09-13 19:48:19 [scrapy.extensions.logstats] INFO: Crawled 496838 pages (at 304 pages/min), scraped 0 items (at 0 items/min)\n",
      "2020-09-13 19:49:18 [scrapy.extensions.logstats] INFO: Crawled 497133 pages (at 295 pages/min), scraped 0 items (at 0 items/min)\n",
      "2020-09-13 19:50:18 [scrapy.extensions.logstats] INFO: Crawled 497415 pages (at 282 pages/min), scraped 0 items (at 0 items/min)\n",
      "2020-09-13 19:51:19 [scrapy.extensions.logstats] INFO: Crawled 497729 pages (at 314 pages/min), scraped 0 items (at 0 items/min)\n",
      "2020-09-13 19:52:18 [scrapy.extensions.logstats] INFO: Crawled 498180 pages (at 451 pages/min), scraped 0 items (at 0 items/min)\n",
      "2020-09-13 19:53:18 [scrapy.extensions.logstats] INFO: Crawled 498474 pages (at 294 pages/min), scraped 0 items (at 0 items/min)\n",
      "2020-09-13 19:54:19 [scrapy.extensions.logstats] INFO: Crawled 498876 pages (at 402 pages/min), scraped 0 items (at 0 items/min)\n",
      "2020-09-13 19:55:19 [scrapy.extensions.logstats] INFO: Crawled 499322 pages (at 446 pages/min), scraped 0 items (at 0 items/min)\n",
      "2020-09-13 19:56:18 [scrapy.extensions.logstats] INFO: Crawled 499852 pages (at 530 pages/min), scraped 0 items (at 0 items/min)\n",
      "2020-09-13 19:57:18 [scrapy.extensions.logstats] INFO: Crawled 500212 pages (at 360 pages/min), scraped 0 items (at 0 items/min)\n",
      "2020-09-13 19:58:19 [scrapy.extensions.logstats] INFO: Crawled 500605 pages (at 393 pages/min), scraped 0 items (at 0 items/min)\n",
      "2020-09-13 19:59:18 [scrapy.extensions.logstats] INFO: Crawled 501012 pages (at 407 pages/min), scraped 0 items (at 0 items/min)\n",
      "2020-09-13 20:00:18 [scrapy.extensions.logstats] INFO: Crawled 501393 pages (at 381 pages/min), scraped 0 items (at 0 items/min)\n",
      "2020-09-13 20:01:18 [scrapy.extensions.logstats] INFO: Crawled 501931 pages (at 538 pages/min), scraped 0 items (at 0 items/min)\n",
      "2020-09-13 20:02:18 [scrapy.extensions.logstats] INFO: Crawled 502373 pages (at 442 pages/min), scraped 0 items (at 0 items/min)\n",
      "2020-09-13 20:03:18 [scrapy.extensions.logstats] INFO: Crawled 502857 pages (at 484 pages/min), scraped 0 items (at 0 items/min)\n",
      "2020-09-13 20:04:18 [scrapy.extensions.logstats] INFO: Crawled 503361 pages (at 504 pages/min), scraped 0 items (at 0 items/min)\n",
      "2020-09-13 20:05:18 [scrapy.extensions.logstats] INFO: Crawled 503731 pages (at 370 pages/min), scraped 0 items (at 0 items/min)\n",
      "2020-09-13 20:06:19 [scrapy.extensions.logstats] INFO: Crawled 504161 pages (at 430 pages/min), scraped 0 items (at 0 items/min)\n",
      "2020-09-13 20:07:29 [scrapy.extensions.logstats] INFO: Crawled 504480 pages (at 319 pages/min), scraped 0 items (at 0 items/min)\n",
      "2020-09-13 20:08:18 [scrapy.extensions.logstats] INFO: Crawled 504761 pages (at 281 pages/min), scraped 0 items (at 0 items/min)\n",
      "2020-09-13 20:09:18 [scrapy.extensions.logstats] INFO: Crawled 505109 pages (at 348 pages/min), scraped 0 items (at 0 items/min)\n",
      "2020-09-13 20:10:18 [scrapy.extensions.logstats] INFO: Crawled 505572 pages (at 463 pages/min), scraped 0 items (at 0 items/min)\n",
      "2020-09-13 20:11:18 [scrapy.extensions.logstats] INFO: Crawled 506274 pages (at 702 pages/min), scraped 0 items (at 0 items/min)\n",
      "2020-09-13 20:12:18 [scrapy.extensions.logstats] INFO: Crawled 506923 pages (at 649 pages/min), scraped 0 items (at 0 items/min)\n",
      "2020-09-13 20:13:18 [scrapy.extensions.logstats] INFO: Crawled 507391 pages (at 468 pages/min), scraped 0 items (at 0 items/min)\n",
      "2020-09-13 20:14:18 [scrapy.extensions.logstats] INFO: Crawled 508043 pages (at 652 pages/min), scraped 0 items (at 0 items/min)\n",
      "2020-09-13 20:15:18 [scrapy.extensions.logstats] INFO: Crawled 508575 pages (at 532 pages/min), scraped 0 items (at 0 items/min)\n",
      "2020-09-13 20:16:18 [scrapy.extensions.logstats] INFO: Crawled 509087 pages (at 512 pages/min), scraped 0 items (at 0 items/min)\n",
      "2020-09-13 20:17:18 [scrapy.extensions.logstats] INFO: Crawled 509693 pages (at 606 pages/min), scraped 0 items (at 0 items/min)\n",
      "2020-09-13 20:18:18 [scrapy.extensions.logstats] INFO: Crawled 510068 pages (at 375 pages/min), scraped 0 items (at 0 items/min)\n",
      "2020-09-13 20:19:18 [scrapy.extensions.logstats] INFO: Crawled 510600 pages (at 532 pages/min), scraped 0 items (at 0 items/min)\n",
      "2020-09-13 20:20:18 [scrapy.extensions.logstats] INFO: Crawled 511209 pages (at 609 pages/min), scraped 0 items (at 0 items/min)\n",
      "2020-09-13 20:21:18 [scrapy.extensions.logstats] INFO: Crawled 511544 pages (at 335 pages/min), scraped 0 items (at 0 items/min)\n",
      "2020-09-13 20:22:18 [scrapy.extensions.logstats] INFO: Crawled 511983 pages (at 439 pages/min), scraped 0 items (at 0 items/min)\n",
      "2020-09-13 20:23:18 [scrapy.extensions.logstats] INFO: Crawled 512499 pages (at 516 pages/min), scraped 0 items (at 0 items/min)\n",
      "2020-09-13 20:24:18 [scrapy.extensions.logstats] INFO: Crawled 512968 pages (at 469 pages/min), scraped 0 items (at 0 items/min)\n",
      "2020-09-13 20:25:18 [scrapy.extensions.logstats] INFO: Crawled 513531 pages (at 563 pages/min), scraped 0 items (at 0 items/min)\n",
      "2020-09-13 20:26:18 [scrapy.extensions.logstats] INFO: Crawled 514074 pages (at 543 pages/min), scraped 0 items (at 0 items/min)\n",
      "2020-09-13 20:27:18 [scrapy.extensions.logstats] INFO: Crawled 514503 pages (at 429 pages/min), scraped 0 items (at 0 items/min)\n",
      "2020-09-13 20:28:18 [scrapy.extensions.logstats] INFO: Crawled 514927 pages (at 424 pages/min), scraped 0 items (at 0 items/min)\n",
      "2020-09-13 20:29:18 [scrapy.extensions.logstats] INFO: Crawled 515434 pages (at 507 pages/min), scraped 0 items (at 0 items/min)\n"
     ]
    },
    {
     "name": "stderr",
     "output_type": "stream",
     "text": [
      "2020-09-13 20:30:19 [scrapy.extensions.logstats] INFO: Crawled 515864 pages (at 430 pages/min), scraped 0 items (at 0 items/min)\n",
      "2020-09-13 20:31:18 [scrapy.extensions.logstats] INFO: Crawled 516394 pages (at 530 pages/min), scraped 0 items (at 0 items/min)\n",
      "2020-09-13 20:32:18 [scrapy.extensions.logstats] INFO: Crawled 516869 pages (at 475 pages/min), scraped 0 items (at 0 items/min)\n",
      "2020-09-13 20:33:18 [scrapy.extensions.logstats] INFO: Crawled 517312 pages (at 443 pages/min), scraped 0 items (at 0 items/min)\n",
      "2020-09-13 20:34:18 [scrapy.extensions.logstats] INFO: Crawled 517622 pages (at 310 pages/min), scraped 0 items (at 0 items/min)\n",
      "2020-09-13 20:35:20 [scrapy.extensions.logstats] INFO: Crawled 518065 pages (at 443 pages/min), scraped 0 items (at 0 items/min)\n",
      "2020-09-13 20:36:18 [scrapy.extensions.logstats] INFO: Crawled 518304 pages (at 239 pages/min), scraped 0 items (at 0 items/min)\n"
     ]
    },
    {
     "name": "stdout",
     "output_type": "stream",
     "text": [
      "Saving as : /home/alex/chat_bot_wrike/wrike-bot/help_good_for_wrike/360012941794-Wrike-App-v2-1-1-crashing-on-Windows-7-Enterprise-.csv {'https://help.wrike.com/hc/en-us/articles/115004231249-Wrike-for-Windows-and-Mac-Desktop-App-#have'}\n",
      "/home/alex/chat_bot_wrike/wrike-bot/help_good_for_wrike/360012941794-Wrike-App-v2-1-1-crashing-on-Windows-7-Enterprise-.csv\n"
     ]
    },
    {
     "name": "stderr",
     "output_type": "stream",
     "text": [
      "2020-09-13 20:37:18 [scrapy.extensions.logstats] INFO: Crawled 518911 pages (at 607 pages/min), scraped 0 items (at 0 items/min)\n",
      "2020-09-13 20:38:19 [scrapy.extensions.logstats] INFO: Crawled 519191 pages (at 280 pages/min), scraped 0 items (at 0 items/min)\n",
      "2020-09-13 20:39:18 [scrapy.extensions.logstats] INFO: Crawled 519791 pages (at 600 pages/min), scraped 0 items (at 0 items/min)\n",
      "2020-09-13 20:40:18 [scrapy.extensions.logstats] INFO: Crawled 520357 pages (at 566 pages/min), scraped 0 items (at 0 items/min)\n",
      "2020-09-13 20:41:18 [scrapy.extensions.logstats] INFO: Crawled 520812 pages (at 455 pages/min), scraped 0 items (at 0 items/min)\n",
      "2020-09-13 20:42:18 [scrapy.extensions.logstats] INFO: Crawled 521502 pages (at 690 pages/min), scraped 0 items (at 0 items/min)\n"
     ]
    },
    {
     "name": "stdout",
     "output_type": "stream",
     "text": [
      "Saving as : /home/alex/chat_bot_wrike/wrike-bot/help_good_for_wrike/209603889-Mass-Editing?flash_digest=ef0f8f9c2b81de197d70ad1f87970660c137da62.csv {'https://help.wrike.com/hc/en-us/articles/115005876769-Advanced-Custom-Workflows#how'}\n",
      "/home/alex/chat_bot_wrike/wrike-bot/help_good_for_wrike/209603889-Mass-Editing?flash_digest=ef0f8f9c2b81de197d70ad1f87970660c137da62.csv\n"
     ]
    },
    {
     "name": "stderr",
     "output_type": "stream",
     "text": [
      "2020-09-13 20:43:18 [scrapy.extensions.logstats] INFO: Crawled 522241 pages (at 739 pages/min), scraped 0 items (at 0 items/min)\n",
      "2020-09-13 20:44:18 [scrapy.extensions.logstats] INFO: Crawled 522828 pages (at 587 pages/min), scraped 0 items (at 0 items/min)\n",
      "2020-09-13 20:45:18 [scrapy.extensions.logstats] INFO: Crawled 523227 pages (at 399 pages/min), scraped 0 items (at 0 items/min)\n",
      "2020-09-13 20:46:18 [scrapy.extensions.logstats] INFO: Crawled 523879 pages (at 652 pages/min), scraped 0 items (at 0 items/min)\n",
      "2020-09-13 20:47:18 [scrapy.extensions.logstats] INFO: Crawled 524513 pages (at 634 pages/min), scraped 0 items (at 0 items/min)\n",
      "2020-09-13 20:48:18 [scrapy.extensions.logstats] INFO: Crawled 525245 pages (at 732 pages/min), scraped 0 items (at 0 items/min)\n",
      "2020-09-13 20:49:18 [scrapy.extensions.logstats] INFO: Crawled 525793 pages (at 548 pages/min), scraped 0 items (at 0 items/min)\n",
      "2020-09-13 20:50:18 [scrapy.extensions.logstats] INFO: Crawled 526500 pages (at 707 pages/min), scraped 0 items (at 0 items/min)\n",
      "2020-09-13 20:51:18 [scrapy.extensions.logstats] INFO: Crawled 527182 pages (at 682 pages/min), scraped 0 items (at 0 items/min)\n",
      "2020-09-13 20:52:18 [scrapy.extensions.logstats] INFO: Crawled 527603 pages (at 421 pages/min), scraped 0 items (at 0 items/min)\n",
      "2020-09-13 20:53:18 [scrapy.extensions.logstats] INFO: Crawled 528270 pages (at 667 pages/min), scraped 0 items (at 0 items/min)\n",
      "2020-09-13 20:54:18 [scrapy.extensions.logstats] INFO: Crawled 528978 pages (at 708 pages/min), scraped 0 items (at 0 items/min)\n",
      "2020-09-13 20:55:18 [scrapy.extensions.logstats] INFO: Crawled 529729 pages (at 751 pages/min), scraped 0 items (at 0 items/min)\n",
      "2020-09-13 20:56:18 [scrapy.extensions.logstats] INFO: Crawled 530259 pages (at 530 pages/min), scraped 0 items (at 0 items/min)\n",
      "2020-09-13 20:57:18 [scrapy.extensions.logstats] INFO: Crawled 531023 pages (at 764 pages/min), scraped 0 items (at 0 items/min)\n",
      "2020-09-13 20:58:18 [scrapy.extensions.logstats] INFO: Crawled 531611 pages (at 588 pages/min), scraped 0 items (at 0 items/min)\n",
      "2020-09-13 20:59:18 [scrapy.extensions.logstats] INFO: Crawled 532410 pages (at 799 pages/min), scraped 0 items (at 0 items/min)\n",
      "2020-09-13 21:00:18 [scrapy.extensions.logstats] INFO: Crawled 533172 pages (at 762 pages/min), scraped 0 items (at 0 items/min)\n",
      "2020-09-13 21:01:18 [scrapy.extensions.logstats] INFO: Crawled 533906 pages (at 734 pages/min), scraped 0 items (at 0 items/min)\n",
      "2020-09-13 21:02:18 [scrapy.extensions.logstats] INFO: Crawled 534471 pages (at 565 pages/min), scraped 0 items (at 0 items/min)\n",
      "2020-09-13 21:03:18 [scrapy.extensions.logstats] INFO: Crawled 535216 pages (at 745 pages/min), scraped 0 items (at 0 items/min)\n",
      "2020-09-13 21:04:18 [scrapy.extensions.logstats] INFO: Crawled 535995 pages (at 779 pages/min), scraped 0 items (at 0 items/min)\n",
      "2020-09-13 21:05:18 [scrapy.extensions.logstats] INFO: Crawled 536783 pages (at 788 pages/min), scraped 0 items (at 0 items/min)\n",
      "2020-09-13 21:06:18 [scrapy.extensions.logstats] INFO: Crawled 537533 pages (at 750 pages/min), scraped 0 items (at 0 items/min)\n",
      "2020-09-13 21:07:18 [scrapy.extensions.logstats] INFO: Crawled 538077 pages (at 544 pages/min), scraped 0 items (at 0 items/min)\n",
      "2020-09-13 21:08:18 [scrapy.extensions.logstats] INFO: Crawled 538889 pages (at 812 pages/min), scraped 0 items (at 0 items/min)\n",
      "2020-09-13 21:09:18 [scrapy.extensions.logstats] INFO: Crawled 539678 pages (at 789 pages/min), scraped 0 items (at 0 items/min)\n",
      "2020-09-13 21:10:18 [scrapy.extensions.logstats] INFO: Crawled 540466 pages (at 788 pages/min), scraped 0 items (at 0 items/min)\n",
      "2020-09-13 21:11:18 [scrapy.extensions.logstats] INFO: Crawled 541206 pages (at 740 pages/min), scraped 0 items (at 0 items/min)\n",
      "2020-09-13 21:12:18 [scrapy.extensions.logstats] INFO: Crawled 541970 pages (at 764 pages/min), scraped 0 items (at 0 items/min)\n",
      "2020-09-13 21:13:18 [scrapy.extensions.logstats] INFO: Crawled 542732 pages (at 762 pages/min), scraped 0 items (at 0 items/min)\n",
      "2020-09-13 21:14:18 [scrapy.extensions.logstats] INFO: Crawled 543490 pages (at 758 pages/min), scraped 0 items (at 0 items/min)\n",
      "2020-09-13 21:15:23 [scrapy.extensions.logstats] INFO: Crawled 544143 pages (at 653 pages/min), scraped 0 items (at 0 items/min)\n",
      "2020-09-13 21:16:18 [scrapy.extensions.logstats] INFO: Crawled 544888 pages (at 745 pages/min), scraped 0 items (at 0 items/min)\n",
      "2020-09-13 21:17:18 [scrapy.extensions.logstats] INFO: Crawled 545698 pages (at 810 pages/min), scraped 0 items (at 0 items/min)\n",
      "2020-09-13 21:18:18 [scrapy.extensions.logstats] INFO: Crawled 546436 pages (at 738 pages/min), scraped 0 items (at 0 items/min)\n",
      "2020-09-13 21:19:18 [scrapy.extensions.logstats] INFO: Crawled 547222 pages (at 786 pages/min), scraped 0 items (at 0 items/min)\n",
      "2020-09-13 21:20:18 [scrapy.extensions.logstats] INFO: Crawled 548006 pages (at 784 pages/min), scraped 0 items (at 0 items/min)\n",
      "2020-09-13 21:21:18 [scrapy.extensions.logstats] INFO: Crawled 548790 pages (at 784 pages/min), scraped 0 items (at 0 items/min)\n",
      "2020-09-13 21:22:18 [scrapy.extensions.logstats] INFO: Crawled 549572 pages (at 782 pages/min), scraped 0 items (at 0 items/min)\n",
      "2020-09-13 21:23:18 [scrapy.extensions.logstats] INFO: Crawled 550418 pages (at 846 pages/min), scraped 0 items (at 0 items/min)\n",
      "2020-09-13 21:24:18 [scrapy.extensions.logstats] INFO: Crawled 551067 pages (at 649 pages/min), scraped 0 items (at 0 items/min)\n",
      "2020-09-13 21:25:18 [scrapy.extensions.logstats] INFO: Crawled 551882 pages (at 815 pages/min), scraped 0 items (at 0 items/min)\n",
      "2020-09-13 21:26:18 [scrapy.extensions.logstats] INFO: Crawled 552458 pages (at 576 pages/min), scraped 0 items (at 0 items/min)\n"
     ]
    },
    {
     "name": "stdout",
     "output_type": "stream",
     "text": [
      "Saving as : /home/alex/chat_bot_wrike/wrike-bot/help_good_for_wrike/360009515793-Can-you-set-the-Folder-info-panel-to-open-by-default-.csv {'https://help.wrike.com/hc/en-us/articles/209603389-Folder-and-Project-Info-Panels'}\n",
      "/home/alex/chat_bot_wrike/wrike-bot/help_good_for_wrike/360009515793-Can-you-set-the-Folder-info-panel-to-open-by-default-.csv\n",
      "Saving as : /home/alex/chat_bot_wrike/wrike-bot/help_good_for_wrike/360009515793-Can-you-set-the-Folder-info-panel-to-open-by-default-?page=1.csv {'https://help.wrike.com/hc/en-us/articles/209603389-Folder-and-Project-Info-Panels'}\n",
      "/home/alex/chat_bot_wrike/wrike-bot/help_good_for_wrike/360009515793-Can-you-set-the-Folder-info-panel-to-open-by-default-?page=1.csv\n"
     ]
    },
    {
     "name": "stderr",
     "output_type": "stream",
     "text": [
      "2020-09-13 21:27:21 [scrapy.extensions.logstats] INFO: Crawled 552921 pages (at 463 pages/min), scraped 0 items (at 0 items/min)\n",
      "2020-09-13 21:28:18 [scrapy.extensions.logstats] INFO: Crawled 553605 pages (at 684 pages/min), scraped 0 items (at 0 items/min)\n",
      "2020-09-13 21:29:18 [scrapy.extensions.logstats] INFO: Crawled 554405 pages (at 800 pages/min), scraped 0 items (at 0 items/min)\n",
      "2020-09-13 21:30:18 [scrapy.extensions.logstats] INFO: Crawled 555169 pages (at 764 pages/min), scraped 0 items (at 0 items/min)\n",
      "2020-09-13 21:31:18 [scrapy.extensions.logstats] INFO: Crawled 555929 pages (at 760 pages/min), scraped 0 items (at 0 items/min)\n",
      "2020-09-13 21:32:18 [scrapy.extensions.logstats] INFO: Crawled 556507 pages (at 578 pages/min), scraped 0 items (at 0 items/min)\n",
      "2020-09-13 21:33:18 [scrapy.extensions.logstats] INFO: Crawled 557106 pages (at 599 pages/min), scraped 0 items (at 0 items/min)\n",
      "2020-09-13 21:34:18 [scrapy.extensions.logstats] INFO: Crawled 557461 pages (at 355 pages/min), scraped 0 items (at 0 items/min)\n",
      "2020-09-13 21:35:18 [scrapy.extensions.logstats] INFO: Crawled 558274 pages (at 813 pages/min), scraped 0 items (at 0 items/min)\n",
      "2020-09-13 21:36:18 [scrapy.extensions.logstats] INFO: Crawled 559098 pages (at 824 pages/min), scraped 0 items (at 0 items/min)\n",
      "2020-09-13 21:37:18 [scrapy.extensions.logstats] INFO: Crawled 559730 pages (at 632 pages/min), scraped 0 items (at 0 items/min)\n",
      "2020-09-13 21:38:18 [scrapy.extensions.logstats] INFO: Crawled 560171 pages (at 441 pages/min), scraped 0 items (at 0 items/min)\n",
      "2020-09-13 21:39:18 [scrapy.extensions.logstats] INFO: Crawled 560535 pages (at 364 pages/min), scraped 0 items (at 0 items/min)\n"
     ]
    },
    {
     "name": "stdout",
     "output_type": "stream",
     "text": [
      "Saving as : /home/alex/chat_bot_wrike/wrike-bot/help_good_for_wrike/search?category=200942115&filter_by=knowledge_base&query=create+a+folder&utf8=%E2%9C%93.csv {'https://help.wrike.com/hc/en-us/sections/201893035-Tasks', 'https://help.wrike.com/hc/en-us/sections/201834259-Advanced', 'https://help.wrike.com/hc/en-us/sections/201834249-Folders-and-Projects', 'https://help.wrike.com/hc/en-us/sections/201893045-Organization', 'https://help.wrike.com/hc/en-us/categories/200942115-Tasks-Folders-Projects-and-Spaces', 'https://help.wrike.com/hc/en-us/sections/201893055-Communication'}\n",
      "/home/alex/chat_bot_wrike/wrike-bot/help_good_for_wrike/search?category=200942115&filter_by=knowledge_base&query=create+a+folder&utf8=%E2%9C%93.csv\n",
      "Saving as : /home/alex/chat_bot_wrike/wrike-bot/help_good_for_wrike/search?filter_by=knowledge_base&page=4&query=create+a+folder&utf8=%E2%9C%93.csv {'https://help.wrike.com/hc/en-us/sections/202366329-Proofing-and-Approvals', 'https://help.wrike.com/hc/en-us/categories/200942135-Monitoring-Panel', 'https://help.wrike.com/hc/en-us/sections/201834259-Advanced', 'https://help.wrike.com/hc/en-us/sections/201828169-Personal-User-License', 'https://help.wrike.com/hc/en-us/categories/200942115-Tasks-Folders-Projects-and-Spaces', 'https://help.wrike.com/hc/en-us/categories/200942175-Security', 'https://help.wrike.com/hc/en-us/sections/201893115-Mobile', 'https://help.wrike.com/hc/en-us/sections/360003697334-Spaces', 'https://help.wrike.com/hc/en-us/sections/360004618833-Wrike-Resource', 'https://help.wrike.com/hc/en-us/sections/201834349-More-Security-Features', 'https://help.wrike.com/hc/en-us/sections/201834249-Folders-and-Projects', 'https://help.wrike.com/hc/en-us/categories/200942165-Apps', 'https://help.wrike.com/hc/en-us/categories/200939185-Integrations', 'https://help.wrike.com/hc/en-us/sections/202365749-Wrike-GitHub-and-JIRA-Syncs', 'https://help.wrike.com/hc/en-us/categories/200913179-Account-Management'}\n",
      "/home/alex/chat_bot_wrike/wrike-bot/help_good_for_wrike/search?filter_by=knowledge_base&page=4&query=create+a+folder&utf8=%E2%9C%93.csv\n",
      "Saving as : /home/alex/chat_bot_wrike/wrike-bot/help_good_for_wrike/search?category=200939185&filter_by=knowledge_base&query=create+a+folder&utf8=%E2%9C%93.csv {'https://help.wrike.com/hc/en-us/sections/202423365-Everything-Else', 'https://help.wrike.com/hc/en-us/sections/115001422569-Email', 'https://help.wrike.com/hc/en-us/sections/360001968634-Import-and-Export', 'https://help.wrike.com/hc/en-us/sections/202365769-Add-ins-and-Extensions', 'https://help.wrike.com/hc/en-us/categories/200939185-Integrations', 'https://help.wrike.com/hc/en-us/sections/202365749-Wrike-GitHub-and-JIRA-Syncs'}\n",
      "/home/alex/chat_bot_wrike/wrike-bot/help_good_for_wrike/search?category=200939185&filter_by=knowledge_base&query=create+a+folder&utf8=%E2%9C%93.csv\n",
      "Saving as : /home/alex/chat_bot_wrike/wrike-bot/help_good_for_wrike/search?category=200913179&filter_by=knowledge_base&query=create+a+folder&utf8=%E2%9C%93.csv {'https://help.wrike.com/hc/en-us/sections/201825379-General-Account-Management', 'https://help.wrike.com/hc/en-us/sections/360000935413-Troubleshooting', 'https://help.wrike.com/hc/en-us/sections/201828169-Personal-User-License', 'https://help.wrike.com/hc/en-us/categories/200913179-Account-Management'}\n",
      "/home/alex/chat_bot_wrike/wrike-bot/help_good_for_wrike/search?category=200913179&filter_by=knowledge_base&query=create+a+folder&utf8=%E2%9C%93.csv\n",
      "Saving as : /home/alex/chat_bot_wrike/wrike-bot/help_good_for_wrike/search?category=200942125&filter_by=knowledge_base&query=create+a+folder&utf8=%E2%9C%93.csv {'https://help.wrike.com/hc/en-us/sections/201834319-All-the-Other-Views', 'https://help.wrike.com/hc/en-us/sections/201834309-Table-View', 'https://help.wrike.com/hc/en-us/categories/200942125-Work-Views', 'https://help.wrike.com/hc/en-us/sections/201834289-Timelog-View', 'https://help.wrike.com/hc/en-us/sections/201893075-Gantt-Chart'}\n",
      "/home/alex/chat_bot_wrike/wrike-bot/help_good_for_wrike/search?category=200942125&filter_by=knowledge_base&query=create+a+folder&utf8=%E2%9C%93.csv\n",
      "Saving as : /home/alex/chat_bot_wrike/wrike-bot/help_good_for_wrike/search?category=201188645&filter_by=knowledge_base&query=create+a+folder&utf8=%E2%9C%93.csv {'https://help.wrike.com/hc/en-us/categories/201188645-Getting-Started'}\n",
      "/home/alex/chat_bot_wrike/wrike-bot/help_good_for_wrike/search?category=201188645&filter_by=knowledge_base&query=create+a+folder&utf8=%E2%9C%93.csv\n",
      "Saving as : /home/alex/chat_bot_wrike/wrike-bot/help_good_for_wrike/search?category=200942135&filter_by=knowledge_base&query=create+a+folder&utf8=%E2%9C%93.csv {'https://help.wrike.com/hc/en-us/categories/200942135-Monitoring-Panel', 'https://help.wrike.com/hc/en-us/sections/201893085-Reporting', 'https://help.wrike.com/hc/en-us/sections/360004618833-Wrike-Resource', 'https://help.wrike.com/hc/en-us/sections/360000568453-Calendars', 'https://help.wrike.com/hc/en-us/sections/201834329-More-Monitoring-Panel-Views', 'https://help.wrike.com/hc/en-us/sections/360005750733-Wrike-Analyze'}\n",
      "/home/alex/chat_bot_wrike/wrike-bot/help_good_for_wrike/search?category=200942135&filter_by=knowledge_base&query=create+a+folder&utf8=%E2%9C%93.csv\n",
      "Saving as : /home/alex/chat_bot_wrike/wrike-bot/help_good_for_wrike/search?filter_by=knowledge_base&page=3&query=create+a+folder&utf8=%E2%9C%93.csv {'https://help.wrike.com/hc/en-us/sections/201893035-Tasks', 'https://help.wrike.com/hc/en-us/sections/202423365-Everything-Else', 'https://help.wrike.com/hc/en-us/sections/360001968634-Import-and-Export', 'https://help.wrike.com/hc/en-us/categories/200942115-Tasks-Folders-Projects-and-Spaces', 'https://help.wrike.com/hc/en-us/categories/200939185-Integrations', 'https://help.wrike.com/hc/en-us/sections/202365749-Wrike-GitHub-and-JIRA-Syncs'}\n"
     ]
    },
    {
     "name": "stderr",
     "output_type": "stream",
     "text": [
      "2020-09-13 21:40:29 [scrapy.extensions.logstats] INFO: Crawled 560720 pages (at 185 pages/min), scraped 0 items (at 0 items/min)\n"
     ]
    },
    {
     "name": "stdout",
     "output_type": "stream",
     "text": [
      "/home/alex/chat_bot_wrike/wrike-bot/help_good_for_wrike/search?filter_by=knowledge_base&page=3&query=create+a+folder&utf8=%E2%9C%93.csv\n",
      "Saving as : /home/alex/chat_bot_wrike/wrike-bot/help_good_for_wrike/search?filter_by=knowledge_base&page=5&query=create+a+folder&utf8=%E2%9C%93.csv {'https://help.wrike.com/hc/en-us/sections/201893035-Tasks', 'https://help.wrike.com/hc/en-us/sections/201834259-Advanced', 'https://help.wrike.com/hc/en-us/categories/200942135-Monitoring-Panel', 'https://help.wrike.com/hc/en-us/sections/201893115-Mobile', 'https://help.wrike.com/hc/en-us/sections/201834339-Licenses', 'https://help.wrike.com/hc/en-us/sections/360004618833-Wrike-Resource', 'https://help.wrike.com/hc/en-us/sections/360000935413-Troubleshooting', 'https://help.wrike.com/hc/en-us/categories/200942165-Apps', 'https://help.wrike.com/hc/en-us/sections/201834249-Folders-and-Projects', 'https://help.wrike.com/hc/en-us/categories/200942155-Types-of-Accounts-and-Licenses', 'https://help.wrike.com/hc/en-us/categories/200942115-Tasks-Folders-Projects-and-Spaces', 'https://help.wrike.com/hc/en-us/categories/200913179-Account-Management'}\n",
      "/home/alex/chat_bot_wrike/wrike-bot/help_good_for_wrike/search?filter_by=knowledge_base&page=5&query=create+a+folder&utf8=%E2%9C%93.csv\n",
      "Saving as : /home/alex/chat_bot_wrike/wrike-bot/help_good_for_wrike/search?page=1&query=create+a+folder&utf8=%E2%9C%93.csv {'https://help.wrike.com/hc/en-us/sections/201834249-Folders-and-Projects', 'https://help.wrike.com/hc/en-us/sections/201834259-Advanced', 'https://help.wrike.com/hc/en-us/categories/200942115-Tasks-Folders-Projects-and-Spaces'}\n",
      "/home/alex/chat_bot_wrike/wrike-bot/help_good_for_wrike/search?page=1&query=create+a+folder&utf8=%E2%9C%93.csv\n",
      "Saving as : /home/alex/chat_bot_wrike/wrike-bot/help_good_for_wrike/search?page=99&query=create+a+folder&utf8=%E2%9C%93.csv {'https://help.wrike.com/hc/en-us/sections/201893055-Communication', 'https://help.wrike.com/hc/en-us/categories/200942115-Tasks-Folders-Projects-and-Spaces'}\n",
      "/home/alex/chat_bot_wrike/wrike-bot/help_good_for_wrike/search?page=99&query=create+a+folder&utf8=%E2%9C%93.csv\n",
      "Saving as : /home/alex/chat_bot_wrike/wrike-bot/help_good_for_wrike/search?page=95&query=create+a+folder&utf8=%E2%9C%93.csv {'https://help.wrike.com/hc/en-us/categories/200942135-Monitoring-Panel', 'https://help.wrike.com/hc/en-us/sections/115001422569-Email', 'https://help.wrike.com/hc/en-us/categories/200942155-Types-of-Accounts-and-Licenses', 'https://help.wrike.com/hc/en-us/sections/201893095-Accounts', 'https://help.wrike.com/hc/en-us/sections/360005750733-Wrike-Analyze', 'https://help.wrike.com/hc/en-us/categories/200939185-Integrations'}\n",
      "/home/alex/chat_bot_wrike/wrike-bot/help_good_for_wrike/search?page=95&query=create+a+folder&utf8=%E2%9C%93.csv\n",
      "Saving as : /home/alex/chat_bot_wrike/wrike-bot/help_good_for_wrike/search?page=96&query=create+a+folder&utf8=%E2%9C%93.csv {'https://help.wrike.com/hc/en-us/categories/200942155-Types-of-Accounts-and-Licenses', 'https://help.wrike.com/hc/en-us/sections/201893095-Accounts'}\n",
      "/home/alex/chat_bot_wrike/wrike-bot/help_good_for_wrike/search?page=96&query=create+a+folder&utf8=%E2%9C%93.csv\n",
      "Saving as : /home/alex/chat_bot_wrike/wrike-bot/help_good_for_wrike/search?page=97&query=create+a+folder&utf8=%E2%9C%93.csv {'https://help.wrike.com/hc/en-us/sections/201893035-Tasks', 'https://help.wrike.com/hc/en-us/categories/200942115-Tasks-Folders-Projects-and-Spaces'}\n",
      "/home/alex/chat_bot_wrike/wrike-bot/help_good_for_wrike/search?page=97&query=create+a+folder&utf8=%E2%9C%93.csv\n",
      "Saving as : /home/alex/chat_bot_wrike/wrike-bot/help_good_for_wrike/search?page=98&query=create+a+folder&utf8=%E2%9C%93.csv {'https://help.wrike.com/hc/en-us/sections/201834339-Licenses', 'https://help.wrike.com/hc/en-us/sections/201834349-More-Security-Features', 'https://help.wrike.com/hc/en-us/categories/200942155-Types-of-Accounts-and-Licenses', 'https://help.wrike.com/hc/en-us/categories/200942175-Security'}\n",
      "/home/alex/chat_bot_wrike/wrike-bot/help_good_for_wrike/search?page=98&query=create+a+folder&utf8=%E2%9C%93.csv\n",
      "Saving as : /home/alex/chat_bot_wrike/wrike-bot/help_good_for_wrike/search?page=9&query=create+a+folder&utf8=%E2%9C%93.csv {'https://help.wrike.com/hc/en-us/categories/200942125-Work-Views', 'https://help.wrike.com/hc/en-us/sections/201893075-Gantt-Chart'}\n",
      "/home/alex/chat_bot_wrike/wrike-bot/help_good_for_wrike/search?page=9&query=create+a+folder&utf8=%E2%9C%93.csv\n",
      "Saving as : /home/alex/chat_bot_wrike/wrike-bot/help_good_for_wrike/search?page=10&query=create+a+folder&utf8=%E2%9C%93.csv {'https://help.wrike.com/hc/en-us/sections/201834249-Folders-and-Projects', 'https://help.wrike.com/hc/en-us/sections/201893035-Tasks', 'https://help.wrike.com/hc/en-us/categories/200942115-Tasks-Folders-Projects-and-Spaces'}\n",
      "/home/alex/chat_bot_wrike/wrike-bot/help_good_for_wrike/search?page=10&query=create+a+folder&utf8=%E2%9C%93.csv\n",
      "Saving as : /home/alex/chat_bot_wrike/wrike-bot/help_good_for_wrike/search?page=11&query=create+a+folder&utf8=%E2%9C%93.csv {'https://help.wrike.com/hc/en-us/categories/200939185-Integrations', 'https://help.wrike.com/hc/en-us/sections/202365749-Wrike-GitHub-and-JIRA-Syncs'}\n"
     ]
    },
    {
     "name": "stderr",
     "output_type": "stream",
     "text": [
      "2020-09-13 21:41:23 [scrapy.extensions.logstats] INFO: Crawled 560819 pages (at 99 pages/min), scraped 0 items (at 0 items/min)\n"
     ]
    },
    {
     "name": "stdout",
     "output_type": "stream",
     "text": [
      "/home/alex/chat_bot_wrike/wrike-bot/help_good_for_wrike/search?page=11&query=create+a+folder&utf8=%E2%9C%93.csv\n",
      "Saving as : /home/alex/chat_bot_wrike/wrike-bot/help_good_for_wrike/209605589?input_string=daily+to+do.csv {'https://help.wrike.com/hc/en-us/articles/209603389-Folder-and-Project-Info-Panels', 'https://help.wrike.com/hc/en-us/articles/210324405-Email-Notifications#edit', 'https://help.wrike.com/hc/en-us/articles/209603949-Business', 'https://help.wrike.com/hc/en-us/articles/210322785-Custom-Statuses-and-Workflows', 'https://help.wrike.com/hc/en-us/articles/209603969-Enterprise'}\n",
      "/home/alex/chat_bot_wrike/wrike-bot/help_good_for_wrike/209605589?input_string=daily+to+do.csv\n"
     ]
    },
    {
     "name": "stderr",
     "output_type": "stream",
     "text": [
      "2020-09-13 21:42:18 [scrapy.extensions.logstats] INFO: Crawled 561192 pages (at 373 pages/min), scraped 0 items (at 0 items/min)\n",
      "2020-09-13 21:43:18 [scrapy.extensions.logstats] INFO: Crawled 561593 pages (at 401 pages/min), scraped 0 items (at 0 items/min)\n",
      "2020-09-13 21:44:18 [scrapy.extensions.logstats] INFO: Crawled 562138 pages (at 545 pages/min), scraped 0 items (at 0 items/min)\n",
      "2020-09-13 21:45:18 [scrapy.extensions.logstats] INFO: Crawled 562903 pages (at 765 pages/min), scraped 0 items (at 0 items/min)\n",
      "2020-09-13 21:46:18 [scrapy.extensions.logstats] INFO: Crawled 563633 pages (at 730 pages/min), scraped 0 items (at 0 items/min)\n",
      "2020-09-13 21:47:18 [scrapy.extensions.logstats] INFO: Crawled 564406 pages (at 773 pages/min), scraped 0 items (at 0 items/min)\n",
      "2020-09-13 21:48:18 [scrapy.extensions.logstats] INFO: Crawled 565169 pages (at 763 pages/min), scraped 0 items (at 0 items/min)\n",
      "2020-09-13 21:49:18 [scrapy.extensions.logstats] INFO: Crawled 565732 pages (at 563 pages/min), scraped 0 items (at 0 items/min)\n",
      "2020-09-13 21:50:18 [scrapy.extensions.logstats] INFO: Crawled 566441 pages (at 709 pages/min), scraped 0 items (at 0 items/min)\n",
      "2020-09-13 21:51:18 [scrapy.extensions.logstats] INFO: Crawled 567258 pages (at 817 pages/min), scraped 0 items (at 0 items/min)\n",
      "2020-09-13 21:52:18 [scrapy.extensions.logstats] INFO: Crawled 568057 pages (at 799 pages/min), scraped 0 items (at 0 items/min)\n",
      "2020-09-13 21:53:18 [scrapy.extensions.logstats] INFO: Crawled 568532 pages (at 475 pages/min), scraped 0 items (at 0 items/min)\n",
      "2020-09-13 21:54:18 [scrapy.extensions.logstats] INFO: Crawled 569268 pages (at 736 pages/min), scraped 0 items (at 0 items/min)\n",
      "2020-09-13 21:55:18 [scrapy.extensions.logstats] INFO: Crawled 569826 pages (at 558 pages/min), scraped 0 items (at 0 items/min)\n",
      "2020-09-13 21:56:18 [scrapy.extensions.logstats] INFO: Crawled 570614 pages (at 788 pages/min), scraped 0 items (at 0 items/min)\n",
      "2020-09-13 21:57:18 [scrapy.extensions.logstats] INFO: Crawled 571235 pages (at 621 pages/min), scraped 0 items (at 0 items/min)\n",
      "2020-09-13 21:58:18 [scrapy.extensions.logstats] INFO: Crawled 572021 pages (at 786 pages/min), scraped 0 items (at 0 items/min)\n",
      "2020-09-13 21:59:18 [scrapy.extensions.logstats] INFO: Crawled 572810 pages (at 789 pages/min), scraped 0 items (at 0 items/min)\n",
      "2020-09-13 22:00:18 [scrapy.extensions.logstats] INFO: Crawled 573634 pages (at 824 pages/min), scraped 0 items (at 0 items/min)\n",
      "2020-09-13 22:01:18 [scrapy.extensions.logstats] INFO: Crawled 574452 pages (at 818 pages/min), scraped 0 items (at 0 items/min)\n",
      "2020-09-13 22:02:18 [scrapy.extensions.logstats] INFO: Crawled 575252 pages (at 800 pages/min), scraped 0 items (at 0 items/min)\n",
      "2020-09-13 22:03:18 [scrapy.extensions.logstats] INFO: Crawled 576037 pages (at 785 pages/min), scraped 0 items (at 0 items/min)\n",
      "2020-09-13 22:04:18 [scrapy.extensions.logstats] INFO: Crawled 576767 pages (at 730 pages/min), scraped 0 items (at 0 items/min)\n",
      "2020-09-13 22:05:18 [scrapy.extensions.logstats] INFO: Crawled 577265 pages (at 498 pages/min), scraped 0 items (at 0 items/min)\n",
      "2020-09-13 22:06:18 [scrapy.extensions.logstats] INFO: Crawled 577825 pages (at 560 pages/min), scraped 0 items (at 0 items/min)\n",
      "2020-09-13 22:07:18 [scrapy.extensions.logstats] INFO: Crawled 578431 pages (at 606 pages/min), scraped 0 items (at 0 items/min)\n",
      "2020-09-13 22:08:18 [scrapy.extensions.logstats] INFO: Crawled 579051 pages (at 620 pages/min), scraped 0 items (at 0 items/min)\n",
      "2020-09-13 22:09:18 [scrapy.extensions.logstats] INFO: Crawled 579646 pages (at 595 pages/min), scraped 0 items (at 0 items/min)\n",
      "2020-09-13 22:10:18 [scrapy.extensions.logstats] INFO: Crawled 580325 pages (at 679 pages/min), scraped 0 items (at 0 items/min)\n",
      "2020-09-13 22:11:18 [scrapy.extensions.logstats] INFO: Crawled 580745 pages (at 420 pages/min), scraped 0 items (at 0 items/min)\n",
      "2020-09-13 22:12:18 [scrapy.extensions.logstats] INFO: Crawled 581281 pages (at 536 pages/min), scraped 0 items (at 0 items/min)\n",
      "2020-09-13 22:13:26 [scrapy.extensions.logstats] INFO: Crawled 581884 pages (at 603 pages/min), scraped 0 items (at 0 items/min)\n",
      "2020-09-13 22:14:18 [scrapy.extensions.logstats] INFO: Crawled 582412 pages (at 528 pages/min), scraped 0 items (at 0 items/min)\n",
      "2020-09-13 22:15:18 [scrapy.extensions.logstats] INFO: Crawled 583160 pages (at 748 pages/min), scraped 0 items (at 0 items/min)\n",
      "2020-09-13 22:16:18 [scrapy.extensions.logstats] INFO: Crawled 583815 pages (at 655 pages/min), scraped 0 items (at 0 items/min)\n",
      "2020-09-13 22:17:18 [scrapy.extensions.logstats] INFO: Crawled 584291 pages (at 476 pages/min), scraped 0 items (at 0 items/min)\n",
      "2020-09-13 22:18:18 [scrapy.extensions.logstats] INFO: Crawled 584984 pages (at 693 pages/min), scraped 0 items (at 0 items/min)\n",
      "2020-09-13 22:19:18 [scrapy.extensions.logstats] INFO: Crawled 585730 pages (at 746 pages/min), scraped 0 items (at 0 items/min)\n",
      "2020-09-13 22:20:18 [scrapy.extensions.logstats] INFO: Crawled 586318 pages (at 588 pages/min), scraped 0 items (at 0 items/min)\n",
      "2020-09-13 22:21:18 [scrapy.extensions.logstats] INFO: Crawled 587028 pages (at 710 pages/min), scraped 0 items (at 0 items/min)\n",
      "2020-09-13 22:22:18 [scrapy.extensions.logstats] INFO: Crawled 587680 pages (at 652 pages/min), scraped 0 items (at 0 items/min)\n",
      "2020-09-13 22:23:18 [scrapy.extensions.logstats] INFO: Crawled 588421 pages (at 741 pages/min), scraped 0 items (at 0 items/min)\n",
      "2020-09-13 22:24:18 [scrapy.extensions.logstats] INFO: Crawled 588902 pages (at 481 pages/min), scraped 0 items (at 0 items/min)\n",
      "2020-09-13 22:25:18 [scrapy.extensions.logstats] INFO: Crawled 589505 pages (at 603 pages/min), scraped 0 items (at 0 items/min)\n",
      "2020-09-13 22:26:18 [scrapy.extensions.logstats] INFO: Crawled 590177 pages (at 672 pages/min), scraped 0 items (at 0 items/min)\n",
      "2020-09-13 22:27:18 [scrapy.extensions.logstats] INFO: Crawled 590803 pages (at 626 pages/min), scraped 0 items (at 0 items/min)\n",
      "2020-09-13 22:28:18 [scrapy.extensions.logstats] INFO: Crawled 591442 pages (at 639 pages/min), scraped 0 items (at 0 items/min)\n",
      "2020-09-13 22:29:18 [scrapy.extensions.logstats] INFO: Crawled 592150 pages (at 708 pages/min), scraped 0 items (at 0 items/min)\n",
      "2020-09-13 22:30:18 [scrapy.extensions.logstats] INFO: Crawled 592748 pages (at 598 pages/min), scraped 0 items (at 0 items/min)\n",
      "2020-09-13 22:31:18 [scrapy.extensions.logstats] INFO: Crawled 593134 pages (at 386 pages/min), scraped 0 items (at 0 items/min)\n",
      "2020-09-13 22:32:18 [scrapy.extensions.logstats] INFO: Crawled 593627 pages (at 493 pages/min), scraped 0 items (at 0 items/min)\n",
      "2020-09-13 22:33:18 [scrapy.extensions.logstats] INFO: Crawled 593954 pages (at 327 pages/min), scraped 0 items (at 0 items/min)\n",
      "2020-09-13 22:34:19 [scrapy.extensions.logstats] INFO: Crawled 594256 pages (at 302 pages/min), scraped 0 items (at 0 items/min)\n",
      "2020-09-13 22:35:18 [scrapy.extensions.logstats] INFO: Crawled 594633 pages (at 377 pages/min), scraped 0 items (at 0 items/min)\n",
      "2020-09-13 22:36:18 [scrapy.extensions.logstats] INFO: Crawled 595339 pages (at 706 pages/min), scraped 0 items (at 0 items/min)\n",
      "2020-09-13 22:37:18 [scrapy.extensions.logstats] INFO: Crawled 596055 pages (at 716 pages/min), scraped 0 items (at 0 items/min)\n",
      "2020-09-13 22:38:18 [scrapy.extensions.logstats] INFO: Crawled 596814 pages (at 759 pages/min), scraped 0 items (at 0 items/min)\n",
      "2020-09-13 22:39:18 [scrapy.extensions.logstats] INFO: Crawled 597575 pages (at 761 pages/min), scraped 0 items (at 0 items/min)\n",
      "2020-09-13 22:40:18 [scrapy.extensions.logstats] INFO: Crawled 598348 pages (at 773 pages/min), scraped 0 items (at 0 items/min)\n",
      "2020-09-13 22:41:18 [scrapy.extensions.logstats] INFO: Crawled 598953 pages (at 605 pages/min), scraped 0 items (at 0 items/min)\n",
      "2020-09-13 22:42:18 [scrapy.extensions.logstats] INFO: Crawled 599612 pages (at 659 pages/min), scraped 0 items (at 0 items/min)\n",
      "2020-09-13 22:43:31 [scrapy.extensions.logstats] INFO: Crawled 600396 pages (at 784 pages/min), scraped 0 items (at 0 items/min)\n",
      "2020-09-13 22:44:18 [scrapy.extensions.logstats] INFO: Crawled 600958 pages (at 562 pages/min), scraped 0 items (at 0 items/min)\n",
      "2020-09-13 22:45:18 [scrapy.extensions.logstats] INFO: Crawled 601496 pages (at 538 pages/min), scraped 0 items (at 0 items/min)\n"
     ]
    },
    {
     "name": "stderr",
     "output_type": "stream",
     "text": [
      "2020-09-13 22:46:18 [scrapy.extensions.logstats] INFO: Crawled 601998 pages (at 502 pages/min), scraped 0 items (at 0 items/min)\n",
      "2020-09-13 22:47:18 [scrapy.extensions.logstats] INFO: Crawled 602422 pages (at 424 pages/min), scraped 0 items (at 0 items/min)\n",
      "2020-09-13 22:48:18 [scrapy.extensions.logstats] INFO: Crawled 603127 pages (at 705 pages/min), scraped 0 items (at 0 items/min)\n",
      "2020-09-13 22:49:18 [scrapy.extensions.logstats] INFO: Crawled 603717 pages (at 590 pages/min), scraped 0 items (at 0 items/min)\n",
      "2020-09-13 22:50:18 [scrapy.extensions.logstats] INFO: Crawled 604243 pages (at 526 pages/min), scraped 0 items (at 0 items/min)\n",
      "2020-09-13 22:51:18 [scrapy.extensions.logstats] INFO: Crawled 604994 pages (at 751 pages/min), scraped 0 items (at 0 items/min)\n",
      "2020-09-13 22:52:18 [scrapy.extensions.logstats] INFO: Crawled 605558 pages (at 564 pages/min), scraped 0 items (at 0 items/min)\n",
      "2020-09-13 22:53:18 [scrapy.extensions.logstats] INFO: Crawled 606016 pages (at 458 pages/min), scraped 0 items (at 0 items/min)\n",
      "2020-09-13 22:54:18 [scrapy.extensions.logstats] INFO: Crawled 606447 pages (at 431 pages/min), scraped 0 items (at 0 items/min)\n",
      "2020-09-13 22:55:18 [scrapy.extensions.logstats] INFO: Crawled 606823 pages (at 376 pages/min), scraped 0 items (at 0 items/min)\n",
      "2020-09-13 22:56:18 [scrapy.extensions.logstats] INFO: Crawled 607250 pages (at 427 pages/min), scraped 0 items (at 0 items/min)\n"
     ]
    },
    {
     "name": "stdout",
     "output_type": "stream",
     "text": [
      "Saving as : /home/alex/chat_bot_wrike/wrike-bot/help_good_for_wrike/115004740045-Create-a-Request-Form-for-Admins.csv {'https://help.wrike.com/hc/en-us/articles/115003404345-Dynamic-Request-Forms#conditional', 'https://help.wrike.com/hc/en-us/articles/115003404345-Dynamic-Request-Forms', 'https://help.wrike.com/hc/en-us/articles/209603489-Projects#attributes', 'https://help.wrike.com/hc/en-us/articles/209603169-Request-Forms-Submit-a-Form-', 'https://help.wrike.com/hc/en-us/articles/209603049-Custom-Fields'}\n",
      "/home/alex/chat_bot_wrike/wrike-bot/help_good_for_wrike/115004740045-Create-a-Request-Form-for-Admins.csv\n"
     ]
    },
    {
     "name": "stderr",
     "output_type": "stream",
     "text": [
      "2020-09-13 22:57:18 [scrapy.extensions.logstats] INFO: Crawled 607659 pages (at 409 pages/min), scraped 0 items (at 0 items/min)\n",
      "2020-09-13 22:58:18 [scrapy.extensions.logstats] INFO: Crawled 608031 pages (at 372 pages/min), scraped 0 items (at 0 items/min)\n",
      "2020-09-13 22:59:18 [scrapy.extensions.logstats] INFO: Crawled 608508 pages (at 477 pages/min), scraped 0 items (at 0 items/min)\n",
      "2020-09-13 23:00:18 [scrapy.extensions.logstats] INFO: Crawled 608982 pages (at 474 pages/min), scraped 0 items (at 0 items/min)\n",
      "2020-09-13 23:01:20 [scrapy.extensions.logstats] INFO: Crawled 609466 pages (at 484 pages/min), scraped 0 items (at 0 items/min)\n",
      "2020-09-13 23:02:18 [scrapy.extensions.logstats] INFO: Crawled 609762 pages (at 296 pages/min), scraped 0 items (at 0 items/min)\n",
      "2020-09-13 23:03:18 [scrapy.extensions.logstats] INFO: Crawled 610149 pages (at 387 pages/min), scraped 0 items (at 0 items/min)\n",
      "2020-09-13 23:04:18 [scrapy.extensions.logstats] INFO: Crawled 610599 pages (at 450 pages/min), scraped 0 items (at 0 items/min)\n",
      "2020-09-13 23:05:18 [scrapy.extensions.logstats] INFO: Crawled 610975 pages (at 376 pages/min), scraped 0 items (at 0 items/min)\n",
      "2020-09-13 23:06:18 [scrapy.extensions.logstats] INFO: Crawled 611273 pages (at 298 pages/min), scraped 0 items (at 0 items/min)\n",
      "2020-09-13 23:07:19 [scrapy.extensions.logstats] INFO: Crawled 611599 pages (at 326 pages/min), scraped 0 items (at 0 items/min)\n"
     ]
    },
    {
     "name": "stdout",
     "output_type": "stream",
     "text": [
      "Saving as : /home/alex/chat_bot_wrike/wrike-bot/help_good_for_wrike/115003694345-How-do-I-delete-my-account-.csv {'https://help.wrike.com/hc/en-us/articles/212813185-Close-an-Account'}\n",
      "/home/alex/chat_bot_wrike/wrike-bot/help_good_for_wrike/115003694345-How-do-I-delete-my-account-.csv\n",
      "Saving as : /home/alex/chat_bot_wrike/wrike-bot/help_good_for_wrike/115003694345-How-do-I-delete-my-account-?page=1.csv {'https://help.wrike.com/hc/en-us/articles/212813185-Close-an-Account'}\n",
      "/home/alex/chat_bot_wrike/wrike-bot/help_good_for_wrike/115003694345-How-do-I-delete-my-account-?page=1.csv\n",
      "Saving as : /home/alex/chat_bot_wrike/wrike-bot/help_good_for_wrike/360010469394-task-view-changed.csv {'https://help.wrike.com/hc/en-us/articles/210323225-Task-View'}\n",
      "/home/alex/chat_bot_wrike/wrike-bot/help_good_for_wrike/360010469394-task-view-changed.csv\n"
     ]
    },
    {
     "name": "stderr",
     "output_type": "stream",
     "text": [
      "2020-09-13 23:08:18 [scrapy.extensions.logstats] INFO: Crawled 611900 pages (at 301 pages/min), scraped 0 items (at 0 items/min)\n"
     ]
    },
    {
     "name": "stdout",
     "output_type": "stream",
     "text": [
      "Saving as : /home/alex/chat_bot_wrike/wrike-bot/help_good_for_wrike/209603309-.csv {'https://help.wrike.com/hc/en-us/articles/210322865-Document-Editor', 'https://help.wrike.com/hc/en-us/articles/360045949974-Wrike-Proof-for-HTML', 'https://help.wrike.com/hc/en-us/articles/360010504274-Wrike-Publish-MediaValet-Integration', 'https://help.wrike.com/hc/en-us/articles/209603589-Access-Roles', 'https://help.wrike.com/hc/en-us/articles/360024472793-Wrike-Publish-Bynder-Integration'}\n",
      "/home/alex/chat_bot_wrike/wrike-bot/help_good_for_wrike/209603309-.csv\n"
     ]
    },
    {
     "name": "stderr",
     "output_type": "stream",
     "text": [
      "2020-09-13 23:09:18 [scrapy.extensions.logstats] INFO: Crawled 612204 pages (at 304 pages/min), scraped 0 items (at 0 items/min)\n",
      "2020-09-13 23:10:20 [scrapy.extensions.logstats] INFO: Crawled 612492 pages (at 288 pages/min), scraped 0 items (at 0 items/min)\n"
     ]
    },
    {
     "name": "stdout",
     "output_type": "stream",
     "text": [
      "Saving as : /home/alex/chat_bot_wrike/wrike-bot/help_good_for_wrike/360002559193-Tasks-on-Calendars.csv {'https://help.wrike.com/hc/en-us/articles/360001737133-Calendars'}\n",
      "/home/alex/chat_bot_wrike/wrike-bot/help_good_for_wrike/360002559193-Tasks-on-Calendars.csv\n"
     ]
    },
    {
     "name": "stderr",
     "output_type": "stream",
     "text": [
      "2020-09-13 23:11:18 [scrapy.extensions.logstats] INFO: Crawled 612849 pages (at 357 pages/min), scraped 0 items (at 0 items/min)\n",
      "2020-09-13 23:12:19 [scrapy.extensions.logstats] INFO: Crawled 613100 pages (at 251 pages/min), scraped 0 items (at 0 items/min)\n",
      "2020-09-13 23:13:18 [scrapy.extensions.logstats] INFO: Crawled 613300 pages (at 200 pages/min), scraped 0 items (at 0 items/min)\n",
      "2020-09-13 23:14:18 [scrapy.extensions.logstats] INFO: Crawled 613616 pages (at 316 pages/min), scraped 0 items (at 0 items/min)\n",
      "2020-09-13 23:15:18 [scrapy.extensions.logstats] INFO: Crawled 613924 pages (at 308 pages/min), scraped 0 items (at 0 items/min)\n",
      "2020-09-13 23:16:18 [scrapy.extensions.logstats] INFO: Crawled 614431 pages (at 507 pages/min), scraped 0 items (at 0 items/min)\n",
      "2020-09-13 23:17:19 [scrapy.extensions.logstats] INFO: Crawled 614947 pages (at 516 pages/min), scraped 0 items (at 0 items/min)\n"
     ]
    },
    {
     "name": "stdout",
     "output_type": "stream",
     "text": [
      "Saving as : /home/alex/chat_bot_wrike/wrike-bot/help_good_for_wrike/115002205649-Tracking-Time-in-Tasks-Assigned-to-Multiple-Projects?page=1.csv {'https://help.wrike.com/hc/en-us/articles/209603369-Tags'}\n",
      "/home/alex/chat_bot_wrike/wrike-bot/help_good_for_wrike/115002205649-Tracking-Time-in-Tasks-Assigned-to-Multiple-Projects?page=1.csv\n"
     ]
    },
    {
     "name": "stderr",
     "output_type": "stream",
     "text": [
      "2020-09-13 23:18:18 [scrapy.extensions.logstats] INFO: Crawled 615226 pages (at 279 pages/min), scraped 0 items (at 0 items/min)\n",
      "2020-09-13 23:19:18 [scrapy.extensions.logstats] INFO: Crawled 615664 pages (at 438 pages/min), scraped 0 items (at 0 items/min)\n",
      "2020-09-13 23:20:18 [scrapy.extensions.logstats] INFO: Crawled 616030 pages (at 366 pages/min), scraped 0 items (at 0 items/min)\n",
      "2020-09-13 23:21:18 [scrapy.extensions.logstats] INFO: Crawled 616397 pages (at 367 pages/min), scraped 0 items (at 0 items/min)\n",
      "2020-09-13 23:22:18 [scrapy.extensions.logstats] INFO: Crawled 616784 pages (at 387 pages/min), scraped 0 items (at 0 items/min)\n",
      "2020-09-13 23:23:18 [scrapy.extensions.logstats] INFO: Crawled 617117 pages (at 333 pages/min), scraped 0 items (at 0 items/min)\n",
      "2020-09-13 23:24:18 [scrapy.extensions.logstats] INFO: Crawled 617575 pages (at 458 pages/min), scraped 0 items (at 0 items/min)\n",
      "2020-09-13 23:25:18 [scrapy.extensions.logstats] INFO: Crawled 618007 pages (at 432 pages/min), scraped 0 items (at 0 items/min)\n",
      "2020-09-13 23:26:18 [scrapy.extensions.logstats] INFO: Crawled 618385 pages (at 378 pages/min), scraped 0 items (at 0 items/min)\n"
     ]
    },
    {
     "name": "stdout",
     "output_type": "stream",
     "text": [
      "Saving as : /home/alex/chat_bot_wrike/wrike-bot/help_good_for_wrike/115001913225-Not-all-assigned-tasks-showing-under-my-work-?page=1.csv {'https://help.wrike.com/hc/en-us/articles/209603889-Mass-Editing'}\n",
      "/home/alex/chat_bot_wrike/wrike-bot/help_good_for_wrike/115001913225-Not-all-assigned-tasks-showing-under-my-work-?page=1.csv\n"
     ]
    },
    {
     "name": "stderr",
     "output_type": "stream",
     "text": [
      "2020-09-13 23:27:18 [scrapy.extensions.logstats] INFO: Crawled 618755 pages (at 370 pages/min), scraped 0 items (at 0 items/min)\n",
      "2020-09-13 23:27:55 [scrapy.core.scraper] ERROR: Spider error processing <GET https://help.wrike.com/hc/en-us/articles/360010428113?utm_source=bl&utm_medium=email&utm_campaign=project-progress-for-android&utm_content=feature&utm_link_position=6_835499113411579600&mkt_tok=eyJpIjoiWlROa05tTmpZek0yWWpkaCIsInQiOiI4eHJmc09uNE9uTXRmYklBN2xiTndUWU02ZFlOQVNCOGlOdE1sUmtlVngybm1wTGRJaWZGS1MyNmltN1J0K1R1Y2gyeXFcL1I3K2pOTG9ob2NSXC9SSWlaM1hKc0Q0NEdwN3pRVlRlRUFKOHhHRk16YkZlenRDXC9cL014SWk3aXlTY0cifQ%3D%3D> (referer: https://help.wrike.com/hc/en-us/community/posts/360018794453-Project-Progress-for-Android-looks-great-when-will-it-be-avaliable-in-browser-view-)\n",
      "Traceback (most recent call last):\n",
      "  File \"/home/alex/anaconda3/lib/python3.7/site-packages/scrapy/utils/defer.py\", line 120, in iter_errback\n",
      "    yield next(it)\n",
      "  File \"/home/alex/anaconda3/lib/python3.7/site-packages/scrapy/utils/python.py\", line 347, in __next__\n",
      "    return next(self.data)\n",
      "  File \"/home/alex/anaconda3/lib/python3.7/site-packages/scrapy/utils/python.py\", line 347, in __next__\n",
      "    return next(self.data)\n",
      "  File \"/home/alex/anaconda3/lib/python3.7/site-packages/scrapy/core/spidermw.py\", line 64, in _evaluate_iterable\n",
      "    for r in iterable:\n",
      "  File \"/home/alex/anaconda3/lib/python3.7/site-packages/scrapy/spidermiddlewares/offsite.py\", line 29, in process_spider_output\n",
      "    for x in result:\n",
      "  File \"/home/alex/anaconda3/lib/python3.7/site-packages/scrapy/core/spidermw.py\", line 64, in _evaluate_iterable\n",
      "    for r in iterable:\n",
      "  File \"/home/alex/anaconda3/lib/python3.7/site-packages/scrapy/spidermiddlewares/referer.py\", line 340, in <genexpr>\n",
      "    return (_set_referer(r) for r in result or ())\n",
      "  File \"/home/alex/anaconda3/lib/python3.7/site-packages/scrapy/core/spidermw.py\", line 64, in _evaluate_iterable\n",
      "    for r in iterable:\n",
      "  File \"/home/alex/anaconda3/lib/python3.7/site-packages/scrapy/spidermiddlewares/urllength.py\", line 37, in <genexpr>\n",
      "    return (r for r in result or () if _filter(r))\n",
      "  File \"/home/alex/anaconda3/lib/python3.7/site-packages/scrapy/core/spidermw.py\", line 64, in _evaluate_iterable\n",
      "    for r in iterable:\n",
      "  File \"/home/alex/anaconda3/lib/python3.7/site-packages/scrapy/spidermiddlewares/depth.py\", line 58, in <genexpr>\n",
      "    return (r for r in result or () if _filter(r))\n",
      "  File \"/home/alex/anaconda3/lib/python3.7/site-packages/scrapy/core/spidermw.py\", line 64, in _evaluate_iterable\n",
      "    for r in iterable:\n",
      "  File \"/home/alex/anaconda3/lib/python3.7/site-packages/scrapy/spiders/crawl.py\", line 125, in _parse_response\n",
      "    cb_res = callback(response, **cb_kwargs) or ()\n",
      "  File \"<ipython-input-12-448d7b4b2073>\", line 46, in parse_item\n",
      "    with open(filename_pure, 'w') as f_pure, open(filename, 'w') as f:\n",
      "OSError: [Errno 36] File name too long: '/home/alex/chat_bot_wrike/wrike-bot/help_good_for_wrike_pure/360010428113?utm_source=bl&utm_medium=email&utm_campaign=project-progress-for-android&utm_content=feature&utm_link_position=6_835499113411579600&mkt_tok=eyJpIjoiWlROa05tTmpZek0yWWpkaCIsInQiOiI4eHJmc09uNE9uTXRmYklBN2xiTndUWU02ZFlOQVNCOGlOdE1sUmtlVngybm1wTGRJaWZGS1MyNmltN1J0K1R1Y2gyeXFcL1I3K2pOTG9ob2NSXC9SSWlaM1hKc0Q0NEdwN3pRVlRlRUFKOHhHRk16YkZlenRDXC9cL014SWk3aXlTY0cifQ%3D%3D.csv'\n"
     ]
    },
    {
     "name": "stdout",
     "output_type": "stream",
     "text": [
      "Saving as : /home/alex/chat_bot_wrike/wrike-bot/help_good_for_wrike/360010428113?utm_source=bl&utm_medium=email&utm_campaign=project-progress-for-android&utm_content=feature&utm_link_position=6_835499113411579600&mkt_tok=eyJpIjoiWlROa05tTmpZek0yWWpkaCIsInQiOiI4eHJmc09uNE9uTXRmYklBN2xiTndUWU02ZFlOQVNCOGlOdE1sUmtlVngybm1wTGRJaWZGS1MyNmltN1J0K1R1Y2gyeXFcL1I3K2pOTG9ob2NSXC9SSWlaM1hKc0Q0NEdwN3pRVlRlRUFKOHhHRk16YkZlenRDXC9cL014SWk3aXlTY0cifQ%3D%3D.csv {'https://help.wrike.com/hc/en-us/articles/210324605-Android-App#progress', 'https://help.wrike.com/hc/en-us/articles/209603589-Access-Roles', 'https://help.wrike.com/hc/en-us/articles/210323585-Gantt-Chart-Overview-', 'https://help.wrike.com/hc/en-us/articles/209603949-Business', 'https://help.wrike.com/hc/en-us/articles/209603389-Folder-and-Project-Info-Panels#open', 'https://help.wrike.com/hc/en-us/articles/360010428113-Project-Progress#progress', 'https://help.wrike.com/hc/en-us/articles/115004231249-Wrike-for-Windows-and-Mac-Desktop-App-', 'https://help.wrike.com/hc/en-us/articles/115004120265-Dashboard-Widgets#available'}\n"
     ]
    },
    {
     "name": "stderr",
     "output_type": "stream",
     "text": [
      "2020-09-13 23:28:18 [scrapy.extensions.logstats] INFO: Crawled 619074 pages (at 319 pages/min), scraped 0 items (at 0 items/min)\n"
     ]
    },
    {
     "name": "stdout",
     "output_type": "stream",
     "text": [
      "Saving as : /home/alex/chat_bot_wrike/wrike-bot/help_good_for_wrike/360015893413-How-do-you-turn-Desktop-Notifications-off-?page=1.csv {'https://help.wrike.com/hc/en-us/articles/209605509-Desktop-Notifications'}\n",
      "/home/alex/chat_bot_wrike/wrike-bot/help_good_for_wrike/360015893413-How-do-you-turn-Desktop-Notifications-off-?page=1.csv\n",
      "Saving as : /home/alex/chat_bot_wrike/wrike-bot/help_good_for_wrike/360014626593-Tasks-on-Shared-Google-Calendars-?page=1.csv {'https://help.wrike.com/hc/en-us/articles/214413365-Google-Calendar-Integration'}\n",
      "/home/alex/chat_bot_wrike/wrike-bot/help_good_for_wrike/360014626593-Tasks-on-Shared-Google-Calendars-?page=1.csv\n",
      "Saving as : /home/alex/chat_bot_wrike/wrike-bot/help_good_for_wrike/360012112833-Timelog-Categories?page=1.csv {'https://help.wrike.com/hc/en-us/articles/115005858769-Categories-for-Time-Tracking#add'}\n",
      "/home/alex/chat_bot_wrike/wrike-bot/help_good_for_wrike/360012112833-Timelog-Categories?page=1.csv\n",
      "Saving as : /home/alex/chat_bot_wrike/wrike-bot/help_good_for_wrike/360011025954-Files-from-cloud-storage-apps?page=1.csv {'https://help.wrike.com/hc/en-us/articles/210324105-Integrated-Cloud-Storage-Apps'}\n",
      "/home/alex/chat_bot_wrike/wrike-bot/help_good_for_wrike/360011025954-Files-from-cloud-storage-apps?page=1.csv\n"
     ]
    },
    {
     "name": "stderr",
     "output_type": "stream",
     "text": [
      "2020-09-13 23:29:18 [scrapy.extensions.logstats] INFO: Crawled 619380 pages (at 306 pages/min), scraped 0 items (at 0 items/min)\n",
      "2020-09-13 23:30:18 [scrapy.extensions.logstats] INFO: Crawled 619791 pages (at 411 pages/min), scraped 0 items (at 0 items/min)\n",
      "2020-09-13 23:31:19 [scrapy.extensions.logstats] INFO: Crawled 620153 pages (at 362 pages/min), scraped 0 items (at 0 items/min)\n",
      "2020-09-13 23:32:18 [scrapy.extensions.logstats] INFO: Crawled 620327 pages (at 174 pages/min), scraped 0 items (at 0 items/min)\n",
      "2020-09-13 23:33:18 [scrapy.extensions.logstats] INFO: Crawled 620729 pages (at 402 pages/min), scraped 0 items (at 0 items/min)\n",
      "2020-09-13 23:34:18 [scrapy.extensions.logstats] INFO: Crawled 621167 pages (at 438 pages/min), scraped 0 items (at 0 items/min)\n",
      "2020-09-13 23:35:18 [scrapy.extensions.logstats] INFO: Crawled 621476 pages (at 309 pages/min), scraped 0 items (at 0 items/min)\n",
      "2020-09-13 23:36:18 [scrapy.extensions.logstats] INFO: Crawled 621873 pages (at 397 pages/min), scraped 0 items (at 0 items/min)\n",
      "2020-09-13 23:37:18 [scrapy.extensions.logstats] INFO: Crawled 622208 pages (at 335 pages/min), scraped 0 items (at 0 items/min)\n",
      "2020-09-13 23:38:18 [scrapy.extensions.logstats] INFO: Crawled 622502 pages (at 294 pages/min), scraped 0 items (at 0 items/min)\n",
      "2020-09-13 23:39:18 [scrapy.extensions.logstats] INFO: Crawled 622968 pages (at 466 pages/min), scraped 0 items (at 0 items/min)\n",
      "2020-09-13 23:40:18 [scrapy.extensions.logstats] INFO: Crawled 623467 pages (at 499 pages/min), scraped 0 items (at 0 items/min)\n",
      "2020-09-13 23:41:18 [scrapy.extensions.logstats] INFO: Crawled 623910 pages (at 443 pages/min), scraped 0 items (at 0 items/min)\n",
      "2020-09-13 23:42:18 [scrapy.extensions.logstats] INFO: Crawled 624358 pages (at 448 pages/min), scraped 0 items (at 0 items/min)\n",
      "2020-09-13 23:43:18 [scrapy.extensions.logstats] INFO: Crawled 624864 pages (at 506 pages/min), scraped 0 items (at 0 items/min)\n",
      "2020-09-13 23:44:18 [scrapy.extensions.logstats] INFO: Crawled 625368 pages (at 504 pages/min), scraped 0 items (at 0 items/min)\n",
      "2020-09-13 23:45:18 [scrapy.extensions.logstats] INFO: Crawled 625811 pages (at 443 pages/min), scraped 0 items (at 0 items/min)\n",
      "2020-09-13 23:46:18 [scrapy.extensions.logstats] INFO: Crawled 626190 pages (at 379 pages/min), scraped 0 items (at 0 items/min)\n",
      "2020-09-13 23:47:18 [scrapy.extensions.logstats] INFO: Crawled 626540 pages (at 350 pages/min), scraped 0 items (at 0 items/min)\n",
      "2020-09-13 23:48:18 [scrapy.extensions.logstats] INFO: Crawled 626893 pages (at 353 pages/min), scraped 0 items (at 0 items/min)\n",
      "2020-09-13 23:49:18 [scrapy.extensions.logstats] INFO: Crawled 627360 pages (at 467 pages/min), scraped 0 items (at 0 items/min)\n",
      "2020-09-13 23:50:18 [scrapy.extensions.logstats] INFO: Crawled 627788 pages (at 428 pages/min), scraped 0 items (at 0 items/min)\n",
      "2020-09-13 23:51:18 [scrapy.extensions.logstats] INFO: Crawled 628221 pages (at 433 pages/min), scraped 0 items (at 0 items/min)\n",
      "2020-09-13 23:52:18 [scrapy.extensions.logstats] INFO: Crawled 628540 pages (at 319 pages/min), scraped 0 items (at 0 items/min)\n",
      "2020-09-13 23:53:19 [scrapy.extensions.logstats] INFO: Crawled 628905 pages (at 365 pages/min), scraped 0 items (at 0 items/min)\n",
      "2020-09-13 23:54:18 [scrapy.extensions.logstats] INFO: Crawled 629200 pages (at 295 pages/min), scraped 0 items (at 0 items/min)\n",
      "2020-09-13 23:55:18 [scrapy.extensions.logstats] INFO: Crawled 629536 pages (at 336 pages/min), scraped 0 items (at 0 items/min)\n",
      "2020-09-13 23:56:18 [scrapy.extensions.logstats] INFO: Crawled 629993 pages (at 457 pages/min), scraped 0 items (at 0 items/min)\n",
      "2020-09-13 23:57:18 [scrapy.extensions.logstats] INFO: Crawled 630409 pages (at 416 pages/min), scraped 0 items (at 0 items/min)\n",
      "2020-09-13 23:58:18 [scrapy.extensions.logstats] INFO: Crawled 630897 pages (at 488 pages/min), scraped 0 items (at 0 items/min)\n",
      "2020-09-13 23:59:18 [scrapy.extensions.logstats] INFO: Crawled 631390 pages (at 493 pages/min), scraped 0 items (at 0 items/min)\n",
      "2020-09-14 00:00:18 [scrapy.extensions.logstats] INFO: Crawled 631847 pages (at 457 pages/min), scraped 0 items (at 0 items/min)\n",
      "2020-09-14 00:01:18 [scrapy.extensions.logstats] INFO: Crawled 632229 pages (at 382 pages/min), scraped 0 items (at 0 items/min)\n",
      "2020-09-14 00:02:18 [scrapy.extensions.logstats] INFO: Crawled 632608 pages (at 379 pages/min), scraped 0 items (at 0 items/min)\n",
      "2020-09-14 00:03:18 [scrapy.extensions.logstats] INFO: Crawled 632946 pages (at 338 pages/min), scraped 0 items (at 0 items/min)\n",
      "2020-09-14 00:04:18 [scrapy.extensions.logstats] INFO: Crawled 633409 pages (at 463 pages/min), scraped 0 items (at 0 items/min)\n",
      "2020-09-14 00:05:30 [scrapy.extensions.logstats] INFO: Crawled 633819 pages (at 410 pages/min), scraped 0 items (at 0 items/min)\n",
      "2020-09-14 00:06:18 [scrapy.extensions.logstats] INFO: Crawled 634159 pages (at 340 pages/min), scraped 0 items (at 0 items/min)\n",
      "2020-09-14 00:07:18 [scrapy.extensions.logstats] INFO: Crawled 634605 pages (at 446 pages/min), scraped 0 items (at 0 items/min)\n",
      "2020-09-14 00:08:18 [scrapy.extensions.logstats] INFO: Crawled 635034 pages (at 429 pages/min), scraped 0 items (at 0 items/min)\n",
      "2020-09-14 00:09:19 [scrapy.extensions.logstats] INFO: Crawled 635505 pages (at 471 pages/min), scraped 0 items (at 0 items/min)\n",
      "2020-09-14 00:10:18 [scrapy.extensions.logstats] INFO: Crawled 635954 pages (at 449 pages/min), scraped 0 items (at 0 items/min)\n",
      "2020-09-14 00:11:18 [scrapy.extensions.logstats] INFO: Crawled 636400 pages (at 446 pages/min), scraped 0 items (at 0 items/min)\n",
      "2020-09-14 00:12:18 [scrapy.extensions.logstats] INFO: Crawled 636784 pages (at 384 pages/min), scraped 0 items (at 0 items/min)\n",
      "2020-09-14 00:13:18 [scrapy.extensions.logstats] INFO: Crawled 637311 pages (at 527 pages/min), scraped 0 items (at 0 items/min)\n",
      "2020-09-14 00:14:18 [scrapy.extensions.logstats] INFO: Crawled 637831 pages (at 520 pages/min), scraped 0 items (at 0 items/min)\n",
      "2020-09-14 00:15:18 [scrapy.extensions.logstats] INFO: Crawled 638338 pages (at 507 pages/min), scraped 0 items (at 0 items/min)\n",
      "2020-09-14 00:16:18 [scrapy.extensions.logstats] INFO: Crawled 638825 pages (at 487 pages/min), scraped 0 items (at 0 items/min)\n",
      "2020-09-14 00:17:18 [scrapy.extensions.logstats] INFO: Crawled 639337 pages (at 512 pages/min), scraped 0 items (at 0 items/min)\n",
      "2020-09-14 00:18:18 [scrapy.extensions.logstats] INFO: Crawled 639777 pages (at 440 pages/min), scraped 0 items (at 0 items/min)\n",
      "2020-09-14 00:19:18 [scrapy.extensions.logstats] INFO: Crawled 640449 pages (at 672 pages/min), scraped 0 items (at 0 items/min)\n",
      "2020-09-14 00:20:18 [scrapy.extensions.logstats] INFO: Crawled 641081 pages (at 632 pages/min), scraped 0 items (at 0 items/min)\n",
      "2020-09-14 00:21:18 [scrapy.extensions.logstats] INFO: Crawled 641688 pages (at 607 pages/min), scraped 0 items (at 0 items/min)\n",
      "2020-09-14 00:22:18 [scrapy.extensions.logstats] INFO: Crawled 642254 pages (at 566 pages/min), scraped 0 items (at 0 items/min)\n",
      "2020-09-14 00:23:18 [scrapy.extensions.logstats] INFO: Crawled 642865 pages (at 611 pages/min), scraped 0 items (at 0 items/min)\n",
      "2020-09-14 00:24:18 [scrapy.extensions.logstats] INFO: Crawled 643448 pages (at 583 pages/min), scraped 0 items (at 0 items/min)\n",
      "2020-09-14 00:25:18 [scrapy.extensions.logstats] INFO: Crawled 644036 pages (at 588 pages/min), scraped 0 items (at 0 items/min)\n",
      "2020-09-14 00:26:18 [scrapy.extensions.logstats] INFO: Crawled 644638 pages (at 602 pages/min), scraped 0 items (at 0 items/min)\n",
      "2020-09-14 00:27:18 [scrapy.extensions.logstats] INFO: Crawled 645309 pages (at 671 pages/min), scraped 0 items (at 0 items/min)\n",
      "2020-09-14 00:28:18 [scrapy.extensions.logstats] INFO: Crawled 645731 pages (at 422 pages/min), scraped 0 items (at 0 items/min)\n",
      "2020-09-14 00:29:18 [scrapy.extensions.logstats] INFO: Crawled 646361 pages (at 630 pages/min), scraped 0 items (at 0 items/min)\n",
      "2020-09-14 00:30:18 [scrapy.extensions.logstats] INFO: Crawled 646981 pages (at 620 pages/min), scraped 0 items (at 0 items/min)\n",
      "2020-09-14 00:31:18 [scrapy.extensions.logstats] INFO: Crawled 647605 pages (at 624 pages/min), scraped 0 items (at 0 items/min)\n",
      "2020-09-14 00:32:18 [scrapy.extensions.logstats] INFO: Crawled 648160 pages (at 555 pages/min), scraped 0 items (at 0 items/min)\n"
     ]
    },
    {
     "name": "stderr",
     "output_type": "stream",
     "text": [
      "2020-09-14 00:33:18 [scrapy.extensions.logstats] INFO: Crawled 648750 pages (at 590 pages/min), scraped 0 items (at 0 items/min)\n",
      "2020-09-14 00:34:18 [scrapy.extensions.logstats] INFO: Crawled 649251 pages (at 501 pages/min), scraped 0 items (at 0 items/min)\n",
      "2020-09-14 00:35:18 [scrapy.extensions.logstats] INFO: Crawled 649706 pages (at 455 pages/min), scraped 0 items (at 0 items/min)\n",
      "2020-09-14 00:36:18 [scrapy.extensions.logstats] INFO: Crawled 650045 pages (at 339 pages/min), scraped 0 items (at 0 items/min)\n",
      "2020-09-14 00:37:18 [scrapy.extensions.logstats] INFO: Crawled 650299 pages (at 254 pages/min), scraped 0 items (at 0 items/min)\n",
      "2020-09-14 00:38:19 [scrapy.extensions.logstats] INFO: Crawled 650659 pages (at 360 pages/min), scraped 0 items (at 0 items/min)\n",
      "2020-09-14 00:39:18 [scrapy.extensions.logstats] INFO: Crawled 651187 pages (at 528 pages/min), scraped 0 items (at 0 items/min)\n",
      "2020-09-14 00:40:18 [scrapy.extensions.logstats] INFO: Crawled 651630 pages (at 443 pages/min), scraped 0 items (at 0 items/min)\n",
      "2020-09-14 00:41:18 [scrapy.extensions.logstats] INFO: Crawled 651899 pages (at 269 pages/min), scraped 0 items (at 0 items/min)\n",
      "2020-09-14 00:42:18 [scrapy.extensions.logstats] INFO: Crawled 652450 pages (at 551 pages/min), scraped 0 items (at 0 items/min)\n",
      "2020-09-14 00:43:18 [scrapy.extensions.logstats] INFO: Crawled 653053 pages (at 603 pages/min), scraped 0 items (at 0 items/min)\n",
      "2020-09-14 00:44:18 [scrapy.extensions.logstats] INFO: Crawled 653625 pages (at 572 pages/min), scraped 0 items (at 0 items/min)\n",
      "2020-09-14 00:45:18 [scrapy.extensions.logstats] INFO: Crawled 654205 pages (at 580 pages/min), scraped 0 items (at 0 items/min)\n",
      "2020-09-14 00:46:18 [scrapy.extensions.logstats] INFO: Crawled 654755 pages (at 550 pages/min), scraped 0 items (at 0 items/min)\n",
      "2020-09-14 00:47:18 [scrapy.extensions.logstats] INFO: Crawled 655196 pages (at 441 pages/min), scraped 0 items (at 0 items/min)\n"
     ]
    },
    {
     "name": "stdout",
     "output_type": "stream",
     "text": [
      "Saving as : /home/alex/chat_bot_wrike/wrike-bot/help_good_for_wrike/115003792125-Disabling-user-account-.csv {'https://help.wrike.com/hc/en-us/articles/115004530005-Deactivate-Users'}\n",
      "/home/alex/chat_bot_wrike/wrike-bot/help_good_for_wrike/115003792125-Disabling-user-account-.csv\n",
      "Saving as : /home/alex/chat_bot_wrike/wrike-bot/help_good_for_wrike/115003792125-Disabling-user-account-?page=1.csv {'https://help.wrike.com/hc/en-us/articles/115004530005-Deactivate-Users'}\n",
      "/home/alex/chat_bot_wrike/wrike-bot/help_good_for_wrike/115003792125-Disabling-user-account-?page=1.csv\n"
     ]
    },
    {
     "name": "stderr",
     "output_type": "stream",
     "text": [
      "2020-09-14 00:48:19 [scrapy.extensions.logstats] INFO: Crawled 655621 pages (at 425 pages/min), scraped 0 items (at 0 items/min)\n",
      "2020-09-14 00:49:18 [scrapy.extensions.logstats] INFO: Crawled 656213 pages (at 592 pages/min), scraped 0 items (at 0 items/min)\n",
      "2020-09-14 00:50:19 [scrapy.extensions.logstats] INFO: Crawled 656610 pages (at 397 pages/min), scraped 0 items (at 0 items/min)\n",
      "2020-09-14 00:51:18 [scrapy.extensions.logstats] INFO: Crawled 656878 pages (at 268 pages/min), scraped 0 items (at 0 items/min)\n",
      "2020-09-14 00:52:19 [scrapy.extensions.logstats] INFO: Crawled 657309 pages (at 431 pages/min), scraped 0 items (at 0 items/min)\n",
      "2020-09-14 00:53:18 [scrapy.extensions.logstats] INFO: Crawled 657811 pages (at 502 pages/min), scraped 0 items (at 0 items/min)\n",
      "2020-09-14 00:54:18 [scrapy.extensions.logstats] INFO: Crawled 658315 pages (at 504 pages/min), scraped 0 items (at 0 items/min)\n",
      "2020-09-14 00:55:18 [scrapy.extensions.logstats] INFO: Crawled 658844 pages (at 529 pages/min), scraped 0 items (at 0 items/min)\n",
      "2020-09-14 00:56:20 [scrapy.extensions.logstats] INFO: Crawled 659206 pages (at 362 pages/min), scraped 0 items (at 0 items/min)\n",
      "2020-09-14 00:57:18 [scrapy.extensions.logstats] INFO: Crawled 659462 pages (at 256 pages/min), scraped 0 items (at 0 items/min)\n",
      "2020-09-14 00:58:18 [scrapy.extensions.logstats] INFO: Crawled 659854 pages (at 392 pages/min), scraped 0 items (at 0 items/min)\n",
      "2020-09-14 00:59:18 [scrapy.extensions.logstats] INFO: Crawled 660510 pages (at 656 pages/min), scraped 0 items (at 0 items/min)\n",
      "2020-09-14 01:00:18 [scrapy.extensions.logstats] INFO: Crawled 661177 pages (at 667 pages/min), scraped 0 items (at 0 items/min)\n",
      "2020-09-14 01:01:18 [scrapy.extensions.logstats] INFO: Crawled 661673 pages (at 496 pages/min), scraped 0 items (at 0 items/min)\n",
      "2020-09-14 01:02:19 [scrapy.extensions.logstats] INFO: Crawled 661986 pages (at 313 pages/min), scraped 0 items (at 0 items/min)\n",
      "2020-09-14 01:03:18 [scrapy.extensions.logstats] INFO: Crawled 662482 pages (at 496 pages/min), scraped 0 items (at 0 items/min)\n",
      "2020-09-14 01:04:18 [scrapy.extensions.logstats] INFO: Crawled 663110 pages (at 628 pages/min), scraped 0 items (at 0 items/min)\n",
      "2020-09-14 01:05:18 [scrapy.extensions.logstats] INFO: Crawled 663639 pages (at 529 pages/min), scraped 0 items (at 0 items/min)\n",
      "2020-09-14 01:06:18 [scrapy.extensions.logstats] INFO: Crawled 664105 pages (at 466 pages/min), scraped 0 items (at 0 items/min)\n",
      "2020-09-14 01:07:18 [scrapy.extensions.logstats] INFO: Crawled 664596 pages (at 491 pages/min), scraped 0 items (at 0 items/min)\n",
      "2020-09-14 01:08:19 [scrapy.extensions.logstats] INFO: Crawled 665219 pages (at 623 pages/min), scraped 0 items (at 0 items/min)\n",
      "2020-09-14 01:09:18 [scrapy.extensions.logstats] INFO: Crawled 665724 pages (at 505 pages/min), scraped 0 items (at 0 items/min)\n",
      "2020-09-14 01:10:18 [scrapy.extensions.logstats] INFO: Crawled 666226 pages (at 502 pages/min), scraped 0 items (at 0 items/min)\n",
      "2020-09-14 01:11:18 [scrapy.extensions.logstats] INFO: Crawled 666711 pages (at 485 pages/min), scraped 0 items (at 0 items/min)\n",
      "2020-09-14 01:12:18 [scrapy.extensions.logstats] INFO: Crawled 667246 pages (at 535 pages/min), scraped 0 items (at 0 items/min)\n",
      "2020-09-14 01:13:33 [scrapy.extensions.logstats] INFO: Crawled 667827 pages (at 581 pages/min), scraped 0 items (at 0 items/min)\n",
      "2020-09-14 01:14:18 [scrapy.extensions.logstats] INFO: Crawled 668240 pages (at 413 pages/min), scraped 0 items (at 0 items/min)\n",
      "2020-09-14 01:15:18 [scrapy.extensions.logstats] INFO: Crawled 668629 pages (at 389 pages/min), scraped 0 items (at 0 items/min)\n"
     ]
    },
    {
     "name": "stdout",
     "output_type": "stream",
     "text": [
      "Saving as : /home/alex/chat_bot_wrike/wrike-bot/help_good_for_wrike/360000865405-Auto-Follow-control-ability-to-remove-default-when-creating-tasks?page=1.csv {'https://help.wrike.com/hc/en-us/articles/209603889-Mass-Editing'}\n",
      "/home/alex/chat_bot_wrike/wrike-bot/help_good_for_wrike/360000865405-Auto-Follow-control-ability-to-remove-default-when-creating-tasks?page=1.csv\n"
     ]
    },
    {
     "name": "stderr",
     "output_type": "stream",
     "text": [
      "2020-09-14 01:16:19 [scrapy.extensions.logstats] INFO: Crawled 669112 pages (at 483 pages/min), scraped 0 items (at 0 items/min)\n",
      "2020-09-14 01:17:18 [scrapy.extensions.logstats] INFO: Crawled 669504 pages (at 392 pages/min), scraped 0 items (at 0 items/min)\n",
      "2020-09-14 01:18:19 [scrapy.extensions.logstats] INFO: Crawled 669861 pages (at 357 pages/min), scraped 0 items (at 0 items/min)\n",
      "2020-09-14 01:19:19 [scrapy.extensions.logstats] INFO: Crawled 670373 pages (at 512 pages/min), scraped 0 items (at 0 items/min)\n",
      "2020-09-14 01:20:18 [scrapy.extensions.logstats] INFO: Crawled 670863 pages (at 490 pages/min), scraped 0 items (at 0 items/min)\n",
      "2020-09-14 01:21:18 [scrapy.extensions.logstats] INFO: Crawled 671453 pages (at 590 pages/min), scraped 0 items (at 0 items/min)\n",
      "2020-09-14 01:22:20 [scrapy.extensions.logstats] INFO: Crawled 672056 pages (at 603 pages/min), scraped 0 items (at 0 items/min)\n",
      "2020-09-14 01:23:18 [scrapy.extensions.logstats] INFO: Crawled 672623 pages (at 567 pages/min), scraped 0 items (at 0 items/min)\n",
      "2020-09-14 01:24:18 [scrapy.extensions.logstats] INFO: Crawled 672959 pages (at 336 pages/min), scraped 0 items (at 0 items/min)\n",
      "2020-09-14 01:25:19 [scrapy.extensions.logstats] INFO: Crawled 673345 pages (at 386 pages/min), scraped 0 items (at 0 items/min)\n",
      "2020-09-14 01:26:18 [scrapy.extensions.logstats] INFO: Crawled 673717 pages (at 372 pages/min), scraped 0 items (at 0 items/min)\n",
      "2020-09-14 01:27:18 [scrapy.extensions.logstats] INFO: Crawled 674125 pages (at 408 pages/min), scraped 0 items (at 0 items/min)\n",
      "2020-09-14 01:28:18 [scrapy.extensions.logstats] INFO: Crawled 674713 pages (at 588 pages/min), scraped 0 items (at 0 items/min)\n",
      "2020-09-14 01:29:18 [scrapy.extensions.logstats] INFO: Crawled 675287 pages (at 574 pages/min), scraped 0 items (at 0 items/min)\n",
      "2020-09-14 01:30:19 [scrapy.extensions.logstats] INFO: Crawled 675814 pages (at 527 pages/min), scraped 0 items (at 0 items/min)\n"
     ]
    },
    {
     "name": "stdout",
     "output_type": "stream",
     "text": [
      "Saving as : /home/alex/chat_bot_wrike/wrike-bot/help_good_for_wrike/360020773173-Why-is-mention-no-longer-making-people-follow-a-task-.csv {'https://help.wrike.com/hc/en-us/articles/209603269--mentions'}\n",
      "/home/alex/chat_bot_wrike/wrike-bot/help_good_for_wrike/360020773173-Why-is-mention-no-longer-making-people-follow-a-task-.csv\n"
     ]
    },
    {
     "name": "stderr",
     "output_type": "stream",
     "text": [
      "2020-09-14 01:31:18 [scrapy.extensions.logstats] INFO: Crawled 676248 pages (at 434 pages/min), scraped 0 items (at 0 items/min)\n",
      "2020-09-14 01:32:18 [scrapy.extensions.logstats] INFO: Crawled 676716 pages (at 468 pages/min), scraped 0 items (at 0 items/min)\n",
      "2020-09-14 01:33:18 [scrapy.extensions.logstats] INFO: Crawled 677069 pages (at 353 pages/min), scraped 0 items (at 0 items/min)\n",
      "2020-09-14 01:34:19 [scrapy.extensions.logstats] INFO: Crawled 677637 pages (at 568 pages/min), scraped 0 items (at 0 items/min)\n",
      "2020-09-14 01:35:18 [scrapy.extensions.logstats] INFO: Crawled 678180 pages (at 543 pages/min), scraped 0 items (at 0 items/min)\n",
      "2020-09-14 01:36:18 [scrapy.extensions.logstats] INFO: Crawled 678586 pages (at 406 pages/min), scraped 0 items (at 0 items/min)\n"
     ]
    },
    {
     "name": "stdout",
     "output_type": "stream",
     "text": [
      "Saving as : /home/alex/chat_bot_wrike/wrike-bot/help_good_for_wrike/210323725-Adobe-Extension?flash_digest=692b58b32a8db19ec986d6f7634c1858eee7f739.csv {'https://help.wrike.com/hc/en-us/articles/209603949-Business', 'https://help.wrike.com/hc/en-us/articles/209603309-Attachments', 'https://help.wrike.com/hc/en-us/articles/210412605-Wrike-for-Marketers', 'https://help.wrike.com/hc/en-us/articles/360034765174-Personal-Space#todo', 'https://help.wrike.com/hc/en-us/articles/209603969-Enterprise'}\n",
      "/home/alex/chat_bot_wrike/wrike-bot/help_good_for_wrike/210323725-Adobe-Extension?flash_digest=692b58b32a8db19ec986d6f7634c1858eee7f739.csv\n"
     ]
    },
    {
     "name": "stderr",
     "output_type": "stream",
     "text": [
      "2020-09-14 01:37:19 [scrapy.extensions.logstats] INFO: Crawled 678902 pages (at 316 pages/min), scraped 0 items (at 0 items/min)\n",
      "2020-09-14 01:38:18 [scrapy.extensions.logstats] INFO: Crawled 679428 pages (at 526 pages/min), scraped 0 items (at 0 items/min)\n",
      "2020-09-14 01:39:18 [scrapy.extensions.logstats] INFO: Crawled 680037 pages (at 609 pages/min), scraped 0 items (at 0 items/min)\n",
      "2020-09-14 01:40:18 [scrapy.extensions.logstats] INFO: Crawled 680464 pages (at 427 pages/min), scraped 0 items (at 0 items/min)\n",
      "2020-09-14 01:41:18 [scrapy.extensions.logstats] INFO: Crawled 680907 pages (at 443 pages/min), scraped 0 items (at 0 items/min)\n",
      "2020-09-14 01:42:18 [scrapy.extensions.logstats] INFO: Crawled 681387 pages (at 480 pages/min), scraped 0 items (at 0 items/min)\n",
      "2020-09-14 01:43:18 [scrapy.extensions.logstats] INFO: Crawled 681773 pages (at 386 pages/min), scraped 0 items (at 0 items/min)\n",
      "2020-09-14 01:44:18 [scrapy.extensions.logstats] INFO: Crawled 682126 pages (at 353 pages/min), scraped 0 items (at 0 items/min)\n",
      "2020-09-14 01:45:20 [scrapy.extensions.logstats] INFO: Crawled 682730 pages (at 604 pages/min), scraped 0 items (at 0 items/min)\n",
      "2020-09-14 01:46:18 [scrapy.extensions.logstats] INFO: Crawled 683239 pages (at 509 pages/min), scraped 0 items (at 0 items/min)\n",
      "2020-09-14 01:47:19 [scrapy.extensions.logstats] INFO: Crawled 683672 pages (at 433 pages/min), scraped 0 items (at 0 items/min)\n"
     ]
    },
    {
     "name": "stdout",
     "output_type": "stream",
     "text": [
      "Saving as : /home/alex/chat_bot_wrike/wrike-bot/help_good_for_wrike/209605569.csv {'https://help.wrike.com/hc/en-us/articles/210324405-Email-Notifications', 'https://help.wrike.com/hc/en-us/articles/210324185-Email-Integration'}\n",
      "/home/alex/chat_bot_wrike/wrike-bot/help_good_for_wrike/209605569.csv\n",
      "Saving as : /home/alex/chat_bot_wrike/wrike-bot/help_good_for_wrike/209605489-.csv {'https://help.wrike.com/hc/en-us/articles/209603989-Types-of-Licenses', 'https://help.wrike.com/hc/en-us/articles/210323705-Inbox', 'https://help.wrike.com/hc/en-us/articles/209605449-Admin-Permissions#owner', 'https://help.wrike.com/hc/en-us/articles/209603849-Sharing-Tasks', 'https://help.wrike.com/hc/en-us/articles/115004562769-European-Data-Center', 'https://help.wrike.com/hc/en-us/articles/209605689-Purchase-a-Subscription', 'https://help.wrike.com/hc/en-us/articles/209605669-Manage-Subscriptions'}\n",
      "/home/alex/chat_bot_wrike/wrike-bot/help_good_for_wrike/209605489-.csv\n",
      "Saving as : /home/alex/chat_bot_wrike/wrike-bot/help_good_for_wrike/209605749-.csv {'https://help.wrike.com/hc/en-us/articles/209603969-Enterprise', 'https://help.wrike.com/hc/en-us/articles/210324565-SSO-with-SAML-User-Guide', 'https://help.wrike.com/hc/en-us/articles/210324445-2-Step-Verification', 'https://help.wrike.com/hc/en-us/articles/210324465-One-Time-Passwords#generate', 'https://help.wrike.com/hc/en-us/articles/209605449-Admin-Permissions', 'https://help.wrike.com/hc/en-us/articles/210324325-Controlled-Admin-Permissions'}\n",
      "/home/alex/chat_bot_wrike/wrike-bot/help_good_for_wrike/209605749-.csv\n"
     ]
    },
    {
     "name": "stderr",
     "output_type": "stream",
     "text": [
      "2020-09-14 01:48:18 [scrapy.extensions.logstats] INFO: Crawled 684092 pages (at 420 pages/min), scraped 0 items (at 0 items/min)\n",
      "2020-09-14 01:49:19 [scrapy.extensions.logstats] INFO: Crawled 684615 pages (at 523 pages/min), scraped 0 items (at 0 items/min)\n",
      "2020-09-14 01:50:19 [scrapy.extensions.logstats] INFO: Crawled 685060 pages (at 445 pages/min), scraped 0 items (at 0 items/min)\n"
     ]
    },
    {
     "name": "stdout",
     "output_type": "stream",
     "text": [
      "Saving as : /home/alex/chat_bot_wrike/wrike-bot/help_good_for_wrike/209605349-.csv {'https://help.wrike.com/hc/en-us/articles/360044211853-Project-Syncs-Add-On', 'https://help.wrike.com/hc/en-us/articles/209605189-Wrike-and-JIRA-Sync-Setup-Guide', 'https://help.wrike.com/hc/en-us/articles/209603369-Tags'}\n",
      "/home/alex/chat_bot_wrike/wrike-bot/help_good_for_wrike/209605349-.csv\n",
      "Saving as : /home/alex/chat_bot_wrike/wrike-bot/help_good_for_wrike/209606309-.csv {'https://help.wrike.com/hc/en-us/articles/115004551205-Log-In-as-Another-User', 'https://help.wrike.com/hc/en-us/articles/360023006313-Approvals', 'https://help.wrike.com/hc/en-us/articles/210324465-One-Time-Passwords#Disable', 'https://help.wrike.com/hc/en-us/articles/360009639733-Guest-Reviews', 'https://help.wrike.com/hc/en-us/articles/210324325-Controlled-Admin-Permissions', 'https://help.wrike.com/hc/en-us/articles/209602969-Sharing'}\n",
      "/home/alex/chat_bot_wrike/wrike-bot/help_good_for_wrike/209606309-.csv\n",
      "Saving as : /home/alex/chat_bot_wrike/wrike-bot/help_good_for_wrike/214413365-.csv {'https://help.wrike.com/hc/en-us/articles/210324205-G-Suite'}\n",
      "/home/alex/chat_bot_wrike/wrike-bot/help_good_for_wrike/214413365-.csv\n",
      "Saving as : /home/alex/chat_bot_wrike/wrike-bot/help_good_for_wrike/115003869085-.csv {'https://help.wrike.com/hc/en-us/articles/360034765174-Personal-Space#todo'}\n",
      "/home/alex/chat_bot_wrike/wrike-bot/help_good_for_wrike/115003869085-.csv\n"
     ]
    },
    {
     "name": "stderr",
     "output_type": "stream",
     "text": [
      "2020-09-14 01:51:18 [scrapy.extensions.logstats] INFO: Crawled 685362 pages (at 302 pages/min), scraped 0 items (at 0 items/min)\n",
      "2020-09-14 01:52:18 [scrapy.extensions.logstats] INFO: Crawled 686044 pages (at 682 pages/min), scraped 0 items (at 0 items/min)\n",
      "2020-09-14 01:53:18 [scrapy.extensions.logstats] INFO: Crawled 686538 pages (at 494 pages/min), scraped 0 items (at 0 items/min)\n",
      "2020-09-14 01:54:18 [scrapy.extensions.logstats] INFO: Crawled 687203 pages (at 665 pages/min), scraped 0 items (at 0 items/min)\n",
      "2020-09-14 01:55:18 [scrapy.extensions.logstats] INFO: Crawled 687862 pages (at 659 pages/min), scraped 0 items (at 0 items/min)\n",
      "2020-09-14 01:56:18 [scrapy.extensions.logstats] INFO: Crawled 688541 pages (at 679 pages/min), scraped 0 items (at 0 items/min)\n",
      "2020-09-14 01:57:18 [scrapy.extensions.logstats] INFO: Crawled 689245 pages (at 704 pages/min), scraped 0 items (at 0 items/min)\n",
      "2020-09-14 01:58:18 [scrapy.extensions.logstats] INFO: Crawled 689924 pages (at 679 pages/min), scraped 0 items (at 0 items/min)\n",
      "2020-09-14 01:59:18 [scrapy.extensions.logstats] INFO: Crawled 690607 pages (at 683 pages/min), scraped 0 items (at 0 items/min)\n",
      "2020-09-14 02:00:18 [scrapy.extensions.logstats] INFO: Crawled 691274 pages (at 667 pages/min), scraped 0 items (at 0 items/min)\n",
      "2020-09-14 02:01:18 [scrapy.extensions.logstats] INFO: Crawled 691978 pages (at 704 pages/min), scraped 0 items (at 0 items/min)\n",
      "2020-09-14 02:02:18 [scrapy.extensions.logstats] INFO: Crawled 692585 pages (at 607 pages/min), scraped 0 items (at 0 items/min)\n",
      "2020-09-14 02:03:18 [scrapy.extensions.logstats] INFO: Crawled 693234 pages (at 649 pages/min), scraped 0 items (at 0 items/min)\n",
      "2020-09-14 02:04:23 [scrapy.extensions.logstats] INFO: Crawled 693717 pages (at 483 pages/min), scraped 0 items (at 0 items/min)\n",
      "2020-09-14 02:05:18 [scrapy.extensions.logstats] INFO: Crawled 694341 pages (at 624 pages/min), scraped 0 items (at 0 items/min)\n",
      "2020-09-14 02:06:18 [scrapy.extensions.logstats] INFO: Crawled 694887 pages (at 546 pages/min), scraped 0 items (at 0 items/min)\n",
      "2020-09-14 02:07:18 [scrapy.extensions.logstats] INFO: Crawled 695449 pages (at 562 pages/min), scraped 0 items (at 0 items/min)\n",
      "2020-09-14 02:08:18 [scrapy.extensions.logstats] INFO: Crawled 696113 pages (at 664 pages/min), scraped 0 items (at 0 items/min)\n",
      "2020-09-14 02:09:18 [scrapy.extensions.logstats] INFO: Crawled 696720 pages (at 607 pages/min), scraped 0 items (at 0 items/min)\n",
      "2020-09-14 02:10:18 [scrapy.extensions.logstats] INFO: Crawled 697372 pages (at 652 pages/min), scraped 0 items (at 0 items/min)\n",
      "2020-09-14 02:11:18 [scrapy.extensions.logstats] INFO: Crawled 697964 pages (at 592 pages/min), scraped 0 items (at 0 items/min)\n",
      "2020-09-14 02:12:18 [scrapy.extensions.logstats] INFO: Crawled 698627 pages (at 663 pages/min), scraped 0 items (at 0 items/min)\n",
      "2020-09-14 02:13:18 [scrapy.extensions.logstats] INFO: Crawled 699243 pages (at 616 pages/min), scraped 0 items (at 0 items/min)\n",
      "2020-09-14 02:14:18 [scrapy.extensions.logstats] INFO: Crawled 699757 pages (at 514 pages/min), scraped 0 items (at 0 items/min)\n",
      "2020-09-14 02:15:18 [scrapy.extensions.logstats] INFO: Crawled 700352 pages (at 595 pages/min), scraped 0 items (at 0 items/min)\n",
      "2020-09-14 02:16:18 [scrapy.extensions.logstats] INFO: Crawled 700817 pages (at 465 pages/min), scraped 0 items (at 0 items/min)\n",
      "2020-09-14 02:17:18 [scrapy.extensions.logstats] INFO: Crawled 701381 pages (at 564 pages/min), scraped 0 items (at 0 items/min)\n",
      "2020-09-14 02:18:18 [scrapy.extensions.logstats] INFO: Crawled 701987 pages (at 606 pages/min), scraped 0 items (at 0 items/min)\n",
      "2020-09-14 02:19:18 [scrapy.extensions.logstats] INFO: Crawled 702492 pages (at 505 pages/min), scraped 0 items (at 0 items/min)\n",
      "2020-09-14 02:20:18 [scrapy.extensions.logstats] INFO: Crawled 703084 pages (at 592 pages/min), scraped 0 items (at 0 items/min)\n",
      "2020-09-14 02:21:18 [scrapy.extensions.logstats] INFO: Crawled 703666 pages (at 582 pages/min), scraped 0 items (at 0 items/min)\n",
      "2020-09-14 02:22:19 [scrapy.extensions.logstats] INFO: Crawled 704290 pages (at 624 pages/min), scraped 0 items (at 0 items/min)\n",
      "2020-09-14 02:23:18 [scrapy.extensions.logstats] INFO: Crawled 704787 pages (at 497 pages/min), scraped 0 items (at 0 items/min)\n",
      "2020-09-14 02:24:18 [scrapy.extensions.logstats] INFO: Crawled 705264 pages (at 477 pages/min), scraped 0 items (at 0 items/min)\n",
      "2020-09-14 02:25:18 [scrapy.extensions.logstats] INFO: Crawled 705725 pages (at 461 pages/min), scraped 0 items (at 0 items/min)\n",
      "2020-09-14 02:26:18 [scrapy.extensions.logstats] INFO: Crawled 706300 pages (at 575 pages/min), scraped 0 items (at 0 items/min)\n",
      "2020-09-14 02:27:18 [scrapy.extensions.logstats] INFO: Crawled 706986 pages (at 686 pages/min), scraped 0 items (at 0 items/min)\n",
      "2020-09-14 02:28:18 [scrapy.extensions.logstats] INFO: Crawled 707462 pages (at 476 pages/min), scraped 0 items (at 0 items/min)\n",
      "2020-09-14 02:29:18 [scrapy.extensions.logstats] INFO: Crawled 708067 pages (at 605 pages/min), scraped 0 items (at 0 items/min)\n",
      "2020-09-14 02:30:18 [scrapy.extensions.logstats] INFO: Crawled 708692 pages (at 625 pages/min), scraped 0 items (at 0 items/min)\n",
      "2020-09-14 02:31:18 [scrapy.extensions.logstats] INFO: Crawled 709254 pages (at 562 pages/min), scraped 0 items (at 0 items/min)\n",
      "2020-09-14 02:32:18 [scrapy.extensions.logstats] INFO: Crawled 709865 pages (at 611 pages/min), scraped 0 items (at 0 items/min)\n",
      "2020-09-14 02:33:18 [scrapy.extensions.logstats] INFO: Crawled 710526 pages (at 661 pages/min), scraped 0 items (at 0 items/min)\n",
      "2020-09-14 02:34:18 [scrapy.extensions.logstats] INFO: Crawled 711259 pages (at 733 pages/min), scraped 0 items (at 0 items/min)\n",
      "2020-09-14 02:35:18 [scrapy.extensions.logstats] INFO: Crawled 712051 pages (at 792 pages/min), scraped 0 items (at 0 items/min)\n",
      "2020-09-14 02:36:20 [scrapy.extensions.logstats] INFO: Crawled 712793 pages (at 742 pages/min), scraped 0 items (at 0 items/min)\n",
      "2020-09-14 02:37:18 [scrapy.extensions.logstats] INFO: Crawled 713350 pages (at 557 pages/min), scraped 0 items (at 0 items/min)\n",
      "2020-09-14 02:38:19 [scrapy.extensions.logstats] INFO: Crawled 714024 pages (at 674 pages/min), scraped 0 items (at 0 items/min)\n",
      "2020-09-14 02:39:18 [scrapy.extensions.logstats] INFO: Crawled 714536 pages (at 512 pages/min), scraped 0 items (at 0 items/min)\n",
      "2020-09-14 02:40:18 [scrapy.extensions.logstats] INFO: Crawled 715155 pages (at 619 pages/min), scraped 0 items (at 0 items/min)\n",
      "2020-09-14 02:41:18 [scrapy.extensions.logstats] INFO: Crawled 715801 pages (at 646 pages/min), scraped 0 items (at 0 items/min)\n",
      "2020-09-14 02:42:18 [scrapy.extensions.logstats] INFO: Crawled 716403 pages (at 602 pages/min), scraped 0 items (at 0 items/min)\n",
      "2020-09-14 02:43:19 [scrapy.extensions.logstats] INFO: Crawled 717014 pages (at 611 pages/min), scraped 0 items (at 0 items/min)\n",
      "2020-09-14 02:44:18 [scrapy.extensions.logstats] INFO: Crawled 717564 pages (at 550 pages/min), scraped 0 items (at 0 items/min)\n",
      "2020-09-14 02:45:18 [scrapy.extensions.logstats] INFO: Crawled 718225 pages (at 661 pages/min), scraped 0 items (at 0 items/min)\n",
      "2020-09-14 02:46:18 [scrapy.extensions.logstats] INFO: Crawled 718843 pages (at 618 pages/min), scraped 0 items (at 0 items/min)\n",
      "2020-09-14 02:47:18 [scrapy.extensions.logstats] INFO: Crawled 719479 pages (at 636 pages/min), scraped 0 items (at 0 items/min)\n",
      "2020-09-14 02:48:18 [scrapy.extensions.logstats] INFO: Crawled 720145 pages (at 666 pages/min), scraped 0 items (at 0 items/min)\n",
      "2020-09-14 02:49:18 [scrapy.extensions.logstats] INFO: Crawled 720675 pages (at 530 pages/min), scraped 0 items (at 0 items/min)\n",
      "2020-09-14 02:50:18 [scrapy.extensions.logstats] INFO: Crawled 720996 pages (at 321 pages/min), scraped 0 items (at 0 items/min)\n",
      "2020-09-14 02:51:19 [scrapy.extensions.logstats] INFO: Crawled 721528 pages (at 532 pages/min), scraped 0 items (at 0 items/min)\n",
      "2020-09-14 02:52:18 [scrapy.extensions.logstats] INFO: Crawled 722050 pages (at 522 pages/min), scraped 0 items (at 0 items/min)\n",
      "2020-09-14 02:53:18 [scrapy.extensions.logstats] INFO: Crawled 722608 pages (at 558 pages/min), scraped 0 items (at 0 items/min)\n",
      "2020-09-14 02:54:18 [scrapy.extensions.logstats] INFO: Crawled 723212 pages (at 604 pages/min), scraped 0 items (at 0 items/min)\n"
     ]
    },
    {
     "name": "stderr",
     "output_type": "stream",
     "text": [
      "2020-09-14 02:55:18 [scrapy.extensions.logstats] INFO: Crawled 723801 pages (at 589 pages/min), scraped 0 items (at 0 items/min)\n",
      "2020-09-14 02:56:18 [scrapy.extensions.logstats] INFO: Crawled 724367 pages (at 566 pages/min), scraped 0 items (at 0 items/min)\n",
      "2020-09-14 02:57:18 [scrapy.extensions.logstats] INFO: Crawled 724879 pages (at 512 pages/min), scraped 0 items (at 0 items/min)\n",
      "2020-09-14 02:58:18 [scrapy.extensions.logstats] INFO: Crawled 725483 pages (at 604 pages/min), scraped 0 items (at 0 items/min)\n",
      "2020-09-14 02:59:18 [scrapy.extensions.logstats] INFO: Crawled 726141 pages (at 658 pages/min), scraped 0 items (at 0 items/min)\n",
      "2020-09-14 03:00:18 [scrapy.extensions.logstats] INFO: Crawled 726834 pages (at 693 pages/min), scraped 0 items (at 0 items/min)\n",
      "2020-09-14 03:01:18 [scrapy.extensions.logstats] INFO: Crawled 727528 pages (at 694 pages/min), scraped 0 items (at 0 items/min)\n",
      "2020-09-14 03:02:18 [scrapy.extensions.logstats] INFO: Crawled 728076 pages (at 548 pages/min), scraped 0 items (at 0 items/min)\n",
      "2020-09-14 03:03:18 [scrapy.extensions.logstats] INFO: Crawled 728807 pages (at 731 pages/min), scraped 0 items (at 0 items/min)\n",
      "2020-09-14 03:04:18 [scrapy.extensions.logstats] INFO: Crawled 729483 pages (at 676 pages/min), scraped 0 items (at 0 items/min)\n",
      "2020-09-14 03:05:18 [scrapy.extensions.logstats] INFO: Crawled 730179 pages (at 696 pages/min), scraped 0 items (at 0 items/min)\n",
      "2020-09-14 03:06:18 [scrapy.extensions.logstats] INFO: Crawled 730886 pages (at 707 pages/min), scraped 0 items (at 0 items/min)\n",
      "2020-09-14 03:07:18 [scrapy.extensions.logstats] INFO: Crawled 731541 pages (at 655 pages/min), scraped 0 items (at 0 items/min)\n",
      "2020-09-14 03:08:18 [scrapy.extensions.logstats] INFO: Crawled 732155 pages (at 614 pages/min), scraped 0 items (at 0 items/min)\n",
      "2020-09-14 03:09:18 [scrapy.extensions.logstats] INFO: Crawled 732808 pages (at 653 pages/min), scraped 0 items (at 0 items/min)\n",
      "2020-09-14 03:10:18 [scrapy.extensions.logstats] INFO: Crawled 733481 pages (at 673 pages/min), scraped 0 items (at 0 items/min)\n",
      "2020-09-14 03:11:18 [scrapy.extensions.logstats] INFO: Crawled 734170 pages (at 689 pages/min), scraped 0 items (at 0 items/min)\n",
      "2020-09-14 03:12:18 [scrapy.extensions.logstats] INFO: Crawled 734870 pages (at 700 pages/min), scraped 0 items (at 0 items/min)\n",
      "2020-09-14 03:13:18 [scrapy.extensions.logstats] INFO: Crawled 735581 pages (at 711 pages/min), scraped 0 items (at 0 items/min)\n",
      "2020-09-14 03:14:18 [scrapy.extensions.logstats] INFO: Crawled 736103 pages (at 522 pages/min), scraped 0 items (at 0 items/min)\n",
      "2020-09-14 03:15:18 [scrapy.extensions.logstats] INFO: Crawled 736801 pages (at 698 pages/min), scraped 0 items (at 0 items/min)\n",
      "2020-09-14 03:16:18 [scrapy.extensions.logstats] INFO: Crawled 737451 pages (at 650 pages/min), scraped 0 items (at 0 items/min)\n",
      "2020-09-14 03:17:18 [scrapy.extensions.logstats] INFO: Crawled 738107 pages (at 656 pages/min), scraped 0 items (at 0 items/min)\n",
      "2020-09-14 03:18:18 [scrapy.extensions.logstats] INFO: Crawled 738694 pages (at 587 pages/min), scraped 0 items (at 0 items/min)\n",
      "2020-09-14 03:19:18 [scrapy.extensions.logstats] INFO: Crawled 739322 pages (at 628 pages/min), scraped 0 items (at 0 items/min)\n",
      "2020-09-14 03:20:18 [scrapy.extensions.logstats] INFO: Crawled 740021 pages (at 699 pages/min), scraped 0 items (at 0 items/min)\n",
      "2020-09-14 03:21:18 [scrapy.extensions.logstats] INFO: Crawled 740694 pages (at 673 pages/min), scraped 0 items (at 0 items/min)\n",
      "2020-09-14 03:22:18 [scrapy.extensions.logstats] INFO: Crawled 741402 pages (at 708 pages/min), scraped 0 items (at 0 items/min)\n",
      "2020-09-14 03:23:18 [scrapy.extensions.logstats] INFO: Crawled 742119 pages (at 717 pages/min), scraped 0 items (at 0 items/min)\n",
      "2020-09-14 03:24:18 [scrapy.extensions.logstats] INFO: Crawled 742859 pages (at 740 pages/min), scraped 0 items (at 0 items/min)\n",
      "2020-09-14 03:25:18 [scrapy.extensions.logstats] INFO: Crawled 743593 pages (at 734 pages/min), scraped 0 items (at 0 items/min)\n",
      "2020-09-14 03:26:18 [scrapy.extensions.logstats] INFO: Crawled 744121 pages (at 528 pages/min), scraped 0 items (at 0 items/min)\n",
      "2020-09-14 03:27:18 [scrapy.extensions.logstats] INFO: Crawled 744863 pages (at 742 pages/min), scraped 0 items (at 0 items/min)\n",
      "2020-09-14 03:28:18 [scrapy.extensions.logstats] INFO: Crawled 745603 pages (at 740 pages/min), scraped 0 items (at 0 items/min)\n",
      "2020-09-14 03:29:18 [scrapy.extensions.logstats] INFO: Crawled 746385 pages (at 782 pages/min), scraped 0 items (at 0 items/min)\n",
      "2020-09-14 03:30:18 [scrapy.extensions.logstats] INFO: Crawled 747174 pages (at 789 pages/min), scraped 0 items (at 0 items/min)\n",
      "2020-09-14 03:31:18 [scrapy.extensions.logstats] INFO: Crawled 747983 pages (at 809 pages/min), scraped 0 items (at 0 items/min)\n",
      "2020-09-14 03:32:18 [scrapy.extensions.logstats] INFO: Crawled 748831 pages (at 848 pages/min), scraped 0 items (at 0 items/min)\n",
      "2020-09-14 03:33:18 [scrapy.extensions.logstats] INFO: Crawled 749584 pages (at 753 pages/min), scraped 0 items (at 0 items/min)\n",
      "2020-09-14 03:34:18 [scrapy.extensions.logstats] INFO: Crawled 750368 pages (at 784 pages/min), scraped 0 items (at 0 items/min)\n",
      "2020-09-14 03:35:18 [scrapy.extensions.logstats] INFO: Crawled 751165 pages (at 797 pages/min), scraped 0 items (at 0 items/min)\n",
      "2020-09-14 03:36:18 [scrapy.extensions.logstats] INFO: Crawled 751726 pages (at 561 pages/min), scraped 0 items (at 0 items/min)\n",
      "2020-09-14 03:37:18 [scrapy.extensions.logstats] INFO: Crawled 752408 pages (at 682 pages/min), scraped 0 items (at 0 items/min)\n",
      "2020-09-14 03:38:18 [scrapy.extensions.logstats] INFO: Crawled 753101 pages (at 693 pages/min), scraped 0 items (at 0 items/min)\n",
      "2020-09-14 03:39:18 [scrapy.extensions.logstats] INFO: Crawled 753821 pages (at 720 pages/min), scraped 0 items (at 0 items/min)\n",
      "2020-09-14 03:40:18 [scrapy.extensions.logstats] INFO: Crawled 754544 pages (at 723 pages/min), scraped 0 items (at 0 items/min)\n",
      "2020-09-14 03:41:18 [scrapy.extensions.logstats] INFO: Crawled 755197 pages (at 653 pages/min), scraped 0 items (at 0 items/min)\n",
      "2020-09-14 03:42:18 [scrapy.extensions.logstats] INFO: Crawled 755809 pages (at 612 pages/min), scraped 0 items (at 0 items/min)\n",
      "2020-09-14 03:43:18 [scrapy.extensions.logstats] INFO: Crawled 756471 pages (at 662 pages/min), scraped 0 items (at 0 items/min)\n",
      "2020-09-14 03:44:18 [scrapy.extensions.logstats] INFO: Crawled 757069 pages (at 598 pages/min), scraped 0 items (at 0 items/min)\n",
      "2020-09-14 03:45:18 [scrapy.extensions.logstats] INFO: Crawled 757717 pages (at 648 pages/min), scraped 0 items (at 0 items/min)\n",
      "2020-09-14 03:46:18 [scrapy.extensions.logstats] INFO: Crawled 758352 pages (at 635 pages/min), scraped 0 items (at 0 items/min)\n",
      "2020-09-14 03:47:18 [scrapy.extensions.logstats] INFO: Crawled 758979 pages (at 627 pages/min), scraped 0 items (at 0 items/min)\n",
      "2020-09-14 03:48:18 [scrapy.extensions.logstats] INFO: Crawled 759644 pages (at 665 pages/min), scraped 0 items (at 0 items/min)\n",
      "2020-09-14 03:49:18 [scrapy.extensions.logstats] INFO: Crawled 760141 pages (at 497 pages/min), scraped 0 items (at 0 items/min)\n",
      "2020-09-14 03:50:18 [scrapy.extensions.logstats] INFO: Crawled 760793 pages (at 652 pages/min), scraped 0 items (at 0 items/min)\n",
      "2020-09-14 03:51:18 [scrapy.extensions.logstats] INFO: Crawled 761434 pages (at 641 pages/min), scraped 0 items (at 0 items/min)\n",
      "2020-09-14 03:52:18 [scrapy.extensions.logstats] INFO: Crawled 762060 pages (at 626 pages/min), scraped 0 items (at 0 items/min)\n",
      "2020-09-14 03:53:18 [scrapy.extensions.logstats] INFO: Crawled 762727 pages (at 667 pages/min), scraped 0 items (at 0 items/min)\n",
      "2020-09-14 03:54:18 [scrapy.extensions.logstats] INFO: Crawled 763504 pages (at 777 pages/min), scraped 0 items (at 0 items/min)\n",
      "2020-09-14 03:55:18 [scrapy.extensions.logstats] INFO: Crawled 764248 pages (at 744 pages/min), scraped 0 items (at 0 items/min)\n",
      "2020-09-14 03:56:18 [scrapy.extensions.logstats] INFO: Crawled 764999 pages (at 751 pages/min), scraped 0 items (at 0 items/min)\n",
      "2020-09-14 03:57:18 [scrapy.extensions.logstats] INFO: Crawled 765731 pages (at 732 pages/min), scraped 0 items (at 0 items/min)\n",
      "2020-09-14 03:58:18 [scrapy.extensions.logstats] INFO: Crawled 766520 pages (at 789 pages/min), scraped 0 items (at 0 items/min)\n"
     ]
    },
    {
     "name": "stderr",
     "output_type": "stream",
     "text": [
      "2020-09-14 03:59:18 [scrapy.extensions.logstats] INFO: Crawled 767305 pages (at 785 pages/min), scraped 0 items (at 0 items/min)\n",
      "2020-09-14 04:00:18 [scrapy.extensions.logstats] INFO: Crawled 767858 pages (at 553 pages/min), scraped 0 items (at 0 items/min)\n",
      "2020-09-14 04:01:18 [scrapy.extensions.logstats] INFO: Crawled 768576 pages (at 718 pages/min), scraped 0 items (at 0 items/min)\n",
      "2020-09-14 04:02:18 [scrapy.extensions.logstats] INFO: Crawled 769255 pages (at 679 pages/min), scraped 0 items (at 0 items/min)\n",
      "2020-09-14 04:03:18 [scrapy.extensions.logstats] INFO: Crawled 770005 pages (at 750 pages/min), scraped 0 items (at 0 items/min)\n",
      "2020-09-14 04:04:18 [scrapy.extensions.logstats] INFO: Crawled 770724 pages (at 719 pages/min), scraped 0 items (at 0 items/min)\n",
      "2020-09-14 04:05:18 [scrapy.extensions.logstats] INFO: Crawled 771439 pages (at 715 pages/min), scraped 0 items (at 0 items/min)\n",
      "2020-09-14 04:06:18 [scrapy.extensions.logstats] INFO: Crawled 772146 pages (at 707 pages/min), scraped 0 items (at 0 items/min)\n",
      "2020-09-14 04:07:18 [scrapy.extensions.logstats] INFO: Crawled 772849 pages (at 703 pages/min), scraped 0 items (at 0 items/min)\n",
      "2020-09-14 04:08:18 [scrapy.extensions.logstats] INFO: Crawled 773585 pages (at 736 pages/min), scraped 0 items (at 0 items/min)\n",
      "2020-09-14 04:09:18 [scrapy.extensions.logstats] INFO: Crawled 774304 pages (at 719 pages/min), scraped 0 items (at 0 items/min)\n",
      "2020-09-14 04:10:18 [scrapy.extensions.logstats] INFO: Crawled 774991 pages (at 687 pages/min), scraped 0 items (at 0 items/min)\n",
      "2020-09-14 04:11:18 [scrapy.extensions.logstats] INFO: Crawled 775647 pages (at 656 pages/min), scraped 0 items (at 0 items/min)\n",
      "2020-09-14 04:12:18 [scrapy.extensions.logstats] INFO: Crawled 776127 pages (at 480 pages/min), scraped 0 items (at 0 items/min)\n",
      "2020-09-14 04:13:18 [scrapy.extensions.logstats] INFO: Crawled 776802 pages (at 675 pages/min), scraped 0 items (at 0 items/min)\n",
      "2020-09-14 04:14:18 [scrapy.extensions.logstats] INFO: Crawled 777475 pages (at 673 pages/min), scraped 0 items (at 0 items/min)\n",
      "2020-09-14 04:15:18 [scrapy.extensions.logstats] INFO: Crawled 778149 pages (at 674 pages/min), scraped 0 items (at 0 items/min)\n",
      "2020-09-14 04:16:18 [scrapy.extensions.logstats] INFO: Crawled 778761 pages (at 612 pages/min), scraped 0 items (at 0 items/min)\n",
      "2020-09-14 04:17:18 [scrapy.extensions.logstats] INFO: Crawled 779434 pages (at 673 pages/min), scraped 0 items (at 0 items/min)\n",
      "2020-09-14 04:18:18 [scrapy.extensions.logstats] INFO: Crawled 780119 pages (at 685 pages/min), scraped 0 items (at 0 items/min)\n",
      "2020-09-14 04:19:18 [scrapy.extensions.logstats] INFO: Crawled 780796 pages (at 677 pages/min), scraped 0 items (at 0 items/min)\n",
      "2020-09-14 04:20:18 [scrapy.extensions.logstats] INFO: Crawled 781465 pages (at 669 pages/min), scraped 0 items (at 0 items/min)\n",
      "2020-09-14 04:21:18 [scrapy.extensions.logstats] INFO: Crawled 782115 pages (at 650 pages/min), scraped 0 items (at 0 items/min)\n",
      "2020-09-14 04:22:19 [scrapy.extensions.logstats] INFO: Crawled 782728 pages (at 613 pages/min), scraped 0 items (at 0 items/min)\n",
      "2020-09-14 04:23:18 [scrapy.extensions.logstats] INFO: Crawled 783389 pages (at 661 pages/min), scraped 0 items (at 0 items/min)\n",
      "2020-09-14 04:24:18 [scrapy.extensions.logstats] INFO: Crawled 784036 pages (at 647 pages/min), scraped 0 items (at 0 items/min)\n",
      "2020-09-14 04:25:18 [scrapy.extensions.logstats] INFO: Crawled 784531 pages (at 495 pages/min), scraped 0 items (at 0 items/min)\n",
      "2020-09-14 04:26:18 [scrapy.extensions.logstats] INFO: Crawled 785228 pages (at 697 pages/min), scraped 0 items (at 0 items/min)\n",
      "2020-09-14 04:27:18 [scrapy.extensions.logstats] INFO: Crawled 785889 pages (at 661 pages/min), scraped 0 items (at 0 items/min)\n",
      "2020-09-14 04:28:18 [scrapy.extensions.logstats] INFO: Crawled 786587 pages (at 698 pages/min), scraped 0 items (at 0 items/min)\n",
      "2020-09-14 04:29:18 [scrapy.extensions.logstats] INFO: Crawled 787275 pages (at 688 pages/min), scraped 0 items (at 0 items/min)\n",
      "2020-09-14 04:30:18 [scrapy.extensions.logstats] INFO: Crawled 787990 pages (at 715 pages/min), scraped 0 items (at 0 items/min)\n",
      "2020-09-14 04:31:18 [scrapy.extensions.logstats] INFO: Crawled 788626 pages (at 636 pages/min), scraped 0 items (at 0 items/min)\n",
      "2020-09-14 04:32:18 [scrapy.extensions.logstats] INFO: Crawled 789292 pages (at 666 pages/min), scraped 0 items (at 0 items/min)\n",
      "2020-09-14 04:33:18 [scrapy.extensions.logstats] INFO: Crawled 789897 pages (at 605 pages/min), scraped 0 items (at 0 items/min)\n",
      "2020-09-14 04:34:18 [scrapy.extensions.logstats] INFO: Crawled 790547 pages (at 650 pages/min), scraped 0 items (at 0 items/min)\n",
      "2020-09-14 04:35:18 [scrapy.extensions.logstats] INFO: Crawled 791198 pages (at 651 pages/min), scraped 0 items (at 0 items/min)\n",
      "2020-09-14 04:36:18 [scrapy.extensions.logstats] INFO: Crawled 791924 pages (at 726 pages/min), scraped 0 items (at 0 items/min)\n",
      "2020-09-14 04:37:26 [scrapy.extensions.logstats] INFO: Crawled 792497 pages (at 573 pages/min), scraped 0 items (at 0 items/min)\n",
      "2020-09-14 04:38:18 [scrapy.extensions.logstats] INFO: Crawled 793119 pages (at 622 pages/min), scraped 0 items (at 0 items/min)\n",
      "2020-09-14 04:39:18 [scrapy.extensions.logstats] INFO: Crawled 793799 pages (at 680 pages/min), scraped 0 items (at 0 items/min)\n",
      "2020-09-14 04:40:18 [scrapy.extensions.logstats] INFO: Crawled 794456 pages (at 657 pages/min), scraped 0 items (at 0 items/min)\n",
      "2020-09-14 04:41:18 [scrapy.extensions.logstats] INFO: Crawled 795134 pages (at 678 pages/min), scraped 0 items (at 0 items/min)\n",
      "2020-09-14 04:42:18 [scrapy.extensions.logstats] INFO: Crawled 795822 pages (at 688 pages/min), scraped 0 items (at 0 items/min)\n",
      "2020-09-14 04:43:18 [scrapy.extensions.logstats] INFO: Crawled 796548 pages (at 726 pages/min), scraped 0 items (at 0 items/min)\n",
      "2020-09-14 04:44:18 [scrapy.extensions.logstats] INFO: Crawled 797290 pages (at 742 pages/min), scraped 0 items (at 0 items/min)\n",
      "2020-09-14 04:45:18 [scrapy.extensions.logstats] INFO: Crawled 798055 pages (at 765 pages/min), scraped 0 items (at 0 items/min)\n",
      "2020-09-14 04:46:18 [scrapy.extensions.logstats] INFO: Crawled 798834 pages (at 779 pages/min), scraped 0 items (at 0 items/min)\n",
      "2020-09-14 04:47:18 [scrapy.extensions.logstats] INFO: Crawled 799569 pages (at 735 pages/min), scraped 0 items (at 0 items/min)\n",
      "2020-09-14 04:48:18 [scrapy.extensions.logstats] INFO: Crawled 800321 pages (at 752 pages/min), scraped 0 items (at 0 items/min)\n",
      "2020-09-14 04:49:18 [scrapy.extensions.logstats] INFO: Crawled 800875 pages (at 554 pages/min), scraped 0 items (at 0 items/min)\n",
      "2020-09-14 04:50:18 [scrapy.extensions.logstats] INFO: Crawled 801606 pages (at 731 pages/min), scraped 0 items (at 0 items/min)\n",
      "2020-09-14 04:51:18 [scrapy.extensions.logstats] INFO: Crawled 802283 pages (at 677 pages/min), scraped 0 items (at 0 items/min)\n",
      "2020-09-14 04:52:18 [scrapy.extensions.logstats] INFO: Crawled 802973 pages (at 690 pages/min), scraped 0 items (at 0 items/min)\n",
      "2020-09-14 04:53:18 [scrapy.extensions.logstats] INFO: Crawled 803743 pages (at 770 pages/min), scraped 0 items (at 0 items/min)\n",
      "2020-09-14 04:54:18 [scrapy.extensions.logstats] INFO: Crawled 804503 pages (at 760 pages/min), scraped 0 items (at 0 items/min)\n",
      "2020-09-14 04:55:18 [scrapy.extensions.logstats] INFO: Crawled 805200 pages (at 697 pages/min), scraped 0 items (at 0 items/min)\n",
      "2020-09-14 04:56:18 [scrapy.extensions.logstats] INFO: Crawled 805852 pages (at 652 pages/min), scraped 0 items (at 0 items/min)\n",
      "2020-09-14 04:57:18 [scrapy.extensions.logstats] INFO: Crawled 806514 pages (at 662 pages/min), scraped 0 items (at 0 items/min)\n",
      "2020-09-14 04:58:18 [scrapy.extensions.logstats] INFO: Crawled 807184 pages (at 670 pages/min), scraped 0 items (at 0 items/min)\n",
      "2020-09-14 04:59:18 [scrapy.extensions.logstats] INFO: Crawled 807800 pages (at 616 pages/min), scraped 0 items (at 0 items/min)\n",
      "2020-09-14 05:00:18 [scrapy.extensions.logstats] INFO: Crawled 808497 pages (at 697 pages/min), scraped 0 items (at 0 items/min)\n",
      "2020-09-14 05:01:18 [scrapy.extensions.logstats] INFO: Crawled 809235 pages (at 738 pages/min), scraped 0 items (at 0 items/min)\n",
      "2020-09-14 05:02:18 [scrapy.extensions.logstats] INFO: Crawled 809746 pages (at 511 pages/min), scraped 0 items (at 0 items/min)\n"
     ]
    },
    {
     "name": "stderr",
     "output_type": "stream",
     "text": [
      "2020-09-14 05:03:18 [scrapy.extensions.logstats] INFO: Crawled 810451 pages (at 705 pages/min), scraped 0 items (at 0 items/min)\n",
      "2020-09-14 05:04:18 [scrapy.extensions.logstats] INFO: Crawled 811163 pages (at 712 pages/min), scraped 0 items (at 0 items/min)\n",
      "2020-09-14 05:05:18 [scrapy.extensions.logstats] INFO: Crawled 811893 pages (at 730 pages/min), scraped 0 items (at 0 items/min)\n",
      "2020-09-14 05:06:18 [scrapy.extensions.logstats] INFO: Crawled 812520 pages (at 627 pages/min), scraped 0 items (at 0 items/min)\n",
      "2020-09-14 05:07:18 [scrapy.extensions.logstats] INFO: Crawled 813241 pages (at 721 pages/min), scraped 0 items (at 0 items/min)\n",
      "2020-09-14 05:08:18 [scrapy.extensions.logstats] INFO: Crawled 813975 pages (at 734 pages/min), scraped 0 items (at 0 items/min)\n",
      "2020-09-14 05:09:18 [scrapy.extensions.logstats] INFO: Crawled 814608 pages (at 633 pages/min), scraped 0 items (at 0 items/min)\n",
      "2020-09-14 05:10:18 [scrapy.extensions.logstats] INFO: Crawled 815051 pages (at 443 pages/min), scraped 0 items (at 0 items/min)\n",
      "2020-09-14 05:11:18 [scrapy.extensions.logstats] INFO: Crawled 815574 pages (at 523 pages/min), scraped 0 items (at 0 items/min)\n",
      "2020-09-14 05:12:18 [scrapy.extensions.logstats] INFO: Crawled 816162 pages (at 588 pages/min), scraped 0 items (at 0 items/min)\n",
      "2020-09-14 05:13:18 [scrapy.extensions.logstats] INFO: Crawled 816792 pages (at 630 pages/min), scraped 0 items (at 0 items/min)\n",
      "2020-09-14 05:14:18 [scrapy.extensions.logstats] INFO: Crawled 817370 pages (at 578 pages/min), scraped 0 items (at 0 items/min)\n",
      "2020-09-14 05:15:18 [scrapy.extensions.logstats] INFO: Crawled 817751 pages (at 381 pages/min), scraped 0 items (at 0 items/min)\n",
      "2020-09-14 05:16:18 [scrapy.extensions.logstats] INFO: Crawled 818338 pages (at 587 pages/min), scraped 0 items (at 0 items/min)\n",
      "2020-09-14 05:17:18 [scrapy.extensions.logstats] INFO: Crawled 818812 pages (at 474 pages/min), scraped 0 items (at 0 items/min)\n",
      "2020-09-14 05:18:18 [scrapy.extensions.logstats] INFO: Crawled 819324 pages (at 512 pages/min), scraped 0 items (at 0 items/min)\n",
      "2020-09-14 05:19:18 [scrapy.extensions.logstats] INFO: Crawled 819812 pages (at 488 pages/min), scraped 0 items (at 0 items/min)\n",
      "2020-09-14 05:20:19 [scrapy.extensions.logstats] INFO: Crawled 820354 pages (at 542 pages/min), scraped 0 items (at 0 items/min)\n",
      "2020-09-14 05:21:19 [scrapy.extensions.logstats] INFO: Crawled 820826 pages (at 472 pages/min), scraped 0 items (at 0 items/min)\n",
      "2020-09-14 05:22:18 [scrapy.extensions.logstats] INFO: Crawled 821342 pages (at 516 pages/min), scraped 0 items (at 0 items/min)\n",
      "2020-09-14 05:23:18 [scrapy.extensions.logstats] INFO: Crawled 821908 pages (at 566 pages/min), scraped 0 items (at 0 items/min)\n",
      "2020-09-14 05:24:18 [scrapy.extensions.logstats] INFO: Crawled 822604 pages (at 696 pages/min), scraped 0 items (at 0 items/min)\n",
      "2020-09-14 05:25:18 [scrapy.extensions.logstats] INFO: Crawled 823330 pages (at 726 pages/min), scraped 0 items (at 0 items/min)\n",
      "2020-09-14 05:26:18 [scrapy.extensions.logstats] INFO: Crawled 824030 pages (at 700 pages/min), scraped 0 items (at 0 items/min)\n",
      "2020-09-14 05:27:18 [scrapy.extensions.logstats] INFO: Crawled 824769 pages (at 739 pages/min), scraped 0 items (at 0 items/min)\n",
      "2020-09-14 05:28:18 [scrapy.extensions.logstats] INFO: Crawled 825301 pages (at 532 pages/min), scraped 0 items (at 0 items/min)\n",
      "2020-09-14 05:29:18 [scrapy.extensions.logstats] INFO: Crawled 826064 pages (at 763 pages/min), scraped 0 items (at 0 items/min)\n",
      "2020-09-14 05:30:18 [scrapy.extensions.logstats] INFO: Crawled 826797 pages (at 733 pages/min), scraped 0 items (at 0 items/min)\n",
      "2020-09-14 05:31:18 [scrapy.extensions.logstats] INFO: Crawled 827571 pages (at 774 pages/min), scraped 0 items (at 0 items/min)\n",
      "2020-09-14 05:32:18 [scrapy.extensions.logstats] INFO: Crawled 828392 pages (at 821 pages/min), scraped 0 items (at 0 items/min)\n",
      "2020-09-14 05:33:18 [scrapy.extensions.logstats] INFO: Crawled 829201 pages (at 809 pages/min), scraped 0 items (at 0 items/min)\n",
      "2020-09-14 05:34:18 [scrapy.extensions.logstats] INFO: Crawled 829979 pages (at 778 pages/min), scraped 0 items (at 0 items/min)\n",
      "2020-09-14 05:35:18 [scrapy.extensions.logstats] INFO: Crawled 830754 pages (at 775 pages/min), scraped 0 items (at 0 items/min)\n",
      "2020-09-14 05:36:18 [scrapy.extensions.logstats] INFO: Crawled 831508 pages (at 754 pages/min), scraped 0 items (at 0 items/min)\n",
      "2020-09-14 05:37:18 [scrapy.extensions.logstats] INFO: Crawled 832278 pages (at 770 pages/min), scraped 0 items (at 0 items/min)\n",
      "2020-09-14 05:38:18 [scrapy.extensions.logstats] INFO: Crawled 833062 pages (at 784 pages/min), scraped 0 items (at 0 items/min)\n",
      "2020-09-14 05:39:27 [scrapy.extensions.logstats] INFO: Crawled 833732 pages (at 670 pages/min), scraped 0 items (at 0 items/min)\n",
      "2020-09-14 05:40:18 [scrapy.extensions.logstats] INFO: Crawled 834378 pages (at 646 pages/min), scraped 0 items (at 0 items/min)\n",
      "2020-09-14 05:41:18 [scrapy.extensions.logstats] INFO: Crawled 835142 pages (at 764 pages/min), scraped 0 items (at 0 items/min)\n",
      "2020-09-14 05:42:18 [scrapy.extensions.logstats] INFO: Crawled 835780 pages (at 638 pages/min), scraped 0 items (at 0 items/min)\n",
      "2020-09-14 05:43:18 [scrapy.extensions.logstats] INFO: Crawled 836506 pages (at 726 pages/min), scraped 0 items (at 0 items/min)\n",
      "2020-09-14 05:44:18 [scrapy.extensions.logstats] INFO: Crawled 837266 pages (at 760 pages/min), scraped 0 items (at 0 items/min)\n",
      "2020-09-14 05:45:18 [scrapy.extensions.logstats] INFO: Crawled 838019 pages (at 753 pages/min), scraped 0 items (at 0 items/min)\n",
      "2020-09-14 05:46:18 [scrapy.extensions.logstats] INFO: Crawled 838757 pages (at 738 pages/min), scraped 0 items (at 0 items/min)\n",
      "2020-09-14 05:47:18 [scrapy.extensions.logstats] INFO: Crawled 839491 pages (at 734 pages/min), scraped 0 items (at 0 items/min)\n",
      "2020-09-14 05:48:18 [scrapy.extensions.logstats] INFO: Crawled 840220 pages (at 729 pages/min), scraped 0 items (at 0 items/min)\n",
      "2020-09-14 05:49:18 [scrapy.extensions.logstats] INFO: Crawled 840973 pages (at 753 pages/min), scraped 0 items (at 0 items/min)\n",
      "2020-09-14 05:50:18 [scrapy.extensions.logstats] INFO: Crawled 841723 pages (at 750 pages/min), scraped 0 items (at 0 items/min)\n",
      "2020-09-14 05:51:18 [scrapy.extensions.logstats] INFO: Crawled 842229 pages (at 506 pages/min), scraped 0 items (at 0 items/min)\n",
      "2020-09-14 05:52:18 [scrapy.extensions.logstats] INFO: Crawled 842932 pages (at 703 pages/min), scraped 0 items (at 0 items/min)\n",
      "2020-09-14 05:53:18 [scrapy.extensions.logstats] INFO: Crawled 843590 pages (at 658 pages/min), scraped 0 items (at 0 items/min)\n",
      "2020-09-14 05:54:18 [scrapy.extensions.logstats] INFO: Crawled 844256 pages (at 666 pages/min), scraped 0 items (at 0 items/min)\n",
      "2020-09-14 05:55:18 [scrapy.extensions.logstats] INFO: Crawled 844885 pages (at 629 pages/min), scraped 0 items (at 0 items/min)\n",
      "2020-09-14 05:56:18 [scrapy.extensions.logstats] INFO: Crawled 845317 pages (at 432 pages/min), scraped 0 items (at 0 items/min)\n",
      "2020-09-14 05:57:18 [scrapy.extensions.logstats] INFO: Crawled 845902 pages (at 585 pages/min), scraped 0 items (at 0 items/min)\n",
      "2020-09-14 05:58:18 [scrapy.extensions.logstats] INFO: Crawled 846485 pages (at 583 pages/min), scraped 0 items (at 0 items/min)\n",
      "2020-09-14 05:59:18 [scrapy.extensions.logstats] INFO: Crawled 847121 pages (at 636 pages/min), scraped 0 items (at 0 items/min)\n",
      "2020-09-14 06:00:18 [scrapy.extensions.logstats] INFO: Crawled 847700 pages (at 579 pages/min), scraped 0 items (at 0 items/min)\n",
      "2020-09-14 06:01:18 [scrapy.extensions.logstats] INFO: Crawled 848146 pages (at 446 pages/min), scraped 0 items (at 0 items/min)\n",
      "2020-09-14 06:02:18 [scrapy.extensions.logstats] INFO: Crawled 848654 pages (at 508 pages/min), scraped 0 items (at 0 items/min)\n",
      "2020-09-14 06:03:18 [scrapy.extensions.logstats] INFO: Crawled 849234 pages (at 580 pages/min), scraped 0 items (at 0 items/min)\n",
      "2020-09-14 06:04:18 [scrapy.extensions.logstats] INFO: Crawled 849860 pages (at 626 pages/min), scraped 0 items (at 0 items/min)\n",
      "2020-09-14 06:05:33 [scrapy.extensions.logstats] INFO: Crawled 850475 pages (at 615 pages/min), scraped 0 items (at 0 items/min)\n",
      "2020-09-14 06:06:21 [scrapy.extensions.logstats] INFO: Crawled 850658 pages (at 183 pages/min), scraped 0 items (at 0 items/min)\n"
     ]
    },
    {
     "name": "stderr",
     "output_type": "stream",
     "text": [
      "2020-09-14 06:07:18 [scrapy.extensions.logstats] INFO: Crawled 850860 pages (at 202 pages/min), scraped 0 items (at 0 items/min)\n",
      "2020-09-14 06:08:18 [scrapy.extensions.logstats] INFO: Crawled 851297 pages (at 437 pages/min), scraped 0 items (at 0 items/min)\n",
      "2020-09-14 06:09:18 [scrapy.extensions.logstats] INFO: Crawled 851770 pages (at 473 pages/min), scraped 0 items (at 0 items/min)\n",
      "2020-09-14 06:10:18 [scrapy.extensions.logstats] INFO: Crawled 852285 pages (at 515 pages/min), scraped 0 items (at 0 items/min)\n",
      "2020-09-14 06:11:18 [scrapy.extensions.logstats] INFO: Crawled 852789 pages (at 504 pages/min), scraped 0 items (at 0 items/min)\n",
      "2020-09-14 06:12:18 [scrapy.extensions.logstats] INFO: Crawled 853231 pages (at 442 pages/min), scraped 0 items (at 0 items/min)\n",
      "2020-09-14 06:13:18 [scrapy.extensions.logstats] INFO: Crawled 853754 pages (at 523 pages/min), scraped 0 items (at 0 items/min)\n"
     ]
    },
    {
     "name": "stdout",
     "output_type": "stream",
     "text": [
      "Saving as : /home/alex/chat_bot_wrike/wrike-bot/help_good_for_wrike/210325145-Step-3-Create-a-Folder-Structure.csv {'https://help.wrike.com/hc/en-us/articles/209603989-Types-of-Licenses', 'https://help.wrike.com/hc/en-us/articles/209603009-My-Team-Group', 'https://help.wrike.com/hc/en-us/categories/201188645-Getting-Started', 'https://help.wrike.com/hc/en-us/articles/209602989-User-Groups', 'https://help.wrike.com/hc/en-us/articles/213924649-Step-1-Getting-Settled', 'https://help.wrike.com/hc/en-us/articles/209605449-Admin-Permissions'}\n",
      "/home/alex/chat_bot_wrike/wrike-bot/help_good_for_wrike/210325145-Step-3-Create-a-Folder-Structure.csv\n"
     ]
    },
    {
     "name": "stderr",
     "output_type": "stream",
     "text": [
      "2020-09-14 06:14:20 [scrapy.extensions.logstats] INFO: Crawled 854280 pages (at 526 pages/min), scraped 0 items (at 0 items/min)\n",
      "2020-09-14 06:15:18 [scrapy.extensions.logstats] INFO: Crawled 854766 pages (at 486 pages/min), scraped 0 items (at 0 items/min)\n",
      "2020-09-14 06:16:18 [scrapy.extensions.logstats] INFO: Crawled 855067 pages (at 301 pages/min), scraped 0 items (at 0 items/min)\n",
      "2020-09-14 06:17:18 [scrapy.extensions.logstats] INFO: Crawled 855541 pages (at 474 pages/min), scraped 0 items (at 0 items/min)\n",
      "2020-09-14 06:18:18 [scrapy.extensions.logstats] INFO: Crawled 856087 pages (at 546 pages/min), scraped 0 items (at 0 items/min)\n",
      "2020-09-14 06:19:18 [scrapy.extensions.logstats] INFO: Crawled 856647 pages (at 560 pages/min), scraped 0 items (at 0 items/min)\n",
      "2020-09-14 06:20:18 [scrapy.extensions.logstats] INFO: Crawled 857358 pages (at 711 pages/min), scraped 0 items (at 0 items/min)\n",
      "2020-09-14 06:21:18 [scrapy.extensions.logstats] INFO: Crawled 858031 pages (at 673 pages/min), scraped 0 items (at 0 items/min)\n",
      "2020-09-14 06:22:18 [scrapy.extensions.logstats] INFO: Crawled 858494 pages (at 463 pages/min), scraped 0 items (at 0 items/min)\n",
      "2020-09-14 06:23:18 [scrapy.extensions.logstats] INFO: Crawled 859171 pages (at 677 pages/min), scraped 0 items (at 0 items/min)\n",
      "2020-09-14 06:24:18 [scrapy.extensions.logstats] INFO: Crawled 859835 pages (at 664 pages/min), scraped 0 items (at 0 items/min)\n",
      "2020-09-14 06:25:18 [scrapy.extensions.logstats] INFO: Crawled 860511 pages (at 676 pages/min), scraped 0 items (at 0 items/min)\n",
      "2020-09-14 06:26:18 [scrapy.extensions.logstats] INFO: Crawled 861115 pages (at 604 pages/min), scraped 0 items (at 0 items/min)\n",
      "2020-09-14 06:27:18 [scrapy.extensions.logstats] INFO: Crawled 861791 pages (at 676 pages/min), scraped 0 items (at 0 items/min)\n",
      "2020-09-14 06:28:18 [scrapy.extensions.logstats] INFO: Crawled 862485 pages (at 694 pages/min), scraped 0 items (at 0 items/min)\n",
      "2020-09-14 06:29:18 [scrapy.extensions.logstats] INFO: Crawled 863178 pages (at 693 pages/min), scraped 0 items (at 0 items/min)\n",
      "2020-09-14 06:30:18 [scrapy.extensions.logstats] INFO: Crawled 863846 pages (at 668 pages/min), scraped 0 items (at 0 items/min)\n"
     ]
    },
    {
     "name": "stdout",
     "output_type": "stream",
     "text": [
      "Saving as : /home/alex/chat_bot_wrike/wrike-bot/help_good_for_wrike/115002324989-Before-deleting-an-account-finding-the-Tasks-Folders-and-Projects-a-user-account-had-sole-access-to?page=1.csv {'https://help.wrike.com/hc/en-us/articles/115004551205-Log-In-as-Another-User'}\n",
      "/home/alex/chat_bot_wrike/wrike-bot/help_good_for_wrike/115002324989-Before-deleting-an-account-finding-the-Tasks-Folders-and-Projects-a-user-account-had-sole-access-to?page=1.csv\n"
     ]
    },
    {
     "name": "stderr",
     "output_type": "stream",
     "text": [
      "2020-09-14 06:31:18 [scrapy.extensions.logstats] INFO: Crawled 864341 pages (at 495 pages/min), scraped 0 items (at 0 items/min)\n",
      "2020-09-14 06:32:18 [scrapy.extensions.logstats] INFO: Crawled 864974 pages (at 633 pages/min), scraped 0 items (at 0 items/min)\n",
      "2020-09-14 06:33:18 [scrapy.extensions.logstats] INFO: Crawled 865691 pages (at 717 pages/min), scraped 0 items (at 0 items/min)\n",
      "2020-09-14 06:34:18 [scrapy.extensions.logstats] INFO: Crawled 866426 pages (at 735 pages/min), scraped 0 items (at 0 items/min)\n",
      "2020-09-14 06:35:34 [scrapy.extensions.logstats] INFO: Crawled 867035 pages (at 609 pages/min), scraped 0 items (at 0 items/min)\n",
      "2020-09-14 06:36:18 [scrapy.extensions.logstats] INFO: Crawled 867525 pages (at 490 pages/min), scraped 0 items (at 0 items/min)\n",
      "2020-09-14 06:37:18 [scrapy.extensions.logstats] INFO: Crawled 868173 pages (at 648 pages/min), scraped 0 items (at 0 items/min)\n"
     ]
    },
    {
     "name": "stdout",
     "output_type": "stream",
     "text": [
      "Saving as : /home/alex/chat_bot_wrike/wrike-bot/help_good_for_wrike/search?page=28&query=Sharing+folders&utf8=%E2%9C%93.csv {'https://help.wrike.com/hc/en-us/categories/201188645-Getting-Started'}\n",
      "/home/alex/chat_bot_wrike/wrike-bot/help_good_for_wrike/search?page=28&query=Sharing+folders&utf8=%E2%9C%93.csv\n"
     ]
    },
    {
     "name": "stderr",
     "output_type": "stream",
     "text": [
      "2020-09-14 06:38:18 [scrapy.extensions.logstats] INFO: Crawled 868718 pages (at 545 pages/min), scraped 0 items (at 0 items/min)\n",
      "2020-09-14 06:39:18 [scrapy.extensions.logstats] INFO: Crawled 869260 pages (at 542 pages/min), scraped 0 items (at 0 items/min)\n",
      "2020-09-14 06:40:18 [scrapy.extensions.logstats] INFO: Crawled 869716 pages (at 456 pages/min), scraped 0 items (at 0 items/min)\n",
      "2020-09-14 06:41:18 [scrapy.extensions.logstats] INFO: Crawled 870147 pages (at 431 pages/min), scraped 0 items (at 0 items/min)\n",
      "2020-09-14 06:42:18 [scrapy.extensions.logstats] INFO: Crawled 870569 pages (at 422 pages/min), scraped 0 items (at 0 items/min)\n",
      "2020-09-14 06:43:18 [scrapy.extensions.logstats] INFO: Crawled 871071 pages (at 502 pages/min), scraped 0 items (at 0 items/min)\n",
      "2020-09-14 06:44:18 [scrapy.extensions.logstats] INFO: Crawled 871597 pages (at 526 pages/min), scraped 0 items (at 0 items/min)\n",
      "2020-09-14 06:45:18 [scrapy.extensions.logstats] INFO: Crawled 872004 pages (at 407 pages/min), scraped 0 items (at 0 items/min)\n",
      "2020-09-14 06:46:18 [scrapy.extensions.logstats] INFO: Crawled 872332 pages (at 328 pages/min), scraped 0 items (at 0 items/min)\n",
      "2020-09-14 06:47:19 [scrapy.extensions.logstats] INFO: Crawled 872612 pages (at 280 pages/min), scraped 0 items (at 0 items/min)\n",
      "2020-09-14 06:48:18 [scrapy.extensions.logstats] INFO: Crawled 873279 pages (at 667 pages/min), scraped 0 items (at 0 items/min)\n",
      "2020-09-14 06:49:18 [scrapy.extensions.logstats] INFO: Crawled 873957 pages (at 678 pages/min), scraped 0 items (at 0 items/min)\n",
      "2020-09-14 06:50:18 [scrapy.extensions.logstats] INFO: Crawled 874391 pages (at 434 pages/min), scraped 0 items (at 0 items/min)\n",
      "2020-09-14 06:51:18 [scrapy.extensions.logstats] INFO: Crawled 874974 pages (at 583 pages/min), scraped 0 items (at 0 items/min)\n",
      "2020-09-14 06:52:18 [scrapy.extensions.logstats] INFO: Crawled 875562 pages (at 588 pages/min), scraped 0 items (at 0 items/min)\n",
      "2020-09-14 06:53:18 [scrapy.extensions.logstats] INFO: Crawled 876266 pages (at 704 pages/min), scraped 0 items (at 0 items/min)\n",
      "2020-09-14 06:54:18 [scrapy.extensions.logstats] INFO: Crawled 876905 pages (at 639 pages/min), scraped 0 items (at 0 items/min)\n",
      "2020-09-14 06:55:18 [scrapy.extensions.logstats] INFO: Crawled 877474 pages (at 569 pages/min), scraped 0 items (at 0 items/min)\n",
      "2020-09-14 06:56:18 [scrapy.extensions.logstats] INFO: Crawled 878105 pages (at 631 pages/min), scraped 0 items (at 0 items/min)\n",
      "2020-09-14 06:57:18 [scrapy.extensions.logstats] INFO: Crawled 878832 pages (at 727 pages/min), scraped 0 items (at 0 items/min)\n",
      "2020-09-14 06:58:20 [scrapy.extensions.logstats] INFO: Crawled 879246 pages (at 414 pages/min), scraped 0 items (at 0 items/min)\n",
      "2020-09-14 06:59:18 [scrapy.extensions.logstats] INFO: Crawled 879757 pages (at 511 pages/min), scraped 0 items (at 0 items/min)\n"
     ]
    },
    {
     "name": "stdout",
     "output_type": "stream",
     "text": [
      "Saving as : /home/alex/chat_bot_wrike/wrike-bot/help_good_for_wrike/115005814269.csv {'https://help.wrike.com/hc/en-us/articles/115005814269-Sort-and-Reorder-Items-on-the-Gantt-Chart#cascade'}\n",
      "/home/alex/chat_bot_wrike/wrike-bot/help_good_for_wrike/115005814269.csv\n",
      "Saving as : /home/alex/chat_bot_wrike/wrike-bot/help_good_for_wrike/360009722693.csv {'https://help.wrike.com/hc/en-us/articles/360009639733-Guest-Reviews#revoke', 'https://help.wrike.com/hc/en-us/articles/209603269--mentions'}\n",
      "/home/alex/chat_bot_wrike/wrike-bot/help_good_for_wrike/360009722693.csv\n",
      "Saving as : /home/alex/chat_bot_wrike/wrike-bot/help_good_for_wrike/360008063354.csv {'https://help.wrike.com/hc/en-us/articles/209603989-Types-of-Licenses', 'https://help.wrike.com/hc/en-us/articles/209603669-Sharing-Folders-and-Projects', 'https://help.wrike.com/hc/en-us/articles/209603849-Sharing-Tasks'}\n",
      "/home/alex/chat_bot_wrike/wrike-bot/help_good_for_wrike/360008063354.csv\n",
      "Saving as : /home/alex/chat_bot_wrike/wrike-bot/help_good_for_wrike/2917063109-Anna-G?filter_by=articles&page=1&sort_by=recent_user_activity.csv {'https://help.wrike.com/hc/en-us/sections/202366329-Proofing-and-Approvals', 'https://help.wrike.com/hc/en-us/categories/200942135-Monitoring-Panel', 'https://help.wrike.com/hc/en-us/sections/201834259-Advanced', 'https://help.wrike.com/hc/en-us/sections/201828169-Personal-User-License', 'https://help.wrike.com/hc/en-us/categories/200942115-Tasks-Folders-Projects-and-Spaces', 'https://help.wrike.com/hc/en-us/sections/201825379-General-Account-Management', 'https://help.wrike.com/hc/en-us/sections/360004618833-Wrike-Resource', 'https://help.wrike.com/hc/en-us/sections/201834309-Table-View', 'https://help.wrike.com/hc/en-us/categories/200942125-Work-Views', 'https://help.wrike.com/hc/en-us/sections/201834289-Timelog-View', 'https://help.wrike.com/hc/en-us/categories/200913179-Account-Management'}\n",
      "/home/alex/chat_bot_wrike/wrike-bot/help_good_for_wrike/2917063109-Anna-G?filter_by=articles&page=1&sort_by=recent_user_activity.csv\n",
      "Saving as : /home/alex/chat_bot_wrike/wrike-bot/help_good_for_wrike/2917063109-Anna-G?filter_by=articles&page=2&sort_by=votes.csv {'https://help.wrike.com/hc/en-us/sections/202366329-Proofing-and-Approvals', 'https://help.wrike.com/hc/en-us/categories/200942135-Monitoring-Panel', 'https://help.wrike.com/hc/en-us/sections/202423365-Everything-Else', 'https://help.wrike.com/hc/en-us/sections/201828169-Personal-User-License', 'https://help.wrike.com/hc/en-us/sections/201834259-Advanced', 'https://help.wrike.com/hc/en-us/sections/201825379-General-Account-Management', 'https://help.wrike.com/hc/en-us/sections/201834289-Timelog-View', 'https://help.wrike.com/hc/en-us/sections/360004618833-Wrike-Resource', 'https://help.wrike.com/hc/en-us/sections/201834309-Table-View', 'https://help.wrike.com/hc/en-us/categories/200942125-Work-Views', 'https://help.wrike.com/hc/en-us/categories/200942115-Tasks-Folders-Projects-and-Spaces', 'https://help.wrike.com/hc/en-us/sections/201893075-Gantt-Chart', 'https://help.wrike.com/hc/en-us/categories/200939185-Integrations', 'https://help.wrike.com/hc/en-us/categories/200913179-Account-Management'}\n",
      "/home/alex/chat_bot_wrike/wrike-bot/help_good_for_wrike/2917063109-Anna-G?filter_by=articles&page=2&sort_by=votes.csv\n"
     ]
    },
    {
     "name": "stderr",
     "output_type": "stream",
     "text": [
      "2020-09-14 07:00:19 [scrapy.extensions.logstats] INFO: Crawled 880171 pages (at 414 pages/min), scraped 0 items (at 0 items/min)\n",
      "2020-09-14 07:01:18 [scrapy.extensions.logstats] INFO: Crawled 880660 pages (at 489 pages/min), scraped 0 items (at 0 items/min)\n",
      "2020-09-14 07:02:18 [scrapy.extensions.logstats] INFO: Crawled 881162 pages (at 502 pages/min), scraped 0 items (at 0 items/min)\n",
      "2020-09-14 07:03:18 [scrapy.extensions.logstats] INFO: Crawled 881635 pages (at 473 pages/min), scraped 0 items (at 0 items/min)\n",
      "2020-09-14 07:04:18 [scrapy.extensions.logstats] INFO: Crawled 882291 pages (at 656 pages/min), scraped 0 items (at 0 items/min)\n",
      "2020-09-14 07:05:18 [scrapy.extensions.logstats] INFO: Crawled 882917 pages (at 626 pages/min), scraped 0 items (at 0 items/min)\n",
      "2020-09-14 07:06:18 [scrapy.extensions.logstats] INFO: Crawled 883526 pages (at 609 pages/min), scraped 0 items (at 0 items/min)\n"
     ]
    },
    {
     "name": "stdout",
     "output_type": "stream",
     "text": [
      "Saving as : /home/alex/chat_bot_wrike/wrike-bot/help_good_for_wrike/search?page=79&query=Sharing+folders&utf8=%E2%9C%93.csv {'https://help.wrike.com/hc/en-us/categories/200939185-Integrations', 'https://help.wrike.com/hc/en-us/sections/202423365-Everything-Else'}\n",
      "/home/alex/chat_bot_wrike/wrike-bot/help_good_for_wrike/search?page=79&query=Sharing+folders&utf8=%E2%9C%93.csv\n"
     ]
    },
    {
     "name": "stderr",
     "output_type": "stream",
     "text": [
      "2020-09-14 07:07:18 [scrapy.extensions.logstats] INFO: Crawled 884055 pages (at 529 pages/min), scraped 0 items (at 0 items/min)\n",
      "2020-09-14 07:08:18 [scrapy.extensions.logstats] INFO: Crawled 884713 pages (at 658 pages/min), scraped 0 items (at 0 items/min)\n",
      "2020-09-14 07:09:18 [scrapy.extensions.logstats] INFO: Crawled 885338 pages (at 625 pages/min), scraped 0 items (at 0 items/min)\n"
     ]
    },
    {
     "name": "stdout",
     "output_type": "stream",
     "text": [
      "Saving as : /home/alex/chat_bot_wrike/wrike-bot/help_good_for_wrike/search?page=76&query=Sharing+folders&utf8=%E2%9C%93.csv {'https://help.wrike.com/hc/en-us/sections/201893045-Organization', 'https://help.wrike.com/hc/en-us/categories/200942115-Tasks-Folders-Projects-and-Spaces'}\n",
      "/home/alex/chat_bot_wrike/wrike-bot/help_good_for_wrike/search?page=76&query=Sharing+folders&utf8=%E2%9C%93.csv\n"
     ]
    },
    {
     "name": "stderr",
     "output_type": "stream",
     "text": [
      "2020-09-14 07:10:18 [scrapy.extensions.logstats] INFO: Crawled 885813 pages (at 475 pages/min), scraped 0 items (at 0 items/min)\n",
      "2020-09-14 07:11:18 [scrapy.extensions.logstats] INFO: Crawled 886355 pages (at 542 pages/min), scraped 0 items (at 0 items/min)\n",
      "2020-09-14 07:12:18 [scrapy.extensions.logstats] INFO: Crawled 886881 pages (at 526 pages/min), scraped 0 items (at 0 items/min)\n",
      "2020-09-14 07:13:18 [scrapy.extensions.logstats] INFO: Crawled 887531 pages (at 650 pages/min), scraped 0 items (at 0 items/min)\n",
      "2020-09-14 07:14:18 [scrapy.extensions.logstats] INFO: Crawled 888215 pages (at 684 pages/min), scraped 0 items (at 0 items/min)\n",
      "2020-09-14 07:15:18 [scrapy.extensions.logstats] INFO: Crawled 888775 pages (at 560 pages/min), scraped 0 items (at 0 items/min)\n",
      "2020-09-14 07:16:18 [scrapy.extensions.logstats] INFO: Crawled 889172 pages (at 397 pages/min), scraped 0 items (at 0 items/min)\n",
      "2020-09-14 07:17:18 [scrapy.extensions.logstats] INFO: Crawled 889733 pages (at 561 pages/min), scraped 0 items (at 0 items/min)\n",
      "2020-09-14 07:18:18 [scrapy.extensions.logstats] INFO: Crawled 890502 pages (at 769 pages/min), scraped 0 items (at 0 items/min)\n",
      "2020-09-14 07:19:18 [scrapy.extensions.logstats] INFO: Crawled 891203 pages (at 701 pages/min), scraped 0 items (at 0 items/min)\n",
      "2020-09-14 07:20:18 [scrapy.extensions.logstats] INFO: Crawled 891877 pages (at 674 pages/min), scraped 0 items (at 0 items/min)\n",
      "2020-09-14 07:21:18 [scrapy.extensions.logstats] INFO: Crawled 892398 pages (at 521 pages/min), scraped 0 items (at 0 items/min)\n",
      "2020-09-14 07:22:18 [scrapy.extensions.logstats] INFO: Crawled 893101 pages (at 703 pages/min), scraped 0 items (at 0 items/min)\n",
      "2020-09-14 07:23:18 [scrapy.extensions.logstats] INFO: Crawled 893704 pages (at 603 pages/min), scraped 0 items (at 0 items/min)\n",
      "2020-09-14 07:24:18 [scrapy.extensions.logstats] INFO: Crawled 894182 pages (at 478 pages/min), scraped 0 items (at 0 items/min)\n",
      "2020-09-14 07:25:18 [scrapy.extensions.logstats] INFO: Crawled 894548 pages (at 366 pages/min), scraped 0 items (at 0 items/min)\n",
      "2020-09-14 07:26:18 [scrapy.extensions.logstats] INFO: Crawled 895127 pages (at 579 pages/min), scraped 0 items (at 0 items/min)\n",
      "2020-09-14 07:27:18 [scrapy.extensions.logstats] INFO: Crawled 895683 pages (at 556 pages/min), scraped 0 items (at 0 items/min)\n",
      "2020-09-14 07:28:19 [scrapy.extensions.logstats] INFO: Crawled 896116 pages (at 433 pages/min), scraped 0 items (at 0 items/min)\n",
      "2020-09-14 07:29:18 [scrapy.extensions.logstats] INFO: Crawled 896811 pages (at 695 pages/min), scraped 0 items (at 0 items/min)\n",
      "2020-09-14 07:30:18 [scrapy.extensions.logstats] INFO: Crawled 897274 pages (at 463 pages/min), scraped 0 items (at 0 items/min)\n",
      "2020-09-14 07:31:18 [scrapy.extensions.logstats] INFO: Crawled 897916 pages (at 642 pages/min), scraped 0 items (at 0 items/min)\n",
      "2020-09-14 07:32:18 [scrapy.extensions.logstats] INFO: Crawled 898593 pages (at 677 pages/min), scraped 0 items (at 0 items/min)\n",
      "2020-09-14 07:33:18 [scrapy.extensions.logstats] INFO: Crawled 899226 pages (at 633 pages/min), scraped 0 items (at 0 items/min)\n",
      "2020-09-14 07:34:18 [scrapy.extensions.logstats] INFO: Crawled 899867 pages (at 641 pages/min), scraped 0 items (at 0 items/min)\n",
      "2020-09-14 07:35:18 [scrapy.extensions.logstats] INFO: Crawled 900466 pages (at 599 pages/min), scraped 0 items (at 0 items/min)\n",
      "2020-09-14 07:36:18 [scrapy.extensions.logstats] INFO: Crawled 901157 pages (at 691 pages/min), scraped 0 items (at 0 items/min)\n",
      "2020-09-14 07:37:18 [scrapy.extensions.logstats] INFO: Crawled 901817 pages (at 660 pages/min), scraped 0 items (at 0 items/min)\n",
      "2020-09-14 07:38:18 [scrapy.extensions.logstats] INFO: Crawled 902340 pages (at 523 pages/min), scraped 0 items (at 0 items/min)\n",
      "2020-09-14 07:39:18 [scrapy.extensions.logstats] INFO: Crawled 902894 pages (at 554 pages/min), scraped 0 items (at 0 items/min)\n",
      "2020-09-14 07:40:18 [scrapy.extensions.logstats] INFO: Crawled 903462 pages (at 568 pages/min), scraped 0 items (at 0 items/min)\n",
      "2020-09-14 07:41:18 [scrapy.extensions.logstats] INFO: Crawled 904080 pages (at 618 pages/min), scraped 0 items (at 0 items/min)\n",
      "2020-09-14 07:42:18 [scrapy.extensions.logstats] INFO: Crawled 904687 pages (at 607 pages/min), scraped 0 items (at 0 items/min)\n",
      "2020-09-14 07:43:18 [scrapy.extensions.logstats] INFO: Crawled 905298 pages (at 611 pages/min), scraped 0 items (at 0 items/min)\n",
      "2020-09-14 07:44:18 [scrapy.extensions.logstats] INFO: Crawled 905907 pages (at 609 pages/min), scraped 0 items (at 0 items/min)\n",
      "2020-09-14 07:45:18 [scrapy.extensions.logstats] INFO: Crawled 906341 pages (at 434 pages/min), scraped 0 items (at 0 items/min)\n",
      "2020-09-14 07:46:18 [scrapy.extensions.logstats] INFO: Crawled 906980 pages (at 639 pages/min), scraped 0 items (at 0 items/min)\n",
      "2020-09-14 07:47:18 [scrapy.extensions.logstats] INFO: Crawled 907645 pages (at 665 pages/min), scraped 0 items (at 0 items/min)\n",
      "2020-09-14 07:48:19 [scrapy.extensions.logstats] INFO: Crawled 908258 pages (at 613 pages/min), scraped 0 items (at 0 items/min)\n",
      "2020-09-14 07:49:18 [scrapy.extensions.logstats] INFO: Crawled 908884 pages (at 626 pages/min), scraped 0 items (at 0 items/min)\n",
      "2020-09-14 07:50:18 [scrapy.extensions.logstats] INFO: Crawled 909497 pages (at 613 pages/min), scraped 0 items (at 0 items/min)\n",
      "2020-09-14 07:51:18 [scrapy.extensions.logstats] INFO: Crawled 910066 pages (at 569 pages/min), scraped 0 items (at 0 items/min)\n",
      "2020-09-14 07:52:18 [scrapy.extensions.logstats] INFO: Crawled 910696 pages (at 630 pages/min), scraped 0 items (at 0 items/min)\n",
      "2020-09-14 07:53:18 [scrapy.extensions.logstats] INFO: Crawled 911351 pages (at 655 pages/min), scraped 0 items (at 0 items/min)\n",
      "2020-09-14 07:54:18 [scrapy.extensions.logstats] INFO: Crawled 912093 pages (at 742 pages/min), scraped 0 items (at 0 items/min)\n",
      "2020-09-14 07:55:18 [scrapy.extensions.logstats] INFO: Crawled 912800 pages (at 707 pages/min), scraped 0 items (at 0 items/min)\n",
      "2020-09-14 07:56:18 [scrapy.extensions.logstats] INFO: Crawled 913513 pages (at 713 pages/min), scraped 0 items (at 0 items/min)\n",
      "2020-09-14 07:57:18 [scrapy.extensions.logstats] INFO: Crawled 914198 pages (at 685 pages/min), scraped 0 items (at 0 items/min)\n",
      "2020-09-14 07:58:18 [scrapy.extensions.logstats] INFO: Crawled 914904 pages (at 706 pages/min), scraped 0 items (at 0 items/min)\n",
      "2020-09-14 07:59:18 [scrapy.extensions.logstats] INFO: Crawled 915376 pages (at 472 pages/min), scraped 0 items (at 0 items/min)\n",
      "2020-09-14 08:00:18 [scrapy.extensions.logstats] INFO: Crawled 916099 pages (at 723 pages/min), scraped 0 items (at 0 items/min)\n",
      "2020-09-14 08:01:18 [scrapy.extensions.logstats] INFO: Crawled 916860 pages (at 761 pages/min), scraped 0 items (at 0 items/min)\n",
      "2020-09-14 08:02:18 [scrapy.extensions.logstats] INFO: Crawled 917575 pages (at 715 pages/min), scraped 0 items (at 0 items/min)\n",
      "2020-09-14 08:03:18 [scrapy.extensions.logstats] INFO: Crawled 918288 pages (at 713 pages/min), scraped 0 items (at 0 items/min)\n",
      "2020-09-14 08:04:18 [scrapy.extensions.logstats] INFO: Crawled 919032 pages (at 744 pages/min), scraped 0 items (at 0 items/min)\n",
      "2020-09-14 08:05:18 [scrapy.extensions.logstats] INFO: Crawled 919742 pages (at 710 pages/min), scraped 0 items (at 0 items/min)\n",
      "2020-09-14 08:06:18 [scrapy.extensions.logstats] INFO: Crawled 920436 pages (at 694 pages/min), scraped 0 items (at 0 items/min)\n",
      "2020-09-14 08:07:18 [scrapy.extensions.logstats] INFO: Crawled 921227 pages (at 791 pages/min), scraped 0 items (at 0 items/min)\n",
      "2020-09-14 08:08:18 [scrapy.extensions.logstats] INFO: Crawled 922011 pages (at 784 pages/min), scraped 0 items (at 0 items/min)\n",
      "2020-09-14 08:09:18 [scrapy.extensions.logstats] INFO: Crawled 922778 pages (at 767 pages/min), scraped 0 items (at 0 items/min)\n",
      "2020-09-14 08:10:18 [scrapy.extensions.logstats] INFO: Crawled 923497 pages (at 719 pages/min), scraped 0 items (at 0 items/min)\n",
      "2020-09-14 08:11:18 [scrapy.extensions.logstats] INFO: Crawled 924231 pages (at 734 pages/min), scraped 0 items (at 0 items/min)\n",
      "2020-09-14 08:12:18 [scrapy.extensions.logstats] INFO: Crawled 924698 pages (at 467 pages/min), scraped 0 items (at 0 items/min)\n",
      "2020-09-14 08:13:18 [scrapy.extensions.logstats] INFO: Crawled 925390 pages (at 692 pages/min), scraped 0 items (at 0 items/min)\n"
     ]
    },
    {
     "name": "stderr",
     "output_type": "stream",
     "text": [
      "2020-09-14 08:14:18 [scrapy.extensions.logstats] INFO: Crawled 926116 pages (at 726 pages/min), scraped 0 items (at 0 items/min)\n",
      "2020-09-14 08:15:18 [scrapy.extensions.logstats] INFO: Crawled 926855 pages (at 739 pages/min), scraped 0 items (at 0 items/min)\n",
      "2020-09-14 08:16:18 [scrapy.extensions.logstats] INFO: Crawled 927507 pages (at 652 pages/min), scraped 0 items (at 0 items/min)\n",
      "2020-09-14 08:17:18 [scrapy.extensions.logstats] INFO: Crawled 928210 pages (at 703 pages/min), scraped 0 items (at 0 items/min)\n",
      "2020-09-14 08:18:18 [scrapy.extensions.logstats] INFO: Crawled 928935 pages (at 725 pages/min), scraped 0 items (at 0 items/min)\n",
      "2020-09-14 08:19:18 [scrapy.extensions.logstats] INFO: Crawled 929706 pages (at 771 pages/min), scraped 0 items (at 0 items/min)\n",
      "2020-09-14 08:20:18 [scrapy.extensions.logstats] INFO: Crawled 930467 pages (at 761 pages/min), scraped 0 items (at 0 items/min)\n",
      "2020-09-14 08:21:18 [scrapy.extensions.logstats] INFO: Crawled 931208 pages (at 741 pages/min), scraped 0 items (at 0 items/min)\n",
      "2020-09-14 08:22:18 [scrapy.extensions.logstats] INFO: Crawled 931868 pages (at 660 pages/min), scraped 0 items (at 0 items/min)\n",
      "2020-09-14 08:23:18 [scrapy.extensions.logstats] INFO: Crawled 932586 pages (at 718 pages/min), scraped 0 items (at 0 items/min)\n",
      "2020-09-14 08:24:18 [scrapy.extensions.logstats] INFO: Crawled 933210 pages (at 624 pages/min), scraped 0 items (at 0 items/min)\n",
      "2020-09-14 08:25:18 [scrapy.extensions.logstats] INFO: Crawled 933633 pages (at 423 pages/min), scraped 0 items (at 0 items/min)\n"
     ]
    },
    {
     "name": "stdout",
     "output_type": "stream",
     "text": [
      "Saving as : /home/alex/chat_bot_wrike/wrike-bot/help_good_for_wrike/search?page=27&query=Gantt+chart&utf8=%E2%9C%93.csv {'https://help.wrike.com/hc/en-us/categories/200942135-Monitoring-Panel', 'https://help.wrike.com/hc/en-us/sections/201893085-Reporting', 'https://help.wrike.com/hc/en-us/sections/201834249-Folders-and-Projects', 'https://help.wrike.com/hc/en-us/categories/200942155-Types-of-Accounts-and-Licenses', 'https://help.wrike.com/hc/en-us/sections/201893095-Accounts', 'https://help.wrike.com/hc/en-us/categories/201188645-Getting-Started', 'https://help.wrike.com/hc/en-us/categories/200942115-Tasks-Folders-Projects-and-Spaces'}\n",
      "/home/alex/chat_bot_wrike/wrike-bot/help_good_for_wrike/search?page=27&query=Gantt+chart&utf8=%E2%9C%93.csv\n"
     ]
    },
    {
     "name": "stderr",
     "output_type": "stream",
     "text": [
      "2020-09-14 08:26:18 [scrapy.extensions.logstats] INFO: Crawled 934151 pages (at 518 pages/min), scraped 0 items (at 0 items/min)\n"
     ]
    },
    {
     "name": "stdout",
     "output_type": "stream",
     "text": [
      "Saving as : /home/alex/chat_bot_wrike/wrike-bot/help_good_for_wrike/360025943954-Keyboard-Text-Short-cuts-when-creating-a-task?page=1.csv {'https://help.wrike.com/hc/en-us/articles/210324185-Email-Integration#createtask'}\n",
      "/home/alex/chat_bot_wrike/wrike-bot/help_good_for_wrike/360025943954-Keyboard-Text-Short-cuts-when-creating-a-task?page=1.csv\n"
     ]
    },
    {
     "name": "stderr",
     "output_type": "stream",
     "text": [
      "2020-09-14 08:27:18 [scrapy.extensions.logstats] INFO: Crawled 934737 pages (at 586 pages/min), scraped 0 items (at 0 items/min)\n",
      "2020-09-14 08:28:18 [scrapy.extensions.logstats] INFO: Crawled 935129 pages (at 392 pages/min), scraped 0 items (at 0 items/min)\n",
      "2020-09-14 08:29:18 [scrapy.extensions.logstats] INFO: Crawled 935649 pages (at 520 pages/min), scraped 0 items (at 0 items/min)\n",
      "2020-09-14 08:30:18 [scrapy.extensions.logstats] INFO: Crawled 936238 pages (at 589 pages/min), scraped 0 items (at 0 items/min)\n",
      "2020-09-14 08:31:18 [scrapy.extensions.logstats] INFO: Crawled 936859 pages (at 621 pages/min), scraped 0 items (at 0 items/min)\n",
      "2020-09-14 08:32:18 [scrapy.extensions.logstats] INFO: Crawled 937385 pages (at 526 pages/min), scraped 0 items (at 0 items/min)\n",
      "2020-09-14 08:33:18 [scrapy.extensions.logstats] INFO: Crawled 937902 pages (at 517 pages/min), scraped 0 items (at 0 items/min)\n",
      "2020-09-14 08:34:18 [scrapy.extensions.logstats] INFO: Crawled 938489 pages (at 587 pages/min), scraped 0 items (at 0 items/min)\n",
      "2020-09-14 08:35:18 [scrapy.extensions.logstats] INFO: Crawled 939042 pages (at 553 pages/min), scraped 0 items (at 0 items/min)\n",
      "2020-09-14 08:36:18 [scrapy.extensions.logstats] INFO: Crawled 939741 pages (at 699 pages/min), scraped 0 items (at 0 items/min)\n"
     ]
    },
    {
     "name": "stdout",
     "output_type": "stream",
     "text": [
      "Saving as : /home/alex/chat_bot_wrike/wrike-bot/help_good_for_wrike/search?page=28&query=Gantt+chart&utf8=%E2%9C%93.csv {'https://help.wrike.com/hc/en-us/sections/201893035-Tasks', 'https://help.wrike.com/hc/en-us/categories/200942135-Monitoring-Panel', 'https://help.wrike.com/hc/en-us/sections/201825379-General-Account-Management', 'https://help.wrike.com/hc/en-us/sections/360004618833-Wrike-Resource', 'https://help.wrike.com/hc/en-us/categories/200942115-Tasks-Folders-Projects-and-Spaces', 'https://help.wrike.com/hc/en-us/categories/200913179-Account-Management'}\n",
      "/home/alex/chat_bot_wrike/wrike-bot/help_good_for_wrike/search?page=28&query=Gantt+chart&utf8=%E2%9C%93.csv\n"
     ]
    },
    {
     "name": "stderr",
     "output_type": "stream",
     "text": [
      "2020-09-14 08:37:18 [scrapy.extensions.logstats] INFO: Crawled 940386 pages (at 645 pages/min), scraped 0 items (at 0 items/min)\n",
      "2020-09-14 08:38:18 [scrapy.extensions.logstats] INFO: Crawled 941088 pages (at 702 pages/min), scraped 0 items (at 0 items/min)\n",
      "2020-09-14 08:39:18 [scrapy.extensions.logstats] INFO: Crawled 941535 pages (at 447 pages/min), scraped 0 items (at 0 items/min)\n",
      "2020-09-14 08:40:18 [scrapy.extensions.logstats] INFO: Crawled 942208 pages (at 673 pages/min), scraped 0 items (at 0 items/min)\n",
      "2020-09-14 08:41:18 [scrapy.extensions.logstats] INFO: Crawled 942858 pages (at 650 pages/min), scraped 0 items (at 0 items/min)\n",
      "2020-09-14 08:42:18 [scrapy.extensions.logstats] INFO: Crawled 943564 pages (at 706 pages/min), scraped 0 items (at 0 items/min)\n",
      "2020-09-14 08:43:18 [scrapy.extensions.logstats] INFO: Crawled 944225 pages (at 661 pages/min), scraped 0 items (at 0 items/min)\n",
      "2020-09-14 08:44:18 [scrapy.extensions.logstats] INFO: Crawled 944922 pages (at 697 pages/min), scraped 0 items (at 0 items/min)\n",
      "2020-09-14 08:45:19 [scrapy.extensions.logstats] INFO: Crawled 945514 pages (at 592 pages/min), scraped 0 items (at 0 items/min)\n",
      "2020-09-14 08:46:18 [scrapy.extensions.logstats] INFO: Crawled 946070 pages (at 556 pages/min), scraped 0 items (at 0 items/min)\n",
      "2020-09-14 08:47:18 [scrapy.extensions.logstats] INFO: Crawled 946759 pages (at 689 pages/min), scraped 0 items (at 0 items/min)\n",
      "2020-09-14 08:48:18 [scrapy.extensions.logstats] INFO: Crawled 947211 pages (at 452 pages/min), scraped 0 items (at 0 items/min)\n",
      "2020-09-14 08:49:18 [scrapy.extensions.logstats] INFO: Crawled 947891 pages (at 680 pages/min), scraped 0 items (at 0 items/min)\n",
      "2020-09-14 08:50:18 [scrapy.extensions.logstats] INFO: Crawled 948507 pages (at 616 pages/min), scraped 0 items (at 0 items/min)\n",
      "2020-09-14 08:51:18 [scrapy.extensions.logstats] INFO: Crawled 949071 pages (at 564 pages/min), scraped 0 items (at 0 items/min)\n",
      "2020-09-14 08:52:18 [scrapy.extensions.logstats] INFO: Crawled 949627 pages (at 556 pages/min), scraped 0 items (at 0 items/min)\n",
      "2020-09-14 08:53:18 [scrapy.extensions.logstats] INFO: Crawled 950045 pages (at 418 pages/min), scraped 0 items (at 0 items/min)\n",
      "2020-09-14 08:54:18 [scrapy.extensions.logstats] INFO: Crawled 950621 pages (at 576 pages/min), scraped 0 items (at 0 items/min)\n",
      "2020-09-14 08:55:18 [scrapy.extensions.logstats] INFO: Crawled 951140 pages (at 519 pages/min), scraped 0 items (at 0 items/min)\n",
      "2020-09-14 08:56:18 [scrapy.extensions.logstats] INFO: Crawled 951725 pages (at 585 pages/min), scraped 0 items (at 0 items/min)\n",
      "2020-09-14 08:57:18 [scrapy.extensions.logstats] INFO: Crawled 952241 pages (at 516 pages/min), scraped 0 items (at 0 items/min)\n",
      "2020-09-14 08:58:18 [scrapy.extensions.logstats] INFO: Crawled 952767 pages (at 526 pages/min), scraped 0 items (at 0 items/min)\n",
      "2020-09-14 08:59:18 [scrapy.extensions.logstats] INFO: Crawled 953391 pages (at 624 pages/min), scraped 0 items (at 0 items/min)\n",
      "2020-09-14 09:00:18 [scrapy.extensions.logstats] INFO: Crawled 954072 pages (at 681 pages/min), scraped 0 items (at 0 items/min)\n",
      "2020-09-14 09:01:18 [scrapy.extensions.logstats] INFO: Crawled 954730 pages (at 658 pages/min), scraped 0 items (at 0 items/min)\n",
      "2020-09-14 09:02:18 [scrapy.extensions.logstats] INFO: Crawled 955353 pages (at 623 pages/min), scraped 0 items (at 0 items/min)\n",
      "2020-09-14 09:03:18 [scrapy.extensions.logstats] INFO: Crawled 956015 pages (at 662 pages/min), scraped 0 items (at 0 items/min)\n",
      "2020-09-14 09:04:18 [scrapy.extensions.logstats] INFO: Crawled 956694 pages (at 679 pages/min), scraped 0 items (at 0 items/min)\n"
     ]
    },
    {
     "name": "stdout",
     "output_type": "stream",
     "text": [
      "Saving as : /home/alex/chat_bot_wrike/wrike-bot/help_good_for_wrike/search?page=29&query=Gantt+chart&utf8=%E2%9C%93.csv {'https://help.wrike.com/hc/en-us/categories/200942115-Tasks-Folders-Projects-and-Spaces', 'https://help.wrike.com/hc/en-us/sections/201834259-Advanced', 'https://help.wrike.com/hc/en-us/sections/201893115-Mobile', 'https://help.wrike.com/hc/en-us/sections/360001968634-Import-and-Export', 'https://help.wrike.com/hc/en-us/categories/200942165-Apps', 'https://help.wrike.com/hc/en-us/categories/200939185-Integrations'}\n",
      "/home/alex/chat_bot_wrike/wrike-bot/help_good_for_wrike/search?page=29&query=Gantt+chart&utf8=%E2%9C%93.csv\n"
     ]
    },
    {
     "name": "stderr",
     "output_type": "stream",
     "text": [
      "2020-09-14 09:05:19 [scrapy.extensions.logstats] INFO: Crawled 957304 pages (at 610 pages/min), scraped 0 items (at 0 items/min)\n",
      "2020-09-14 09:06:18 [scrapy.extensions.logstats] INFO: Crawled 957972 pages (at 668 pages/min), scraped 0 items (at 0 items/min)\n",
      "2020-09-14 09:07:18 [scrapy.extensions.logstats] INFO: Crawled 958334 pages (at 362 pages/min), scraped 0 items (at 0 items/min)\n",
      "2020-09-14 09:08:18 [scrapy.extensions.logstats] INFO: Crawled 959018 pages (at 684 pages/min), scraped 0 items (at 0 items/min)\n",
      "2020-09-14 09:09:18 [scrapy.extensions.logstats] INFO: Crawled 959713 pages (at 695 pages/min), scraped 0 items (at 0 items/min)\n",
      "2020-09-14 09:10:18 [scrapy.extensions.logstats] INFO: Crawled 960338 pages (at 625 pages/min), scraped 0 items (at 0 items/min)\n",
      "2020-09-14 09:11:18 [scrapy.extensions.logstats] INFO: Crawled 960973 pages (at 635 pages/min), scraped 0 items (at 0 items/min)\n"
     ]
    },
    {
     "name": "stdout",
     "output_type": "stream",
     "text": [
      "Saving as : /home/alex/chat_bot_wrike/wrike-bot/help_good_for_wrike/search?page=30&query=Gantt+chart&utf8=%E2%9C%93.csv {'https://help.wrike.com/hc/en-us/sections/201893115-Mobile', 'https://help.wrike.com/hc/en-us/sections/202366329-Proofing-and-Approvals', 'https://help.wrike.com/hc/en-us/categories/200942115-Tasks-Folders-Projects-and-Spaces', 'https://help.wrike.com/hc/en-us/categories/200942165-Apps'}\n",
      "/home/alex/chat_bot_wrike/wrike-bot/help_good_for_wrike/search?page=30&query=Gantt+chart&utf8=%E2%9C%93.csv\n"
     ]
    },
    {
     "name": "stderr",
     "output_type": "stream",
     "text": [
      "2020-09-14 09:12:18 [scrapy.extensions.logstats] INFO: Crawled 961522 pages (at 549 pages/min), scraped 0 items (at 0 items/min)\n",
      "2020-09-14 09:13:18 [scrapy.extensions.logstats] INFO: Crawled 962115 pages (at 593 pages/min), scraped 0 items (at 0 items/min)\n",
      "2020-09-14 09:14:18 [scrapy.extensions.logstats] INFO: Crawled 962773 pages (at 658 pages/min), scraped 0 items (at 0 items/min)\n",
      "2020-09-14 09:15:18 [scrapy.extensions.logstats] INFO: Crawled 963473 pages (at 700 pages/min), scraped 0 items (at 0 items/min)\n",
      "2020-09-14 09:16:18 [scrapy.extensions.logstats] INFO: Crawled 964144 pages (at 671 pages/min), scraped 0 items (at 0 items/min)\n",
      "2020-09-14 09:17:18 [scrapy.extensions.logstats] INFO: Crawled 964817 pages (at 673 pages/min), scraped 0 items (at 0 items/min)\n",
      "2020-09-14 09:18:18 [scrapy.extensions.logstats] INFO: Crawled 965374 pages (at 557 pages/min), scraped 0 items (at 0 items/min)\n",
      "2020-09-14 09:19:18 [scrapy.extensions.logstats] INFO: Crawled 966076 pages (at 702 pages/min), scraped 0 items (at 0 items/min)\n",
      "2020-09-14 09:20:18 [scrapy.extensions.logstats] INFO: Crawled 966754 pages (at 678 pages/min), scraped 0 items (at 0 items/min)\n",
      "2020-09-14 09:21:29 [scrapy.extensions.logstats] INFO: Crawled 967265 pages (at 511 pages/min), scraped 0 items (at 0 items/min)\n",
      "2020-09-14 09:22:18 [scrapy.extensions.logstats] INFO: Crawled 967819 pages (at 554 pages/min), scraped 0 items (at 0 items/min)\n",
      "2020-09-14 09:23:18 [scrapy.extensions.logstats] INFO: Crawled 968451 pages (at 632 pages/min), scraped 0 items (at 0 items/min)\n",
      "2020-09-14 09:24:18 [scrapy.extensions.logstats] INFO: Crawled 969123 pages (at 672 pages/min), scraped 0 items (at 0 items/min)\n",
      "2020-09-14 09:25:18 [scrapy.extensions.logstats] INFO: Crawled 969771 pages (at 648 pages/min), scraped 0 items (at 0 items/min)\n",
      "2020-09-14 09:26:18 [scrapy.extensions.logstats] INFO: Crawled 970475 pages (at 704 pages/min), scraped 0 items (at 0 items/min)\n",
      "2020-09-14 09:27:18 [scrapy.extensions.logstats] INFO: Crawled 971188 pages (at 713 pages/min), scraped 0 items (at 0 items/min)\n",
      "2020-09-14 09:28:18 [scrapy.extensions.logstats] INFO: Crawled 971896 pages (at 708 pages/min), scraped 0 items (at 0 items/min)\n",
      "2020-09-14 09:29:18 [scrapy.extensions.logstats] INFO: Crawled 972586 pages (at 690 pages/min), scraped 0 items (at 0 items/min)\n",
      "2020-09-14 09:30:18 [scrapy.extensions.logstats] INFO: Crawled 973295 pages (at 709 pages/min), scraped 0 items (at 0 items/min)\n",
      "2020-09-14 09:31:18 [scrapy.extensions.logstats] INFO: Crawled 974004 pages (at 709 pages/min), scraped 0 items (at 0 items/min)\n",
      "2020-09-14 09:32:18 [scrapy.extensions.logstats] INFO: Crawled 974699 pages (at 695 pages/min), scraped 0 items (at 0 items/min)\n",
      "2020-09-14 09:33:18 [scrapy.extensions.logstats] INFO: Crawled 975372 pages (at 673 pages/min), scraped 0 items (at 0 items/min)\n",
      "2020-09-14 09:34:18 [scrapy.extensions.logstats] INFO: Crawled 976125 pages (at 753 pages/min), scraped 0 items (at 0 items/min)\n",
      "2020-09-14 09:35:18 [scrapy.extensions.logstats] INFO: Crawled 976849 pages (at 724 pages/min), scraped 0 items (at 0 items/min)\n",
      "2020-09-14 09:36:18 [scrapy.extensions.logstats] INFO: Crawled 977318 pages (at 469 pages/min), scraped 0 items (at 0 items/min)\n",
      "2020-09-14 09:37:18 [scrapy.extensions.logstats] INFO: Crawled 977988 pages (at 670 pages/min), scraped 0 items (at 0 items/min)\n",
      "2020-09-14 09:38:18 [scrapy.extensions.logstats] INFO: Crawled 978678 pages (at 690 pages/min), scraped 0 items (at 0 items/min)\n",
      "2020-09-14 09:39:18 [scrapy.extensions.logstats] INFO: Crawled 979427 pages (at 749 pages/min), scraped 0 items (at 0 items/min)\n",
      "2020-09-14 09:40:18 [scrapy.extensions.logstats] INFO: Crawled 980166 pages (at 739 pages/min), scraped 0 items (at 0 items/min)\n",
      "2020-09-14 09:41:18 [scrapy.extensions.logstats] INFO: Crawled 980879 pages (at 713 pages/min), scraped 0 items (at 0 items/min)\n",
      "2020-09-14 09:42:18 [scrapy.extensions.logstats] INFO: Crawled 981653 pages (at 774 pages/min), scraped 0 items (at 0 items/min)\n",
      "2020-09-14 09:43:18 [scrapy.extensions.logstats] INFO: Crawled 982430 pages (at 777 pages/min), scraped 0 items (at 0 items/min)\n",
      "2020-09-14 09:44:18 [scrapy.extensions.logstats] INFO: Crawled 983183 pages (at 753 pages/min), scraped 0 items (at 0 items/min)\n",
      "2020-09-14 09:45:18 [scrapy.extensions.logstats] INFO: Crawled 983937 pages (at 754 pages/min), scraped 0 items (at 0 items/min)\n",
      "2020-09-14 09:46:18 [scrapy.extensions.logstats] INFO: Crawled 984695 pages (at 758 pages/min), scraped 0 items (at 0 items/min)\n",
      "2020-09-14 09:47:18 [scrapy.extensions.logstats] INFO: Crawled 985371 pages (at 676 pages/min), scraped 0 items (at 0 items/min)\n",
      "2020-09-14 09:48:18 [scrapy.extensions.logstats] INFO: Crawled 986129 pages (at 758 pages/min), scraped 0 items (at 0 items/min)\n",
      "2020-09-14 09:49:18 [scrapy.extensions.logstats] INFO: Crawled 986831 pages (at 702 pages/min), scraped 0 items (at 0 items/min)\n",
      "2020-09-14 09:50:18 [scrapy.extensions.logstats] INFO: Crawled 987300 pages (at 469 pages/min), scraped 0 items (at 0 items/min)\n",
      "2020-09-14 09:51:18 [scrapy.extensions.logstats] INFO: Crawled 988050 pages (at 750 pages/min), scraped 0 items (at 0 items/min)\n",
      "2020-09-14 09:52:18 [scrapy.extensions.logstats] INFO: Crawled 988775 pages (at 725 pages/min), scraped 0 items (at 0 items/min)\n",
      "2020-09-14 09:53:18 [scrapy.extensions.logstats] INFO: Crawled 989543 pages (at 768 pages/min), scraped 0 items (at 0 items/min)\n",
      "2020-09-14 09:54:18 [scrapy.extensions.logstats] INFO: Crawled 990230 pages (at 687 pages/min), scraped 0 items (at 0 items/min)\n",
      "2020-09-14 09:55:18 [scrapy.extensions.logstats] INFO: Crawled 990997 pages (at 767 pages/min), scraped 0 items (at 0 items/min)\n",
      "2020-09-14 09:56:18 [scrapy.extensions.logstats] INFO: Crawled 991736 pages (at 739 pages/min), scraped 0 items (at 0 items/min)\n",
      "2020-09-14 09:57:18 [scrapy.extensions.logstats] INFO: Crawled 992505 pages (at 769 pages/min), scraped 0 items (at 0 items/min)\n",
      "2020-09-14 09:58:18 [scrapy.extensions.logstats] INFO: Crawled 993279 pages (at 774 pages/min), scraped 0 items (at 0 items/min)\n",
      "2020-09-14 09:59:18 [scrapy.extensions.logstats] INFO: Crawled 993943 pages (at 664 pages/min), scraped 0 items (at 0 items/min)\n",
      "2020-09-14 10:00:18 [scrapy.extensions.logstats] INFO: Crawled 994703 pages (at 760 pages/min), scraped 0 items (at 0 items/min)\n",
      "2020-09-14 10:01:18 [scrapy.extensions.logstats] INFO: Crawled 995455 pages (at 752 pages/min), scraped 0 items (at 0 items/min)\n",
      "2020-09-14 10:02:18 [scrapy.extensions.logstats] INFO: Crawled 996189 pages (at 734 pages/min), scraped 0 items (at 0 items/min)\n",
      "2020-09-14 10:03:30 [scrapy.extensions.logstats] INFO: Crawled 996826 pages (at 637 pages/min), scraped 0 items (at 0 items/min)\n",
      "2020-09-14 10:04:18 [scrapy.extensions.logstats] INFO: Crawled 997395 pages (at 569 pages/min), scraped 0 items (at 0 items/min)\n",
      "2020-09-14 10:05:18 [scrapy.extensions.logstats] INFO: Crawled 998065 pages (at 670 pages/min), scraped 0 items (at 0 items/min)\n",
      "2020-09-14 10:06:18 [scrapy.extensions.logstats] INFO: Crawled 998657 pages (at 592 pages/min), scraped 0 items (at 0 items/min)\n",
      "2020-09-14 10:07:18 [scrapy.extensions.logstats] INFO: Crawled 999348 pages (at 691 pages/min), scraped 0 items (at 0 items/min)\n",
      "2020-09-14 10:08:18 [scrapy.extensions.logstats] INFO: Crawled 1000069 pages (at 721 pages/min), scraped 0 items (at 0 items/min)\n",
      "2020-09-14 10:09:18 [scrapy.extensions.logstats] INFO: Crawled 1000740 pages (at 671 pages/min), scraped 0 items (at 0 items/min)\n",
      "2020-09-14 10:10:18 [scrapy.extensions.logstats] INFO: Crawled 1001415 pages (at 675 pages/min), scraped 0 items (at 0 items/min)\n",
      "2020-09-14 10:11:18 [scrapy.extensions.logstats] INFO: Crawled 1002084 pages (at 669 pages/min), scraped 0 items (at 0 items/min)\n",
      "2020-09-14 10:12:18 [scrapy.extensions.logstats] INFO: Crawled 1002780 pages (at 696 pages/min), scraped 0 items (at 0 items/min)\n",
      "2020-09-14 10:13:18 [scrapy.extensions.logstats] INFO: Crawled 1003489 pages (at 709 pages/min), scraped 0 items (at 0 items/min)\n",
      "2020-09-14 10:14:18 [scrapy.extensions.logstats] INFO: Crawled 1004179 pages (at 690 pages/min), scraped 0 items (at 0 items/min)\n",
      "2020-09-14 10:15:18 [scrapy.extensions.logstats] INFO: Crawled 1004904 pages (at 725 pages/min), scraped 0 items (at 0 items/min)\n"
     ]
    },
    {
     "name": "stderr",
     "output_type": "stream",
     "text": [
      "2020-09-14 10:16:18 [scrapy.extensions.logstats] INFO: Crawled 1005620 pages (at 716 pages/min), scraped 0 items (at 0 items/min)\n",
      "2020-09-14 10:17:18 [scrapy.extensions.logstats] INFO: Crawled 1006349 pages (at 729 pages/min), scraped 0 items (at 0 items/min)\n",
      "2020-09-14 10:18:18 [scrapy.extensions.logstats] INFO: Crawled 1007063 pages (at 714 pages/min), scraped 0 items (at 0 items/min)\n",
      "2020-09-14 10:19:18 [scrapy.extensions.logstats] INFO: Crawled 1007506 pages (at 443 pages/min), scraped 0 items (at 0 items/min)\n",
      "2020-09-14 10:20:18 [scrapy.extensions.logstats] INFO: Crawled 1008250 pages (at 744 pages/min), scraped 0 items (at 0 items/min)\n",
      "2020-09-14 10:21:18 [scrapy.extensions.logstats] INFO: Crawled 1008982 pages (at 732 pages/min), scraped 0 items (at 0 items/min)\n",
      "2020-09-14 10:22:18 [scrapy.extensions.logstats] INFO: Crawled 1009725 pages (at 743 pages/min), scraped 0 items (at 0 items/min)\n",
      "2020-09-14 10:23:18 [scrapy.extensions.logstats] INFO: Crawled 1010490 pages (at 765 pages/min), scraped 0 items (at 0 items/min)\n",
      "2020-09-14 10:24:18 [scrapy.extensions.logstats] INFO: Crawled 1011253 pages (at 763 pages/min), scraped 0 items (at 0 items/min)\n",
      "2020-09-14 10:25:18 [scrapy.extensions.logstats] INFO: Crawled 1011972 pages (at 719 pages/min), scraped 0 items (at 0 items/min)\n",
      "2020-09-14 10:26:18 [scrapy.extensions.logstats] INFO: Crawled 1012741 pages (at 769 pages/min), scraped 0 items (at 0 items/min)\n",
      "2020-09-14 10:27:18 [scrapy.extensions.logstats] INFO: Crawled 1013524 pages (at 783 pages/min), scraped 0 items (at 0 items/min)\n",
      "2020-09-14 10:28:18 [scrapy.extensions.logstats] INFO: Crawled 1014321 pages (at 797 pages/min), scraped 0 items (at 0 items/min)\n",
      "2020-09-14 10:29:18 [scrapy.extensions.logstats] INFO: Crawled 1015053 pages (at 732 pages/min), scraped 0 items (at 0 items/min)\n",
      "2020-09-14 10:30:18 [scrapy.extensions.logstats] INFO: Crawled 1015846 pages (at 793 pages/min), scraped 0 items (at 0 items/min)\n",
      "2020-09-14 10:31:18 [scrapy.extensions.logstats] INFO: Crawled 1016617 pages (at 771 pages/min), scraped 0 items (at 0 items/min)\n",
      "2020-09-14 10:32:34 [scrapy.extensions.logstats] INFO: Crawled 1017256 pages (at 639 pages/min), scraped 0 items (at 0 items/min)\n",
      "2020-09-14 10:33:18 [scrapy.extensions.logstats] INFO: Crawled 1017808 pages (at 552 pages/min), scraped 0 items (at 0 items/min)\n",
      "2020-09-14 10:34:18 [scrapy.extensions.logstats] INFO: Crawled 1018544 pages (at 736 pages/min), scraped 0 items (at 0 items/min)\n",
      "2020-09-14 10:35:18 [scrapy.extensions.logstats] INFO: Crawled 1019255 pages (at 711 pages/min), scraped 0 items (at 0 items/min)\n",
      "2020-09-14 10:36:18 [scrapy.extensions.logstats] INFO: Crawled 1019990 pages (at 735 pages/min), scraped 0 items (at 0 items/min)\n",
      "2020-09-14 10:37:18 [scrapy.extensions.logstats] INFO: Crawled 1020703 pages (at 713 pages/min), scraped 0 items (at 0 items/min)\n",
      "2020-09-14 10:38:18 [scrapy.extensions.logstats] INFO: Crawled 1021439 pages (at 736 pages/min), scraped 0 items (at 0 items/min)\n",
      "2020-09-14 10:39:18 [scrapy.extensions.logstats] INFO: Crawled 1022150 pages (at 711 pages/min), scraped 0 items (at 0 items/min)\n",
      "2020-09-14 10:40:18 [scrapy.extensions.logstats] INFO: Crawled 1022915 pages (at 765 pages/min), scraped 0 items (at 0 items/min)\n",
      "2020-09-14 10:41:18 [scrapy.extensions.logstats] INFO: Crawled 1023643 pages (at 728 pages/min), scraped 0 items (at 0 items/min)\n",
      "2020-09-14 10:42:18 [scrapy.extensions.logstats] INFO: Crawled 1024378 pages (at 735 pages/min), scraped 0 items (at 0 items/min)\n",
      "2020-09-14 10:43:18 [scrapy.extensions.logstats] INFO: Crawled 1025133 pages (at 755 pages/min), scraped 0 items (at 0 items/min)\n",
      "2020-09-14 10:44:18 [scrapy.extensions.logstats] INFO: Crawled 1025894 pages (at 761 pages/min), scraped 0 items (at 0 items/min)\n",
      "2020-09-14 10:45:18 [scrapy.extensions.logstats] INFO: Crawled 1026640 pages (at 746 pages/min), scraped 0 items (at 0 items/min)\n",
      "2020-09-14 10:46:18 [scrapy.extensions.logstats] INFO: Crawled 1027383 pages (at 743 pages/min), scraped 0 items (at 0 items/min)\n",
      "2020-09-14 10:47:18 [scrapy.extensions.logstats] INFO: Crawled 1027840 pages (at 457 pages/min), scraped 0 items (at 0 items/min)\n",
      "2020-09-14 10:48:18 [scrapy.extensions.logstats] INFO: Crawled 1028575 pages (at 735 pages/min), scraped 0 items (at 0 items/min)\n",
      "2020-09-14 10:49:18 [scrapy.extensions.logstats] INFO: Crawled 1029287 pages (at 712 pages/min), scraped 0 items (at 0 items/min)\n",
      "2020-09-14 10:50:18 [scrapy.extensions.logstats] INFO: Crawled 1029947 pages (at 660 pages/min), scraped 0 items (at 0 items/min)\n",
      "2020-09-14 10:51:18 [scrapy.extensions.logstats] INFO: Crawled 1030645 pages (at 698 pages/min), scraped 0 items (at 0 items/min)\n",
      "2020-09-14 10:52:18 [scrapy.extensions.logstats] INFO: Crawled 1031333 pages (at 688 pages/min), scraped 0 items (at 0 items/min)\n",
      "2020-09-14 10:53:18 [scrapy.extensions.logstats] INFO: Crawled 1032007 pages (at 674 pages/min), scraped 0 items (at 0 items/min)\n",
      "2020-09-14 10:54:18 [scrapy.extensions.logstats] INFO: Crawled 1032647 pages (at 640 pages/min), scraped 0 items (at 0 items/min)\n",
      "2020-09-14 10:55:18 [scrapy.extensions.logstats] INFO: Crawled 1033278 pages (at 631 pages/min), scraped 0 items (at 0 items/min)\n",
      "2020-09-14 10:56:18 [scrapy.extensions.logstats] INFO: Crawled 1033945 pages (at 667 pages/min), scraped 0 items (at 0 items/min)\n",
      "2020-09-14 10:57:18 [scrapy.extensions.logstats] INFO: Crawled 1034723 pages (at 778 pages/min), scraped 0 items (at 0 items/min)\n",
      "2020-09-14 10:58:18 [scrapy.extensions.logstats] INFO: Crawled 1035456 pages (at 733 pages/min), scraped 0 items (at 0 items/min)\n",
      "2020-09-14 10:59:18 [scrapy.extensions.logstats] INFO: Crawled 1036179 pages (at 723 pages/min), scraped 0 items (at 0 items/min)\n",
      "2020-09-14 11:00:18 [scrapy.extensions.logstats] INFO: Crawled 1036922 pages (at 743 pages/min), scraped 0 items (at 0 items/min)\n",
      "2020-09-14 11:01:18 [scrapy.extensions.logstats] INFO: Crawled 1037663 pages (at 741 pages/min), scraped 0 items (at 0 items/min)\n",
      "2020-09-14 11:02:18 [scrapy.extensions.logstats] INFO: Crawled 1038119 pages (at 456 pages/min), scraped 0 items (at 0 items/min)\n",
      "2020-09-14 11:03:18 [scrapy.extensions.logstats] INFO: Crawled 1038834 pages (at 715 pages/min), scraped 0 items (at 0 items/min)\n",
      "2020-09-14 11:04:18 [scrapy.extensions.logstats] INFO: Crawled 1039576 pages (at 742 pages/min), scraped 0 items (at 0 items/min)\n",
      "2020-09-14 11:05:18 [scrapy.extensions.logstats] INFO: Crawled 1040350 pages (at 774 pages/min), scraped 0 items (at 0 items/min)\n",
      "2020-09-14 11:06:18 [scrapy.extensions.logstats] INFO: Crawled 1041085 pages (at 735 pages/min), scraped 0 items (at 0 items/min)\n",
      "2020-09-14 11:07:18 [scrapy.extensions.logstats] INFO: Crawled 1041830 pages (at 745 pages/min), scraped 0 items (at 0 items/min)\n",
      "2020-09-14 11:08:18 [scrapy.extensions.logstats] INFO: Crawled 1042572 pages (at 742 pages/min), scraped 0 items (at 0 items/min)\n",
      "2020-09-14 11:09:18 [scrapy.extensions.logstats] INFO: Crawled 1043294 pages (at 722 pages/min), scraped 0 items (at 0 items/min)\n",
      "2020-09-14 11:10:18 [scrapy.extensions.logstats] INFO: Crawled 1044045 pages (at 751 pages/min), scraped 0 items (at 0 items/min)\n",
      "2020-09-14 11:11:18 [scrapy.extensions.logstats] INFO: Crawled 1044765 pages (at 720 pages/min), scraped 0 items (at 0 items/min)\n",
      "2020-09-14 11:12:18 [scrapy.extensions.logstats] INFO: Crawled 1045480 pages (at 715 pages/min), scraped 0 items (at 0 items/min)\n",
      "2020-09-14 11:13:18 [scrapy.extensions.logstats] INFO: Crawled 1046230 pages (at 750 pages/min), scraped 0 items (at 0 items/min)\n",
      "2020-09-14 11:14:18 [scrapy.extensions.logstats] INFO: Crawled 1046966 pages (at 736 pages/min), scraped 0 items (at 0 items/min)\n",
      "2020-09-14 11:15:18 [scrapy.extensions.logstats] INFO: Crawled 1047714 pages (at 748 pages/min), scraped 0 items (at 0 items/min)\n",
      "2020-09-14 11:16:18 [scrapy.extensions.logstats] INFO: Crawled 1048413 pages (at 699 pages/min), scraped 0 items (at 0 items/min)\n",
      "2020-09-14 11:17:18 [scrapy.extensions.logstats] INFO: Crawled 1048842 pages (at 429 pages/min), scraped 0 items (at 0 items/min)\n",
      "2020-09-14 11:18:18 [scrapy.extensions.logstats] INFO: Crawled 1049510 pages (at 668 pages/min), scraped 0 items (at 0 items/min)\n",
      "2020-09-14 11:19:18 [scrapy.extensions.logstats] INFO: Crawled 1050116 pages (at 606 pages/min), scraped 0 items (at 0 items/min)\n"
     ]
    },
    {
     "name": "stderr",
     "output_type": "stream",
     "text": [
      "2020-09-14 11:20:18 [scrapy.extensions.logstats] INFO: Crawled 1050731 pages (at 615 pages/min), scraped 0 items (at 0 items/min)\n",
      "2020-09-14 11:21:18 [scrapy.extensions.logstats] INFO: Crawled 1051380 pages (at 649 pages/min), scraped 0 items (at 0 items/min)\n",
      "2020-09-14 11:22:18 [scrapy.extensions.logstats] INFO: Crawled 1052065 pages (at 685 pages/min), scraped 0 items (at 0 items/min)\n",
      "2020-09-14 11:23:19 [scrapy.extensions.logstats] INFO: Crawled 1052669 pages (at 604 pages/min), scraped 0 items (at 0 items/min)\n",
      "2020-09-14 11:24:18 [scrapy.extensions.logstats] INFO: Crawled 1053140 pages (at 471 pages/min), scraped 0 items (at 0 items/min)\n",
      "2020-09-14 11:25:18 [scrapy.extensions.logstats] INFO: Crawled 1053726 pages (at 586 pages/min), scraped 0 items (at 0 items/min)\n",
      "2020-09-14 11:26:18 [scrapy.extensions.logstats] INFO: Crawled 1054331 pages (at 605 pages/min), scraped 0 items (at 0 items/min)\n",
      "2020-09-14 11:27:18 [scrapy.extensions.logstats] INFO: Crawled 1054969 pages (at 638 pages/min), scraped 0 items (at 0 items/min)\n",
      "2020-09-14 11:28:18 [scrapy.extensions.logstats] INFO: Crawled 1055518 pages (at 549 pages/min), scraped 0 items (at 0 items/min)\n",
      "2020-09-14 11:29:18 [scrapy.extensions.logstats] INFO: Crawled 1056119 pages (at 601 pages/min), scraped 0 items (at 0 items/min)\n",
      "2020-09-14 11:30:18 [scrapy.extensions.logstats] INFO: Crawled 1056670 pages (at 551 pages/min), scraped 0 items (at 0 items/min)\n",
      "2020-09-14 11:31:18 [scrapy.extensions.logstats] INFO: Crawled 1057249 pages (at 579 pages/min), scraped 0 items (at 0 items/min)\n",
      "2020-09-14 11:32:18 [scrapy.extensions.logstats] INFO: Crawled 1057857 pages (at 608 pages/min), scraped 0 items (at 0 items/min)\n",
      "2020-09-14 11:33:18 [scrapy.extensions.logstats] INFO: Crawled 1058429 pages (at 572 pages/min), scraped 0 items (at 0 items/min)\n",
      "2020-09-14 11:34:18 [scrapy.extensions.logstats] INFO: Crawled 1058801 pages (at 372 pages/min), scraped 0 items (at 0 items/min)\n",
      "2020-09-14 11:35:18 [scrapy.extensions.logstats] INFO: Crawled 1059418 pages (at 617 pages/min), scraped 0 items (at 0 items/min)\n",
      "2020-09-14 11:36:18 [scrapy.extensions.logstats] INFO: Crawled 1059978 pages (at 560 pages/min), scraped 0 items (at 0 items/min)\n"
     ]
    },
    {
     "name": "stdout",
     "output_type": "stream",
     "text": [
      "Saving as : /home/alex/chat_bot_wrike/wrike-bot/help_good_for_wrike/115004740045-Create-a-Request-Form-for-Admins-?flash_digest=9e9364cb3f5750967e193ca113445504ca6c1a64.csv {'https://help.wrike.com/hc/en-us/articles/115003404345-Dynamic-Request-Forms#conditional', 'https://help.wrike.com/hc/en-us/articles/115003404345-Dynamic-Request-Forms', 'https://help.wrike.com/hc/en-us/articles/209603489-Projects#attributes', 'https://help.wrike.com/hc/en-us/articles/209603169-Request-Forms-Submit-a-Form-', 'https://help.wrike.com/hc/en-us/articles/209603049-Custom-Fields'}\n",
      "/home/alex/chat_bot_wrike/wrike-bot/help_good_for_wrike/115004740045-Create-a-Request-Form-for-Admins-?flash_digest=9e9364cb3f5750967e193ca113445504ca6c1a64.csv\n"
     ]
    },
    {
     "name": "stderr",
     "output_type": "stream",
     "text": [
      "2020-09-14 11:37:18 [scrapy.extensions.logstats] INFO: Crawled 1060518 pages (at 540 pages/min), scraped 0 items (at 0 items/min)\n",
      "2020-09-14 11:38:18 [scrapy.extensions.logstats] INFO: Crawled 1060992 pages (at 474 pages/min), scraped 0 items (at 0 items/min)\n",
      "2020-09-14 11:39:18 [scrapy.extensions.logstats] INFO: Crawled 1061444 pages (at 452 pages/min), scraped 0 items (at 0 items/min)\n",
      "2020-09-14 11:40:18 [scrapy.extensions.logstats] INFO: Crawled 1062004 pages (at 560 pages/min), scraped 0 items (at 0 items/min)\n",
      "2020-09-14 11:41:18 [scrapy.extensions.logstats] INFO: Crawled 1062556 pages (at 552 pages/min), scraped 0 items (at 0 items/min)\n",
      "2020-09-14 11:42:18 [scrapy.extensions.logstats] INFO: Crawled 1063090 pages (at 534 pages/min), scraped 0 items (at 0 items/min)\n",
      "2020-09-14 11:43:18 [scrapy.extensions.logstats] INFO: Crawled 1063636 pages (at 546 pages/min), scraped 0 items (at 0 items/min)\n",
      "2020-09-14 11:44:18 [scrapy.extensions.logstats] INFO: Crawled 1064221 pages (at 585 pages/min), scraped 0 items (at 0 items/min)\n",
      "2020-09-14 11:45:18 [scrapy.extensions.logstats] INFO: Crawled 1064806 pages (at 585 pages/min), scraped 0 items (at 0 items/min)\n",
      "2020-09-14 11:46:18 [scrapy.extensions.logstats] INFO: Crawled 1065442 pages (at 636 pages/min), scraped 0 items (at 0 items/min)\n",
      "2020-09-14 11:47:18 [scrapy.extensions.logstats] INFO: Crawled 1066038 pages (at 596 pages/min), scraped 0 items (at 0 items/min)\n",
      "2020-09-14 11:48:18 [scrapy.extensions.logstats] INFO: Crawled 1066677 pages (at 639 pages/min), scraped 0 items (at 0 items/min)\n",
      "2020-09-14 11:49:18 [scrapy.extensions.logstats] INFO: Crawled 1067261 pages (at 584 pages/min), scraped 0 items (at 0 items/min)\n",
      "2020-09-14 11:50:18 [scrapy.extensions.logstats] INFO: Crawled 1067851 pages (at 590 pages/min), scraped 0 items (at 0 items/min)\n",
      "2020-09-14 11:51:18 [scrapy.extensions.logstats] INFO: Crawled 1068453 pages (at 602 pages/min), scraped 0 items (at 0 items/min)\n",
      "2020-09-14 11:52:18 [scrapy.extensions.logstats] INFO: Crawled 1069038 pages (at 585 pages/min), scraped 0 items (at 0 items/min)\n",
      "2020-09-14 11:53:34 [scrapy.extensions.logstats] INFO: Crawled 1069571 pages (at 533 pages/min), scraped 0 items (at 0 items/min)\n",
      "2020-09-14 11:54:18 [scrapy.extensions.logstats] INFO: Crawled 1070030 pages (at 459 pages/min), scraped 0 items (at 0 items/min)\n",
      "2020-09-14 11:55:18 [scrapy.extensions.logstats] INFO: Crawled 1070707 pages (at 677 pages/min), scraped 0 items (at 0 items/min)\n",
      "2020-09-14 11:56:18 [scrapy.extensions.logstats] INFO: Crawled 1071399 pages (at 692 pages/min), scraped 0 items (at 0 items/min)\n",
      "2020-09-14 11:57:18 [scrapy.extensions.logstats] INFO: Crawled 1072082 pages (at 683 pages/min), scraped 0 items (at 0 items/min)\n",
      "2020-09-14 11:58:18 [scrapy.extensions.logstats] INFO: Crawled 1072737 pages (at 655 pages/min), scraped 0 items (at 0 items/min)\n",
      "2020-09-14 11:59:18 [scrapy.extensions.logstats] INFO: Crawled 1073403 pages (at 666 pages/min), scraped 0 items (at 0 items/min)\n",
      "2020-09-14 12:00:18 [scrapy.extensions.logstats] INFO: Crawled 1074069 pages (at 666 pages/min), scraped 0 items (at 0 items/min)\n",
      "2020-09-14 12:01:18 [scrapy.extensions.logstats] INFO: Crawled 1074707 pages (at 638 pages/min), scraped 0 items (at 0 items/min)\n",
      "2020-09-14 12:02:18 [scrapy.extensions.logstats] INFO: Crawled 1075336 pages (at 629 pages/min), scraped 0 items (at 0 items/min)\n",
      "2020-09-14 12:03:18 [scrapy.extensions.logstats] INFO: Crawled 1075835 pages (at 499 pages/min), scraped 0 items (at 0 items/min)\n",
      "2020-09-14 12:04:18 [scrapy.extensions.logstats] INFO: Crawled 1075969 pages (at 134 pages/min), scraped 0 items (at 0 items/min)\n",
      "2020-09-14 12:05:18 [scrapy.extensions.logstats] INFO: Crawled 1076461 pages (at 492 pages/min), scraped 0 items (at 0 items/min)\n",
      "2020-09-14 12:06:18 [scrapy.extensions.logstats] INFO: Crawled 1076872 pages (at 411 pages/min), scraped 0 items (at 0 items/min)\n",
      "2020-09-14 12:07:18 [scrapy.extensions.logstats] INFO: Crawled 1077609 pages (at 737 pages/min), scraped 0 items (at 0 items/min)\n",
      "2020-09-14 12:08:18 [scrapy.extensions.logstats] INFO: Crawled 1078363 pages (at 754 pages/min), scraped 0 items (at 0 items/min)\n",
      "2020-09-14 12:09:18 [scrapy.extensions.logstats] INFO: Crawled 1079103 pages (at 740 pages/min), scraped 0 items (at 0 items/min)\n",
      "2020-09-14 12:10:18 [scrapy.extensions.logstats] INFO: Crawled 1079865 pages (at 762 pages/min), scraped 0 items (at 0 items/min)\n",
      "2020-09-14 12:11:18 [scrapy.extensions.logstats] INFO: Crawled 1080306 pages (at 441 pages/min), scraped 0 items (at 0 items/min)\n",
      "2020-09-14 12:12:18 [scrapy.extensions.logstats] INFO: Crawled 1081015 pages (at 709 pages/min), scraped 0 items (at 0 items/min)\n",
      "2020-09-14 12:13:18 [scrapy.extensions.logstats] INFO: Crawled 1081712 pages (at 697 pages/min), scraped 0 items (at 0 items/min)\n",
      "2020-09-14 12:14:18 [scrapy.extensions.logstats] INFO: Crawled 1082465 pages (at 753 pages/min), scraped 0 items (at 0 items/min)\n",
      "2020-09-14 12:15:18 [scrapy.extensions.logstats] INFO: Crawled 1083214 pages (at 749 pages/min), scraped 0 items (at 0 items/min)\n",
      "2020-09-14 12:16:18 [scrapy.extensions.logstats] INFO: Crawled 1083952 pages (at 738 pages/min), scraped 0 items (at 0 items/min)\n",
      "2020-09-14 12:17:18 [scrapy.extensions.logstats] INFO: Crawled 1084696 pages (at 744 pages/min), scraped 0 items (at 0 items/min)\n",
      "2020-09-14 12:18:18 [scrapy.extensions.logstats] INFO: Crawled 1085428 pages (at 732 pages/min), scraped 0 items (at 0 items/min)\n",
      "2020-09-14 12:19:18 [scrapy.extensions.logstats] INFO: Crawled 1086156 pages (at 728 pages/min), scraped 0 items (at 0 items/min)\n",
      "2020-09-14 12:20:18 [scrapy.extensions.logstats] INFO: Crawled 1086862 pages (at 706 pages/min), scraped 0 items (at 0 items/min)\n",
      "2020-09-14 12:21:18 [scrapy.extensions.logstats] INFO: Crawled 1087559 pages (at 697 pages/min), scraped 0 items (at 0 items/min)\n",
      "2020-09-14 12:22:18 [scrapy.extensions.logstats] INFO: Crawled 1088243 pages (at 684 pages/min), scraped 0 items (at 0 items/min)\n",
      "2020-09-14 12:23:18 [scrapy.extensions.logstats] INFO: Crawled 1088912 pages (at 669 pages/min), scraped 0 items (at 0 items/min)\n",
      "2020-09-14 12:24:18 [scrapy.extensions.logstats] INFO: Crawled 1089583 pages (at 671 pages/min), scraped 0 items (at 0 items/min)\n",
      "2020-09-14 12:25:18 [scrapy.extensions.logstats] INFO: Crawled 1090286 pages (at 703 pages/min), scraped 0 items (at 0 items/min)\n",
      "2020-09-14 12:26:18 [scrapy.extensions.logstats] INFO: Crawled 1090992 pages (at 706 pages/min), scraped 0 items (at 0 items/min)\n",
      "2020-09-14 12:27:18 [scrapy.extensions.logstats] INFO: Crawled 1091425 pages (at 433 pages/min), scraped 0 items (at 0 items/min)\n",
      "2020-09-14 12:28:18 [scrapy.extensions.logstats] INFO: Crawled 1092086 pages (at 661 pages/min), scraped 0 items (at 0 items/min)\n",
      "2020-09-14 12:29:18 [scrapy.extensions.logstats] INFO: Crawled 1092805 pages (at 719 pages/min), scraped 0 items (at 0 items/min)\n",
      "2020-09-14 12:30:18 [scrapy.extensions.logstats] INFO: Crawled 1093494 pages (at 689 pages/min), scraped 0 items (at 0 items/min)\n",
      "2020-09-14 12:31:18 [scrapy.extensions.logstats] INFO: Crawled 1094198 pages (at 704 pages/min), scraped 0 items (at 0 items/min)\n",
      "2020-09-14 12:32:18 [scrapy.extensions.logstats] INFO: Crawled 1094881 pages (at 683 pages/min), scraped 0 items (at 0 items/min)\n",
      "2020-09-14 12:33:18 [scrapy.extensions.logstats] INFO: Crawled 1095525 pages (at 644 pages/min), scraped 0 items (at 0 items/min)\n",
      "2020-09-14 12:34:18 [scrapy.extensions.logstats] INFO: Crawled 1096180 pages (at 655 pages/min), scraped 0 items (at 0 items/min)\n",
      "2020-09-14 12:35:18 [scrapy.extensions.logstats] INFO: Crawled 1096784 pages (at 604 pages/min), scraped 0 items (at 0 items/min)\n",
      "2020-09-14 12:36:18 [scrapy.extensions.logstats] INFO: Crawled 1097476 pages (at 692 pages/min), scraped 0 items (at 0 items/min)\n",
      "2020-09-14 12:37:18 [scrapy.extensions.logstats] INFO: Crawled 1098197 pages (at 721 pages/min), scraped 0 items (at 0 items/min)\n",
      "2020-09-14 12:38:18 [scrapy.extensions.logstats] INFO: Crawled 1098859 pages (at 662 pages/min), scraped 0 items (at 0 items/min)\n",
      "2020-09-14 12:39:18 [scrapy.extensions.logstats] INFO: Crawled 1099447 pages (at 588 pages/min), scraped 0 items (at 0 items/min)\n",
      "2020-09-14 12:40:18 [scrapy.extensions.logstats] INFO: Crawled 1100019 pages (at 572 pages/min), scraped 0 items (at 0 items/min)\n"
     ]
    },
    {
     "name": "stderr",
     "output_type": "stream",
     "text": [
      "2020-09-14 12:41:18 [scrapy.extensions.logstats] INFO: Crawled 1100646 pages (at 627 pages/min), scraped 0 items (at 0 items/min)\n",
      "2020-09-14 12:42:18 [scrapy.extensions.logstats] INFO: Crawled 1101205 pages (at 559 pages/min), scraped 0 items (at 0 items/min)\n",
      "2020-09-14 12:43:18 [scrapy.extensions.logstats] INFO: Crawled 1101824 pages (at 619 pages/min), scraped 0 items (at 0 items/min)\n",
      "2020-09-14 12:44:33 [scrapy.extensions.logstats] INFO: Crawled 1102364 pages (at 540 pages/min), scraped 0 items (at 0 items/min)\n",
      "2020-09-14 12:45:18 [scrapy.extensions.logstats] INFO: Crawled 1102779 pages (at 415 pages/min), scraped 0 items (at 0 items/min)\n",
      "2020-09-14 12:46:18 [scrapy.extensions.logstats] INFO: Crawled 1103401 pages (at 622 pages/min), scraped 0 items (at 0 items/min)\n",
      "2020-09-14 12:47:18 [scrapy.extensions.logstats] INFO: Crawled 1104024 pages (at 623 pages/min), scraped 0 items (at 0 items/min)\n",
      "2020-09-14 12:48:18 [scrapy.extensions.logstats] INFO: Crawled 1104656 pages (at 632 pages/min), scraped 0 items (at 0 items/min)\n",
      "2020-09-14 12:49:18 [scrapy.extensions.logstats] INFO: Crawled 1105302 pages (at 646 pages/min), scraped 0 items (at 0 items/min)\n",
      "2020-09-14 12:50:18 [scrapy.extensions.logstats] INFO: Crawled 1105903 pages (at 601 pages/min), scraped 0 items (at 0 items/min)\n",
      "2020-09-14 12:51:18 [scrapy.extensions.logstats] INFO: Crawled 1106474 pages (at 571 pages/min), scraped 0 items (at 0 items/min)\n",
      "2020-09-14 12:52:18 [scrapy.extensions.logstats] INFO: Crawled 1107053 pages (at 579 pages/min), scraped 0 items (at 0 items/min)\n",
      "2020-09-14 12:53:18 [scrapy.extensions.logstats] INFO: Crawled 1107608 pages (at 555 pages/min), scraped 0 items (at 0 items/min)\n",
      "2020-09-14 12:54:18 [scrapy.extensions.logstats] INFO: Crawled 1108083 pages (at 475 pages/min), scraped 0 items (at 0 items/min)\n",
      "2020-09-14 12:55:18 [scrapy.extensions.logstats] INFO: Crawled 1108621 pages (at 538 pages/min), scraped 0 items (at 0 items/min)\n",
      "2020-09-14 12:56:18 [scrapy.extensions.logstats] INFO: Crawled 1109112 pages (at 491 pages/min), scraped 0 items (at 0 items/min)\n",
      "2020-09-14 12:57:18 [scrapy.extensions.logstats] INFO: Crawled 1109670 pages (at 558 pages/min), scraped 0 items (at 0 items/min)\n",
      "2020-09-14 12:58:18 [scrapy.extensions.logstats] INFO: Crawled 1110259 pages (at 589 pages/min), scraped 0 items (at 0 items/min)\n",
      "2020-09-14 12:59:18 [scrapy.extensions.logstats] INFO: Crawled 1110837 pages (at 578 pages/min), scraped 0 items (at 0 items/min)\n",
      "2020-09-14 13:00:18 [scrapy.extensions.logstats] INFO: Crawled 1111393 pages (at 556 pages/min), scraped 0 items (at 0 items/min)\n",
      "2020-09-14 13:01:18 [scrapy.extensions.logstats] INFO: Crawled 1111882 pages (at 489 pages/min), scraped 0 items (at 0 items/min)\n",
      "2020-09-14 13:02:18 [scrapy.extensions.logstats] INFO: Crawled 1112396 pages (at 514 pages/min), scraped 0 items (at 0 items/min)\n",
      "2020-09-14 13:03:18 [scrapy.extensions.logstats] INFO: Crawled 1112894 pages (at 498 pages/min), scraped 0 items (at 0 items/min)\n",
      "2020-09-14 13:04:18 [scrapy.extensions.logstats] INFO: Crawled 1113474 pages (at 580 pages/min), scraped 0 items (at 0 items/min)\n",
      "2020-09-14 13:05:18 [scrapy.extensions.logstats] INFO: Crawled 1114023 pages (at 549 pages/min), scraped 0 items (at 0 items/min)\n",
      "2020-09-14 13:06:31 [scrapy.extensions.logstats] INFO: Crawled 1114511 pages (at 488 pages/min), scraped 0 items (at 0 items/min)\n",
      "2020-09-14 13:07:18 [scrapy.extensions.logstats] INFO: Crawled 1115009 pages (at 498 pages/min), scraped 0 items (at 0 items/min)\n",
      "2020-09-14 13:08:18 [scrapy.extensions.logstats] INFO: Crawled 1115671 pages (at 662 pages/min), scraped 0 items (at 0 items/min)\n",
      "2020-09-14 13:09:18 [scrapy.extensions.logstats] INFO: Crawled 1116308 pages (at 637 pages/min), scraped 0 items (at 0 items/min)\n",
      "2020-09-14 13:10:18 [scrapy.extensions.logstats] INFO: Crawled 1116922 pages (at 614 pages/min), scraped 0 items (at 0 items/min)\n",
      "2020-09-14 13:11:18 [scrapy.extensions.logstats] INFO: Crawled 1117517 pages (at 595 pages/min), scraped 0 items (at 0 items/min)\n",
      "2020-09-14 13:12:18 [scrapy.extensions.logstats] INFO: Crawled 1118116 pages (at 599 pages/min), scraped 0 items (at 0 items/min)\n",
      "2020-09-14 13:13:18 [scrapy.extensions.logstats] INFO: Crawled 1118719 pages (at 603 pages/min), scraped 0 items (at 0 items/min)\n",
      "2020-09-14 13:14:18 [scrapy.extensions.logstats] INFO: Crawled 1119307 pages (at 588 pages/min), scraped 0 items (at 0 items/min)\n",
      "2020-09-14 13:15:18 [scrapy.extensions.logstats] INFO: Crawled 1119933 pages (at 626 pages/min), scraped 0 items (at 0 items/min)\n",
      "2020-09-14 13:16:18 [scrapy.extensions.logstats] INFO: Crawled 1120613 pages (at 680 pages/min), scraped 0 items (at 0 items/min)\n",
      "2020-09-14 13:17:18 [scrapy.extensions.logstats] INFO: Crawled 1121277 pages (at 664 pages/min), scraped 0 items (at 0 items/min)\n",
      "2020-09-14 13:18:18 [scrapy.extensions.logstats] INFO: Crawled 1121923 pages (at 646 pages/min), scraped 0 items (at 0 items/min)\n",
      "2020-09-14 13:19:18 [scrapy.extensions.logstats] INFO: Crawled 1122514 pages (at 591 pages/min), scraped 0 items (at 0 items/min)\n",
      "2020-09-14 13:20:18 [scrapy.extensions.logstats] INFO: Crawled 1123176 pages (at 662 pages/min), scraped 0 items (at 0 items/min)\n",
      "2020-09-14 13:21:18 [scrapy.extensions.logstats] INFO: Crawled 1123806 pages (at 630 pages/min), scraped 0 items (at 0 items/min)\n",
      "2020-09-14 13:22:18 [scrapy.extensions.logstats] INFO: Crawled 1124435 pages (at 629 pages/min), scraped 0 items (at 0 items/min)\n",
      "2020-09-14 13:23:18 [scrapy.extensions.logstats] INFO: Crawled 1125134 pages (at 699 pages/min), scraped 0 items (at 0 items/min)\n",
      "2020-09-14 13:24:18 [scrapy.extensions.logstats] INFO: Crawled 1125811 pages (at 677 pages/min), scraped 0 items (at 0 items/min)\n",
      "2020-09-14 13:25:27 [scrapy.extensions.logstats] INFO: Crawled 1126312 pages (at 501 pages/min), scraped 0 items (at 0 items/min)\n",
      "2020-09-14 13:26:18 [scrapy.extensions.logstats] INFO: Crawled 1126883 pages (at 571 pages/min), scraped 0 items (at 0 items/min)\n",
      "2020-09-14 13:27:18 [scrapy.extensions.logstats] INFO: Crawled 1127519 pages (at 636 pages/min), scraped 0 items (at 0 items/min)\n",
      "2020-09-14 13:28:18 [scrapy.extensions.logstats] INFO: Crawled 1128238 pages (at 719 pages/min), scraped 0 items (at 0 items/min)\n",
      "2020-09-14 13:29:18 [scrapy.extensions.logstats] INFO: Crawled 1128945 pages (at 707 pages/min), scraped 0 items (at 0 items/min)\n",
      "2020-09-14 13:30:18 [scrapy.extensions.logstats] INFO: Crawled 1129641 pages (at 696 pages/min), scraped 0 items (at 0 items/min)\n",
      "2020-09-14 13:31:18 [scrapy.extensions.logstats] INFO: Crawled 1130357 pages (at 716 pages/min), scraped 0 items (at 0 items/min)\n",
      "2020-09-14 13:32:18 [scrapy.extensions.logstats] INFO: Crawled 1131034 pages (at 677 pages/min), scraped 0 items (at 0 items/min)\n",
      "2020-09-14 13:33:18 [scrapy.extensions.logstats] INFO: Crawled 1131697 pages (at 663 pages/min), scraped 0 items (at 0 items/min)\n",
      "2020-09-14 13:34:18 [scrapy.extensions.logstats] INFO: Crawled 1132371 pages (at 674 pages/min), scraped 0 items (at 0 items/min)\n",
      "2020-09-14 13:35:18 [scrapy.extensions.logstats] INFO: Crawled 1133065 pages (at 694 pages/min), scraped 0 items (at 0 items/min)\n",
      "2020-09-14 13:36:18 [scrapy.extensions.logstats] INFO: Crawled 1133705 pages (at 640 pages/min), scraped 0 items (at 0 items/min)\n",
      "2020-09-14 13:37:18 [scrapy.extensions.logstats] INFO: Crawled 1134350 pages (at 645 pages/min), scraped 0 items (at 0 items/min)\n",
      "2020-09-14 13:38:18 [scrapy.extensions.logstats] INFO: Crawled 1135017 pages (at 667 pages/min), scraped 0 items (at 0 items/min)\n",
      "2020-09-14 13:39:18 [scrapy.extensions.logstats] INFO: Crawled 1135655 pages (at 638 pages/min), scraped 0 items (at 0 items/min)\n",
      "2020-09-14 13:40:18 [scrapy.extensions.logstats] INFO: Crawled 1136202 pages (at 547 pages/min), scraped 0 items (at 0 items/min)\n",
      "2020-09-14 13:41:18 [scrapy.extensions.logstats] INFO: Crawled 1136769 pages (at 567 pages/min), scraped 0 items (at 0 items/min)\n",
      "2020-09-14 13:42:18 [scrapy.extensions.logstats] INFO: Crawled 1137280 pages (at 511 pages/min), scraped 0 items (at 0 items/min)\n",
      "2020-09-14 13:43:18 [scrapy.extensions.logstats] INFO: Crawled 1137854 pages (at 574 pages/min), scraped 0 items (at 0 items/min)\n",
      "2020-09-14 13:44:40 [scrapy.extensions.logstats] INFO: Crawled 1138417 pages (at 563 pages/min), scraped 0 items (at 0 items/min)\n"
     ]
    },
    {
     "name": "stderr",
     "output_type": "stream",
     "text": [
      "2020-09-14 13:45:18 [scrapy.extensions.logstats] INFO: Crawled 1138772 pages (at 355 pages/min), scraped 0 items (at 0 items/min)\n",
      "2020-09-14 13:46:18 [scrapy.extensions.logstats] INFO: Crawled 1139328 pages (at 556 pages/min), scraped 0 items (at 0 items/min)\n",
      "2020-09-14 13:47:18 [scrapy.extensions.logstats] INFO: Crawled 1139880 pages (at 552 pages/min), scraped 0 items (at 0 items/min)\n",
      "2020-09-14 13:48:18 [scrapy.extensions.logstats] INFO: Crawled 1140403 pages (at 523 pages/min), scraped 0 items (at 0 items/min)\n",
      "2020-09-14 13:49:18 [scrapy.extensions.logstats] INFO: Crawled 1140940 pages (at 537 pages/min), scraped 0 items (at 0 items/min)\n",
      "2020-09-14 13:50:18 [scrapy.extensions.logstats] INFO: Crawled 1141470 pages (at 530 pages/min), scraped 0 items (at 0 items/min)\n",
      "2020-09-14 13:51:18 [scrapy.extensions.logstats] INFO: Crawled 1142044 pages (at 574 pages/min), scraped 0 items (at 0 items/min)\n",
      "2020-09-14 13:52:18 [scrapy.extensions.logstats] INFO: Crawled 1142676 pages (at 632 pages/min), scraped 0 items (at 0 items/min)\n",
      "2020-09-14 13:53:18 [scrapy.extensions.logstats] INFO: Crawled 1143330 pages (at 654 pages/min), scraped 0 items (at 0 items/min)\n",
      "2020-09-14 13:54:18 [scrapy.extensions.logstats] INFO: Crawled 1144015 pages (at 685 pages/min), scraped 0 items (at 0 items/min)\n",
      "2020-09-14 13:55:18 [scrapy.extensions.logstats] INFO: Crawled 1144727 pages (at 712 pages/min), scraped 0 items (at 0 items/min)\n",
      "2020-09-14 13:56:18 [scrapy.extensions.logstats] INFO: Crawled 1145448 pages (at 721 pages/min), scraped 0 items (at 0 items/min)\n",
      "2020-09-14 13:57:18 [scrapy.extensions.logstats] INFO: Crawled 1146121 pages (at 673 pages/min), scraped 0 items (at 0 items/min)\n",
      "2020-09-14 13:58:18 [scrapy.extensions.logstats] INFO: Crawled 1146785 pages (at 664 pages/min), scraped 0 items (at 0 items/min)\n",
      "2020-09-14 13:59:18 [scrapy.extensions.logstats] INFO: Crawled 1147413 pages (at 628 pages/min), scraped 0 items (at 0 items/min)\n",
      "2020-09-14 14:00:18 [scrapy.extensions.logstats] INFO: Crawled 1148103 pages (at 690 pages/min), scraped 0 items (at 0 items/min)\n",
      "2020-09-14 14:01:18 [scrapy.extensions.logstats] INFO: Crawled 1148775 pages (at 672 pages/min), scraped 0 items (at 0 items/min)\n",
      "2020-09-14 14:02:18 [scrapy.extensions.logstats] INFO: Crawled 1149380 pages (at 605 pages/min), scraped 0 items (at 0 items/min)\n",
      "2020-09-14 14:03:18 [scrapy.extensions.logstats] INFO: Crawled 1150024 pages (at 644 pages/min), scraped 0 items (at 0 items/min)\n",
      "2020-09-14 14:04:32 [scrapy.extensions.logstats] INFO: Crawled 1150541 pages (at 517 pages/min), scraped 0 items (at 0 items/min)\n",
      "2020-09-14 14:05:18 [scrapy.extensions.logstats] INFO: Crawled 1151016 pages (at 475 pages/min), scraped 0 items (at 0 items/min)\n",
      "2020-09-14 14:06:18 [scrapy.extensions.logstats] INFO: Crawled 1151672 pages (at 656 pages/min), scraped 0 items (at 0 items/min)\n",
      "2020-09-14 14:07:18 [scrapy.extensions.logstats] INFO: Crawled 1152256 pages (at 584 pages/min), scraped 0 items (at 0 items/min)\n",
      "2020-09-14 14:08:18 [scrapy.extensions.logstats] INFO: Crawled 1152901 pages (at 645 pages/min), scraped 0 items (at 0 items/min)\n",
      "2020-09-14 14:09:18 [scrapy.extensions.logstats] INFO: Crawled 1153509 pages (at 608 pages/min), scraped 0 items (at 0 items/min)\n",
      "2020-09-14 14:10:18 [scrapy.extensions.logstats] INFO: Crawled 1154090 pages (at 581 pages/min), scraped 0 items (at 0 items/min)\n",
      "2020-09-14 14:11:18 [scrapy.extensions.logstats] INFO: Crawled 1154669 pages (at 579 pages/min), scraped 0 items (at 0 items/min)\n",
      "2020-09-14 14:12:18 [scrapy.extensions.logstats] INFO: Crawled 1155231 pages (at 562 pages/min), scraped 0 items (at 0 items/min)\n",
      "2020-09-14 14:13:18 [scrapy.extensions.logstats] INFO: Crawled 1155789 pages (at 558 pages/min), scraped 0 items (at 0 items/min)\n",
      "2020-09-14 14:14:18 [scrapy.extensions.logstats] INFO: Crawled 1156289 pages (at 500 pages/min), scraped 0 items (at 0 items/min)\n",
      "2020-09-14 14:15:18 [scrapy.extensions.logstats] INFO: Crawled 1156840 pages (at 551 pages/min), scraped 0 items (at 0 items/min)\n",
      "2020-09-14 14:16:18 [scrapy.extensions.logstats] INFO: Crawled 1157430 pages (at 590 pages/min), scraped 0 items (at 0 items/min)\n",
      "2020-09-14 14:17:18 [scrapy.extensions.logstats] INFO: Crawled 1157994 pages (at 564 pages/min), scraped 0 items (at 0 items/min)\n",
      "2020-09-14 14:18:18 [scrapy.extensions.logstats] INFO: Crawled 1158543 pages (at 549 pages/min), scraped 0 items (at 0 items/min)\n",
      "2020-09-14 14:19:18 [scrapy.extensions.logstats] INFO: Crawled 1159100 pages (at 557 pages/min), scraped 0 items (at 0 items/min)\n",
      "2020-09-14 14:20:18 [scrapy.extensions.logstats] INFO: Crawled 1159652 pages (at 552 pages/min), scraped 0 items (at 0 items/min)\n",
      "2020-09-14 14:21:18 [scrapy.extensions.logstats] INFO: Crawled 1160211 pages (at 559 pages/min), scraped 0 items (at 0 items/min)\n",
      "2020-09-14 14:22:18 [scrapy.extensions.logstats] INFO: Crawled 1160822 pages (at 611 pages/min), scraped 0 items (at 0 items/min)\n",
      "2020-09-14 14:23:18 [scrapy.extensions.logstats] INFO: Crawled 1161435 pages (at 613 pages/min), scraped 0 items (at 0 items/min)\n",
      "2020-09-14 14:24:19 [scrapy.extensions.logstats] INFO: Crawled 1161949 pages (at 514 pages/min), scraped 0 items (at 0 items/min)\n",
      "2020-09-14 14:25:18 [scrapy.extensions.logstats] INFO: Crawled 1162549 pages (at 600 pages/min), scraped 0 items (at 0 items/min)\n",
      "2020-09-14 14:26:18 [scrapy.extensions.logstats] INFO: Crawled 1162960 pages (at 411 pages/min), scraped 0 items (at 0 items/min)\n",
      "2020-09-14 14:27:18 [scrapy.extensions.logstats] INFO: Crawled 1163614 pages (at 654 pages/min), scraped 0 items (at 0 items/min)\n",
      "2020-09-14 14:28:18 [scrapy.extensions.logstats] INFO: Crawled 1164285 pages (at 671 pages/min), scraped 0 items (at 0 items/min)\n",
      "2020-09-14 14:29:18 [scrapy.extensions.logstats] INFO: Crawled 1164935 pages (at 650 pages/min), scraped 0 items (at 0 items/min)\n",
      "2020-09-14 14:30:18 [scrapy.extensions.logstats] INFO: Crawled 1165612 pages (at 677 pages/min), scraped 0 items (at 0 items/min)\n",
      "2020-09-14 14:31:18 [scrapy.extensions.logstats] INFO: Crawled 1166320 pages (at 708 pages/min), scraped 0 items (at 0 items/min)\n",
      "2020-09-14 14:32:18 [scrapy.extensions.logstats] INFO: Crawled 1166996 pages (at 676 pages/min), scraped 0 items (at 0 items/min)\n",
      "2020-09-14 14:33:18 [scrapy.extensions.logstats] INFO: Crawled 1167654 pages (at 658 pages/min), scraped 0 items (at 0 items/min)\n",
      "2020-09-14 14:34:18 [scrapy.extensions.logstats] INFO: Crawled 1168338 pages (at 684 pages/min), scraped 0 items (at 0 items/min)\n",
      "2020-09-14 14:35:18 [scrapy.extensions.logstats] INFO: Crawled 1169014 pages (at 676 pages/min), scraped 0 items (at 0 items/min)\n",
      "2020-09-14 14:36:18 [scrapy.extensions.logstats] INFO: Crawled 1169713 pages (at 699 pages/min), scraped 0 items (at 0 items/min)\n",
      "2020-09-14 14:37:18 [scrapy.extensions.logstats] INFO: Crawled 1170437 pages (at 724 pages/min), scraped 0 items (at 0 items/min)\n",
      "2020-09-14 14:38:18 [scrapy.extensions.logstats] INFO: Crawled 1171164 pages (at 727 pages/min), scraped 0 items (at 0 items/min)\n",
      "2020-09-14 14:39:18 [scrapy.extensions.logstats] INFO: Crawled 1171880 pages (at 716 pages/min), scraped 0 items (at 0 items/min)\n",
      "2020-09-14 14:40:18 [scrapy.extensions.logstats] INFO: Crawled 1172507 pages (at 627 pages/min), scraped 0 items (at 0 items/min)\n",
      "2020-09-14 14:41:18 [scrapy.extensions.logstats] INFO: Crawled 1173069 pages (at 562 pages/min), scraped 0 items (at 0 items/min)\n",
      "2020-09-14 14:42:18 [scrapy.extensions.logstats] INFO: Crawled 1173506 pages (at 437 pages/min), scraped 0 items (at 0 items/min)\n",
      "2020-09-14 14:43:18 [scrapy.extensions.logstats] INFO: Crawled 1174008 pages (at 502 pages/min), scraped 0 items (at 0 items/min)\n",
      "2020-09-14 14:44:19 [scrapy.extensions.logstats] INFO: Crawled 1174356 pages (at 348 pages/min), scraped 0 items (at 0 items/min)\n",
      "2020-09-14 14:45:19 [scrapy.extensions.logstats] INFO: Crawled 1174811 pages (at 455 pages/min), scraped 0 items (at 0 items/min)\n",
      "2020-09-14 14:46:18 [scrapy.extensions.logstats] INFO: Crawled 1175334 pages (at 523 pages/min), scraped 0 items (at 0 items/min)\n",
      "2020-09-14 14:47:18 [scrapy.extensions.logstats] INFO: Crawled 1176044 pages (at 710 pages/min), scraped 0 items (at 0 items/min)\n",
      "2020-09-14 14:48:18 [scrapy.extensions.logstats] INFO: Crawled 1176742 pages (at 698 pages/min), scraped 0 items (at 0 items/min)\n"
     ]
    },
    {
     "name": "stderr",
     "output_type": "stream",
     "text": [
      "2020-09-14 14:49:18 [scrapy.extensions.logstats] INFO: Crawled 1177417 pages (at 675 pages/min), scraped 0 items (at 0 items/min)\n",
      "2020-09-14 14:50:18 [scrapy.extensions.logstats] INFO: Crawled 1178098 pages (at 681 pages/min), scraped 0 items (at 0 items/min)\n",
      "2020-09-14 14:51:18 [scrapy.extensions.logstats] INFO: Crawled 1178754 pages (at 656 pages/min), scraped 0 items (at 0 items/min)\n",
      "2020-09-14 14:52:18 [scrapy.extensions.logstats] INFO: Crawled 1179263 pages (at 509 pages/min), scraped 0 items (at 0 items/min)\n",
      "2020-09-14 14:53:18 [scrapy.extensions.logstats] INFO: Crawled 1179755 pages (at 492 pages/min), scraped 0 items (at 0 items/min)\n",
      "2020-09-14 14:54:18 [scrapy.extensions.logstats] INFO: Crawled 1180322 pages (at 567 pages/min), scraped 0 items (at 0 items/min)\n",
      "2020-09-14 14:55:18 [scrapy.extensions.logstats] INFO: Crawled 1180826 pages (at 504 pages/min), scraped 0 items (at 0 items/min)\n",
      "2020-09-14 14:56:18 [scrapy.extensions.logstats] INFO: Crawled 1181410 pages (at 584 pages/min), scraped 0 items (at 0 items/min)\n",
      "2020-09-14 14:57:18 [scrapy.extensions.logstats] INFO: Crawled 1181904 pages (at 494 pages/min), scraped 0 items (at 0 items/min)\n",
      "2020-09-14 14:58:18 [scrapy.extensions.logstats] INFO: Crawled 1182417 pages (at 513 pages/min), scraped 0 items (at 0 items/min)\n",
      "2020-09-14 14:59:18 [scrapy.extensions.logstats] INFO: Crawled 1182872 pages (at 455 pages/min), scraped 0 items (at 0 items/min)\n",
      "2020-09-14 15:00:18 [scrapy.extensions.logstats] INFO: Crawled 1183345 pages (at 473 pages/min), scraped 0 items (at 0 items/min)\n",
      "2020-09-14 15:01:18 [scrapy.extensions.logstats] INFO: Crawled 1183959 pages (at 614 pages/min), scraped 0 items (at 0 items/min)\n",
      "2020-09-14 15:02:18 [scrapy.extensions.logstats] INFO: Crawled 1184223 pages (at 264 pages/min), scraped 0 items (at 0 items/min)\n",
      "2020-09-14 15:03:18 [scrapy.extensions.logstats] INFO: Crawled 1184691 pages (at 468 pages/min), scraped 0 items (at 0 items/min)\n",
      "2020-09-14 15:04:18 [scrapy.extensions.logstats] INFO: Crawled 1185139 pages (at 448 pages/min), scraped 0 items (at 0 items/min)\n",
      "2020-09-14 15:05:18 [scrapy.extensions.logstats] INFO: Crawled 1185700 pages (at 561 pages/min), scraped 0 items (at 0 items/min)\n",
      "2020-09-14 15:06:19 [scrapy.extensions.logstats] INFO: Crawled 1186232 pages (at 532 pages/min), scraped 0 items (at 0 items/min)\n",
      "2020-09-14 15:07:18 [scrapy.extensions.logstats] INFO: Crawled 1186788 pages (at 556 pages/min), scraped 0 items (at 0 items/min)\n",
      "2020-09-14 15:08:18 [scrapy.extensions.logstats] INFO: Crawled 1187351 pages (at 563 pages/min), scraped 0 items (at 0 items/min)\n",
      "2020-09-14 15:09:18 [scrapy.extensions.logstats] INFO: Crawled 1187879 pages (at 528 pages/min), scraped 0 items (at 0 items/min)\n",
      "2020-09-14 15:10:18 [scrapy.extensions.logstats] INFO: Crawled 1188376 pages (at 497 pages/min), scraped 0 items (at 0 items/min)\n",
      "2020-09-14 15:11:18 [scrapy.extensions.logstats] INFO: Crawled 1188931 pages (at 555 pages/min), scraped 0 items (at 0 items/min)\n",
      "2020-09-14 15:12:18 [scrapy.extensions.logstats] INFO: Crawled 1189386 pages (at 455 pages/min), scraped 0 items (at 0 items/min)\n",
      "2020-09-14 15:13:18 [scrapy.extensions.logstats] INFO: Crawled 1189907 pages (at 521 pages/min), scraped 0 items (at 0 items/min)\n",
      "2020-09-14 15:14:18 [scrapy.extensions.logstats] INFO: Crawled 1190298 pages (at 391 pages/min), scraped 0 items (at 0 items/min)\n",
      "2020-09-14 15:15:18 [scrapy.extensions.logstats] INFO: Crawled 1190699 pages (at 401 pages/min), scraped 0 items (at 0 items/min)\n",
      "2020-09-14 15:16:18 [scrapy.extensions.logstats] INFO: Crawled 1191158 pages (at 459 pages/min), scraped 0 items (at 0 items/min)\n",
      "2020-09-14 15:17:18 [scrapy.extensions.logstats] INFO: Crawled 1191451 pages (at 293 pages/min), scraped 0 items (at 0 items/min)\n",
      "2020-09-14 15:18:18 [scrapy.extensions.logstats] INFO: Crawled 1191863 pages (at 412 pages/min), scraped 0 items (at 0 items/min)\n",
      "2020-09-14 15:19:18 [scrapy.extensions.logstats] INFO: Crawled 1192416 pages (at 553 pages/min), scraped 0 items (at 0 items/min)\n",
      "2020-09-14 15:20:18 [scrapy.extensions.logstats] INFO: Crawled 1192936 pages (at 520 pages/min), scraped 0 items (at 0 items/min)\n",
      "2020-09-14 15:21:18 [scrapy.extensions.logstats] INFO: Crawled 1193213 pages (at 277 pages/min), scraped 0 items (at 0 items/min)\n",
      "2020-09-14 15:22:18 [scrapy.extensions.logstats] INFO: Crawled 1193723 pages (at 510 pages/min), scraped 0 items (at 0 items/min)\n",
      "2020-09-14 15:23:18 [scrapy.extensions.logstats] INFO: Crawled 1193968 pages (at 245 pages/min), scraped 0 items (at 0 items/min)\n",
      "2020-09-14 15:24:18 [scrapy.extensions.logstats] INFO: Crawled 1194555 pages (at 587 pages/min), scraped 0 items (at 0 items/min)\n",
      "2020-09-14 15:25:18 [scrapy.extensions.logstats] INFO: Crawled 1195203 pages (at 648 pages/min), scraped 0 items (at 0 items/min)\n",
      "2020-09-14 15:26:18 [scrapy.extensions.logstats] INFO: Crawled 1195782 pages (at 579 pages/min), scraped 0 items (at 0 items/min)\n",
      "2020-09-14 15:27:18 [scrapy.extensions.logstats] INFO: Crawled 1196283 pages (at 501 pages/min), scraped 0 items (at 0 items/min)\n",
      "2020-09-14 15:28:18 [scrapy.extensions.logstats] INFO: Crawled 1196811 pages (at 528 pages/min), scraped 0 items (at 0 items/min)\n",
      "2020-09-14 15:29:18 [scrapy.extensions.logstats] INFO: Crawled 1197388 pages (at 577 pages/min), scraped 0 items (at 0 items/min)\n",
      "2020-09-14 15:30:18 [scrapy.extensions.logstats] INFO: Crawled 1198091 pages (at 703 pages/min), scraped 0 items (at 0 items/min)\n",
      "2020-09-14 15:31:18 [scrapy.extensions.logstats] INFO: Crawled 1198756 pages (at 665 pages/min), scraped 0 items (at 0 items/min)\n",
      "2020-09-14 15:32:18 [scrapy.extensions.logstats] INFO: Crawled 1199340 pages (at 584 pages/min), scraped 0 items (at 0 items/min)\n",
      "2020-09-14 15:33:18 [scrapy.extensions.logstats] INFO: Crawled 1199865 pages (at 525 pages/min), scraped 0 items (at 0 items/min)\n",
      "2020-09-14 15:34:19 [scrapy.extensions.logstats] INFO: Crawled 1200420 pages (at 555 pages/min), scraped 0 items (at 0 items/min)\n",
      "2020-09-14 15:35:18 [scrapy.extensions.logstats] INFO: Crawled 1200872 pages (at 452 pages/min), scraped 0 items (at 0 items/min)\n",
      "2020-09-14 15:36:18 [scrapy.extensions.logstats] INFO: Crawled 1201387 pages (at 515 pages/min), scraped 0 items (at 0 items/min)\n",
      "2020-09-14 15:37:18 [scrapy.extensions.logstats] INFO: Crawled 1201955 pages (at 568 pages/min), scraped 0 items (at 0 items/min)\n",
      "2020-09-14 15:38:18 [scrapy.extensions.logstats] INFO: Crawled 1202404 pages (at 449 pages/min), scraped 0 items (at 0 items/min)\n",
      "2020-09-14 15:39:18 [scrapy.extensions.logstats] INFO: Crawled 1202921 pages (at 517 pages/min), scraped 0 items (at 0 items/min)\n",
      "2020-09-14 15:40:18 [scrapy.extensions.logstats] INFO: Crawled 1203456 pages (at 535 pages/min), scraped 0 items (at 0 items/min)\n",
      "2020-09-14 15:41:18 [scrapy.extensions.logstats] INFO: Crawled 1203982 pages (at 526 pages/min), scraped 0 items (at 0 items/min)\n",
      "2020-09-14 15:42:18 [scrapy.extensions.logstats] INFO: Crawled 1204458 pages (at 476 pages/min), scraped 0 items (at 0 items/min)\n",
      "2020-09-14 15:43:18 [scrapy.extensions.logstats] INFO: Crawled 1204930 pages (at 472 pages/min), scraped 0 items (at 0 items/min)\n",
      "2020-09-14 15:44:18 [scrapy.extensions.logstats] INFO: Crawled 1205202 pages (at 272 pages/min), scraped 0 items (at 0 items/min)\n",
      "2020-09-14 15:45:18 [scrapy.extensions.logstats] INFO: Crawled 1205732 pages (at 530 pages/min), scraped 0 items (at 0 items/min)\n",
      "2020-09-14 15:46:18 [scrapy.extensions.logstats] INFO: Crawled 1206161 pages (at 429 pages/min), scraped 0 items (at 0 items/min)\n",
      "2020-09-14 15:47:18 [scrapy.extensions.logstats] INFO: Crawled 1206715 pages (at 554 pages/min), scraped 0 items (at 0 items/min)\n",
      "2020-09-14 15:48:18 [scrapy.extensions.logstats] INFO: Crawled 1207241 pages (at 526 pages/min), scraped 0 items (at 0 items/min)\n",
      "2020-09-14 15:49:19 [scrapy.extensions.logstats] INFO: Crawled 1207636 pages (at 395 pages/min), scraped 0 items (at 0 items/min)\n",
      "2020-09-14 15:50:18 [scrapy.extensions.logstats] INFO: Crawled 1208092 pages (at 456 pages/min), scraped 0 items (at 0 items/min)\n",
      "2020-09-14 15:51:18 [scrapy.extensions.logstats] INFO: Crawled 1208598 pages (at 506 pages/min), scraped 0 items (at 0 items/min)\n",
      "2020-09-14 15:52:18 [scrapy.extensions.logstats] INFO: Crawled 1209110 pages (at 512 pages/min), scraped 0 items (at 0 items/min)\n"
     ]
    },
    {
     "name": "stderr",
     "output_type": "stream",
     "text": [
      "2020-09-14 15:53:18 [scrapy.extensions.logstats] INFO: Crawled 1209828 pages (at 718 pages/min), scraped 0 items (at 0 items/min)\n",
      "2020-09-14 15:54:18 [scrapy.extensions.logstats] INFO: Crawled 1210334 pages (at 506 pages/min), scraped 0 items (at 0 items/min)\n",
      "2020-09-14 15:55:18 [scrapy.extensions.logstats] INFO: Crawled 1210895 pages (at 561 pages/min), scraped 0 items (at 0 items/min)\n",
      "2020-09-14 15:56:18 [scrapy.extensions.logstats] INFO: Crawled 1211492 pages (at 597 pages/min), scraped 0 items (at 0 items/min)\n",
      "2020-09-14 15:57:18 [scrapy.extensions.logstats] INFO: Crawled 1212046 pages (at 554 pages/min), scraped 0 items (at 0 items/min)\n",
      "2020-09-14 15:58:18 [scrapy.extensions.logstats] INFO: Crawled 1212623 pages (at 577 pages/min), scraped 0 items (at 0 items/min)\n",
      "2020-09-14 15:59:18 [scrapy.extensions.logstats] INFO: Crawled 1212942 pages (at 319 pages/min), scraped 0 items (at 0 items/min)\n",
      "2020-09-14 16:00:18 [scrapy.extensions.logstats] INFO: Crawled 1213483 pages (at 541 pages/min), scraped 0 items (at 0 items/min)\n",
      "2020-09-14 16:01:18 [scrapy.extensions.logstats] INFO: Crawled 1214120 pages (at 637 pages/min), scraped 0 items (at 0 items/min)\n",
      "2020-09-14 16:02:18 [scrapy.extensions.logstats] INFO: Crawled 1214503 pages (at 383 pages/min), scraped 0 items (at 0 items/min)\n",
      "2020-09-14 16:03:18 [scrapy.extensions.logstats] INFO: Crawled 1215219 pages (at 716 pages/min), scraped 0 items (at 0 items/min)\n",
      "2020-09-14 16:04:18 [scrapy.extensions.logstats] INFO: Crawled 1215929 pages (at 710 pages/min), scraped 0 items (at 0 items/min)\n",
      "2020-09-14 16:05:18 [scrapy.extensions.logstats] INFO: Crawled 1216630 pages (at 701 pages/min), scraped 0 items (at 0 items/min)\n",
      "2020-09-14 16:06:18 [scrapy.extensions.logstats] INFO: Crawled 1217353 pages (at 723 pages/min), scraped 0 items (at 0 items/min)\n",
      "2020-09-14 16:07:18 [scrapy.extensions.logstats] INFO: Crawled 1217995 pages (at 642 pages/min), scraped 0 items (at 0 items/min)\n",
      "2020-09-14 16:08:18 [scrapy.extensions.logstats] INFO: Crawled 1218646 pages (at 651 pages/min), scraped 0 items (at 0 items/min)\n",
      "2020-09-14 16:09:18 [scrapy.extensions.logstats] INFO: Crawled 1219335 pages (at 689 pages/min), scraped 0 items (at 0 items/min)\n",
      "2020-09-14 16:10:18 [scrapy.extensions.logstats] INFO: Crawled 1220088 pages (at 753 pages/min), scraped 0 items (at 0 items/min)\n",
      "2020-09-14 16:11:19 [scrapy.extensions.logstats] INFO: Crawled 1220818 pages (at 730 pages/min), scraped 0 items (at 0 items/min)\n",
      "2020-09-14 16:12:18 [scrapy.extensions.logstats] INFO: Crawled 1221430 pages (at 612 pages/min), scraped 0 items (at 0 items/min)\n",
      "2020-09-14 16:13:18 [scrapy.extensions.logstats] INFO: Crawled 1221979 pages (at 549 pages/min), scraped 0 items (at 0 items/min)\n",
      "2020-09-14 16:14:18 [scrapy.extensions.logstats] INFO: Crawled 1222509 pages (at 530 pages/min), scraped 0 items (at 0 items/min)\n",
      "2020-09-14 16:15:18 [scrapy.extensions.logstats] INFO: Crawled 1223115 pages (at 606 pages/min), scraped 0 items (at 0 items/min)\n",
      "2020-09-14 16:16:18 [scrapy.extensions.logstats] INFO: Crawled 1223818 pages (at 703 pages/min), scraped 0 items (at 0 items/min)\n",
      "2020-09-14 16:17:18 [scrapy.extensions.logstats] INFO: Crawled 1224493 pages (at 675 pages/min), scraped 0 items (at 0 items/min)\n",
      "2020-09-14 16:18:38 [scrapy.extensions.logstats] INFO: Crawled 1225098 pages (at 605 pages/min), scraped 0 items (at 0 items/min)\n",
      "2020-09-14 16:19:18 [scrapy.extensions.logstats] INFO: Crawled 1225479 pages (at 381 pages/min), scraped 0 items (at 0 items/min)\n",
      "2020-09-14 16:20:18 [scrapy.extensions.logstats] INFO: Crawled 1226190 pages (at 711 pages/min), scraped 0 items (at 0 items/min)\n",
      "2020-09-14 16:21:18 [scrapy.extensions.logstats] INFO: Crawled 1226869 pages (at 679 pages/min), scraped 0 items (at 0 items/min)\n",
      "2020-09-14 16:22:18 [scrapy.extensions.logstats] INFO: Crawled 1227526 pages (at 657 pages/min), scraped 0 items (at 0 items/min)\n",
      "2020-09-14 16:23:18 [scrapy.extensions.logstats] INFO: Crawled 1228140 pages (at 614 pages/min), scraped 0 items (at 0 items/min)\n",
      "2020-09-14 16:24:18 [scrapy.extensions.logstats] INFO: Crawled 1228692 pages (at 552 pages/min), scraped 0 items (at 0 items/min)\n",
      "2020-09-14 16:25:18 [scrapy.extensions.logstats] INFO: Crawled 1229313 pages (at 621 pages/min), scraped 0 items (at 0 items/min)\n",
      "2020-09-14 16:26:18 [scrapy.extensions.logstats] INFO: Crawled 1229905 pages (at 592 pages/min), scraped 0 items (at 0 items/min)\n",
      "2020-09-14 16:27:18 [scrapy.extensions.logstats] INFO: Crawled 1230414 pages (at 509 pages/min), scraped 0 items (at 0 items/min)\n",
      "2020-09-14 16:28:18 [scrapy.extensions.logstats] INFO: Crawled 1230926 pages (at 512 pages/min), scraped 0 items (at 0 items/min)\n",
      "2020-09-14 16:29:18 [scrapy.extensions.logstats] INFO: Crawled 1231552 pages (at 626 pages/min), scraped 0 items (at 0 items/min)\n",
      "2020-09-14 16:30:18 [scrapy.extensions.logstats] INFO: Crawled 1232162 pages (at 610 pages/min), scraped 0 items (at 0 items/min)\n"
     ]
    },
    {
     "name": "stdout",
     "output_type": "stream",
     "text": [
      "Saving as : /home/alex/chat_bot_wrike/wrike-bot/help_good_for_wrike/360014517194-Boolean-search?page=1.csv {'https://help.wrike.com/hc/en-us/articles/209602909-Search'}\n",
      "/home/alex/chat_bot_wrike/wrike-bot/help_good_for_wrike/360014517194-Boolean-search?page=1.csv\n"
     ]
    },
    {
     "name": "stderr",
     "output_type": "stream",
     "text": [
      "2020-09-14 16:31:18 [scrapy.extensions.logstats] INFO: Crawled 1232695 pages (at 533 pages/min), scraped 0 items (at 0 items/min)\n",
      "2020-09-14 16:32:18 [scrapy.extensions.logstats] INFO: Crawled 1233369 pages (at 674 pages/min), scraped 0 items (at 0 items/min)\n",
      "2020-09-14 16:33:18 [scrapy.extensions.logstats] INFO: Crawled 1234019 pages (at 650 pages/min), scraped 0 items (at 0 items/min)\n",
      "2020-09-14 16:34:18 [scrapy.extensions.logstats] INFO: Crawled 1234529 pages (at 510 pages/min), scraped 0 items (at 0 items/min)\n",
      "2020-09-14 16:35:18 [scrapy.extensions.logstats] INFO: Crawled 1235025 pages (at 496 pages/min), scraped 0 items (at 0 items/min)\n",
      "2020-09-14 16:36:18 [scrapy.extensions.logstats] INFO: Crawled 1235606 pages (at 581 pages/min), scraped 0 items (at 0 items/min)\n",
      "2020-09-14 16:37:19 [scrapy.extensions.logstats] INFO: Crawled 1235963 pages (at 357 pages/min), scraped 0 items (at 0 items/min)\n",
      "2020-09-14 16:38:18 [scrapy.extensions.logstats] INFO: Crawled 1236494 pages (at 531 pages/min), scraped 0 items (at 0 items/min)\n",
      "2020-09-14 16:39:18 [scrapy.extensions.logstats] INFO: Crawled 1237138 pages (at 644 pages/min), scraped 0 items (at 0 items/min)\n",
      "2020-09-14 16:40:18 [scrapy.extensions.logstats] INFO: Crawled 1237771 pages (at 633 pages/min), scraped 0 items (at 0 items/min)\n",
      "2020-09-14 16:41:18 [scrapy.extensions.logstats] INFO: Crawled 1238353 pages (at 582 pages/min), scraped 0 items (at 0 items/min)\n",
      "2020-09-14 16:42:18 [scrapy.extensions.logstats] INFO: Crawled 1238857 pages (at 504 pages/min), scraped 0 items (at 0 items/min)\n",
      "2020-09-14 16:43:18 [scrapy.extensions.logstats] INFO: Crawled 1239321 pages (at 464 pages/min), scraped 0 items (at 0 items/min)\n",
      "2020-09-14 16:44:18 [scrapy.extensions.logstats] INFO: Crawled 1239948 pages (at 627 pages/min), scraped 0 items (at 0 items/min)\n",
      "2020-09-14 16:45:18 [scrapy.extensions.logstats] INFO: Crawled 1240435 pages (at 487 pages/min), scraped 0 items (at 0 items/min)\n",
      "2020-09-14 16:46:18 [scrapy.extensions.logstats] INFO: Crawled 1241062 pages (at 627 pages/min), scraped 0 items (at 0 items/min)\n",
      "2020-09-14 16:47:18 [scrapy.extensions.logstats] INFO: Crawled 1241690 pages (at 628 pages/min), scraped 0 items (at 0 items/min)\n",
      "2020-09-14 16:48:19 [scrapy.extensions.logstats] INFO: Crawled 1242321 pages (at 631 pages/min), scraped 0 items (at 0 items/min)\n",
      "2020-09-14 16:49:19 [scrapy.extensions.logstats] INFO: Crawled 1242762 pages (at 441 pages/min), scraped 0 items (at 0 items/min)\n",
      "2020-09-14 16:50:18 [scrapy.extensions.logstats] INFO: Crawled 1243472 pages (at 710 pages/min), scraped 0 items (at 0 items/min)\n",
      "2020-09-14 16:51:18 [scrapy.extensions.logstats] INFO: Crawled 1244162 pages (at 690 pages/min), scraped 0 items (at 0 items/min)\n",
      "2020-09-14 16:52:18 [scrapy.extensions.logstats] INFO: Crawled 1244874 pages (at 712 pages/min), scraped 0 items (at 0 items/min)\n",
      "2020-09-14 16:53:18 [scrapy.extensions.logstats] INFO: Crawled 1245584 pages (at 710 pages/min), scraped 0 items (at 0 items/min)\n",
      "2020-09-14 16:54:18 [scrapy.extensions.logstats] INFO: Crawled 1246271 pages (at 687 pages/min), scraped 0 items (at 0 items/min)\n",
      "2020-09-14 16:55:36 [scrapy.extensions.logstats] INFO: Crawled 1246845 pages (at 574 pages/min), scraped 0 items (at 0 items/min)\n",
      "2020-09-14 16:56:18 [scrapy.extensions.logstats] INFO: Crawled 1247148 pages (at 303 pages/min), scraped 0 items (at 0 items/min)\n",
      "2020-09-14 16:57:18 [scrapy.extensions.logstats] INFO: Crawled 1247628 pages (at 480 pages/min), scraped 0 items (at 0 items/min)\n",
      "2020-09-14 16:58:18 [scrapy.extensions.logstats] INFO: Crawled 1248245 pages (at 617 pages/min), scraped 0 items (at 0 items/min)\n",
      "2020-09-14 16:59:18 [scrapy.extensions.logstats] INFO: Crawled 1248789 pages (at 544 pages/min), scraped 0 items (at 0 items/min)\n",
      "2020-09-14 17:00:18 [scrapy.extensions.logstats] INFO: Crawled 1249367 pages (at 578 pages/min), scraped 0 items (at 0 items/min)\n",
      "2020-09-14 17:01:18 [scrapy.extensions.logstats] INFO: Crawled 1249787 pages (at 420 pages/min), scraped 0 items (at 0 items/min)\n",
      "2020-09-14 17:02:18 [scrapy.extensions.logstats] INFO: Crawled 1250188 pages (at 401 pages/min), scraped 0 items (at 0 items/min)\n",
      "2020-09-14 17:03:18 [scrapy.extensions.logstats] INFO: Crawled 1250673 pages (at 485 pages/min), scraped 0 items (at 0 items/min)\n",
      "2020-09-14 17:04:18 [scrapy.extensions.logstats] INFO: Crawled 1251269 pages (at 596 pages/min), scraped 0 items (at 0 items/min)\n",
      "2020-09-14 17:05:18 [scrapy.extensions.logstats] INFO: Crawled 1251796 pages (at 527 pages/min), scraped 0 items (at 0 items/min)\n",
      "2020-09-14 17:06:18 [scrapy.extensions.logstats] INFO: Crawled 1252396 pages (at 600 pages/min), scraped 0 items (at 0 items/min)\n",
      "2020-09-14 17:07:18 [scrapy.extensions.logstats] INFO: Crawled 1252945 pages (at 549 pages/min), scraped 0 items (at 0 items/min)\n",
      "2020-09-14 17:08:18 [scrapy.extensions.logstats] INFO: Crawled 1253557 pages (at 612 pages/min), scraped 0 items (at 0 items/min)\n",
      "2020-09-14 17:09:18 [scrapy.extensions.logstats] INFO: Crawled 1254200 pages (at 643 pages/min), scraped 0 items (at 0 items/min)\n",
      "2020-09-14 17:10:19 [scrapy.extensions.logstats] INFO: Crawled 1254700 pages (at 500 pages/min), scraped 0 items (at 0 items/min)\n",
      "2020-09-14 17:11:18 [scrapy.extensions.logstats] INFO: Crawled 1255350 pages (at 650 pages/min), scraped 0 items (at 0 items/min)\n",
      "2020-09-14 17:12:18 [scrapy.extensions.logstats] INFO: Crawled 1255758 pages (at 408 pages/min), scraped 0 items (at 0 items/min)\n",
      "2020-09-14 17:13:18 [scrapy.extensions.logstats] INFO: Crawled 1256276 pages (at 518 pages/min), scraped 0 items (at 0 items/min)\n",
      "2020-09-14 17:14:18 [scrapy.extensions.logstats] INFO: Crawled 1256784 pages (at 508 pages/min), scraped 0 items (at 0 items/min)\n",
      "2020-09-14 17:15:19 [scrapy.extensions.logstats] INFO: Crawled 1257103 pages (at 319 pages/min), scraped 0 items (at 0 items/min)\n",
      "2020-09-14 17:16:18 [scrapy.extensions.logstats] INFO: Crawled 1257681 pages (at 578 pages/min), scraped 0 items (at 0 items/min)\n",
      "2020-09-14 17:17:18 [scrapy.extensions.logstats] INFO: Crawled 1258327 pages (at 646 pages/min), scraped 0 items (at 0 items/min)\n",
      "2020-09-14 17:18:18 [scrapy.extensions.logstats] INFO: Crawled 1258954 pages (at 627 pages/min), scraped 0 items (at 0 items/min)\n",
      "2020-09-14 17:19:18 [scrapy.extensions.logstats] INFO: Crawled 1259589 pages (at 635 pages/min), scraped 0 items (at 0 items/min)\n",
      "2020-09-14 17:20:18 [scrapy.extensions.logstats] INFO: Crawled 1260193 pages (at 604 pages/min), scraped 0 items (at 0 items/min)\n",
      "2020-09-14 17:21:18 [scrapy.extensions.logstats] INFO: Crawled 1260734 pages (at 541 pages/min), scraped 0 items (at 0 items/min)\n",
      "2020-09-14 17:22:18 [scrapy.extensions.logstats] INFO: Crawled 1261297 pages (at 563 pages/min), scraped 0 items (at 0 items/min)\n",
      "2020-09-14 17:23:18 [scrapy.extensions.logstats] INFO: Crawled 1261935 pages (at 638 pages/min), scraped 0 items (at 0 items/min)\n",
      "2020-09-14 17:24:18 [scrapy.extensions.logstats] INFO: Crawled 1262551 pages (at 616 pages/min), scraped 0 items (at 0 items/min)\n",
      "2020-09-14 17:25:18 [scrapy.extensions.logstats] INFO: Crawled 1263221 pages (at 670 pages/min), scraped 0 items (at 0 items/min)\n",
      "2020-09-14 17:26:18 [scrapy.extensions.logstats] INFO: Crawled 1263866 pages (at 645 pages/min), scraped 0 items (at 0 items/min)\n",
      "2020-09-14 17:27:18 [scrapy.extensions.logstats] INFO: Crawled 1264536 pages (at 670 pages/min), scraped 0 items (at 0 items/min)\n"
     ]
    },
    {
     "name": "stdout",
     "output_type": "stream",
     "text": [
      "Saving as : /home/alex/chat_bot_wrike/wrike-bot/help_good_for_wrike/360014443913-Logging-in-as-other-users?page=1.csv {'https://help.wrike.com/hc/en-us/articles/115004551205-Log-In-as-Another-User'}\n"
     ]
    },
    {
     "name": "stderr",
     "output_type": "stream",
     "text": [
      "2020-09-14 17:28:19 [scrapy.extensions.logstats] INFO: Crawled 1265115 pages (at 579 pages/min), scraped 0 items (at 0 items/min)\n"
     ]
    },
    {
     "name": "stdout",
     "output_type": "stream",
     "text": [
      "/home/alex/chat_bot_wrike/wrike-bot/help_good_for_wrike/360014443913-Logging-in-as-other-users?page=1.csv\n"
     ]
    },
    {
     "name": "stderr",
     "output_type": "stream",
     "text": [
      "2020-09-14 17:29:18 [scrapy.extensions.logstats] INFO: Crawled 1265581 pages (at 466 pages/min), scraped 0 items (at 0 items/min)\n",
      "2020-09-14 17:30:18 [scrapy.extensions.logstats] INFO: Crawled 1266023 pages (at 442 pages/min), scraped 0 items (at 0 items/min)\n",
      "2020-09-14 17:31:18 [scrapy.extensions.logstats] INFO: Crawled 1266636 pages (at 613 pages/min), scraped 0 items (at 0 items/min)\n",
      "2020-09-14 17:32:18 [scrapy.extensions.logstats] INFO: Crawled 1267307 pages (at 671 pages/min), scraped 0 items (at 0 items/min)\n",
      "2020-09-14 17:33:18 [scrapy.extensions.logstats] INFO: Crawled 1267925 pages (at 618 pages/min), scraped 0 items (at 0 items/min)\n",
      "2020-09-14 17:34:41 [scrapy.extensions.logstats] INFO: Crawled 1268524 pages (at 599 pages/min), scraped 0 items (at 0 items/min)\n",
      "2020-09-14 17:35:18 [scrapy.extensions.logstats] INFO: Crawled 1268860 pages (at 336 pages/min), scraped 0 items (at 0 items/min)\n",
      "2020-09-14 17:36:18 [scrapy.extensions.logstats] INFO: Crawled 1269250 pages (at 390 pages/min), scraped 0 items (at 0 items/min)\n",
      "2020-09-14 17:37:18 [scrapy.extensions.logstats] INFO: Crawled 1269824 pages (at 574 pages/min), scraped 0 items (at 0 items/min)\n",
      "2020-09-14 17:38:18 [scrapy.extensions.logstats] INFO: Crawled 1270339 pages (at 515 pages/min), scraped 0 items (at 0 items/min)\n",
      "2020-09-14 17:39:18 [scrapy.extensions.logstats] INFO: Crawled 1270744 pages (at 405 pages/min), scraped 0 items (at 0 items/min)\n",
      "2020-09-14 17:40:18 [scrapy.extensions.logstats] INFO: Crawled 1271310 pages (at 566 pages/min), scraped 0 items (at 0 items/min)\n",
      "2020-09-14 17:41:18 [scrapy.extensions.logstats] INFO: Crawled 1271843 pages (at 533 pages/min), scraped 0 items (at 0 items/min)\n",
      "2020-09-14 17:42:18 [scrapy.extensions.logstats] INFO: Crawled 1272400 pages (at 557 pages/min), scraped 0 items (at 0 items/min)\n",
      "2020-09-14 17:43:18 [scrapy.extensions.logstats] INFO: Crawled 1272777 pages (at 377 pages/min), scraped 0 items (at 0 items/min)\n",
      "2020-09-14 17:44:18 [scrapy.extensions.logstats] INFO: Crawled 1273289 pages (at 512 pages/min), scraped 0 items (at 0 items/min)\n",
      "2020-09-14 17:45:18 [scrapy.extensions.logstats] INFO: Crawled 1273669 pages (at 380 pages/min), scraped 0 items (at 0 items/min)\n",
      "2020-09-14 17:46:18 [scrapy.extensions.logstats] INFO: Crawled 1274028 pages (at 359 pages/min), scraped 0 items (at 0 items/min)\n"
     ]
    },
    {
     "name": "stdout",
     "output_type": "stream",
     "text": [
      "Saving as : /home/alex/chat_bot_wrike/wrike-bot/help_good_for_wrike/115004580629-Rob.csv {'https://help.wrike.com/hc/en-us/articles/209602969-Sharing'}\n",
      "/home/alex/chat_bot_wrike/wrike-bot/help_good_for_wrike/115004580629-Rob.csv\n",
      "Saving as : /home/alex/chat_bot_wrike/wrike-bot/help_good_for_wrike/115004580629-Rob?page=1.csv {'https://help.wrike.com/hc/en-us/articles/209602969-Sharing'}\n",
      "/home/alex/chat_bot_wrike/wrike-bot/help_good_for_wrike/115004580629-Rob?page=1.csv\n"
     ]
    },
    {
     "name": "stderr",
     "output_type": "stream",
     "text": [
      "2020-09-14 17:47:18 [scrapy.extensions.logstats] INFO: Crawled 1274361 pages (at 333 pages/min), scraped 0 items (at 0 items/min)\n",
      "2020-09-14 17:48:18 [scrapy.extensions.logstats] INFO: Crawled 1274724 pages (at 363 pages/min), scraped 0 items (at 0 items/min)\n",
      "2020-09-14 17:49:18 [scrapy.extensions.logstats] INFO: Crawled 1275073 pages (at 349 pages/min), scraped 0 items (at 0 items/min)\n",
      "2020-09-14 17:50:18 [scrapy.extensions.logstats] INFO: Crawled 1275473 pages (at 400 pages/min), scraped 0 items (at 0 items/min)\n",
      "2020-09-14 17:51:21 [scrapy.extensions.logstats] INFO: Crawled 1275837 pages (at 364 pages/min), scraped 0 items (at 0 items/min)\n",
      "2020-09-14 17:52:18 [scrapy.extensions.logstats] INFO: Crawled 1276235 pages (at 398 pages/min), scraped 0 items (at 0 items/min)\n"
     ]
    },
    {
     "name": "stdout",
     "output_type": "stream",
     "text": [
      "Saving as : /home/alex/chat_bot_wrike/wrike-bot/help_good_for_wrike/115000852029-Release-Notes-January-25.csv {'https://help.wrike.com/hc/en-us/articles/209604449-Reports-Overview', 'https://help.wrike.com/hc/en-us/articles/115000193205-Board-View'}\n",
      "/home/alex/chat_bot_wrike/wrike-bot/help_good_for_wrike/115000852029-Release-Notes-January-25.csv\n"
     ]
    },
    {
     "name": "stderr",
     "output_type": "stream",
     "text": [
      "2020-09-14 17:53:19 [scrapy.extensions.logstats] INFO: Crawled 1276609 pages (at 374 pages/min), scraped 0 items (at 0 items/min)\n",
      "2020-09-14 17:54:18 [scrapy.extensions.logstats] INFO: Crawled 1277099 pages (at 490 pages/min), scraped 0 items (at 0 items/min)\n"
     ]
    },
    {
     "name": "stdout",
     "output_type": "stream",
     "text": [
      "Saving as : /home/alex/chat_bot_wrike/wrike-bot/help_good_for_wrike/115000170609-Leads-and-Lags-with-Dependencies?input_string=Leads+and+Lags+for+Dependencies&page=4.csv {'https://help.wrike.com/hc/en-us/articles/209604229-Dependencies-on-the-Gantt-Chart-'}\n",
      "/home/alex/chat_bot_wrike/wrike-bot/help_good_for_wrike/115000170609-Leads-and-Lags-with-Dependencies?input_string=Leads+and+Lags+for+Dependencies&page=4.csv\n"
     ]
    },
    {
     "name": "stderr",
     "output_type": "stream",
     "text": [
      "2020-09-14 17:55:18 [scrapy.extensions.logstats] INFO: Crawled 1277485 pages (at 386 pages/min), scraped 0 items (at 0 items/min)\n",
      "2020-09-14 17:56:18 [scrapy.extensions.logstats] INFO: Crawled 1277777 pages (at 292 pages/min), scraped 0 items (at 0 items/min)\n",
      "2020-09-14 17:57:18 [scrapy.extensions.logstats] INFO: Crawled 1278358 pages (at 581 pages/min), scraped 0 items (at 0 items/min)\n",
      "2020-09-14 17:58:18 [scrapy.extensions.logstats] INFO: Crawled 1278964 pages (at 606 pages/min), scraped 0 items (at 0 items/min)\n",
      "2020-09-14 17:59:18 [scrapy.extensions.logstats] INFO: Crawled 1279448 pages (at 484 pages/min), scraped 0 items (at 0 items/min)\n",
      "2020-09-14 18:00:18 [scrapy.extensions.logstats] INFO: Crawled 1280047 pages (at 599 pages/min), scraped 0 items (at 0 items/min)\n",
      "2020-09-14 18:01:18 [scrapy.extensions.logstats] INFO: Crawled 1280724 pages (at 677 pages/min), scraped 0 items (at 0 items/min)\n",
      "2020-09-14 18:02:18 [scrapy.extensions.logstats] INFO: Crawled 1281122 pages (at 398 pages/min), scraped 0 items (at 0 items/min)\n",
      "2020-09-14 18:03:18 [scrapy.extensions.logstats] INFO: Crawled 1281657 pages (at 535 pages/min), scraped 0 items (at 0 items/min)\n",
      "2020-09-14 18:04:18 [scrapy.extensions.logstats] INFO: Crawled 1282281 pages (at 624 pages/min), scraped 0 items (at 0 items/min)\n",
      "2020-09-14 18:05:18 [scrapy.extensions.logstats] INFO: Crawled 1282866 pages (at 585 pages/min), scraped 0 items (at 0 items/min)\n",
      "2020-09-14 18:06:18 [scrapy.extensions.logstats] INFO: Crawled 1283441 pages (at 575 pages/min), scraped 0 items (at 0 items/min)\n",
      "2020-09-14 18:07:18 [scrapy.extensions.logstats] INFO: Crawled 1284005 pages (at 564 pages/min), scraped 0 items (at 0 items/min)\n",
      "2020-09-14 18:08:18 [scrapy.extensions.logstats] INFO: Crawled 1284550 pages (at 545 pages/min), scraped 0 items (at 0 items/min)\n",
      "2020-09-14 18:09:19 [scrapy.extensions.logstats] INFO: Crawled 1285035 pages (at 485 pages/min), scraped 0 items (at 0 items/min)\n",
      "2020-09-14 18:10:19 [scrapy.extensions.logstats] INFO: Crawled 1285524 pages (at 489 pages/min), scraped 0 items (at 0 items/min)\n",
      "2020-09-14 18:11:18 [scrapy.extensions.logstats] INFO: Crawled 1286039 pages (at 515 pages/min), scraped 0 items (at 0 items/min)\n",
      "2020-09-14 18:12:18 [scrapy.extensions.logstats] INFO: Crawled 1286551 pages (at 512 pages/min), scraped 0 items (at 0 items/min)\n",
      "2020-09-14 18:13:18 [scrapy.extensions.logstats] INFO: Crawled 1287068 pages (at 517 pages/min), scraped 0 items (at 0 items/min)\n",
      "2020-09-14 18:14:18 [scrapy.extensions.logstats] INFO: Crawled 1287573 pages (at 505 pages/min), scraped 0 items (at 0 items/min)\n",
      "2020-09-14 18:15:18 [scrapy.extensions.logstats] INFO: Crawled 1288118 pages (at 545 pages/min), scraped 0 items (at 0 items/min)\n",
      "2020-09-14 18:16:18 [scrapy.extensions.logstats] INFO: Crawled 1288685 pages (at 567 pages/min), scraped 0 items (at 0 items/min)\n",
      "2020-09-14 18:17:26 [scrapy.extensions.logstats] INFO: Crawled 1289108 pages (at 423 pages/min), scraped 0 items (at 0 items/min)\n",
      "2020-09-14 18:18:18 [scrapy.extensions.logstats] INFO: Crawled 1289645 pages (at 537 pages/min), scraped 0 items (at 0 items/min)\n",
      "2020-09-14 18:19:18 [scrapy.extensions.logstats] INFO: Crawled 1290272 pages (at 627 pages/min), scraped 0 items (at 0 items/min)\n",
      "2020-09-14 18:20:18 [scrapy.extensions.logstats] INFO: Crawled 1290878 pages (at 606 pages/min), scraped 0 items (at 0 items/min)\n",
      "2020-09-14 18:21:18 [scrapy.extensions.logstats] INFO: Crawled 1291529 pages (at 651 pages/min), scraped 0 items (at 0 items/min)\n",
      "2020-09-14 18:22:18 [scrapy.extensions.logstats] INFO: Crawled 1292246 pages (at 717 pages/min), scraped 0 items (at 0 items/min)\n",
      "2020-09-14 18:23:18 [scrapy.extensions.logstats] INFO: Crawled 1292887 pages (at 641 pages/min), scraped 0 items (at 0 items/min)\n",
      "2020-09-14 18:24:18 [scrapy.extensions.logstats] INFO: Crawled 1293617 pages (at 730 pages/min), scraped 0 items (at 0 items/min)\n",
      "2020-09-14 18:25:20 [scrapy.extensions.logstats] INFO: Crawled 1294297 pages (at 680 pages/min), scraped 0 items (at 0 items/min)\n",
      "2020-09-14 18:26:18 [scrapy.extensions.logstats] INFO: Crawled 1294953 pages (at 656 pages/min), scraped 0 items (at 0 items/min)\n",
      "2020-09-14 18:27:18 [scrapy.extensions.logstats] INFO: Crawled 1295611 pages (at 658 pages/min), scraped 0 items (at 0 items/min)\n",
      "2020-09-14 18:28:18 [scrapy.extensions.logstats] INFO: Crawled 1296071 pages (at 460 pages/min), scraped 0 items (at 0 items/min)\n",
      "2020-09-14 18:29:18 [scrapy.extensions.logstats] INFO: Crawled 1296485 pages (at 414 pages/min), scraped 0 items (at 0 items/min)\n",
      "2020-09-14 18:30:18 [scrapy.extensions.logstats] INFO: Crawled 1297074 pages (at 589 pages/min), scraped 0 items (at 0 items/min)\n",
      "2020-09-14 18:31:18 [scrapy.extensions.logstats] INFO: Crawled 1297667 pages (at 593 pages/min), scraped 0 items (at 0 items/min)\n",
      "2020-09-14 18:32:18 [scrapy.extensions.logstats] INFO: Crawled 1298316 pages (at 649 pages/min), scraped 0 items (at 0 items/min)\n",
      "2020-09-14 18:33:18 [scrapy.extensions.logstats] INFO: Crawled 1298939 pages (at 623 pages/min), scraped 0 items (at 0 items/min)\n",
      "2020-09-14 18:34:18 [scrapy.extensions.logstats] INFO: Crawled 1299554 pages (at 615 pages/min), scraped 0 items (at 0 items/min)\n",
      "2020-09-14 18:35:18 [scrapy.extensions.logstats] INFO: Crawled 1300194 pages (at 640 pages/min), scraped 0 items (at 0 items/min)\n",
      "2020-09-14 18:36:18 [scrapy.extensions.logstats] INFO: Crawled 1300798 pages (at 604 pages/min), scraped 0 items (at 0 items/min)\n",
      "2020-09-14 18:37:38 [scrapy.extensions.logstats] INFO: Crawled 1301273 pages (at 475 pages/min), scraped 0 items (at 0 items/min)\n",
      "2020-09-14 18:38:18 [scrapy.extensions.logstats] INFO: Crawled 1301649 pages (at 376 pages/min), scraped 0 items (at 0 items/min)\n",
      "2020-09-14 18:39:18 [scrapy.extensions.logstats] INFO: Crawled 1302254 pages (at 605 pages/min), scraped 0 items (at 0 items/min)\n",
      "2020-09-14 18:40:18 [scrapy.extensions.logstats] INFO: Crawled 1302690 pages (at 436 pages/min), scraped 0 items (at 0 items/min)\n",
      "2020-09-14 18:41:18 [scrapy.extensions.logstats] INFO: Crawled 1303190 pages (at 500 pages/min), scraped 0 items (at 0 items/min)\n",
      "2020-09-14 18:42:19 [scrapy.extensions.logstats] INFO: Crawled 1303683 pages (at 493 pages/min), scraped 0 items (at 0 items/min)\n",
      "2020-09-14 18:43:19 [scrapy.extensions.logstats] INFO: Crawled 1304112 pages (at 429 pages/min), scraped 0 items (at 0 items/min)\n",
      "2020-09-14 18:44:18 [scrapy.extensions.logstats] INFO: Crawled 1304484 pages (at 372 pages/min), scraped 0 items (at 0 items/min)\n",
      "2020-09-14 18:45:18 [scrapy.extensions.logstats] INFO: Crawled 1304815 pages (at 331 pages/min), scraped 0 items (at 0 items/min)\n",
      "2020-09-14 18:46:18 [scrapy.extensions.logstats] INFO: Crawled 1305129 pages (at 314 pages/min), scraped 0 items (at 0 items/min)\n",
      "2020-09-14 18:47:18 [scrapy.extensions.logstats] INFO: Crawled 1305775 pages (at 646 pages/min), scraped 0 items (at 0 items/min)\n",
      "2020-09-14 18:48:18 [scrapy.extensions.logstats] INFO: Crawled 1306401 pages (at 626 pages/min), scraped 0 items (at 0 items/min)\n",
      "2020-09-14 18:49:18 [scrapy.extensions.logstats] INFO: Crawled 1307062 pages (at 661 pages/min), scraped 0 items (at 0 items/min)\n",
      "2020-09-14 18:50:18 [scrapy.extensions.logstats] INFO: Crawled 1307639 pages (at 577 pages/min), scraped 0 items (at 0 items/min)\n",
      "2020-09-14 18:51:18 [scrapy.extensions.logstats] INFO: Crawled 1308226 pages (at 587 pages/min), scraped 0 items (at 0 items/min)\n",
      "2020-09-14 18:52:18 [scrapy.extensions.logstats] INFO: Crawled 1308861 pages (at 635 pages/min), scraped 0 items (at 0 items/min)\n",
      "2020-09-14 18:53:18 [scrapy.extensions.logstats] INFO: Crawled 1309425 pages (at 564 pages/min), scraped 0 items (at 0 items/min)\n",
      "2020-09-14 18:54:19 [scrapy.extensions.logstats] INFO: Crawled 1309859 pages (at 434 pages/min), scraped 0 items (at 0 items/min)\n"
     ]
    },
    {
     "name": "stdout",
     "output_type": "stream",
     "text": [
      "Saving as : /home/alex/chat_bot_wrike/wrike-bot/help_good_for_wrike/115000164349-Request-forms-Autopopulate-map-to-custom-fields-on-a-task-folder?page=4.csv {'https://help.wrike.com/hc/en-us/articles/115004740045-Create-a-Request-Form-for-Admins-#response'}\n",
      "/home/alex/chat_bot_wrike/wrike-bot/help_good_for_wrike/115000164349-Request-forms-Autopopulate-map-to-custom-fields-on-a-task-folder?page=4.csv\n"
     ]
    },
    {
     "name": "stderr",
     "output_type": "stream",
     "text": [
      "2020-09-14 18:55:18 [scrapy.extensions.logstats] INFO: Crawled 1310395 pages (at 536 pages/min), scraped 0 items (at 0 items/min)\n",
      "2020-09-14 18:56:18 [scrapy.extensions.logstats] INFO: Crawled 1311031 pages (at 636 pages/min), scraped 0 items (at 0 items/min)\n",
      "2020-09-14 18:57:18 [scrapy.extensions.logstats] INFO: Crawled 1311710 pages (at 679 pages/min), scraped 0 items (at 0 items/min)\n",
      "2020-09-14 18:58:18 [scrapy.extensions.logstats] INFO: Crawled 1312408 pages (at 698 pages/min), scraped 0 items (at 0 items/min)\n",
      "2020-09-14 18:59:18 [scrapy.extensions.logstats] INFO: Crawled 1312756 pages (at 348 pages/min), scraped 0 items (at 0 items/min)\n",
      "2020-09-14 19:00:18 [scrapy.extensions.logstats] INFO: Crawled 1313131 pages (at 375 pages/min), scraped 0 items (at 0 items/min)\n",
      "2020-09-14 19:01:18 [scrapy.extensions.logstats] INFO: Crawled 1313527 pages (at 396 pages/min), scraped 0 items (at 0 items/min)\n",
      "2020-09-14 19:02:18 [scrapy.extensions.logstats] INFO: Crawled 1314138 pages (at 611 pages/min), scraped 0 items (at 0 items/min)\n",
      "2020-09-14 19:03:18 [scrapy.extensions.logstats] INFO: Crawled 1314767 pages (at 629 pages/min), scraped 0 items (at 0 items/min)\n",
      "2020-09-14 19:04:19 [scrapy.extensions.logstats] INFO: Crawled 1315224 pages (at 457 pages/min), scraped 0 items (at 0 items/min)\n",
      "2020-09-14 19:05:18 [scrapy.extensions.logstats] INFO: Crawled 1315681 pages (at 457 pages/min), scraped 0 items (at 0 items/min)\n",
      "2020-09-14 19:06:18 [scrapy.extensions.logstats] INFO: Crawled 1316225 pages (at 544 pages/min), scraped 0 items (at 0 items/min)\n",
      "2020-09-14 19:07:18 [scrapy.extensions.logstats] INFO: Crawled 1316720 pages (at 495 pages/min), scraped 0 items (at 0 items/min)\n",
      "2020-09-14 19:08:18 [scrapy.extensions.logstats] INFO: Crawled 1317317 pages (at 597 pages/min), scraped 0 items (at 0 items/min)\n"
     ]
    },
    {
     "name": "stdout",
     "output_type": "stream",
     "text": [
      "Saving as : /home/alex/chat_bot_wrike/wrike-bot/help_good_for_wrike/360014013293-Shortcut-to-open-task-in-new-tab.csv {'https://help.wrike.com/hc/en-us/articles/210322725-Keyboard-Shortcuts#available'}\n",
      "/home/alex/chat_bot_wrike/wrike-bot/help_good_for_wrike/360014013293-Shortcut-to-open-task-in-new-tab.csv\n",
      "Saving as : /home/alex/chat_bot_wrike/wrike-bot/help_good_for_wrike/360014013293-Shortcut-to-open-task-in-new-tab?page=1.csv {'https://help.wrike.com/hc/en-us/articles/210322725-Keyboard-Shortcuts#available'}\n",
      "/home/alex/chat_bot_wrike/wrike-bot/help_good_for_wrike/360014013293-Shortcut-to-open-task-in-new-tab?page=1.csv\n"
     ]
    },
    {
     "name": "stderr",
     "output_type": "stream",
     "text": [
      "2020-09-14 19:09:18 [scrapy.extensions.logstats] INFO: Crawled 1317751 pages (at 434 pages/min), scraped 0 items (at 0 items/min)\n",
      "2020-09-14 19:10:18 [scrapy.extensions.logstats] INFO: Crawled 1318276 pages (at 525 pages/min), scraped 0 items (at 0 items/min)\n",
      "2020-09-14 19:11:18 [scrapy.extensions.logstats] INFO: Crawled 1318647 pages (at 371 pages/min), scraped 0 items (at 0 items/min)\n",
      "2020-09-14 19:12:18 [scrapy.extensions.logstats] INFO: Crawled 1319237 pages (at 590 pages/min), scraped 0 items (at 0 items/min)\n",
      "2020-09-14 19:13:18 [scrapy.extensions.logstats] INFO: Crawled 1319794 pages (at 557 pages/min), scraped 0 items (at 0 items/min)\n",
      "2020-09-14 19:14:18 [scrapy.extensions.logstats] INFO: Crawled 1320257 pages (at 463 pages/min), scraped 0 items (at 0 items/min)\n",
      "2020-09-14 19:15:18 [scrapy.extensions.logstats] INFO: Crawled 1320837 pages (at 580 pages/min), scraped 0 items (at 0 items/min)\n",
      "2020-09-14 19:16:18 [scrapy.extensions.logstats] INFO: Crawled 1321387 pages (at 550 pages/min), scraped 0 items (at 0 items/min)\n",
      "2020-09-14 19:17:18 [scrapy.extensions.logstats] INFO: Crawled 1321862 pages (at 475 pages/min), scraped 0 items (at 0 items/min)\n",
      "2020-09-14 19:18:18 [scrapy.extensions.logstats] INFO: Crawled 1322401 pages (at 539 pages/min), scraped 0 items (at 0 items/min)\n",
      "2020-09-14 19:19:18 [scrapy.extensions.logstats] INFO: Crawled 1322910 pages (at 509 pages/min), scraped 0 items (at 0 items/min)\n",
      "2020-09-14 19:20:18 [scrapy.extensions.logstats] INFO: Crawled 1323415 pages (at 505 pages/min), scraped 0 items (at 0 items/min)\n",
      "2020-09-14 19:21:18 [scrapy.extensions.logstats] INFO: Crawled 1323700 pages (at 285 pages/min), scraped 0 items (at 0 items/min)\n",
      "2020-09-14 19:22:18 [scrapy.extensions.logstats] INFO: Crawled 1324193 pages (at 493 pages/min), scraped 0 items (at 0 items/min)\n",
      "2020-09-14 19:23:18 [scrapy.extensions.logstats] INFO: Crawled 1324618 pages (at 425 pages/min), scraped 0 items (at 0 items/min)\n",
      "2020-09-14 19:24:18 [scrapy.extensions.logstats] INFO: Crawled 1324969 pages (at 351 pages/min), scraped 0 items (at 0 items/min)\n",
      "2020-09-14 19:25:18 [scrapy.extensions.logstats] INFO: Crawled 1325349 pages (at 380 pages/min), scraped 0 items (at 0 items/min)\n",
      "2020-09-14 19:26:18 [scrapy.extensions.logstats] INFO: Crawled 1325807 pages (at 458 pages/min), scraped 0 items (at 0 items/min)\n",
      "2020-09-14 19:27:18 [scrapy.extensions.logstats] INFO: Crawled 1326311 pages (at 504 pages/min), scraped 0 items (at 0 items/min)\n",
      "2020-09-14 19:28:18 [scrapy.extensions.logstats] INFO: Crawled 1326751 pages (at 440 pages/min), scraped 0 items (at 0 items/min)\n",
      "2020-09-14 19:29:18 [scrapy.extensions.logstats] INFO: Crawled 1327272 pages (at 521 pages/min), scraped 0 items (at 0 items/min)\n",
      "2020-09-14 19:30:18 [scrapy.extensions.logstats] INFO: Crawled 1327708 pages (at 436 pages/min), scraped 0 items (at 0 items/min)\n",
      "2020-09-14 19:31:18 [scrapy.extensions.logstats] INFO: Crawled 1328204 pages (at 496 pages/min), scraped 0 items (at 0 items/min)\n",
      "2020-09-14 19:32:18 [scrapy.extensions.logstats] INFO: Crawled 1328614 pages (at 410 pages/min), scraped 0 items (at 0 items/min)\n",
      "2020-09-14 19:33:18 [scrapy.extensions.logstats] INFO: Crawled 1329087 pages (at 473 pages/min), scraped 0 items (at 0 items/min)\n",
      "2020-09-14 19:34:18 [scrapy.extensions.logstats] INFO: Crawled 1329626 pages (at 539 pages/min), scraped 0 items (at 0 items/min)\n",
      "2020-09-14 19:35:18 [scrapy.extensions.logstats] INFO: Crawled 1330167 pages (at 541 pages/min), scraped 0 items (at 0 items/min)\n",
      "2020-09-14 19:36:19 [scrapy.extensions.logstats] INFO: Crawled 1330603 pages (at 436 pages/min), scraped 0 items (at 0 items/min)\n",
      "2020-09-14 19:37:18 [scrapy.extensions.logstats] INFO: Crawled 1331047 pages (at 444 pages/min), scraped 0 items (at 0 items/min)\n",
      "2020-09-14 19:38:18 [scrapy.extensions.logstats] INFO: Crawled 1331469 pages (at 422 pages/min), scraped 0 items (at 0 items/min)\n",
      "2020-09-14 19:39:18 [scrapy.extensions.logstats] INFO: Crawled 1332062 pages (at 593 pages/min), scraped 0 items (at 0 items/min)\n",
      "2020-09-14 19:40:18 [scrapy.extensions.logstats] INFO: Crawled 1332512 pages (at 450 pages/min), scraped 0 items (at 0 items/min)\n",
      "2020-09-14 19:41:18 [scrapy.extensions.logstats] INFO: Crawled 1332912 pages (at 400 pages/min), scraped 0 items (at 0 items/min)\n",
      "2020-09-14 19:42:18 [scrapy.extensions.logstats] INFO: Crawled 1333347 pages (at 435 pages/min), scraped 0 items (at 0 items/min)\n",
      "2020-09-14 19:43:18 [scrapy.extensions.logstats] INFO: Crawled 1333756 pages (at 409 pages/min), scraped 0 items (at 0 items/min)\n",
      "2020-09-14 19:44:18 [scrapy.extensions.logstats] INFO: Crawled 1334139 pages (at 383 pages/min), scraped 0 items (at 0 items/min)\n",
      "2020-09-14 19:45:18 [scrapy.extensions.logstats] INFO: Crawled 1334574 pages (at 435 pages/min), scraped 0 items (at 0 items/min)\n",
      "2020-09-14 19:46:18 [scrapy.extensions.logstats] INFO: Crawled 1335108 pages (at 534 pages/min), scraped 0 items (at 0 items/min)\n",
      "2020-09-14 19:47:18 [scrapy.extensions.logstats] INFO: Crawled 1335392 pages (at 284 pages/min), scraped 0 items (at 0 items/min)\n",
      "2020-09-14 19:48:18 [scrapy.extensions.logstats] INFO: Crawled 1335913 pages (at 521 pages/min), scraped 0 items (at 0 items/min)\n",
      "2020-09-14 19:49:18 [scrapy.extensions.logstats] INFO: Crawled 1336396 pages (at 483 pages/min), scraped 0 items (at 0 items/min)\n",
      "2020-09-14 19:50:18 [scrapy.extensions.logstats] INFO: Crawled 1336968 pages (at 572 pages/min), scraped 0 items (at 0 items/min)\n",
      "2020-09-14 19:51:18 [scrapy.extensions.logstats] INFO: Crawled 1337512 pages (at 544 pages/min), scraped 0 items (at 0 items/min)\n",
      "2020-09-14 19:52:18 [scrapy.extensions.logstats] INFO: Crawled 1338036 pages (at 524 pages/min), scraped 0 items (at 0 items/min)\n",
      "2020-09-14 19:53:18 [scrapy.extensions.logstats] INFO: Crawled 1338529 pages (at 493 pages/min), scraped 0 items (at 0 items/min)\n",
      "2020-09-14 19:54:18 [scrapy.extensions.logstats] INFO: Crawled 1339124 pages (at 595 pages/min), scraped 0 items (at 0 items/min)\n",
      "2020-09-14 19:55:18 [scrapy.extensions.logstats] INFO: Crawled 1339680 pages (at 556 pages/min), scraped 0 items (at 0 items/min)\n",
      "2020-09-14 19:56:18 [scrapy.extensions.logstats] INFO: Crawled 1340194 pages (at 514 pages/min), scraped 0 items (at 0 items/min)\n",
      "2020-09-14 19:57:18 [scrapy.extensions.logstats] INFO: Crawled 1340734 pages (at 540 pages/min), scraped 0 items (at 0 items/min)\n",
      "2020-09-14 19:58:18 [scrapy.extensions.logstats] INFO: Crawled 1341268 pages (at 534 pages/min), scraped 0 items (at 0 items/min)\n",
      "2020-09-14 19:59:18 [scrapy.extensions.logstats] INFO: Crawled 1341725 pages (at 457 pages/min), scraped 0 items (at 0 items/min)\n",
      "2020-09-14 20:00:18 [scrapy.extensions.logstats] INFO: Crawled 1342260 pages (at 535 pages/min), scraped 0 items (at 0 items/min)\n",
      "2020-09-14 20:01:18 [scrapy.extensions.logstats] INFO: Crawled 1342741 pages (at 481 pages/min), scraped 0 items (at 0 items/min)\n",
      "2020-09-14 20:02:18 [scrapy.extensions.logstats] INFO: Crawled 1343299 pages (at 558 pages/min), scraped 0 items (at 0 items/min)\n",
      "2020-09-14 20:03:18 [scrapy.extensions.logstats] INFO: Crawled 1343683 pages (at 384 pages/min), scraped 0 items (at 0 items/min)\n",
      "2020-09-14 20:04:18 [scrapy.extensions.logstats] INFO: Crawled 1344240 pages (at 557 pages/min), scraped 0 items (at 0 items/min)\n",
      "2020-09-14 20:05:18 [scrapy.extensions.logstats] INFO: Crawled 1344807 pages (at 567 pages/min), scraped 0 items (at 0 items/min)\n",
      "2020-09-14 20:06:18 [scrapy.extensions.logstats] INFO: Crawled 1345333 pages (at 526 pages/min), scraped 0 items (at 0 items/min)\n",
      "2020-09-14 20:07:18 [scrapy.extensions.logstats] INFO: Crawled 1345827 pages (at 494 pages/min), scraped 0 items (at 0 items/min)\n",
      "2020-09-14 20:08:18 [scrapy.extensions.logstats] INFO: Crawled 1346372 pages (at 545 pages/min), scraped 0 items (at 0 items/min)\n",
      "2020-09-14 20:09:18 [scrapy.extensions.logstats] INFO: Crawled 1346847 pages (at 475 pages/min), scraped 0 items (at 0 items/min)\n",
      "2020-09-14 20:10:28 [scrapy.extensions.logstats] INFO: Crawled 1347141 pages (at 294 pages/min), scraped 0 items (at 0 items/min)\n",
      "2020-09-14 20:11:18 [scrapy.extensions.logstats] INFO: Crawled 1347426 pages (at 285 pages/min), scraped 0 items (at 0 items/min)\n",
      "2020-09-14 20:12:18 [scrapy.extensions.logstats] INFO: Crawled 1347846 pages (at 420 pages/min), scraped 0 items (at 0 items/min)\n"
     ]
    },
    {
     "name": "stderr",
     "output_type": "stream",
     "text": [
      "2020-09-14 20:13:18 [scrapy.extensions.logstats] INFO: Crawled 1348348 pages (at 502 pages/min), scraped 0 items (at 0 items/min)\n",
      "2020-09-14 20:14:18 [scrapy.extensions.logstats] INFO: Crawled 1348704 pages (at 356 pages/min), scraped 0 items (at 0 items/min)\n",
      "2020-09-14 20:15:18 [scrapy.extensions.logstats] INFO: Crawled 1348962 pages (at 258 pages/min), scraped 0 items (at 0 items/min)\n",
      "2020-09-14 20:16:18 [scrapy.extensions.logstats] INFO: Crawled 1349441 pages (at 479 pages/min), scraped 0 items (at 0 items/min)\n",
      "2020-09-14 20:17:19 [scrapy.extensions.logstats] INFO: Crawled 1349939 pages (at 498 pages/min), scraped 0 items (at 0 items/min)\n",
      "2020-09-14 20:18:18 [scrapy.extensions.logstats] INFO: Crawled 1350380 pages (at 441 pages/min), scraped 0 items (at 0 items/min)\n",
      "2020-09-14 20:19:18 [scrapy.extensions.logstats] INFO: Crawled 1351023 pages (at 643 pages/min), scraped 0 items (at 0 items/min)\n",
      "2020-09-14 20:20:20 [scrapy.extensions.logstats] INFO: Crawled 1351550 pages (at 527 pages/min), scraped 0 items (at 0 items/min)\n",
      "2020-09-14 20:21:18 [scrapy.extensions.logstats] INFO: Crawled 1352028 pages (at 478 pages/min), scraped 0 items (at 0 items/min)\n",
      "2020-09-14 20:22:18 [scrapy.extensions.logstats] INFO: Crawled 1352548 pages (at 520 pages/min), scraped 0 items (at 0 items/min)\n",
      "2020-09-14 20:23:18 [scrapy.extensions.logstats] INFO: Crawled 1353083 pages (at 535 pages/min), scraped 0 items (at 0 items/min)\n",
      "2020-09-14 20:24:18 [scrapy.extensions.logstats] INFO: Crawled 1353385 pages (at 302 pages/min), scraped 0 items (at 0 items/min)\n",
      "2020-09-14 20:25:18 [scrapy.extensions.logstats] INFO: Crawled 1353816 pages (at 431 pages/min), scraped 0 items (at 0 items/min)\n",
      "2020-09-14 20:26:18 [scrapy.extensions.logstats] INFO: Crawled 1354438 pages (at 622 pages/min), scraped 0 items (at 0 items/min)\n",
      "2020-09-14 20:27:18 [scrapy.extensions.logstats] INFO: Crawled 1355088 pages (at 650 pages/min), scraped 0 items (at 0 items/min)\n",
      "2020-09-14 20:28:18 [scrapy.extensions.logstats] INFO: Crawled 1355720 pages (at 632 pages/min), scraped 0 items (at 0 items/min)\n",
      "2020-09-14 20:29:18 [scrapy.extensions.logstats] INFO: Crawled 1356345 pages (at 625 pages/min), scraped 0 items (at 0 items/min)\n",
      "2020-09-14 20:30:18 [scrapy.extensions.logstats] INFO: Crawled 1356992 pages (at 647 pages/min), scraped 0 items (at 0 items/min)\n",
      "2020-09-14 20:31:19 [scrapy.extensions.logstats] INFO: Crawled 1357561 pages (at 569 pages/min), scraped 0 items (at 0 items/min)\n",
      "2020-09-14 20:32:19 [scrapy.extensions.logstats] INFO: Crawled 1357746 pages (at 185 pages/min), scraped 0 items (at 0 items/min)\n",
      "2020-09-14 20:33:19 [scrapy.extensions.logstats] INFO: Crawled 1358176 pages (at 430 pages/min), scraped 0 items (at 0 items/min)\n",
      "2020-09-14 20:34:18 [scrapy.extensions.logstats] INFO: Crawled 1358518 pages (at 342 pages/min), scraped 0 items (at 0 items/min)\n",
      "2020-09-14 20:35:18 [scrapy.extensions.logstats] INFO: Crawled 1359118 pages (at 600 pages/min), scraped 0 items (at 0 items/min)\n",
      "2020-09-14 20:36:18 [scrapy.extensions.logstats] INFO: Crawled 1359646 pages (at 528 pages/min), scraped 0 items (at 0 items/min)\n",
      "2020-09-14 20:37:18 [scrapy.extensions.logstats] INFO: Crawled 1360267 pages (at 621 pages/min), scraped 0 items (at 0 items/min)\n",
      "2020-09-14 20:38:20 [scrapy.extensions.logstats] INFO: Crawled 1360831 pages (at 564 pages/min), scraped 0 items (at 0 items/min)\n",
      "2020-09-14 20:39:18 [scrapy.extensions.logstats] INFO: Crawled 1361339 pages (at 508 pages/min), scraped 0 items (at 0 items/min)\n",
      "2020-09-14 20:40:18 [scrapy.extensions.logstats] INFO: Crawled 1361855 pages (at 516 pages/min), scraped 0 items (at 0 items/min)\n",
      "2020-09-14 20:41:18 [scrapy.extensions.logstats] INFO: Crawled 1362340 pages (at 485 pages/min), scraped 0 items (at 0 items/min)\n",
      "2020-09-14 20:42:18 [scrapy.extensions.logstats] INFO: Crawled 1362806 pages (at 466 pages/min), scraped 0 items (at 0 items/min)\n",
      "2020-09-14 20:43:18 [scrapy.extensions.logstats] INFO: Crawled 1363199 pages (at 393 pages/min), scraped 0 items (at 0 items/min)\n",
      "2020-09-14 20:44:18 [scrapy.extensions.logstats] INFO: Crawled 1363505 pages (at 306 pages/min), scraped 0 items (at 0 items/min)\n",
      "2020-09-14 20:45:18 [scrapy.extensions.logstats] INFO: Crawled 1363894 pages (at 389 pages/min), scraped 0 items (at 0 items/min)\n",
      "2020-09-14 20:46:18 [scrapy.extensions.logstats] INFO: Crawled 1364349 pages (at 455 pages/min), scraped 0 items (at 0 items/min)\n",
      "2020-09-14 20:47:18 [scrapy.extensions.logstats] INFO: Crawled 1364902 pages (at 553 pages/min), scraped 0 items (at 0 items/min)\n",
      "2020-09-14 20:48:19 [scrapy.extensions.logstats] INFO: Crawled 1365460 pages (at 558 pages/min), scraped 0 items (at 0 items/min)\n",
      "2020-09-14 20:49:18 [scrapy.extensions.logstats] INFO: Crawled 1365995 pages (at 535 pages/min), scraped 0 items (at 0 items/min)\n",
      "2020-09-14 20:50:18 [scrapy.extensions.logstats] INFO: Crawled 1366560 pages (at 565 pages/min), scraped 0 items (at 0 items/min)\n",
      "2020-09-14 20:51:18 [scrapy.extensions.logstats] INFO: Crawled 1367151 pages (at 591 pages/min), scraped 0 items (at 0 items/min)\n",
      "2020-09-14 20:52:18 [scrapy.extensions.logstats] INFO: Crawled 1367744 pages (at 593 pages/min), scraped 0 items (at 0 items/min)\n",
      "2020-09-14 20:53:18 [scrapy.extensions.logstats] INFO: Crawled 1368360 pages (at 616 pages/min), scraped 0 items (at 0 items/min)\n",
      "2020-09-14 20:54:18 [scrapy.extensions.logstats] INFO: Crawled 1368926 pages (at 566 pages/min), scraped 0 items (at 0 items/min)\n",
      "2020-09-14 20:55:18 [scrapy.extensions.logstats] INFO: Crawled 1369476 pages (at 550 pages/min), scraped 0 items (at 0 items/min)\n",
      "2020-09-14 20:56:39 [scrapy.extensions.logstats] INFO: Crawled 1369969 pages (at 493 pages/min), scraped 0 items (at 0 items/min)\n",
      "2020-09-14 20:57:18 [scrapy.extensions.logstats] INFO: Crawled 1370306 pages (at 337 pages/min), scraped 0 items (at 0 items/min)\n",
      "2020-09-14 20:58:18 [scrapy.extensions.logstats] INFO: Crawled 1370904 pages (at 598 pages/min), scraped 0 items (at 0 items/min)\n",
      "2020-09-14 20:59:18 [scrapy.extensions.logstats] INFO: Crawled 1371489 pages (at 585 pages/min), scraped 0 items (at 0 items/min)\n",
      "2020-09-14 21:00:18 [scrapy.extensions.logstats] INFO: Crawled 1371983 pages (at 494 pages/min), scraped 0 items (at 0 items/min)\n",
      "2020-09-14 21:01:18 [scrapy.extensions.logstats] INFO: Crawled 1372578 pages (at 595 pages/min), scraped 0 items (at 0 items/min)\n",
      "2020-09-14 21:02:18 [scrapy.extensions.logstats] INFO: Crawled 1373175 pages (at 597 pages/min), scraped 0 items (at 0 items/min)\n",
      "2020-09-14 21:03:18 [scrapy.extensions.logstats] INFO: Crawled 1373757 pages (at 582 pages/min), scraped 0 items (at 0 items/min)\n",
      "2020-09-14 21:04:18 [scrapy.extensions.logstats] INFO: Crawled 1374316 pages (at 559 pages/min), scraped 0 items (at 0 items/min)\n",
      "2020-09-14 21:05:18 [scrapy.extensions.logstats] INFO: Crawled 1374881 pages (at 565 pages/min), scraped 0 items (at 0 items/min)\n",
      "2020-09-14 21:06:18 [scrapy.extensions.logstats] INFO: Crawled 1375389 pages (at 508 pages/min), scraped 0 items (at 0 items/min)\n",
      "2020-09-14 21:07:18 [scrapy.extensions.logstats] INFO: Crawled 1375929 pages (at 540 pages/min), scraped 0 items (at 0 items/min)\n",
      "2020-09-14 21:08:18 [scrapy.extensions.logstats] INFO: Crawled 1376477 pages (at 548 pages/min), scraped 0 items (at 0 items/min)\n",
      "2020-09-14 21:09:18 [scrapy.extensions.logstats] INFO: Crawled 1377006 pages (at 529 pages/min), scraped 0 items (at 0 items/min)\n",
      "2020-09-14 21:10:18 [scrapy.extensions.logstats] INFO: Crawled 1377490 pages (at 484 pages/min), scraped 0 items (at 0 items/min)\n",
      "2020-09-14 21:11:18 [scrapy.extensions.logstats] INFO: Crawled 1377970 pages (at 480 pages/min), scraped 0 items (at 0 items/min)\n",
      "2020-09-14 21:12:18 [scrapy.extensions.logstats] INFO: Crawled 1378427 pages (at 457 pages/min), scraped 0 items (at 0 items/min)\n",
      "2020-09-14 21:13:18 [scrapy.extensions.logstats] INFO: Crawled 1378825 pages (at 398 pages/min), scraped 0 items (at 0 items/min)\n",
      "2020-09-14 21:14:19 [scrapy.extensions.logstats] INFO: Crawled 1379355 pages (at 530 pages/min), scraped 0 items (at 0 items/min)\n",
      "2020-09-14 21:15:18 [scrapy.extensions.logstats] INFO: Crawled 1379790 pages (at 435 pages/min), scraped 0 items (at 0 items/min)\n",
      "2020-09-14 21:16:18 [scrapy.extensions.logstats] INFO: Crawled 1380352 pages (at 562 pages/min), scraped 0 items (at 0 items/min)\n"
     ]
    },
    {
     "name": "stderr",
     "output_type": "stream",
     "text": [
      "2020-09-14 21:17:18 [scrapy.extensions.logstats] INFO: Crawled 1380842 pages (at 490 pages/min), scraped 0 items (at 0 items/min)\n",
      "2020-09-14 21:18:18 [scrapy.extensions.logstats] INFO: Crawled 1381353 pages (at 511 pages/min), scraped 0 items (at 0 items/min)\n",
      "2020-09-14 21:19:18 [scrapy.extensions.logstats] INFO: Crawled 1381696 pages (at 343 pages/min), scraped 0 items (at 0 items/min)\n",
      "2020-09-14 21:20:18 [scrapy.extensions.logstats] INFO: Crawled 1382170 pages (at 474 pages/min), scraped 0 items (at 0 items/min)\n",
      "2020-09-14 21:21:24 [scrapy.extensions.logstats] INFO: Crawled 1382519 pages (at 349 pages/min), scraped 0 items (at 0 items/min)\n",
      "2020-09-14 21:22:18 [scrapy.extensions.logstats] INFO: Crawled 1383017 pages (at 498 pages/min), scraped 0 items (at 0 items/min)\n",
      "2020-09-14 21:23:18 [scrapy.extensions.logstats] INFO: Crawled 1383605 pages (at 588 pages/min), scraped 0 items (at 0 items/min)\n",
      "2020-09-14 21:24:18 [scrapy.extensions.logstats] INFO: Crawled 1384209 pages (at 604 pages/min), scraped 0 items (at 0 items/min)\n",
      "2020-09-14 21:25:18 [scrapy.extensions.logstats] INFO: Crawled 1384795 pages (at 586 pages/min), scraped 0 items (at 0 items/min)\n",
      "2020-09-14 21:26:18 [scrapy.extensions.logstats] INFO: Crawled 1385373 pages (at 578 pages/min), scraped 0 items (at 0 items/min)\n",
      "2020-09-14 21:27:18 [scrapy.extensions.logstats] INFO: Crawled 1385818 pages (at 445 pages/min), scraped 0 items (at 0 items/min)\n",
      "2020-09-14 21:28:18 [scrapy.extensions.logstats] INFO: Crawled 1386354 pages (at 536 pages/min), scraped 0 items (at 0 items/min)\n",
      "2020-09-14 21:29:18 [scrapy.extensions.logstats] INFO: Crawled 1386895 pages (at 541 pages/min), scraped 0 items (at 0 items/min)\n",
      "2020-09-14 21:30:18 [scrapy.extensions.logstats] INFO: Crawled 1387441 pages (at 546 pages/min), scraped 0 items (at 0 items/min)\n",
      "2020-09-14 21:31:18 [scrapy.extensions.logstats] INFO: Crawled 1388009 pages (at 568 pages/min), scraped 0 items (at 0 items/min)\n",
      "2020-09-14 21:32:18 [scrapy.extensions.logstats] INFO: Crawled 1388582 pages (at 573 pages/min), scraped 0 items (at 0 items/min)\n",
      "2020-09-14 21:33:18 [scrapy.extensions.logstats] INFO: Crawled 1389151 pages (at 569 pages/min), scraped 0 items (at 0 items/min)\n",
      "2020-09-14 21:34:18 [scrapy.extensions.logstats] INFO: Crawled 1389660 pages (at 509 pages/min), scraped 0 items (at 0 items/min)\n",
      "2020-09-14 21:35:18 [scrapy.extensions.logstats] INFO: Crawled 1390082 pages (at 422 pages/min), scraped 0 items (at 0 items/min)\n",
      "2020-09-14 21:36:18 [scrapy.extensions.logstats] INFO: Crawled 1390635 pages (at 553 pages/min), scraped 0 items (at 0 items/min)\n",
      "2020-09-14 21:37:18 [scrapy.extensions.logstats] INFO: Crawled 1391225 pages (at 590 pages/min), scraped 0 items (at 0 items/min)\n",
      "2020-09-14 21:38:18 [scrapy.extensions.logstats] INFO: Crawled 1391798 pages (at 573 pages/min), scraped 0 items (at 0 items/min)\n",
      "2020-09-14 21:39:18 [scrapy.extensions.logstats] INFO: Crawled 1392253 pages (at 455 pages/min), scraped 0 items (at 0 items/min)\n",
      "2020-09-14 21:40:18 [scrapy.extensions.logstats] INFO: Crawled 1392756 pages (at 503 pages/min), scraped 0 items (at 0 items/min)\n",
      "2020-09-14 21:41:18 [scrapy.extensions.logstats] INFO: Crawled 1393279 pages (at 523 pages/min), scraped 0 items (at 0 items/min)\n",
      "2020-09-14 21:42:18 [scrapy.extensions.logstats] INFO: Crawled 1393698 pages (at 419 pages/min), scraped 0 items (at 0 items/min)\n",
      "2020-09-14 21:43:18 [scrapy.extensions.logstats] INFO: Crawled 1394237 pages (at 539 pages/min), scraped 0 items (at 0 items/min)\n",
      "2020-09-14 21:44:18 [scrapy.extensions.logstats] INFO: Crawled 1394804 pages (at 567 pages/min), scraped 0 items (at 0 items/min)\n",
      "2020-09-14 21:45:18 [scrapy.extensions.logstats] INFO: Crawled 1395438 pages (at 634 pages/min), scraped 0 items (at 0 items/min)\n",
      "2020-09-14 21:46:18 [scrapy.extensions.logstats] INFO: Crawled 1396028 pages (at 590 pages/min), scraped 0 items (at 0 items/min)\n",
      "2020-09-14 21:47:18 [scrapy.extensions.logstats] INFO: Crawled 1396354 pages (at 326 pages/min), scraped 0 items (at 0 items/min)\n",
      "2020-09-14 21:48:18 [scrapy.extensions.logstats] INFO: Crawled 1396831 pages (at 477 pages/min), scraped 0 items (at 0 items/min)\n",
      "2020-09-14 21:49:18 [scrapy.extensions.logstats] INFO: Crawled 1397480 pages (at 649 pages/min), scraped 0 items (at 0 items/min)\n",
      "2020-09-14 21:50:18 [scrapy.extensions.logstats] INFO: Crawled 1398114 pages (at 634 pages/min), scraped 0 items (at 0 items/min)\n",
      "2020-09-14 21:51:18 [scrapy.extensions.logstats] INFO: Crawled 1398732 pages (at 618 pages/min), scraped 0 items (at 0 items/min)\n",
      "2020-09-14 21:52:18 [scrapy.extensions.logstats] INFO: Crawled 1399195 pages (at 463 pages/min), scraped 0 items (at 0 items/min)\n",
      "2020-09-14 21:53:19 [scrapy.extensions.logstats] INFO: Crawled 1399505 pages (at 310 pages/min), scraped 0 items (at 0 items/min)\n",
      "2020-09-14 21:54:18 [scrapy.extensions.logstats] INFO: Crawled 1399870 pages (at 365 pages/min), scraped 0 items (at 0 items/min)\n",
      "2020-09-14 21:55:18 [scrapy.extensions.logstats] INFO: Crawled 1400316 pages (at 446 pages/min), scraped 0 items (at 0 items/min)\n",
      "2020-09-14 21:56:18 [scrapy.extensions.logstats] INFO: Crawled 1400876 pages (at 560 pages/min), scraped 0 items (at 0 items/min)\n",
      "2020-09-14 21:57:18 [scrapy.extensions.logstats] INFO: Crawled 1401402 pages (at 526 pages/min), scraped 0 items (at 0 items/min)\n",
      "2020-09-14 21:58:19 [scrapy.extensions.logstats] INFO: Crawled 1401841 pages (at 439 pages/min), scraped 0 items (at 0 items/min)\n",
      "2020-09-14 21:59:19 [scrapy.extensions.logstats] INFO: Crawled 1402281 pages (at 440 pages/min), scraped 0 items (at 0 items/min)\n",
      "2020-09-14 22:00:18 [scrapy.extensions.logstats] INFO: Crawled 1402589 pages (at 308 pages/min), scraped 0 items (at 0 items/min)\n",
      "2020-09-14 22:01:18 [scrapy.extensions.logstats] INFO: Crawled 1403057 pages (at 468 pages/min), scraped 0 items (at 0 items/min)\n",
      "2020-09-14 22:02:18 [scrapy.extensions.logstats] INFO: Crawled 1403548 pages (at 491 pages/min), scraped 0 items (at 0 items/min)\n",
      "2020-09-14 22:03:18 [scrapy.extensions.logstats] INFO: Crawled 1404079 pages (at 531 pages/min), scraped 0 items (at 0 items/min)\n",
      "2020-09-14 22:04:18 [scrapy.extensions.logstats] INFO: Crawled 1404591 pages (at 512 pages/min), scraped 0 items (at 0 items/min)\n",
      "2020-09-14 22:05:18 [scrapy.extensions.logstats] INFO: Crawled 1405093 pages (at 502 pages/min), scraped 0 items (at 0 items/min)\n",
      "2020-09-14 22:06:19 [scrapy.extensions.logstats] INFO: Crawled 1405459 pages (at 366 pages/min), scraped 0 items (at 0 items/min)\n",
      "2020-09-14 22:07:18 [scrapy.extensions.logstats] INFO: Crawled 1405747 pages (at 288 pages/min), scraped 0 items (at 0 items/min)\n",
      "2020-09-14 22:08:18 [scrapy.extensions.logstats] INFO: Crawled 1406206 pages (at 459 pages/min), scraped 0 items (at 0 items/min)\n",
      "2020-09-14 22:09:18 [scrapy.extensions.logstats] INFO: Crawled 1406569 pages (at 363 pages/min), scraped 0 items (at 0 items/min)\n",
      "2020-09-14 22:10:18 [scrapy.extensions.logstats] INFO: Crawled 1407012 pages (at 443 pages/min), scraped 0 items (at 0 items/min)\n",
      "2020-09-14 22:11:18 [scrapy.extensions.logstats] INFO: Crawled 1407497 pages (at 485 pages/min), scraped 0 items (at 0 items/min)\n",
      "2020-09-14 22:12:18 [scrapy.extensions.logstats] INFO: Crawled 1407885 pages (at 388 pages/min), scraped 0 items (at 0 items/min)\n",
      "2020-09-14 22:13:18 [scrapy.extensions.logstats] INFO: Crawled 1408421 pages (at 536 pages/min), scraped 0 items (at 0 items/min)\n",
      "2020-09-14 22:14:23 [scrapy.extensions.logstats] INFO: Crawled 1408759 pages (at 338 pages/min), scraped 0 items (at 0 items/min)\n",
      "2020-09-14 22:15:18 [scrapy.extensions.logstats] INFO: Crawled 1409295 pages (at 536 pages/min), scraped 0 items (at 0 items/min)\n",
      "2020-09-14 22:16:18 [scrapy.extensions.logstats] INFO: Crawled 1409862 pages (at 567 pages/min), scraped 0 items (at 0 items/min)\n",
      "2020-09-14 22:17:18 [scrapy.extensions.logstats] INFO: Crawled 1410432 pages (at 570 pages/min), scraped 0 items (at 0 items/min)\n",
      "2020-09-14 22:18:18 [scrapy.extensions.logstats] INFO: Crawled 1410991 pages (at 559 pages/min), scraped 0 items (at 0 items/min)\n",
      "2020-09-14 22:19:18 [scrapy.extensions.logstats] INFO: Crawled 1411455 pages (at 464 pages/min), scraped 0 items (at 0 items/min)\n",
      "2020-09-14 22:20:18 [scrapy.extensions.logstats] INFO: Crawled 1411947 pages (at 492 pages/min), scraped 0 items (at 0 items/min)\n"
     ]
    },
    {
     "name": "stderr",
     "output_type": "stream",
     "text": [
      "2020-09-14 22:21:18 [scrapy.extensions.logstats] INFO: Crawled 1412468 pages (at 521 pages/min), scraped 0 items (at 0 items/min)\n",
      "2020-09-14 22:22:18 [scrapy.extensions.logstats] INFO: Crawled 1412858 pages (at 390 pages/min), scraped 0 items (at 0 items/min)\n",
      "2020-09-14 22:23:18 [scrapy.extensions.logstats] INFO: Crawled 1413365 pages (at 507 pages/min), scraped 0 items (at 0 items/min)\n",
      "2020-09-14 22:24:18 [scrapy.extensions.logstats] INFO: Crawled 1413870 pages (at 505 pages/min), scraped 0 items (at 0 items/min)\n",
      "2020-09-14 22:25:18 [scrapy.extensions.logstats] INFO: Crawled 1414420 pages (at 550 pages/min), scraped 0 items (at 0 items/min)\n",
      "2020-09-14 22:26:18 [scrapy.extensions.logstats] INFO: Crawled 1415015 pages (at 595 pages/min), scraped 0 items (at 0 items/min)\n",
      "2020-09-14 22:27:18 [scrapy.extensions.logstats] INFO: Crawled 1415555 pages (at 540 pages/min), scraped 0 items (at 0 items/min)\n",
      "2020-09-14 22:28:19 [scrapy.extensions.logstats] INFO: Crawled 1416076 pages (at 521 pages/min), scraped 0 items (at 0 items/min)\n",
      "2020-09-14 22:29:18 [scrapy.extensions.logstats] INFO: Crawled 1416601 pages (at 525 pages/min), scraped 0 items (at 0 items/min)\n",
      "2020-09-14 22:30:18 [scrapy.extensions.logstats] INFO: Crawled 1417168 pages (at 567 pages/min), scraped 0 items (at 0 items/min)\n",
      "2020-09-14 22:31:18 [scrapy.extensions.logstats] INFO: Crawled 1417596 pages (at 428 pages/min), scraped 0 items (at 0 items/min)\n",
      "2020-09-14 22:32:18 [scrapy.extensions.logstats] INFO: Crawled 1418132 pages (at 536 pages/min), scraped 0 items (at 0 items/min)\n",
      "2020-09-14 22:33:18 [scrapy.extensions.logstats] INFO: Crawled 1418653 pages (at 521 pages/min), scraped 0 items (at 0 items/min)\n",
      "2020-09-14 22:34:18 [scrapy.extensions.logstats] INFO: Crawled 1419159 pages (at 506 pages/min), scraped 0 items (at 0 items/min)\n",
      "2020-09-14 22:35:18 [scrapy.extensions.logstats] INFO: Crawled 1419601 pages (at 442 pages/min), scraped 0 items (at 0 items/min)\n",
      "2020-09-14 22:36:18 [scrapy.extensions.logstats] INFO: Crawled 1420098 pages (at 497 pages/min), scraped 0 items (at 0 items/min)\n",
      "2020-09-14 22:37:18 [scrapy.extensions.logstats] INFO: Crawled 1420604 pages (at 506 pages/min), scraped 0 items (at 0 items/min)\n",
      "2020-09-14 22:38:18 [scrapy.extensions.logstats] INFO: Crawled 1421090 pages (at 486 pages/min), scraped 0 items (at 0 items/min)\n",
      "2020-09-14 22:39:18 [scrapy.extensions.logstats] INFO: Crawled 1421575 pages (at 485 pages/min), scraped 0 items (at 0 items/min)\n",
      "2020-09-14 22:40:18 [scrapy.extensions.logstats] INFO: Crawled 1422125 pages (at 550 pages/min), scraped 0 items (at 0 items/min)\n",
      "2020-09-14 22:41:18 [scrapy.extensions.logstats] INFO: Crawled 1422698 pages (at 573 pages/min), scraped 0 items (at 0 items/min)\n",
      "2020-09-14 22:42:18 [scrapy.extensions.logstats] INFO: Crawled 1422984 pages (at 286 pages/min), scraped 0 items (at 0 items/min)\n",
      "2020-09-14 22:43:18 [scrapy.extensions.logstats] INFO: Crawled 1423552 pages (at 568 pages/min), scraped 0 items (at 0 items/min)\n",
      "2020-09-14 22:44:18 [scrapy.extensions.logstats] INFO: Crawled 1423947 pages (at 395 pages/min), scraped 0 items (at 0 items/min)\n",
      "2020-09-14 22:45:18 [scrapy.extensions.logstats] INFO: Crawled 1425575 pages (at 1628 pages/min), scraped 0 items (at 0 items/min)\n",
      "2020-09-14 22:46:18 [scrapy.extensions.logstats] INFO: Crawled 1426261 pages (at 686 pages/min), scraped 0 items (at 0 items/min)\n",
      "2020-09-14 22:47:18 [scrapy.extensions.logstats] INFO: Crawled 1426956 pages (at 695 pages/min), scraped 0 items (at 0 items/min)\n",
      "2020-09-14 22:48:18 [scrapy.extensions.logstats] INFO: Crawled 1427674 pages (at 718 pages/min), scraped 0 items (at 0 items/min)\n",
      "2020-09-14 22:49:18 [scrapy.extensions.logstats] INFO: Crawled 1428346 pages (at 672 pages/min), scraped 0 items (at 0 items/min)\n",
      "2020-09-14 22:50:19 [scrapy.extensions.logstats] INFO: Crawled 1429042 pages (at 696 pages/min), scraped 0 items (at 0 items/min)\n",
      "2020-09-14 22:51:18 [scrapy.extensions.logstats] INFO: Crawled 1429492 pages (at 450 pages/min), scraped 0 items (at 0 items/min)\n",
      "2020-09-14 22:52:18 [scrapy.extensions.logstats] INFO: Crawled 1430098 pages (at 606 pages/min), scraped 0 items (at 0 items/min)\n",
      "2020-09-14 22:53:19 [scrapy.extensions.logstats] INFO: Crawled 1430660 pages (at 562 pages/min), scraped 0 items (at 0 items/min)\n",
      "2020-09-14 22:54:18 [scrapy.extensions.logstats] INFO: Crawled 1431112 pages (at 452 pages/min), scraped 0 items (at 0 items/min)\n",
      "2020-09-14 22:55:18 [scrapy.extensions.logstats] INFO: Crawled 1431615 pages (at 503 pages/min), scraped 0 items (at 0 items/min)\n",
      "2020-09-14 22:56:18 [scrapy.extensions.logstats] INFO: Crawled 1432270 pages (at 655 pages/min), scraped 0 items (at 0 items/min)\n",
      "2020-09-14 22:57:18 [scrapy.extensions.logstats] INFO: Crawled 1432763 pages (at 493 pages/min), scraped 0 items (at 0 items/min)\n",
      "2020-09-14 22:58:18 [scrapy.extensions.logstats] INFO: Crawled 1433331 pages (at 568 pages/min), scraped 0 items (at 0 items/min)\n",
      "2020-09-14 22:59:18 [scrapy.extensions.logstats] INFO: Crawled 1433919 pages (at 588 pages/min), scraped 0 items (at 0 items/min)\n",
      "2020-09-14 23:00:19 [scrapy.extensions.logstats] INFO: Crawled 1434524 pages (at 605 pages/min), scraped 0 items (at 0 items/min)\n",
      "2020-09-14 23:01:18 [scrapy.extensions.logstats] INFO: Crawled 1435111 pages (at 587 pages/min), scraped 0 items (at 0 items/min)\n",
      "2020-09-14 23:02:36 [scrapy.extensions.logstats] INFO: Crawled 1435586 pages (at 475 pages/min), scraped 0 items (at 0 items/min)\n",
      "2020-09-14 23:03:18 [scrapy.extensions.logstats] INFO: Crawled 1435862 pages (at 276 pages/min), scraped 0 items (at 0 items/min)\n",
      "2020-09-14 23:04:18 [scrapy.extensions.logstats] INFO: Crawled 1436360 pages (at 498 pages/min), scraped 0 items (at 0 items/min)\n",
      "2020-09-14 23:05:18 [scrapy.extensions.logstats] INFO: Crawled 1436879 pages (at 519 pages/min), scraped 0 items (at 0 items/min)\n",
      "2020-09-14 23:56:58 [scrapy.crawler] INFO: Received SIGINT, shutting down gracefully. Send again to force \n",
      "2020-09-14 23:57:06 [scrapy.crawler] INFO: Received SIGINT twice, forcing unclean shutdown\n"
     ]
    }
   ],
   "source": [
    "%%time\n",
    "if __name__ == \"__main__\":\n",
    "    process = CrawlerProcess()\n",
    "    process.crawl(TheFriendlyNeighbourhoodSpider)\n",
    "    process.start()\n",
    "    process.stop()"
   ]
  },
  {
   "cell_type": "code",
   "execution_count": null,
   "metadata": {},
   "outputs": [],
   "source": []
  }
 ],
 "metadata": {
  "kernelspec": {
   "display_name": "Python [conda env:root] *",
   "language": "python",
   "name": "conda-root-py"
  },
  "language_info": {
   "codemirror_mode": {
    "name": "ipython",
    "version": 3
   },
   "file_extension": ".py",
   "mimetype": "text/x-python",
   "name": "python",
   "nbconvert_exporter": "python",
   "pygments_lexer": "ipython3",
   "version": "3.7.1"
  }
 },
 "nbformat": 4,
 "nbformat_minor": 4
}
