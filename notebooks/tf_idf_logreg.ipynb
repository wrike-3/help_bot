{
 "cells": [
  {
   "cell_type": "code",
   "execution_count": 1,
   "metadata": {},
   "outputs": [],
   "source": [
    "import pandas as pd\n",
    "import nltk"
   ]
  },
  {
   "cell_type": "code",
   "execution_count": 2,
   "metadata": {},
   "outputs": [],
   "source": [
    "from joblib import dump, load"
   ]
  },
  {
   "cell_type": "markdown",
   "metadata": {},
   "source": [
    "## Data for validation"
   ]
  },
  {
   "cell_type": "code",
   "execution_count": 3,
   "metadata": {},
   "outputs": [],
   "source": [
    "data = pd.read_csv('all_dataset.csv')\n",
    "data = data.drop(columns='Unnamed: 0')"
   ]
  },
  {
   "cell_type": "code",
   "execution_count": 4,
   "metadata": {},
   "outputs": [
    {
     "data": {
      "text/html": [
       "<div>\n",
       "<style scoped>\n",
       "    .dataframe tbody tr th:only-of-type {\n",
       "        vertical-align: middle;\n",
       "    }\n",
       "\n",
       "    .dataframe tbody tr th {\n",
       "        vertical-align: top;\n",
       "    }\n",
       "\n",
       "    .dataframe thead th {\n",
       "        text-align: right;\n",
       "    }\n",
       "</style>\n",
       "<table border=\"1\" class=\"dataframe\">\n",
       "  <thead>\n",
       "    <tr style=\"text-align: right;\">\n",
       "      <th></th>\n",
       "      <th>answer_text</th>\n",
       "      <th>questions</th>\n",
       "      <th>url_1</th>\n",
       "      <th>url_2</th>\n",
       "      <th>url_3</th>\n",
       "      <th>url_4</th>\n",
       "      <th>section_1</th>\n",
       "      <th>section_2</th>\n",
       "      <th>section_3</th>\n",
       "      <th>section_4</th>\n",
       "      <th>section_text</th>\n",
       "      <th>keywords</th>\n",
       "      <th>text_len</th>\n",
       "    </tr>\n",
       "    <tr>\n",
       "      <th>source</th>\n",
       "      <th></th>\n",
       "      <th></th>\n",
       "      <th></th>\n",
       "      <th></th>\n",
       "      <th></th>\n",
       "      <th></th>\n",
       "      <th></th>\n",
       "      <th></th>\n",
       "      <th></th>\n",
       "      <th></th>\n",
       "      <th></th>\n",
       "      <th></th>\n",
       "      <th></th>\n",
       "    </tr>\n",
       "  </thead>\n",
       "  <tbody>\n",
       "    <tr>\n",
       "      <th>from_alex</th>\n",
       "      <td>0</td>\n",
       "      <td>0</td>\n",
       "      <td>1093</td>\n",
       "      <td>1093</td>\n",
       "      <td>1093</td>\n",
       "      <td>1093</td>\n",
       "      <td>1093</td>\n",
       "      <td>1093</td>\n",
       "      <td>1093</td>\n",
       "      <td>1090</td>\n",
       "      <td>1093</td>\n",
       "      <td>0</td>\n",
       "      <td>0</td>\n",
       "    </tr>\n",
       "    <tr>\n",
       "      <th>from_amir</th>\n",
       "      <td>0</td>\n",
       "      <td>0</td>\n",
       "      <td>1272</td>\n",
       "      <td>1272</td>\n",
       "      <td>1272</td>\n",
       "      <td>1272</td>\n",
       "      <td>1272</td>\n",
       "      <td>1272</td>\n",
       "      <td>1272</td>\n",
       "      <td>1269</td>\n",
       "      <td>1260</td>\n",
       "      <td>1261</td>\n",
       "      <td>1261</td>\n",
       "    </tr>\n",
       "    <tr>\n",
       "      <th>from_crawl_spider</th>\n",
       "      <td>168</td>\n",
       "      <td>168</td>\n",
       "      <td>168</td>\n",
       "      <td>168</td>\n",
       "      <td>168</td>\n",
       "      <td>27</td>\n",
       "      <td>168</td>\n",
       "      <td>168</td>\n",
       "      <td>168</td>\n",
       "      <td>27</td>\n",
       "      <td>0</td>\n",
       "      <td>0</td>\n",
       "      <td>0</td>\n",
       "    </tr>\n",
       "    <tr>\n",
       "      <th>from_dirty_questions</th>\n",
       "      <td>207</td>\n",
       "      <td>191</td>\n",
       "      <td>207</td>\n",
       "      <td>207</td>\n",
       "      <td>207</td>\n",
       "      <td>60</td>\n",
       "      <td>207</td>\n",
       "      <td>207</td>\n",
       "      <td>207</td>\n",
       "      <td>60</td>\n",
       "      <td>0</td>\n",
       "      <td>0</td>\n",
       "      <td>0</td>\n",
       "    </tr>\n",
       "    <tr>\n",
       "      <th>from_wrike_org</th>\n",
       "      <td>0</td>\n",
       "      <td>168</td>\n",
       "      <td>168</td>\n",
       "      <td>168</td>\n",
       "      <td>168</td>\n",
       "      <td>41</td>\n",
       "      <td>168</td>\n",
       "      <td>168</td>\n",
       "      <td>168</td>\n",
       "      <td>35</td>\n",
       "      <td>0</td>\n",
       "      <td>0</td>\n",
       "      <td>0</td>\n",
       "    </tr>\n",
       "  </tbody>\n",
       "</table>\n",
       "</div>"
      ],
      "text/plain": [
       "                      answer_text  questions  url_1  url_2  url_3  url_4  \\\n",
       "source                                                                     \n",
       "from_alex                       0          0   1093   1093   1093   1093   \n",
       "from_amir                       0          0   1272   1272   1272   1272   \n",
       "from_crawl_spider             168        168    168    168    168     27   \n",
       "from_dirty_questions          207        191    207    207    207     60   \n",
       "from_wrike_org                  0        168    168    168    168     41   \n",
       "\n",
       "                      section_1  section_2  section_3  section_4  \\\n",
       "source                                                             \n",
       "from_alex                  1093       1093       1093       1090   \n",
       "from_amir                  1272       1272       1272       1269   \n",
       "from_crawl_spider           168        168        168         27   \n",
       "from_dirty_questions        207        207        207         60   \n",
       "from_wrike_org              168        168        168         35   \n",
       "\n",
       "                      section_text  keywords  text_len  \n",
       "source                                                  \n",
       "from_alex                     1093         0         0  \n",
       "from_amir                     1260      1261      1261  \n",
       "from_crawl_spider                0         0         0  \n",
       "from_dirty_questions             0         0         0  \n",
       "from_wrike_org                   0         0         0  "
      ]
     },
     "execution_count": 4,
     "metadata": {},
     "output_type": "execute_result"
    }
   ],
   "source": [
    "data.groupby(by='source').count()"
   ]
  },
  {
   "cell_type": "code",
   "execution_count": 60,
   "metadata": {},
   "outputs": [],
   "source": [
    "validate_df = data[(data['source'] == 'from_dirty_questions') & (data['questions'] != '')]"
   ]
  },
  {
   "cell_type": "code",
   "execution_count": 61,
   "metadata": {},
   "outputs": [],
   "source": [
    "validate_df = validate_df[['questions', 'section_1', \n",
    "                           'section_2', 'section_3', 'section_4']].rename(columns={'questions':'text'})"
   ]
  },
  {
   "cell_type": "code",
   "execution_count": 6,
   "metadata": {},
   "outputs": [],
   "source": [
    "generated = pd.read_csv('dataset_text_with_questions.csv')\n",
    "generated = generated.drop(columns='Unnamed: 0')"
   ]
  },
  {
   "cell_type": "code",
   "execution_count": 7,
   "metadata": {},
   "outputs": [
    {
     "data": {
      "text/html": [
       "<div>\n",
       "<style scoped>\n",
       "    .dataframe tbody tr th:only-of-type {\n",
       "        vertical-align: middle;\n",
       "    }\n",
       "\n",
       "    .dataframe tbody tr th {\n",
       "        vertical-align: top;\n",
       "    }\n",
       "\n",
       "    .dataframe thead th {\n",
       "        text-align: right;\n",
       "    }\n",
       "</style>\n",
       "<table border=\"1\" class=\"dataframe\">\n",
       "  <thead>\n",
       "    <tr style=\"text-align: right;\">\n",
       "      <th></th>\n",
       "      <th>answer_text</th>\n",
       "      <th>questions</th>\n",
       "      <th>url_1</th>\n",
       "      <th>url_2</th>\n",
       "      <th>url_3</th>\n",
       "      <th>url_4</th>\n",
       "      <th>section_1</th>\n",
       "      <th>section_2</th>\n",
       "      <th>section_3</th>\n",
       "      <th>section_4</th>\n",
       "      <th>section_text</th>\n",
       "      <th>keywords</th>\n",
       "      <th>text_len</th>\n",
       "      <th>col_of_questions</th>\n",
       "    </tr>\n",
       "    <tr>\n",
       "      <th>source</th>\n",
       "      <th></th>\n",
       "      <th></th>\n",
       "      <th></th>\n",
       "      <th></th>\n",
       "      <th></th>\n",
       "      <th></th>\n",
       "      <th></th>\n",
       "      <th></th>\n",
       "      <th></th>\n",
       "      <th></th>\n",
       "      <th></th>\n",
       "      <th></th>\n",
       "      <th></th>\n",
       "      <th></th>\n",
       "    </tr>\n",
       "  </thead>\n",
       "  <tbody>\n",
       "    <tr>\n",
       "      <th>from_alex</th>\n",
       "      <td>0</td>\n",
       "      <td>2797</td>\n",
       "      <td>2797</td>\n",
       "      <td>2797</td>\n",
       "      <td>2797</td>\n",
       "      <td>2797</td>\n",
       "      <td>2797</td>\n",
       "      <td>2797</td>\n",
       "      <td>2797</td>\n",
       "      <td>2791</td>\n",
       "      <td>2797</td>\n",
       "      <td>0</td>\n",
       "      <td>0</td>\n",
       "      <td>2797</td>\n",
       "    </tr>\n",
       "    <tr>\n",
       "      <th>from_amir</th>\n",
       "      <td>0</td>\n",
       "      <td>3562</td>\n",
       "      <td>3562</td>\n",
       "      <td>3562</td>\n",
       "      <td>3562</td>\n",
       "      <td>3562</td>\n",
       "      <td>3562</td>\n",
       "      <td>3562</td>\n",
       "      <td>3562</td>\n",
       "      <td>3551</td>\n",
       "      <td>3562</td>\n",
       "      <td>3562</td>\n",
       "      <td>3562</td>\n",
       "      <td>3562</td>\n",
       "    </tr>\n",
       "  </tbody>\n",
       "</table>\n",
       "</div>"
      ],
      "text/plain": [
       "           answer_text  questions  url_1  url_2  url_3  url_4  section_1  \\\n",
       "source                                                                     \n",
       "from_alex            0       2797   2797   2797   2797   2797       2797   \n",
       "from_amir            0       3562   3562   3562   3562   3562       3562   \n",
       "\n",
       "           section_2  section_3  section_4  section_text  keywords  text_len  \\\n",
       "source                                                                         \n",
       "from_alex       2797       2797       2791          2797         0         0   \n",
       "from_amir       3562       3562       3551          3562      3562      3562   \n",
       "\n",
       "           col_of_questions  \n",
       "source                       \n",
       "from_alex              2797  \n",
       "from_amir              3562  "
      ]
     },
     "execution_count": 7,
     "metadata": {},
     "output_type": "execute_result"
    }
   ],
   "source": [
    "generated.groupby(by='source').count()"
   ]
  },
  {
   "cell_type": "code",
   "execution_count": 8,
   "metadata": {},
   "outputs": [],
   "source": [
    "from_alex = data[data['source'] == 'from_alex'][['section_text','section_1','section_2', \n",
    "                                                 'section_3', 'section_4']].rename(columns={'section_text':'text'})\n",
    "from_amir = data[data['source'] == 'from_amir'][['section_text','section_1','section_2', \n",
    "                                                 'section_3', 'section_4']].rename(columns={'section_text':'text'})\n",
    "from_crawl_spider = data[data['source'] == 'from_crawl_spider'][['questions','section_1','section_2', \n",
    "                                                 'section_3', 'section_4']].rename(columns={'questions':'text'})\n",
    "from_wrike_org = data[data['source'] == 'from_wrike_org'][['questions','section_1','section_2', \n",
    "                                                 'section_3', 'section_4']].rename(columns={'questions':'text'})\n",
    "generated_train = generated[['questions','section_1','section_2', \n",
    "                             'section_3', 'section_4']].rename(columns={'questions':'text'})"
   ]
  },
  {
   "cell_type": "code",
   "execution_count": 9,
   "metadata": {},
   "outputs": [],
   "source": [
    "train_data = pd.concat([from_alex, from_amir, from_crawl_spider, \n",
    "                        from_wrike_org, generated_train], \n",
    "                       ignore_index=True)"
   ]
  },
  {
   "cell_type": "code",
   "execution_count": 10,
   "metadata": {},
   "outputs": [
    {
     "data": {
      "text/html": [
       "<div>\n",
       "<style scoped>\n",
       "    .dataframe tbody tr th:only-of-type {\n",
       "        vertical-align: middle;\n",
       "    }\n",
       "\n",
       "    .dataframe tbody tr th {\n",
       "        vertical-align: top;\n",
       "    }\n",
       "\n",
       "    .dataframe thead th {\n",
       "        text-align: right;\n",
       "    }\n",
       "</style>\n",
       "<table border=\"1\" class=\"dataframe\">\n",
       "  <thead>\n",
       "    <tr style=\"text-align: right;\">\n",
       "      <th></th>\n",
       "      <th>text</th>\n",
       "      <th>section_1</th>\n",
       "      <th>section_2</th>\n",
       "      <th>section_3</th>\n",
       "      <th>section_4</th>\n",
       "    </tr>\n",
       "  </thead>\n",
       "  <tbody>\n",
       "    <tr>\n",
       "      <th>0</th>\n",
       "      <td>A personalized and up-to-date profile adds a p...</td>\n",
       "      <td>Team Member Guide (for account users)</td>\n",
       "      <td>Team Member Guide (for account users)</td>\n",
       "      <td>Step 2: Setting Up Your Workspace</td>\n",
       "      <td>Setting Up Your Profile</td>\n",
       "    </tr>\n",
       "    <tr>\n",
       "      <th>1</th>\n",
       "      <td>Update the account setting that will affect al...</td>\n",
       "      <td>Team Member Guide (for account users)</td>\n",
       "      <td>Team Member Guide (for account users)</td>\n",
       "      <td>Step 2: Setting Up Your Workspace</td>\n",
       "      <td>Basic Account Administration</td>\n",
       "    </tr>\n",
       "    <tr>\n",
       "      <th>2</th>\n",
       "      <td>Set up SpacesSpaces are hubs that store all wo...</td>\n",
       "      <td>Team Member Guide (for account users)</td>\n",
       "      <td>Team Member Guide (for account users)</td>\n",
       "      <td>Step 2: Setting Up Your Workspace</td>\n",
       "      <td>Organizing Work With Spaces and Folders</td>\n",
       "    </tr>\n",
       "    <tr>\n",
       "      <th>3</th>\n",
       "      <td>Whether you’re launching a new product, writin...</td>\n",
       "      <td>Team Member Guide (for account users)</td>\n",
       "      <td>Team Member Guide (for account users)</td>\n",
       "      <td>Step 2: Setting Up Your Workspace</td>\n",
       "      <td>Launching New Projects</td>\n",
       "    </tr>\n",
       "    <tr>\n",
       "      <th>4</th>\n",
       "      <td>You’ve spent some time choosing the best solut...</td>\n",
       "      <td>Team Member Guide (for account users)</td>\n",
       "      <td>Team Member Guide (for account users)</td>\n",
       "      <td>Step 3: Team Onboarding and Collaboration</td>\n",
       "      <td>Team Onboarding</td>\n",
       "    </tr>\n",
       "  </tbody>\n",
       "</table>\n",
       "</div>"
      ],
      "text/plain": [
       "                                                text  \\\n",
       "0  A personalized and up-to-date profile adds a p...   \n",
       "1  Update the account setting that will affect al...   \n",
       "2  Set up SpacesSpaces are hubs that store all wo...   \n",
       "3  Whether you’re launching a new product, writin...   \n",
       "4  You’ve spent some time choosing the best solut...   \n",
       "\n",
       "                               section_1  \\\n",
       "0  Team Member Guide (for account users)   \n",
       "1  Team Member Guide (for account users)   \n",
       "2  Team Member Guide (for account users)   \n",
       "3  Team Member Guide (for account users)   \n",
       "4  Team Member Guide (for account users)   \n",
       "\n",
       "                               section_2  \\\n",
       "0  Team Member Guide (for account users)   \n",
       "1  Team Member Guide (for account users)   \n",
       "2  Team Member Guide (for account users)   \n",
       "3  Team Member Guide (for account users)   \n",
       "4  Team Member Guide (for account users)   \n",
       "\n",
       "                                   section_3  \\\n",
       "0          Step 2: Setting Up Your Workspace   \n",
       "1          Step 2: Setting Up Your Workspace   \n",
       "2          Step 2: Setting Up Your Workspace   \n",
       "3          Step 2: Setting Up Your Workspace   \n",
       "4  Step 3: Team Onboarding and Collaboration   \n",
       "\n",
       "                                 section_4  \n",
       "0                  Setting Up Your Profile  \n",
       "1             Basic Account Administration  \n",
       "2  Organizing Work With Spaces and Folders  \n",
       "3                   Launching New Projects  \n",
       "4                          Team Onboarding  "
      ]
     },
     "execution_count": 10,
     "metadata": {},
     "output_type": "execute_result"
    }
   ],
   "source": [
    "train_data.head()"
   ]
  },
  {
   "cell_type": "code",
   "execution_count": 11,
   "metadata": {},
   "outputs": [
    {
     "data": {
      "text/plain": [
       "(9060, 5)"
      ]
     },
     "execution_count": 11,
     "metadata": {},
     "output_type": "execute_result"
    }
   ],
   "source": [
    "train_data.shape"
   ]
  },
  {
   "cell_type": "code",
   "execution_count": 12,
   "metadata": {},
   "outputs": [],
   "source": [
    "information_section_list = [\n",
    "       'Wrike and Bitbucket Sync: Overview',\n",
    "       'Wrike and GitLab Sync: Overview',\n",
    "       'Wrike and GitHub Sync: Overview',\n",
    "       'Wrike and JIRA Sync: Overview',\n",
    "       'Wrike and JIRA Sync: Setup Guide','Step 1: Learning the Fundamentals',\n",
    "       'Step 2: Setting Up Your Workspace',\n",
    "       'Step 3: Team Onboarding and Collaboration',\n",
    "       'Step 4: Monitoring Work Progress',\n",
    "       'Step 5: Tailoring Wrike to Your Team’s Needs',\n",
    "       'Step 6. Making Remote Work Productive', 'Step 1: Getting Settled',\n",
    "       'Step 2: Launching New Projects', 'Step 3: Collaborating in Wrike',\n",
    "       'Step 4: Work from Home Productively']"
   ]
  },
  {
   "cell_type": "code",
   "execution_count": 13,
   "metadata": {},
   "outputs": [],
   "source": [
    "train_data = train_data[~train_data['section_3'].isin(information_section_list)]\n",
    "train_data = train_data[train_data['section_4'] != 'Overview']\n",
    "train_data = train_data[train_data['text'] != '']"
   ]
  },
  {
   "cell_type": "code",
   "execution_count": 14,
   "metadata": {},
   "outputs": [
    {
     "data": {
      "text/plain": [
       "(7112, 5)"
      ]
     },
     "execution_count": 14,
     "metadata": {},
     "output_type": "execute_result"
    }
   ],
   "source": [
    "train_data.shape"
   ]
  },
  {
   "cell_type": "code",
   "execution_count": 15,
   "metadata": {},
   "outputs": [],
   "source": [
    "from nltk.tokenize import RegexpTokenizer\n",
    "\n",
    "tokenizer = RegexpTokenizer(r'\\w+')"
   ]
  },
  {
   "cell_type": "code",
   "execution_count": 16,
   "metadata": {},
   "outputs": [],
   "source": [
    "from nltk.corpus import stopwords\n",
    "\n",
    "english_stopwords = stopwords.words(\"english\")"
   ]
  },
  {
   "cell_type": "code",
   "execution_count": 17,
   "metadata": {},
   "outputs": [],
   "source": [
    "from nltk.stem import WordNetLemmatizer\n",
    "\n",
    "lemmatizer = WordNetLemmatizer()"
   ]
  },
  {
   "cell_type": "code",
   "execution_count": 18,
   "metadata": {},
   "outputs": [],
   "source": [
    "#Preprocess function\n",
    "def preprocess_text(text, tokenizer=RegexpTokenizer(r'\\w+'), \n",
    "                    lemmatizer=WordNetLemmatizer(), stopwords=stopwords.words(\"english\")):\n",
    "    tokens = tokenizer.tokenize(text)\n",
    "    tokens = [token.lower() for token in tokens]\n",
    "    tokens = [token for token in tokens if token not in english_stopwords\\\n",
    "              and token != \" \" ]\n",
    "    lemmas = [lemmatizer.lemmatize(token) for token in tokens]\n",
    "    clean_text = \" \".join(lemmas)\n",
    "    return clean_text"
   ]
  },
  {
   "cell_type": "code",
   "execution_count": 19,
   "metadata": {},
   "outputs": [],
   "source": [
    "train_data['text_cleaned'] = train_data['text'].apply(lambda x: preprocess_text(str(x)))"
   ]
  },
  {
   "cell_type": "code",
   "execution_count": 20,
   "metadata": {},
   "outputs": [],
   "source": [
    "from sklearn.feature_extraction.text import TfidfVectorizer\n",
    "\n",
    "vectorizer = TfidfVectorizer()\n",
    "TF_X = vectorizer.fit_transform(train_data['text_cleaned'])"
   ]
  },
  {
   "cell_type": "code",
   "execution_count": 67,
   "metadata": {},
   "outputs": [],
   "source": [
    "section_4_data = train_data.dropna(subset=['section_4'])\n",
    "section_4_data = section_4_data[section_4_data['section_4'] != 'Important Information']\n",
    "TF_X_4 = vectorizer.transform(section_4_data['text_cleaned'])"
   ]
  },
  {
   "cell_type": "markdown",
   "metadata": {},
   "source": [
    "## Dumping vectorizer"
   ]
  },
  {
   "cell_type": "code",
   "execution_count": 22,
   "metadata": {},
   "outputs": [
    {
     "data": {
      "text/plain": [
       "['vectorizer.joblib']"
      ]
     },
     "execution_count": 22,
     "metadata": {},
     "output_type": "execute_result"
    }
   ],
   "source": [
    "dump(vectorizer, 'vectorizer.joblib')"
   ]
  },
  {
   "cell_type": "code",
   "execution_count": 68,
   "metadata": {},
   "outputs": [],
   "source": [
    "from sklearn.preprocessing import OneHotEncoder\n",
    "\n",
    "section_1_encoder = OneHotEncoder(handle_unknown='ignore')\n",
    "section_2_encoder = OneHotEncoder(handle_unknown='ignore')\n",
    "section_3_encoder = OneHotEncoder(handle_unknown='ignore')\n",
    "section_4_encoder = OneHotEncoder(handle_unknown='ignore')\n",
    "\n",
    "section_1_ohe = section_1_encoder.fit_transform(train_data['section_1'].values.reshape(-1, 1))\n",
    "section_2_ohe = section_2_encoder.fit_transform(train_data['section_2'].values.reshape(-1, 1))\n",
    "section_3_ohe = section_3_encoder.fit_transform(train_data['section_3'].values.reshape(-1, 1))\n",
    "section_4_ohe = section_4_encoder.fit_transform(section_4_data['section_4'].values.reshape(-1, 1))"
   ]
  },
  {
   "cell_type": "markdown",
   "metadata": {},
   "source": [
    "## Dumping encoders"
   ]
  },
  {
   "cell_type": "code",
   "execution_count": 69,
   "metadata": {},
   "outputs": [
    {
     "data": {
      "text/plain": [
       "['section_4_encoder.joblib']"
      ]
     },
     "execution_count": 69,
     "metadata": {},
     "output_type": "execute_result"
    }
   ],
   "source": [
    "dump(section_1_encoder, 'section_1_encoder.joblib')\n",
    "dump(section_2_encoder, 'section_2_encoder.joblib')\n",
    "dump(section_3_encoder, 'section_3_encoder.joblib')\n",
    "dump(section_4_encoder, 'section_4_encoder.joblib')"
   ]
  },
  {
   "cell_type": "code",
   "execution_count": 70,
   "metadata": {},
   "outputs": [],
   "source": [
    "from sklearn.model_selection import KFold, train_test_split, StratifiedKFold\n",
    "from sklearn.linear_model import LogisticRegression, RidgeClassifier\n",
    "from sklearn.metrics import roc_auc_score\n",
    "from sklearn.multioutput import ClassifierChain\n",
    "from sklearn.multiclass import OneVsRestClassifier"
   ]
  },
  {
   "cell_type": "code",
   "execution_count": 26,
   "metadata": {},
   "outputs": [],
   "source": [
    "def predict_one_class(train_data, submit_data, y, model, n_splits=3, silent=False):\n",
    "    skf = StratifiedKFold(n_splits=n_splits, shuffle=True, random_state=42)\n",
    "    to_check = pd.DataFrame(train_data.copy())\n",
    "    to_check[f'predict_proba'] = 0\n",
    "    pred = np.zeros(len(submit_data))\n",
    "    y_arr = y\n",
    "    for i, (train_index, valid_index) in enumerate(skf.split(train_data, y_arr)):        \n",
    "        X_train = train_data[train_index]\n",
    "        X_valid = train_data[valid_index]\n",
    "        y_train = y_arr[train_index]\n",
    "        y_valid = y_arr[valid_index] \n",
    "        \n",
    "        model.fit(X_train, y_train)\n",
    "        \n",
    "        prediction_skf = model.predict_proba(submit_data)[:,1]\n",
    "        pred += prediction_skf / skf.n_splits  \n",
    "        \n",
    "        prediction = model.predict_proba(X_valid)[:,1]\n",
    "        to_check.loc[valid_index, f'predict_proba'] = prediction\n",
    "                \n",
    "    local_auc = roc_auc_score(y, to_check[f'predict_proba'])\n",
    "    \n",
    "    if not silent: \n",
    "        print(f\"ROC_AUC_local: {local_auc}\")\n",
    "    \n",
    "    return pred,to_check[f'predict_proba'],local_auc"
   ]
  },
  {
   "cell_type": "code",
   "execution_count": 27,
   "metadata": {},
   "outputs": [],
   "source": [
    "import numpy as np"
   ]
  },
  {
   "cell_type": "code",
   "execution_count": 94,
   "metadata": {},
   "outputs": [
    {
     "name": "stdout",
     "output_type": "stream",
     "text": [
      "Account Management\n",
      "ROC_AUC_local: 0.9289677334569808\n",
      "Apps\n",
      "ROC_AUC_local: 0.9534211693995682\n",
      "Integrations\n",
      "ROC_AUC_local: 0.9381296627540013\n",
      "Monitoring Panel\n",
      "ROC_AUC_local: 0.9408293472320739\n",
      "Security\n",
      "ROC_AUC_local: 0.9657055428547798\n",
      "Tasks, Folders, Projects and Spaces\n",
      "ROC_AUC_local: 0.9156215633882305\n",
      "Types of Accounts and Licenses\n",
      "ROC_AUC_local: 0.8967225110838859\n",
      "Work Views\n",
      "ROC_AUC_local: 0.9339772307851445\n",
      "\n",
      "TOTAL CV:0.9341718451193332\n"
     ]
    }
   ],
   "source": [
    "Y = section_1_ohe.toarray()\n",
    "X_train, X_test, Y_train, Y_test = train_test_split(TF_X.toarray(), Y, test_size=0.2)\n",
    "\n",
    "cv_scores = []\n",
    "probas = []\n",
    "cross_vals = []\n",
    "\n",
    "columns = Y.shape[1]\n",
    "for i in range(columns):\n",
    "    print(section_1_encoder.categories_[0][i])\n",
    "    y_train = Y_train[:, i]\n",
    "    clf = LogisticRegression()\n",
    "    proba, cross_val, cv_score = predict_one_class(X_train, X_test, y_train, clf, n_splits=3)  \n",
    "    probas.append(proba)\n",
    "    cross_vals.append(cross_val)\n",
    "    cv_scores.append(cv_score)\n",
    "print ()\n",
    "print(f'TOTAL CV:{np.mean(cv_scores)}')"
   ]
  },
  {
   "cell_type": "code",
   "execution_count": 95,
   "metadata": {},
   "outputs": [],
   "source": [
    "import warnings\n",
    "warnings.filterwarnings(\"ignore\")"
   ]
  },
  {
   "cell_type": "code",
   "execution_count": 96,
   "metadata": {},
   "outputs": [
    {
     "name": "stdout",
     "output_type": "stream",
     "text": [
      "Accounts\n",
      "ROC_AUC_local: 0.8836409479048439\n",
      "Add-ins and Extensions\n",
      "ROC_AUC_local: 0.9539016038925934\n",
      "Advanced\n",
      "ROC_AUC_local: 0.9359112681521692\n",
      "All the Other Views\n",
      "ROC_AUC_local: 0.940168140626706\n",
      "Automated Monitoring\n",
      "ROC_AUC_local: 0.9858601866525797\n",
      "Billing\n",
      "ROC_AUC_local: 0.9452006659297771\n",
      "Calendars\n",
      "ROC_AUC_local: 0.9488030813407698\n",
      "Communication\n",
      "ROC_AUC_local: 0.9387662701463173\n",
      "Desktop\n",
      "ROC_AUC_local: 0.9415550615741677\n",
      "Email\n",
      "ROC_AUC_local: 0.9475111005948662\n",
      "Everything Else\n",
      "ROC_AUC_local: 0.9391929561872296\n",
      "Folders and Projects\n",
      "ROC_AUC_local: 0.9303118703997342\n",
      "Gantt Chart\n",
      "ROC_AUC_local: 0.9521430436363749\n",
      "General Account Management\n",
      "ROC_AUC_local: 0.9318799222559482\n",
      "Import and Export\n",
      "ROC_AUC_local: 0.9484758915878848\n",
      "Licenses\n",
      "ROC_AUC_local: 0.9120445960765201\n",
      "Mobile\n",
      "ROC_AUC_local: 0.9536533055096658\n",
      "More Monitoring Panel Views\n",
      "ROC_AUC_local: 0.9582557032910899\n",
      "More Security Features\n",
      "ROC_AUC_local: 0.9654067262164272\n",
      "Organization\n",
      "ROC_AUC_local: 0.9241027314425616\n",
      "Personal User License\n",
      "ROC_AUC_local: 0.926078555341423\n",
      "Proofing and Approvals\n",
      "ROC_AUC_local: 0.965154975718356\n",
      "Reporting\n",
      "ROC_AUC_local: 0.9582771260997068\n",
      "Single Sign-On\n",
      "ROC_AUC_local: 0.9680566156211262\n",
      "Spaces\n",
      "ROC_AUC_local: 0.9730149182409973\n",
      "Table View\n",
      "ROC_AUC_local: 0.9174030250398031\n",
      "Tasks\n",
      "ROC_AUC_local: 0.9326902521640948\n",
      "Timelog View\n",
      "ROC_AUC_local: 0.9801107669042257\n",
      "Troubleshooting\n",
      "ROC_AUC_local: 0.9640940920669772\n",
      "Wrike Analyze\n",
      "ROC_AUC_local: 0.9725468825595827\n",
      "Wrike Integrate\n",
      "ROC_AUC_local: 0.9647063372812444\n",
      "Wrike Resource\n",
      "ROC_AUC_local: 0.9474241030358785\n",
      "Wrike, GitHub, and JIRA Syncs\n",
      "ROC_AUC_local: 0.9936002860207365\n",
      "\n",
      "TOTAL CV:0.9484831215003752\n"
     ]
    }
   ],
   "source": [
    "Y = section_2_ohe.toarray()\n",
    "\n",
    "X_train, X_test, Y_train, Y_test = train_test_split(TF_X.toarray(), Y, test_size=0.2)\n",
    "\n",
    "cv_scores = []\n",
    "probas = []\n",
    "cross_vals = []\n",
    "\n",
    "columns = Y.shape[1]\n",
    "for i in range(columns):\n",
    "    print(section_2_encoder.categories_[0][i])\n",
    "    y_train = Y_train[:, i]\n",
    "    clf = LogisticRegression()\n",
    "    try:\n",
    "        proba, cross_val, cv_score = predict_one_class(X_train, X_test, y_train, clf, n_splits=3)\n",
    "    except:\n",
    "        pass\n",
    "    probas.append(proba)\n",
    "    cross_vals.append(cross_val)\n",
    "    cv_scores.append(cv_score)\n",
    "print ()\n",
    "print(f'TOTAL CV:{np.mean(cv_scores)}')"
   ]
  },
  {
   "cell_type": "code",
   "execution_count": 98,
   "metadata": {},
   "outputs": [],
   "source": [
    "from tqdm import tqdm"
   ]
  },
  {
   "cell_type": "code",
   "execution_count": null,
   "metadata": {},
   "outputs": [],
   "source": [
    "Y = section_3_ohe.toarray()\n",
    "\n",
    "X_train, X_test, Y_train, Y_test = train_test_split(TF_X.toarray(), Y, test_size=0.2)\n",
    "\n",
    "cv_scores = []\n",
    "probas = []\n",
    "cross_vals = []\n",
    "\n",
    "columns = Y.shape[1]\n",
    "for i in tqdm(range(columns)):\n",
    "    y_train = Y_train[:, i]\n",
    "    clf = LogisticRegression()\n",
    "    try:\n",
    "        proba, cross_val, cv_score = predict_one_class(X_train, X_test, y_train, clf, n_splits=3, silent=True)  \n",
    "    except ValueError: ## ошибка недостаточного кол-ва примеров\n",
    "        pass\n",
    "    probas.append(proba)\n",
    "    cross_vals.append(cross_val)\n",
    "    cv_scores.append(cv_score)\n",
    "print ()\n",
    "print(f'TOTAL CV:{np.mean(cv_scores)}')"
   ]
  },
  {
   "cell_type": "code",
   "execution_count": null,
   "metadata": {},
   "outputs": [],
   "source": [
    "Y = section_4_ohe.toarray()\n",
    "\n",
    "X_train, X_test, Y_train, Y_test = train_test_split(TF_X_4.toarray(), Y, test_size=0.2)\n",
    "\n",
    "cv_scores = []\n",
    "probas = []\n",
    "cross_vals = []\n",
    "\n",
    "columns = Y.shape[1]\n",
    "for i in tqdm(range(columns)):\n",
    "    y_train = Y_train[:, i]\n",
    "    clf = LogisticRegression()\n",
    "    try:\n",
    "        proba, cross_val, cv_score = predict_one_class(X_train, X_test, y_train, clf, n_splits=3, silent=True)  \n",
    "    except ValueError: ## ошибка недостаточного кол-ва примеров\n",
    "        pass\n",
    "    probas.append(proba)\n",
    "    cross_vals.append(cross_val)\n",
    "    cv_scores.append(cv_score)\n",
    "print ()\n",
    "print(f'TOTAL CV:{np.mean(cv_scores)}')"
   ]
  },
  {
   "cell_type": "code",
   "execution_count": 28,
   "metadata": {},
   "outputs": [
    {
     "data": {
      "text/plain": [
       "OneVsRestClassifier(estimator=LogisticRegression(C=1.0, class_weight=None,\n",
       "                                                 dual=False, fit_intercept=True,\n",
       "                                                 intercept_scaling=1,\n",
       "                                                 l1_ratio=None, max_iter=100,\n",
       "                                                 multi_class='auto',\n",
       "                                                 n_jobs=None, penalty='l2',\n",
       "                                                 random_state=None,\n",
       "                                                 solver='lbfgs', tol=0.0001,\n",
       "                                                 verbose=0, warm_start=False),\n",
       "                    n_jobs=None)"
      ]
     },
     "execution_count": 28,
     "metadata": {},
     "output_type": "execute_result"
    }
   ],
   "source": [
    "Y = section_1_ohe.toarray()\n",
    "base_lr = LogisticRegression()\n",
    "section_1_ovr = OneVsRestClassifier(base_lr)\n",
    "section_1_ovr.fit(TF_X.toarray(), Y)"
   ]
  },
  {
   "cell_type": "code",
   "execution_count": 29,
   "metadata": {},
   "outputs": [
    {
     "data": {
      "text/plain": [
       "OneVsRestClassifier(estimator=LogisticRegression(C=1.0, class_weight=None,\n",
       "                                                 dual=False, fit_intercept=True,\n",
       "                                                 intercept_scaling=1,\n",
       "                                                 l1_ratio=None, max_iter=100,\n",
       "                                                 multi_class='auto',\n",
       "                                                 n_jobs=None, penalty='l2',\n",
       "                                                 random_state=None,\n",
       "                                                 solver='lbfgs', tol=0.0001,\n",
       "                                                 verbose=0, warm_start=False),\n",
       "                    n_jobs=None)"
      ]
     },
     "execution_count": 29,
     "metadata": {},
     "output_type": "execute_result"
    }
   ],
   "source": [
    "Y = section_2_ohe.toarray()\n",
    "base_lr = LogisticRegression()\n",
    "section_2_ovr = OneVsRestClassifier(base_lr)\n",
    "section_2_ovr.fit(TF_X.toarray(), Y)"
   ]
  },
  {
   "cell_type": "code",
   "execution_count": 30,
   "metadata": {},
   "outputs": [
    {
     "data": {
      "text/plain": [
       "OneVsRestClassifier(estimator=LogisticRegression(C=1.0, class_weight=None,\n",
       "                                                 dual=False, fit_intercept=True,\n",
       "                                                 intercept_scaling=1,\n",
       "                                                 l1_ratio=None, max_iter=100,\n",
       "                                                 multi_class='auto',\n",
       "                                                 n_jobs=None, penalty='l2',\n",
       "                                                 random_state=None,\n",
       "                                                 solver='lbfgs', tol=0.0001,\n",
       "                                                 verbose=0, warm_start=False),\n",
       "                    n_jobs=None)"
      ]
     },
     "execution_count": 30,
     "metadata": {},
     "output_type": "execute_result"
    }
   ],
   "source": [
    "Y = section_3_ohe.toarray()\n",
    "base_lr = LogisticRegression()\n",
    "section_3_ovr = OneVsRestClassifier(base_lr)\n",
    "section_3_ovr.fit(TF_X.toarray(), Y)"
   ]
  },
  {
   "cell_type": "code",
   "execution_count": 71,
   "metadata": {},
   "outputs": [
    {
     "data": {
      "text/plain": [
       "OneVsRestClassifier(estimator=LogisticRegression(C=1.0, class_weight=None,\n",
       "                                                 dual=False, fit_intercept=True,\n",
       "                                                 intercept_scaling=1,\n",
       "                                                 l1_ratio=None, max_iter=100,\n",
       "                                                 multi_class='auto',\n",
       "                                                 n_jobs=None, penalty='l2',\n",
       "                                                 random_state=None,\n",
       "                                                 solver='lbfgs', tol=0.0001,\n",
       "                                                 verbose=0, warm_start=False),\n",
       "                    n_jobs=None)"
      ]
     },
     "execution_count": 71,
     "metadata": {},
     "output_type": "execute_result"
    }
   ],
   "source": [
    "Y = section_4_ohe.toarray()\n",
    "base_lr = LogisticRegression()\n",
    "section_4_ovr = OneVsRestClassifier(base_lr)\n",
    "section_4_ovr.fit(TF_X_4.toarray(), Y)"
   ]
  },
  {
   "cell_type": "markdown",
   "metadata": {},
   "source": [
    "## Dumping models"
   ]
  },
  {
   "cell_type": "code",
   "execution_count": 72,
   "metadata": {},
   "outputs": [
    {
     "data": {
      "text/plain": [
       "['section_4_ovr.joblib']"
      ]
     },
     "execution_count": 72,
     "metadata": {},
     "output_type": "execute_result"
    }
   ],
   "source": [
    "dump(section_1_ovr, 'section_1_ovr.joblib')\n",
    "dump(section_2_ovr, 'section_2_ovr.joblib')\n",
    "dump(section_3_ovr, 'section_3_ovr.joblib')\n",
    "dump(section_4_ovr, 'section_4_ovr.joblib')"
   ]
  },
  {
   "cell_type": "code",
   "execution_count": 73,
   "metadata": {},
   "outputs": [],
   "source": [
    "def predict_question_classes(text, vectorizer, encoders=[], models=[]):\n",
    "    probable_classes = []\n",
    "    clean_text = preprocess_text(text)\n",
    "    X = [clean_text]\n",
    "    vectorized = vectorizer.transform(X)\n",
    "    for encoder, model in zip(encoders, models):\n",
    "        prediction = model.predict_proba(vectorized)[0]\n",
    "        categories = encoder.categories_[0]\n",
    "        answer = sorted(zip(prediction, categories), reverse=True)[0]\n",
    "        probable_classes.append(f'{answer[1]}: {answer[0]}')\n",
    "    return probable_classes"
   ]
  },
  {
   "cell_type": "code",
   "execution_count": 76,
   "metadata": {},
   "outputs": [
    {
     "data": {
      "text/plain": [
       "['Integrations: 0.57606976533149',\n",
       " 'Import and Export: 0.5814191057955604',\n",
       " 'Import Data From Excel: 0.050189920236327706',\n",
       " 'Export an Analytics Board: 0.015005520376626962']"
      ]
     },
     "execution_count": 76,
     "metadata": {},
     "output_type": "execute_result"
    }
   ],
   "source": [
    "predict_question_classes('how to export a excel', vectorizer=vectorizer, \n",
    "                         encoders=[section_1_encoder, section_2_encoder, section_3_encoder, section_4_encoder], \n",
    "                         models=[section_1_ovr, section_2_ovr, section_3_ovr, section_4_ovr])"
   ]
  },
  {
   "cell_type": "code",
   "execution_count": 77,
   "metadata": {},
   "outputs": [],
   "source": [
    "def get_validate_results(df, vectorizer, encoders=[], models=[], sections=[]):\n",
    "    data = df.reset_index(drop=True)\n",
    "    data['clean_text'] = data['text'].apply(lambda x: preprocess_text(str(x)))\n",
    "    X = vectorizer.transform(data['clean_text'])\n",
    "    for i, row in enumerate(X):\n",
    "        for encoder, model, section in zip(encoders, models, sections):\n",
    "            prediction = model.predict_proba(row)[0]\n",
    "            categories = encoder.categories_[0]\n",
    "            answer = sorted(zip(prediction, categories), reverse=True)[0]\n",
    "            data.at[i, section] = answer[1]\n",
    "    return data"
   ]
  },
  {
   "cell_type": "code",
   "execution_count": 78,
   "metadata": {},
   "outputs": [],
   "source": [
    "answer_df = get_validate_results(validate_df, vectorizer=vectorizer, \n",
    "                         encoders=[section_1_encoder, section_2_encoder, section_3_encoder, section_4_encoder], \n",
    "                         models=[section_1_ovr, section_2_ovr, section_3_ovr, section_4_ovr],\n",
    "                         sections=['section_1_pred', 'section_2_pred', 'section_3_pred', 'section_4_pred'])"
   ]
  },
  {
   "cell_type": "code",
   "execution_count": 79,
   "metadata": {},
   "outputs": [
    {
     "data": {
      "text/html": [
       "<div>\n",
       "<style scoped>\n",
       "    .dataframe tbody tr th:only-of-type {\n",
       "        vertical-align: middle;\n",
       "    }\n",
       "\n",
       "    .dataframe tbody tr th {\n",
       "        vertical-align: top;\n",
       "    }\n",
       "\n",
       "    .dataframe thead th {\n",
       "        text-align: right;\n",
       "    }\n",
       "</style>\n",
       "<table border=\"1\" class=\"dataframe\">\n",
       "  <thead>\n",
       "    <tr style=\"text-align: right;\">\n",
       "      <th></th>\n",
       "      <th>text</th>\n",
       "      <th>section_1</th>\n",
       "      <th>section_2</th>\n",
       "      <th>section_3</th>\n",
       "      <th>section_4</th>\n",
       "      <th>clean_text</th>\n",
       "      <th>section_1_pred</th>\n",
       "      <th>section_2_pred</th>\n",
       "      <th>section_3_pred</th>\n",
       "      <th>section_4_pred</th>\n",
       "    </tr>\n",
       "  </thead>\n",
       "  <tbody>\n",
       "    <tr>\n",
       "      <th>0</th>\n",
       "      <td>user profile colourhi little disappointed ever...</td>\n",
       "      <td>Account Management</td>\n",
       "      <td>General Account Management</td>\n",
       "      <td>User Groups</td>\n",
       "      <td>Edit a Group's Avatar</td>\n",
       "      <td>user profile colourhi little disappointed ever...</td>\n",
       "      <td>Tasks, Folders, Projects and Spaces</td>\n",
       "      <td>General Account Management</td>\n",
       "      <td>Microsoft Teams</td>\n",
       "      <td>More Info</td>\n",
       "    </tr>\n",
       "    <tr>\n",
       "      <th>1</th>\n",
       "      <td>deferred task set become active specified date...</td>\n",
       "      <td>Tasks, Folders, Projects and Spaces</td>\n",
       "      <td>Advanced</td>\n",
       "      <td>Custom Statuses and Workflows</td>\n",
       "      <td>NaN</td>\n",
       "      <td>deferred task set become active specified date...</td>\n",
       "      <td>Tasks, Folders, Projects and Spaces</td>\n",
       "      <td>Tasks</td>\n",
       "      <td>Custom Statuses and Workflows</td>\n",
       "      <td>Create a Task</td>\n",
       "    </tr>\n",
       "    <tr>\n",
       "      <th>2</th>\n",
       "      <td>timeline change colour barcolour code timeline...</td>\n",
       "      <td>Tasks, Folders, Projects and Spaces</td>\n",
       "      <td>Communication</td>\n",
       "      <td>Permalink</td>\n",
       "      <td>NaN</td>\n",
       "      <td>timeline change colour barcolour code timeline...</td>\n",
       "      <td>Tasks, Folders, Projects and Spaces</td>\n",
       "      <td>Communication</td>\n",
       "      <td>Gantt Chart Overview</td>\n",
       "      <td>More Info</td>\n",
       "    </tr>\n",
       "    <tr>\n",
       "      <th>3</th>\n",
       "      <td>comment image uploads getting buried task subt...</td>\n",
       "      <td>Tasks, Folders, Projects and Spaces</td>\n",
       "      <td>Proofing and Approvals</td>\n",
       "      <td>Proofing</td>\n",
       "      <td>NaN</td>\n",
       "      <td>comment image uploads getting buried task subt...</td>\n",
       "      <td>Tasks, Folders, Projects and Spaces</td>\n",
       "      <td>Communication</td>\n",
       "      <td>Comments</td>\n",
       "      <td>More Info</td>\n",
       "    </tr>\n",
       "    <tr>\n",
       "      <th>4</th>\n",
       "      <td>set task start day another tasktrying set temp...</td>\n",
       "      <td>Work Views</td>\n",
       "      <td>Gantt Chart</td>\n",
       "      <td>Dependencies on the Gantt Chart</td>\n",
       "      <td>NaN</td>\n",
       "      <td>set task start day another tasktrying set temp...</td>\n",
       "      <td>Tasks, Folders, Projects and Spaces</td>\n",
       "      <td>Tasks</td>\n",
       "      <td>Tasks</td>\n",
       "      <td>Create a Task</td>\n",
       "    </tr>\n",
       "  </tbody>\n",
       "</table>\n",
       "</div>"
      ],
      "text/plain": [
       "                                                text  \\\n",
       "0  user profile colourhi little disappointed ever...   \n",
       "1  deferred task set become active specified date...   \n",
       "2  timeline change colour barcolour code timeline...   \n",
       "3  comment image uploads getting buried task subt...   \n",
       "4  set task start day another tasktrying set temp...   \n",
       "\n",
       "                             section_1                   section_2  \\\n",
       "0                   Account Management  General Account Management   \n",
       "1  Tasks, Folders, Projects and Spaces                    Advanced   \n",
       "2  Tasks, Folders, Projects and Spaces               Communication   \n",
       "3  Tasks, Folders, Projects and Spaces      Proofing and Approvals   \n",
       "4                           Work Views                 Gantt Chart   \n",
       "\n",
       "                          section_3              section_4  \\\n",
       "0                       User Groups  Edit a Group's Avatar   \n",
       "1     Custom Statuses and Workflows                    NaN   \n",
       "2                         Permalink                    NaN   \n",
       "3                          Proofing                    NaN   \n",
       "4  Dependencies on the Gantt Chart                     NaN   \n",
       "\n",
       "                                          clean_text  \\\n",
       "0  user profile colourhi little disappointed ever...   \n",
       "1  deferred task set become active specified date...   \n",
       "2  timeline change colour barcolour code timeline...   \n",
       "3  comment image uploads getting buried task subt...   \n",
       "4  set task start day another tasktrying set temp...   \n",
       "\n",
       "                        section_1_pred              section_2_pred  \\\n",
       "0  Tasks, Folders, Projects and Spaces  General Account Management   \n",
       "1  Tasks, Folders, Projects and Spaces                       Tasks   \n",
       "2  Tasks, Folders, Projects and Spaces               Communication   \n",
       "3  Tasks, Folders, Projects and Spaces               Communication   \n",
       "4  Tasks, Folders, Projects and Spaces                       Tasks   \n",
       "\n",
       "                  section_3_pred section_4_pred  \n",
       "0                Microsoft Teams      More Info  \n",
       "1  Custom Statuses and Workflows  Create a Task  \n",
       "2          Gantt Chart Overview       More Info  \n",
       "3                       Comments      More Info  \n",
       "4                          Tasks  Create a Task  "
      ]
     },
     "execution_count": 79,
     "metadata": {},
     "output_type": "execute_result"
    }
   ],
   "source": [
    "answer_df.head()"
   ]
  },
  {
   "cell_type": "code",
   "execution_count": 80,
   "metadata": {},
   "outputs": [],
   "source": [
    "from sklearn.metrics import classification_report\n",
    "from sklearn import preprocessing"
   ]
  },
  {
   "cell_type": "code",
   "execution_count": 93,
   "metadata": {},
   "outputs": [
    {
     "name": "stdout",
     "output_type": "stream",
     "text": [
      "                                     precision    recall  f1-score   support\n",
      "\n",
      "                 Account Management       0.60      0.40      0.48        30\n",
      "                               Apps       1.00      0.60      0.75         5\n",
      "                       Integrations       0.71      0.56      0.63        18\n",
      "                   Monitoring Panel       0.64      0.50      0.56        32\n",
      "                           Security       0.50      1.00      0.67         2\n",
      "Tasks, Folders, Projects and Spaces       0.57      0.85      0.68        89\n",
      "     Types of Accounts and Licenses       0.00      0.00      0.00        16\n",
      "                         Work Views       0.57      0.27      0.36        15\n",
      "\n",
      "                           accuracy                           0.59       207\n",
      "                          macro avg       0.57      0.52      0.52       207\n",
      "                       weighted avg       0.56      0.59      0.55       207\n",
      "\n",
      "                               precision    recall  f1-score   support\n",
      "\n",
      "                     Accounts       0.06      0.33      0.10         3\n",
      "       Add-ins and Extensions       0.00      0.00      0.00         0\n",
      "                     Advanced       0.34      0.55      0.42        31\n",
      "          All the Other Views       0.50      0.25      0.33         4\n",
      "                      Billing       0.00      0.00      0.00         1\n",
      "                    Calendars       0.75      1.00      0.86         3\n",
      "                Communication       0.70      0.47      0.56        15\n",
      "                      Desktop       0.75      0.60      0.67         5\n",
      "                        Email       0.67      0.33      0.44         6\n",
      "              Everything Else       0.67      0.60      0.63        10\n",
      "         Folders and Projects       0.33      0.17      0.22         6\n",
      "                  Gantt Chart       0.50      0.38      0.43         8\n",
      "   General Account Management       0.45      0.62      0.53        16\n",
      "            Import and Export       0.50      1.00      0.67         1\n",
      "                     Licenses       0.00      0.00      0.00        13\n",
      "  More Monitoring Panel Views       1.00      0.11      0.20         9\n",
      "       More Security Features       0.50      1.00      0.67         2\n",
      "                 Organization       0.00      0.00      0.00        10\n",
      "        Personal User License       1.00      0.23      0.38        13\n",
      "       Proofing and Approvals       0.40      0.67      0.50         3\n",
      "                    Reporting       0.73      0.47      0.57        17\n",
      "               Single Sign-On       0.00      0.00      0.00         0\n",
      "                       Spaces       0.00      0.00      0.00         2\n",
      "                        Tasks       0.52      0.73      0.60        22\n",
      "                 Timelog View       0.00      0.00      0.00         3\n",
      "              Troubleshooting       0.00      0.00      0.00         0\n",
      "                Wrike Analyze       0.00      0.00      0.00         1\n",
      "               Wrike Resource       0.09      0.50      0.15         2\n",
      "Wrike, GitHub, and JIRA Syncs       0.00      0.00      0.00         1\n",
      "\n",
      "                     accuracy                           0.43       207\n",
      "                    macro avg       0.36      0.34      0.31       207\n",
      "                 weighted avg       0.49      0.43      0.41       207\n",
      "\n",
      "                                                              precision    recall  f1-score   support\n",
      "\n",
      "                                                   @mentions       1.00      1.00      1.00         1\n",
      "                                              Account Backup       1.00      1.00      1.00         2\n",
      "                                        Account Owner Change       1.00      1.00      1.00         1\n",
      "                                            Activity Reports       0.00      0.00      0.00         1\n",
      "                                                  Add Users        0.00      0.00      0.00         2\n",
      "                                      Add or Delete an Email       0.00      0.00      0.00         1\n",
      "                                           Admin Permissions       0.00      0.00      0.00         1\n",
      "                                  Advanced Security Settings       0.00      0.00      0.00         0\n",
      "                                              Analytics View       0.00      0.00      0.00         2\n",
      "                                                 Android App       0.00      0.00      0.00         0\n",
      "                                                   Approvals       0.00      0.00      0.00         0\n",
      "                                                 Attachments       0.50      1.00      0.67         1\n",
      "                                               Billable Time       0.00      0.00      0.00         0\n",
      "                                                  Board View       0.50      1.00      0.67         2\n",
      "                                                    Business       0.00      0.00      0.00         1\n",
      "                                     Calculations on Reports       0.00      0.00      0.00         2\n",
      "                                                   Calendars       0.60      1.00      0.75         3\n",
      "                                Categories for Time Tracking       1.00      0.50      0.67         2\n",
      "                                            Close an Account       1.00      0.25      0.40         4\n",
      "                                               Collaborators       0.00      0.00      0.00         7\n",
      "                                                    Comments       0.25      1.00      0.40         1\n",
      "                                Controlled Admin Permissions       0.00      0.00      0.00         0\n",
      "                          Create a Request Form (for Admins)       0.33      0.25      0.29         4\n",
      "                                               Custom Fields       0.31      0.56      0.40         9\n",
      "                               Custom Statuses and Workflows       0.50      0.40      0.44         5\n",
      "                                           Dashboard Widgets       0.00      0.00      0.00         8\n",
      "                                                  Dashboards       1.00      1.00      1.00         1\n",
      "                         Date Constraints on the Gantt Chart       0.00      0.00      0.00         1\n",
      "                                            Deactivate Users       0.00      0.00      0.00         0\n",
      "                                                Delete Tasks       1.00      0.50      0.67         2\n",
      "                            Dependencies on the Gantt Chart        1.00      0.33      0.50         3\n",
      "                                       Desktop Notifications       0.00      0.00      0.00         1\n",
      "                                            Developer Portal       0.00      0.00      0.00         1\n",
      "                                             Document Editor       0.75      0.75      0.75         4\n",
      "                                Duplicate Tasks and Subtasks       0.00      0.00      0.00         2\n",
      "                               Duplicate a Folder or Project       0.00      0.00      0.00         1\n",
      "                                       Dynamic Request Forms       0.50      1.00      0.67         1\n",
      "                                           Email Integration       0.40      0.67      0.50         3\n",
      "                                         Email Notifications       0.00      0.00      0.00         7\n",
      "Email Notifications Arrive With Delay or Don’t Arrive at All       0.00      0.00      0.00         0\n",
      "                                      External Request Forms       0.50      1.00      0.67         1\n",
      "                                                  Files View       0.00      0.00      0.00         0\n",
      "                                                     Filters       0.00      0.00      0.00         2\n",
      "                              Folder and Project Info Panels       0.00      0.00      0.00         1\n",
      "                                                        Free       0.00      0.00      0.00         2\n",
      "                                                     G Suite       0.00      0.00      0.00         1\n",
      "                                       Gantt Chart Overview        0.00      0.00      0.00         1\n",
      "                                        Gantt Chart Snapshot       0.00      0.00      0.00         2\n",
      "                                 Google Calendar Integration       1.00      1.00      1.00         3\n",
      "                                               Guest Reviews       1.00      1.00      1.00         1\n",
      "                                      Import Data From Excel       0.00      0.00      0.00         0\n",
      "                                     Import MS Project Files       0.00      0.00      0.00         1\n",
      "                                                  Importance       0.00      0.00      0.00         1\n",
      "                                  Install Wrike for Outlook        0.00      0.00      0.00         1\n",
      "                               Integrated Cloud Storage Apps       0.00      0.00      0.00         2\n",
      "                                                 Job Numbers       0.00      0.00      0.00         2\n",
      "                                                   Job Roles       0.00      0.00      0.00         0\n",
      "                                          Keyboard Shortcuts       0.00      0.00      0.00         2\n",
      "                  List View - Sorting and Prioritizing Tasks       1.00      1.00      1.00         1\n",
      "                                      Log In as Another User       0.50      0.50      0.50         2\n",
      "                                       Make a Task Recurrent       1.00      0.50      0.67         2\n",
      "                                        Manage Subscriptions       0.00      0.00      0.00         1\n",
      "                                                Mass Editing       0.00      0.00      0.00         3\n",
      "                                             Microsoft Teams       0.14      1.00      0.25         1\n",
      "                                                  Milestones       1.00      0.33      0.50         3\n",
      "                           Move Tasks, Folders, and Projects       0.00      0.00      0.00         1\n",
      "                                           Multiple Accounts       0.00      0.00      0.00         1\n",
      "                                               My Team Group       0.00      0.00      0.00         2\n",
      "           My Wrike Workspace Is Unresponsive or Not Loading       0.00      0.00      0.00         0\n",
      "                                                   Permalink       0.00      0.00      0.00         2\n",
      "                                            Personal Profile       0.00      0.00      0.00         2\n",
      "                                              Personal Space       0.00      0.00      0.00         1\n",
      "                                            Project Progress       0.00      0.00      0.00         0\n",
      "                                                    Projects       0.40      0.67      0.50         3\n",
      "                                                    Proofing       0.00      0.00      0.00         2\n",
      "                                            Report Snapshots       0.00      0.00      0.00         1\n",
      "                                            Report Templates       0.00      0.00      0.00         1\n",
      "                                            Reports Overview       0.43      0.30      0.35        10\n",
      "                               Request Forms (Submit a Form)       0.00      0.00      0.00         1\n",
      "                           Roll Up Dates on the Gantt Chart        0.00      0.00      0.00         1\n",
      "                                  Scheduled Report Reminders       1.00      1.00      1.00         2\n",
      "                                                      Search       1.00      1.00      1.00         1\n",
      "                                              Share a Report       0.00      0.00      0.00         1\n",
      "                                                     Sharing       0.50      0.14      0.22         7\n",
      "                                Sharing Folders and Projects       0.00      0.00      0.00         1\n",
      "                                               Sharing Tasks       0.00      0.00      0.00         1\n",
      "                                                       Slack       0.33      1.00      0.50         1\n",
      "                                             Spaces Overview       0.00      0.00      0.00         1\n",
      "                                Starred Folders and Projects       0.00      0.00      0.00         1\n",
      "                                          Subtask Alignment        1.00      1.00      1.00         1\n",
      "                                                    Subtasks       0.38      0.75      0.50         4\n",
      "                                                  Table View       0.00      0.00      0.00         0\n",
      "                                                        Tags       0.00      0.00      0.00         5\n",
      "                                                 Task Effort       0.00      0.00      0.00         1\n",
      "                                                   Task View       0.00      0.00      0.00         1\n",
      "                                                       Tasks       0.00      0.00      0.00         0\n",
      "                                    Tasks on the Gantt Chart       0.00      0.00      0.00         0\n",
      "                                                   Templates       0.00      0.00      0.00         2\n",
      "                                               Time Tracking       0.75      1.00      0.86         3\n",
      "                                                Timelog View       0.25      1.00      0.40         1\n",
      "                                           Types of Licenses       0.50      0.17      0.25         6\n",
      "                                                 User Groups       0.00      0.00      0.00         1\n",
      "             User Management Chart (Business and Enterprise)       0.00      0.00      0.00         2\n",
      "                                   Work Schedules for Admins       0.00      0.00      0.00         0\n",
      "                                    Work Schedules for Users       0.00      0.00      0.00         1\n",
      "                                             Workflow Report       0.00      0.00      0.00         1\n",
      "                                             Workload Charts       0.00      0.00      0.00         1\n",
      "                                               Wrike Analyze       0.00      0.00      0.00         1\n",
      "                                        Wrike For Salesforce       0.00      0.00      0.00         0\n",
      "                                        Wrike ToDo Extension       0.00      0.00      0.00         0\n",
      "                            Wrike and JIRA Sync: Setup Guide       0.00      0.00      0.00         1\n",
      "                              Wrike for Gmail (Gmail Add-On)       1.00      1.00      1.00         2\n",
      "                  Wrike for Office Documents (Office Add-in)       0.00      0.00      0.00         0\n",
      "                     Wrike for Windows and Mac (Desktop App)       0.44      0.80      0.57         5\n",
      "                                                      Zapier       0.00      0.00      0.00         1\n",
      "                                                     iOS App       0.00      0.00      0.00         0\n",
      "\n",
      "                                                    accuracy                           0.31       207\n",
      "                                                   macro avg       0.23      0.25      0.22       207\n",
      "                                                weighted avg       0.32      0.31      0.29       207\n",
      "\n"
     ]
    }
   ],
   "source": [
    "for true, pred in zip(['section_1', 'section_2', 'section_3'],\n",
    "                      ['section_1_pred', 'section_2_pred', 'section_3_pred']):\n",
    "    le = preprocessing.LabelEncoder()\n",
    "    le.fit(answer_df[true].tolist() + answer_df[pred].tolist())\n",
    "    true_labels = le.transform(answer_df[true])\n",
    "    pred_labels = le.transform(answer_df[pred])\n",
    "    print(classification_report(true_labels, pred_labels, target_names=le.classes_))\n",
    "    #le_dict = dict(zip(le.classes_, le.transform(le.classes_)))\n",
    "    #print(classification_report(true_labels, answer_df[pred].apply(lambda x: le_dict.get(x, '<unknown_value>')), \n",
    "    #                            target_names=list(le.classes_+'<unknown_value>')))"
   ]
  },
  {
   "cell_type": "code",
   "execution_count": null,
   "metadata": {},
   "outputs": [],
   "source": [
    "accuracy_score()"
   ]
  }
 ],
 "metadata": {
  "kernelspec": {
   "display_name": "Python 3",
   "language": "python",
   "name": "python3"
  },
  "language_info": {
   "codemirror_mode": {
    "name": "ipython",
    "version": 3
   },
   "file_extension": ".py",
   "mimetype": "text/x-python",
   "name": "python",
   "nbconvert_exporter": "python",
   "pygments_lexer": "ipython3",
   "version": "3.7.6"
  }
 },
 "nbformat": 4,
 "nbformat_minor": 4
}
