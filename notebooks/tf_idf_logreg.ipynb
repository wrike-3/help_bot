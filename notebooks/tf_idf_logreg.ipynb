{
 "cells": [
  {
   "cell_type": "code",
   "execution_count": 2,
   "metadata": {},
   "outputs": [],
   "source": [
    "import pandas as pd\n",
    "import nltk"
   ]
  },
  {
   "cell_type": "code",
   "execution_count": 3,
   "metadata": {},
   "outputs": [],
   "source": [
    "from joblib import dump, load"
   ]
  },
  {
   "cell_type": "code",
   "execution_count": 4,
   "metadata": {},
   "outputs": [],
   "source": [
    "data = pd.read_csv('help_title_v2.csv')"
   ]
  },
  {
   "cell_type": "code",
   "execution_count": 5,
   "metadata": {},
   "outputs": [
    {
     "data": {
      "text/html": [
       "<div>\n",
       "<style scoped>\n",
       "    .dataframe tbody tr th:only-of-type {\n",
       "        vertical-align: middle;\n",
       "    }\n",
       "\n",
       "    .dataframe tbody tr th {\n",
       "        vertical-align: top;\n",
       "    }\n",
       "\n",
       "    .dataframe thead th {\n",
       "        text-align: right;\n",
       "    }\n",
       "</style>\n",
       "<table border=\"1\" class=\"dataframe\">\n",
       "  <thead>\n",
       "    <tr style=\"text-align: right;\">\n",
       "      <th></th>\n",
       "      <th>section_1</th>\n",
       "      <th>url_1</th>\n",
       "      <th>section_2</th>\n",
       "      <th>url_2</th>\n",
       "      <th>section_3</th>\n",
       "      <th>url_3</th>\n",
       "      <th>section_4</th>\n",
       "      <th>url_4</th>\n",
       "      <th>section_text</th>\n",
       "      <th>keywords</th>\n",
       "      <th>text_len</th>\n",
       "    </tr>\n",
       "  </thead>\n",
       "  <tbody>\n",
       "    <tr>\n",
       "      <th>0</th>\n",
       "      <td>Tasks, Folders, Projects and Spaces</td>\n",
       "      <td>https://help.wrike.com/hc/en-us/categories/200...</td>\n",
       "      <td>Tasks</td>\n",
       "      <td>https://help.wrike.com/hc/en-us/sections/20189...</td>\n",
       "      <td>Tasks</td>\n",
       "      <td>https://help.wrike.com/hc/en-us/articles/20960...</td>\n",
       "      <td>Create a Task</td>\n",
       "      <td>https://help.wrike.com/hc/en-us/articles/20960...</td>\n",
       "      <td>Create a Task\\n\\nSelect a Folder or Project fr...</td>\n",
       "      <td>[]</td>\n",
       "      <td>440.0</td>\n",
       "    </tr>\n",
       "    <tr>\n",
       "      <th>1</th>\n",
       "      <td>Tasks, Folders, Projects and Spaces</td>\n",
       "      <td>https://help.wrike.com/hc/en-us/categories/200...</td>\n",
       "      <td>Tasks</td>\n",
       "      <td>https://help.wrike.com/hc/en-us/sections/20189...</td>\n",
       "      <td>Tasks</td>\n",
       "      <td>https://help.wrike.com/hc/en-us/articles/20960...</td>\n",
       "      <td>Assign a Task</td>\n",
       "      <td>https://help.wrike.com/hc/en-us/articles/20960...</td>\n",
       "      <td>Assign a Task\\nChoose the names of people to w...</td>\n",
       "      <td>['invite a user to Wrike', 'email notification...</td>\n",
       "      <td>1128.0</td>\n",
       "    </tr>\n",
       "    <tr>\n",
       "      <th>2</th>\n",
       "      <td>Tasks, Folders, Projects and Spaces</td>\n",
       "      <td>https://help.wrike.com/hc/en-us/categories/200...</td>\n",
       "      <td>Tasks</td>\n",
       "      <td>https://help.wrike.com/hc/en-us/sections/20189...</td>\n",
       "      <td>Tasks</td>\n",
       "      <td>https://help.wrike.com/hc/en-us/articles/20960...</td>\n",
       "      <td>Schedule a Task</td>\n",
       "      <td>https://help.wrike.com/hc/en-us/articles/20960...</td>\n",
       "      <td>Schedule a Task\\nIn the List view, you can set...</td>\n",
       "      <td>['Wrike for Professional Services', 'Wrike Res...</td>\n",
       "      <td>1131.0</td>\n",
       "    </tr>\n",
       "    <tr>\n",
       "      <th>3</th>\n",
       "      <td>Tasks, Folders, Projects and Spaces</td>\n",
       "      <td>https://help.wrike.com/hc/en-us/categories/200...</td>\n",
       "      <td>Tasks</td>\n",
       "      <td>https://help.wrike.com/hc/en-us/sections/20189...</td>\n",
       "      <td>Tasks</td>\n",
       "      <td>https://help.wrike.com/hc/en-us/articles/20960...</td>\n",
       "      <td>Tag a Task (Organize Tasks into Folders)</td>\n",
       "      <td>https://help.wrike.com/hc/en-us/articles/20960...</td>\n",
       "      <td>Tag a Task (Organize Tasks into Folders)\\nWhen...</td>\n",
       "      <td>['mass actions']</td>\n",
       "      <td>1008.0</td>\n",
       "    </tr>\n",
       "    <tr>\n",
       "      <th>4</th>\n",
       "      <td>Tasks, Folders, Projects and Spaces</td>\n",
       "      <td>https://help.wrike.com/hc/en-us/categories/200...</td>\n",
       "      <td>Tasks</td>\n",
       "      <td>https://help.wrike.com/hc/en-us/sections/20189...</td>\n",
       "      <td>Tasks</td>\n",
       "      <td>https://help.wrike.com/hc/en-us/articles/20960...</td>\n",
       "      <td>Follow a Task</td>\n",
       "      <td>https://help.wrike.com/hc/en-us/articles/20960...</td>\n",
       "      <td>Follow a Task\\nFollowing a task is a great way...</td>\n",
       "      <td>['Activity Stream', 'instant email notificatio...</td>\n",
       "      <td>1040.0</td>\n",
       "    </tr>\n",
       "  </tbody>\n",
       "</table>\n",
       "</div>"
      ],
      "text/plain": [
       "                             section_1  \\\n",
       "0  Tasks, Folders, Projects and Spaces   \n",
       "1  Tasks, Folders, Projects and Spaces   \n",
       "2  Tasks, Folders, Projects and Spaces   \n",
       "3  Tasks, Folders, Projects and Spaces   \n",
       "4  Tasks, Folders, Projects and Spaces   \n",
       "\n",
       "                                               url_1 section_2  \\\n",
       "0  https://help.wrike.com/hc/en-us/categories/200...     Tasks   \n",
       "1  https://help.wrike.com/hc/en-us/categories/200...     Tasks   \n",
       "2  https://help.wrike.com/hc/en-us/categories/200...     Tasks   \n",
       "3  https://help.wrike.com/hc/en-us/categories/200...     Tasks   \n",
       "4  https://help.wrike.com/hc/en-us/categories/200...     Tasks   \n",
       "\n",
       "                                               url_2 section_3  \\\n",
       "0  https://help.wrike.com/hc/en-us/sections/20189...     Tasks   \n",
       "1  https://help.wrike.com/hc/en-us/sections/20189...     Tasks   \n",
       "2  https://help.wrike.com/hc/en-us/sections/20189...     Tasks   \n",
       "3  https://help.wrike.com/hc/en-us/sections/20189...     Tasks   \n",
       "4  https://help.wrike.com/hc/en-us/sections/20189...     Tasks   \n",
       "\n",
       "                                               url_3  \\\n",
       "0  https://help.wrike.com/hc/en-us/articles/20960...   \n",
       "1  https://help.wrike.com/hc/en-us/articles/20960...   \n",
       "2  https://help.wrike.com/hc/en-us/articles/20960...   \n",
       "3  https://help.wrike.com/hc/en-us/articles/20960...   \n",
       "4  https://help.wrike.com/hc/en-us/articles/20960...   \n",
       "\n",
       "                                  section_4  \\\n",
       "0                             Create a Task   \n",
       "1                             Assign a Task   \n",
       "2                           Schedule a Task   \n",
       "3  Tag a Task (Organize Tasks into Folders)   \n",
       "4                             Follow a Task   \n",
       "\n",
       "                                               url_4  \\\n",
       "0  https://help.wrike.com/hc/en-us/articles/20960...   \n",
       "1  https://help.wrike.com/hc/en-us/articles/20960...   \n",
       "2  https://help.wrike.com/hc/en-us/articles/20960...   \n",
       "3  https://help.wrike.com/hc/en-us/articles/20960...   \n",
       "4  https://help.wrike.com/hc/en-us/articles/20960...   \n",
       "\n",
       "                                        section_text  \\\n",
       "0  Create a Task\\n\\nSelect a Folder or Project fr...   \n",
       "1  Assign a Task\\nChoose the names of people to w...   \n",
       "2  Schedule a Task\\nIn the List view, you can set...   \n",
       "3  Tag a Task (Organize Tasks into Folders)\\nWhen...   \n",
       "4  Follow a Task\\nFollowing a task is a great way...   \n",
       "\n",
       "                                            keywords  text_len  \n",
       "0                                                 []     440.0  \n",
       "1  ['invite a user to Wrike', 'email notification...    1128.0  \n",
       "2  ['Wrike for Professional Services', 'Wrike Res...    1131.0  \n",
       "3                                   ['mass actions']    1008.0  \n",
       "4  ['Activity Stream', 'instant email notificatio...    1040.0  "
      ]
     },
     "execution_count": 5,
     "metadata": {},
     "output_type": "execute_result"
    }
   ],
   "source": [
    "data.head()"
   ]
  },
  {
   "cell_type": "code",
   "execution_count": 6,
   "metadata": {},
   "outputs": [
    {
     "data": {
      "text/plain": [
       "array(['Tasks, Folders, Projects and Spaces',\n",
       "       'Types of Accounts and Licenses', 'Work Views', 'Monitoring Panel',\n",
       "       'Integrations', 'Account Management', 'Security', 'Apps',\n",
       "       'Getting Started'], dtype=object)"
      ]
     },
     "execution_count": 6,
     "metadata": {},
     "output_type": "execute_result"
    }
   ],
   "source": [
    "data['section_1'].unique()"
   ]
  },
  {
   "cell_type": "code",
   "execution_count": 7,
   "metadata": {},
   "outputs": [
    {
     "data": {
      "text/plain": [
       "array(['Tasks', 'Folders and Projects', 'Spaces',\n",
       "       'Proofing and Approvals', 'Communication', 'Advanced',\n",
       "       'Organization', 'Accounts', 'Licenses', 'Gantt Chart',\n",
       "       'Table View', 'Timelog View', 'All the Other Views',\n",
       "       'Wrike Analyze', 'Wrike Resource', 'Calendars', 'Reporting',\n",
       "       'More Monitoring Panel Views', 'Automated Monitoring',\n",
       "       'Wrike Integrate', 'Email', 'Add-ins and Extensions',\n",
       "       'Import and Export', 'Wrike, GitHub, and JIRA Syncs',\n",
       "       'Everything Else', 'Troubleshooting', 'General Account Management',\n",
       "       'Personal User License', 'Billing', 'Single Sign-On',\n",
       "       'More Security Features', 'Desktop', 'Mobile',\n",
       "       'Manager Guide (for account owners and admins)',\n",
       "       'Team Member Guide (for account users)'], dtype=object)"
      ]
     },
     "execution_count": 7,
     "metadata": {},
     "output_type": "execute_result"
    }
   ],
   "source": [
    "data['section_2'].unique()"
   ]
  },
  {
   "cell_type": "code",
   "execution_count": 8,
   "metadata": {},
   "outputs": [
    {
     "data": {
      "text/plain": [
       "array(['Tasks', 'Task View', 'Subtasks', 'Subtask Alignment ',\n",
       "       'Attachments', 'Milestones', 'Backlogged Tasks',\n",
       "       'List View - Sorting and Prioritizing Tasks', 'Mass Editing',\n",
       "       'Sharing Tasks', 'Duplicate Tasks and Subtasks', 'Star a Task',\n",
       "       'Importance', 'Task Status', 'Request a Status Update',\n",
       "       'Make a Task Recurrent', 'Delete Tasks', 'Print Tasks',\n",
       "       'Create, Color Code, and Edit Folders and Projects',\n",
       "       'Folder and Project Info Panels', 'Projects',\n",
       "       'Project Wizard and Default View Picker',\n",
       "       'Subfolders and Subprojects', 'Sharing Folders and Projects',\n",
       "       'Access Roles', 'Duplicate a Folder or Project',\n",
       "       'Delete a Folder or Project', 'Project Progress',\n",
       "       'Spaces Overview', 'Personal Space',\n",
       "       'Manage Spaces (for Space Admins)', 'Bookmarks',\n",
       "       'Wrike Proof for HTML', 'Approvals', 'Proofing', 'File Approvals',\n",
       "       'Guest Reviews', 'Review and Approve Files (for Guest Users)',\n",
       "       'Wrike Publish: MediaValet Integration',\n",
       "       'Wrike Publish: Bynder Integration', 'Description Field',\n",
       "       'Document Editor', '@mentions', 'Comments', 'Permalink', 'Sharing',\n",
       "       'Share Tasks, Folders, and Projects (Free and Professional)',\n",
       "       'Share Tasks, Folders, and Projects (Business and Enterprise)',\n",
       "       'Following', 'Calculated Custom Fields', 'Blueprints',\n",
       "       'Keyboard Shortcuts', 'Custom Fields', 'Custom Field Management',\n",
       "       'Onboarding Templates', 'Custom Statuses and Workflows',\n",
       "       'Advanced Custom Workflows', 'Workflow Report',\n",
       "       'Manage Request Forms (for Admins)',\n",
       "       'Create a Request Form (for Admins)',\n",
       "       'Request Forms (Submit a Form)', 'External Request Forms',\n",
       "       'Dynamic Request Forms', 'Templates', 'Time Tracking', 'Filters',\n",
       "       'Recycle Bin', 'Tags', 'Starred Folders and Projects',\n",
       "       'Move Tasks, Folders, and Projects', 'Job Numbers', 'Archive',\n",
       "       'Search', 'Building Blocks: Tasks, Folders, Projects and Spaces',\n",
       "       'Wrike for Professional Services', 'Wrike for Marketers',\n",
       "       'Enterprise', 'Business', 'Professional', 'Free',\n",
       "       'Student Program', 'Price', 'Types of Licenses', 'Collaborators',\n",
       "       'Gantt Chart Overview ', 'Tasks on the Gantt Chart',\n",
       "       'Dependencies on the Gantt Chart ',\n",
       "       'Sort and Reorder Items on the Gantt Chart',\n",
       "       'Gantt Chart: Print Timeline',\n",
       "       'Zoom In or Out on the Gantt Chart ',\n",
       "       'Roll Up Dates on the Gantt Chart ',\n",
       "       'Date Constraints on the Gantt Chart', 'Gantt Chart Snapshot',\n",
       "       'Critical Path', 'Table View', 'Timelog View',\n",
       "       'Categories for Time Tracking', 'Files View', 'Board View',\n",
       "       'Analytics View', 'Wrike Analyze', 'Wrike Analyze: Formulas',\n",
       "       'Wrike Analyze: Available Data', 'Wrike Analyze: Sample Widgets',\n",
       "       'Wrike Analyze: Utilization and Performance Report',\n",
       "       'Wrike Resource Overview', 'Workload Charts',\n",
       "       'Manage Tasks on Workload Charts', 'Backlog Box', 'Task Effort',\n",
       "       'Custom Capacity Allocation in Workload Charts', 'Job Roles',\n",
       "       'Billable Time', 'Timesheets', 'Calendars', 'Share Calendars',\n",
       "       'Tasks and Projects on Calendars', 'Reports Overview',\n",
       "       'Report Table Charts', 'Report Column Charts', 'Share a Report',\n",
       "       'Report Templates', 'Report Snapshots', 'Calculations on Reports',\n",
       "       'Scheduled Report Reminders', 'Dashboards', 'Dashboard Widgets',\n",
       "       'Inbox', 'Snooze Inbox Notifications', 'Stream',\n",
       "       'Project Risk Report', 'Wrike Integrate',\n",
       "       'Install Wrike for Outlook ', 'Wrike for Gmail (Gmail Add-On)',\n",
       "       'Wrike for Outlook', 'Outlook Actionable Messages', 'Gmail Gadget',\n",
       "       'Email Integration', 'Wrike For Salesforce',\n",
       "       'Wrike for Office Documents (Office Add-in)',\n",
       "       'Wrike Extension for Adobe Creative Cloud', 'Wrike ToDo Extension',\n",
       "       'Export Data to Excel', 'Import Data From Excel', 'BI Export',\n",
       "       'Import MS Project Files', 'Importing Outlook Tasks',\n",
       "       'Project Syncs Add-On', 'Wrike and Bitbucket Sync: Overview',\n",
       "       'Wrike and Bitbucket Sync: Setup Guide',\n",
       "       'Wrike and GitLab Sync: Overview',\n",
       "       'Wrike and GitLab Sync: Setup Guide',\n",
       "       'Wrike and GitHub Sync: Overview',\n",
       "       'Wrike and GitHub Sync: Setup Guide',\n",
       "       'Wrike and JIRA Sync: Overview',\n",
       "       'Wrike and JIRA Sync: Setup Guide', 'Connect Tableau and Wrike',\n",
       "       'Microsoft Teams', 'Slack', 'Developer Portal', 'Zapier',\n",
       "       'G Suite', 'G Suite Implementation Guide',\n",
       "       'Google Calendar Integration', 'Integrated Cloud Storage Apps',\n",
       "       'I Sent an Email to Wrike, but It Didn’t Create or Update a Task / Tasks Aren’t Created out of Emails',\n",
       "       'Finding a Task, Folder, or Project',\n",
       "       'Email Notifications Arrive With Delay or Don’t Arrive at All',\n",
       "       'My Wrike Is Taking an Unusually Long Time to Load',\n",
       "       'Expired Trials', 'Issues With Uploading/Downloading Attachments',\n",
       "       'Task Descriptions Not Loading',\n",
       "       'My Wrike Workspace Is Unresponsive or Not Loading',\n",
       "       'Troubleshooting Websockets', 'Account Owner Change',\n",
       "       'Work Schedules for Admins', 'Access Reports', 'My Team Group',\n",
       "       'User Groups', 'User Management Chart (Business and Enterprise)',\n",
       "       'Group Admin', 'Wrike Bot', 'Log In as Another User',\n",
       "       'Supported Browsers', 'Activity Reports',\n",
       "       'User Management Chart (Free and Professional)', 'Add Users ',\n",
       "       'Controlled Admin Permissions', 'Admin Permissions',\n",
       "       'Change Account Name', 'Branded Workspace and Email Notifications',\n",
       "       'Delete a User', 'Close an Account',\n",
       "       'Wrike & OneLogin: User Provisioning',\n",
       "       'Wrike & Okta: User Provisioning',\n",
       "       'Wrike and Azure Active Directory: User Provisioning',\n",
       "       'Workweek Settings', 'Language Settings', 'Workspace Themes',\n",
       "       'Work Schedules for Users', 'Email Notifications',\n",
       "       'Daily To-Do Emails', 'Add or Delete an Email', 'Upload an Avatar',\n",
       "       'Passwords', 'Personal Profile', 'Time and Date Settings',\n",
       "       'Desktop Notifications', 'Multiple Accounts',\n",
       "       'Add and Edit Billing Information', 'Purchase a Subscription',\n",
       "       'Manage Subscriptions', 'Print an Invoice', 'SSO with OneLogin',\n",
       "       'SSO with Azure', 'SSO with SAML: Implementation Guide',\n",
       "       'SSO with SAML: User Guide',\n",
       "       'SSO with Microsoft Credentials: User Guide',\n",
       "       'SSO with Microsoft Credentials: Implementation Guide',\n",
       "       'SSO with Okta', 'Wrike Lock', 'European Data Center',\n",
       "       'Deactivate Users', 'Advanced Security Settings',\n",
       "       'One-Time Passwords', 'Account Backup', '2-Step Verification',\n",
       "       'Wrike for Windows and Mac (Desktop App)', 'iOS App',\n",
       "       'Android App', 'Step 1: Learning the Fundamentals',\n",
       "       'Step 2: Setting Up Your Workspace',\n",
       "       'Step 3: Team Onboarding and Collaboration',\n",
       "       'Step 4: Monitoring Work Progress',\n",
       "       'Step 5: Tailoring Wrike to Your Team’s Needs',\n",
       "       'Step 6. Making Remote Work Productive', 'Step 1: Getting Settled',\n",
       "       'Step 2: Launching New Projects', 'Step 3: Collaborating in Wrike',\n",
       "       'Step 4: Work from Home Productively'], dtype=object)"
      ]
     },
     "execution_count": 8,
     "metadata": {},
     "output_type": "execute_result"
    }
   ],
   "source": [
    "data['section_3'].unique()"
   ]
  },
  {
   "cell_type": "code",
   "execution_count": 9,
   "metadata": {},
   "outputs": [],
   "source": [
    "information_section_list = ['Wrike and Bitbucket Sync: Overview',\n",
    "       'Wrike and GitLab Sync: Overview',\n",
    "       'Wrike and GitHub Sync: Overview',\n",
    "       'Wrike and JIRA Sync: Overview',\n",
    "       'Wrike and JIRA Sync: Setup Guide','Step 1: Learning the Fundamentals',\n",
    "       'Step 2: Setting Up Your Workspace',\n",
    "       'Step 3: Team Onboarding and Collaboration',\n",
    "       'Step 4: Monitoring Work Progress',\n",
    "       'Step 5: Tailoring Wrike to Your Team’s Needs',\n",
    "       'Step 6. Making Remote Work Productive', 'Step 1: Getting Settled',\n",
    "       'Step 2: Launching New Projects', 'Step 3: Collaborating in Wrike',\n",
    "       'Step 4: Work from Home Productively']"
   ]
  },
  {
   "cell_type": "code",
   "execution_count": 10,
   "metadata": {},
   "outputs": [],
   "source": [
    "data = data[~data['section_3'].isin(information_section_list)]"
   ]
  },
  {
   "cell_type": "code",
   "execution_count": 11,
   "metadata": {},
   "outputs": [
    {
     "data": {
      "text/plain": [
       "(1196, 11)"
      ]
     },
     "execution_count": 11,
     "metadata": {},
     "output_type": "execute_result"
    }
   ],
   "source": [
    "data.shape"
   ]
  },
  {
   "cell_type": "code",
   "execution_count": 12,
   "metadata": {},
   "outputs": [],
   "source": [
    "data = data[data['section_text'] != '']"
   ]
  },
  {
   "cell_type": "code",
   "execution_count": 13,
   "metadata": {},
   "outputs": [],
   "source": [
    "from nltk.tokenize import RegexpTokenizer\n",
    "\n",
    "tokenizer = RegexpTokenizer(r'\\w+')"
   ]
  },
  {
   "cell_type": "code",
   "execution_count": 14,
   "metadata": {},
   "outputs": [],
   "source": [
    "from nltk.corpus import stopwords\n",
    "\n",
    "english_stopwords = stopwords.words(\"english\")"
   ]
  },
  {
   "cell_type": "code",
   "execution_count": 15,
   "metadata": {},
   "outputs": [],
   "source": [
    "from nltk.stem import WordNetLemmatizer\n",
    "\n",
    "lemmatizer = WordNetLemmatizer()"
   ]
  },
  {
   "cell_type": "code",
   "execution_count": 16,
   "metadata": {},
   "outputs": [],
   "source": [
    "#Preprocess function\n",
    "def preprocess_text(text, tokenizer=RegexpTokenizer(r'\\w+'), \n",
    "                    lemmatizer=WordNetLemmatizer(), stopwords=stopwords.words(\"english\")):\n",
    "    tokens = tokenizer.tokenize(text)\n",
    "    tokens = [token.lower() for token in tokens]\n",
    "    tokens = [token for token in tokens if token not in english_stopwords\\\n",
    "              and token != \" \" ]\n",
    "    lemmas = [lemmatizer.lemmatize(token) for token in tokens]\n",
    "    clean_text = \" \".join(lemmas)\n",
    "    return clean_text"
   ]
  },
  {
   "cell_type": "code",
   "execution_count": 17,
   "metadata": {},
   "outputs": [
    {
     "data": {
      "text/html": [
       "<div>\n",
       "<style scoped>\n",
       "    .dataframe tbody tr th:only-of-type {\n",
       "        vertical-align: middle;\n",
       "    }\n",
       "\n",
       "    .dataframe tbody tr th {\n",
       "        vertical-align: top;\n",
       "    }\n",
       "\n",
       "    .dataframe thead th {\n",
       "        text-align: right;\n",
       "    }\n",
       "</style>\n",
       "<table border=\"1\" class=\"dataframe\">\n",
       "  <thead>\n",
       "    <tr style=\"text-align: right;\">\n",
       "      <th></th>\n",
       "      <th>section_1</th>\n",
       "      <th>url_1</th>\n",
       "      <th>section_2</th>\n",
       "      <th>url_2</th>\n",
       "      <th>section_3</th>\n",
       "      <th>url_3</th>\n",
       "      <th>section_4</th>\n",
       "      <th>url_4</th>\n",
       "      <th>section_text</th>\n",
       "      <th>keywords</th>\n",
       "      <th>text_len</th>\n",
       "    </tr>\n",
       "  </thead>\n",
       "  <tbody>\n",
       "    <tr>\n",
       "      <th>0</th>\n",
       "      <td>Tasks, Folders, Projects and Spaces</td>\n",
       "      <td>https://help.wrike.com/hc/en-us/categories/200...</td>\n",
       "      <td>Tasks</td>\n",
       "      <td>https://help.wrike.com/hc/en-us/sections/20189...</td>\n",
       "      <td>Tasks</td>\n",
       "      <td>https://help.wrike.com/hc/en-us/articles/20960...</td>\n",
       "      <td>Create a Task</td>\n",
       "      <td>https://help.wrike.com/hc/en-us/articles/20960...</td>\n",
       "      <td>Create a Task\\n\\nSelect a Folder or Project fr...</td>\n",
       "      <td>[]</td>\n",
       "      <td>440.0</td>\n",
       "    </tr>\n",
       "    <tr>\n",
       "      <th>1</th>\n",
       "      <td>Tasks, Folders, Projects and Spaces</td>\n",
       "      <td>https://help.wrike.com/hc/en-us/categories/200...</td>\n",
       "      <td>Tasks</td>\n",
       "      <td>https://help.wrike.com/hc/en-us/sections/20189...</td>\n",
       "      <td>Tasks</td>\n",
       "      <td>https://help.wrike.com/hc/en-us/articles/20960...</td>\n",
       "      <td>Assign a Task</td>\n",
       "      <td>https://help.wrike.com/hc/en-us/articles/20960...</td>\n",
       "      <td>Assign a Task\\nChoose the names of people to w...</td>\n",
       "      <td>['invite a user to Wrike', 'email notification...</td>\n",
       "      <td>1128.0</td>\n",
       "    </tr>\n",
       "    <tr>\n",
       "      <th>2</th>\n",
       "      <td>Tasks, Folders, Projects and Spaces</td>\n",
       "      <td>https://help.wrike.com/hc/en-us/categories/200...</td>\n",
       "      <td>Tasks</td>\n",
       "      <td>https://help.wrike.com/hc/en-us/sections/20189...</td>\n",
       "      <td>Tasks</td>\n",
       "      <td>https://help.wrike.com/hc/en-us/articles/20960...</td>\n",
       "      <td>Schedule a Task</td>\n",
       "      <td>https://help.wrike.com/hc/en-us/articles/20960...</td>\n",
       "      <td>Schedule a Task\\nIn the List view, you can set...</td>\n",
       "      <td>['Wrike for Professional Services', 'Wrike Res...</td>\n",
       "      <td>1131.0</td>\n",
       "    </tr>\n",
       "    <tr>\n",
       "      <th>3</th>\n",
       "      <td>Tasks, Folders, Projects and Spaces</td>\n",
       "      <td>https://help.wrike.com/hc/en-us/categories/200...</td>\n",
       "      <td>Tasks</td>\n",
       "      <td>https://help.wrike.com/hc/en-us/sections/20189...</td>\n",
       "      <td>Tasks</td>\n",
       "      <td>https://help.wrike.com/hc/en-us/articles/20960...</td>\n",
       "      <td>Tag a Task (Organize Tasks into Folders)</td>\n",
       "      <td>https://help.wrike.com/hc/en-us/articles/20960...</td>\n",
       "      <td>Tag a Task (Organize Tasks into Folders)\\nWhen...</td>\n",
       "      <td>['mass actions']</td>\n",
       "      <td>1008.0</td>\n",
       "    </tr>\n",
       "    <tr>\n",
       "      <th>4</th>\n",
       "      <td>Tasks, Folders, Projects and Spaces</td>\n",
       "      <td>https://help.wrike.com/hc/en-us/categories/200...</td>\n",
       "      <td>Tasks</td>\n",
       "      <td>https://help.wrike.com/hc/en-us/sections/20189...</td>\n",
       "      <td>Tasks</td>\n",
       "      <td>https://help.wrike.com/hc/en-us/articles/20960...</td>\n",
       "      <td>Follow a Task</td>\n",
       "      <td>https://help.wrike.com/hc/en-us/articles/20960...</td>\n",
       "      <td>Follow a Task\\nFollowing a task is a great way...</td>\n",
       "      <td>['Activity Stream', 'instant email notificatio...</td>\n",
       "      <td>1040.0</td>\n",
       "    </tr>\n",
       "  </tbody>\n",
       "</table>\n",
       "</div>"
      ],
      "text/plain": [
       "                             section_1  \\\n",
       "0  Tasks, Folders, Projects and Spaces   \n",
       "1  Tasks, Folders, Projects and Spaces   \n",
       "2  Tasks, Folders, Projects and Spaces   \n",
       "3  Tasks, Folders, Projects and Spaces   \n",
       "4  Tasks, Folders, Projects and Spaces   \n",
       "\n",
       "                                               url_1 section_2  \\\n",
       "0  https://help.wrike.com/hc/en-us/categories/200...     Tasks   \n",
       "1  https://help.wrike.com/hc/en-us/categories/200...     Tasks   \n",
       "2  https://help.wrike.com/hc/en-us/categories/200...     Tasks   \n",
       "3  https://help.wrike.com/hc/en-us/categories/200...     Tasks   \n",
       "4  https://help.wrike.com/hc/en-us/categories/200...     Tasks   \n",
       "\n",
       "                                               url_2 section_3  \\\n",
       "0  https://help.wrike.com/hc/en-us/sections/20189...     Tasks   \n",
       "1  https://help.wrike.com/hc/en-us/sections/20189...     Tasks   \n",
       "2  https://help.wrike.com/hc/en-us/sections/20189...     Tasks   \n",
       "3  https://help.wrike.com/hc/en-us/sections/20189...     Tasks   \n",
       "4  https://help.wrike.com/hc/en-us/sections/20189...     Tasks   \n",
       "\n",
       "                                               url_3  \\\n",
       "0  https://help.wrike.com/hc/en-us/articles/20960...   \n",
       "1  https://help.wrike.com/hc/en-us/articles/20960...   \n",
       "2  https://help.wrike.com/hc/en-us/articles/20960...   \n",
       "3  https://help.wrike.com/hc/en-us/articles/20960...   \n",
       "4  https://help.wrike.com/hc/en-us/articles/20960...   \n",
       "\n",
       "                                  section_4  \\\n",
       "0                             Create a Task   \n",
       "1                             Assign a Task   \n",
       "2                           Schedule a Task   \n",
       "3  Tag a Task (Organize Tasks into Folders)   \n",
       "4                             Follow a Task   \n",
       "\n",
       "                                               url_4  \\\n",
       "0  https://help.wrike.com/hc/en-us/articles/20960...   \n",
       "1  https://help.wrike.com/hc/en-us/articles/20960...   \n",
       "2  https://help.wrike.com/hc/en-us/articles/20960...   \n",
       "3  https://help.wrike.com/hc/en-us/articles/20960...   \n",
       "4  https://help.wrike.com/hc/en-us/articles/20960...   \n",
       "\n",
       "                                        section_text  \\\n",
       "0  Create a Task\\n\\nSelect a Folder or Project fr...   \n",
       "1  Assign a Task\\nChoose the names of people to w...   \n",
       "2  Schedule a Task\\nIn the List view, you can set...   \n",
       "3  Tag a Task (Organize Tasks into Folders)\\nWhen...   \n",
       "4  Follow a Task\\nFollowing a task is a great way...   \n",
       "\n",
       "                                            keywords  text_len  \n",
       "0                                                 []     440.0  \n",
       "1  ['invite a user to Wrike', 'email notification...    1128.0  \n",
       "2  ['Wrike for Professional Services', 'Wrike Res...    1131.0  \n",
       "3                                   ['mass actions']    1008.0  \n",
       "4  ['Activity Stream', 'instant email notificatio...    1040.0  "
      ]
     },
     "execution_count": 17,
     "metadata": {},
     "output_type": "execute_result"
    }
   ],
   "source": [
    "data.head()"
   ]
  },
  {
   "cell_type": "code",
   "execution_count": 18,
   "metadata": {},
   "outputs": [],
   "source": [
    "data['section_text_cleaned'] = data['section_text'].apply(lambda x: preprocess_text(str(x)))"
   ]
  },
  {
   "cell_type": "code",
   "execution_count": 19,
   "metadata": {},
   "outputs": [],
   "source": [
    "from sklearn.feature_extraction.text import TfidfVectorizer\n",
    "\n",
    "vectorizer = TfidfVectorizer()\n",
    "TF_X = vectorizer.fit_transform(data['section_text_cleaned'])"
   ]
  },
  {
   "cell_type": "markdown",
   "metadata": {},
   "source": [
    "## Dumping vectorizer"
   ]
  },
  {
   "cell_type": "code",
   "execution_count": 20,
   "metadata": {},
   "outputs": [
    {
     "data": {
      "text/plain": [
       "['vectorizer.joblib']"
      ]
     },
     "execution_count": 20,
     "metadata": {},
     "output_type": "execute_result"
    }
   ],
   "source": [
    "dump(vectorizer, 'vectorizer.joblib')"
   ]
  },
  {
   "cell_type": "code",
   "execution_count": 21,
   "metadata": {},
   "outputs": [],
   "source": [
    "from sklearn.preprocessing import OneHotEncoder\n",
    "\n",
    "section_1_encoder = OneHotEncoder(handle_unknown='ignore')\n",
    "section_2_encoder = OneHotEncoder(handle_unknown='ignore')\n",
    "section_3_encoder = OneHotEncoder(handle_unknown='ignore')\n",
    "\n",
    "section_1_ohe = section_1_encoder.fit_transform(data['section_1'].values.reshape(-1, 1))\n",
    "section_2_ohe = section_2_encoder.fit_transform(data['section_2'].values.reshape(-1, 1))\n",
    "section_3_ohe = section_3_encoder.fit_transform(data['section_3'].values.reshape(-1, 1))"
   ]
  },
  {
   "cell_type": "markdown",
   "metadata": {},
   "source": [
    "## Dumping encoders"
   ]
  },
  {
   "cell_type": "code",
   "execution_count": 22,
   "metadata": {},
   "outputs": [
    {
     "data": {
      "text/plain": [
       "['section_3_encoder.joblib']"
      ]
     },
     "execution_count": 22,
     "metadata": {},
     "output_type": "execute_result"
    }
   ],
   "source": [
    "dump(section_1_encoder, 'section_1_encoder.joblib')\n",
    "dump(section_2_encoder, 'section_2_encoder.joblib')\n",
    "dump(section_3_encoder, 'section_3_encoder.joblib')"
   ]
  },
  {
   "cell_type": "code",
   "execution_count": 23,
   "metadata": {},
   "outputs": [],
   "source": [
    "from sklearn.model_selection import KFold, train_test_split, StratifiedKFold\n",
    "from sklearn.linear_model import LogisticRegression, RidgeClassifier\n",
    "from sklearn.metrics import roc_auc_score\n",
    "from sklearn.multioutput import ClassifierChain\n",
    "from sklearn.multiclass import OneVsRestClassifier"
   ]
  },
  {
   "cell_type": "code",
   "execution_count": 24,
   "metadata": {},
   "outputs": [],
   "source": [
    "def predict_one_class(train_data, submit_data, y, model, n_splits=3, silent=False):\n",
    "    skf = StratifiedKFold(n_splits=n_splits, shuffle=True, random_state=42)\n",
    "    to_check = pd.DataFrame(train_data.copy())\n",
    "    to_check[f'predict_proba'] = 0\n",
    "    pred = np.zeros(len(submit_data))\n",
    "    y_arr = y\n",
    "    for i, (train_index, valid_index) in enumerate(skf.split(train_data, y_arr)):        \n",
    "        X_train = train_data[train_index]\n",
    "        X_valid = train_data[valid_index]\n",
    "        y_train = y_arr[train_index]\n",
    "        y_valid = y_arr[valid_index] \n",
    "        \n",
    "        model.fit(X_train, y_train)\n",
    "        \n",
    "        prediction_skf = model.predict_proba(submit_data)[:,1]\n",
    "        pred += prediction_skf / skf.n_splits  \n",
    "        \n",
    "        prediction = model.predict_proba(X_valid)[:,1]\n",
    "        to_check.loc[valid_index, f'predict_proba'] = prediction\n",
    "                \n",
    "    local_auc = roc_auc_score(y, to_check[f'predict_proba'])\n",
    "    \n",
    "    if not silent: \n",
    "        print(f\"ROC_AUC_local: {local_auc}\")\n",
    "    \n",
    "    return pred,to_check[f'predict_proba'],local_auc"
   ]
  },
  {
   "cell_type": "code",
   "execution_count": 25,
   "metadata": {},
   "outputs": [],
   "source": [
    "import numpy as np"
   ]
  },
  {
   "cell_type": "code",
   "execution_count": 26,
   "metadata": {},
   "outputs": [
    {
     "name": "stdout",
     "output_type": "stream",
     "text": [
      "ROC_AUC_local: 0.9480401457235558\n",
      "ROC_AUC_local: 0.9073200992555832\n",
      "ROC_AUC_local: 0.9687069164931761\n",
      "ROC_AUC_local: 0.9704847473160514\n",
      "ROC_AUC_local: 0.9714160346016424\n",
      "ROC_AUC_local: 0.9234623981541568\n",
      "ROC_AUC_local: 0.9738904029589254\n",
      "ROC_AUC_local: 0.9179223744292239\n",
      "\n",
      "TOTAL CV:0.9476553898665394\n"
     ]
    }
   ],
   "source": [
    "Y = section_1_ohe.toarray()\n",
    "\n",
    "X_train, X_test, Y_train, Y_test = train_test_split(TF_X.toarray(), Y, test_size=0.2)\n",
    "\n",
    "cv_scores = []\n",
    "probas = []\n",
    "cross_vals = []\n",
    "\n",
    "columns = Y.shape[1]\n",
    "for i in range(columns):\n",
    "    y_train = Y_train[:, i]\n",
    "    clf = LogisticRegression()\n",
    "    proba, cross_val, cv_score = predict_one_class(X_train, X_test, y_train, clf, n_splits=3)  \n",
    "    probas.append(proba)\n",
    "    cross_vals.append(cross_val)\n",
    "    cv_scores.append(cv_score)\n",
    "print ()\n",
    "print(f'TOTAL CV:{np.mean(cv_scores)}')"
   ]
  },
  {
   "cell_type": "code",
   "execution_count": 27,
   "metadata": {},
   "outputs": [],
   "source": [
    "import warnings\n",
    "warnings.filterwarnings(\"ignore\")"
   ]
  },
  {
   "cell_type": "code",
   "execution_count": 28,
   "metadata": {},
   "outputs": [
    {
     "name": "stdout",
     "output_type": "stream",
     "text": [
      "ROC_AUC_local: 0.9334398296059638\n",
      "ROC_AUC_local: 0.9607702427939241\n",
      "ROC_AUC_local: 0.9561837006923712\n",
      "ROC_AUC_local: 0.9530611251703328\n",
      "ROC_AUC_local: 0.6666666666666667\n",
      "ROC_AUC_local: 0.9311275372521413\n",
      "ROC_AUC_local: 0.9411764705882352\n",
      "ROC_AUC_local: 0.9680353200883003\n",
      "ROC_AUC_local: 0.9821052631578948\n",
      "ROC_AUC_local: 0.9801743679163034\n",
      "ROC_AUC_local: 0.9767961650442608\n",
      "ROC_AUC_local: 0.9515141347202416\n",
      "ROC_AUC_local: 0.9554221379584767\n",
      "ROC_AUC_local: 0.9762353250394252\n",
      "ROC_AUC_local: 0.9990691489361703\n",
      "ROC_AUC_local: 0.9932259521300617\n",
      "ROC_AUC_local: 0.9466662921979441\n",
      "ROC_AUC_local: 0.9269515281292583\n",
      "ROC_AUC_local: 0.9786593614718615\n",
      "ROC_AUC_local: 0.8447973438576708\n",
      "ROC_AUC_local: 0.9239281400966184\n",
      "ROC_AUC_local: 0.9280948067632849\n",
      "ROC_AUC_local: 0.979021724643476\n",
      "ROC_AUC_local: 0.9539127895658944\n",
      "ROC_AUC_local: 0.992495381773399\n",
      "ROC_AUC_local: 0.942508506394462\n",
      "ROC_AUC_local: 0.9282516172965611\n",
      "ROC_AUC_local: 0.9892706131078225\n",
      "ROC_AUC_local: 0.9892626231527093\n",
      "ROC_AUC_local: 0.9918796992481203\n",
      "ROC_AUC_local: 0.9976365546218487\n",
      "ROC_AUC_local: 0.976875298614429\n",
      "ROC_AUC_local: 1.0\n",
      "\n",
      "TOTAL CV:0.9519762323847312\n"
     ]
    }
   ],
   "source": [
    "Y = section_2_ohe.toarray()\n",
    "\n",
    "X_train, X_test, Y_train, Y_test = train_test_split(TF_X.toarray(), Y, test_size=0.2)\n",
    "\n",
    "cv_scores = []\n",
    "probas = []\n",
    "cross_vals = []\n",
    "\n",
    "columns = Y.shape[1]\n",
    "for i in range(columns):\n",
    "    y_train = Y_train[:, i]\n",
    "    clf = LogisticRegression()\n",
    "    try:\n",
    "        proba, cross_val, cv_score = predict_one_class(X_train, X_test, y_train, clf, n_splits=3)\n",
    "    except:\n",
    "        pass\n",
    "    probas.append(proba)\n",
    "    cross_vals.append(cross_val)\n",
    "    cv_scores.append(cv_score)\n",
    "print ()\n",
    "print(f'TOTAL CV:{np.mean(cv_scores)}')"
   ]
  },
  {
   "cell_type": "code",
   "execution_count": 29,
   "metadata": {},
   "outputs": [
    {
     "name": "stdout",
     "output_type": "stream",
     "text": [
      "\n",
      "TOTAL CV:0.8938800060580677\n"
     ]
    }
   ],
   "source": [
    "Y = section_3_ohe.toarray()\n",
    "\n",
    "X_train, X_test, Y_train, Y_test = train_test_split(TF_X.toarray(), Y, test_size=0.2)\n",
    "\n",
    "cv_scores = []\n",
    "probas = []\n",
    "cross_vals = []\n",
    "\n",
    "columns = Y.shape[1]\n",
    "for i in range(columns):\n",
    "    y_train = Y_train[:, i]\n",
    "    clf = LogisticRegression()\n",
    "    try:\n",
    "        proba, cross_val, cv_score = predict_one_class(X_train, X_test, y_train, clf, n_splits=3, silent=True)  \n",
    "    except ValueError: ## ошибка недостаточного кол-ва примеров\n",
    "        pass\n",
    "    probas.append(proba)\n",
    "    cross_vals.append(cross_val)\n",
    "    cv_scores.append(cv_score)\n",
    "print ()\n",
    "print(f'TOTAL CV:{np.mean(cv_scores)}')"
   ]
  },
  {
   "cell_type": "code",
   "execution_count": 30,
   "metadata": {},
   "outputs": [
    {
     "data": {
      "text/plain": [
       "OneVsRestClassifier(estimator=LogisticRegression(C=1.0, class_weight=None,\n",
       "                                                 dual=False, fit_intercept=True,\n",
       "                                                 intercept_scaling=1,\n",
       "                                                 l1_ratio=None, max_iter=100,\n",
       "                                                 multi_class='auto',\n",
       "                                                 n_jobs=None, penalty='l2',\n",
       "                                                 random_state=None,\n",
       "                                                 solver='lbfgs', tol=0.0001,\n",
       "                                                 verbose=0, warm_start=False),\n",
       "                    n_jobs=None)"
      ]
     },
     "execution_count": 30,
     "metadata": {},
     "output_type": "execute_result"
    }
   ],
   "source": [
    "Y = section_1_ohe.toarray()\n",
    "\n",
    "X_train, X_test, Y_train, Y_test = train_test_split(TF_X.toarray(), Y, test_size=0.2)\n",
    "\n",
    "base_lr = LogisticRegression()\n",
    "section_1_ovr = OneVsRestClassifier(base_lr)\n",
    "section_1_ovr.fit(X_train, Y_train)\n",
    "Y_pred_ovr = section_1_ovr.predict_proba(X_test)\n",
    "\n",
    "section_1_ovr.fit(TF_X.toarray(), Y)"
   ]
  },
  {
   "cell_type": "code",
   "execution_count": 31,
   "metadata": {},
   "outputs": [
    {
     "data": {
      "text/plain": [
       "OneVsRestClassifier(estimator=LogisticRegression(C=1.0, class_weight=None,\n",
       "                                                 dual=False, fit_intercept=True,\n",
       "                                                 intercept_scaling=1,\n",
       "                                                 l1_ratio=None, max_iter=100,\n",
       "                                                 multi_class='auto',\n",
       "                                                 n_jobs=None, penalty='l2',\n",
       "                                                 random_state=None,\n",
       "                                                 solver='lbfgs', tol=0.0001,\n",
       "                                                 verbose=0, warm_start=False),\n",
       "                    n_jobs=None)"
      ]
     },
     "execution_count": 31,
     "metadata": {},
     "output_type": "execute_result"
    }
   ],
   "source": [
    "Y = section_2_ohe.toarray()\n",
    "\n",
    "X_train, X_test, Y_train, Y_test = train_test_split(TF_X.toarray(), Y, test_size=0.1)\n",
    "\n",
    "base_lr = LogisticRegression()\n",
    "section_2_ovr = OneVsRestClassifier(base_lr)\n",
    "section_2_ovr.fit(X_train, Y_train)\n",
    "Y_pred_ovr = section_2_ovr.predict_proba(X_test)\n",
    "\n",
    "section_2_ovr.fit(TF_X.toarray(), Y)"
   ]
  },
  {
   "cell_type": "code",
   "execution_count": 32,
   "metadata": {},
   "outputs": [
    {
     "data": {
      "text/plain": [
       "OneVsRestClassifier(estimator=LogisticRegression(C=1.0, class_weight=None,\n",
       "                                                 dual=False, fit_intercept=True,\n",
       "                                                 intercept_scaling=1,\n",
       "                                                 l1_ratio=None, max_iter=100,\n",
       "                                                 multi_class='auto',\n",
       "                                                 n_jobs=None, penalty='l2',\n",
       "                                                 random_state=None,\n",
       "                                                 solver='lbfgs', tol=0.0001,\n",
       "                                                 verbose=0, warm_start=False),\n",
       "                    n_jobs=None)"
      ]
     },
     "execution_count": 32,
     "metadata": {},
     "output_type": "execute_result"
    }
   ],
   "source": [
    "Y = section_3_ohe.toarray()\n",
    "\n",
    "X_train, X_test, Y_train, Y_test = train_test_split(TF_X.toarray(), Y, test_size=0.1)\n",
    "\n",
    "base_lr = LogisticRegression()\n",
    "section_3_ovr = OneVsRestClassifier(base_lr)\n",
    "section_3_ovr.fit(X_train, Y_train)\n",
    "Y_pred_ovr = section_3_ovr.predict_proba(X_test)\n",
    "\n",
    "section_3_ovr.fit(TF_X.toarray(), Y)"
   ]
  },
  {
   "cell_type": "markdown",
   "metadata": {},
   "source": [
    "## Dumping models"
   ]
  },
  {
   "cell_type": "code",
   "execution_count": 33,
   "metadata": {},
   "outputs": [
    {
     "data": {
      "text/plain": [
       "['section_3_ovr.joblib']"
      ]
     },
     "execution_count": 33,
     "metadata": {},
     "output_type": "execute_result"
    }
   ],
   "source": [
    "dump(section_1_ovr, 'section_1_ovr.joblib')\n",
    "dump(section_2_ovr, 'section_2_ovr.joblib')\n",
    "dump(section_3_ovr, 'section_3_ovr.joblib')"
   ]
  },
  {
   "cell_type": "code",
   "execution_count": 34,
   "metadata": {},
   "outputs": [],
   "source": [
    "def predict_question_classes(text, vectorizer, encoders=[], models=[]):\n",
    "    probable_classes = []\n",
    "    clean_text = preprocess_text(text)\n",
    "    X = [clean_text]\n",
    "    vectorized = vectorizer.transform(X)\n",
    "    for encoder, model in zip(encoders, models):\n",
    "        prediction = model.predict_proba(vectorized)[0]\n",
    "        categories = encoder.categories_[0]\n",
    "        answer = sorted(zip(prediction, categories), reverse=True)[0]\n",
    "        probable_classes.append(f'{answer[1]}: {answer[0]}')\n",
    "    return probable_classes"
   ]
  },
  {
   "cell_type": "code",
   "execution_count": 35,
   "metadata": {},
   "outputs": [
    {
     "data": {
      "text/plain": [
       "['Tasks, Folders, Projects and Spaces: 0.6007777298179908',\n",
       " 'Advanced: 0.09398993974112084',\n",
       " 'Subtasks: 0.011257968911922525']"
      ]
     },
     "execution_count": 35,
     "metadata": {},
     "output_type": "execute_result"
    }
   ],
   "source": [
    "predict_question_classes('are you able to copy/duplicate projects with subtasks?', vectorizer=vectorizer, \n",
    "                         encoders=[section_1_encoder, section_2_encoder, section_3_encoder], \n",
    "                         models=[section_1_ovr, section_2_ovr, section_3_ovr])"
   ]
  },
  {
   "cell_type": "code",
   "execution_count": null,
   "metadata": {},
   "outputs": [],
   "source": []
  }
 ],
 "metadata": {
  "kernelspec": {
   "display_name": "Python 3",
   "language": "python",
   "name": "python3"
  },
  "language_info": {
   "codemirror_mode": {
    "name": "ipython",
    "version": 3
   },
   "file_extension": ".py",
   "mimetype": "text/x-python",
   "name": "python",
   "nbconvert_exporter": "python",
   "pygments_lexer": "ipython3",
   "version": "3.7.6"
  }
 },
 "nbformat": 4,
 "nbformat_minor": 4
}
