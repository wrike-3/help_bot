{
 "cells": [
  {
   "cell_type": "code",
   "execution_count": 1,
   "metadata": {},
   "outputs": [
    {
     "name": "stdout",
     "output_type": "stream",
     "text": [
      "Requirement already satisfied: lxml in /home/alex/anaconda3/lib/python3.7/site-packages (4.2.5)\r\n"
     ]
    }
   ],
   "source": [
    "!pip install lxml"
   ]
  },
  {
   "cell_type": "code",
   "execution_count": 2,
   "metadata": {},
   "outputs": [
    {
     "name": "stdout",
     "output_type": "stream",
     "text": [
      "Requirement already satisfied: bs4 in /home/alex/anaconda3/lib/python3.7/site-packages (0.0.1)\r\n",
      "Requirement already satisfied: beautifulsoup4 in /home/alex/anaconda3/lib/python3.7/site-packages (from bs4) (4.6.3)\r\n"
     ]
    }
   ],
   "source": [
    "!pip install bs4"
   ]
  },
  {
   "cell_type": "code",
   "execution_count": 3,
   "metadata": {},
   "outputs": [],
   "source": [
    "from scrapy.spiders import SitemapSpider"
   ]
  },
  {
   "cell_type": "code",
   "execution_count": 4,
   "metadata": {},
   "outputs": [],
   "source": [
    "from scrapy.spiders import CrawlSpider\n",
    "import scrapy\n",
    "from scrapy.spiders import CrawlSpider, Rule\n",
    "from scrapy.linkextractors import LinkExtractor\n",
    "import gc"
   ]
  },
  {
   "cell_type": "code",
   "execution_count": 5,
   "metadata": {},
   "outputs": [
    {
     "data": {
      "text/plain": [
       "7"
      ]
     },
     "execution_count": 5,
     "metadata": {},
     "output_type": "execute_result"
    }
   ],
   "source": [
    "gc.collect()"
   ]
  },
  {
   "cell_type": "code",
   "execution_count": 6,
   "metadata": {},
   "outputs": [
    {
     "name": "stdout",
     "output_type": "stream",
     "text": [
      "/home/alex/chat_bot_wrike/wrike-bot\r\n"
     ]
    }
   ],
   "source": [
    "!pwd"
   ]
  },
  {
   "cell_type": "code",
   "execution_count": 7,
   "metadata": {},
   "outputs": [
    {
     "data": {
      "text/html": [
       "<div>\n",
       "<style scoped>\n",
       "    .dataframe tbody tr th:only-of-type {\n",
       "        vertical-align: middle;\n",
       "    }\n",
       "\n",
       "    .dataframe tbody tr th {\n",
       "        vertical-align: top;\n",
       "    }\n",
       "\n",
       "    .dataframe thead th {\n",
       "        text-align: right;\n",
       "    }\n",
       "</style>\n",
       "<table border=\"1\" class=\"dataframe\">\n",
       "  <thead>\n",
       "    <tr style=\"text-align: right;\">\n",
       "      <th></th>\n",
       "      <th>section_1</th>\n",
       "      <th>section_3</th>\n",
       "      <th>url_3</th>\n",
       "      <th>section_4</th>\n",
       "      <th>ArticlesUrl</th>\n",
       "      <th>ArticlesUrl_next</th>\n",
       "      <th>section_text</th>\n",
       "      <th>text_len</th>\n",
       "      <th>url_4</th>\n",
       "    </tr>\n",
       "  </thead>\n",
       "  <tbody>\n",
       "    <tr>\n",
       "      <th>0</th>\n",
       "      <td>Getting Started</td>\n",
       "      <td>Step 2: Setting Up Your Workspace</td>\n",
       "      <td>https://help.wrike.com/hc/en-us/articles/21032...</td>\n",
       "      <td>Setting Up Your Profile</td>\n",
       "      <td>settingup</td>\n",
       "      <td>administration</td>\n",
       "      <td>A personalized and up-to-date profile adds a p...</td>\n",
       "      <td>18</td>\n",
       "      <td>https://help.wrike.com/hc/en-us/articles/21032...</td>\n",
       "    </tr>\n",
       "    <tr>\n",
       "      <th>1</th>\n",
       "      <td>Getting Started</td>\n",
       "      <td>Step 2: Setting Up Your Workspace</td>\n",
       "      <td>https://help.wrike.com/hc/en-us/articles/21032...</td>\n",
       "      <td>Basic Account Administration</td>\n",
       "      <td>administration</td>\n",
       "      <td>organazing</td>\n",
       "      <td>Update the account setting that will affect al...</td>\n",
       "      <td>13</td>\n",
       "      <td>https://help.wrike.com/hc/en-us/articles/21032...</td>\n",
       "    </tr>\n",
       "    <tr>\n",
       "      <th>2</th>\n",
       "      <td>Getting Started</td>\n",
       "      <td>Step 2: Setting Up Your Workspace</td>\n",
       "      <td>https://help.wrike.com/hc/en-us/articles/21032...</td>\n",
       "      <td>Organizing Work With Spaces and Folders</td>\n",
       "      <td>organazing</td>\n",
       "      <td>projects</td>\n",
       "      <td>Set up SpacesSpaces are hubs that store all wo...</td>\n",
       "      <td>44</td>\n",
       "      <td>https://help.wrike.com/hc/en-us/articles/21032...</td>\n",
       "    </tr>\n",
       "    <tr>\n",
       "      <th>3</th>\n",
       "      <td>Getting Started</td>\n",
       "      <td>Step 2: Setting Up Your Workspace</td>\n",
       "      <td>https://help.wrike.com/hc/en-us/articles/21032...</td>\n",
       "      <td>Launching New Projects</td>\n",
       "      <td>projects</td>\n",
       "      <td>more</td>\n",
       "      <td>Whether you’re launching a new product, writin...</td>\n",
       "      <td>52</td>\n",
       "      <td>https://help.wrike.com/hc/en-us/articles/21032...</td>\n",
       "    </tr>\n",
       "    <tr>\n",
       "      <th>4</th>\n",
       "      <td>Getting Started</td>\n",
       "      <td>Step 3: Team Onboarding and Collaboration</td>\n",
       "      <td>https://help.wrike.com/hc/en-us/articles/21032...</td>\n",
       "      <td>Team Onboarding</td>\n",
       "      <td>onboarding</td>\n",
       "      <td>change</td>\n",
       "      <td>You’ve spent some time choosing the best solut...</td>\n",
       "      <td>150</td>\n",
       "      <td>https://help.wrike.com/hc/en-us/articles/21032...</td>\n",
       "    </tr>\n",
       "  </tbody>\n",
       "</table>\n",
       "</div>"
      ],
      "text/plain": [
       "         section_1                                  section_3  \\\n",
       "0  Getting Started          Step 2: Setting Up Your Workspace   \n",
       "1  Getting Started          Step 2: Setting Up Your Workspace   \n",
       "2  Getting Started          Step 2: Setting Up Your Workspace   \n",
       "3  Getting Started          Step 2: Setting Up Your Workspace   \n",
       "4  Getting Started  Step 3: Team Onboarding and Collaboration   \n",
       "\n",
       "                                               url_3  \\\n",
       "0  https://help.wrike.com/hc/en-us/articles/21032...   \n",
       "1  https://help.wrike.com/hc/en-us/articles/21032...   \n",
       "2  https://help.wrike.com/hc/en-us/articles/21032...   \n",
       "3  https://help.wrike.com/hc/en-us/articles/21032...   \n",
       "4  https://help.wrike.com/hc/en-us/articles/21032...   \n",
       "\n",
       "                                 section_4     ArticlesUrl ArticlesUrl_next  \\\n",
       "0                  Setting Up Your Profile       settingup   administration   \n",
       "1             Basic Account Administration  administration       organazing   \n",
       "2  Organizing Work With Spaces and Folders      organazing         projects   \n",
       "3                   Launching New Projects        projects             more   \n",
       "4                          Team Onboarding      onboarding           change   \n",
       "\n",
       "                                        section_text  text_len  \\\n",
       "0  A personalized and up-to-date profile adds a p...        18   \n",
       "1  Update the account setting that will affect al...        13   \n",
       "2  Set up SpacesSpaces are hubs that store all wo...        44   \n",
       "3  Whether you’re launching a new product, writin...        52   \n",
       "4  You’ve spent some time choosing the best solut...       150   \n",
       "\n",
       "                                               url_4  \n",
       "0  https://help.wrike.com/hc/en-us/articles/21032...  \n",
       "1  https://help.wrike.com/hc/en-us/articles/21032...  \n",
       "2  https://help.wrike.com/hc/en-us/articles/21032...  \n",
       "3  https://help.wrike.com/hc/en-us/articles/21032...  \n",
       "4  https://help.wrike.com/hc/en-us/articles/21032...  "
      ]
     },
     "execution_count": 7,
     "metadata": {},
     "output_type": "execute_result"
    }
   ],
   "source": [
    "import pandas as pd\n",
    "import re\n",
    "df_help_mine = pd.read_csv(\"help_title_mine.csv\")\n",
    "df_help_mine[\"text\"] = df_help_mine[\"text\"].apply(lambda x:''.join(eval(x)))\n",
    "df_help_mine[\"url_4\"] = df_help_mine[\"url\"] + \"#\" + df_help_mine[\"ArticlesUrl\"]\n",
    "df_help_mine[\"url\"] = df_help_mine[\"url\"].apply(lambda x: re.sub(\"//hc\", \"/hc\", x))\n",
    "df_help_mine[\"url_4\"] = df_help_mine[\"url_4\"].apply(lambda x: re.sub(\"//hc\", \"/hc\", x))\n",
    "df_help_mine = df_help_mine.rename(columns = {\"text\":\"section_text\", \"url\":\"url_3\", \"First_stage\":\"section_1\", \"ArticlesName\":\"section_4\", \"Second_stage\":\"section_3\"})\n",
    "df_help_mine.head()"
   ]
  },
  {
   "cell_type": "code",
   "execution_count": 8,
   "metadata": {},
   "outputs": [],
   "source": [
    "df_mine4 = df_help_mine.set_index(\"url_4\")[\"section_4\"].to_dict()"
   ]
  },
  {
   "cell_type": "code",
   "execution_count": 9,
   "metadata": {},
   "outputs": [
    {
     "data": {
      "text/plain": [
       "1360"
      ]
     },
     "execution_count": 9,
     "metadata": {},
     "output_type": "execute_result"
    }
   ],
   "source": [
    "len(df_mine4)"
   ]
  },
  {
   "cell_type": "code",
   "execution_count": 10,
   "metadata": {},
   "outputs": [
    {
     "data": {
      "text/html": [
       "<div>\n",
       "<style scoped>\n",
       "    .dataframe tbody tr th:only-of-type {\n",
       "        vertical-align: middle;\n",
       "    }\n",
       "\n",
       "    .dataframe tbody tr th {\n",
       "        vertical-align: top;\n",
       "    }\n",
       "\n",
       "    .dataframe thead th {\n",
       "        text-align: right;\n",
       "    }\n",
       "</style>\n",
       "<table border=\"1\" class=\"dataframe\">\n",
       "  <thead>\n",
       "    <tr style=\"text-align: right;\">\n",
       "      <th></th>\n",
       "      <th>section_1</th>\n",
       "      <th>url_1</th>\n",
       "      <th>section_2</th>\n",
       "      <th>url_2</th>\n",
       "      <th>section_3</th>\n",
       "      <th>url_3</th>\n",
       "      <th>section_4</th>\n",
       "      <th>url_4</th>\n",
       "      <th>section_text</th>\n",
       "      <th>keywords</th>\n",
       "      <th>text_len</th>\n",
       "    </tr>\n",
       "  </thead>\n",
       "  <tbody>\n",
       "    <tr>\n",
       "      <th>0</th>\n",
       "      <td>Tasks, Folders, Projects and Spaces</td>\n",
       "      <td>https://help.wrike.com/hc/en-us/categories/200...</td>\n",
       "      <td>Tasks</td>\n",
       "      <td>https://help.wrike.com/hc/en-us/sections/20189...</td>\n",
       "      <td>Tasks</td>\n",
       "      <td>https://help.wrike.com/hc/en-us/articles/20960...</td>\n",
       "      <td>Create a Task</td>\n",
       "      <td>https://help.wrike.com/hc/en-us/articles/20960...</td>\n",
       "      <td>Create a Task\\n\\nSelect a Folder or Project fr...</td>\n",
       "      <td>[]</td>\n",
       "      <td>440.0</td>\n",
       "    </tr>\n",
       "    <tr>\n",
       "      <th>1</th>\n",
       "      <td>Tasks, Folders, Projects and Spaces</td>\n",
       "      <td>https://help.wrike.com/hc/en-us/categories/200...</td>\n",
       "      <td>Tasks</td>\n",
       "      <td>https://help.wrike.com/hc/en-us/sections/20189...</td>\n",
       "      <td>Tasks</td>\n",
       "      <td>https://help.wrike.com/hc/en-us/articles/20960...</td>\n",
       "      <td>Assign a Task</td>\n",
       "      <td>https://help.wrike.com/hc/en-us/articles/20960...</td>\n",
       "      <td>Assign a Task\\nChoose the names of people to w...</td>\n",
       "      <td>['invite a user to Wrike', 'email notification...</td>\n",
       "      <td>1128.0</td>\n",
       "    </tr>\n",
       "    <tr>\n",
       "      <th>2</th>\n",
       "      <td>Tasks, Folders, Projects and Spaces</td>\n",
       "      <td>https://help.wrike.com/hc/en-us/categories/200...</td>\n",
       "      <td>Tasks</td>\n",
       "      <td>https://help.wrike.com/hc/en-us/sections/20189...</td>\n",
       "      <td>Tasks</td>\n",
       "      <td>https://help.wrike.com/hc/en-us/articles/20960...</td>\n",
       "      <td>Schedule a Task</td>\n",
       "      <td>https://help.wrike.com/hc/en-us/articles/20960...</td>\n",
       "      <td>Schedule a Task\\nIn the List view, you can set...</td>\n",
       "      <td>['Wrike for Professional Services', 'Wrike Res...</td>\n",
       "      <td>1131.0</td>\n",
       "    </tr>\n",
       "    <tr>\n",
       "      <th>3</th>\n",
       "      <td>Tasks, Folders, Projects and Spaces</td>\n",
       "      <td>https://help.wrike.com/hc/en-us/categories/200...</td>\n",
       "      <td>Tasks</td>\n",
       "      <td>https://help.wrike.com/hc/en-us/sections/20189...</td>\n",
       "      <td>Tasks</td>\n",
       "      <td>https://help.wrike.com/hc/en-us/articles/20960...</td>\n",
       "      <td>Tag a Task (Organize Tasks into Folders)</td>\n",
       "      <td>https://help.wrike.com/hc/en-us/articles/20960...</td>\n",
       "      <td>Tag a Task (Organize Tasks into Folders)\\nWhen...</td>\n",
       "      <td>['mass actions']</td>\n",
       "      <td>1008.0</td>\n",
       "    </tr>\n",
       "    <tr>\n",
       "      <th>4</th>\n",
       "      <td>Tasks, Folders, Projects and Spaces</td>\n",
       "      <td>https://help.wrike.com/hc/en-us/categories/200...</td>\n",
       "      <td>Tasks</td>\n",
       "      <td>https://help.wrike.com/hc/en-us/sections/20189...</td>\n",
       "      <td>Tasks</td>\n",
       "      <td>https://help.wrike.com/hc/en-us/articles/20960...</td>\n",
       "      <td>Follow a Task</td>\n",
       "      <td>https://help.wrike.com/hc/en-us/articles/20960...</td>\n",
       "      <td>Follow a Task\\nFollowing a task is a great way...</td>\n",
       "      <td>['Activity Stream', 'instant email notificatio...</td>\n",
       "      <td>1040.0</td>\n",
       "    </tr>\n",
       "  </tbody>\n",
       "</table>\n",
       "</div>"
      ],
      "text/plain": [
       "                             section_1  \\\n",
       "0  Tasks, Folders, Projects and Spaces   \n",
       "1  Tasks, Folders, Projects and Spaces   \n",
       "2  Tasks, Folders, Projects and Spaces   \n",
       "3  Tasks, Folders, Projects and Spaces   \n",
       "4  Tasks, Folders, Projects and Spaces   \n",
       "\n",
       "                                               url_1 section_2  \\\n",
       "0  https://help.wrike.com/hc/en-us/categories/200...     Tasks   \n",
       "1  https://help.wrike.com/hc/en-us/categories/200...     Tasks   \n",
       "2  https://help.wrike.com/hc/en-us/categories/200...     Tasks   \n",
       "3  https://help.wrike.com/hc/en-us/categories/200...     Tasks   \n",
       "4  https://help.wrike.com/hc/en-us/categories/200...     Tasks   \n",
       "\n",
       "                                               url_2 section_3  \\\n",
       "0  https://help.wrike.com/hc/en-us/sections/20189...     Tasks   \n",
       "1  https://help.wrike.com/hc/en-us/sections/20189...     Tasks   \n",
       "2  https://help.wrike.com/hc/en-us/sections/20189...     Tasks   \n",
       "3  https://help.wrike.com/hc/en-us/sections/20189...     Tasks   \n",
       "4  https://help.wrike.com/hc/en-us/sections/20189...     Tasks   \n",
       "\n",
       "                                               url_3  \\\n",
       "0  https://help.wrike.com/hc/en-us/articles/20960...   \n",
       "1  https://help.wrike.com/hc/en-us/articles/20960...   \n",
       "2  https://help.wrike.com/hc/en-us/articles/20960...   \n",
       "3  https://help.wrike.com/hc/en-us/articles/20960...   \n",
       "4  https://help.wrike.com/hc/en-us/articles/20960...   \n",
       "\n",
       "                                  section_4  \\\n",
       "0                             Create a Task   \n",
       "1                             Assign a Task   \n",
       "2                           Schedule a Task   \n",
       "3  Tag a Task (Organize Tasks into Folders)   \n",
       "4                             Follow a Task   \n",
       "\n",
       "                                               url_4  \\\n",
       "0  https://help.wrike.com/hc/en-us/articles/20960...   \n",
       "1  https://help.wrike.com/hc/en-us/articles/20960...   \n",
       "2  https://help.wrike.com/hc/en-us/articles/20960...   \n",
       "3  https://help.wrike.com/hc/en-us/articles/20960...   \n",
       "4  https://help.wrike.com/hc/en-us/articles/20960...   \n",
       "\n",
       "                                        section_text  \\\n",
       "0  Create a Task\\n\\nSelect a Folder or Project fr...   \n",
       "1  Assign a Task\\nChoose the names of people to w...   \n",
       "2  Schedule a Task\\nIn the List view, you can set...   \n",
       "3  Tag a Task (Organize Tasks into Folders)\\nWhen...   \n",
       "4  Follow a Task\\nFollowing a task is a great way...   \n",
       "\n",
       "                                            keywords  text_len  \n",
       "0                                                 []     440.0  \n",
       "1  ['invite a user to Wrike', 'email notification...    1128.0  \n",
       "2  ['Wrike for Professional Services', 'Wrike Res...    1131.0  \n",
       "3                                   ['mass actions']    1008.0  \n",
       "4  ['Activity Stream', 'instant email notificatio...    1040.0  "
      ]
     },
     "execution_count": 10,
     "metadata": {},
     "output_type": "execute_result"
    }
   ],
   "source": [
    "import pandas as pd\n",
    "import re\n",
    "df_help2 = pd.read_csv(\"help_title_v2.csv\")\n",
    "df_help2.head()"
   ]
  },
  {
   "cell_type": "code",
   "execution_count": 11,
   "metadata": {},
   "outputs": [],
   "source": [
    "df_help2[\"source\"] = \"from_amir\""
   ]
  },
  {
   "cell_type": "code",
   "execution_count": 12,
   "metadata": {},
   "outputs": [
    {
     "data": {
      "text/html": [
       "<div>\n",
       "<style scoped>\n",
       "    .dataframe tbody tr th:only-of-type {\n",
       "        vertical-align: middle;\n",
       "    }\n",
       "\n",
       "    .dataframe tbody tr th {\n",
       "        vertical-align: top;\n",
       "    }\n",
       "\n",
       "    .dataframe thead th {\n",
       "        text-align: right;\n",
       "    }\n",
       "</style>\n",
       "<table border=\"1\" class=\"dataframe\">\n",
       "  <thead>\n",
       "    <tr style=\"text-align: right;\">\n",
       "      <th></th>\n",
       "      <th>url_1</th>\n",
       "      <th>url_2</th>\n",
       "      <th>list1</th>\n",
       "    </tr>\n",
       "    <tr>\n",
       "      <th>url_3</th>\n",
       "      <th></th>\n",
       "      <th></th>\n",
       "      <th></th>\n",
       "    </tr>\n",
       "  </thead>\n",
       "  <tbody>\n",
       "    <tr>\n",
       "      <th>https://help.wrike.com/hc/en-us/articles/115000193205-Board-View</th>\n",
       "      <td>https://help.wrike.com/hc/en-us/categories/200...</td>\n",
       "      <td>https://help.wrike.com/hc/en-us/sections/20183...</td>\n",
       "      <td>[https://help.wrike.com/hc/en-us/categories/20...</td>\n",
       "    </tr>\n",
       "    <tr>\n",
       "      <th>https://help.wrike.com/hc/en-us/articles/115000711329-Step-1-Learning-the-Fundamentals</th>\n",
       "      <td>https://help.wrike.com/hc/en-us/categories/201...</td>\n",
       "      <td>https://help.wrike.com/hc/en-us/categories/201...</td>\n",
       "      <td>[https://help.wrike.com/hc/en-us/categories/20...</td>\n",
       "    </tr>\n",
       "    <tr>\n",
       "      <th>https://help.wrike.com/hc/en-us/articles/115001778165-Project-Wizard-and-Default-View-Picker</th>\n",
       "      <td>https://help.wrike.com/hc/en-us/categories/200...</td>\n",
       "      <td>https://help.wrike.com/hc/en-us/sections/20183...</td>\n",
       "      <td>[https://help.wrike.com/hc/en-us/categories/20...</td>\n",
       "    </tr>\n",
       "    <tr>\n",
       "      <th>https://help.wrike.com/hc/en-us/articles/115001825869-Microsoft-Teams</th>\n",
       "      <td>https://help.wrike.com/hc/en-us/categories/200...</td>\n",
       "      <td>https://help.wrike.com/hc/en-us/sections/20242...</td>\n",
       "      <td>[https://help.wrike.com/hc/en-us/categories/20...</td>\n",
       "    </tr>\n",
       "    <tr>\n",
       "      <th>https://help.wrike.com/hc/en-us/articles/115002135505-Add-and-Edit-Billing-Information</th>\n",
       "      <td>https://help.wrike.com/hc/en-us/categories/200...</td>\n",
       "      <td>https://help.wrike.com/hc/en-us/sections/20188...</td>\n",
       "      <td>[https://help.wrike.com/hc/en-us/categories/20...</td>\n",
       "    </tr>\n",
       "  </tbody>\n",
       "</table>\n",
       "</div>"
      ],
      "text/plain": [
       "                                                                                                url_1  \\\n",
       "url_3                                                                                                   \n",
       "https://help.wrike.com/hc/en-us/articles/115000...  https://help.wrike.com/hc/en-us/categories/200...   \n",
       "https://help.wrike.com/hc/en-us/articles/115000...  https://help.wrike.com/hc/en-us/categories/201...   \n",
       "https://help.wrike.com/hc/en-us/articles/115001...  https://help.wrike.com/hc/en-us/categories/200...   \n",
       "https://help.wrike.com/hc/en-us/articles/115001...  https://help.wrike.com/hc/en-us/categories/200...   \n",
       "https://help.wrike.com/hc/en-us/articles/115002...  https://help.wrike.com/hc/en-us/categories/200...   \n",
       "\n",
       "                                                                                                url_2  \\\n",
       "url_3                                                                                                   \n",
       "https://help.wrike.com/hc/en-us/articles/115000...  https://help.wrike.com/hc/en-us/sections/20183...   \n",
       "https://help.wrike.com/hc/en-us/articles/115000...  https://help.wrike.com/hc/en-us/categories/201...   \n",
       "https://help.wrike.com/hc/en-us/articles/115001...  https://help.wrike.com/hc/en-us/sections/20183...   \n",
       "https://help.wrike.com/hc/en-us/articles/115001...  https://help.wrike.com/hc/en-us/sections/20242...   \n",
       "https://help.wrike.com/hc/en-us/articles/115002...  https://help.wrike.com/hc/en-us/sections/20188...   \n",
       "\n",
       "                                                                                                list1  \n",
       "url_3                                                                                                  \n",
       "https://help.wrike.com/hc/en-us/articles/115000...  [https://help.wrike.com/hc/en-us/categories/20...  \n",
       "https://help.wrike.com/hc/en-us/articles/115000...  [https://help.wrike.com/hc/en-us/categories/20...  \n",
       "https://help.wrike.com/hc/en-us/articles/115001...  [https://help.wrike.com/hc/en-us/categories/20...  \n",
       "https://help.wrike.com/hc/en-us/articles/115001...  [https://help.wrike.com/hc/en-us/categories/20...  \n",
       "https://help.wrike.com/hc/en-us/articles/115002...  [https://help.wrike.com/hc/en-us/categories/20...  "
      ]
     },
     "execution_count": 12,
     "metadata": {},
     "output_type": "execute_result"
    }
   ],
   "source": [
    "df_url3 = df_help2.groupby(\"url_3\")[[\"url_1\", \"url_2\"]].first()\n",
    "df_url3[\"list1\"] = df_url3.apply(lambda x: [x[\"url_1\"], x[\"url_2\"]], axis = 1)\n",
    "df_url3.head()"
   ]
  },
  {
   "cell_type": "code",
   "execution_count": 13,
   "metadata": {},
   "outputs": [],
   "source": [
    "d_url3 = df_url3[\"list1\"].to_dict()"
   ]
  },
  {
   "cell_type": "code",
   "execution_count": 14,
   "metadata": {},
   "outputs": [
    {
     "data": {
      "text/plain": [
       "(1272, 12)"
      ]
     },
     "execution_count": 14,
     "metadata": {},
     "output_type": "execute_result"
    }
   ],
   "source": [
    "df_help2.shape"
   ]
  },
  {
   "cell_type": "code",
   "execution_count": 15,
   "metadata": {},
   "outputs": [],
   "source": [
    "for i in [\"url_4\", \"url_3\", \"url_2\" ,\"url_1\"]:\n",
    "    df_help2[i] = df_help2[i].apply(lambda x: re.sub(\" \", \"\", x))"
   ]
  },
  {
   "cell_type": "code",
   "execution_count": 16,
   "metadata": {},
   "outputs": [],
   "source": [
    "d_all_data = {}\n",
    "d4 = df_help2.set_index(\"url_4\")[\"section_4\"].to_dict()\n",
    "d3 = df_help2.set_index(\"url_3\")[\"section_3\"].to_dict()\n",
    "d2 = df_help2.set_index(\"url_2\")[\"section_2\"].to_dict()\n",
    "d1 = df_help2.set_index(\"url_1\")[\"section_1\"].to_dict()\n",
    "d_all_data = {**d1,**d2,**d3,**d4}"
   ]
  },
  {
   "cell_type": "code",
   "execution_count": 17,
   "metadata": {},
   "outputs": [],
   "source": [
    "#d3"
   ]
  },
  {
   "cell_type": "code",
   "execution_count": 18,
   "metadata": {},
   "outputs": [],
   "source": [
    "#d2"
   ]
  },
  {
   "cell_type": "code",
   "execution_count": 19,
   "metadata": {},
   "outputs": [],
   "source": [
    "#re.sub(\"https://help.wrike.com/hc/en-us/sections\", \"https://help.wrike.com/hc/en-us/articles\", s2)"
   ]
  },
  {
   "cell_type": "code",
   "execution_count": 20,
   "metadata": {},
   "outputs": [],
   "source": [
    "#s3 = 'https://help.wrike.com/hc/en-us/articles/209603709-Tasks'"
   ]
  },
  {
   "cell_type": "code",
   "execution_count": 21,
   "metadata": {},
   "outputs": [],
   "source": [
    "d4_mine = df_help_mine.set_index(\"url_4\")[\"section_4\"].to_dict()"
   ]
  },
  {
   "cell_type": "code",
   "execution_count": 22,
   "metadata": {},
   "outputs": [
    {
     "data": {
      "text/plain": [
       "1360"
      ]
     },
     "execution_count": 22,
     "metadata": {},
     "output_type": "execute_result"
    }
   ],
   "source": [
    "len(d4_mine)"
   ]
  },
  {
   "cell_type": "code",
   "execution_count": 23,
   "metadata": {},
   "outputs": [],
   "source": [
    "d_all_data = {**d_all_data, **d4_mine}"
   ]
  },
  {
   "cell_type": "code",
   "execution_count": 24,
   "metadata": {},
   "outputs": [
    {
     "data": {
      "text/plain": [
       "1669"
      ]
     },
     "execution_count": 24,
     "metadata": {},
     "output_type": "execute_result"
    }
   ],
   "source": [
    "len(d_all_data)"
   ]
  },
  {
   "cell_type": "code",
   "execution_count": 25,
   "metadata": {},
   "outputs": [
    {
     "data": {
      "text/plain": [
       "(9, 34, 240, 1109)"
      ]
     },
     "execution_count": 25,
     "metadata": {},
     "output_type": "execute_result"
    }
   ],
   "source": [
    "len(d1), len(d2), len(d3), len(d4)"
   ]
  },
  {
   "cell_type": "code",
   "execution_count": 26,
   "metadata": {},
   "outputs": [
    {
     "data": {
      "text/html": [
       "<div>\n",
       "<style scoped>\n",
       "    .dataframe tbody tr th:only-of-type {\n",
       "        vertical-align: middle;\n",
       "    }\n",
       "\n",
       "    .dataframe tbody tr th {\n",
       "        vertical-align: top;\n",
       "    }\n",
       "\n",
       "    .dataframe thead th {\n",
       "        text-align: right;\n",
       "    }\n",
       "</style>\n",
       "<table border=\"1\" class=\"dataframe\">\n",
       "  <thead>\n",
       "    <tr style=\"text-align: right;\">\n",
       "      <th></th>\n",
       "      <th>section_1</th>\n",
       "      <th>url_1</th>\n",
       "      <th>section_2</th>\n",
       "      <th>url_2</th>\n",
       "      <th>section_3</th>\n",
       "      <th>url_3</th>\n",
       "      <th>section_4</th>\n",
       "      <th>url_4</th>\n",
       "      <th>section_text</th>\n",
       "      <th>keywords</th>\n",
       "      <th>text_len</th>\n",
       "      <th>source</th>\n",
       "    </tr>\n",
       "  </thead>\n",
       "  <tbody>\n",
       "    <tr>\n",
       "      <th>0</th>\n",
       "      <td>Tasks, Folders, Projects and Spaces</td>\n",
       "      <td>https://help.wrike.com/hc/en-us/categories/200...</td>\n",
       "      <td>Tasks</td>\n",
       "      <td>https://help.wrike.com/hc/en-us/sections/20189...</td>\n",
       "      <td>Tasks</td>\n",
       "      <td>https://help.wrike.com/hc/en-us/articles/20960...</td>\n",
       "      <td>Create a Task</td>\n",
       "      <td>https://help.wrike.com/hc/en-us/articles/20960...</td>\n",
       "      <td>Create a Task\\n\\nSelect a Folder or Project fr...</td>\n",
       "      <td>[]</td>\n",
       "      <td>440.0</td>\n",
       "      <td>from_amir</td>\n",
       "    </tr>\n",
       "    <tr>\n",
       "      <th>1</th>\n",
       "      <td>Tasks, Folders, Projects and Spaces</td>\n",
       "      <td>https://help.wrike.com/hc/en-us/categories/200...</td>\n",
       "      <td>Tasks</td>\n",
       "      <td>https://help.wrike.com/hc/en-us/sections/20189...</td>\n",
       "      <td>Tasks</td>\n",
       "      <td>https://help.wrike.com/hc/en-us/articles/20960...</td>\n",
       "      <td>Assign a Task</td>\n",
       "      <td>https://help.wrike.com/hc/en-us/articles/20960...</td>\n",
       "      <td>Assign a Task\\nChoose the names of people to w...</td>\n",
       "      <td>['invite a user to Wrike', 'email notification...</td>\n",
       "      <td>1128.0</td>\n",
       "      <td>from_amir</td>\n",
       "    </tr>\n",
       "    <tr>\n",
       "      <th>2</th>\n",
       "      <td>Tasks, Folders, Projects and Spaces</td>\n",
       "      <td>https://help.wrike.com/hc/en-us/categories/200...</td>\n",
       "      <td>Tasks</td>\n",
       "      <td>https://help.wrike.com/hc/en-us/sections/20189...</td>\n",
       "      <td>Tasks</td>\n",
       "      <td>https://help.wrike.com/hc/en-us/articles/20960...</td>\n",
       "      <td>Schedule a Task</td>\n",
       "      <td>https://help.wrike.com/hc/en-us/articles/20960...</td>\n",
       "      <td>Schedule a Task\\nIn the List view, you can set...</td>\n",
       "      <td>['Wrike for Professional Services', 'Wrike Res...</td>\n",
       "      <td>1131.0</td>\n",
       "      <td>from_amir</td>\n",
       "    </tr>\n",
       "    <tr>\n",
       "      <th>3</th>\n",
       "      <td>Tasks, Folders, Projects and Spaces</td>\n",
       "      <td>https://help.wrike.com/hc/en-us/categories/200...</td>\n",
       "      <td>Tasks</td>\n",
       "      <td>https://help.wrike.com/hc/en-us/sections/20189...</td>\n",
       "      <td>Tasks</td>\n",
       "      <td>https://help.wrike.com/hc/en-us/articles/20960...</td>\n",
       "      <td>Tag a Task (Organize Tasks into Folders)</td>\n",
       "      <td>https://help.wrike.com/hc/en-us/articles/20960...</td>\n",
       "      <td>Tag a Task (Organize Tasks into Folders)\\nWhen...</td>\n",
       "      <td>['mass actions']</td>\n",
       "      <td>1008.0</td>\n",
       "      <td>from_amir</td>\n",
       "    </tr>\n",
       "    <tr>\n",
       "      <th>4</th>\n",
       "      <td>Tasks, Folders, Projects and Spaces</td>\n",
       "      <td>https://help.wrike.com/hc/en-us/categories/200...</td>\n",
       "      <td>Tasks</td>\n",
       "      <td>https://help.wrike.com/hc/en-us/sections/20189...</td>\n",
       "      <td>Tasks</td>\n",
       "      <td>https://help.wrike.com/hc/en-us/articles/20960...</td>\n",
       "      <td>Follow a Task</td>\n",
       "      <td>https://help.wrike.com/hc/en-us/articles/20960...</td>\n",
       "      <td>Follow a Task\\nFollowing a task is a great way...</td>\n",
       "      <td>['Activity Stream', 'instant email notificatio...</td>\n",
       "      <td>1040.0</td>\n",
       "      <td>from_amir</td>\n",
       "    </tr>\n",
       "  </tbody>\n",
       "</table>\n",
       "</div>"
      ],
      "text/plain": [
       "                             section_1  \\\n",
       "0  Tasks, Folders, Projects and Spaces   \n",
       "1  Tasks, Folders, Projects and Spaces   \n",
       "2  Tasks, Folders, Projects and Spaces   \n",
       "3  Tasks, Folders, Projects and Spaces   \n",
       "4  Tasks, Folders, Projects and Spaces   \n",
       "\n",
       "                                               url_1 section_2  \\\n",
       "0  https://help.wrike.com/hc/en-us/categories/200...     Tasks   \n",
       "1  https://help.wrike.com/hc/en-us/categories/200...     Tasks   \n",
       "2  https://help.wrike.com/hc/en-us/categories/200...     Tasks   \n",
       "3  https://help.wrike.com/hc/en-us/categories/200...     Tasks   \n",
       "4  https://help.wrike.com/hc/en-us/categories/200...     Tasks   \n",
       "\n",
       "                                               url_2 section_3  \\\n",
       "0  https://help.wrike.com/hc/en-us/sections/20189...     Tasks   \n",
       "1  https://help.wrike.com/hc/en-us/sections/20189...     Tasks   \n",
       "2  https://help.wrike.com/hc/en-us/sections/20189...     Tasks   \n",
       "3  https://help.wrike.com/hc/en-us/sections/20189...     Tasks   \n",
       "4  https://help.wrike.com/hc/en-us/sections/20189...     Tasks   \n",
       "\n",
       "                                               url_3  \\\n",
       "0  https://help.wrike.com/hc/en-us/articles/20960...   \n",
       "1  https://help.wrike.com/hc/en-us/articles/20960...   \n",
       "2  https://help.wrike.com/hc/en-us/articles/20960...   \n",
       "3  https://help.wrike.com/hc/en-us/articles/20960...   \n",
       "4  https://help.wrike.com/hc/en-us/articles/20960...   \n",
       "\n",
       "                                  section_4  \\\n",
       "0                             Create a Task   \n",
       "1                             Assign a Task   \n",
       "2                           Schedule a Task   \n",
       "3  Tag a Task (Organize Tasks into Folders)   \n",
       "4                             Follow a Task   \n",
       "\n",
       "                                               url_4  \\\n",
       "0  https://help.wrike.com/hc/en-us/articles/20960...   \n",
       "1  https://help.wrike.com/hc/en-us/articles/20960...   \n",
       "2  https://help.wrike.com/hc/en-us/articles/20960...   \n",
       "3  https://help.wrike.com/hc/en-us/articles/20960...   \n",
       "4  https://help.wrike.com/hc/en-us/articles/20960...   \n",
       "\n",
       "                                        section_text  \\\n",
       "0  Create a Task\\n\\nSelect a Folder or Project fr...   \n",
       "1  Assign a Task\\nChoose the names of people to w...   \n",
       "2  Schedule a Task\\nIn the List view, you can set...   \n",
       "3  Tag a Task (Organize Tasks into Folders)\\nWhen...   \n",
       "4  Follow a Task\\nFollowing a task is a great way...   \n",
       "\n",
       "                                            keywords  text_len     source  \n",
       "0                                                 []     440.0  from_amir  \n",
       "1  ['invite a user to Wrike', 'email notification...    1128.0  from_amir  \n",
       "2  ['Wrike for Professional Services', 'Wrike Res...    1131.0  from_amir  \n",
       "3                                   ['mass actions']    1008.0  from_amir  \n",
       "4  ['Activity Stream', 'instant email notificatio...    1040.0  from_amir  "
      ]
     },
     "execution_count": 26,
     "metadata": {},
     "output_type": "execute_result"
    }
   ],
   "source": [
    "df_help2.head()"
   ]
  },
  {
   "cell_type": "markdown",
   "metadata": {},
   "source": [
    "### df_help_mine change "
   ]
  },
  {
   "cell_type": "code",
   "execution_count": 27,
   "metadata": {},
   "outputs": [],
   "source": [
    "df_help_mine[\"url_1\"] = df_help_mine[\"url_3\"].apply(lambda x: x.split(\"#\")[0]).map(d_url3)\n",
    "df_help_mine.dropna(subset = [\"url_1\"], inplace=True)"
   ]
  },
  {
   "cell_type": "code",
   "execution_count": 28,
   "metadata": {},
   "outputs": [],
   "source": [
    "df_help_mine[\"url_1\"] = df_help_mine[\"url_3\"].apply(lambda x: x.split(\"#\")[0]).map(d_url3).apply(lambda x: x[0] )\n",
    "df_help_mine[\"url_2\"] = df_help_mine[\"url_3\"].apply(lambda x: x.split(\"#\")[0]).map(d_url3).apply(lambda x: x[-1])"
   ]
  },
  {
   "cell_type": "code",
   "execution_count": 29,
   "metadata": {},
   "outputs": [],
   "source": [
    "df_help_mine[\"section_1\"] = df_help_mine[\"url_1\"].map(d_all_data)\n",
    "df_help_mine[\"section_2\"] = df_help_mine[\"url_2\"].map(d_all_data)\n",
    "df_help_mine[\"section_3\"] = df_help_mine[\"url_3\"].map(d_all_data)\n",
    "df_help_mine[\"section_4\"] = df_help_mine[\"url_4\"].map(d_all_data)"
   ]
  },
  {
   "cell_type": "code",
   "execution_count": 30,
   "metadata": {},
   "outputs": [],
   "source": [
    "df_help_mine[\"source\"] =  \"from_alex\""
   ]
  },
  {
   "cell_type": "code",
   "execution_count": 31,
   "metadata": {},
   "outputs": [],
   "source": [
    "df_help_mine = df_help_mine[df_help_mine.text_len > 2].reset_index(drop = True)"
   ]
  },
  {
   "cell_type": "code",
   "execution_count": 32,
   "metadata": {},
   "outputs": [
    {
     "data": {
      "text/plain": [
       "(1093, 13)"
      ]
     },
     "execution_count": 32,
     "metadata": {},
     "output_type": "execute_result"
    }
   ],
   "source": [
    "df_help_mine.shape"
   ]
  },
  {
   "cell_type": "code",
   "execution_count": 33,
   "metadata": {},
   "outputs": [
    {
     "data": {
      "text/html": [
       "<div>\n",
       "<style scoped>\n",
       "    .dataframe tbody tr th:only-of-type {\n",
       "        vertical-align: middle;\n",
       "    }\n",
       "\n",
       "    .dataframe tbody tr th {\n",
       "        vertical-align: top;\n",
       "    }\n",
       "\n",
       "    .dataframe thead th {\n",
       "        text-align: right;\n",
       "    }\n",
       "</style>\n",
       "<table border=\"1\" class=\"dataframe\">\n",
       "  <thead>\n",
       "    <tr style=\"text-align: right;\">\n",
       "      <th></th>\n",
       "      <th>section_1</th>\n",
       "      <th>section_3</th>\n",
       "      <th>url_3</th>\n",
       "      <th>section_4</th>\n",
       "      <th>ArticlesUrl</th>\n",
       "      <th>ArticlesUrl_next</th>\n",
       "      <th>section_text</th>\n",
       "      <th>text_len</th>\n",
       "      <th>url_4</th>\n",
       "      <th>url_1</th>\n",
       "      <th>url_2</th>\n",
       "      <th>section_2</th>\n",
       "      <th>source</th>\n",
       "    </tr>\n",
       "  </thead>\n",
       "  <tbody>\n",
       "    <tr>\n",
       "      <th>0</th>\n",
       "      <td>Team Member Guide (for account users)</td>\n",
       "      <td>Step 2: Setting Up Your Workspace</td>\n",
       "      <td>https://help.wrike.com/hc/en-us/articles/21032...</td>\n",
       "      <td>Setting Up Your Profile</td>\n",
       "      <td>settingup</td>\n",
       "      <td>administration</td>\n",
       "      <td>A personalized and up-to-date profile adds a p...</td>\n",
       "      <td>18</td>\n",
       "      <td>https://help.wrike.com/hc/en-us/articles/21032...</td>\n",
       "      <td>https://help.wrike.com/hc/en-us/categories/201...</td>\n",
       "      <td>https://help.wrike.com/hc/en-us/categories/201...</td>\n",
       "      <td>Team Member Guide (for account users)</td>\n",
       "      <td>from_alex</td>\n",
       "    </tr>\n",
       "    <tr>\n",
       "      <th>1</th>\n",
       "      <td>Team Member Guide (for account users)</td>\n",
       "      <td>Step 2: Setting Up Your Workspace</td>\n",
       "      <td>https://help.wrike.com/hc/en-us/articles/21032...</td>\n",
       "      <td>Basic Account Administration</td>\n",
       "      <td>administration</td>\n",
       "      <td>organazing</td>\n",
       "      <td>Update the account setting that will affect al...</td>\n",
       "      <td>13</td>\n",
       "      <td>https://help.wrike.com/hc/en-us/articles/21032...</td>\n",
       "      <td>https://help.wrike.com/hc/en-us/categories/201...</td>\n",
       "      <td>https://help.wrike.com/hc/en-us/categories/201...</td>\n",
       "      <td>Team Member Guide (for account users)</td>\n",
       "      <td>from_alex</td>\n",
       "    </tr>\n",
       "    <tr>\n",
       "      <th>2</th>\n",
       "      <td>Team Member Guide (for account users)</td>\n",
       "      <td>Step 2: Setting Up Your Workspace</td>\n",
       "      <td>https://help.wrike.com/hc/en-us/articles/21032...</td>\n",
       "      <td>Organizing Work With Spaces and Folders</td>\n",
       "      <td>organazing</td>\n",
       "      <td>projects</td>\n",
       "      <td>Set up SpacesSpaces are hubs that store all wo...</td>\n",
       "      <td>44</td>\n",
       "      <td>https://help.wrike.com/hc/en-us/articles/21032...</td>\n",
       "      <td>https://help.wrike.com/hc/en-us/categories/201...</td>\n",
       "      <td>https://help.wrike.com/hc/en-us/categories/201...</td>\n",
       "      <td>Team Member Guide (for account users)</td>\n",
       "      <td>from_alex</td>\n",
       "    </tr>\n",
       "    <tr>\n",
       "      <th>3</th>\n",
       "      <td>Team Member Guide (for account users)</td>\n",
       "      <td>Step 2: Setting Up Your Workspace</td>\n",
       "      <td>https://help.wrike.com/hc/en-us/articles/21032...</td>\n",
       "      <td>Launching New Projects</td>\n",
       "      <td>projects</td>\n",
       "      <td>more</td>\n",
       "      <td>Whether you’re launching a new product, writin...</td>\n",
       "      <td>52</td>\n",
       "      <td>https://help.wrike.com/hc/en-us/articles/21032...</td>\n",
       "      <td>https://help.wrike.com/hc/en-us/categories/201...</td>\n",
       "      <td>https://help.wrike.com/hc/en-us/categories/201...</td>\n",
       "      <td>Team Member Guide (for account users)</td>\n",
       "      <td>from_alex</td>\n",
       "    </tr>\n",
       "    <tr>\n",
       "      <th>4</th>\n",
       "      <td>Team Member Guide (for account users)</td>\n",
       "      <td>Step 3: Team Onboarding and Collaboration</td>\n",
       "      <td>https://help.wrike.com/hc/en-us/articles/21032...</td>\n",
       "      <td>Team Onboarding</td>\n",
       "      <td>onboarding</td>\n",
       "      <td>change</td>\n",
       "      <td>You’ve spent some time choosing the best solut...</td>\n",
       "      <td>150</td>\n",
       "      <td>https://help.wrike.com/hc/en-us/articles/21032...</td>\n",
       "      <td>https://help.wrike.com/hc/en-us/categories/201...</td>\n",
       "      <td>https://help.wrike.com/hc/en-us/categories/201...</td>\n",
       "      <td>Team Member Guide (for account users)</td>\n",
       "      <td>from_alex</td>\n",
       "    </tr>\n",
       "  </tbody>\n",
       "</table>\n",
       "</div>"
      ],
      "text/plain": [
       "                               section_1  \\\n",
       "0  Team Member Guide (for account users)   \n",
       "1  Team Member Guide (for account users)   \n",
       "2  Team Member Guide (for account users)   \n",
       "3  Team Member Guide (for account users)   \n",
       "4  Team Member Guide (for account users)   \n",
       "\n",
       "                                   section_3  \\\n",
       "0          Step 2: Setting Up Your Workspace   \n",
       "1          Step 2: Setting Up Your Workspace   \n",
       "2          Step 2: Setting Up Your Workspace   \n",
       "3          Step 2: Setting Up Your Workspace   \n",
       "4  Step 3: Team Onboarding and Collaboration   \n",
       "\n",
       "                                               url_3  \\\n",
       "0  https://help.wrike.com/hc/en-us/articles/21032...   \n",
       "1  https://help.wrike.com/hc/en-us/articles/21032...   \n",
       "2  https://help.wrike.com/hc/en-us/articles/21032...   \n",
       "3  https://help.wrike.com/hc/en-us/articles/21032...   \n",
       "4  https://help.wrike.com/hc/en-us/articles/21032...   \n",
       "\n",
       "                                 section_4     ArticlesUrl ArticlesUrl_next  \\\n",
       "0                  Setting Up Your Profile       settingup   administration   \n",
       "1             Basic Account Administration  administration       organazing   \n",
       "2  Organizing Work With Spaces and Folders      organazing         projects   \n",
       "3                   Launching New Projects        projects             more   \n",
       "4                          Team Onboarding      onboarding           change   \n",
       "\n",
       "                                        section_text  text_len  \\\n",
       "0  A personalized and up-to-date profile adds a p...        18   \n",
       "1  Update the account setting that will affect al...        13   \n",
       "2  Set up SpacesSpaces are hubs that store all wo...        44   \n",
       "3  Whether you’re launching a new product, writin...        52   \n",
       "4  You’ve spent some time choosing the best solut...       150   \n",
       "\n",
       "                                               url_4  \\\n",
       "0  https://help.wrike.com/hc/en-us/articles/21032...   \n",
       "1  https://help.wrike.com/hc/en-us/articles/21032...   \n",
       "2  https://help.wrike.com/hc/en-us/articles/21032...   \n",
       "3  https://help.wrike.com/hc/en-us/articles/21032...   \n",
       "4  https://help.wrike.com/hc/en-us/articles/21032...   \n",
       "\n",
       "                                               url_1  \\\n",
       "0  https://help.wrike.com/hc/en-us/categories/201...   \n",
       "1  https://help.wrike.com/hc/en-us/categories/201...   \n",
       "2  https://help.wrike.com/hc/en-us/categories/201...   \n",
       "3  https://help.wrike.com/hc/en-us/categories/201...   \n",
       "4  https://help.wrike.com/hc/en-us/categories/201...   \n",
       "\n",
       "                                               url_2  \\\n",
       "0  https://help.wrike.com/hc/en-us/categories/201...   \n",
       "1  https://help.wrike.com/hc/en-us/categories/201...   \n",
       "2  https://help.wrike.com/hc/en-us/categories/201...   \n",
       "3  https://help.wrike.com/hc/en-us/categories/201...   \n",
       "4  https://help.wrike.com/hc/en-us/categories/201...   \n",
       "\n",
       "                               section_2     source  \n",
       "0  Team Member Guide (for account users)  from_alex  \n",
       "1  Team Member Guide (for account users)  from_alex  \n",
       "2  Team Member Guide (for account users)  from_alex  \n",
       "3  Team Member Guide (for account users)  from_alex  \n",
       "4  Team Member Guide (for account users)  from_alex  "
      ]
     },
     "execution_count": 33,
     "metadata": {},
     "output_type": "execute_result"
    }
   ],
   "source": [
    "df_help_mine.head()"
   ]
  },
  {
   "cell_type": "code",
   "execution_count": 34,
   "metadata": {},
   "outputs": [],
   "source": [
    "df_help_mine = df_help_mine.drop(columns = [\"ArticlesUrl\", \"ArticlesUrl_next\", \"text_len\"], axis = 1)"
   ]
  },
  {
   "cell_type": "code",
   "execution_count": 35,
   "metadata": {},
   "outputs": [
    {
     "name": "stderr",
     "output_type": "stream",
     "text": [
      "[nltk_data] Downloading package stopwords to /home/alex/nltk_data...\n",
      "[nltk_data]   Package stopwords is already up-to-date!\n",
      "[nltk_data] Downloading package wordnet to /home/alex/nltk_data...\n",
      "[nltk_data]   Package wordnet is already up-to-date!\n",
      "[nltk_data] Downloading package averaged_perceptron_tagger to\n",
      "[nltk_data]     /home/alex/nltk_data...\n",
      "[nltk_data]   Package averaged_perceptron_tagger is already up-to-\n",
      "[nltk_data]       date!\n",
      "[nltk_data] Downloading package maxent_ne_chunker to\n",
      "[nltk_data]     /home/alex/nltk_data...\n",
      "[nltk_data]   Package maxent_ne_chunker is already up-to-date!\n",
      "[nltk_data] Downloading package words to /home/alex/nltk_data...\n",
      "[nltk_data]   Package words is already up-to-date!\n"
     ]
    }
   ],
   "source": [
    "import nltk\n",
    "import re\n",
    "from nltk.tokenize import RegexpTokenizer\n",
    "from nltk.stem import WordNetLemmatizer\n",
    "from nltk.corpus import stopwords\n",
    "import numpy as np\n",
    "import math \n",
    "from nltk.corpus import wordnet\n",
    "import urllib.request\n",
    "from bs4 import BeautifulSoup\n",
    "from bs4.element import Comment\n",
    "import urllib.request\n",
    "import re\n",
    "import requests as req\n",
    "import pandas as pd\n",
    "import numpy as np\n",
    "\n",
    "import pymorphy2\n",
    "nltk.download('stopwords');\n",
    "english_stopwords = stopwords.words(\"english\");\n",
    "nltk.download('wordnet');\n",
    "nltk.download('averaged_perceptron_tagger');\n",
    "nltk.download('maxent_ne_chunker');\n",
    "nltk.download('words');\n",
    "lemmatizer = WordNetLemmatizer()\n",
    "tokenizer = RegexpTokenizer(r'\\w+')"
   ]
  },
  {
   "cell_type": "code",
   "execution_count": 36,
   "metadata": {},
   "outputs": [],
   "source": [
    "import os \n",
    "path_d = \"/home/alex/chat_bot_wrike/wrike-bot/qna.csv\"\n",
    "df_data = pd.read_csv(path_d, sep = \";\")"
   ]
  },
  {
   "cell_type": "code",
   "execution_count": 37,
   "metadata": {},
   "outputs": [
    {
     "data": {
      "text/html": [
       "<div>\n",
       "<style scoped>\n",
       "    .dataframe tbody tr th:only-of-type {\n",
       "        vertical-align: middle;\n",
       "    }\n",
       "\n",
       "    .dataframe tbody tr th {\n",
       "        vertical-align: top;\n",
       "    }\n",
       "\n",
       "    .dataframe thead th {\n",
       "        text-align: right;\n",
       "    }\n",
       "</style>\n",
       "<table border=\"1\" class=\"dataframe\">\n",
       "  <thead>\n",
       "    <tr style=\"text-align: right;\">\n",
       "      <th></th>\n",
       "      <th>questions</th>\n",
       "      <th>answer</th>\n",
       "    </tr>\n",
       "  </thead>\n",
       "  <tbody>\n",
       "    <tr>\n",
       "      <th>0</th>\n",
       "      <td>Hi again, is there a way to auto-assign based...</td>\n",
       "      <td>https://help.wrike.com/hc/en-us/articles/11500...</td>\n",
       "    </tr>\n",
       "    <tr>\n",
       "      <th>1</th>\n",
       "      <td>Hi there! How do I access the workload feature?</td>\n",
       "      <td>https://help.wrike.com/hc/en-us/articles/36001...</td>\n",
       "    </tr>\n",
       "    <tr>\n",
       "      <th>2</th>\n",
       "      <td>How about the attachments (if i back up with a...</td>\n",
       "      <td>https://help.wrike.com/hc/en-us/articles/20960...</td>\n",
       "    </tr>\n",
       "    <tr>\n",
       "      <th>3</th>\n",
       "      <td>How can me allocate a \"'budget\" on a task ?</td>\n",
       "      <td>https://help.wrike.com/hc/en-us/articles/20960...</td>\n",
       "    </tr>\n",
       "    <tr>\n",
       "      <th>4</th>\n",
       "      <td>Thanks, when it expires, what features are goi...</td>\n",
       "      <td>https://help.wrike.com/hc/en-us/articles/21032...</td>\n",
       "    </tr>\n",
       "  </tbody>\n",
       "</table>\n",
       "</div>"
      ],
      "text/plain": [
       "                                           questions  \\\n",
       "0   Hi again, is there a way to auto-assign based...   \n",
       "1    Hi there! How do I access the workload feature?   \n",
       "2  How about the attachments (if i back up with a...   \n",
       "3        How can me allocate a \"'budget\" on a task ?   \n",
       "4  Thanks, when it expires, what features are goi...   \n",
       "\n",
       "                                              answer  \n",
       "0  https://help.wrike.com/hc/en-us/articles/11500...  \n",
       "1  https://help.wrike.com/hc/en-us/articles/36001...  \n",
       "2  https://help.wrike.com/hc/en-us/articles/20960...  \n",
       "3  https://help.wrike.com/hc/en-us/articles/20960...  \n",
       "4  https://help.wrike.com/hc/en-us/articles/21032...  "
      ]
     },
     "execution_count": 37,
     "metadata": {},
     "output_type": "execute_result"
    }
   ],
   "source": [
    "df_data.head()"
   ]
  },
  {
   "cell_type": "code",
   "execution_count": 38,
   "metadata": {},
   "outputs": [
    {
     "data": {
      "text/plain": [
       "(199, 2)"
      ]
     },
     "execution_count": 38,
     "metadata": {},
     "output_type": "execute_result"
    }
   ],
   "source": [
    "df_data[\"answer\"] = df_data[\"answer\"].apply(lambda x: re.sub(\" \", \"\", x))\n",
    "df_data[\"answer\"] = df_data[\"answer\"].apply(lambda x: re.sub('\\)', \"\", x))\n",
    "df_data.shape"
   ]
  },
  {
   "cell_type": "code",
   "execution_count": 39,
   "metadata": {},
   "outputs": [],
   "source": [
    "df_data[\"url_1\"] = df_data[\"answer\"].apply(lambda x: x.split(\"#\")[0]).map(d_url3)\n",
    "df_data.dropna(subset = [\"url_1\"], inplace=True)"
   ]
  },
  {
   "cell_type": "code",
   "execution_count": 40,
   "metadata": {},
   "outputs": [],
   "source": [
    "df_data[\"url_1\"] = df_data[\"answer\"].apply(lambda x: x.split(\"#\")[0]).map(d_url3).apply(lambda x: x[0] )\n",
    "df_data[\"url_2\"] = df_data[\"answer\"].apply(lambda x: x.split(\"#\")[0]).map(d_url3).apply(lambda x: x[-1])\n",
    "df_data[\"url_3\"] = df_data[\"answer\"].apply(lambda x: x.split(\"#\")[0])\n",
    "df_data[\"url_4\"] = df_data[\"answer\"].apply(lambda x: x if \"#\" in x else np.nan)\n",
    "del df_data[\"answer\"]"
   ]
  },
  {
   "cell_type": "code",
   "execution_count": 41,
   "metadata": {},
   "outputs": [
    {
     "data": {
      "text/html": [
       "<div>\n",
       "<style scoped>\n",
       "    .dataframe tbody tr th:only-of-type {\n",
       "        vertical-align: middle;\n",
       "    }\n",
       "\n",
       "    .dataframe tbody tr th {\n",
       "        vertical-align: top;\n",
       "    }\n",
       "\n",
       "    .dataframe thead th {\n",
       "        text-align: right;\n",
       "    }\n",
       "</style>\n",
       "<table border=\"1\" class=\"dataframe\">\n",
       "  <thead>\n",
       "    <tr style=\"text-align: right;\">\n",
       "      <th></th>\n",
       "      <th>questions</th>\n",
       "      <th>url_1</th>\n",
       "      <th>url_2</th>\n",
       "      <th>url_3</th>\n",
       "      <th>url_4</th>\n",
       "    </tr>\n",
       "  </thead>\n",
       "  <tbody>\n",
       "    <tr>\n",
       "      <th>0</th>\n",
       "      <td>Hi again, is there a way to auto-assign based...</td>\n",
       "      <td>https://help.wrike.com/hc/en-us/categories/200...</td>\n",
       "      <td>https://help.wrike.com/hc/en-us/sections/20183...</td>\n",
       "      <td>https://help.wrike.com/hc/en-us/articles/11500...</td>\n",
       "      <td>NaN</td>\n",
       "    </tr>\n",
       "    <tr>\n",
       "      <th>1</th>\n",
       "      <td>Hi there! How do I access the workload feature?</td>\n",
       "      <td>https://help.wrike.com/hc/en-us/categories/200...</td>\n",
       "      <td>https://help.wrike.com/hc/en-us/sections/36000...</td>\n",
       "      <td>https://help.wrike.com/hc/en-us/articles/36001...</td>\n",
       "      <td>NaN</td>\n",
       "    </tr>\n",
       "    <tr>\n",
       "      <th>2</th>\n",
       "      <td>How about the attachments (if i back up with a...</td>\n",
       "      <td>https://help.wrike.com/hc/en-us/categories/200...</td>\n",
       "      <td>https://help.wrike.com/hc/en-us/sections/20183...</td>\n",
       "      <td>https://help.wrike.com/hc/en-us/articles/20960...</td>\n",
       "      <td>https://help.wrike.com/hc/en-us/articles/20960...</td>\n",
       "    </tr>\n",
       "    <tr>\n",
       "      <th>3</th>\n",
       "      <td>How can me allocate a \"'budget\" on a task ?</td>\n",
       "      <td>https://help.wrike.com/hc/en-us/categories/200...</td>\n",
       "      <td>https://help.wrike.com/hc/en-us/sections/20183...</td>\n",
       "      <td>https://help.wrike.com/hc/en-us/articles/20960...</td>\n",
       "      <td>https://help.wrike.com/hc/en-us/articles/20960...</td>\n",
       "    </tr>\n",
       "    <tr>\n",
       "      <th>4</th>\n",
       "      <td>Thanks, when it expires, what features are goi...</td>\n",
       "      <td>https://help.wrike.com/hc/en-us/categories/200...</td>\n",
       "      <td>https://help.wrike.com/hc/en-us/sections/20189...</td>\n",
       "      <td>https://help.wrike.com/hc/en-us/articles/21032...</td>\n",
       "      <td>NaN</td>\n",
       "    </tr>\n",
       "  </tbody>\n",
       "</table>\n",
       "</div>"
      ],
      "text/plain": [
       "                                           questions  \\\n",
       "0   Hi again, is there a way to auto-assign based...   \n",
       "1    Hi there! How do I access the workload feature?   \n",
       "2  How about the attachments (if i back up with a...   \n",
       "3        How can me allocate a \"'budget\" on a task ?   \n",
       "4  Thanks, when it expires, what features are goi...   \n",
       "\n",
       "                                               url_1  \\\n",
       "0  https://help.wrike.com/hc/en-us/categories/200...   \n",
       "1  https://help.wrike.com/hc/en-us/categories/200...   \n",
       "2  https://help.wrike.com/hc/en-us/categories/200...   \n",
       "3  https://help.wrike.com/hc/en-us/categories/200...   \n",
       "4  https://help.wrike.com/hc/en-us/categories/200...   \n",
       "\n",
       "                                               url_2  \\\n",
       "0  https://help.wrike.com/hc/en-us/sections/20183...   \n",
       "1  https://help.wrike.com/hc/en-us/sections/36000...   \n",
       "2  https://help.wrike.com/hc/en-us/sections/20183...   \n",
       "3  https://help.wrike.com/hc/en-us/sections/20183...   \n",
       "4  https://help.wrike.com/hc/en-us/sections/20189...   \n",
       "\n",
       "                                               url_3  \\\n",
       "0  https://help.wrike.com/hc/en-us/articles/11500...   \n",
       "1  https://help.wrike.com/hc/en-us/articles/36001...   \n",
       "2  https://help.wrike.com/hc/en-us/articles/20960...   \n",
       "3  https://help.wrike.com/hc/en-us/articles/20960...   \n",
       "4  https://help.wrike.com/hc/en-us/articles/21032...   \n",
       "\n",
       "                                               url_4  \n",
       "0                                                NaN  \n",
       "1                                                NaN  \n",
       "2  https://help.wrike.com/hc/en-us/articles/20960...  \n",
       "3  https://help.wrike.com/hc/en-us/articles/20960...  \n",
       "4                                                NaN  "
      ]
     },
     "execution_count": 41,
     "metadata": {},
     "output_type": "execute_result"
    }
   ],
   "source": [
    "df_data.head()"
   ]
  },
  {
   "cell_type": "code",
   "execution_count": 42,
   "metadata": {},
   "outputs": [],
   "source": [
    "df_data[\"section_1\"] = df_data[\"url_1\"].map(d_all_data)\n",
    "df_data[\"section_2\"] = df_data[\"url_2\"].map(d_all_data)\n",
    "df_data[\"section_3\"] = df_data[\"url_3\"].map(d_all_data)\n",
    "df_data[\"section_4\"] = df_data[\"url_4\"].map(d_all_data)"
   ]
  },
  {
   "cell_type": "code",
   "execution_count": 43,
   "metadata": {},
   "outputs": [],
   "source": [
    "#df_data = df_data[~df_data.answer_to_tiltes.isnull()]"
   ]
  },
  {
   "cell_type": "code",
   "execution_count": 44,
   "metadata": {},
   "outputs": [
    {
     "data": {
      "text/plain": [
       "(168, 9)"
      ]
     },
     "execution_count": 44,
     "metadata": {},
     "output_type": "execute_result"
    }
   ],
   "source": [
    "df_data.shape"
   ]
  },
  {
   "cell_type": "code",
   "execution_count": 45,
   "metadata": {},
   "outputs": [
    {
     "data": {
      "text/plain": [
       "array([' Hi again, is there a way to auto-assign based on status AND project?',\n",
       "       'https://help.wrike.com/hc/en-us/categories/200942115-Tasks-Folders-Projects-and-Spaces',\n",
       "       'https://help.wrike.com/hc/en-us/sections/201834259-Advanced',\n",
       "       'https://help.wrike.com/hc/en-us/articles/115005876769-Advanced-Custom-Workflows',\n",
       "       nan, 'Tasks, Folders, Projects and Spaces', 'Advanced',\n",
       "       'Advanced Custom Workflows', nan], dtype=object)"
      ]
     },
     "execution_count": 45,
     "metadata": {},
     "output_type": "execute_result"
    }
   ],
   "source": [
    "df_data.loc[0].values"
   ]
  },
  {
   "cell_type": "code",
   "execution_count": 46,
   "metadata": {},
   "outputs": [],
   "source": [
    "df_data[\"source\"] = \"from_wrike_org\""
   ]
  },
  {
   "cell_type": "code",
   "execution_count": 47,
   "metadata": {},
   "outputs": [
    {
     "data": {
      "text/html": [
       "<div>\n",
       "<style scoped>\n",
       "    .dataframe tbody tr th:only-of-type {\n",
       "        vertical-align: middle;\n",
       "    }\n",
       "\n",
       "    .dataframe tbody tr th {\n",
       "        vertical-align: top;\n",
       "    }\n",
       "\n",
       "    .dataframe thead th {\n",
       "        text-align: right;\n",
       "    }\n",
       "</style>\n",
       "<table border=\"1\" class=\"dataframe\">\n",
       "  <thead>\n",
       "    <tr style=\"text-align: right;\">\n",
       "      <th></th>\n",
       "      <th>questions</th>\n",
       "      <th>url_1</th>\n",
       "      <th>url_2</th>\n",
       "      <th>url_3</th>\n",
       "      <th>url_4</th>\n",
       "      <th>section_1</th>\n",
       "      <th>section_2</th>\n",
       "      <th>section_3</th>\n",
       "      <th>section_4</th>\n",
       "      <th>source</th>\n",
       "    </tr>\n",
       "  </thead>\n",
       "  <tbody>\n",
       "    <tr>\n",
       "      <th>0</th>\n",
       "      <td>Hi again, is there a way to auto-assign based...</td>\n",
       "      <td>https://help.wrike.com/hc/en-us/categories/200...</td>\n",
       "      <td>https://help.wrike.com/hc/en-us/sections/20183...</td>\n",
       "      <td>https://help.wrike.com/hc/en-us/articles/11500...</td>\n",
       "      <td>NaN</td>\n",
       "      <td>Tasks, Folders, Projects and Spaces</td>\n",
       "      <td>Advanced</td>\n",
       "      <td>Advanced Custom Workflows</td>\n",
       "      <td>NaN</td>\n",
       "      <td>from_wrike_org</td>\n",
       "    </tr>\n",
       "    <tr>\n",
       "      <th>1</th>\n",
       "      <td>Hi there! How do I access the workload feature?</td>\n",
       "      <td>https://help.wrike.com/hc/en-us/categories/200...</td>\n",
       "      <td>https://help.wrike.com/hc/en-us/sections/36000...</td>\n",
       "      <td>https://help.wrike.com/hc/en-us/articles/36001...</td>\n",
       "      <td>NaN</td>\n",
       "      <td>Monitoring Panel</td>\n",
       "      <td>Wrike Resource</td>\n",
       "      <td>Workload Charts</td>\n",
       "      <td>NaN</td>\n",
       "      <td>from_wrike_org</td>\n",
       "    </tr>\n",
       "    <tr>\n",
       "      <th>2</th>\n",
       "      <td>How about the attachments (if i back up with a...</td>\n",
       "      <td>https://help.wrike.com/hc/en-us/categories/200...</td>\n",
       "      <td>https://help.wrike.com/hc/en-us/sections/20183...</td>\n",
       "      <td>https://help.wrike.com/hc/en-us/articles/20960...</td>\n",
       "      <td>https://help.wrike.com/hc/en-us/articles/20960...</td>\n",
       "      <td>Security</td>\n",
       "      <td>More Security Features</td>\n",
       "      <td>Account Backup</td>\n",
       "      <td>Perform an Account Backup (with attachments)</td>\n",
       "      <td>from_wrike_org</td>\n",
       "    </tr>\n",
       "    <tr>\n",
       "      <th>3</th>\n",
       "      <td>How can me allocate a \"'budget\" on a task ?</td>\n",
       "      <td>https://help.wrike.com/hc/en-us/categories/200...</td>\n",
       "      <td>https://help.wrike.com/hc/en-us/sections/20183...</td>\n",
       "      <td>https://help.wrike.com/hc/en-us/articles/20960...</td>\n",
       "      <td>https://help.wrike.com/hc/en-us/articles/20960...</td>\n",
       "      <td>Tasks, Folders, Projects and Spaces</td>\n",
       "      <td>Advanced</td>\n",
       "      <td>Custom Fields</td>\n",
       "      <td>Create, Add, and View Custom Fields</td>\n",
       "      <td>from_wrike_org</td>\n",
       "    </tr>\n",
       "    <tr>\n",
       "      <th>4</th>\n",
       "      <td>Thanks, when it expires, what features are goi...</td>\n",
       "      <td>https://help.wrike.com/hc/en-us/categories/200...</td>\n",
       "      <td>https://help.wrike.com/hc/en-us/sections/20189...</td>\n",
       "      <td>https://help.wrike.com/hc/en-us/articles/21032...</td>\n",
       "      <td>NaN</td>\n",
       "      <td>Types of Accounts and Licenses</td>\n",
       "      <td>Accounts</td>\n",
       "      <td>Free</td>\n",
       "      <td>NaN</td>\n",
       "      <td>from_wrike_org</td>\n",
       "    </tr>\n",
       "  </tbody>\n",
       "</table>\n",
       "</div>"
      ],
      "text/plain": [
       "                                           questions  \\\n",
       "0   Hi again, is there a way to auto-assign based...   \n",
       "1    Hi there! How do I access the workload feature?   \n",
       "2  How about the attachments (if i back up with a...   \n",
       "3        How can me allocate a \"'budget\" on a task ?   \n",
       "4  Thanks, when it expires, what features are goi...   \n",
       "\n",
       "                                               url_1  \\\n",
       "0  https://help.wrike.com/hc/en-us/categories/200...   \n",
       "1  https://help.wrike.com/hc/en-us/categories/200...   \n",
       "2  https://help.wrike.com/hc/en-us/categories/200...   \n",
       "3  https://help.wrike.com/hc/en-us/categories/200...   \n",
       "4  https://help.wrike.com/hc/en-us/categories/200...   \n",
       "\n",
       "                                               url_2  \\\n",
       "0  https://help.wrike.com/hc/en-us/sections/20183...   \n",
       "1  https://help.wrike.com/hc/en-us/sections/36000...   \n",
       "2  https://help.wrike.com/hc/en-us/sections/20183...   \n",
       "3  https://help.wrike.com/hc/en-us/sections/20183...   \n",
       "4  https://help.wrike.com/hc/en-us/sections/20189...   \n",
       "\n",
       "                                               url_3  \\\n",
       "0  https://help.wrike.com/hc/en-us/articles/11500...   \n",
       "1  https://help.wrike.com/hc/en-us/articles/36001...   \n",
       "2  https://help.wrike.com/hc/en-us/articles/20960...   \n",
       "3  https://help.wrike.com/hc/en-us/articles/20960...   \n",
       "4  https://help.wrike.com/hc/en-us/articles/21032...   \n",
       "\n",
       "                                               url_4  \\\n",
       "0                                                NaN   \n",
       "1                                                NaN   \n",
       "2  https://help.wrike.com/hc/en-us/articles/20960...   \n",
       "3  https://help.wrike.com/hc/en-us/articles/20960...   \n",
       "4                                                NaN   \n",
       "\n",
       "                             section_1               section_2  \\\n",
       "0  Tasks, Folders, Projects and Spaces                Advanced   \n",
       "1                     Monitoring Panel          Wrike Resource   \n",
       "2                             Security  More Security Features   \n",
       "3  Tasks, Folders, Projects and Spaces                Advanced   \n",
       "4       Types of Accounts and Licenses                Accounts   \n",
       "\n",
       "                   section_3                                     section_4  \\\n",
       "0  Advanced Custom Workflows                                           NaN   \n",
       "1            Workload Charts                                           NaN   \n",
       "2             Account Backup  Perform an Account Backup (with attachments)   \n",
       "3              Custom Fields           Create, Add, and View Custom Fields   \n",
       "4                       Free                                           NaN   \n",
       "\n",
       "           source  \n",
       "0  from_wrike_org  \n",
       "1  from_wrike_org  \n",
       "2  from_wrike_org  \n",
       "3  from_wrike_org  \n",
       "4  from_wrike_org  "
      ]
     },
     "execution_count": 47,
     "metadata": {},
     "output_type": "execute_result"
    }
   ],
   "source": [
    "df_data.head(5)"
   ]
  },
  {
   "cell_type": "code",
   "execution_count": 48,
   "metadata": {},
   "outputs": [
    {
     "data": {
      "text/plain": [
       "array(['How about the attachments (if i back up with attachments) - are they available?',\n",
       "       'https://help.wrike.com/hc/en-us/categories/200942175-Security',\n",
       "       'https://help.wrike.com/hc/en-us/sections/201834349-More-Security-Features',\n",
       "       'https://help.wrike.com/hc/en-us/articles/209605749-Account-Backup',\n",
       "       'https://help.wrike.com/hc/en-us/articles/209605749-Account-Backup#performwith',\n",
       "       'Security', 'More Security Features', 'Account Backup',\n",
       "       'Perform an Account Backup (with attachments)', 'from_wrike_org'],\n",
       "      dtype=object)"
      ]
     },
     "execution_count": 48,
     "metadata": {},
     "output_type": "execute_result"
    }
   ],
   "source": [
    "df_data.loc[2].values"
   ]
  },
  {
   "cell_type": "code",
   "execution_count": 49,
   "metadata": {},
   "outputs": [
    {
     "data": {
      "text/plain": [
       "(168, 10)"
      ]
     },
     "execution_count": 49,
     "metadata": {},
     "output_type": "execute_result"
    }
   ],
   "source": [
    "df_data.shape"
   ]
  },
  {
   "cell_type": "code",
   "execution_count": 50,
   "metadata": {},
   "outputs": [],
   "source": [
    "import os \n",
    "set_data = set()\n",
    "path_d = \"/home/alex/chat_bot_wrike/wrike-bot/profill_names_data.csv\"\n",
    "with open(path_d, 'r') as f: \n",
    "    for i in f: \n",
    "        set_data.update(i.split(\"-\"))\n",
    "\n",
    "set_mod_name = set()        \n",
    "for i in set_data: \n",
    "    i = re.split(r'(\\n|\\?)', i)[0]\n",
    "    if i != \"\":\n",
    "        set_mod_name.add(i.casefold())"
   ]
  },
  {
   "cell_type": "code",
   "execution_count": 51,
   "metadata": {},
   "outputs": [
    {
     "data": {
      "text/plain": [
       "9869"
      ]
     },
     "execution_count": 51,
     "metadata": {},
     "output_type": "execute_result"
    }
   ],
   "source": [
    "len(set_mod_name)"
   ]
  },
  {
   "cell_type": "code",
   "execution_count": 52,
   "metadata": {},
   "outputs": [],
   "source": [
    "import os \n",
    "path_d = \"/home/alex/chat_bot_wrike/wrike-bot/from_questions.csv\"\n",
    "df_data2 = pd.read_csv(path_d)\n",
    "df_data2[\"questions\"] = df_data2[\"post_title\"] + df_data2[\"post_text\"]\n",
    "df_data2[\"answer\"] = df_data2[\"url_\"]\n",
    "df_data2[\"answer_text\"] = df_data2[\"official_comments\"] + df_data2[\"not_official_comments\"]\n",
    "df_data2 = df_data2.drop(filter(lambda x: True if x not in [\"questions\", \"answer\", \"answer_text\"] else False, df_data2.columns), axis = 1)"
   ]
  },
  {
   "cell_type": "code",
   "execution_count": 53,
   "metadata": {},
   "outputs": [],
   "source": [
    "def remove_name(x): \n",
    "    s_data = \"\"\n",
    "    for i in str(x).split(\" \"):\n",
    "        if i not in set_mod_name: \n",
    "            s_data += \" \"\n",
    "            s_data += i \n",
    "    return s_data"
   ]
  },
  {
   "cell_type": "code",
   "execution_count": 54,
   "metadata": {},
   "outputs": [],
   "source": [
    "df_data2[\"answer_text\"] = df_data2[\"answer_text\"].apply(remove_name)"
   ]
  },
  {
   "cell_type": "code",
   "execution_count": 55,
   "metadata": {},
   "outputs": [],
   "source": [
    "df_data2[\"answer\"] = df_data2[\"answer\"].apply(lambda x: [x] if len(x.split(\",\")) < 2 else x.split(\",\"))\n",
    "df_data2[\"answer\"] = df_data2[\"answer\"].apply(lambda x: [i for i in x if i in d_all_data])"
   ]
  },
  {
   "cell_type": "code",
   "execution_count": 56,
   "metadata": {},
   "outputs": [],
   "source": [
    "df_data2[\"answer_len\"] = df_data2[\"answer\"].apply(lambda x: len(x))\n",
    "del df_data2[\"answer_len\"]"
   ]
  },
  {
   "cell_type": "code",
   "execution_count": 57,
   "metadata": {},
   "outputs": [],
   "source": [
    "df_data2[\"answer\"] = df_data2[\"answer\"].apply(lambda x: x[0])"
   ]
  },
  {
   "cell_type": "code",
   "execution_count": 58,
   "metadata": {},
   "outputs": [],
   "source": [
    "df_data2[\"url_1\"] = df_data2[\"answer\"].apply(lambda x: x.split(\"#\")[0]).map(d_url3).apply(lambda x: x[0] )\n",
    "df_data2[\"url_2\"] = df_data2[\"answer\"].apply(lambda x: x.split(\"#\")[0]).map(d_url3).apply(lambda x: x[-1])\n",
    "df_data2[\"url_3\"] = df_data2[\"answer\"].apply(lambda x: x.split(\"#\")[0])\n",
    "df_data2[\"url_4\"] = df_data2[\"answer\"].apply(lambda x: x if \"#\" in x else np.nan)\n",
    "del df_data2[\"answer\"]"
   ]
  },
  {
   "cell_type": "code",
   "execution_count": 59,
   "metadata": {},
   "outputs": [],
   "source": [
    "df_data2[\"section_1\"] = df_data2[\"url_1\"].map(d_all_data)\n",
    "df_data2[\"section_2\"] = df_data2[\"url_2\"].map(d_all_data)\n",
    "df_data2[\"section_3\"] = df_data2[\"url_3\"].map(d_all_data)\n",
    "df_data2[\"section_4\"] = df_data2[\"url_4\"].map(d_all_data)"
   ]
  },
  {
   "cell_type": "code",
   "execution_count": 60,
   "metadata": {},
   "outputs": [],
   "source": [
    "df_data2[\"source\"] = \"from_dirty_questions\""
   ]
  },
  {
   "cell_type": "code",
   "execution_count": 61,
   "metadata": {},
   "outputs": [
    {
     "data": {
      "text/html": [
       "<div>\n",
       "<style scoped>\n",
       "    .dataframe tbody tr th:only-of-type {\n",
       "        vertical-align: middle;\n",
       "    }\n",
       "\n",
       "    .dataframe tbody tr th {\n",
       "        vertical-align: top;\n",
       "    }\n",
       "\n",
       "    .dataframe thead th {\n",
       "        text-align: right;\n",
       "    }\n",
       "</style>\n",
       "<table border=\"1\" class=\"dataframe\">\n",
       "  <thead>\n",
       "    <tr style=\"text-align: right;\">\n",
       "      <th></th>\n",
       "      <th>questions</th>\n",
       "      <th>answer_text</th>\n",
       "      <th>url_1</th>\n",
       "      <th>url_2</th>\n",
       "      <th>url_3</th>\n",
       "      <th>url_4</th>\n",
       "      <th>section_1</th>\n",
       "      <th>section_2</th>\n",
       "      <th>section_3</th>\n",
       "      <th>section_4</th>\n",
       "      <th>source</th>\n",
       "    </tr>\n",
       "  </thead>\n",
       "  <tbody>\n",
       "    <tr>\n",
       "      <th>0</th>\n",
       "      <td>user profile colourhi little disappointed ever...</td>\n",
       "      <td>elizaveta hi zendesk data zendesk suggest cre...</td>\n",
       "      <td>https://help.wrike.com/hc/en-us/categories/200...</td>\n",
       "      <td>https://help.wrike.com/hc/en-us/sections/20182...</td>\n",
       "      <td>https://help.wrike.com/hc/en-us/articles/20960...</td>\n",
       "      <td>https://help.wrike.com/hc/en-us/articles/20960...</td>\n",
       "      <td>Account Management</td>\n",
       "      <td>General Account Management</td>\n",
       "      <td>User Groups</td>\n",
       "      <td>Edit a Group's Avatar</td>\n",
       "      <td>from_dirty_questions</td>\n",
       "    </tr>\n",
       "    <tr>\n",
       "      <th>1</th>\n",
       "      <td>deferred task set become active specified date...</td>\n",
       "      <td>hi thanks sharing feedback always interested ...</td>\n",
       "      <td>https://help.wrike.com/hc/en-us/categories/200...</td>\n",
       "      <td>https://help.wrike.com/hc/en-us/sections/20183...</td>\n",
       "      <td>https://help.wrike.com/hc/en-us/articles/21032...</td>\n",
       "      <td>NaN</td>\n",
       "      <td>Tasks, Folders, Projects and Spaces</td>\n",
       "      <td>Advanced</td>\n",
       "      <td>Custom Statuses and Workflows</td>\n",
       "      <td>NaN</td>\n",
       "      <td>from_dirty_questions</td>\n",
       "    </tr>\n",
       "    <tr>\n",
       "      <th>2</th>\n",
       "      <td>timeline change colour barcolour code timeline...</td>\n",
       "      <td>hi possible right gantt chart href hc en arti...</td>\n",
       "      <td>https://help.wrike.com/hc/en-us/categories/200...</td>\n",
       "      <td>https://help.wrike.com/hc/en-us/sections/20189...</td>\n",
       "      <td>https://help.wrike.com/hc/en-us/articles/21032...</td>\n",
       "      <td>NaN</td>\n",
       "      <td>Tasks, Folders, Projects and Spaces</td>\n",
       "      <td>Communication</td>\n",
       "      <td>Permalink</td>\n",
       "      <td>NaN</td>\n",
       "      <td>from_dirty_questions</td>\n",
       "    </tr>\n",
       "    <tr>\n",
       "      <th>3</th>\n",
       "      <td>comment image uploads getting buried task subt...</td>\n",
       "      <td>elizaveta hi zendesk data zendesk happy see d...</td>\n",
       "      <td>https://help.wrike.com/hc/en-us/categories/200...</td>\n",
       "      <td>https://help.wrike.com/hc/en-us/sections/20236...</td>\n",
       "      <td>https://help.wrike.com/hc/en-us/articles/21032...</td>\n",
       "      <td>NaN</td>\n",
       "      <td>Tasks, Folders, Projects and Spaces</td>\n",
       "      <td>Proofing and Approvals</td>\n",
       "      <td>Proofing</td>\n",
       "      <td>NaN</td>\n",
       "      <td>from_dirty_questions</td>\n",
       "    </tr>\n",
       "    <tr>\n",
       "      <th>4</th>\n",
       "      <td>set task start day another tasktrying set temp...</td>\n",
       "      <td>wow awesome ryanleonie evert hello helpful th...</td>\n",
       "      <td>https://help.wrike.com/hc/en-us/categories/200...</td>\n",
       "      <td>https://help.wrike.com/hc/en-us/sections/20189...</td>\n",
       "      <td>https://help.wrike.com/hc/en-us/articles/20960...</td>\n",
       "      <td>NaN</td>\n",
       "      <td>Work Views</td>\n",
       "      <td>Gantt Chart</td>\n",
       "      <td>Dependencies on the Gantt Chart</td>\n",
       "      <td>NaN</td>\n",
       "      <td>from_dirty_questions</td>\n",
       "    </tr>\n",
       "  </tbody>\n",
       "</table>\n",
       "</div>"
      ],
      "text/plain": [
       "                                           questions  \\\n",
       "0  user profile colourhi little disappointed ever...   \n",
       "1  deferred task set become active specified date...   \n",
       "2  timeline change colour barcolour code timeline...   \n",
       "3  comment image uploads getting buried task subt...   \n",
       "4  set task start day another tasktrying set temp...   \n",
       "\n",
       "                                         answer_text  \\\n",
       "0   elizaveta hi zendesk data zendesk suggest cre...   \n",
       "1   hi thanks sharing feedback always interested ...   \n",
       "2   hi possible right gantt chart href hc en arti...   \n",
       "3   elizaveta hi zendesk data zendesk happy see d...   \n",
       "4   wow awesome ryanleonie evert hello helpful th...   \n",
       "\n",
       "                                               url_1  \\\n",
       "0  https://help.wrike.com/hc/en-us/categories/200...   \n",
       "1  https://help.wrike.com/hc/en-us/categories/200...   \n",
       "2  https://help.wrike.com/hc/en-us/categories/200...   \n",
       "3  https://help.wrike.com/hc/en-us/categories/200...   \n",
       "4  https://help.wrike.com/hc/en-us/categories/200...   \n",
       "\n",
       "                                               url_2  \\\n",
       "0  https://help.wrike.com/hc/en-us/sections/20182...   \n",
       "1  https://help.wrike.com/hc/en-us/sections/20183...   \n",
       "2  https://help.wrike.com/hc/en-us/sections/20189...   \n",
       "3  https://help.wrike.com/hc/en-us/sections/20236...   \n",
       "4  https://help.wrike.com/hc/en-us/sections/20189...   \n",
       "\n",
       "                                               url_3  \\\n",
       "0  https://help.wrike.com/hc/en-us/articles/20960...   \n",
       "1  https://help.wrike.com/hc/en-us/articles/21032...   \n",
       "2  https://help.wrike.com/hc/en-us/articles/21032...   \n",
       "3  https://help.wrike.com/hc/en-us/articles/21032...   \n",
       "4  https://help.wrike.com/hc/en-us/articles/20960...   \n",
       "\n",
       "                                               url_4  \\\n",
       "0  https://help.wrike.com/hc/en-us/articles/20960...   \n",
       "1                                                NaN   \n",
       "2                                                NaN   \n",
       "3                                                NaN   \n",
       "4                                                NaN   \n",
       "\n",
       "                             section_1                   section_2  \\\n",
       "0                   Account Management  General Account Management   \n",
       "1  Tasks, Folders, Projects and Spaces                    Advanced   \n",
       "2  Tasks, Folders, Projects and Spaces               Communication   \n",
       "3  Tasks, Folders, Projects and Spaces      Proofing and Approvals   \n",
       "4                           Work Views                 Gantt Chart   \n",
       "\n",
       "                          section_3              section_4  \\\n",
       "0                       User Groups  Edit a Group's Avatar   \n",
       "1     Custom Statuses and Workflows                    NaN   \n",
       "2                         Permalink                    NaN   \n",
       "3                          Proofing                    NaN   \n",
       "4  Dependencies on the Gantt Chart                     NaN   \n",
       "\n",
       "                 source  \n",
       "0  from_dirty_questions  \n",
       "1  from_dirty_questions  \n",
       "2  from_dirty_questions  \n",
       "3  from_dirty_questions  \n",
       "4  from_dirty_questions  "
      ]
     },
     "execution_count": 61,
     "metadata": {},
     "output_type": "execute_result"
    }
   ],
   "source": [
    "df_data2.head()"
   ]
  },
  {
   "cell_type": "code",
   "execution_count": 62,
   "metadata": {},
   "outputs": [
    {
     "data": {
      "text/plain": [
       "(207, 11)"
      ]
     },
     "execution_count": 62,
     "metadata": {},
     "output_type": "execute_result"
    }
   ],
   "source": [
    "df_data2.shape"
   ]
  },
  {
   "cell_type": "code",
   "execution_count": 63,
   "metadata": {},
   "outputs": [],
   "source": [
    "all_titles = list(set(d_all_data.values()))"
   ]
  },
  {
   "cell_type": "code",
   "execution_count": 64,
   "metadata": {},
   "outputs": [
    {
     "data": {
      "text/plain": [
       "1158"
      ]
     },
     "execution_count": 64,
     "metadata": {},
     "output_type": "execute_result"
    }
   ],
   "source": [
    "len(all_titles)"
   ]
  },
  {
   "cell_type": "code",
   "execution_count": 65,
   "metadata": {},
   "outputs": [],
   "source": [
    "def href_from_title(body):\n",
    "    soup = BeautifulSoup(body, 'lxml')\n",
    "    a = soup.find('title')\n",
    "    return a.text"
   ]
  },
  {
   "cell_type": "code",
   "execution_count": 66,
   "metadata": {},
   "outputs": [],
   "source": [
    "def href_from_title_descriptions(body):\n",
    "    soup = BeautifulSoup(body, 'lxml')\n",
    "    a = soup.find('meta', attrs={\"name\":\"description\"})\n",
    "    return a.get('content')"
   ]
  },
  {
   "cell_type": "code",
   "execution_count": 67,
   "metadata": {},
   "outputs": [
    {
     "name": "stderr",
     "output_type": "stream",
     "text": [
      "  1%|          | 7/850 [00:02<05:46,  2.43it/s]"
     ]
    },
    {
     "name": "stdout",
     "output_type": "stream",
     "text": [
      "not descrption https://help.wrike.com/hc/en-us/search?category=200913179&filter_by=knowledge_base&query=Gantt+chart&utf8=%E2%9C%93\n"
     ]
    },
    {
     "name": "stderr",
     "output_type": "stream",
     "text": [
      "  2%|▏         | 17/850 [00:11<14:48,  1.07s/it]"
     ]
    },
    {
     "name": "stdout",
     "output_type": "stream",
     "text": [
      "not descrption https://help.wrike.com/hc/en-us/search?category=200939185&filter_by=knowledge_base&query=create+a+folder&utf8=%E2%9C%93\n"
     ]
    },
    {
     "name": "stderr",
     "output_type": "stream",
     "text": [
      "\r",
      "  2%|▏         | 18/850 [00:12<16:37,  1.20s/it]"
     ]
    },
    {
     "name": "stdout",
     "output_type": "stream",
     "text": [
      "not descrption https://help.wrike.com/hc/en-us/search?page=5&query=time+report&utf8=%E2%9C%93\n"
     ]
    },
    {
     "name": "stderr",
     "output_type": "stream",
     "text": [
      "  3%|▎         | 27/850 [00:19<13:59,  1.02s/it]"
     ]
    },
    {
     "name": "stdout",
     "output_type": "stream",
     "text": [
      "not descrption https://help.wrike.com/hc/en-us/search?page=21&query=Sharing+folders&utf8=%E2%9C%93\n"
     ]
    },
    {
     "name": "stderr",
     "output_type": "stream",
     "text": [
      "\r",
      "  3%|▎         | 28/850 [00:21<17:07,  1.25s/it]"
     ]
    },
    {
     "name": "stdout",
     "output_type": "stream",
     "text": [
      "not descrption https://help.wrike.com/hc/en-us/search?filter_by=knowledge_base&page=4&query=Creating+tasks&utf8=%E2%9C%93\n",
      "Error search?filter_by=knowledge_base&page=4&query=Creating+tasks&utf8=%E2%9C%93.csv\n"
     ]
    },
    {
     "name": "stderr",
     "output_type": "stream",
     "text": [
      "\r",
      "  3%|▎         | 29/850 [00:22<17:41,  1.29s/it]"
     ]
    },
    {
     "name": "stdout",
     "output_type": "stream",
     "text": [
      "not descrption https://help.wrike.com/hc/en-us/search?query=Diagramas+de+Gantt&utf8=%E2%9C%93\n"
     ]
    },
    {
     "name": "stderr",
     "output_type": "stream",
     "text": [
      "  4%|▍         | 34/850 [00:29<18:28,  1.36s/it]"
     ]
    },
    {
     "name": "stdout",
     "output_type": "stream",
     "text": [
      "not descrption https://help.wrike.com/hc/en-us/search?page=10&query=Gantt+chart&utf8=%E2%9C%93\n"
     ]
    },
    {
     "name": "stderr",
     "output_type": "stream",
     "text": [
      "\r",
      "  4%|▍         | 36/850 [00:31<16:00,  1.18s/it]"
     ]
    },
    {
     "name": "stdout",
     "output_type": "stream",
     "text": [
      "not descrption https://help.wrike.com/hc/en-us/search?page=3&query=Sharing+folders&utf8=%E2%9C%93\n"
     ]
    },
    {
     "name": "stderr",
     "output_type": "stream",
     "text": [
      "  5%|▍         | 39/850 [00:33<13:21,  1.01it/s]"
     ]
    },
    {
     "name": "stdout",
     "output_type": "stream",
     "text": [
      "not descrption https://help.wrike.com/hc/en-us/search?page=9&query=create+a+folder&utf8=%E2%9C%93\n"
     ]
    },
    {
     "name": "stderr",
     "output_type": "stream",
     "text": [
      "\r",
      "  5%|▍         | 40/850 [00:35<17:12,  1.27s/it]"
     ]
    },
    {
     "name": "stdout",
     "output_type": "stream",
     "text": [
      "not descrption https://help.wrike.com/hc/en-us/search?category=200939185&filter_by=knowledge_base&query=time+report&utf8=%E2%9C%93\n"
     ]
    },
    {
     "name": "stderr",
     "output_type": "stream",
     "text": [
      "  5%|▍         | 42/850 [00:38<17:34,  1.30s/it]"
     ]
    },
    {
     "name": "stdout",
     "output_type": "stream",
     "text": [
      "not descrption https://help.wrike.com/hc/en-us/search?page=20&query=Sharing+folders&utf8=%E2%9C%93\n"
     ]
    },
    {
     "name": "stderr",
     "output_type": "stream",
     "text": [
      "  6%|▌         | 49/850 [00:44<14:22,  1.08s/it]"
     ]
    },
    {
     "name": "stdout",
     "output_type": "stream",
     "text": [
      "not descrption https://help.wrike.com/hc/en-us/search?category=200942125&filter_by=knowledge_base&query=time+report&utf8=%E2%9C%93\n"
     ]
    },
    {
     "name": "stderr",
     "output_type": "stream",
     "text": [
      "  6%|▋         | 55/850 [00:46<10:53,  1.22it/s]"
     ]
    },
    {
     "name": "stdout",
     "output_type": "stream",
     "text": [
      "not descrption https://help.wrike.com/hc/en-us/search?page=1&query=Sharing+folders&utf8=%E2%9C%93\n"
     ]
    },
    {
     "name": "stderr",
     "output_type": "stream",
     "text": [
      "  8%|▊         | 68/850 [00:54<11:27,  1.14it/s]"
     ]
    },
    {
     "name": "stdout",
     "output_type": "stream",
     "text": [
      "not descrption https://help.wrike.com/hc/en-us/search?filter_by=knowledge_base&query=Gantt+chart&utf8=%E2%9C%93\n"
     ]
    },
    {
     "name": "stderr",
     "output_type": "stream",
     "text": [
      "\r",
      "  8%|▊         | 70/850 [00:56<11:00,  1.18it/s]"
     ]
    },
    {
     "name": "stdout",
     "output_type": "stream",
     "text": [
      "not descrption https://help.wrike.com/hc/en-us/search?page=12&query=Sharing+folders&utf8=%E2%9C%93\n"
     ]
    },
    {
     "name": "stderr",
     "output_type": "stream",
     "text": [
      "\r",
      "  8%|▊         | 71/850 [00:57<13:43,  1.06s/it]"
     ]
    },
    {
     "name": "stdout",
     "output_type": "stream",
     "text": [
      "not descrption https://help.wrike.com/hc/en-us/search?page=6&query=Sharing+folders&utf8=%E2%9C%93\n"
     ]
    },
    {
     "name": "stderr",
     "output_type": "stream",
     "text": [
      "  9%|▉         | 79/850 [01:02<10:52,  1.18it/s]"
     ]
    },
    {
     "name": "stdout",
     "output_type": "stream",
     "text": [
      "not descrption https://help.wrike.com/hc/en-us/search?category=200939185&filter_by=knowledge_base&query=Gantt+chart&utf8=%E2%9C%93\n"
     ]
    },
    {
     "name": "stderr",
     "output_type": "stream",
     "text": [
      "\r",
      " 10%|▉         | 83/850 [01:05<10:08,  1.26it/s]"
     ]
    },
    {
     "name": "stdout",
     "output_type": "stream",
     "text": [
      "not descrption https://help.wrike.com/hc/en-us/search?page=88&query=Sharing+folders&utf8=%E2%9C%93\n"
     ]
    },
    {
     "name": "stderr",
     "output_type": "stream",
     "text": [
      " 10%|█         | 85/850 [01:08<13:43,  1.08s/it]"
     ]
    },
    {
     "name": "stdout",
     "output_type": "stream",
     "text": [
      "not descrption https://help.wrike.com/hc/en-us/search?page=6&query=create+a+folder&utf8=%E2%9C%93\n"
     ]
    },
    {
     "name": "stderr",
     "output_type": "stream",
     "text": [
      " 10%|█         | 88/850 [01:12<16:23,  1.29s/it]"
     ]
    },
    {
     "name": "stdout",
     "output_type": "stream",
     "text": [
      "not descrption https://help.wrike.com/hc/en-us/search?filter_by=knowledge_base&query=time+report&utf8=%E2%9C%93\n"
     ]
    },
    {
     "name": "stderr",
     "output_type": "stream",
     "text": [
      " 11%|█▏        | 97/850 [01:23<20:44,  1.65s/it]"
     ]
    },
    {
     "name": "stdout",
     "output_type": "stream",
     "text": [
      "not descrption https://help.wrike.com/hc/en-us/search?filter_by=knowledge_base&query=Crea+attivit%C3%A0&utf8=%E2%9C%93\n"
     ]
    },
    {
     "name": "stderr",
     "output_type": "stream",
     "text": [
      "\r",
      " 12%|█▏        | 98/850 [01:24<21:09,  1.69s/it]"
     ]
    },
    {
     "name": "stdout",
     "output_type": "stream",
     "text": [
      "not descrption https://help.wrike.com/hc/en-us/search?page=9&query=Sharing+folders&utf8=%E2%9C%93\n"
     ]
    },
    {
     "name": "stderr",
     "output_type": "stream",
     "text": [
      " 12%|█▏        | 105/850 [01:31<16:19,  1.32s/it]"
     ]
    },
    {
     "name": "stdout",
     "output_type": "stream",
     "text": [
      "not descrption https://help.wrike.com/hc/en-us/search?query=Compartilhar+pastas&utf8=%E2%9C%93\n"
     ]
    },
    {
     "name": "stderr",
     "output_type": "stream",
     "text": [
      " 13%|█▎        | 111/850 [01:39<17:59,  1.46s/it]"
     ]
    },
    {
     "name": "stdout",
     "output_type": "stream",
     "text": [
      "not descrption https://help.wrike.com/hc/en-us/search?page=99&query=create+a+folder&utf8=%E2%9C%93\n"
     ]
    },
    {
     "name": "stderr",
     "output_type": "stream",
     "text": [
      " 13%|█▎        | 113/850 [01:42<16:51,  1.37s/it]"
     ]
    },
    {
     "name": "stdout",
     "output_type": "stream",
     "text": [
      "not descrption https://help.wrike.com/hc/en-us/search?page=1&query=Gantt+chart&utf8=%E2%9C%93\n"
     ]
    },
    {
     "name": "stderr",
     "output_type": "stream",
     "text": [
      " 15%|█▍        | 126/850 [01:49<11:37,  1.04it/s]"
     ]
    },
    {
     "name": "stdout",
     "output_type": "stream",
     "text": [
      "not descrption https://help.wrike.com/hc/en-us/search?page=81&query=Sharing+folders&utf8=%E2%9C%93\n"
     ]
    },
    {
     "name": "stderr",
     "output_type": "stream",
     "text": [
      " 17%|█▋        | 147/850 [02:03<10:10,  1.15it/s]"
     ]
    },
    {
     "name": "stdout",
     "output_type": "stream",
     "text": [
      "not descrption https://help.wrike.com/hc/en-us/search?page=2&query=create+a+folder&utf8=%E2%9C%93\n"
     ]
    },
    {
     "name": "stderr",
     "output_type": "stream",
     "text": [
      "\r",
      " 17%|█▋        | 148/850 [02:04<11:26,  1.02it/s]"
     ]
    },
    {
     "name": "stdout",
     "output_type": "stream",
     "text": [
      "not descrption https://help.wrike.com/hc/en-us/search?category=200942165&filter_by=knowledge_base&query=time+report&utf8=%E2%9C%93\n"
     ]
    },
    {
     "name": "stderr",
     "output_type": "stream",
     "text": [
      " 18%|█▊        | 157/850 [02:11<12:43,  1.10s/it]"
     ]
    },
    {
     "name": "stdout",
     "output_type": "stream",
     "text": [
      "not descrption https://help.wrike.com/hc/en-us/search?page=2&query=Gantt+chart&utf8=%E2%9C%93\n"
     ]
    },
    {
     "name": "stderr",
     "output_type": "stream",
     "text": [
      " 19%|█▉        | 163/850 [02:16<13:43,  1.20s/it]"
     ]
    },
    {
     "name": "stdout",
     "output_type": "stream",
     "text": [
      "not descrption https://help.wrike.com/hc/en-us/search?category=200942125&filter_by=knowledge_base&query=Diagramme+de+Gantt&utf8=%E2%9C%93\n"
     ]
    },
    {
     "name": "stderr",
     "output_type": "stream",
     "text": [
      " 20%|█▉        | 166/850 [02:19<11:45,  1.03s/it]"
     ]
    },
    {
     "name": "stdout",
     "output_type": "stream",
     "text": [
      "not descrption https://help.wrike.com/hc/en-us/search?filter_by=knowledge_base&page=6&query=time+report&utf8=%E2%9C%93\n"
     ]
    },
    {
     "name": "stderr",
     "output_type": "stream",
     "text": [
      " 20%|██        | 170/850 [02:22<12:00,  1.06s/it]"
     ]
    },
    {
     "name": "stdout",
     "output_type": "stream",
     "text": [
      "not descrption https://help.wrike.com/hc/en-us/search?filter_by=knowledge_base&page=4&query=time+report&utf8=%E2%9C%93\n"
     ]
    },
    {
     "name": "stderr",
     "output_type": "stream",
     "text": [
      " 21%|██        | 176/850 [02:26<11:29,  1.02s/it]"
     ]
    },
    {
     "name": "stdout",
     "output_type": "stream",
     "text": [
      "not descrption https://help.wrike.com/hc/en-us/search?query=Gantt-Diagramm&utf8=%E2%9C%93\n"
     ]
    },
    {
     "name": "stderr",
     "output_type": "stream",
     "text": [
      " 21%|██        | 180/850 [02:28<09:19,  1.20it/s]"
     ]
    },
    {
     "name": "stdout",
     "output_type": "stream",
     "text": [
      "not descrption https://help.wrike.com/hc/en-us/search?page=82&query=Sharing+folders&utf8=%E2%9C%93\n"
     ]
    },
    {
     "name": "stderr",
     "output_type": "stream",
     "text": [
      " 22%|██▏       | 185/850 [02:32<10:54,  1.02it/s]"
     ]
    },
    {
     "name": "stdout",
     "output_type": "stream",
     "text": [
      "not descrption https://help.wrike.com/hc/en-us/search?category=200942155&filter_by=knowledge_base&query=Gantt+chart&utf8=%E2%9C%93\n"
     ]
    },
    {
     "name": "stderr",
     "output_type": "stream",
     "text": [
      " 22%|██▏       | 189/850 [02:35<11:50,  1.08s/it]"
     ]
    },
    {
     "name": "stdout",
     "output_type": "stream",
     "text": [
      "not descrption https://help.wrike.com/hc/en-us/search?filter_by=knowledge_base&query=Sharing+folders&utf8=%E2%9C%93\n"
     ]
    },
    {
     "name": "stderr",
     "output_type": "stream",
     "text": [
      " 23%|██▎       | 192/850 [02:38<13:18,  1.21s/it]"
     ]
    },
    {
     "name": "stdout",
     "output_type": "stream",
     "text": [
      "not descrption https://help.wrike.com/hc/en-us/search?filter_by=knowledge_base&page=6&query=Sharing+folders&utf8=%E2%9C%93\n"
     ]
    },
    {
     "name": "stderr",
     "output_type": "stream",
     "text": [
      " 23%|██▎       | 199/850 [02:47<12:24,  1.14s/it]"
     ]
    },
    {
     "name": "stdout",
     "output_type": "stream",
     "text": [
      "not descrption https://help.wrike.com/hc/en-us/search?category=200942175&filter_by=knowledge_base&query=time+report&utf8=%E2%9C%93\n"
     ]
    },
    {
     "name": "stderr",
     "output_type": "stream",
     "text": [
      " 24%|██▍       | 203/850 [02:51<13:05,  1.21s/it]"
     ]
    },
    {
     "name": "stdout",
     "output_type": "stream",
     "text": [
      "not descrption https://help.wrike.com/hc/en-us/search?page=98&query=Sharing+folders&utf8=%E2%9C%93\n"
     ]
    },
    {
     "name": "stderr",
     "output_type": "stream",
     "text": [
      "\r",
      " 24%|██▍       | 204/850 [02:53<15:06,  1.40s/it]"
     ]
    },
    {
     "name": "stdout",
     "output_type": "stream",
     "text": [
      "not descrption https://help.wrike.com/hc/en-us/search?filter_by=knowledge_base&page=26&query=Creating+tasks&utf8=%E2%9C%93\n",
      "Error search?filter_by=knowledge_base&page=26&query=Creating+tasks&utf8=%E2%9C%93.csv\n"
     ]
    },
    {
     "name": "stderr",
     "output_type": "stream",
     "text": [
      " 25%|██▍       | 211/850 [03:00<12:20,  1.16s/it]"
     ]
    },
    {
     "name": "stdout",
     "output_type": "stream",
     "text": [
      "not descrption https://help.wrike.com/hc/en-us/search?page=20&query=Gantt+chart&utf8=%E2%9C%93\n"
     ]
    },
    {
     "name": "stderr",
     "output_type": "stream",
     "text": [
      " 26%|██▌       | 222/850 [03:08<08:41,  1.21it/s]"
     ]
    },
    {
     "name": "stdout",
     "output_type": "stream",
     "text": [
      "not descrption https://help.wrike.com/hc/en-us/search?filter_by=knowledge_base&page=19&query=time+report&utf8=%E2%9C%93\n"
     ]
    },
    {
     "name": "stderr",
     "output_type": "stream",
     "text": [
      "\r",
      " 26%|██▌       | 223/850 [03:11<13:49,  1.32s/it]"
     ]
    },
    {
     "name": "stdout",
     "output_type": "stream",
     "text": [
      "not descrption https://help.wrike.com/hc/en-us/search?filter_by=knowledge_base&page=3&query=Gantt+chart&utf8=%E2%9C%93\n"
     ]
    },
    {
     "name": "stderr",
     "output_type": "stream",
     "text": [
      " 27%|██▋       | 228/850 [03:14<12:16,  1.18s/it]"
     ]
    },
    {
     "name": "stdout",
     "output_type": "stream",
     "text": [
      "not descrption https://help.wrike.com/hc/en-us/search?page=30&query=Gantt+chart&utf8=%E2%9C%93\n"
     ]
    },
    {
     "name": "stderr",
     "output_type": "stream",
     "text": [
      " 27%|██▋       | 231/850 [03:19<15:39,  1.52s/it]"
     ]
    },
    {
     "name": "stdout",
     "output_type": "stream",
     "text": [
      "not descrption https://help.wrike.com/hc/en-us/search?filter_by=knowledge_base&page=6&query=Gantt+chart&utf8=%E2%9C%93\n"
     ]
    },
    {
     "name": "stderr",
     "output_type": "stream",
     "text": [
      " 28%|██▊       | 240/850 [03:24<08:57,  1.14it/s]"
     ]
    },
    {
     "name": "stdout",
     "output_type": "stream",
     "text": [
      "not descrption https://help.wrike.com/hc/en-us/search?category=200942135&filter_by=knowledge_base&query=Sharing+folders&utf8=%E2%9C%93\n"
     ]
    },
    {
     "name": "stderr",
     "output_type": "stream",
     "text": [
      "\r",
      " 28%|██▊       | 241/850 [03:26<12:25,  1.22s/it]"
     ]
    },
    {
     "name": "stdout",
     "output_type": "stream",
     "text": [
      "not descrption https://help.wrike.com/hc/en-us/search?filter_by=knowledge_base&page=6&query=Creating+tasks&utf8=%E2%9C%93\n",
      "Error search?filter_by=knowledge_base&page=6&query=Creating+tasks&utf8=%E2%9C%93.csv\n"
     ]
    },
    {
     "name": "stderr",
     "output_type": "stream",
     "text": [
      " 29%|██▊       | 244/850 [03:29<10:19,  1.02s/it]"
     ]
    },
    {
     "name": "stdout",
     "output_type": "stream",
     "text": [
      "not descrption https://help.wrike.com/hc/en-us/search?filter_by=knowledge_base&query=Compartilhar+pastas&utf8=%E2%9C%93\n"
     ]
    },
    {
     "name": "stderr",
     "output_type": "stream",
     "text": [
      " 30%|██▉       | 251/850 [03:36<14:20,  1.44s/it]"
     ]
    },
    {
     "name": "stdout",
     "output_type": "stream",
     "text": [
      "not descrption https://help.wrike.com/hc/en-us/search?page=6&query=Creating+tasks&utf8=%E2%9C%93\n"
     ]
    },
    {
     "name": "stderr",
     "output_type": "stream",
     "text": [
      "\r",
      " 30%|██▉       | 252/850 [03:38<14:35,  1.46s/it]"
     ]
    },
    {
     "name": "stdout",
     "output_type": "stream",
     "text": [
      "not descrption https://help.wrike.com/hc/en-us/search?utf8=%E2%9C%93&query=Sharing+folders\n"
     ]
    },
    {
     "name": "stderr",
     "output_type": "stream",
     "text": [
      " 31%|███       | 265/850 [03:55<12:11,  1.25s/it]"
     ]
    },
    {
     "name": "stdout",
     "output_type": "stream",
     "text": [
      "not descrption https://help.wrike.com/hc/en-us/search?page=98&query=time+report&utf8=%E2%9C%93\n"
     ]
    },
    {
     "name": "stderr",
     "output_type": "stream",
     "text": [
      " 33%|███▎      | 281/850 [04:05<10:45,  1.13s/it]"
     ]
    },
    {
     "name": "stdout",
     "output_type": "stream",
     "text": [
      "not descrption https://help.wrike.com/hc/en-us/search?page=23&query=Sharing+folders&utf8=%E2%9C%93\n"
     ]
    },
    {
     "name": "stderr",
     "output_type": "stream",
     "text": [
      "\r",
      " 33%|███▎      | 282/850 [04:06<11:32,  1.22s/it]"
     ]
    },
    {
     "name": "stdout",
     "output_type": "stream",
     "text": [
      "not descrption https://help.wrike.com/hc/en-us/search?page=92&query=Creating+tasks&utf8=%E2%9C%93\n",
      "Error search?page=92&query=Creating+tasks&utf8=%E2%9C%93.csv\n"
     ]
    },
    {
     "name": "stderr",
     "output_type": "stream",
     "text": [
      " 33%|███▎      | 284/850 [04:08<10:23,  1.10s/it]"
     ]
    },
    {
     "name": "stdout",
     "output_type": "stream",
     "text": [
      "not descrption https://help.wrike.com/hc/en-us/search?filter_by=knowledge_base&query=Diagramas+de+Gantt&utf8=%E2%9C%93\n"
     ]
    },
    {
     "name": "stderr",
     "output_type": "stream",
     "text": [
      "\r",
      " 34%|███▎      | 286/850 [04:10<09:45,  1.04s/it]"
     ]
    },
    {
     "name": "stdout",
     "output_type": "stream",
     "text": [
      "not descrption https://help.wrike.com/hc/en-us/search?category=200913179&filter_by=knowledge_base&query=Sharing+folders&utf8=%E2%9C%93\n"
     ]
    },
    {
     "name": "stderr",
     "output_type": "stream",
     "text": [
      "\r",
      " 34%|███▍      | 290/850 [04:11<07:50,  1.19it/s]"
     ]
    },
    {
     "name": "stdout",
     "output_type": "stream",
     "text": [
      "not descrption https://help.wrike.com/hc/en-us/search?page=24&query=Sharing+folders&utf8=%E2%9C%93\n"
     ]
    },
    {
     "name": "stderr",
     "output_type": "stream",
     "text": [
      "\r",
      " 34%|███▍      | 292/850 [04:13<08:02,  1.16it/s]"
     ]
    },
    {
     "name": "stdout",
     "output_type": "stream",
     "text": [
      "not descrption https://help.wrike.com/hc/en-us/search?category=201188645&filter_by=knowledge_base&query=time+report&utf8=%E2%9C%93\n"
     ]
    },
    {
     "name": "stderr",
     "output_type": "stream",
     "text": [
      " 35%|███▌      | 301/850 [04:19<09:39,  1.06s/it]"
     ]
    },
    {
     "name": "stdout",
     "output_type": "stream",
     "text": [
      "not descrption https://help.wrike.com/hc/en-us/search?page=8&query=time+report&utf8=%E2%9C%93\n"
     ]
    },
    {
     "name": "stderr",
     "output_type": "stream",
     "text": [
      "\r",
      " 36%|███▌      | 302/850 [04:21<10:57,  1.20s/it]"
     ]
    },
    {
     "name": "stdout",
     "output_type": "stream",
     "text": [
      "not descrption https://help.wrike.com/hc/en-us/search?page=4&query=time+report&utf8=%E2%9C%93\n"
     ]
    },
    {
     "name": "stderr",
     "output_type": "stream",
     "text": [
      " 37%|███▋      | 316/850 [04:31<09:32,  1.07s/it]"
     ]
    },
    {
     "name": "stdout",
     "output_type": "stream",
     "text": [
      "not descrption https://help.wrike.com/hc/en-us/search?filter_by=knowledge_base&page=3&query=time+report&utf8=%E2%9C%93\n"
     ]
    },
    {
     "name": "stderr",
     "output_type": "stream",
     "text": [
      " 38%|███▊      | 320/850 [04:34<09:14,  1.05s/it]"
     ]
    },
    {
     "name": "stdout",
     "output_type": "stream",
     "text": [
      "not descrption https://help.wrike.com/hc/en-us/search?page=11&query=time+report&utf8=%E2%9C%93\n"
     ]
    },
    {
     "name": "stderr",
     "output_type": "stream",
     "text": [
      " 39%|███▊      | 329/850 [04:39<07:54,  1.10it/s]"
     ]
    },
    {
     "name": "stdout",
     "output_type": "stream",
     "text": [
      "not descrption https://help.wrike.com/hc/en-us/search?filter_by=knowledge_base&query=Diagramme+de+Gantt&utf8=%E2%9C%93\n"
     ]
    },
    {
     "name": "stderr",
     "output_type": "stream",
     "text": [
      " 39%|███▉      | 332/850 [04:43<09:24,  1.09s/it]"
     ]
    },
    {
     "name": "stdout",
     "output_type": "stream",
     "text": [
      "not descrption https://help.wrike.com/hc/en-us/search?page=19&query=Sharing+folders&utf8=%E2%9C%93\n"
     ]
    },
    {
     "name": "stderr",
     "output_type": "stream",
     "text": [
      " 39%|███▉      | 334/850 [04:46<11:23,  1.32s/it]"
     ]
    },
    {
     "name": "stdout",
     "output_type": "stream",
     "text": [
      "not descrption https://help.wrike.com/hc/en-us/search?page=100&query=Sharing+folders&utf8=%E2%9C%93\n"
     ]
    },
    {
     "name": "stderr",
     "output_type": "stream",
     "text": [
      "\r",
      " 39%|███▉      | 335/850 [04:47<11:50,  1.38s/it]"
     ]
    },
    {
     "name": "stdout",
     "output_type": "stream",
     "text": [
      "not descrption https://help.wrike.com/hc/en-us/search?page=6&query=Gantt+chart&utf8=%E2%9C%93\n"
     ]
    },
    {
     "name": "stderr",
     "output_type": "stream",
     "text": [
      " 40%|████      | 343/850 [04:54<08:40,  1.03s/it]"
     ]
    },
    {
     "name": "stdout",
     "output_type": "stream",
     "text": [
      "not descrption https://help.wrike.com/hc/en-us/search?category=200942135&filter_by=knowledge_base&query=Gantt+chart&utf8=%E2%9C%93\n"
     ]
    },
    {
     "name": "stderr",
     "output_type": "stream",
     "text": [
      " 43%|████▎     | 363/850 [05:07<08:17,  1.02s/it]"
     ]
    },
    {
     "name": "stdout",
     "output_type": "stream",
     "text": [
      "not descrption https://help.wrike.com/hc/en-us/search?page=3&query=Crea+attivit%C3%A0&utf8=%E2%9C%93\n"
     ]
    },
    {
     "name": "stderr",
     "output_type": "stream",
     "text": [
      " 44%|████▍     | 373/850 [05:12<07:42,  1.03it/s]"
     ]
    },
    {
     "name": "stdout",
     "output_type": "stream",
     "text": [
      "not descrption https://help.wrike.com/hc/en-us/search?utf8=%E2%9C%93&query=Gantt+chart\n"
     ]
    },
    {
     "name": "stderr",
     "output_type": "stream",
     "text": [
      " 45%|████▍     | 381/850 [05:17<06:25,  1.22it/s]"
     ]
    },
    {
     "name": "stdout",
     "output_type": "stream",
     "text": [
      "not descrption https://help.wrike.com/hc/en-us/search?page=96&query=create+a+folder&utf8=%E2%9C%93\n"
     ]
    },
    {
     "name": "stderr",
     "output_type": "stream",
     "text": [
      " 45%|████▌     | 384/850 [05:20<07:34,  1.03it/s]"
     ]
    },
    {
     "name": "stdout",
     "output_type": "stream",
     "text": [
      "not descrption https://help.wrike.com/hc/en-us/search?page=5&query=create+a+folder&utf8=%E2%9C%93\n"
     ]
    },
    {
     "name": "stderr",
     "output_type": "stream",
     "text": [
      " 47%|████▋     | 401/850 [05:31<06:08,  1.22it/s]"
     ]
    },
    {
     "name": "stdout",
     "output_type": "stream",
     "text": [
      "not descrption https://help.wrike.com/hc/en-us/search?page=17&query=Sharing+folders&utf8=%E2%9C%93\n"
     ]
    },
    {
     "name": "stderr",
     "output_type": "stream",
     "text": [
      " 49%|████▉     | 415/850 [05:37<06:19,  1.15it/s]"
     ]
    },
    {
     "name": "stdout",
     "output_type": "stream",
     "text": [
      "not descrption https://help.wrike.com/hc/en-us/search?page=8&query=Creating+tasks&utf8=%E2%9C%93\n",
      "Error search?page=8&query=Creating+tasks&utf8=%E2%9C%93.csv\n"
     ]
    },
    {
     "name": "stderr",
     "output_type": "stream",
     "text": [
      " 49%|████▉     | 419/850 [05:41<06:06,  1.18it/s]"
     ]
    },
    {
     "name": "stdout",
     "output_type": "stream",
     "text": [
      "not descrption https://help.wrike.com/hc/en-us/search?filter_by=knowledge_base&query=create+a+folder&utf8=%E2%9C%93\n"
     ]
    },
    {
     "name": "stderr",
     "output_type": "stream",
     "text": [
      " 50%|████▉     | 424/850 [05:45<05:56,  1.19it/s]"
     ]
    },
    {
     "name": "stdout",
     "output_type": "stream",
     "text": [
      "not descrption https://help.wrike.com/hc/en-us/search?category=200942155&filter_by=knowledge_base&query=time+report&utf8=%E2%9C%93\n"
     ]
    },
    {
     "name": "stderr",
     "output_type": "stream",
     "text": [
      " 51%|█████▏    | 436/850 [05:53<07:21,  1.07s/it]"
     ]
    },
    {
     "name": "stdout",
     "output_type": "stream",
     "text": [
      "not descrption https://help.wrike.com/hc/en-us/search?page=15&query=Gantt+chart&utf8=%E2%9C%93\n"
     ]
    },
    {
     "name": "stderr",
     "output_type": "stream",
     "text": [
      " 52%|█████▏    | 444/850 [06:00<06:04,  1.11it/s]"
     ]
    },
    {
     "name": "stdout",
     "output_type": "stream",
     "text": [
      "not descrption https://help.wrike.com/hc/en-us/search?page=18&query=Sharing+folders&utf8=%E2%9C%93\n"
     ]
    },
    {
     "name": "stderr",
     "output_type": "stream",
     "text": [
      " 54%|█████▎    | 456/850 [06:07<06:07,  1.07it/s]"
     ]
    },
    {
     "name": "stdout",
     "output_type": "stream",
     "text": [
      "not descrption https://help.wrike.com/hc/en-us/search?page=10&query=create+a+folder&utf8=%E2%9C%93\n"
     ]
    },
    {
     "name": "stderr",
     "output_type": "stream",
     "text": [
      " 54%|█████▍    | 458/850 [06:09<07:06,  1.09s/it]"
     ]
    },
    {
     "name": "stdout",
     "output_type": "stream",
     "text": [
      "not descrption https://help.wrike.com/hc/en-us/search?page=98&query=Creating+tasks&utf8=%E2%9C%93\n",
      "Error search?page=98&query=Creating+tasks&utf8=%E2%9C%93.csv\n"
     ]
    },
    {
     "name": "stderr",
     "output_type": "stream",
     "text": [
      "\r",
      " 54%|█████▍    | 459/850 [06:11<09:10,  1.41s/it]"
     ]
    },
    {
     "name": "stdout",
     "output_type": "stream",
     "text": [
      "not descrption https://help.wrike.com/hc/en-us/search?page=11&query=Sharing+folders&utf8=%E2%9C%93\n"
     ]
    },
    {
     "name": "stderr",
     "output_type": "stream",
     "text": [
      " 55%|█████▍    | 464/850 [06:16<07:57,  1.24s/it]"
     ]
    },
    {
     "name": "stdout",
     "output_type": "stream",
     "text": [
      "not descrption https://help.wrike.com/hc/en-us/search?filter_by=knowledge_base&page=3&query=Creating+tasks&utf8=%E2%9C%93\n",
      "Error search?filter_by=knowledge_base&page=3&query=Creating+tasks&utf8=%E2%9C%93.csv\n"
     ]
    },
    {
     "name": "stderr",
     "output_type": "stream",
     "text": [
      " 55%|█████▌    | 469/850 [06:22<11:25,  1.80s/it]"
     ]
    },
    {
     "name": "stdout",
     "output_type": "stream",
     "text": [
      "not descrption https://help.wrike.com/hc/en-us/search?category=200939185&filter_by=knowledge_base&query=Sharing+folders&utf8=%E2%9C%93\n"
     ]
    },
    {
     "name": "stderr",
     "output_type": "stream",
     "text": [
      " 56%|█████▌    | 473/850 [06:25<07:58,  1.27s/it]"
     ]
    },
    {
     "name": "stdout",
     "output_type": "stream",
     "text": [
      "not descrption https://help.wrike.com/hc/en-us/search?page=91&query=Sharing+folders&utf8=%E2%9C%93\n"
     ]
    },
    {
     "name": "stderr",
     "output_type": "stream",
     "text": [
      "\r",
      " 56%|█████▌    | 474/850 [06:27<09:13,  1.47s/it]"
     ]
    },
    {
     "name": "stdout",
     "output_type": "stream",
     "text": [
      "not descrption https://help.wrike.com/hc/en-us/search?category=200942125&filter_by=knowledge_base&query=Sharing+folders&utf8=%E2%9C%93\n"
     ]
    },
    {
     "name": "stderr",
     "output_type": "stream",
     "text": [
      " 56%|█████▌    | 478/850 [06:32<09:17,  1.50s/it]"
     ]
    },
    {
     "name": "stdout",
     "output_type": "stream",
     "text": [
      "not descrption https://help.wrike.com/hc/en-us/search?category=201188645&filter_by=knowledge_base&query=Creating+tasks&utf8=%E2%9C%93\n",
      "Error search?category=201188645&filter_by=knowledge_base&query=Creating+tasks&utf8=%E2%9C%93.csv\n"
     ]
    },
    {
     "name": "stderr",
     "output_type": "stream",
     "text": [
      " 58%|█████▊    | 490/850 [06:41<05:39,  1.06it/s]"
     ]
    },
    {
     "name": "stdout",
     "output_type": "stream",
     "text": [
      "not descrption https://help.wrike.com/hc/en-us/search?category=200942115&filter_by=knowledge_base&query=create+a+folder&utf8=%E2%9C%93\n"
     ]
    },
    {
     "name": "stderr",
     "output_type": "stream",
     "text": [
      " 59%|█████▊    | 498/850 [06:47<06:08,  1.05s/it]"
     ]
    },
    {
     "name": "stdout",
     "output_type": "stream",
     "text": [
      "not descrption https://help.wrike.com/hc/en-us/search?page=4&query=create+a+folder&utf8=%E2%9C%93\n"
     ]
    },
    {
     "name": "stderr",
     "output_type": "stream",
     "text": [
      " 59%|█████▉    | 501/850 [06:50<06:44,  1.16s/it]"
     ]
    },
    {
     "name": "stdout",
     "output_type": "stream",
     "text": [
      "not descrption https://help.wrike.com/hc/en-us/search?page=28&query=Sharing+folders&utf8=%E2%9C%93\n"
     ]
    },
    {
     "name": "stderr",
     "output_type": "stream",
     "text": [
      " 59%|█████▉    | 503/850 [06:52<06:36,  1.14s/it]"
     ]
    },
    {
     "name": "stdout",
     "output_type": "stream",
     "text": [
      "not descrption https://help.wrike.com/hc/en-us/search?page=96&query=Creating+tasks&utf8=%E2%9C%93\n",
      "Error search?page=96&query=Creating+tasks&utf8=%E2%9C%93.csv\n"
     ]
    },
    {
     "name": "stderr",
     "output_type": "stream",
     "text": [
      " 60%|█████▉    | 506/850 [06:56<06:58,  1.22s/it]"
     ]
    },
    {
     "name": "stdout",
     "output_type": "stream",
     "text": [
      "not descrption https://help.wrike.com/hc/en-us/search?page=1&query=create+a+folder&utf8=%E2%9C%93\n"
     ]
    },
    {
     "name": "stderr",
     "output_type": "stream",
     "text": [
      " 61%|██████    | 516/850 [07:01<04:23,  1.27it/s]"
     ]
    },
    {
     "name": "stdout",
     "output_type": "stream",
     "text": [
      "not descrption https://help.wrike.com/hc/en-us/search?page=7&query=Creating+tasks&utf8=%E2%9C%93\n",
      "Error search?page=7&query=Creating+tasks&utf8=%E2%9C%93.csv\n"
     ]
    },
    {
     "name": "stderr",
     "output_type": "stream",
     "text": [
      " 61%|██████    | 519/850 [07:06<07:45,  1.41s/it]"
     ]
    },
    {
     "name": "stdout",
     "output_type": "stream",
     "text": [
      "not descrption https://help.wrike.com/hc/en-us/search?page=25&query=Gantt+chart&utf8=%E2%9C%93\n"
     ]
    },
    {
     "name": "stderr",
     "output_type": "stream",
     "text": [
      "\r",
      " 61%|██████    | 520/850 [07:07<08:31,  1.55s/it]"
     ]
    },
    {
     "name": "stdout",
     "output_type": "stream",
     "text": [
      "not descrption https://help.wrike.com/hc/en-us/search?utf8=%E2%9C%93&query=mentioning\n"
     ]
    },
    {
     "name": "stderr",
     "output_type": "stream",
     "text": [
      " 61%|██████▏   | 522/850 [07:11<09:50,  1.80s/it]"
     ]
    },
    {
     "name": "stdout",
     "output_type": "stream",
     "text": [
      "not descrption https://help.wrike.com/hc/en-us/search?category=200942115&filter_by=knowledge_base&query=Gantt+chart&utf8=%E2%9C%93\n"
     ]
    },
    {
     "name": "stderr",
     "output_type": "stream",
     "text": [
      " 62%|██████▏   | 530/850 [07:18<05:55,  1.11s/it]"
     ]
    },
    {
     "name": "stdout",
     "output_type": "stream",
     "text": [
      "not descrption https://help.wrike.com/hc/en-us/search?filter_by=knowledge_base&page=5&query=create+a+folder&utf8=%E2%9C%93\n"
     ]
    },
    {
     "name": "stderr",
     "output_type": "stream",
     "text": [
      " 63%|██████▎   | 532/850 [07:21<06:26,  1.22s/it]"
     ]
    },
    {
     "name": "stdout",
     "output_type": "stream",
     "text": [
      "not descrption https://help.wrike.com/hc/en-us/search?category=200942165&filter_by=knowledge_base&query=Gantt+chart&utf8=%E2%9C%93\n"
     ]
    },
    {
     "name": "stderr",
     "output_type": "stream",
     "text": [
      " 64%|██████▎   | 540/850 [07:30<05:46,  1.12s/it]"
     ]
    },
    {
     "name": "stdout",
     "output_type": "stream",
     "text": [
      "not descrption https://help.wrike.com/hc/en-us/search?page=29&query=Gantt+chart&utf8=%E2%9C%93\n"
     ]
    },
    {
     "name": "stderr",
     "output_type": "stream",
     "text": [
      " 64%|██████▍   | 544/850 [07:33<06:08,  1.21s/it]"
     ]
    },
    {
     "name": "stdout",
     "output_type": "stream",
     "text": [
      "not descrption https://help.wrike.com/hc/en-us/search?page=26&query=Sharing+folders&utf8=%E2%9C%93\n"
     ]
    },
    {
     "name": "stderr",
     "output_type": "stream",
     "text": [
      " 65%|██████▌   | 553/850 [07:42<04:54,  1.01it/s]"
     ]
    },
    {
     "name": "stdout",
     "output_type": "stream",
     "text": [
      "not descrption https://help.wrike.com/hc/en-us/search?page=7&query=Sharing+folders&utf8=%E2%9C%93\n"
     ]
    },
    {
     "name": "stderr",
     "output_type": "stream",
     "text": [
      " 65%|██████▌   | 555/850 [07:44<05:52,  1.19s/it]"
     ]
    },
    {
     "name": "stdout",
     "output_type": "stream",
     "text": [
      "not descrption https://help.wrike.com/hc/en-us/search?page=83&query=Sharing+folders&utf8=%E2%9C%93\n"
     ]
    },
    {
     "name": "stderr",
     "output_type": "stream",
     "text": [
      "\r",
      " 66%|██████▌   | 557/850 [07:46<05:34,  1.14s/it]"
     ]
    },
    {
     "name": "stdout",
     "output_type": "stream",
     "text": [
      "not descrption https://help.wrike.com/hc/en-us/search?filter_by=knowledge_base&page=5&query=Gantt+chart&utf8=%E2%9C%93\n"
     ]
    },
    {
     "name": "stderr",
     "output_type": "stream",
     "text": [
      " 67%|██████▋   | 568/850 [07:55<05:54,  1.26s/it]"
     ]
    },
    {
     "name": "stdout",
     "output_type": "stream",
     "text": [
      "not descrption https://help.wrike.com/hc/en-us/search?query=Gr%C3%A1fico+de+Gantt&utf8=%E2%9C%93\n",
      "Error search?query=Gr%C3%A1fico+de+Gantt&utf8=%E2%9C%93.csv\n"
     ]
    },
    {
     "name": "stderr",
     "output_type": "stream",
     "text": [
      " 67%|██████▋   | 571/850 [07:59<05:37,  1.21s/it]"
     ]
    },
    {
     "name": "stdout",
     "output_type": "stream",
     "text": [
      "not descrption https://help.wrike.com/hc/en-us/search?page=22&query=Sharing+folders&utf8=%E2%9C%93\n"
     ]
    },
    {
     "name": "stderr",
     "output_type": "stream",
     "text": [
      " 67%|██████▋   | 573/850 [08:01<05:42,  1.24s/it]"
     ]
    },
    {
     "name": "stdout",
     "output_type": "stream",
     "text": [
      "not descrption https://help.wrike.com/hc/en-us/search?category=200942155&filter_by=knowledge_base&query=Creating+tasks&utf8=%E2%9C%93\n",
      "Error search?category=200942155&filter_by=knowledge_base&query=Creating+tasks&utf8=%E2%9C%93.csv\n"
     ]
    },
    {
     "name": "stderr",
     "output_type": "stream",
     "text": [
      " 68%|██████▊   | 576/850 [08:04<05:29,  1.20s/it]"
     ]
    },
    {
     "name": "stdout",
     "output_type": "stream",
     "text": [
      "not descrption https://help.wrike.com/hc/en-us/search?page=11&query=create+a+folder&utf8=%E2%9C%93\n"
     ]
    },
    {
     "name": "stderr",
     "output_type": "stream",
     "text": [
      "\r",
      " 68%|██████▊   | 577/850 [08:06<05:51,  1.29s/it]"
     ]
    },
    {
     "name": "stdout",
     "output_type": "stream",
     "text": [
      "not descrption https://help.wrike.com/hc/en-us/search?page=14&query=Sharing+folders&utf8=%E2%9C%93\n"
     ]
    },
    {
     "name": "stderr",
     "output_type": "stream",
     "text": [
      "\r",
      " 68%|██████▊   | 578/850 [08:07<06:10,  1.36s/it]"
     ]
    },
    {
     "name": "stdout",
     "output_type": "stream",
     "text": [
      "not descrption https://help.wrike.com/hc/en-us/search?page=98&query=create+a+folder&utf8=%E2%9C%93\n"
     ]
    },
    {
     "name": "stderr",
     "output_type": "stream",
     "text": [
      " 70%|██████▉   | 591/850 [08:16<02:48,  1.54it/s]"
     ]
    },
    {
     "name": "stdout",
     "output_type": "stream",
     "text": [
      "not descrption https://help.wrike.com/hc/en-us/search?page=2&query=Crear+tareas&utf8=%E2%9C%93\n"
     ]
    },
    {
     "name": "stderr",
     "output_type": "stream",
     "text": [
      " 73%|███████▎  | 619/850 [08:34<03:37,  1.06it/s]"
     ]
    },
    {
     "name": "stdout",
     "output_type": "stream",
     "text": [
      "not descrption https://help.wrike.com/hc/en-us/search?filter_by=knowledge_base&page=5&query=time+report&utf8=%E2%9C%93\n"
     ]
    },
    {
     "name": "stderr",
     "output_type": "stream",
     "text": [
      "\r",
      " 73%|███████▎  | 621/850 [08:36<03:34,  1.07it/s]"
     ]
    },
    {
     "name": "stdout",
     "output_type": "stream",
     "text": [
      "not descrption https://help.wrike.com/hc/en-us/search?filter_by=knowledge_base&query=Creating+tasks&utf8=%E2%9C%93\n"
     ]
    },
    {
     "name": "stderr",
     "output_type": "stream",
     "text": [
      " 75%|███████▌  | 640/850 [08:48<03:31,  1.01s/it]"
     ]
    },
    {
     "name": "stdout",
     "output_type": "stream",
     "text": [
      "not descrption https://help.wrike.com/hc/en-us/search?page=2&query=Sharing+folders&utf8=%E2%9C%93\n"
     ]
    },
    {
     "name": "stderr",
     "output_type": "stream",
     "text": [
      " 76%|███████▌  | 645/850 [08:53<03:58,  1.16s/it]"
     ]
    },
    {
     "name": "stdout",
     "output_type": "stream",
     "text": [
      "not descrption https://help.wrike.com/hc/en-us/search?category=201188645&filter_by=knowledge_base&query=Gantt+chart&utf8=%E2%9C%93\n"
     ]
    },
    {
     "name": "stderr",
     "output_type": "stream",
     "text": [
      "\r",
      " 76%|███████▌  | 646/850 [08:55<04:38,  1.36s/it]"
     ]
    },
    {
     "name": "stdout",
     "output_type": "stream",
     "text": [
      "not descrption https://help.wrike.com/hc/en-us/search?filter_by=knowledge_base&page=2&query=Gantt+chart&utf8=%E2%9C%93\n"
     ]
    },
    {
     "name": "stderr",
     "output_type": "stream",
     "text": [
      " 77%|███████▋  | 653/850 [09:00<03:45,  1.14s/it]"
     ]
    },
    {
     "name": "stdout",
     "output_type": "stream",
     "text": [
      "not descrption https://help.wrike.com/hc/en-us/search?filter_by=knowledge_base&page=4&query=Gantt+chart&utf8=%E2%9C%93\n"
     ]
    },
    {
     "name": "stderr",
     "output_type": "stream",
     "text": [
      "\r",
      " 77%|███████▋  | 654/850 [09:02<04:44,  1.45s/it]"
     ]
    },
    {
     "name": "stdout",
     "output_type": "stream",
     "text": [
      "not descrption https://help.wrike.com/hc/en-us/search?utf8=%E2%9C%93&query=create+a+folder\n"
     ]
    },
    {
     "name": "stderr",
     "output_type": "stream",
     "text": [
      "\r",
      " 77%|███████▋  | 655/850 [09:04<04:40,  1.44s/it]"
     ]
    },
    {
     "name": "stdout",
     "output_type": "stream",
     "text": [
      "not descrption https://help.wrike.com/hc/en-us/search?query=Diagramme+de+Gantt&utf8=%E2%9C%93\n"
     ]
    },
    {
     "name": "stderr",
     "output_type": "stream",
     "text": [
      " 78%|███████▊  | 662/850 [09:10<03:51,  1.23s/it]"
     ]
    },
    {
     "name": "stdout",
     "output_type": "stream",
     "text": [
      "not descrption https://help.wrike.com/hc/en-us/search?page=79&query=Sharing+folders&utf8=%E2%9C%93\n"
     ]
    },
    {
     "name": "stderr",
     "output_type": "stream",
     "text": [
      " 78%|███████▊  | 664/850 [09:14<05:10,  1.67s/it]"
     ]
    },
    {
     "name": "stdout",
     "output_type": "stream",
     "text": [
      "not descrption https://help.wrike.com/hc/en-us/search?page=3&query=Crear+tareas&utf8=%E2%9C%93\n"
     ]
    },
    {
     "name": "stderr",
     "output_type": "stream",
     "text": [
      " 79%|███████▉  | 670/850 [09:19<03:37,  1.21s/it]"
     ]
    },
    {
     "name": "stdout",
     "output_type": "stream",
     "text": [
      "not descrption https://help.wrike.com/hc/en-us/search?page=10&query=Creating+tasks&utf8=%E2%9C%93\n",
      "Error search?page=10&query=Creating+tasks&utf8=%E2%9C%93.csv\n"
     ]
    },
    {
     "name": "stderr",
     "output_type": "stream",
     "text": [
      " 80%|████████  | 680/850 [09:25<02:14,  1.26it/s]"
     ]
    },
    {
     "name": "stdout",
     "output_type": "stream",
     "text": [
      "not descrption https://help.wrike.com/hc/en-us/community/posts/360018621913-Can-I-resend-a-Tasks-for-Today-email-?page=1\n"
     ]
    },
    {
     "name": "stderr",
     "output_type": "stream",
     "text": [
      " 80%|████████  | 682/850 [09:28<03:15,  1.17s/it]"
     ]
    },
    {
     "name": "stdout",
     "output_type": "stream",
     "text": [
      "not descrption https://help.wrike.com/hc/en-us/search?filter_by=knowledge_base&page=5&query=Creating+tasks&utf8=%E2%9C%93\n",
      "Error search?filter_by=knowledge_base&page=5&query=Creating+tasks&utf8=%E2%9C%93.csv\n"
     ]
    },
    {
     "name": "stderr",
     "output_type": "stream",
     "text": [
      " 81%|████████  | 687/850 [09:33<03:34,  1.32s/it]"
     ]
    },
    {
     "name": "stdout",
     "output_type": "stream",
     "text": [
      "not descrption https://help.wrike.com/hc/en-us/search?filter_by=knowledge_base&page=3&query=create+a+folder&utf8=%E2%9C%93\n"
     ]
    },
    {
     "name": "stderr",
     "output_type": "stream",
     "text": [
      "\r",
      " 81%|████████  | 688/850 [09:35<04:05,  1.51s/it]"
     ]
    },
    {
     "name": "stdout",
     "output_type": "stream",
     "text": [
      "not descrption https://help.wrike.com/hc/en-us/search?category=200942135&filter_by=knowledge_base&query=create+a+folder&utf8=%E2%9C%93\n"
     ]
    },
    {
     "name": "stderr",
     "output_type": "stream",
     "text": [
      " 82%|████████▏ | 694/850 [09:41<03:15,  1.25s/it]"
     ]
    },
    {
     "name": "stdout",
     "output_type": "stream",
     "text": [
      "not descrption https://help.wrike.com/hc/en-us/search?page=28&query=Gantt+chart&utf8=%E2%9C%93\n"
     ]
    },
    {
     "name": "stderr",
     "output_type": "stream",
     "text": [
      " 82%|████████▏ | 698/850 [09:46<03:10,  1.25s/it]"
     ]
    },
    {
     "name": "stdout",
     "output_type": "stream",
     "text": [
      "not descrption https://help.wrike.com/hc/en-us/search?page=24&query=Gantt+chart&utf8=%E2%9C%93\n"
     ]
    },
    {
     "name": "stderr",
     "output_type": "stream",
     "text": [
      " 83%|████████▎ | 706/850 [09:52<02:14,  1.07it/s]"
     ]
    },
    {
     "name": "stdout",
     "output_type": "stream",
     "text": [
      "not descrption https://help.wrike.com/hc/en-us/search?category=201188645&filter_by=knowledge_base&query=create+a+folder&utf8=%E2%9C%93\n"
     ]
    },
    {
     "name": "stderr",
     "output_type": "stream",
     "text": [
      " 83%|████████▎ | 708/850 [09:54<02:31,  1.07s/it]"
     ]
    },
    {
     "name": "stdout",
     "output_type": "stream",
     "text": [
      "not descrption https://help.wrike.com/hc/en-us/search?page=11&query=Creating+tasks&utf8=%E2%9C%93\n",
      "Error search?page=11&query=Creating+tasks&utf8=%E2%9C%93.csv\n"
     ]
    },
    {
     "name": "stderr",
     "output_type": "stream",
     "text": [
      "\r",
      " 84%|████████▎ | 710/850 [09:56<02:19,  1.01it/s]"
     ]
    },
    {
     "name": "stdout",
     "output_type": "stream",
     "text": [
      "not descrption https://help.wrike.com/hc/en-us/search?page=16&query=Sharing+folders&utf8=%E2%9C%93\n"
     ]
    },
    {
     "name": "stderr",
     "output_type": "stream",
     "text": [
      " 84%|████████▍ | 714/850 [09:59<02:16,  1.01s/it]"
     ]
    },
    {
     "name": "stdout",
     "output_type": "stream",
     "text": [
      "not descrption https://help.wrike.com/hc/en-us/search?page=23&query=Gantt+chart&utf8=%E2%9C%93\n"
     ]
    },
    {
     "name": "stderr",
     "output_type": "stream",
     "text": [
      " 84%|████████▍ | 716/850 [10:01<02:43,  1.22s/it]"
     ]
    },
    {
     "name": "stdout",
     "output_type": "stream",
     "text": [
      "not descrption https://help.wrike.com/hc/en-us/search?category=200913179&filter_by=knowledge_base&query=create+a+folder&utf8=%E2%9C%93\n"
     ]
    },
    {
     "name": "stderr",
     "output_type": "stream",
     "text": [
      "\r",
      " 84%|████████▍ | 717/850 [10:03<03:04,  1.39s/it]"
     ]
    },
    {
     "name": "stdout",
     "output_type": "stream",
     "text": [
      "not descrption https://help.wrike.com/hc/en-us/search?page=16&query=Creating+tasks&utf8=%E2%9C%93\n",
      "Error search?page=16&query=Creating+tasks&utf8=%E2%9C%93.csv\n"
     ]
    },
    {
     "name": "stderr",
     "output_type": "stream",
     "text": [
      " 85%|████████▍ | 719/850 [10:06<03:00,  1.38s/it]"
     ]
    },
    {
     "name": "stdout",
     "output_type": "stream",
     "text": [
      "not descrption https://help.wrike.com/hc/en-us/search?category=200942115&filter_by=knowledge_base&query=Sharing+folders&utf8=%E2%9C%93\n"
     ]
    },
    {
     "name": "stderr",
     "output_type": "stream",
     "text": [
      " 85%|████████▍ | 721/850 [10:08<03:01,  1.41s/it]"
     ]
    },
    {
     "name": "stdout",
     "output_type": "stream",
     "text": [
      "not descrption https://help.wrike.com/hc/en-us/search?page=15&query=Sharing+folders&utf8=%E2%9C%93\n"
     ]
    },
    {
     "name": "stderr",
     "output_type": "stream",
     "text": [
      " 86%|████████▌ | 727/850 [10:14<02:25,  1.18s/it]"
     ]
    },
    {
     "name": "stdout",
     "output_type": "stream",
     "text": [
      "not descrption https://help.wrike.com/hc/en-us/search?filter_by=knowledge_base&page=2&query=time+report&utf8=%E2%9C%93\n"
     ]
    },
    {
     "name": "stderr",
     "output_type": "stream",
     "text": [
      " 86%|████████▌ | 733/850 [10:16<02:16,  1.16s/it]"
     ]
    },
    {
     "name": "stdout",
     "output_type": "stream",
     "text": [
      "not descrption https://help.wrike.com/hc/en-us/search?category=200942165&filter_by=knowledge_base&query=Creating+tasks&utf8=%E2%9C%93\n",
      "Error search?category=200942165&filter_by=knowledge_base&query=Creating+tasks&utf8=%E2%9C%93.csv\n"
     ]
    },
    {
     "name": "stderr",
     "output_type": "stream",
     "text": [
      " 87%|████████▋ | 738/850 [10:21<01:54,  1.02s/it]"
     ]
    },
    {
     "name": "stdout",
     "output_type": "stream",
     "text": [
      "not descrption https://help.wrike.com/hc/en-us/search?page=99&query=Sharing+folders&utf8=%E2%9C%93\n"
     ]
    },
    {
     "name": "stderr",
     "output_type": "stream",
     "text": [
      " 88%|████████▊ | 746/850 [10:31<02:19,  1.34s/it]"
     ]
    },
    {
     "name": "stdout",
     "output_type": "stream",
     "text": [
      "not descrption https://help.wrike.com/hc/en-us/search?category=200942175&filter_by=knowledge_base&query=Creating+tasks&utf8=%E2%9C%93\n",
      "Error search?category=200942175&filter_by=knowledge_base&query=Creating+tasks&utf8=%E2%9C%93.csv\n"
     ]
    },
    {
     "name": "stderr",
     "output_type": "stream",
     "text": [
      " 88%|████████▊ | 751/850 [10:33<01:16,  1.29it/s]"
     ]
    },
    {
     "name": "stdout",
     "output_type": "stream",
     "text": [
      "not descrption https://help.wrike.com/hc/en-us/community/posts/360018621913-Can-I-resend-a-Tasks-for-Today-email-\n"
     ]
    },
    {
     "name": "stderr",
     "output_type": "stream",
     "text": [
      "\r",
      " 89%|████████▊ | 753/850 [10:36<01:25,  1.14it/s]"
     ]
    },
    {
     "name": "stdout",
     "output_type": "stream",
     "text": [
      "not descrption https://help.wrike.com/hc/en-us/search?page=99&query=Creating+tasks&utf8=%E2%9C%93\n",
      "Error search?page=99&query=Creating+tasks&utf8=%E2%9C%93.csv\n"
     ]
    },
    {
     "name": "stderr",
     "output_type": "stream",
     "text": [
      " 89%|████████▉ | 758/850 [10:40<01:47,  1.16s/it]"
     ]
    },
    {
     "name": "stdout",
     "output_type": "stream",
     "text": [
      "not descrption https://help.wrike.com/hc/en-us/search?category=200942115&filter_by=knowledge_base&query=Creating+tasks&utf8=%E2%9C%93\n",
      "Error search?category=200942115&filter_by=knowledge_base&query=Creating+tasks&utf8=%E2%9C%93.csv\n"
     ]
    },
    {
     "name": "stderr",
     "output_type": "stream",
     "text": [
      "\r",
      " 89%|████████▉ | 759/850 [10:42<02:08,  1.41s/it]"
     ]
    },
    {
     "name": "stdout",
     "output_type": "stream",
     "text": [
      "not descrption https://help.wrike.com/hc/en-us/search?category=200913179&filter_by=knowledge_base&query=time+report&utf8=%E2%9C%93\n"
     ]
    },
    {
     "name": "stderr",
     "output_type": "stream",
     "text": [
      "\r",
      " 89%|████████▉ | 760/850 [10:43<02:06,  1.41s/it]"
     ]
    },
    {
     "name": "stdout",
     "output_type": "stream",
     "text": [
      "not descrption https://help.wrike.com/hc/en-us/search?page=90&query=Creating+tasks&utf8=%E2%9C%93\n",
      "Error search?page=90&query=Creating+tasks&utf8=%E2%9C%93.csv\n"
     ]
    },
    {
     "name": "stderr",
     "output_type": "stream",
     "text": [
      " 90%|████████▉ | 764/850 [10:47<01:41,  1.19s/it]"
     ]
    },
    {
     "name": "stdout",
     "output_type": "stream",
     "text": [
      "not descrption https://help.wrike.com/hc/en-us/search?page=26&query=Gantt+chart&utf8=%E2%9C%93\n"
     ]
    },
    {
     "name": "stderr",
     "output_type": "stream",
     "text": [
      "\r",
      " 90%|█████████ | 765/850 [10:49<01:50,  1.30s/it]"
     ]
    },
    {
     "name": "stdout",
     "output_type": "stream",
     "text": [
      "not descrption https://help.wrike.com/hc/en-us/search?page=9&query=time+report&utf8=%E2%9C%93\n"
     ]
    },
    {
     "name": "stderr",
     "output_type": "stream",
     "text": [
      " 90%|█████████ | 768/850 [10:51<01:32,  1.12s/it]"
     ]
    },
    {
     "name": "stdout",
     "output_type": "stream",
     "text": [
      "not descrption https://help.wrike.com/hc/en-us/search?filter_by=knowledge_base&page=4&query=create+a+folder&utf8=%E2%9C%93\n"
     ]
    },
    {
     "name": "stderr",
     "output_type": "stream",
     "text": [
      "\r",
      " 90%|█████████ | 769/850 [10:53<01:49,  1.36s/it]"
     ]
    },
    {
     "name": "stdout",
     "output_type": "stream",
     "text": [
      "not descrption https://help.wrike.com/hc/en-us/search?filter_by=knowledge_base&page=7&query=Gantt+chart&utf8=%E2%9C%93\n"
     ]
    },
    {
     "name": "stderr",
     "output_type": "stream",
     "text": [
      " 91%|█████████▏| 777/850 [11:02<01:27,  1.19s/it]"
     ]
    },
    {
     "name": "stdout",
     "output_type": "stream",
     "text": [
      "not descrption https://help.wrike.com/hc/en-us/search?page=100&query=Creating+tasks&utf8=%E2%9C%93\n"
     ]
    },
    {
     "name": "stderr",
     "output_type": "stream",
     "text": [
      " 92%|█████████▏| 782/850 [11:05<00:59,  1.13it/s]"
     ]
    },
    {
     "name": "stdout",
     "output_type": "stream",
     "text": [
      "not descrption https://help.wrike.com/hc/en-us/search?page=8&query=Sharing+folders&utf8=%E2%9C%93\n"
     ]
    },
    {
     "name": "stderr",
     "output_type": "stream",
     "text": [
      " 92%|█████████▏| 786/850 [11:08<00:55,  1.16it/s]"
     ]
    },
    {
     "name": "stdout",
     "output_type": "stream",
     "text": [
      "not descrption https://help.wrike.com/hc/en-us/search?page=97&query=create+a+folder&utf8=%E2%9C%93\n"
     ]
    },
    {
     "name": "stderr",
     "output_type": "stream",
     "text": [
      "\r",
      " 93%|█████████▎| 787/850 [11:10<01:04,  1.02s/it]"
     ]
    },
    {
     "name": "stdout",
     "output_type": "stream",
     "text": [
      "not descrption https://help.wrike.com/hc/en-us/search?page=76&query=Sharing+folders&utf8=%E2%9C%93\n"
     ]
    },
    {
     "name": "stderr",
     "output_type": "stream",
     "text": [
      "\r",
      " 93%|█████████▎| 788/850 [11:11<01:11,  1.15s/it]"
     ]
    },
    {
     "name": "stdout",
     "output_type": "stream",
     "text": [
      "not descrption https://help.wrike.com/hc/en-us/search?page=19&query=Gantt+chart&utf8=%E2%9C%93\n"
     ]
    },
    {
     "name": "stderr",
     "output_type": "stream",
     "text": [
      " 94%|█████████▍| 801/850 [11:16<00:25,  1.89it/s]"
     ]
    },
    {
     "name": "stdout",
     "output_type": "stream",
     "text": [
      "not descrption https://help.wrike.com/hc/en-us/search?page=95&query=create+a+folder&utf8=%E2%9C%93\n"
     ]
    },
    {
     "name": "stderr",
     "output_type": "stream",
     "text": [
      " 95%|█████████▌| 809/850 [11:23<00:43,  1.06s/it]"
     ]
    },
    {
     "name": "stdout",
     "output_type": "stream",
     "text": [
      "not descrption https://help.wrike.com/hc/en-us/search?page=15&query=Creating+tasks&utf8=%E2%9C%93\n",
      "Error search?page=15&query=Creating+tasks&utf8=%E2%9C%93.csv\n"
     ]
    },
    {
     "name": "stderr",
     "output_type": "stream",
     "text": [
      "\r",
      " 95%|█████████▌| 811/850 [11:25<00:39,  1.02s/it]"
     ]
    },
    {
     "name": "stdout",
     "output_type": "stream",
     "text": [
      "not descrption https://help.wrike.com/hc/en-us/search?filter_by=knowledge_base&query=Crear+tareas&utf8=%E2%9C%93\n"
     ]
    },
    {
     "name": "stderr",
     "output_type": "stream",
     "text": [
      " 96%|█████████▌| 815/850 [11:29<00:44,  1.27s/it]"
     ]
    },
    {
     "name": "stdout",
     "output_type": "stream",
     "text": [
      "not descrption https://help.wrike.com/hc/en-us/search?category=200942125&filter_by=knowledge_base&query=Gantt+chart&utf8=%E2%9C%93\n"
     ]
    },
    {
     "name": "stderr",
     "output_type": "stream",
     "text": [
      "\r",
      " 96%|█████████▌| 816/850 [11:30<00:40,  1.18s/it]"
     ]
    },
    {
     "name": "stdout",
     "output_type": "stream",
     "text": [
      "not descrption https://help.wrike.com/hc/en-us/search?filter_by=knowledge_base&query=Gr%C3%A1fico+de+Gantt&utf8=%E2%9C%93\n",
      "Error search?filter_by=knowledge_base&query=Gr%C3%A1fico+de+Gantt&utf8=%E2%9C%93.csv\n"
     ]
    },
    {
     "name": "stderr",
     "output_type": "stream",
     "text": [
      "\r",
      " 96%|█████████▌| 817/850 [11:31<00:41,  1.26s/it]"
     ]
    },
    {
     "name": "stdout",
     "output_type": "stream",
     "text": [
      "not descrption https://help.wrike.com/hc/en-us/search?page=13&query=Creating+tasks&utf8=%E2%9C%93\n",
      "Error search?page=13&query=Creating+tasks&utf8=%E2%9C%93.csv\n"
     ]
    },
    {
     "name": "stderr",
     "output_type": "stream",
     "text": [
      " 98%|█████████▊| 834/850 [11:40<00:16,  1.06s/it]"
     ]
    },
    {
     "name": "stdout",
     "output_type": "stream",
     "text": [
      "not descrption https://help.wrike.com/hc/en-us/search?category=200942125&filter_by=knowledge_base&query=create+a+folder&utf8=%E2%9C%93\n"
     ]
    },
    {
     "name": "stderr",
     "output_type": "stream",
     "text": [
      " 99%|█████████▊| 838/850 [11:43<00:12,  1.07s/it]"
     ]
    },
    {
     "name": "stdout",
     "output_type": "stream",
     "text": [
      "not descrption https://help.wrike.com/hc/en-us/search?page=27&query=Gantt+chart&utf8=%E2%9C%93\n"
     ]
    },
    {
     "name": "stderr",
     "output_type": "stream",
     "text": [
      " 99%|█████████▉| 845/850 [11:48<00:04,  1.02it/s]"
     ]
    },
    {
     "name": "stdout",
     "output_type": "stream",
     "text": [
      "not descrption https://help.wrike.com/hc/en-us/search?page=3&query=Gantt+chart&utf8=%E2%9C%93\n"
     ]
    },
    {
     "name": "stderr",
     "output_type": "stream",
     "text": [
      "100%|██████████| 850/850 [11:50<00:00,  1.20it/s]\n"
     ]
    }
   ],
   "source": [
    "from tqdm import tqdm\n",
    "df_crawl_spider = pd.DataFrame(columns=[\"site_title\", \"answer\",\"answer_text\", \"questions\"])\n",
    "\n",
    "path_d = \"/home/alex/chat_bot_wrike/wrike-bot/test_data/\"\n",
    "for i in tqdm(os.listdir(path_d)): \n",
    "    site_name = ''\n",
    "    with open(os.path.join(path_d, i), 'r') as f:\n",
    "        site_name = re.sub(\"\\n\", \"\", f.readline())\n",
    "        site_name = re.sub(\" \", \"\", site_name)\n",
    "        if site_name not in d_all_data:\n",
    "            html = urllib.request.urlopen(site_name).read()\n",
    "            title = re.sub(\" – Wrike Help portal\", \"\", href_from_title(html)) \n",
    "            descrp = \"\"\n",
    "            try:\n",
    "                descrp = href_from_title_descriptions(html)\n",
    "            except: \n",
    "                print(\"not descrption\", site_name)\n",
    "            if title not in all_titles:\n",
    "                try: \n",
    "                    inters = ','.join(eval(f.readline())[\"intersect_setting\"])\n",
    "                    text = f.read()\n",
    "                    df_crawl_spider.loc[len(df_crawl_spider)] = [site_name, inters, text, title + \" \" + descrp]\n",
    "                except: \n",
    "                    print(\"Error\", i)"
   ]
  },
  {
   "cell_type": "code",
   "execution_count": 68,
   "metadata": {},
   "outputs": [
    {
     "data": {
      "text/html": [
       "<div>\n",
       "<style scoped>\n",
       "    .dataframe tbody tr th:only-of-type {\n",
       "        vertical-align: middle;\n",
       "    }\n",
       "\n",
       "    .dataframe tbody tr th {\n",
       "        vertical-align: top;\n",
       "    }\n",
       "\n",
       "    .dataframe thead th {\n",
       "        text-align: right;\n",
       "    }\n",
       "</style>\n",
       "<table border=\"1\" class=\"dataframe\">\n",
       "  <thead>\n",
       "    <tr style=\"text-align: right;\">\n",
       "      <th></th>\n",
       "      <th>site_title</th>\n",
       "      <th>answer</th>\n",
       "      <th>answer_text</th>\n",
       "      <th>questions</th>\n",
       "    </tr>\n",
       "  </thead>\n",
       "  <tbody>\n",
       "    <tr>\n",
       "      <th>0</th>\n",
       "      <td>https://help.wrike.com/hc/en-us/search?categor...</td>\n",
       "      <td>https://help.wrike.com/hc/en-us/sections/36000...</td>\n",
       "      <td>Wrike Help portal Search results All types Art...</td>\n",
       "      <td>Search results</td>\n",
       "    </tr>\n",
       "    <tr>\n",
       "      <th>1</th>\n",
       "      <td>https://help.wrike.com/hc/en-us/community/post...</td>\n",
       "      <td>https://help.wrike.com/hc/en-us/articles/20960...</td>\n",
       "      <td>Thank you for your feedback Wrike Help portal ...</td>\n",
       "      <td>Can you set the Folder info panel to open by d...</td>\n",
       "    </tr>\n",
       "    <tr>\n",
       "      <th>2</th>\n",
       "      <td>https://help.wrike.com/hc/en-us/articles/21265...</td>\n",
       "      <td>https://help.wrike.com/hc/en-us/articles/20960...</td>\n",
       "      <td>Top Wrike Help portal Release News 2016 Releas...</td>\n",
       "      <td>Release Notes-October 5 Feature Updates     Lo...</td>\n",
       "    </tr>\n",
       "    <tr>\n",
       "      <th>3</th>\n",
       "      <td>https://help.wrike.com/hc/en-us/articles/21342...</td>\n",
       "      <td>https://help.wrike.com/hc/en-us/articles/21272...</td>\n",
       "      <td>Top Wrike Help portal Release News 2016 Releas...</td>\n",
       "      <td>Release Notes-November 16 Feature Updates    R...</td>\n",
       "    </tr>\n",
       "    <tr>\n",
       "      <th>4</th>\n",
       "      <td>https://help.wrike.com/hc/en-us/articles/11500...</td>\n",
       "      <td>https://help.wrike.com/hc/en-us/articles/21041...</td>\n",
       "      <td>Top Wrike Help portal Release News 2017 Releas...</td>\n",
       "      <td>Release Notes-February 22 Feature Updates    V...</td>\n",
       "    </tr>\n",
       "  </tbody>\n",
       "</table>\n",
       "</div>"
      ],
      "text/plain": [
       "                                          site_title  \\\n",
       "0  https://help.wrike.com/hc/en-us/search?categor...   \n",
       "1  https://help.wrike.com/hc/en-us/community/post...   \n",
       "2  https://help.wrike.com/hc/en-us/articles/21265...   \n",
       "3  https://help.wrike.com/hc/en-us/articles/21342...   \n",
       "4  https://help.wrike.com/hc/en-us/articles/11500...   \n",
       "\n",
       "                                              answer  \\\n",
       "0  https://help.wrike.com/hc/en-us/sections/36000...   \n",
       "1  https://help.wrike.com/hc/en-us/articles/20960...   \n",
       "2  https://help.wrike.com/hc/en-us/articles/20960...   \n",
       "3  https://help.wrike.com/hc/en-us/articles/21272...   \n",
       "4  https://help.wrike.com/hc/en-us/articles/21041...   \n",
       "\n",
       "                                         answer_text  \\\n",
       "0  Wrike Help portal Search results All types Art...   \n",
       "1  Thank you for your feedback Wrike Help portal ...   \n",
       "2  Top Wrike Help portal Release News 2016 Releas...   \n",
       "3  Top Wrike Help portal Release News 2016 Releas...   \n",
       "4  Top Wrike Help portal Release News 2017 Releas...   \n",
       "\n",
       "                                           questions  \n",
       "0                                    Search results   \n",
       "1  Can you set the Folder info panel to open by d...  \n",
       "2  Release Notes-October 5 Feature Updates     Lo...  \n",
       "3  Release Notes-November 16 Feature Updates    R...  \n",
       "4  Release Notes-February 22 Feature Updates    V...  "
      ]
     },
     "execution_count": 68,
     "metadata": {},
     "output_type": "execute_result"
    }
   ],
   "source": [
    "df_crawl_spider.head()"
   ]
  },
  {
   "cell_type": "code",
   "execution_count": 69,
   "metadata": {},
   "outputs": [
    {
     "data": {
      "text/plain": [
       "array(['https://help.wrike.com/hc/en-us/articles/212657765-Release-Notes-October-5',\n",
       "       'https://help.wrike.com/hc/en-us/articles/209604449-Reports-Overview',\n",
       "       'Top Wrike Help portal Release News 2016 Release Notes December 29 Release Notes December 21 Release Notes December 14 Release Notes December 7 Release Notes November 30 Release Notes November 23 Release Notes November 16 Release Notes November 9 Release Notes November 2 Release Notes October 26 10 out of 14 found this helpful Release Notes October 5 Follow Feature Updates Long Text Field Wrap in the Table view This is a feature To make it easier to edit text type Custom Fields those fields now expand on the Table View while you edit them My Work In the new My Work in Labs the option Unpin from My Work is now Hide from To Do You can also opt to Hide tasks in the Incoming section instead of moving them to Today or Later Remove Change Report Groupings Editing and removing Report groupings just got a little easier Click the x that appears on a grouping to remove it and click a grouping to see an alphabatized list of alternative grouping options Default options are showed first Custom Field options second Reviewing Reports Before if you opened a report then it automatically moved to the top of the Report list even if you didn t edit it Now a report only moves to the top of the list if you open and edit it Attachment List Updates We made some small changes to make the file attachment list more readable Fixes Roll Up Custom Fields Before If several Custom Fields were added for a Subfolder but not the parent Folder then only some of the fields would show up in the roll up section of the parent Folder Now All Custom Fields show up Excel Export Error Before 1 You had a parent Folder with Subfolder A Subfolder A had a Custom Field 2 You duplicated Subolder A and now Subfolder A and its duplicate are in the same parent Folder 3 Your tried to export the parent Folder via Excel and the export would fail Now the export works as expected File Search in Wrike After a hiatus the search command to look for files file is back and working as it should be Use it to find all tasks that have a specific file extension Facebook Twitter LinkedIn Comments 0 comments',\n",
       "       'Release Notes-October 5 Feature Updates     Long Text Field Wrap in the Table view   This is a Wrike Labs feature. To make it easier to edit text type Custom...'],\n",
       "      dtype=object)"
      ]
     },
     "execution_count": 69,
     "metadata": {},
     "output_type": "execute_result"
    }
   ],
   "source": [
    "df_crawl_spider.loc[2].values"
   ]
  },
  {
   "cell_type": "code",
   "execution_count": 70,
   "metadata": {},
   "outputs": [],
   "source": [
    "df_crawl_spider = df_crawl_spider[(~df_crawl_spider[\"questions\"].str.contains(\"Release Notes\")) & (~df_crawl_spider[\"questions\"].str.contains(\"Search result\"))].reset_index(drop = True)"
   ]
  },
  {
   "cell_type": "code",
   "execution_count": 71,
   "metadata": {},
   "outputs": [
    {
     "data": {
      "text/html": [
       "<div>\n",
       "<style scoped>\n",
       "    .dataframe tbody tr th:only-of-type {\n",
       "        vertical-align: middle;\n",
       "    }\n",
       "\n",
       "    .dataframe tbody tr th {\n",
       "        vertical-align: top;\n",
       "    }\n",
       "\n",
       "    .dataframe thead th {\n",
       "        text-align: right;\n",
       "    }\n",
       "</style>\n",
       "<table border=\"1\" class=\"dataframe\">\n",
       "  <thead>\n",
       "    <tr style=\"text-align: right;\">\n",
       "      <th></th>\n",
       "      <th>site_title</th>\n",
       "      <th>answer</th>\n",
       "      <th>answer_text</th>\n",
       "      <th>questions</th>\n",
       "    </tr>\n",
       "  </thead>\n",
       "  <tbody>\n",
       "    <tr>\n",
       "      <th>0</th>\n",
       "      <td>https://help.wrike.com/hc/en-us/community/post...</td>\n",
       "      <td>https://help.wrike.com/hc/en-us/articles/20960...</td>\n",
       "      <td>Thank you for your feedback Wrike Help portal ...</td>\n",
       "      <td>Can you set the Folder info panel to open by d...</td>\n",
       "    </tr>\n",
       "    <tr>\n",
       "      <th>1</th>\n",
       "      <td>https://help.wrike.com/hc/en-us/community/post...</td>\n",
       "      <td>https://help.wrike.com/hc/en-us/articles/20960...</td>\n",
       "      <td>Thank you for your feedback Wrike Help portal ...</td>\n",
       "      <td>Boolean search Hi, when I search for tasks I w...</td>\n",
       "    </tr>\n",
       "    <tr>\n",
       "      <th>2</th>\n",
       "      <td>https://help.wrike.com/hc/en-us/community/post...</td>\n",
       "      <td>https://help.wrike.com/hc/en-us/articles/11500...</td>\n",
       "      <td>Thank you for your feedback Wrike Help portal ...</td>\n",
       "      <td>Allow to create the task from slack based on r...</td>\n",
       "    </tr>\n",
       "    <tr>\n",
       "      <th>3</th>\n",
       "      <td>https://help.wrike.com/hc/en-us/community/post...</td>\n",
       "      <td>https://help.wrike.com/hc/en-us/articles/11500...</td>\n",
       "      <td>Thank you for your feedback Wrike Help portal ...</td>\n",
       "      <td>Timelog Categories Are we able to customize ca...</td>\n",
       "    </tr>\n",
       "    <tr>\n",
       "      <th>4</th>\n",
       "      <td>https://help.wrike.com/hc/en-us/community/post...</td>\n",
       "      <td>https://help.wrike.com/hc/en-us/articles/36000...</td>\n",
       "      <td>Thank you for your feedback Wrike Help portal ...</td>\n",
       "      <td>[Status: Launched! 🚀] Proofing: Guest User/Pro...</td>\n",
       "    </tr>\n",
       "  </tbody>\n",
       "</table>\n",
       "</div>"
      ],
      "text/plain": [
       "                                          site_title  \\\n",
       "0  https://help.wrike.com/hc/en-us/community/post...   \n",
       "1  https://help.wrike.com/hc/en-us/community/post...   \n",
       "2  https://help.wrike.com/hc/en-us/community/post...   \n",
       "3  https://help.wrike.com/hc/en-us/community/post...   \n",
       "4  https://help.wrike.com/hc/en-us/community/post...   \n",
       "\n",
       "                                              answer  \\\n",
       "0  https://help.wrike.com/hc/en-us/articles/20960...   \n",
       "1  https://help.wrike.com/hc/en-us/articles/20960...   \n",
       "2  https://help.wrike.com/hc/en-us/articles/11500...   \n",
       "3  https://help.wrike.com/hc/en-us/articles/11500...   \n",
       "4  https://help.wrike.com/hc/en-us/articles/36000...   \n",
       "\n",
       "                                         answer_text  \\\n",
       "0  Thank you for your feedback Wrike Help portal ...   \n",
       "1  Thank you for your feedback Wrike Help portal ...   \n",
       "2  Thank you for your feedback Wrike Help portal ...   \n",
       "3  Thank you for your feedback Wrike Help portal ...   \n",
       "4  Thank you for your feedback Wrike Help portal ...   \n",
       "\n",
       "                                           questions  \n",
       "0  Can you set the Folder info panel to open by d...  \n",
       "1  Boolean search Hi, when I search for tasks I w...  \n",
       "2  Allow to create the task from slack based on r...  \n",
       "3  Timelog Categories Are we able to customize ca...  \n",
       "4  [Status: Launched! 🚀] Proofing: Guest User/Pro...  "
      ]
     },
     "execution_count": 71,
     "metadata": {},
     "output_type": "execute_result"
    }
   ],
   "source": [
    "df_crawl_spider.head()"
   ]
  },
  {
   "cell_type": "code",
   "execution_count": 72,
   "metadata": {},
   "outputs": [],
   "source": [
    "df_crawl_spider[\"url_1\"] = df_crawl_spider[\"answer\"].apply(lambda x: x.split(\"#\")[0]).map(d_url3)\n",
    "df_crawl_spider.dropna(subset = [\"url_1\"], inplace=True)"
   ]
  },
  {
   "cell_type": "code",
   "execution_count": 73,
   "metadata": {},
   "outputs": [],
   "source": [
    "df_crawl_spider[\"url_1\"] = df_crawl_spider[\"answer\"].apply(lambda x: x.split(\"#\")[0]).map(d_url3).apply(lambda x: x[0] )\n",
    "df_crawl_spider[\"url_2\"] = df_crawl_spider[\"answer\"].apply(lambda x: x.split(\"#\")[0]).map(d_url3).apply(lambda x: x[-1])\n",
    "df_crawl_spider[\"url_3\"] = df_crawl_spider[\"answer\"].apply(lambda x: x.split(\"#\")[0])\n",
    "df_crawl_spider[\"url_4\"] = df_crawl_spider[\"answer\"].apply(lambda x: x if \"#\" in x else np.nan)\n",
    "del df_crawl_spider[\"answer\"]"
   ]
  },
  {
   "cell_type": "code",
   "execution_count": 74,
   "metadata": {},
   "outputs": [],
   "source": [
    "df_crawl_spider[\"section_1\"] = df_crawl_spider[\"url_1\"].map(d_all_data)\n",
    "df_crawl_spider[\"section_2\"] = df_crawl_spider[\"url_2\"].map(d_all_data)\n",
    "df_crawl_spider[\"section_3\"] = df_crawl_spider[\"url_3\"].map(d_all_data)\n",
    "df_crawl_spider[\"section_4\"] = df_crawl_spider[\"url_4\"].map(d_all_data)\n",
    "del df_crawl_spider[\"site_title\"]"
   ]
  },
  {
   "cell_type": "code",
   "execution_count": 75,
   "metadata": {},
   "outputs": [
    {
     "data": {
      "text/plain": [
       "array(['Thank you for your feedback Wrike Help portal Community Product Feedback Juan Martinez 19 Facebook Twitter LinkedIn Fabian Schenk December 04 2017 14 48 Comment actions Josh Amato December 05 2017 01 02 Comment actions Eric lagergren December 05 2017 01 15 Comment actions Angus Farquhar February 14 2018 09 48 Comment actions Angus Farquhar February 20 2018 10 45 Comment actions Stephanie Westbrook February 20 2018 18 59 Stephanie Westbrook Community Team at Wrike Comment actions Paul Hill March 07 2018 22 45 Comment actions Josh Amato March 07 2018 22 50 July 16 2018 14 42 Comment actions Ezra Moore May 17 2018 15 41 Comment actions Evan Evans June 14 2018 07 01 Comment actions Dan Chancellor July 20 2018 16 18 Comment actions Andrew Pons July 27 2018 18 57 Comment actions Fran Rivera July 27 2018 19 08 Comment actions No longer at company September 11 2018 20 12 September 11 2018 21 33 Comment actions Brett Ross September 24 2018 00 04 Comment actions Meagan Hodson October 01 2018 14 59 Guest Review Wrike Labs Comment actions October 31 2018 10 00 October 31 2018 10 02 Comment actions Jennifer Olvera January 17 2019 18 50 Comment actions Andrea Boccia February 01 2019 09 08 Comment actions Status Launched Proofing Guest User Proofer Option outside Wrike Ecosystem',\n",
       "       '[Status: Launched! 🚀] Proofing: Guest User/Proofer Option outside Wrike Ecosystem Would be great if there was a way to share proofs/Reviews to those outside of Wrike. Currently, we find that any reviewers have to be...',\n",
       "       'https://help.wrike.com/hc/en-us/categories/200942115-Tasks-Folders-Projects-and-Spaces',\n",
       "       'https://help.wrike.com/hc/en-us/sections/202366329-Proofing-and-Approvals',\n",
       "       'https://help.wrike.com/hc/en-us/articles/360009639733-Guest-Reviews',\n",
       "       nan, 'Tasks, Folders, Projects and Spaces',\n",
       "       'Proofing and Approvals', 'Guest Reviews', nan], dtype=object)"
      ]
     },
     "execution_count": 75,
     "metadata": {},
     "output_type": "execute_result"
    }
   ],
   "source": [
    "df_crawl_spider.loc[4].values"
   ]
  },
  {
   "cell_type": "code",
   "execution_count": 76,
   "metadata": {},
   "outputs": [
    {
     "data": {
      "text/plain": [
       "(168, 10)"
      ]
     },
     "execution_count": 76,
     "metadata": {},
     "output_type": "execute_result"
    }
   ],
   "source": [
    "df_crawl_spider.shape"
   ]
  },
  {
   "cell_type": "code",
   "execution_count": 77,
   "metadata": {},
   "outputs": [],
   "source": [
    "df_crawl_spider[\"source\"] = \"from_crawl_spider\""
   ]
  },
  {
   "cell_type": "code",
   "execution_count": 78,
   "metadata": {},
   "outputs": [
    {
     "data": {
      "text/html": [
       "<div>\n",
       "<style scoped>\n",
       "    .dataframe tbody tr th:only-of-type {\n",
       "        vertical-align: middle;\n",
       "    }\n",
       "\n",
       "    .dataframe tbody tr th {\n",
       "        vertical-align: top;\n",
       "    }\n",
       "\n",
       "    .dataframe thead th {\n",
       "        text-align: right;\n",
       "    }\n",
       "</style>\n",
       "<table border=\"1\" class=\"dataframe\">\n",
       "  <thead>\n",
       "    <tr style=\"text-align: right;\">\n",
       "      <th></th>\n",
       "      <th>answer_text</th>\n",
       "      <th>questions</th>\n",
       "      <th>url_1</th>\n",
       "      <th>url_2</th>\n",
       "      <th>url_3</th>\n",
       "      <th>url_4</th>\n",
       "      <th>section_1</th>\n",
       "      <th>section_2</th>\n",
       "      <th>section_3</th>\n",
       "      <th>section_4</th>\n",
       "      <th>source</th>\n",
       "    </tr>\n",
       "  </thead>\n",
       "  <tbody>\n",
       "    <tr>\n",
       "      <th>0</th>\n",
       "      <td>Thank you for your feedback Wrike Help portal ...</td>\n",
       "      <td>Can you set the Folder info panel to open by d...</td>\n",
       "      <td>https://help.wrike.com/hc/en-us/categories/200...</td>\n",
       "      <td>https://help.wrike.com/hc/en-us/sections/20183...</td>\n",
       "      <td>https://help.wrike.com/hc/en-us/articles/20960...</td>\n",
       "      <td>NaN</td>\n",
       "      <td>Tasks, Folders, Projects and Spaces</td>\n",
       "      <td>Folders and Projects</td>\n",
       "      <td>Folder and Project Info Panels</td>\n",
       "      <td>NaN</td>\n",
       "      <td>from_crawl_spider</td>\n",
       "    </tr>\n",
       "    <tr>\n",
       "      <th>1</th>\n",
       "      <td>Thank you for your feedback Wrike Help portal ...</td>\n",
       "      <td>Boolean search Hi, when I search for tasks I w...</td>\n",
       "      <td>https://help.wrike.com/hc/en-us/categories/200...</td>\n",
       "      <td>https://help.wrike.com/hc/en-us/sections/20189...</td>\n",
       "      <td>https://help.wrike.com/hc/en-us/articles/20960...</td>\n",
       "      <td>NaN</td>\n",
       "      <td>Tasks, Folders, Projects and Spaces</td>\n",
       "      <td>Organization</td>\n",
       "      <td>Search</td>\n",
       "      <td>NaN</td>\n",
       "      <td>from_crawl_spider</td>\n",
       "    </tr>\n",
       "    <tr>\n",
       "      <th>2</th>\n",
       "      <td>Thank you for your feedback Wrike Help portal ...</td>\n",
       "      <td>Allow to create the task from slack based on r...</td>\n",
       "      <td>https://help.wrike.com/hc/en-us/categories/200...</td>\n",
       "      <td>https://help.wrike.com/hc/en-us/sections/20183...</td>\n",
       "      <td>https://help.wrike.com/hc/en-us/articles/11500...</td>\n",
       "      <td>NaN</td>\n",
       "      <td>Tasks, Folders, Projects and Spaces</td>\n",
       "      <td>Advanced</td>\n",
       "      <td>External Request Forms</td>\n",
       "      <td>NaN</td>\n",
       "      <td>from_crawl_spider</td>\n",
       "    </tr>\n",
       "    <tr>\n",
       "      <th>3</th>\n",
       "      <td>Thank you for your feedback Wrike Help portal ...</td>\n",
       "      <td>Timelog Categories Are we able to customize ca...</td>\n",
       "      <td>https://help.wrike.com/hc/en-us/categories/200...</td>\n",
       "      <td>https://help.wrike.com/hc/en-us/sections/20183...</td>\n",
       "      <td>https://help.wrike.com/hc/en-us/articles/11500...</td>\n",
       "      <td>https://help.wrike.com/hc/en-us/articles/11500...</td>\n",
       "      <td>Work Views</td>\n",
       "      <td>Timelog View</td>\n",
       "      <td>Categories for Time Tracking</td>\n",
       "      <td>Add a Time Tracking Category</td>\n",
       "      <td>from_crawl_spider</td>\n",
       "    </tr>\n",
       "    <tr>\n",
       "      <th>4</th>\n",
       "      <td>Thank you for your feedback Wrike Help portal ...</td>\n",
       "      <td>[Status: Launched! 🚀] Proofing: Guest User/Pro...</td>\n",
       "      <td>https://help.wrike.com/hc/en-us/categories/200...</td>\n",
       "      <td>https://help.wrike.com/hc/en-us/sections/20236...</td>\n",
       "      <td>https://help.wrike.com/hc/en-us/articles/36000...</td>\n",
       "      <td>NaN</td>\n",
       "      <td>Tasks, Folders, Projects and Spaces</td>\n",
       "      <td>Proofing and Approvals</td>\n",
       "      <td>Guest Reviews</td>\n",
       "      <td>NaN</td>\n",
       "      <td>from_crawl_spider</td>\n",
       "    </tr>\n",
       "  </tbody>\n",
       "</table>\n",
       "</div>"
      ],
      "text/plain": [
       "                                         answer_text  \\\n",
       "0  Thank you for your feedback Wrike Help portal ...   \n",
       "1  Thank you for your feedback Wrike Help portal ...   \n",
       "2  Thank you for your feedback Wrike Help portal ...   \n",
       "3  Thank you for your feedback Wrike Help portal ...   \n",
       "4  Thank you for your feedback Wrike Help portal ...   \n",
       "\n",
       "                                           questions  \\\n",
       "0  Can you set the Folder info panel to open by d...   \n",
       "1  Boolean search Hi, when I search for tasks I w...   \n",
       "2  Allow to create the task from slack based on r...   \n",
       "3  Timelog Categories Are we able to customize ca...   \n",
       "4  [Status: Launched! 🚀] Proofing: Guest User/Pro...   \n",
       "\n",
       "                                               url_1  \\\n",
       "0  https://help.wrike.com/hc/en-us/categories/200...   \n",
       "1  https://help.wrike.com/hc/en-us/categories/200...   \n",
       "2  https://help.wrike.com/hc/en-us/categories/200...   \n",
       "3  https://help.wrike.com/hc/en-us/categories/200...   \n",
       "4  https://help.wrike.com/hc/en-us/categories/200...   \n",
       "\n",
       "                                               url_2  \\\n",
       "0  https://help.wrike.com/hc/en-us/sections/20183...   \n",
       "1  https://help.wrike.com/hc/en-us/sections/20189...   \n",
       "2  https://help.wrike.com/hc/en-us/sections/20183...   \n",
       "3  https://help.wrike.com/hc/en-us/sections/20183...   \n",
       "4  https://help.wrike.com/hc/en-us/sections/20236...   \n",
       "\n",
       "                                               url_3  \\\n",
       "0  https://help.wrike.com/hc/en-us/articles/20960...   \n",
       "1  https://help.wrike.com/hc/en-us/articles/20960...   \n",
       "2  https://help.wrike.com/hc/en-us/articles/11500...   \n",
       "3  https://help.wrike.com/hc/en-us/articles/11500...   \n",
       "4  https://help.wrike.com/hc/en-us/articles/36000...   \n",
       "\n",
       "                                               url_4  \\\n",
       "0                                                NaN   \n",
       "1                                                NaN   \n",
       "2                                                NaN   \n",
       "3  https://help.wrike.com/hc/en-us/articles/11500...   \n",
       "4                                                NaN   \n",
       "\n",
       "                             section_1               section_2  \\\n",
       "0  Tasks, Folders, Projects and Spaces    Folders and Projects   \n",
       "1  Tasks, Folders, Projects and Spaces            Organization   \n",
       "2  Tasks, Folders, Projects and Spaces                Advanced   \n",
       "3                           Work Views            Timelog View   \n",
       "4  Tasks, Folders, Projects and Spaces  Proofing and Approvals   \n",
       "\n",
       "                        section_3                     section_4  \\\n",
       "0  Folder and Project Info Panels                           NaN   \n",
       "1                          Search                           NaN   \n",
       "2          External Request Forms                           NaN   \n",
       "3    Categories for Time Tracking  Add a Time Tracking Category   \n",
       "4                   Guest Reviews                           NaN   \n",
       "\n",
       "              source  \n",
       "0  from_crawl_spider  \n",
       "1  from_crawl_spider  \n",
       "2  from_crawl_spider  \n",
       "3  from_crawl_spider  \n",
       "4  from_crawl_spider  "
      ]
     },
     "execution_count": 78,
     "metadata": {},
     "output_type": "execute_result"
    }
   ],
   "source": [
    "df_crawl_spider.head()"
   ]
  },
  {
   "cell_type": "code",
   "execution_count": 79,
   "metadata": {},
   "outputs": [],
   "source": [
    "df_all_data = pd.concat([df_crawl_spider, df_data2, df_data, df_help2, df_help_mine])"
   ]
  },
  {
   "cell_type": "code",
   "execution_count": 80,
   "metadata": {},
   "outputs": [
    {
     "data": {
      "text/html": [
       "<div>\n",
       "<style scoped>\n",
       "    .dataframe tbody tr th:only-of-type {\n",
       "        vertical-align: middle;\n",
       "    }\n",
       "\n",
       "    .dataframe tbody tr th {\n",
       "        vertical-align: top;\n",
       "    }\n",
       "\n",
       "    .dataframe thead th {\n",
       "        text-align: right;\n",
       "    }\n",
       "</style>\n",
       "<table border=\"1\" class=\"dataframe\">\n",
       "  <thead>\n",
       "    <tr style=\"text-align: right;\">\n",
       "      <th></th>\n",
       "      <th>answer_text</th>\n",
       "      <th>questions</th>\n",
       "      <th>url_1</th>\n",
       "      <th>url_2</th>\n",
       "      <th>url_3</th>\n",
       "      <th>url_4</th>\n",
       "      <th>section_1</th>\n",
       "      <th>section_2</th>\n",
       "      <th>section_3</th>\n",
       "      <th>section_4</th>\n",
       "      <th>source</th>\n",
       "      <th>section_text</th>\n",
       "      <th>keywords</th>\n",
       "      <th>text_len</th>\n",
       "    </tr>\n",
       "  </thead>\n",
       "  <tbody>\n",
       "    <tr>\n",
       "      <th>0</th>\n",
       "      <td>Thank you for your feedback Wrike Help portal ...</td>\n",
       "      <td>Can you set the Folder info panel to open by d...</td>\n",
       "      <td>https://help.wrike.com/hc/en-us/categories/200...</td>\n",
       "      <td>https://help.wrike.com/hc/en-us/sections/20183...</td>\n",
       "      <td>https://help.wrike.com/hc/en-us/articles/20960...</td>\n",
       "      <td>NaN</td>\n",
       "      <td>Tasks, Folders, Projects and Spaces</td>\n",
       "      <td>Folders and Projects</td>\n",
       "      <td>Folder and Project Info Panels</td>\n",
       "      <td>NaN</td>\n",
       "      <td>from_crawl_spider</td>\n",
       "      <td>NaN</td>\n",
       "      <td>NaN</td>\n",
       "      <td>NaN</td>\n",
       "    </tr>\n",
       "    <tr>\n",
       "      <th>1</th>\n",
       "      <td>Thank you for your feedback Wrike Help portal ...</td>\n",
       "      <td>Boolean search Hi, when I search for tasks I w...</td>\n",
       "      <td>https://help.wrike.com/hc/en-us/categories/200...</td>\n",
       "      <td>https://help.wrike.com/hc/en-us/sections/20189...</td>\n",
       "      <td>https://help.wrike.com/hc/en-us/articles/20960...</td>\n",
       "      <td>NaN</td>\n",
       "      <td>Tasks, Folders, Projects and Spaces</td>\n",
       "      <td>Organization</td>\n",
       "      <td>Search</td>\n",
       "      <td>NaN</td>\n",
       "      <td>from_crawl_spider</td>\n",
       "      <td>NaN</td>\n",
       "      <td>NaN</td>\n",
       "      <td>NaN</td>\n",
       "    </tr>\n",
       "    <tr>\n",
       "      <th>2</th>\n",
       "      <td>Thank you for your feedback Wrike Help portal ...</td>\n",
       "      <td>Allow to create the task from slack based on r...</td>\n",
       "      <td>https://help.wrike.com/hc/en-us/categories/200...</td>\n",
       "      <td>https://help.wrike.com/hc/en-us/sections/20183...</td>\n",
       "      <td>https://help.wrike.com/hc/en-us/articles/11500...</td>\n",
       "      <td>NaN</td>\n",
       "      <td>Tasks, Folders, Projects and Spaces</td>\n",
       "      <td>Advanced</td>\n",
       "      <td>External Request Forms</td>\n",
       "      <td>NaN</td>\n",
       "      <td>from_crawl_spider</td>\n",
       "      <td>NaN</td>\n",
       "      <td>NaN</td>\n",
       "      <td>NaN</td>\n",
       "    </tr>\n",
       "    <tr>\n",
       "      <th>3</th>\n",
       "      <td>Thank you for your feedback Wrike Help portal ...</td>\n",
       "      <td>Timelog Categories Are we able to customize ca...</td>\n",
       "      <td>https://help.wrike.com/hc/en-us/categories/200...</td>\n",
       "      <td>https://help.wrike.com/hc/en-us/sections/20183...</td>\n",
       "      <td>https://help.wrike.com/hc/en-us/articles/11500...</td>\n",
       "      <td>https://help.wrike.com/hc/en-us/articles/11500...</td>\n",
       "      <td>Work Views</td>\n",
       "      <td>Timelog View</td>\n",
       "      <td>Categories for Time Tracking</td>\n",
       "      <td>Add a Time Tracking Category</td>\n",
       "      <td>from_crawl_spider</td>\n",
       "      <td>NaN</td>\n",
       "      <td>NaN</td>\n",
       "      <td>NaN</td>\n",
       "    </tr>\n",
       "    <tr>\n",
       "      <th>4</th>\n",
       "      <td>Thank you for your feedback Wrike Help portal ...</td>\n",
       "      <td>[Status: Launched! 🚀] Proofing: Guest User/Pro...</td>\n",
       "      <td>https://help.wrike.com/hc/en-us/categories/200...</td>\n",
       "      <td>https://help.wrike.com/hc/en-us/sections/20236...</td>\n",
       "      <td>https://help.wrike.com/hc/en-us/articles/36000...</td>\n",
       "      <td>NaN</td>\n",
       "      <td>Tasks, Folders, Projects and Spaces</td>\n",
       "      <td>Proofing and Approvals</td>\n",
       "      <td>Guest Reviews</td>\n",
       "      <td>NaN</td>\n",
       "      <td>from_crawl_spider</td>\n",
       "      <td>NaN</td>\n",
       "      <td>NaN</td>\n",
       "      <td>NaN</td>\n",
       "    </tr>\n",
       "  </tbody>\n",
       "</table>\n",
       "</div>"
      ],
      "text/plain": [
       "                                         answer_text  \\\n",
       "0  Thank you for your feedback Wrike Help portal ...   \n",
       "1  Thank you for your feedback Wrike Help portal ...   \n",
       "2  Thank you for your feedback Wrike Help portal ...   \n",
       "3  Thank you for your feedback Wrike Help portal ...   \n",
       "4  Thank you for your feedback Wrike Help portal ...   \n",
       "\n",
       "                                           questions  \\\n",
       "0  Can you set the Folder info panel to open by d...   \n",
       "1  Boolean search Hi, when I search for tasks I w...   \n",
       "2  Allow to create the task from slack based on r...   \n",
       "3  Timelog Categories Are we able to customize ca...   \n",
       "4  [Status: Launched! 🚀] Proofing: Guest User/Pro...   \n",
       "\n",
       "                                               url_1  \\\n",
       "0  https://help.wrike.com/hc/en-us/categories/200...   \n",
       "1  https://help.wrike.com/hc/en-us/categories/200...   \n",
       "2  https://help.wrike.com/hc/en-us/categories/200...   \n",
       "3  https://help.wrike.com/hc/en-us/categories/200...   \n",
       "4  https://help.wrike.com/hc/en-us/categories/200...   \n",
       "\n",
       "                                               url_2  \\\n",
       "0  https://help.wrike.com/hc/en-us/sections/20183...   \n",
       "1  https://help.wrike.com/hc/en-us/sections/20189...   \n",
       "2  https://help.wrike.com/hc/en-us/sections/20183...   \n",
       "3  https://help.wrike.com/hc/en-us/sections/20183...   \n",
       "4  https://help.wrike.com/hc/en-us/sections/20236...   \n",
       "\n",
       "                                               url_3  \\\n",
       "0  https://help.wrike.com/hc/en-us/articles/20960...   \n",
       "1  https://help.wrike.com/hc/en-us/articles/20960...   \n",
       "2  https://help.wrike.com/hc/en-us/articles/11500...   \n",
       "3  https://help.wrike.com/hc/en-us/articles/11500...   \n",
       "4  https://help.wrike.com/hc/en-us/articles/36000...   \n",
       "\n",
       "                                               url_4  \\\n",
       "0                                                NaN   \n",
       "1                                                NaN   \n",
       "2                                                NaN   \n",
       "3  https://help.wrike.com/hc/en-us/articles/11500...   \n",
       "4                                                NaN   \n",
       "\n",
       "                             section_1               section_2  \\\n",
       "0  Tasks, Folders, Projects and Spaces    Folders and Projects   \n",
       "1  Tasks, Folders, Projects and Spaces            Organization   \n",
       "2  Tasks, Folders, Projects and Spaces                Advanced   \n",
       "3                           Work Views            Timelog View   \n",
       "4  Tasks, Folders, Projects and Spaces  Proofing and Approvals   \n",
       "\n",
       "                        section_3                     section_4  \\\n",
       "0  Folder and Project Info Panels                           NaN   \n",
       "1                          Search                           NaN   \n",
       "2          External Request Forms                           NaN   \n",
       "3    Categories for Time Tracking  Add a Time Tracking Category   \n",
       "4                   Guest Reviews                           NaN   \n",
       "\n",
       "              source section_text keywords  text_len  \n",
       "0  from_crawl_spider          NaN      NaN       NaN  \n",
       "1  from_crawl_spider          NaN      NaN       NaN  \n",
       "2  from_crawl_spider          NaN      NaN       NaN  \n",
       "3  from_crawl_spider          NaN      NaN       NaN  \n",
       "4  from_crawl_spider          NaN      NaN       NaN  "
      ]
     },
     "execution_count": 80,
     "metadata": {},
     "output_type": "execute_result"
    }
   ],
   "source": [
    "df_all_data.head()"
   ]
  },
  {
   "cell_type": "code",
   "execution_count": 81,
   "metadata": {},
   "outputs": [],
   "source": [
    "df_all_data.to_csv(\"/home/alex/chat_bot_wrike/wrike-bot/all_dataset.csv\")"
   ]
  },
  {
   "cell_type": "code",
   "execution_count": 86,
   "metadata": {},
   "outputs": [
    {
     "data": {
      "text/plain": [
       "from_amir               1272\n",
       "from_alex               1093\n",
       "from_dirty_questions     207\n",
       "from_wrike_org           168\n",
       "from_crawl_spider        168\n",
       "Name: source, dtype: int64"
      ]
     },
     "execution_count": 86,
     "metadata": {},
     "output_type": "execute_result"
    }
   ],
   "source": [
    "df_all_data[\"source\"].value_counts()"
   ]
  },
  {
   "cell_type": "code",
   "execution_count": 82,
   "metadata": {},
   "outputs": [],
   "source": [
    "#d_all_data"
   ]
  },
  {
   "cell_type": "code",
   "execution_count": 83,
   "metadata": {},
   "outputs": [
    {
     "data": {
      "text/plain": [
       "1669"
      ]
     },
     "execution_count": 83,
     "metadata": {},
     "output_type": "execute_result"
    }
   ],
   "source": [
    "len(d_all_data)"
   ]
  },
  {
   "cell_type": "code",
   "execution_count": 84,
   "metadata": {},
   "outputs": [
    {
     "data": {
      "text/plain": [
       "array([['Thank you for your feedback Wrike Help portal Community How To Felix Becker 2 Facebook Twitter LinkedIn Ryan Nelson August 01 2018 20 57 August 01 2018 20 58 Comment actions Stephanie Westbrook August 06 2018 18 53 Stephanie Westbrook Community Team at Wrike Comment actions Boolean search',\n",
       "        'Boolean search Hi, when I search for tasks I was thinking that when I add a lot of search phrases that this will narrow down the results. But it seems...',\n",
       "        'https://help.wrike.com/hc/en-us/categories/200942115-Tasks-Folders-Projects-and-Spaces',\n",
       "        'https://help.wrike.com/hc/en-us/sections/201893045-Organization',\n",
       "        'https://help.wrike.com/hc/en-us/articles/209602909-Search', nan,\n",
       "        'Tasks, Folders, Projects and Spaces', 'Organization', 'Search',\n",
       "        nan, 'from_crawl_spider', nan, nan, nan],\n",
       "       [' hi thanks sharing feedback always interested idea sure find interesting thanks sharing approach deferred task others definitely find helpful interested see others manage information request sure update informationbrandy hey feature give input trying accomplish overall easier give appropriate work around information instance custom workflow ongoing task daily weekly bi weekly monthly quarterly annually needed daily weekly task scheduled since always front center anything farther consider essentially deferred date schedule status actually active state still filter ignore thing within rolling window href http help com hc en article custom status workflow rel nofollow noreferrer http help com hc en article custom status workflow capability require em business em em enterprise em license class ca_string ca_spot feature looking typically task require reach vendor need wait response waiting move task hold set date point want check vendor work around create two widget dashboard active hold periodically check hold task set date reach vendor would nice task automatically move different status set date hit',\n",
       "        'deferred task set become active specified dateset task status deferred way defer task certain date date task change status active',\n",
       "        'https://help.wrike.com/hc/en-us/categories/200942115-Tasks-Folders-Projects-and-Spaces',\n",
       "        'https://help.wrike.com/hc/en-us/sections/201834259-Advanced',\n",
       "        'https://help.wrike.com/hc/en-us/articles/210322785-Custom-Statuses-and-Workflows',\n",
       "        nan, 'Tasks, Folders, Projects and Spaces', 'Advanced',\n",
       "        'Custom Statuses and Workflows', nan, 'from_dirty_questions',\n",
       "        nan, nan, nan],\n",
       "       [nan, ' Hi there! How do I access the workload feature?',\n",
       "        'https://help.wrike.com/hc/en-us/categories/200942135-Monitoring-Panel',\n",
       "        'https://help.wrike.com/hc/en-us/sections/360004618833-Wrike-Resource',\n",
       "        'https://help.wrike.com/hc/en-us/articles/360010835433-Workload-Charts',\n",
       "        nan, 'Monitoring Panel', 'Wrike Resource', 'Workload Charts',\n",
       "        nan, 'from_wrike_org', nan, nan, nan],\n",
       "       [nan, nan,\n",
       "        'https://help.wrike.com/hc/en-us/categories/200942115-Tasks-Folders-Projects-and-Spaces',\n",
       "        'https://help.wrike.com/hc/en-us/sections/201893035-Tasks',\n",
       "        'https://help.wrike.com/hc/en-us/articles/209603709-Tasks',\n",
       "        'https://help.wrike.com/hc/en-us/articles/209603709-Tasks#assign',\n",
       "        'Tasks, Folders, Projects and Spaces', 'Tasks', 'Tasks',\n",
       "        'Assign a Task', 'from_amir',\n",
       "        'Assign a Task\\nChoose the names of people to whom you want to assign a task, using the drop-down menu. Or you can type the first letters of the name, and Wrike will suggest an appropriate list of people. You can assign the task to as many people as you need. If the right name is not in the drop-down menu, you can invite that person to join Wrike and grant him or her a license. Read more about how to invite a user to Wrike.\\nWhen you create a task and assign it to a person, this person receives an automatic email notification. When the start date of the task comes, Wrike will remind the assignee about the task by including it in the interactive, daily to-do email list and by showing the task on his/her Dashboard. If the task is overdue, Wrike also will remind the responsible team member about it. Last, but not least, if somebody changes a task that you created, you will get an email notification about the change. The task changes history is shown in the comments\\xa0under the task description.\\nWhen you assign someone to a task, the task is automatically shared with that person (if it was not shared with them before).\\n',\n",
       "        \"['invite a user to Wrike', 'email notification', 'daily to-do email', 'comments']\",\n",
       "        1128.0],\n",
       "       [nan, nan,\n",
       "        'https://help.wrike.com/hc/en-us/categories/201188645-Getting-Started',\n",
       "        'https://help.wrike.com/hc/en-us/categories/201188645-Getting-Started',\n",
       "        'https://help.wrike.com/hc/en-us/articles/210325165-Step-2-Setting-Up-Your-Workspace',\n",
       "        'https://help.wrike.com/hc/en-us/articles/210325165-Step-2-Setting-Up-Your-Workspace#administration',\n",
       "        'Team Member Guide (for account users)',\n",
       "        'Team Member Guide (for account users)',\n",
       "        'Step 2: Setting Up Your Workspace',\n",
       "        'Basic Account Administration', 'from_alex',\n",
       "        \"Update the account setting that will affect all your team’s workspaces:Upload your company logo for branded workspace and email notificationAdd your country's public holidays to the team’s default Work Schedule\",\n",
       "        nan, nan]], dtype=object)"
      ]
     },
     "execution_count": 84,
     "metadata": {},
     "output_type": "execute_result"
    }
   ],
   "source": [
    "df_all_data.loc[1].values"
   ]
  },
  {
   "cell_type": "code",
   "execution_count": 85,
   "metadata": {},
   "outputs": [
    {
     "data": {
      "text/plain": [
       "527"
      ]
     },
     "execution_count": 85,
     "metadata": {},
     "output_type": "execute_result"
    }
   ],
   "source": [
    "df_all_data.shape[0] - df_all_data.questions.isnull().sum()"
   ]
  },
  {
   "cell_type": "code",
   "execution_count": null,
   "metadata": {},
   "outputs": [],
   "source": []
  }
 ],
 "metadata": {
  "kernelspec": {
   "display_name": "Python [conda env:root] *",
   "language": "python",
   "name": "conda-root-py"
  },
  "language_info": {
   "codemirror_mode": {
    "name": "ipython",
    "version": 3
   },
   "file_extension": ".py",
   "mimetype": "text/x-python",
   "name": "python",
   "nbconvert_exporter": "python",
   "pygments_lexer": "ipython3",
   "version": "3.7.1"
  }
 },
 "nbformat": 4,
 "nbformat_minor": 4
}
